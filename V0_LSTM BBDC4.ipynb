{
 "cells": [
  {
   "cell_type": "code",
   "execution_count": 1,
   "source": [
    "import numpy as np\r\n",
    "import pandas_datareader as web\r\n",
    "import pandas as pd\r\n",
    "import seaborn as sns\r\n",
    "import matplotlib.pyplot as plt\r\n",
    "import math\r\n",
    "from matplotlib.pyplot import figure\r\n",
    "from sklearn.preprocessing import MinMaxScaler, StandardScaler\r\n",
    "from sklearn.metrics import mean_squared_error\r\n",
    "from sklearn.metrics import r2_score\r\n",
    "from tensorflow import keras \r\n",
    "# from keras.models import Sequential\r\n",
    "# from keras.layers import Dense\r\n",
    "# from keras.layers import LSTM\r\n",
    "# from keras.layers import Dropout\r\n"
   ],
   "outputs": [],
   "metadata": {
    "id": "WXZs1haGNdYv"
   }
  },
  {
   "cell_type": "code",
   "execution_count": 2,
   "source": [
    "Sequential = keras.models.Sequential\r\n",
    "Dense = keras.layers.Dense\r\n",
    "LSTM = keras.layers.LSTM\r\n",
    "Dropout = keras.layers.Dropout"
   ],
   "outputs": [],
   "metadata": {}
  },
  {
   "cell_type": "code",
   "execution_count": 3,
   "source": [
    "df = web.DataReader(\"BBDC4.SA\", data_source=\"yahoo\", start=\"2015-01-01\", end=\"2019-12-31\")\r\n",
    "df"
   ],
   "outputs": [
    {
     "output_type": "execute_result",
     "data": {
      "text/plain": [
       "                 High        Low       Open      Close      Volume  Adj Close\n",
       "Date                                                                         \n",
       "2015-01-02  16.833435  16.188368  16.482443  16.269001  16646325.0  12.181644\n",
       "2015-01-05  16.491928  15.799429  15.989155  16.292715  16428748.0  12.206099\n",
       "2015-01-06  16.828691  16.193110  16.321175  16.828691  21831909.0  12.607638\n",
       "2015-01-07  17.691944  16.895096  17.046877  17.497477  23002650.0  13.108670\n",
       "2015-01-08  17.744120  17.217630  17.549650  17.587597  12495706.0  13.176188\n",
       "...               ...        ...        ...        ...         ...        ...\n",
       "2019-12-20  32.663635  32.236362  32.572727  32.445454  24617120.0  30.705662\n",
       "2019-12-23  32.654545  32.254543  32.445454  32.645454  11294690.0  30.894934\n",
       "2019-12-26  33.172726  32.563637  32.663635  33.054546  11498850.0  31.282085\n",
       "2019-12-27  33.318180  32.818180  33.181816  32.927273  11444400.0  31.161634\n",
       "2019-12-30  33.172726  32.690910  33.054546  32.881817   8201050.0  31.118622\n",
       "\n",
       "[1241 rows x 6 columns]"
      ],
      "text/html": [
       "<div>\n",
       "<style scoped>\n",
       "    .dataframe tbody tr th:only-of-type {\n",
       "        vertical-align: middle;\n",
       "    }\n",
       "\n",
       "    .dataframe tbody tr th {\n",
       "        vertical-align: top;\n",
       "    }\n",
       "\n",
       "    .dataframe thead th {\n",
       "        text-align: right;\n",
       "    }\n",
       "</style>\n",
       "<table border=\"1\" class=\"dataframe\">\n",
       "  <thead>\n",
       "    <tr style=\"text-align: right;\">\n",
       "      <th></th>\n",
       "      <th>High</th>\n",
       "      <th>Low</th>\n",
       "      <th>Open</th>\n",
       "      <th>Close</th>\n",
       "      <th>Volume</th>\n",
       "      <th>Adj Close</th>\n",
       "    </tr>\n",
       "    <tr>\n",
       "      <th>Date</th>\n",
       "      <th></th>\n",
       "      <th></th>\n",
       "      <th></th>\n",
       "      <th></th>\n",
       "      <th></th>\n",
       "      <th></th>\n",
       "    </tr>\n",
       "  </thead>\n",
       "  <tbody>\n",
       "    <tr>\n",
       "      <th>2015-01-02</th>\n",
       "      <td>16.833435</td>\n",
       "      <td>16.188368</td>\n",
       "      <td>16.482443</td>\n",
       "      <td>16.269001</td>\n",
       "      <td>16646325.0</td>\n",
       "      <td>12.181644</td>\n",
       "    </tr>\n",
       "    <tr>\n",
       "      <th>2015-01-05</th>\n",
       "      <td>16.491928</td>\n",
       "      <td>15.799429</td>\n",
       "      <td>15.989155</td>\n",
       "      <td>16.292715</td>\n",
       "      <td>16428748.0</td>\n",
       "      <td>12.206099</td>\n",
       "    </tr>\n",
       "    <tr>\n",
       "      <th>2015-01-06</th>\n",
       "      <td>16.828691</td>\n",
       "      <td>16.193110</td>\n",
       "      <td>16.321175</td>\n",
       "      <td>16.828691</td>\n",
       "      <td>21831909.0</td>\n",
       "      <td>12.607638</td>\n",
       "    </tr>\n",
       "    <tr>\n",
       "      <th>2015-01-07</th>\n",
       "      <td>17.691944</td>\n",
       "      <td>16.895096</td>\n",
       "      <td>17.046877</td>\n",
       "      <td>17.497477</td>\n",
       "      <td>23002650.0</td>\n",
       "      <td>13.108670</td>\n",
       "    </tr>\n",
       "    <tr>\n",
       "      <th>2015-01-08</th>\n",
       "      <td>17.744120</td>\n",
       "      <td>17.217630</td>\n",
       "      <td>17.549650</td>\n",
       "      <td>17.587597</td>\n",
       "      <td>12495706.0</td>\n",
       "      <td>13.176188</td>\n",
       "    </tr>\n",
       "    <tr>\n",
       "      <th>...</th>\n",
       "      <td>...</td>\n",
       "      <td>...</td>\n",
       "      <td>...</td>\n",
       "      <td>...</td>\n",
       "      <td>...</td>\n",
       "      <td>...</td>\n",
       "    </tr>\n",
       "    <tr>\n",
       "      <th>2019-12-20</th>\n",
       "      <td>32.663635</td>\n",
       "      <td>32.236362</td>\n",
       "      <td>32.572727</td>\n",
       "      <td>32.445454</td>\n",
       "      <td>24617120.0</td>\n",
       "      <td>30.705662</td>\n",
       "    </tr>\n",
       "    <tr>\n",
       "      <th>2019-12-23</th>\n",
       "      <td>32.654545</td>\n",
       "      <td>32.254543</td>\n",
       "      <td>32.445454</td>\n",
       "      <td>32.645454</td>\n",
       "      <td>11294690.0</td>\n",
       "      <td>30.894934</td>\n",
       "    </tr>\n",
       "    <tr>\n",
       "      <th>2019-12-26</th>\n",
       "      <td>33.172726</td>\n",
       "      <td>32.563637</td>\n",
       "      <td>32.663635</td>\n",
       "      <td>33.054546</td>\n",
       "      <td>11498850.0</td>\n",
       "      <td>31.282085</td>\n",
       "    </tr>\n",
       "    <tr>\n",
       "      <th>2019-12-27</th>\n",
       "      <td>33.318180</td>\n",
       "      <td>32.818180</td>\n",
       "      <td>33.181816</td>\n",
       "      <td>32.927273</td>\n",
       "      <td>11444400.0</td>\n",
       "      <td>31.161634</td>\n",
       "    </tr>\n",
       "    <tr>\n",
       "      <th>2019-12-30</th>\n",
       "      <td>33.172726</td>\n",
       "      <td>32.690910</td>\n",
       "      <td>33.054546</td>\n",
       "      <td>32.881817</td>\n",
       "      <td>8201050.0</td>\n",
       "      <td>31.118622</td>\n",
       "    </tr>\n",
       "  </tbody>\n",
       "</table>\n",
       "<p>1241 rows × 6 columns</p>\n",
       "</div>"
      ]
     },
     "metadata": {},
     "execution_count": 3
    }
   ],
   "metadata": {
    "colab": {
     "base_uri": "https://localhost:8080/",
     "height": 455
    },
    "id": "ZLE4oRySNhEC",
    "outputId": "c43e9a74-043b-4b03-d1f6-e1f14cf45aac"
   }
  },
  {
   "cell_type": "code",
   "execution_count": 4,
   "source": [
    "df.shape"
   ],
   "outputs": [
    {
     "output_type": "execute_result",
     "data": {
      "text/plain": [
       "(1241, 6)"
      ]
     },
     "metadata": {},
     "execution_count": 4
    }
   ],
   "metadata": {
    "colab": {
     "base_uri": "https://localhost:8080/"
    },
    "id": "U0BBIen7Njpc",
    "outputId": "40f52750-b211-4ffa-dafc-5973e971e4a6"
   }
  },
  {
   "cell_type": "code",
   "execution_count": 5,
   "source": [
    "df_bovespa = web.DataReader(\"^BVSP\", data_source=\"yahoo\", start=\"2015-01-01\", end=\"2019-12-31\")\r\n",
    "# df_bovespa.reset_index(inplace=True,drop=False)\r\n",
    "df_bovespa"
   ],
   "outputs": [
    {
     "output_type": "execute_result",
     "data": {
      "text/plain": [
       "                High       Low      Open     Close     Volume  Adj Close\n",
       "Date                                                                    \n",
       "2015-01-02   50005.0   48345.0   50005.0   48512.0  2882100.0    48512.0\n",
       "2015-01-05   48512.0   47264.0   48512.0   47517.0  3866100.0    47517.0\n",
       "2015-01-06   48061.0   47338.0   47517.0   48001.0  4559300.0    48001.0\n",
       "2015-01-07   49882.0   48006.0   48006.0   49463.0  4408800.0    49463.0\n",
       "2015-01-08   50261.0   49017.0   49463.0   49943.0  3621900.0    49943.0\n",
       "...              ...       ...       ...       ...        ...        ...\n",
       "2019-12-20  115171.0  114526.0  115133.0  115121.0  6887400.0   115121.0\n",
       "2019-12-23  115863.0  114964.0  115119.0  115863.0  3995200.0   115863.0\n",
       "2019-12-26  117220.0  115673.0  115864.0  117203.0  3788900.0   117203.0\n",
       "2019-12-27  117803.0  115995.0  117205.0  116534.0  3905900.0   116534.0\n",
       "2019-12-30  117086.0  115790.0  116530.0  115964.0  3667900.0   115964.0\n",
       "\n",
       "[1235 rows x 6 columns]"
      ],
      "text/html": [
       "<div>\n",
       "<style scoped>\n",
       "    .dataframe tbody tr th:only-of-type {\n",
       "        vertical-align: middle;\n",
       "    }\n",
       "\n",
       "    .dataframe tbody tr th {\n",
       "        vertical-align: top;\n",
       "    }\n",
       "\n",
       "    .dataframe thead th {\n",
       "        text-align: right;\n",
       "    }\n",
       "</style>\n",
       "<table border=\"1\" class=\"dataframe\">\n",
       "  <thead>\n",
       "    <tr style=\"text-align: right;\">\n",
       "      <th></th>\n",
       "      <th>High</th>\n",
       "      <th>Low</th>\n",
       "      <th>Open</th>\n",
       "      <th>Close</th>\n",
       "      <th>Volume</th>\n",
       "      <th>Adj Close</th>\n",
       "    </tr>\n",
       "    <tr>\n",
       "      <th>Date</th>\n",
       "      <th></th>\n",
       "      <th></th>\n",
       "      <th></th>\n",
       "      <th></th>\n",
       "      <th></th>\n",
       "      <th></th>\n",
       "    </tr>\n",
       "  </thead>\n",
       "  <tbody>\n",
       "    <tr>\n",
       "      <th>2015-01-02</th>\n",
       "      <td>50005.0</td>\n",
       "      <td>48345.0</td>\n",
       "      <td>50005.0</td>\n",
       "      <td>48512.0</td>\n",
       "      <td>2882100.0</td>\n",
       "      <td>48512.0</td>\n",
       "    </tr>\n",
       "    <tr>\n",
       "      <th>2015-01-05</th>\n",
       "      <td>48512.0</td>\n",
       "      <td>47264.0</td>\n",
       "      <td>48512.0</td>\n",
       "      <td>47517.0</td>\n",
       "      <td>3866100.0</td>\n",
       "      <td>47517.0</td>\n",
       "    </tr>\n",
       "    <tr>\n",
       "      <th>2015-01-06</th>\n",
       "      <td>48061.0</td>\n",
       "      <td>47338.0</td>\n",
       "      <td>47517.0</td>\n",
       "      <td>48001.0</td>\n",
       "      <td>4559300.0</td>\n",
       "      <td>48001.0</td>\n",
       "    </tr>\n",
       "    <tr>\n",
       "      <th>2015-01-07</th>\n",
       "      <td>49882.0</td>\n",
       "      <td>48006.0</td>\n",
       "      <td>48006.0</td>\n",
       "      <td>49463.0</td>\n",
       "      <td>4408800.0</td>\n",
       "      <td>49463.0</td>\n",
       "    </tr>\n",
       "    <tr>\n",
       "      <th>2015-01-08</th>\n",
       "      <td>50261.0</td>\n",
       "      <td>49017.0</td>\n",
       "      <td>49463.0</td>\n",
       "      <td>49943.0</td>\n",
       "      <td>3621900.0</td>\n",
       "      <td>49943.0</td>\n",
       "    </tr>\n",
       "    <tr>\n",
       "      <th>...</th>\n",
       "      <td>...</td>\n",
       "      <td>...</td>\n",
       "      <td>...</td>\n",
       "      <td>...</td>\n",
       "      <td>...</td>\n",
       "      <td>...</td>\n",
       "    </tr>\n",
       "    <tr>\n",
       "      <th>2019-12-20</th>\n",
       "      <td>115171.0</td>\n",
       "      <td>114526.0</td>\n",
       "      <td>115133.0</td>\n",
       "      <td>115121.0</td>\n",
       "      <td>6887400.0</td>\n",
       "      <td>115121.0</td>\n",
       "    </tr>\n",
       "    <tr>\n",
       "      <th>2019-12-23</th>\n",
       "      <td>115863.0</td>\n",
       "      <td>114964.0</td>\n",
       "      <td>115119.0</td>\n",
       "      <td>115863.0</td>\n",
       "      <td>3995200.0</td>\n",
       "      <td>115863.0</td>\n",
       "    </tr>\n",
       "    <tr>\n",
       "      <th>2019-12-26</th>\n",
       "      <td>117220.0</td>\n",
       "      <td>115673.0</td>\n",
       "      <td>115864.0</td>\n",
       "      <td>117203.0</td>\n",
       "      <td>3788900.0</td>\n",
       "      <td>117203.0</td>\n",
       "    </tr>\n",
       "    <tr>\n",
       "      <th>2019-12-27</th>\n",
       "      <td>117803.0</td>\n",
       "      <td>115995.0</td>\n",
       "      <td>117205.0</td>\n",
       "      <td>116534.0</td>\n",
       "      <td>3905900.0</td>\n",
       "      <td>116534.0</td>\n",
       "    </tr>\n",
       "    <tr>\n",
       "      <th>2019-12-30</th>\n",
       "      <td>117086.0</td>\n",
       "      <td>115790.0</td>\n",
       "      <td>116530.0</td>\n",
       "      <td>115964.0</td>\n",
       "      <td>3667900.0</td>\n",
       "      <td>115964.0</td>\n",
       "    </tr>\n",
       "  </tbody>\n",
       "</table>\n",
       "<p>1235 rows × 6 columns</p>\n",
       "</div>"
      ]
     },
     "metadata": {},
     "execution_count": 5
    }
   ],
   "metadata": {
    "colab": {
     "base_uri": "https://localhost:8080/",
     "height": 455
    },
    "id": "K8wtyI6KNbcU",
    "outputId": "fbd0803c-1268-49a1-eb58-f65fc832a9f5"
   }
  },
  {
   "cell_type": "code",
   "execution_count": 6,
   "source": [
    "df_bovespa.shape"
   ],
   "outputs": [
    {
     "output_type": "execute_result",
     "data": {
      "text/plain": [
       "(1235, 6)"
      ]
     },
     "metadata": {},
     "execution_count": 6
    }
   ],
   "metadata": {
    "colab": {
     "base_uri": "https://localhost:8080/"
    },
    "id": "EZid73x9Nl_w",
    "outputId": "a1781db4-3d1b-497c-8bde-53e67282d037"
   }
  },
  {
   "cell_type": "code",
   "execution_count": 7,
   "source": [
    "df = df.merge(df_bovespa, left_on='Date', right_on='Date', suffixes=('', '_bovespa'))\r\n",
    "df.describe()"
   ],
   "outputs": [
    {
     "output_type": "execute_result",
     "data": {
      "text/plain": [
       "              High          Low         Open        Close        Volume  \\\n",
       "count  1235.000000  1235.000000  1235.000000  1235.000000  1.235000e+03   \n",
       "mean     22.158142    21.585978    21.885802    21.888026  1.827563e+07   \n",
       "std       6.636685     6.516990     6.588668     6.586653  8.797424e+06   \n",
       "min       9.858160     9.636181     9.687407     9.681715  0.000000e+00   \n",
       "25%      17.130830    16.574933    16.846336    16.821578  1.252091e+07   \n",
       "50%      20.711245    20.247932    20.510895    20.488979  1.676645e+07   \n",
       "75%      27.056474    26.388085    26.825068    26.773416  2.210809e+07   \n",
       "max      36.309090    35.472729    36.000000    35.827271  8.762744e+07   \n",
       "\n",
       "         Adj Close   High_bovespa    Low_bovespa   Open_bovespa  \\\n",
       "count  1235.000000    1235.000000    1235.000000    1235.000000   \n",
       "mean     18.436567   71258.726316   69996.229960   70605.106883   \n",
       "std       6.482696   19634.810008   19447.130086   19532.433000   \n",
       "min       7.666900   38031.000000   37046.000000   37501.000000   \n",
       "25%      12.956546   53498.500000   52677.000000   53087.500000   \n",
       "50%      17.113239   66758.000000   65842.000000   66195.000000   \n",
       "75%      23.004204   86157.000000   84582.500000   85515.000000   \n",
       "max      31.879570  117803.000000  115995.000000  117205.000000   \n",
       "\n",
       "       Close_bovespa  Volume_bovespa  Adj Close_bovespa  \n",
       "count    1235.000000    1.235000e+03        1235.000000  \n",
       "mean    70656.285020    3.794215e+06       70656.285020  \n",
       "std     19564.626768    1.203582e+06       19564.626768  \n",
       "min     37497.000000    0.000000e+00       37497.000000  \n",
       "25%     53094.500000    3.078600e+06       53094.500000  \n",
       "50%     66235.000000    3.658900e+06       66235.000000  \n",
       "75%     85539.000000    4.389100e+06       85539.000000  \n",
       "max    117203.000000    1.104670e+07      117203.000000  "
      ],
      "text/html": [
       "<div>\n",
       "<style scoped>\n",
       "    .dataframe tbody tr th:only-of-type {\n",
       "        vertical-align: middle;\n",
       "    }\n",
       "\n",
       "    .dataframe tbody tr th {\n",
       "        vertical-align: top;\n",
       "    }\n",
       "\n",
       "    .dataframe thead th {\n",
       "        text-align: right;\n",
       "    }\n",
       "</style>\n",
       "<table border=\"1\" class=\"dataframe\">\n",
       "  <thead>\n",
       "    <tr style=\"text-align: right;\">\n",
       "      <th></th>\n",
       "      <th>High</th>\n",
       "      <th>Low</th>\n",
       "      <th>Open</th>\n",
       "      <th>Close</th>\n",
       "      <th>Volume</th>\n",
       "      <th>Adj Close</th>\n",
       "      <th>High_bovespa</th>\n",
       "      <th>Low_bovespa</th>\n",
       "      <th>Open_bovespa</th>\n",
       "      <th>Close_bovespa</th>\n",
       "      <th>Volume_bovespa</th>\n",
       "      <th>Adj Close_bovespa</th>\n",
       "    </tr>\n",
       "  </thead>\n",
       "  <tbody>\n",
       "    <tr>\n",
       "      <th>count</th>\n",
       "      <td>1235.000000</td>\n",
       "      <td>1235.000000</td>\n",
       "      <td>1235.000000</td>\n",
       "      <td>1235.000000</td>\n",
       "      <td>1.235000e+03</td>\n",
       "      <td>1235.000000</td>\n",
       "      <td>1235.000000</td>\n",
       "      <td>1235.000000</td>\n",
       "      <td>1235.000000</td>\n",
       "      <td>1235.000000</td>\n",
       "      <td>1.235000e+03</td>\n",
       "      <td>1235.000000</td>\n",
       "    </tr>\n",
       "    <tr>\n",
       "      <th>mean</th>\n",
       "      <td>22.158142</td>\n",
       "      <td>21.585978</td>\n",
       "      <td>21.885802</td>\n",
       "      <td>21.888026</td>\n",
       "      <td>1.827563e+07</td>\n",
       "      <td>18.436567</td>\n",
       "      <td>71258.726316</td>\n",
       "      <td>69996.229960</td>\n",
       "      <td>70605.106883</td>\n",
       "      <td>70656.285020</td>\n",
       "      <td>3.794215e+06</td>\n",
       "      <td>70656.285020</td>\n",
       "    </tr>\n",
       "    <tr>\n",
       "      <th>std</th>\n",
       "      <td>6.636685</td>\n",
       "      <td>6.516990</td>\n",
       "      <td>6.588668</td>\n",
       "      <td>6.586653</td>\n",
       "      <td>8.797424e+06</td>\n",
       "      <td>6.482696</td>\n",
       "      <td>19634.810008</td>\n",
       "      <td>19447.130086</td>\n",
       "      <td>19532.433000</td>\n",
       "      <td>19564.626768</td>\n",
       "      <td>1.203582e+06</td>\n",
       "      <td>19564.626768</td>\n",
       "    </tr>\n",
       "    <tr>\n",
       "      <th>min</th>\n",
       "      <td>9.858160</td>\n",
       "      <td>9.636181</td>\n",
       "      <td>9.687407</td>\n",
       "      <td>9.681715</td>\n",
       "      <td>0.000000e+00</td>\n",
       "      <td>7.666900</td>\n",
       "      <td>38031.000000</td>\n",
       "      <td>37046.000000</td>\n",
       "      <td>37501.000000</td>\n",
       "      <td>37497.000000</td>\n",
       "      <td>0.000000e+00</td>\n",
       "      <td>37497.000000</td>\n",
       "    </tr>\n",
       "    <tr>\n",
       "      <th>25%</th>\n",
       "      <td>17.130830</td>\n",
       "      <td>16.574933</td>\n",
       "      <td>16.846336</td>\n",
       "      <td>16.821578</td>\n",
       "      <td>1.252091e+07</td>\n",
       "      <td>12.956546</td>\n",
       "      <td>53498.500000</td>\n",
       "      <td>52677.000000</td>\n",
       "      <td>53087.500000</td>\n",
       "      <td>53094.500000</td>\n",
       "      <td>3.078600e+06</td>\n",
       "      <td>53094.500000</td>\n",
       "    </tr>\n",
       "    <tr>\n",
       "      <th>50%</th>\n",
       "      <td>20.711245</td>\n",
       "      <td>20.247932</td>\n",
       "      <td>20.510895</td>\n",
       "      <td>20.488979</td>\n",
       "      <td>1.676645e+07</td>\n",
       "      <td>17.113239</td>\n",
       "      <td>66758.000000</td>\n",
       "      <td>65842.000000</td>\n",
       "      <td>66195.000000</td>\n",
       "      <td>66235.000000</td>\n",
       "      <td>3.658900e+06</td>\n",
       "      <td>66235.000000</td>\n",
       "    </tr>\n",
       "    <tr>\n",
       "      <th>75%</th>\n",
       "      <td>27.056474</td>\n",
       "      <td>26.388085</td>\n",
       "      <td>26.825068</td>\n",
       "      <td>26.773416</td>\n",
       "      <td>2.210809e+07</td>\n",
       "      <td>23.004204</td>\n",
       "      <td>86157.000000</td>\n",
       "      <td>84582.500000</td>\n",
       "      <td>85515.000000</td>\n",
       "      <td>85539.000000</td>\n",
       "      <td>4.389100e+06</td>\n",
       "      <td>85539.000000</td>\n",
       "    </tr>\n",
       "    <tr>\n",
       "      <th>max</th>\n",
       "      <td>36.309090</td>\n",
       "      <td>35.472729</td>\n",
       "      <td>36.000000</td>\n",
       "      <td>35.827271</td>\n",
       "      <td>8.762744e+07</td>\n",
       "      <td>31.879570</td>\n",
       "      <td>117803.000000</td>\n",
       "      <td>115995.000000</td>\n",
       "      <td>117205.000000</td>\n",
       "      <td>117203.000000</td>\n",
       "      <td>1.104670e+07</td>\n",
       "      <td>117203.000000</td>\n",
       "    </tr>\n",
       "  </tbody>\n",
       "</table>\n",
       "</div>"
      ]
     },
     "metadata": {},
     "execution_count": 7
    }
   ],
   "metadata": {
    "colab": {
     "base_uri": "https://localhost:8080/",
     "height": 338
    },
    "id": "n8LZIcI-QKBh",
    "outputId": "01288265-2104-4026-be9d-3d53283db9cf"
   }
  },
  {
   "cell_type": "code",
   "execution_count": 8,
   "source": [
    "data = df.filter([\"Close\"])\r\n",
    "dataset = data.values\r\n",
    "training_data_len = math.ceil(len(dataset) * .7)\r\n",
    "training_data_len\r\n",
    "dataset.shape"
   ],
   "outputs": [
    {
     "output_type": "execute_result",
     "data": {
      "text/plain": [
       "(1235, 1)"
      ]
     },
     "metadata": {},
     "execution_count": 8
    }
   ],
   "metadata": {
    "colab": {
     "base_uri": "https://localhost:8080/"
    },
    "id": "0zLbypzWtzci",
    "outputId": "73b04d20-c980-4d55-cf5c-412eb923c8c4"
   }
  },
  {
   "cell_type": "code",
   "execution_count": 9,
   "source": [
    "sc = MinMaxScaler(feature_range = (0, 1))\r\n",
    "scaled_data = sc.fit_transform(dataset)"
   ],
   "outputs": [],
   "metadata": {
    "id": "TAqmEmtyuB16"
   }
  },
  {
   "cell_type": "code",
   "execution_count": 10,
   "source": [
    "scaled_data"
   ],
   "outputs": [
    {
     "output_type": "execute_result",
     "data": {
      "text/plain": [
       "array([[0.25194668],\n",
       "       [0.25285369],\n",
       "       [0.2733534 ],\n",
       "       ...,\n",
       "       [0.89395046],\n",
       "       [0.88908257],\n",
       "       [0.887344  ]])"
      ]
     },
     "metadata": {},
     "execution_count": 10
    }
   ],
   "metadata": {
    "colab": {
     "base_uri": "https://localhost:8080/"
    },
    "id": "1xCbxaHWuJFU",
    "outputId": "b403b055-16d9-4cf5-df3c-2d7a17e579ab"
   }
  },
  {
   "cell_type": "code",
   "execution_count": 11,
   "source": [
    "train_data = scaled_data[0:training_data_len,:]\r\n",
    "# print(train_data)\r\n",
    "window = 60\r\n",
    "X_train = []\r\n",
    "y_train = []\r\n",
    "for i in range(window, len(train_data)):\r\n",
    "    X_train.append(train_data[i-window:i,:])\r\n",
    "    y_train.append(train_data[i, 0:1])\r\n",
    "    # if i <= (window + 1):\r\n",
    "    #   print(X_train)\r\n",
    "    #   print(y_train)\r\n",
    "    #   print()\r\n",
    "X_train, y_train = np.array(X_train), np.array(y_train)"
   ],
   "outputs": [],
   "metadata": {
    "id": "dv_rZkU1uqlc"
   }
  },
  {
   "cell_type": "code",
   "execution_count": 12,
   "source": [
    "X_train.shape"
   ],
   "outputs": [
    {
     "output_type": "execute_result",
     "data": {
      "text/plain": [
       "(805, 60, 1)"
      ]
     },
     "metadata": {},
     "execution_count": 12
    }
   ],
   "metadata": {
    "colab": {
     "base_uri": "https://localhost:8080/"
    },
    "id": "AqkMLK-4uxzK",
    "outputId": "4cf68abf-5589-4057-9bf5-8e49efc91cce"
   }
  },
  {
   "cell_type": "code",
   "execution_count": 13,
   "source": [
    "X_train = np.reshape(X_train, (X_train.shape[0], X_train.shape[1], -1))"
   ],
   "outputs": [],
   "metadata": {
    "id": "jJ0aXnzAuy1C"
   }
  },
  {
   "cell_type": "code",
   "execution_count": 14,
   "source": [
    "X_train.shape"
   ],
   "outputs": [
    {
     "output_type": "execute_result",
     "data": {
      "text/plain": [
       "(805, 60, 1)"
      ]
     },
     "metadata": {},
     "execution_count": 14
    }
   ],
   "metadata": {
    "colab": {
     "base_uri": "https://localhost:8080/"
    },
    "id": "q03yzNLlu2on",
    "outputId": "d4d1d3cb-c876-4539-aee5-8b26dd6910bd"
   }
  },
  {
   "cell_type": "code",
   "execution_count": 15,
   "source": [
    "# Inicializar a RNN\r\n",
    "regressor = Sequential()\r\n",
    "\r\n",
    "# Adicionar a primeira camada LSTM e Dropout \r\n",
    "regressor.add(LSTM(units = 100, return_sequences = True, input_shape = (X_train.shape[1], X_train.shape[2])))\r\n",
    "regressor.add(Dropout(0.2))\r\n",
    " \r\n",
    "# Adicionar a segunda camada LSTM e Dropout\r\n",
    "regressor.add(LSTM(units = 80, return_sequences = True))\r\n",
    "regressor.add(Dropout(0.2))\r\n",
    " \r\n",
    "# Adicionar a terceira camada LSTM e Dropout\r\n",
    "regressor.add(LSTM(units = 50))\r\n",
    "regressor.add(Dropout(0.2))\r\n",
    " \r\n",
    "# camada de saída\r\n",
    "regressor.add(Dense(units = 1))\r\n",
    " \r\n",
    "# Compilar a rede\r\n",
    "regressor.compile(optimizer = 'adam', loss = 'mean_squared_error')\r\n",
    "\r\n",
    "# Visualizar a rede\r\n",
    "regressor.summary()"
   ],
   "outputs": [
    {
     "output_type": "stream",
     "name": "stdout",
     "text": [
      "Model: \"sequential\"\n",
      "_________________________________________________________________\n",
      "Layer (type)                 Output Shape              Param #   \n",
      "=================================================================\n",
      "lstm (LSTM)                  (None, 60, 100)           40800     \n",
      "_________________________________________________________________\n",
      "dropout (Dropout)            (None, 60, 100)           0         \n",
      "_________________________________________________________________\n",
      "lstm_1 (LSTM)                (None, 60, 80)            57920     \n",
      "_________________________________________________________________\n",
      "dropout_1 (Dropout)          (None, 60, 80)            0         \n",
      "_________________________________________________________________\n",
      "lstm_2 (LSTM)                (None, 50)                26200     \n",
      "_________________________________________________________________\n",
      "dropout_2 (Dropout)          (None, 50)                0         \n",
      "_________________________________________________________________\n",
      "dense (Dense)                (None, 1)                 51        \n",
      "=================================================================\n",
      "Total params: 124,971\n",
      "Trainable params: 124,971\n",
      "Non-trainable params: 0\n",
      "_________________________________________________________________\n"
     ]
    }
   ],
   "metadata": {
    "colab": {
     "base_uri": "https://localhost:8080/"
    },
    "id": "RkUoLngeu6aj",
    "outputId": "37c71118-6fa9-4a1a-d670-b194825f9fc8"
   }
  },
  {
   "cell_type": "code",
   "execution_count": 16,
   "source": [
    "history = regressor.fit(X_train, y_train, epochs = 50, batch_size = 64)"
   ],
   "outputs": [
    {
     "output_type": "stream",
     "name": "stdout",
     "text": [
      "Epoch 1/50\n",
      "13/13 [==============================] - 2s 172ms/step - loss: 0.0380\n",
      "Epoch 2/50\n",
      "13/13 [==============================] - 2s 146ms/step - loss: 0.0076\n",
      "Epoch 3/50\n",
      "13/13 [==============================] - 2s 148ms/step - loss: 0.0045\n",
      "Epoch 4/50\n",
      "13/13 [==============================] - 2s 145ms/step - loss: 0.0033\n",
      "Epoch 5/50\n",
      "13/13 [==============================] - 2s 151ms/step - loss: 0.0029\n",
      "Epoch 6/50\n",
      "13/13 [==============================] - 2s 149ms/step - loss: 0.0027\n",
      "Epoch 7/50\n",
      "13/13 [==============================] - 2s 148ms/step - loss: 0.0024\n",
      "Epoch 8/50\n",
      "13/13 [==============================] - 2s 149ms/step - loss: 0.0026\n",
      "Epoch 9/50\n",
      "13/13 [==============================] - 2s 148ms/step - loss: 0.0028\n",
      "Epoch 10/50\n",
      "13/13 [==============================] - 2s 149ms/step - loss: 0.0025\n",
      "Epoch 11/50\n",
      "13/13 [==============================] - 2s 146ms/step - loss: 0.0024\n",
      "Epoch 12/50\n",
      "13/13 [==============================] - 2s 151ms/step - loss: 0.0022\n",
      "Epoch 13/50\n",
      "13/13 [==============================] - 2s 148ms/step - loss: 0.0024\n",
      "Epoch 14/50\n",
      "13/13 [==============================] - 2s 151ms/step - loss: 0.0021\n",
      "Epoch 15/50\n",
      "13/13 [==============================] - 2s 149ms/step - loss: 0.0021\n",
      "Epoch 16/50\n",
      "13/13 [==============================] - 2s 147ms/step - loss: 0.0021\n",
      "Epoch 17/50\n",
      "13/13 [==============================] - 2s 150ms/step - loss: 0.0020\n",
      "Epoch 18/50\n",
      "13/13 [==============================] - 2s 148ms/step - loss: 0.0021\n",
      "Epoch 19/50\n",
      "13/13 [==============================] - 2s 150ms/step - loss: 0.0021\n",
      "Epoch 20/50\n",
      "13/13 [==============================] - 2s 154ms/step - loss: 0.0022\n",
      "Epoch 21/50\n",
      "13/13 [==============================] - 2s 149ms/step - loss: 0.0019\n",
      "Epoch 22/50\n",
      "13/13 [==============================] - 2s 158ms/step - loss: 0.0021\n",
      "Epoch 23/50\n",
      "13/13 [==============================] - 2s 146ms/step - loss: 0.0020\n",
      "Epoch 24/50\n",
      "13/13 [==============================] - 2s 158ms/step - loss: 0.0023\n",
      "Epoch 25/50\n",
      "13/13 [==============================] - 2s 155ms/step - loss: 0.0021\n",
      "Epoch 26/50\n",
      "13/13 [==============================] - 2s 146ms/step - loss: 0.0020\n",
      "Epoch 27/50\n",
      "13/13 [==============================] - 2s 146ms/step - loss: 0.0019\n",
      "Epoch 28/50\n",
      "13/13 [==============================] - 2s 157ms/step - loss: 0.0020\n",
      "Epoch 29/50\n",
      "13/13 [==============================] - 2s 156ms/step - loss: 0.0019\n",
      "Epoch 30/50\n",
      "13/13 [==============================] - 2s 155ms/step - loss: 0.0017\n",
      "Epoch 31/50\n",
      "13/13 [==============================] - 2s 153ms/step - loss: 0.0020\n",
      "Epoch 32/50\n",
      "13/13 [==============================] - 2s 157ms/step - loss: 0.0020\n",
      "Epoch 33/50\n",
      "13/13 [==============================] - 2s 156ms/step - loss: 0.0018\n",
      "Epoch 34/50\n",
      "13/13 [==============================] - 2s 159ms/step - loss: 0.0018\n",
      "Epoch 35/50\n",
      "13/13 [==============================] - 2s 149ms/step - loss: 0.0018\n",
      "Epoch 36/50\n",
      "13/13 [==============================] - 2s 162ms/step - loss: 0.0019\n",
      "Epoch 37/50\n",
      "13/13 [==============================] - 2s 159ms/step - loss: 0.0020\n",
      "Epoch 38/50\n",
      "13/13 [==============================] - 2s 157ms/step - loss: 0.0019\n",
      "Epoch 39/50\n",
      "13/13 [==============================] - 2s 171ms/step - loss: 0.0018\n",
      "Epoch 40/50\n",
      "13/13 [==============================] - 2s 169ms/step - loss: 0.0017\n",
      "Epoch 41/50\n",
      "13/13 [==============================] - 2s 168ms/step - loss: 0.0019\n",
      "Epoch 42/50\n",
      "13/13 [==============================] - 2s 159ms/step - loss: 0.0016\n",
      "Epoch 43/50\n",
      "13/13 [==============================] - 2s 164ms/step - loss: 0.0018\n",
      "Epoch 44/50\n",
      "13/13 [==============================] - 2s 156ms/step - loss: 0.0018\n",
      "Epoch 45/50\n",
      "13/13 [==============================] - 2s 155ms/step - loss: 0.0015\n",
      "Epoch 46/50\n",
      "13/13 [==============================] - 2s 154ms/step - loss: 0.0016\n",
      "Epoch 47/50\n",
      "13/13 [==============================] - 2s 157ms/step - loss: 0.0017\n",
      "Epoch 48/50\n",
      "13/13 [==============================] - 2s 146ms/step - loss: 0.0015\n",
      "Epoch 49/50\n",
      "13/13 [==============================] - 2s 148ms/step - loss: 0.0016\n",
      "Epoch 50/50\n",
      "13/13 [==============================] - 2s 145ms/step - loss: 0.0019\n"
     ]
    }
   ],
   "metadata": {
    "colab": {
     "base_uri": "https://localhost:8080/"
    },
    "id": "90uaYsDwu9FU",
    "outputId": "c457caad-350b-44ca-a84f-8224a818c20f"
   }
  },
  {
   "cell_type": "code",
   "execution_count": 17,
   "source": [
    "plt.plot(history.history['loss'], label='treino')\r\n",
    "plt.legend()"
   ],
   "outputs": [
    {
     "output_type": "execute_result",
     "data": {
      "text/plain": [
       "<matplotlib.legend.Legend at 0x17585b0ce80>"
      ]
     },
     "metadata": {},
     "execution_count": 17
    },
    {
     "output_type": "display_data",
     "data": {
      "text/plain": [
       "<Figure size 432x288 with 1 Axes>"
      ],
      "image/svg+xml": "<?xml version=\"1.0\" encoding=\"utf-8\" standalone=\"no\"?>\r\n<!DOCTYPE svg PUBLIC \"-//W3C//DTD SVG 1.1//EN\"\r\n  \"http://www.w3.org/Graphics/SVG/1.1/DTD/svg11.dtd\">\r\n<svg height=\"248.518125pt\" version=\"1.1\" viewBox=\"0 0 384.828125 248.518125\" width=\"384.828125pt\" xmlns=\"http://www.w3.org/2000/svg\" xmlns:xlink=\"http://www.w3.org/1999/xlink\">\r\n <metadata>\r\n  <rdf:RDF xmlns:cc=\"http://creativecommons.org/ns#\" xmlns:dc=\"http://purl.org/dc/elements/1.1/\" xmlns:rdf=\"http://www.w3.org/1999/02/22-rdf-syntax-ns#\">\r\n   <cc:Work>\r\n    <dc:type rdf:resource=\"http://purl.org/dc/dcmitype/StillImage\"/>\r\n    <dc:date>2021-08-18T19:40:31.084196</dc:date>\r\n    <dc:format>image/svg+xml</dc:format>\r\n    <dc:creator>\r\n     <cc:Agent>\r\n      <dc:title>Matplotlib v3.4.2, https://matplotlib.org/</dc:title>\r\n     </cc:Agent>\r\n    </dc:creator>\r\n   </cc:Work>\r\n  </rdf:RDF>\r\n </metadata>\r\n <defs>\r\n  <style type=\"text/css\">*{stroke-linecap:butt;stroke-linejoin:round;}</style>\r\n </defs>\r\n <g id=\"figure_1\">\r\n  <g id=\"patch_1\">\r\n   <path d=\"M 0 248.518125 \r\nL 384.828125 248.518125 \r\nL 384.828125 0 \r\nL 0 0 \r\nz\r\n\" style=\"fill:none;\"/>\r\n  </g>\r\n  <g id=\"axes_1\">\r\n   <g id=\"patch_2\">\r\n    <path d=\"M 42.828125 224.64 \r\nL 377.628125 224.64 \r\nL 377.628125 7.2 \r\nL 42.828125 7.2 \r\nz\r\n\" style=\"fill:#ffffff;\"/>\r\n   </g>\r\n   <g id=\"matplotlib.axis_1\">\r\n    <g id=\"xtick_1\">\r\n     <g id=\"line2d_1\">\r\n      <defs>\r\n       <path d=\"M 0 0 \r\nL 0 3.5 \r\n\" id=\"m8259c4a070\" style=\"stroke:#000000;stroke-width:0.8;\"/>\r\n      </defs>\r\n      <g>\r\n       <use style=\"stroke:#000000;stroke-width:0.8;\" x=\"58.046307\" xlink:href=\"#m8259c4a070\" y=\"224.64\"/>\r\n      </g>\r\n     </g>\r\n     <g id=\"text_1\">\r\n      <!-- 0 -->\r\n      <g transform=\"translate(54.865057 239.238438)scale(0.1 -0.1)\">\r\n       <defs>\r\n        <path d=\"M 2034 4250 \r\nQ 1547 4250 1301 3770 \r\nQ 1056 3291 1056 2328 \r\nQ 1056 1369 1301 889 \r\nQ 1547 409 2034 409 \r\nQ 2525 409 2770 889 \r\nQ 3016 1369 3016 2328 \r\nQ 3016 3291 2770 3770 \r\nQ 2525 4250 2034 4250 \r\nz\r\nM 2034 4750 \r\nQ 2819 4750 3233 4129 \r\nQ 3647 3509 3647 2328 \r\nQ 3647 1150 3233 529 \r\nQ 2819 -91 2034 -91 \r\nQ 1250 -91 836 529 \r\nQ 422 1150 422 2328 \r\nQ 422 3509 836 4129 \r\nQ 1250 4750 2034 4750 \r\nz\r\n\" id=\"DejaVuSans-30\" transform=\"scale(0.015625)\"/>\r\n       </defs>\r\n       <use xlink:href=\"#DejaVuSans-30\"/>\r\n      </g>\r\n     </g>\r\n    </g>\r\n    <g id=\"xtick_2\">\r\n     <g id=\"line2d_2\">\r\n      <g>\r\n       <use style=\"stroke:#000000;stroke-width:0.8;\" x=\"120.161335\" xlink:href=\"#m8259c4a070\" y=\"224.64\"/>\r\n      </g>\r\n     </g>\r\n     <g id=\"text_2\">\r\n      <!-- 10 -->\r\n      <g transform=\"translate(113.798835 239.238438)scale(0.1 -0.1)\">\r\n       <defs>\r\n        <path d=\"M 794 531 \r\nL 1825 531 \r\nL 1825 4091 \r\nL 703 3866 \r\nL 703 4441 \r\nL 1819 4666 \r\nL 2450 4666 \r\nL 2450 531 \r\nL 3481 531 \r\nL 3481 0 \r\nL 794 0 \r\nL 794 531 \r\nz\r\n\" id=\"DejaVuSans-31\" transform=\"scale(0.015625)\"/>\r\n       </defs>\r\n       <use xlink:href=\"#DejaVuSans-31\"/>\r\n       <use x=\"63.623047\" xlink:href=\"#DejaVuSans-30\"/>\r\n      </g>\r\n     </g>\r\n    </g>\r\n    <g id=\"xtick_3\">\r\n     <g id=\"line2d_3\">\r\n      <g>\r\n       <use style=\"stroke:#000000;stroke-width:0.8;\" x=\"182.276362\" xlink:href=\"#m8259c4a070\" y=\"224.64\"/>\r\n      </g>\r\n     </g>\r\n     <g id=\"text_3\">\r\n      <!-- 20 -->\r\n      <g transform=\"translate(175.913862 239.238438)scale(0.1 -0.1)\">\r\n       <defs>\r\n        <path d=\"M 1228 531 \r\nL 3431 531 \r\nL 3431 0 \r\nL 469 0 \r\nL 469 531 \r\nQ 828 903 1448 1529 \r\nQ 2069 2156 2228 2338 \r\nQ 2531 2678 2651 2914 \r\nQ 2772 3150 2772 3378 \r\nQ 2772 3750 2511 3984 \r\nQ 2250 4219 1831 4219 \r\nQ 1534 4219 1204 4116 \r\nQ 875 4013 500 3803 \r\nL 500 4441 \r\nQ 881 4594 1212 4672 \r\nQ 1544 4750 1819 4750 \r\nQ 2544 4750 2975 4387 \r\nQ 3406 4025 3406 3419 \r\nQ 3406 3131 3298 2873 \r\nQ 3191 2616 2906 2266 \r\nQ 2828 2175 2409 1742 \r\nQ 1991 1309 1228 531 \r\nz\r\n\" id=\"DejaVuSans-32\" transform=\"scale(0.015625)\"/>\r\n       </defs>\r\n       <use xlink:href=\"#DejaVuSans-32\"/>\r\n       <use x=\"63.623047\" xlink:href=\"#DejaVuSans-30\"/>\r\n      </g>\r\n     </g>\r\n    </g>\r\n    <g id=\"xtick_4\">\r\n     <g id=\"line2d_4\">\r\n      <g>\r\n       <use style=\"stroke:#000000;stroke-width:0.8;\" x=\"244.39139\" xlink:href=\"#m8259c4a070\" y=\"224.64\"/>\r\n      </g>\r\n     </g>\r\n     <g id=\"text_4\">\r\n      <!-- 30 -->\r\n      <g transform=\"translate(238.02889 239.238438)scale(0.1 -0.1)\">\r\n       <defs>\r\n        <path d=\"M 2597 2516 \r\nQ 3050 2419 3304 2112 \r\nQ 3559 1806 3559 1356 \r\nQ 3559 666 3084 287 \r\nQ 2609 -91 1734 -91 \r\nQ 1441 -91 1130 -33 \r\nQ 819 25 488 141 \r\nL 488 750 \r\nQ 750 597 1062 519 \r\nQ 1375 441 1716 441 \r\nQ 2309 441 2620 675 \r\nQ 2931 909 2931 1356 \r\nQ 2931 1769 2642 2001 \r\nQ 2353 2234 1838 2234 \r\nL 1294 2234 \r\nL 1294 2753 \r\nL 1863 2753 \r\nQ 2328 2753 2575 2939 \r\nQ 2822 3125 2822 3475 \r\nQ 2822 3834 2567 4026 \r\nQ 2313 4219 1838 4219 \r\nQ 1578 4219 1281 4162 \r\nQ 984 4106 628 3988 \r\nL 628 4550 \r\nQ 988 4650 1302 4700 \r\nQ 1616 4750 1894 4750 \r\nQ 2613 4750 3031 4423 \r\nQ 3450 4097 3450 3541 \r\nQ 3450 3153 3228 2886 \r\nQ 3006 2619 2597 2516 \r\nz\r\n\" id=\"DejaVuSans-33\" transform=\"scale(0.015625)\"/>\r\n       </defs>\r\n       <use xlink:href=\"#DejaVuSans-33\"/>\r\n       <use x=\"63.623047\" xlink:href=\"#DejaVuSans-30\"/>\r\n      </g>\r\n     </g>\r\n    </g>\r\n    <g id=\"xtick_5\">\r\n     <g id=\"line2d_5\">\r\n      <g>\r\n       <use style=\"stroke:#000000;stroke-width:0.8;\" x=\"306.506418\" xlink:href=\"#m8259c4a070\" y=\"224.64\"/>\r\n      </g>\r\n     </g>\r\n     <g id=\"text_5\">\r\n      <!-- 40 -->\r\n      <g transform=\"translate(300.143918 239.238438)scale(0.1 -0.1)\">\r\n       <defs>\r\n        <path d=\"M 2419 4116 \r\nL 825 1625 \r\nL 2419 1625 \r\nL 2419 4116 \r\nz\r\nM 2253 4666 \r\nL 3047 4666 \r\nL 3047 1625 \r\nL 3713 1625 \r\nL 3713 1100 \r\nL 3047 1100 \r\nL 3047 0 \r\nL 2419 0 \r\nL 2419 1100 \r\nL 313 1100 \r\nL 313 1709 \r\nL 2253 4666 \r\nz\r\n\" id=\"DejaVuSans-34\" transform=\"scale(0.015625)\"/>\r\n       </defs>\r\n       <use xlink:href=\"#DejaVuSans-34\"/>\r\n       <use x=\"63.623047\" xlink:href=\"#DejaVuSans-30\"/>\r\n      </g>\r\n     </g>\r\n    </g>\r\n    <g id=\"xtick_6\">\r\n     <g id=\"line2d_6\">\r\n      <g>\r\n       <use style=\"stroke:#000000;stroke-width:0.8;\" x=\"368.621446\" xlink:href=\"#m8259c4a070\" y=\"224.64\"/>\r\n      </g>\r\n     </g>\r\n     <g id=\"text_6\">\r\n      <!-- 50 -->\r\n      <g transform=\"translate(362.258946 239.238438)scale(0.1 -0.1)\">\r\n       <defs>\r\n        <path d=\"M 691 4666 \r\nL 3169 4666 \r\nL 3169 4134 \r\nL 1269 4134 \r\nL 1269 2991 \r\nQ 1406 3038 1543 3061 \r\nQ 1681 3084 1819 3084 \r\nQ 2600 3084 3056 2656 \r\nQ 3513 2228 3513 1497 \r\nQ 3513 744 3044 326 \r\nQ 2575 -91 1722 -91 \r\nQ 1428 -91 1123 -41 \r\nQ 819 9 494 109 \r\nL 494 744 \r\nQ 775 591 1075 516 \r\nQ 1375 441 1709 441 \r\nQ 2250 441 2565 725 \r\nQ 2881 1009 2881 1497 \r\nQ 2881 1984 2565 2268 \r\nQ 2250 2553 1709 2553 \r\nQ 1456 2553 1204 2497 \r\nQ 953 2441 691 2322 \r\nL 691 4666 \r\nz\r\n\" id=\"DejaVuSans-35\" transform=\"scale(0.015625)\"/>\r\n       </defs>\r\n       <use xlink:href=\"#DejaVuSans-35\"/>\r\n       <use x=\"63.623047\" xlink:href=\"#DejaVuSans-30\"/>\r\n      </g>\r\n     </g>\r\n    </g>\r\n   </g>\r\n   <g id=\"matplotlib.axis_2\">\r\n    <g id=\"ytick_1\">\r\n     <g id=\"line2d_7\">\r\n      <defs>\r\n       <path d=\"M 0 0 \r\nL -3.5 0 \r\n\" id=\"m1d9930a9bc\" style=\"stroke:#000000;stroke-width:0.8;\"/>\r\n      </defs>\r\n      <g>\r\n       <use style=\"stroke:#000000;stroke-width:0.8;\" x=\"42.828125\" xlink:href=\"#m1d9930a9bc\" y=\"222.661311\"/>\r\n      </g>\r\n     </g>\r\n     <g id=\"text_7\">\r\n      <!-- 0.000 -->\r\n      <g transform=\"translate(7.2 226.46053)scale(0.1 -0.1)\">\r\n       <defs>\r\n        <path d=\"M 684 794 \r\nL 1344 794 \r\nL 1344 0 \r\nL 684 0 \r\nL 684 794 \r\nz\r\n\" id=\"DejaVuSans-2e\" transform=\"scale(0.015625)\"/>\r\n       </defs>\r\n       <use xlink:href=\"#DejaVuSans-30\"/>\r\n       <use x=\"63.623047\" xlink:href=\"#DejaVuSans-2e\"/>\r\n       <use x=\"95.410156\" xlink:href=\"#DejaVuSans-30\"/>\r\n       <use x=\"159.033203\" xlink:href=\"#DejaVuSans-30\"/>\r\n       <use x=\"222.65625\" xlink:href=\"#DejaVuSans-30\"/>\r\n      </g>\r\n     </g>\r\n    </g>\r\n    <g id=\"ytick_2\">\r\n     <g id=\"line2d_8\">\r\n      <g>\r\n       <use style=\"stroke:#000000;stroke-width:0.8;\" x=\"42.828125\" xlink:href=\"#m1d9930a9bc\" y=\"195.58517\"/>\r\n      </g>\r\n     </g>\r\n     <g id=\"text_8\">\r\n      <!-- 0.005 -->\r\n      <g transform=\"translate(7.2 199.384389)scale(0.1 -0.1)\">\r\n       <use xlink:href=\"#DejaVuSans-30\"/>\r\n       <use x=\"63.623047\" xlink:href=\"#DejaVuSans-2e\"/>\r\n       <use x=\"95.410156\" xlink:href=\"#DejaVuSans-30\"/>\r\n       <use x=\"159.033203\" xlink:href=\"#DejaVuSans-30\"/>\r\n       <use x=\"222.65625\" xlink:href=\"#DejaVuSans-35\"/>\r\n      </g>\r\n     </g>\r\n    </g>\r\n    <g id=\"ytick_3\">\r\n     <g id=\"line2d_9\">\r\n      <g>\r\n       <use style=\"stroke:#000000;stroke-width:0.8;\" x=\"42.828125\" xlink:href=\"#m1d9930a9bc\" y=\"168.50903\"/>\r\n      </g>\r\n     </g>\r\n     <g id=\"text_9\">\r\n      <!-- 0.010 -->\r\n      <g transform=\"translate(7.2 172.308249)scale(0.1 -0.1)\">\r\n       <use xlink:href=\"#DejaVuSans-30\"/>\r\n       <use x=\"63.623047\" xlink:href=\"#DejaVuSans-2e\"/>\r\n       <use x=\"95.410156\" xlink:href=\"#DejaVuSans-30\"/>\r\n       <use x=\"159.033203\" xlink:href=\"#DejaVuSans-31\"/>\r\n       <use x=\"222.65625\" xlink:href=\"#DejaVuSans-30\"/>\r\n      </g>\r\n     </g>\r\n    </g>\r\n    <g id=\"ytick_4\">\r\n     <g id=\"line2d_10\">\r\n      <g>\r\n       <use style=\"stroke:#000000;stroke-width:0.8;\" x=\"42.828125\" xlink:href=\"#m1d9930a9bc\" y=\"141.432889\"/>\r\n      </g>\r\n     </g>\r\n     <g id=\"text_10\">\r\n      <!-- 0.015 -->\r\n      <g transform=\"translate(7.2 145.232108)scale(0.1 -0.1)\">\r\n       <use xlink:href=\"#DejaVuSans-30\"/>\r\n       <use x=\"63.623047\" xlink:href=\"#DejaVuSans-2e\"/>\r\n       <use x=\"95.410156\" xlink:href=\"#DejaVuSans-30\"/>\r\n       <use x=\"159.033203\" xlink:href=\"#DejaVuSans-31\"/>\r\n       <use x=\"222.65625\" xlink:href=\"#DejaVuSans-35\"/>\r\n      </g>\r\n     </g>\r\n    </g>\r\n    <g id=\"ytick_5\">\r\n     <g id=\"line2d_11\">\r\n      <g>\r\n       <use style=\"stroke:#000000;stroke-width:0.8;\" x=\"42.828125\" xlink:href=\"#m1d9930a9bc\" y=\"114.356749\"/>\r\n      </g>\r\n     </g>\r\n     <g id=\"text_11\">\r\n      <!-- 0.020 -->\r\n      <g transform=\"translate(7.2 118.155968)scale(0.1 -0.1)\">\r\n       <use xlink:href=\"#DejaVuSans-30\"/>\r\n       <use x=\"63.623047\" xlink:href=\"#DejaVuSans-2e\"/>\r\n       <use x=\"95.410156\" xlink:href=\"#DejaVuSans-30\"/>\r\n       <use x=\"159.033203\" xlink:href=\"#DejaVuSans-32\"/>\r\n       <use x=\"222.65625\" xlink:href=\"#DejaVuSans-30\"/>\r\n      </g>\r\n     </g>\r\n    </g>\r\n    <g id=\"ytick_6\">\r\n     <g id=\"line2d_12\">\r\n      <g>\r\n       <use style=\"stroke:#000000;stroke-width:0.8;\" x=\"42.828125\" xlink:href=\"#m1d9930a9bc\" y=\"87.280608\"/>\r\n      </g>\r\n     </g>\r\n     <g id=\"text_12\">\r\n      <!-- 0.025 -->\r\n      <g transform=\"translate(7.2 91.079827)scale(0.1 -0.1)\">\r\n       <use xlink:href=\"#DejaVuSans-30\"/>\r\n       <use x=\"63.623047\" xlink:href=\"#DejaVuSans-2e\"/>\r\n       <use x=\"95.410156\" xlink:href=\"#DejaVuSans-30\"/>\r\n       <use x=\"159.033203\" xlink:href=\"#DejaVuSans-32\"/>\r\n       <use x=\"222.65625\" xlink:href=\"#DejaVuSans-35\"/>\r\n      </g>\r\n     </g>\r\n    </g>\r\n    <g id=\"ytick_7\">\r\n     <g id=\"line2d_13\">\r\n      <g>\r\n       <use style=\"stroke:#000000;stroke-width:0.8;\" x=\"42.828125\" xlink:href=\"#m1d9930a9bc\" y=\"60.204468\"/>\r\n      </g>\r\n     </g>\r\n     <g id=\"text_13\">\r\n      <!-- 0.030 -->\r\n      <g transform=\"translate(7.2 64.003687)scale(0.1 -0.1)\">\r\n       <use xlink:href=\"#DejaVuSans-30\"/>\r\n       <use x=\"63.623047\" xlink:href=\"#DejaVuSans-2e\"/>\r\n       <use x=\"95.410156\" xlink:href=\"#DejaVuSans-30\"/>\r\n       <use x=\"159.033203\" xlink:href=\"#DejaVuSans-33\"/>\r\n       <use x=\"222.65625\" xlink:href=\"#DejaVuSans-30\"/>\r\n      </g>\r\n     </g>\r\n    </g>\r\n    <g id=\"ytick_8\">\r\n     <g id=\"line2d_14\">\r\n      <g>\r\n       <use style=\"stroke:#000000;stroke-width:0.8;\" x=\"42.828125\" xlink:href=\"#m1d9930a9bc\" y=\"33.128327\"/>\r\n      </g>\r\n     </g>\r\n     <g id=\"text_14\">\r\n      <!-- 0.035 -->\r\n      <g transform=\"translate(7.2 36.927546)scale(0.1 -0.1)\">\r\n       <use xlink:href=\"#DejaVuSans-30\"/>\r\n       <use x=\"63.623047\" xlink:href=\"#DejaVuSans-2e\"/>\r\n       <use x=\"95.410156\" xlink:href=\"#DejaVuSans-30\"/>\r\n       <use x=\"159.033203\" xlink:href=\"#DejaVuSans-33\"/>\r\n       <use x=\"222.65625\" xlink:href=\"#DejaVuSans-35\"/>\r\n      </g>\r\n     </g>\r\n    </g>\r\n   </g>\r\n   <g id=\"line2d_15\">\r\n    <path clip-path=\"url(#pf735727bfa)\" d=\"M 58.046307 17.083636 \r\nL 64.25781 181.328422 \r\nL 70.469312 198.131588 \r\nL 76.680815 204.597139 \r\nL 82.892318 207.178932 \r\nL 89.103821 207.958898 \r\nL 95.315324 209.663472 \r\nL 101.526826 208.813363 \r\nL 107.738329 207.374963 \r\nL 113.949832 209.112165 \r\nL 120.161335 209.765846 \r\nL 126.372837 210.535388 \r\nL 132.58434 209.559306 \r\nL 138.795843 211.190255 \r\nL 145.007346 211.095709 \r\nL 151.218849 211.501231 \r\nL 157.430351 211.643655 \r\nL 163.641854 211.092843 \r\nL 169.853357 211.415465 \r\nL 176.06486 210.542797 \r\nL 182.276362 212.499066 \r\nL 188.487865 211.144864 \r\nL 194.699368 211.561261 \r\nL 200.910871 210.352979 \r\nL 207.122374 211.17246 \r\nL 213.333876 211.79613 \r\nL 219.545379 212.231989 \r\nL 225.756882 211.560449 \r\nL 231.968385 212.538484 \r\nL 238.179888 213.290799 \r\nL 244.39139 212.001213 \r\nL 250.602893 212.010924 \r\nL 256.814396 212.690437 \r\nL 263.025899 213.136882 \r\nL 269.237401 212.664851 \r\nL 275.448904 212.434298 \r\nL 281.660407 212.085643 \r\nL 287.87191 212.623426 \r\nL 294.083413 213.14233 \r\nL 300.294915 213.607898 \r\nL 306.506418 212.571735 \r\nL 312.717921 213.995028 \r\nL 318.929424 213.003005 \r\nL 325.140926 213.103044 \r\nL 331.352429 214.756364 \r\nL 337.563932 214.146612 \r\nL 343.775435 213.513717 \r\nL 349.986938 214.479249 \r\nL 356.19844 213.732493 \r\nL 362.409943 212.462039 \r\n\" style=\"fill:none;stroke:#1f77b4;stroke-linecap:square;stroke-width:1.5;\"/>\r\n   </g>\r\n   <g id=\"patch_3\">\r\n    <path d=\"M 42.828125 224.64 \r\nL 42.828125 7.2 \r\n\" style=\"fill:none;stroke:#000000;stroke-linecap:square;stroke-linejoin:miter;stroke-width:0.8;\"/>\r\n   </g>\r\n   <g id=\"patch_4\">\r\n    <path d=\"M 377.628125 224.64 \r\nL 377.628125 7.2 \r\n\" style=\"fill:none;stroke:#000000;stroke-linecap:square;stroke-linejoin:miter;stroke-width:0.8;\"/>\r\n   </g>\r\n   <g id=\"patch_5\">\r\n    <path d=\"M 42.828125 224.64 \r\nL 377.628125 224.64 \r\n\" style=\"fill:none;stroke:#000000;stroke-linecap:square;stroke-linejoin:miter;stroke-width:0.8;\"/>\r\n   </g>\r\n   <g id=\"patch_6\">\r\n    <path d=\"M 42.828125 7.2 \r\nL 377.628125 7.2 \r\n\" style=\"fill:none;stroke:#000000;stroke-linecap:square;stroke-linejoin:miter;stroke-width:0.8;\"/>\r\n   </g>\r\n   <g id=\"legend_1\">\r\n    <g id=\"patch_7\">\r\n     <path d=\"M 309.434375 29.878125 \r\nL 370.628125 29.878125 \r\nQ 372.628125 29.878125 372.628125 27.878125 \r\nL 372.628125 14.2 \r\nQ 372.628125 12.2 370.628125 12.2 \r\nL 309.434375 12.2 \r\nQ 307.434375 12.2 307.434375 14.2 \r\nL 307.434375 27.878125 \r\nQ 307.434375 29.878125 309.434375 29.878125 \r\nz\r\n\" style=\"fill:#ffffff;opacity:0.8;stroke:#cccccc;stroke-linejoin:miter;\"/>\r\n    </g>\r\n    <g id=\"line2d_16\">\r\n     <path d=\"M 311.434375 20.298437 \r\nL 331.434375 20.298437 \r\n\" style=\"fill:none;stroke:#1f77b4;stroke-linecap:square;stroke-width:1.5;\"/>\r\n    </g>\r\n    <g id=\"line2d_17\"/>\r\n    <g id=\"text_15\">\r\n     <!-- treino -->\r\n     <g transform=\"translate(339.434375 23.798437)scale(0.1 -0.1)\">\r\n      <defs>\r\n       <path d=\"M 1172 4494 \r\nL 1172 3500 \r\nL 2356 3500 \r\nL 2356 3053 \r\nL 1172 3053 \r\nL 1172 1153 \r\nQ 1172 725 1289 603 \r\nQ 1406 481 1766 481 \r\nL 2356 481 \r\nL 2356 0 \r\nL 1766 0 \r\nQ 1100 0 847 248 \r\nQ 594 497 594 1153 \r\nL 594 3053 \r\nL 172 3053 \r\nL 172 3500 \r\nL 594 3500 \r\nL 594 4494 \r\nL 1172 4494 \r\nz\r\n\" id=\"DejaVuSans-74\" transform=\"scale(0.015625)\"/>\r\n       <path d=\"M 2631 2963 \r\nQ 2534 3019 2420 3045 \r\nQ 2306 3072 2169 3072 \r\nQ 1681 3072 1420 2755 \r\nQ 1159 2438 1159 1844 \r\nL 1159 0 \r\nL 581 0 \r\nL 581 3500 \r\nL 1159 3500 \r\nL 1159 2956 \r\nQ 1341 3275 1631 3429 \r\nQ 1922 3584 2338 3584 \r\nQ 2397 3584 2469 3576 \r\nQ 2541 3569 2628 3553 \r\nL 2631 2963 \r\nz\r\n\" id=\"DejaVuSans-72\" transform=\"scale(0.015625)\"/>\r\n       <path d=\"M 3597 1894 \r\nL 3597 1613 \r\nL 953 1613 \r\nQ 991 1019 1311 708 \r\nQ 1631 397 2203 397 \r\nQ 2534 397 2845 478 \r\nQ 3156 559 3463 722 \r\nL 3463 178 \r\nQ 3153 47 2828 -22 \r\nQ 2503 -91 2169 -91 \r\nQ 1331 -91 842 396 \r\nQ 353 884 353 1716 \r\nQ 353 2575 817 3079 \r\nQ 1281 3584 2069 3584 \r\nQ 2775 3584 3186 3129 \r\nQ 3597 2675 3597 1894 \r\nz\r\nM 3022 2063 \r\nQ 3016 2534 2758 2815 \r\nQ 2500 3097 2075 3097 \r\nQ 1594 3097 1305 2825 \r\nQ 1016 2553 972 2059 \r\nL 3022 2063 \r\nz\r\n\" id=\"DejaVuSans-65\" transform=\"scale(0.015625)\"/>\r\n       <path d=\"M 603 3500 \r\nL 1178 3500 \r\nL 1178 0 \r\nL 603 0 \r\nL 603 3500 \r\nz\r\nM 603 4863 \r\nL 1178 4863 \r\nL 1178 4134 \r\nL 603 4134 \r\nL 603 4863 \r\nz\r\n\" id=\"DejaVuSans-69\" transform=\"scale(0.015625)\"/>\r\n       <path d=\"M 3513 2113 \r\nL 3513 0 \r\nL 2938 0 \r\nL 2938 2094 \r\nQ 2938 2591 2744 2837 \r\nQ 2550 3084 2163 3084 \r\nQ 1697 3084 1428 2787 \r\nQ 1159 2491 1159 1978 \r\nL 1159 0 \r\nL 581 0 \r\nL 581 3500 \r\nL 1159 3500 \r\nL 1159 2956 \r\nQ 1366 3272 1645 3428 \r\nQ 1925 3584 2291 3584 \r\nQ 2894 3584 3203 3211 \r\nQ 3513 2838 3513 2113 \r\nz\r\n\" id=\"DejaVuSans-6e\" transform=\"scale(0.015625)\"/>\r\n       <path d=\"M 1959 3097 \r\nQ 1497 3097 1228 2736 \r\nQ 959 2375 959 1747 \r\nQ 959 1119 1226 758 \r\nQ 1494 397 1959 397 \r\nQ 2419 397 2687 759 \r\nQ 2956 1122 2956 1747 \r\nQ 2956 2369 2687 2733 \r\nQ 2419 3097 1959 3097 \r\nz\r\nM 1959 3584 \r\nQ 2709 3584 3137 3096 \r\nQ 3566 2609 3566 1747 \r\nQ 3566 888 3137 398 \r\nQ 2709 -91 1959 -91 \r\nQ 1206 -91 779 398 \r\nQ 353 888 353 1747 \r\nQ 353 2609 779 3096 \r\nQ 1206 3584 1959 3584 \r\nz\r\n\" id=\"DejaVuSans-6f\" transform=\"scale(0.015625)\"/>\r\n      </defs>\r\n      <use xlink:href=\"#DejaVuSans-74\"/>\r\n      <use x=\"39.208984\" xlink:href=\"#DejaVuSans-72\"/>\r\n      <use x=\"78.072266\" xlink:href=\"#DejaVuSans-65\"/>\r\n      <use x=\"139.595703\" xlink:href=\"#DejaVuSans-69\"/>\r\n      <use x=\"167.378906\" xlink:href=\"#DejaVuSans-6e\"/>\r\n      <use x=\"230.757812\" xlink:href=\"#DejaVuSans-6f\"/>\r\n     </g>\r\n    </g>\r\n   </g>\r\n  </g>\r\n </g>\r\n <defs>\r\n  <clipPath id=\"pf735727bfa\">\r\n   <rect height=\"217.44\" width=\"334.8\" x=\"42.828125\" y=\"7.2\"/>\r\n  </clipPath>\r\n </defs>\r\n</svg>\r\n",
      "image/png": "[encoded data removed]"
     },
     "metadata": {
      "needs_background": "light"
     }
    }
   ],
   "metadata": {
    "colab": {
     "base_uri": "https://localhost:8080/",
     "height": 265
    },
    "id": "amW1km16u_lf",
    "outputId": "d3deba25-c6cf-405f-8275-544a334004fb"
   }
  },
  {
   "cell_type": "code",
   "execution_count": 18,
   "source": [
    "test_data = scaled_data[training_data_len - window:, :]\r\n",
    "\r\n",
    "X_test = []\r\n",
    "y_test = dataset[training_data_len:, 0:1]\r\n",
    "\r\n",
    "for i in range(window, len(test_data)): \r\n",
    "    X_test.append(test_data[i-window:i,:])\r\n",
    "X_test = np.array(X_test)\r\n",
    "\r\n",
    "X_test = np.reshape(X_test, (X_test.shape[0], X_test.shape[1], -1))\r\n",
    "print(X_test.shape, X_train.shape)"
   ],
   "outputs": [
    {
     "output_type": "stream",
     "name": "stdout",
     "text": [
      "(370, 60, 1) (805, 60, 1)\n"
     ]
    }
   ],
   "metadata": {
    "colab": {
     "base_uri": "https://localhost:8080/"
    },
    "id": "vPJyp8suvC7_",
    "outputId": "16dd5766-93aa-4382-af1e-090e1dd4442c"
   }
  },
  {
   "cell_type": "code",
   "execution_count": 19,
   "source": [
    "predicted = regressor.predict(X_test)\r\n",
    "volume = dataset[training_data_len:, 1:]\r\n",
    "predicted = np.column_stack((predicted, volume))\r\n",
    "# print(dataset[:,1:])\r\n",
    "print(predicted.shape)\r\n",
    "predicted = sc.inverse_transform(predicted)\r\n",
    "print(predicted)"
   ],
   "outputs": [
    {
     "output_type": "stream",
     "name": "stdout",
     "text": [
      "(370, 1)\n",
      "[[19.95511387]\n",
      " [20.03923378]\n",
      " [20.15112587]\n",
      " [20.30854418]\n",
      " [20.51803086]\n",
      " [20.76752781]\n",
      " [21.0399854 ]\n",
      " [21.30611901]\n",
      " [21.54228232]\n",
      " [21.75509227]\n",
      " [21.95873263]\n",
      " [22.1583453 ]\n",
      " [22.37232717]\n",
      " [22.580984  ]\n",
      " [22.77934607]\n",
      " [22.98598945]\n",
      " [23.19181779]\n",
      " [23.3981043 ]\n",
      " [23.61249915]\n",
      " [23.80912827]\n",
      " [23.98181419]\n",
      " [24.13090288]\n",
      " [24.23948571]\n",
      " [24.31331007]\n",
      " [24.35692804]\n",
      " [24.40610324]\n",
      " [24.46785314]\n",
      " [24.52945656]\n",
      " [24.56375375]\n",
      " [24.55322366]\n",
      " [24.45778746]\n",
      " [24.29070553]\n",
      " [24.08581535]\n",
      " [23.86132988]\n",
      " [23.6362756 ]\n",
      " [23.40346986]\n",
      " [23.17314353]\n",
      " [22.93834303]\n",
      " [22.7215989 ]\n",
      " [22.5183762 ]\n",
      " [22.33783674]\n",
      " [22.20524135]\n",
      " [22.12447979]\n",
      " [22.10148954]\n",
      " [22.09940986]\n",
      " [22.1084548 ]\n",
      " [22.11528213]\n",
      " [22.09788731]\n",
      " [22.05521607]\n",
      " [22.01188953]\n",
      " [21.98366697]\n",
      " [21.95551376]\n",
      " [21.92232225]\n",
      " [21.88054242]\n",
      " [21.83419025]\n",
      " [21.80713103]\n",
      " [21.81404642]\n",
      " [21.86006665]\n",
      " [21.93883658]\n",
      " [22.05165124]\n",
      " [22.17030132]\n",
      " [22.27803483]\n",
      " [22.36682136]\n",
      " [22.44953637]\n",
      " [22.51632068]\n",
      " [22.55554396]\n",
      " [22.60678638]\n",
      " [22.71704293]\n",
      " [22.89954364]\n",
      " [23.13200809]\n",
      " [23.44332118]\n",
      " [23.82591844]\n",
      " [24.22503314]\n",
      " [24.59556062]\n",
      " [24.91315561]\n",
      " [25.20429992]\n",
      " [25.47543599]\n",
      " [25.70011002]\n",
      " [25.87027446]\n",
      " [25.99508176]\n",
      " [26.08413633]\n",
      " [26.12324273]\n",
      " [26.13787919]\n",
      " [26.15630256]\n",
      " [26.1725878 ]\n",
      " [26.21868361]\n",
      " [26.28880834]\n",
      " [26.42659553]\n",
      " [26.65404039]\n",
      " [26.9484028 ]\n",
      " [27.26048417]\n",
      " [27.53508611]\n",
      " [27.75839343]\n",
      " [27.92286348]\n",
      " [28.0122983 ]\n",
      " [28.04267457]\n",
      " [28.07443469]\n",
      " [28.12679993]\n",
      " [28.1934993 ]\n",
      " [28.27161549]\n",
      " [28.35238095]\n",
      " [28.41422747]\n",
      " [28.48846325]\n",
      " [28.60244749]\n",
      " [28.77050965]\n",
      " [28.9719402 ]\n",
      " [29.16824985]\n",
      " [29.33380299]\n",
      " [29.4556135 ]\n",
      " [29.54171179]\n",
      " [29.59292382]\n",
      " [29.59441676]\n",
      " [29.56039385]\n",
      " [29.5094748 ]\n",
      " [29.48084394]\n",
      " [29.47577915]\n",
      " [29.47214497]\n",
      " [29.47971254]\n",
      " [29.48399346]\n",
      " [29.48529004]\n",
      " [29.47563266]\n",
      " [29.42420558]\n",
      " [29.35032199]\n",
      " [29.29875933]\n",
      " [29.33282744]\n",
      " [29.47451685]\n",
      " [29.70330193]\n",
      " [30.00185642]\n",
      " [30.34631349]\n",
      " [30.72552903]\n",
      " [31.11077868]\n",
      " [31.46812992]\n",
      " [31.78892429]\n",
      " [32.0609502 ]\n",
      " [32.28349234]\n",
      " [32.46016308]\n",
      " [32.60558174]\n",
      " [32.71168984]\n",
      " [32.77368442]\n",
      " [32.81429156]\n",
      " [32.85510129]\n",
      " [32.91265131]\n",
      " [32.97297217]\n",
      " [33.02573636]\n",
      " [33.1321203 ]\n",
      " [33.28440681]\n",
      " [33.49544331]\n",
      " [33.75132112]\n",
      " [33.96953559]\n",
      " [34.13652713]\n",
      " [34.25906853]\n",
      " [34.33481283]\n",
      " [34.3936501 ]\n",
      " [34.42737536]\n",
      " [34.48497058]\n",
      " [34.56825596]\n",
      " [34.64297796]\n",
      " [34.70619276]\n",
      " [34.73344911]\n",
      " [34.73195617]\n",
      " [34.69773222]\n",
      " [34.62426785]\n",
      " [34.54074715]\n",
      " [34.44796957]\n",
      " [34.32034936]\n",
      " [34.13998054]\n",
      " [33.91406447]\n",
      " [33.67667392]\n",
      " [33.49912269]\n",
      " [33.40850504]\n",
      " [33.41829177]\n",
      " [33.51944262]\n",
      " [33.69442717]\n",
      " [33.92319667]\n",
      " [34.15172617]\n",
      " [34.31726529]\n",
      " [34.37373691]\n",
      " [34.27803266]\n",
      " [34.04669648]\n",
      " [33.72387775]\n",
      " [33.31489528]\n",
      " [32.90959686]\n",
      " [32.57426265]\n",
      " [32.34687233]\n",
      " [32.21849941]\n",
      " [32.16169118]\n",
      " [32.1849861 ]\n",
      " [32.2851084 ]\n",
      " [32.44585856]\n",
      " [32.64016412]\n",
      " [32.82725586]\n",
      " [32.96676819]\n",
      " [33.03524102]\n",
      " [33.03019181]\n",
      " [32.9613325 ]\n",
      " [32.83051291]\n",
      " [32.67029104]\n",
      " [32.51322181]\n",
      " [32.40586076]\n",
      " [32.35424355]\n",
      " [32.36865248]\n",
      " [32.43723128]\n",
      " [32.52822138]\n",
      " [32.6248217 ]\n",
      " [32.71536299]\n",
      " [32.80444717]\n",
      " [32.85829912]\n",
      " [32.86206264]\n",
      " [32.84134844]\n",
      " [32.78949591]\n",
      " [32.70264335]\n",
      " [32.56022617]\n",
      " [32.36613723]\n",
      " [32.12496757]\n",
      " [31.8426204 ]\n",
      " [31.54675882]\n",
      " [31.28996623]\n",
      " [31.14128429]\n",
      " [31.0957386 ]\n",
      " [31.13303102]\n",
      " [31.21829246]\n",
      " [31.34187642]\n",
      " [31.51904741]\n",
      " [31.76309231]\n",
      " [32.0817283 ]\n",
      " [32.45098101]\n",
      " [32.83577094]\n",
      " [33.21062608]\n",
      " [33.53330767]\n",
      " [33.81139574]\n",
      " [34.04356722]\n",
      " [34.21462462]\n",
      " [34.32942857]\n",
      " [34.38023074]\n",
      " [34.36055287]\n",
      " [34.2787838 ]\n",
      " [34.14825718]\n",
      " [33.99742933]\n",
      " [33.86066133]\n",
      " [33.78123765]\n",
      " [33.77869435]\n",
      " [33.83759083]\n",
      " [33.95538535]\n",
      " [34.108903  ]\n",
      " [34.27177414]\n",
      " [34.42177604]\n",
      " [34.54964715]\n",
      " [34.6726171 ]\n",
      " [34.81502806]\n",
      " [34.98888901]\n",
      " [35.18131514]\n",
      " [35.37152211]\n",
      " [35.53340055]\n",
      " [35.6313785 ]\n",
      " [35.65432589]\n",
      " [35.60962796]\n",
      " [35.50646211]\n",
      " [35.39020885]\n",
      " [35.25457224]\n",
      " [35.12558844]\n",
      " [35.01971409]\n",
      " [34.96751716]\n",
      " [34.89679712]\n",
      " [34.77419183]\n",
      " [34.59546401]\n",
      " [34.34901918]\n",
      " [34.02220316]\n",
      " [33.62663381]\n",
      " [33.19504212]\n",
      " [32.74148015]\n",
      " [32.30954406]\n",
      " [31.95120324]\n",
      " [31.69375145]\n",
      " [31.52316937]\n",
      " [31.40336607]\n",
      " [31.32688465]\n",
      " [31.26292338]\n",
      " [31.19266619]\n",
      " [31.1141978 ]\n",
      " [31.01528793]\n",
      " [30.8886651 ]\n",
      " [30.76177266]\n",
      " [30.63592902]\n",
      " [30.49469933]\n",
      " [30.32924125]\n",
      " [30.15856411]\n",
      " [29.99058454]\n",
      " [29.85427004]\n",
      " [29.77707954]\n",
      " [29.75295868]\n",
      " [29.75496122]\n",
      " [29.78086333]\n",
      " [29.84809567]\n",
      " [29.99942844]\n",
      " [30.2474005 ]\n",
      " [30.55328102]\n",
      " [30.8767309 ]\n",
      " [31.17360544]\n",
      " [31.40481694]\n",
      " [31.54259634]\n",
      " [31.61534385]\n",
      " [31.64466196]\n",
      " [31.63319996]\n",
      " [31.60978972]\n",
      " [31.59026769]\n",
      " [31.56712082]\n",
      " [31.54650168]\n",
      " [31.54620403]\n",
      " [31.56857325]\n",
      " [31.59119961]\n",
      " [31.58956018]\n",
      " [31.51462156]\n",
      " [31.36518692]\n",
      " [31.16740302]\n",
      " [30.93953116]\n",
      " [30.70200036]\n",
      " [30.50321285]\n",
      " [30.37525915]\n",
      " [30.33742907]\n",
      " [30.40019505]\n",
      " [30.55805283]\n",
      " [30.81446049]\n",
      " [31.12441309]\n",
      " [31.41043029]\n",
      " [31.64306149]\n",
      " [31.84088435]\n",
      " [32.01871921]\n",
      " [32.17917484]\n",
      " [32.33665548]\n",
      " [32.53408874]\n",
      " [32.75664023]\n",
      " [32.99356638]\n",
      " [33.17859792]\n",
      " [33.2791706 ]\n",
      " [33.29200555]\n",
      " [33.24470354]\n",
      " [33.15301684]\n",
      " [33.03804302]\n",
      " [32.88268179]\n",
      " [32.69154601]\n",
      " [32.46772131]\n",
      " [32.21443356]\n",
      " [31.94233129]\n",
      " [31.66105629]\n",
      " [31.38414637]\n",
      " [31.13225339]\n",
      " [30.93624762]\n",
      " [30.80072322]\n",
      " [30.70001808]\n",
      " [30.64016318]\n",
      " [30.60912304]\n",
      " [30.60421253]\n",
      " [30.62716927]\n",
      " [30.67665615]\n",
      " [30.77478994]\n",
      " [30.92314929]\n",
      " [31.09693544]\n",
      " [31.28590505]\n",
      " [31.47182799]\n",
      " [31.63476459]\n",
      " [31.77987936]\n",
      " [31.90818994]\n",
      " [31.99868602]\n",
      " [32.06778533]\n",
      " [32.15371843]\n",
      " [32.28705172]\n",
      " [32.4424784 ]\n",
      " [32.60950267]\n",
      " [32.78930734]\n",
      " [32.96779985]]\n"
     ]
    }
   ],
   "metadata": {
    "colab": {
     "base_uri": "https://localhost:8080/"
    },
    "id": "L9MB4ux0vIPR",
    "outputId": "4c3968f2-6e13-40a4-db86-d80a455dfab3"
   }
  },
  {
   "cell_type": "code",
   "execution_count": 20,
   "source": [
    "allTargetData = np.vstack((dataset[:training_data_len, 0:1], dataset[training_data_len:, 0:1]))\r\n",
    "training_predicted = regressor.predict(X_train)\r\n",
    "volume = dataset[:len(X_train), 1:]\r\n",
    "training_predicted = np.column_stack((training_predicted, volume))\r\n",
    "training_predicted = sc.inverse_transform(training_predicted)\r\n",
    "allForecastedData = np.vstack((dataset[0:window, 0:1], training_predicted[:,0:1], predicted[:,0:1]))\r\n",
    "# date = df['DATA']\r\n",
    "date = df.index\r\n",
    "\r\n",
    "figure(figsize=(20, 6), dpi=80)\r\n",
    "plt.plot(date, allForecastedData, color = 'red', label = 'Previsto')\r\n",
    "plt.plot(date, allTargetData, color = 'blue', label = 'Real')\r\n",
    "plt.title('Previsão de série temporal')\r\n",
    "plt.xlabel('Tempo')\r\n",
    "plt.ylabel('Cotação (R$)')\r\n",
    "plt.legend()\r\n",
    "plt.show()"
   ],
   "outputs": [
    {
     "output_type": "display_data",
     "data": {
      "text/plain": [
       "<Figure size 1600x480 with 1 Axes>"
      ],
      "image/svg+xml": "<?xml version=\"1.0\" encoding=\"utf-8\" standalone=\"no\"?>\r\n<!DOCTYPE svg PUBLIC \"-//W3C//DTD SVG 1.1//EN\"\r\n  \"http://www.w3.org/Graphics/SVG/1.1/DTD/svg11.dtd\">\r\n<svg height=\"386.514375pt\" version=\"1.1\" viewBox=\"0 0 1163.821875 386.514375\" width=\"1163.821875pt\" xmlns=\"http://www.w3.org/2000/svg\" xmlns:xlink=\"http://www.w3.org/1999/xlink\">\r\n <metadata>\r\n  <rdf:RDF xmlns:cc=\"http://creativecommons.org/ns#\" xmlns:dc=\"http://purl.org/dc/elements/1.1/\" xmlns:rdf=\"http://www.w3.org/1999/02/22-rdf-syntax-ns#\">\r\n   <cc:Work>\r\n    <dc:type rdf:resource=\"http://purl.org/dc/dcmitype/StillImage\"/>\r\n    <dc:date>2021-08-18T19:40:35.282949</dc:date>\r\n    <dc:format>image/svg+xml</dc:format>\r\n    <dc:creator>\r\n     <cc:Agent>\r\n      <dc:title>Matplotlib v3.4.2, https://matplotlib.org/</dc:title>\r\n     </cc:Agent>\r\n    </dc:creator>\r\n   </cc:Work>\r\n  </rdf:RDF>\r\n </metadata>\r\n <defs>\r\n  <style type=\"text/css\">*{stroke-linecap:butt;stroke-linejoin:round;}</style>\r\n </defs>\r\n <g id=\"figure_1\">\r\n  <g id=\"patch_1\">\r\n   <path d=\"M 0 386.514375 \r\nL 1163.821875 386.514375 \r\nL 1163.821875 0 \r\nL 0 0 \r\nz\r\n\" style=\"fill:none;\"/>\r\n  </g>\r\n  <g id=\"axes_1\">\r\n   <g id=\"patch_2\">\r\n    <path d=\"M 40.621875 348.958125 \r\nL 1156.621875 348.958125 \r\nL 1156.621875 22.798125 \r\nL 40.621875 22.798125 \r\nz\r\n\" style=\"fill:#ffffff;\"/>\r\n   </g>\r\n   <g id=\"matplotlib.axis_1\">\r\n    <g id=\"xtick_1\">\r\n     <g id=\"line2d_1\">\r\n      <defs>\r\n       <path d=\"M 0 0 \r\nL 0 3.5 \r\n\" id=\"mbec31efee3\" style=\"stroke:#000000;stroke-width:0.8;\"/>\r\n      </defs>\r\n      <g>\r\n       <use style=\"stroke:#000000;stroke-width:0.8;\" x=\"90.792623\" xlink:href=\"#mbec31efee3\" y=\"348.958125\"/>\r\n      </g>\r\n     </g>\r\n     <g id=\"text_1\">\r\n      <!-- 2015 -->\r\n      <g transform=\"translate(78.067623 363.556562)scale(0.1 -0.1)\">\r\n       <defs>\r\n        <path d=\"M 1228 531 \r\nL 3431 531 \r\nL 3431 0 \r\nL 469 0 \r\nL 469 531 \r\nQ 828 903 1448 1529 \r\nQ 2069 2156 2228 2338 \r\nQ 2531 2678 2651 2914 \r\nQ 2772 3150 2772 3378 \r\nQ 2772 3750 2511 3984 \r\nQ 2250 4219 1831 4219 \r\nQ 1534 4219 1204 4116 \r\nQ 875 4013 500 3803 \r\nL 500 4441 \r\nQ 881 4594 1212 4672 \r\nQ 1544 4750 1819 4750 \r\nQ 2544 4750 2975 4387 \r\nQ 3406 4025 3406 3419 \r\nQ 3406 3131 3298 2873 \r\nQ 3191 2616 2906 2266 \r\nQ 2828 2175 2409 1742 \r\nQ 1991 1309 1228 531 \r\nz\r\n\" id=\"DejaVuSans-32\" transform=\"scale(0.015625)\"/>\r\n        <path d=\"M 2034 4250 \r\nQ 1547 4250 1301 3770 \r\nQ 1056 3291 1056 2328 \r\nQ 1056 1369 1301 889 \r\nQ 1547 409 2034 409 \r\nQ 2525 409 2770 889 \r\nQ 3016 1369 3016 2328 \r\nQ 3016 3291 2770 3770 \r\nQ 2525 4250 2034 4250 \r\nz\r\nM 2034 4750 \r\nQ 2819 4750 3233 4129 \r\nQ 3647 3509 3647 2328 \r\nQ 3647 1150 3233 529 \r\nQ 2819 -91 2034 -91 \r\nQ 1250 -91 836 529 \r\nQ 422 1150 422 2328 \r\nQ 422 3509 836 4129 \r\nQ 1250 4750 2034 4750 \r\nz\r\n\" id=\"DejaVuSans-30\" transform=\"scale(0.015625)\"/>\r\n        <path d=\"M 794 531 \r\nL 1825 531 \r\nL 1825 4091 \r\nL 703 3866 \r\nL 703 4441 \r\nL 1819 4666 \r\nL 2450 4666 \r\nL 2450 531 \r\nL 3481 531 \r\nL 3481 0 \r\nL 794 0 \r\nL 794 531 \r\nz\r\n\" id=\"DejaVuSans-31\" transform=\"scale(0.015625)\"/>\r\n        <path d=\"M 691 4666 \r\nL 3169 4666 \r\nL 3169 4134 \r\nL 1269 4134 \r\nL 1269 2991 \r\nQ 1406 3038 1543 3061 \r\nQ 1681 3084 1819 3084 \r\nQ 2600 3084 3056 2656 \r\nQ 3513 2228 3513 1497 \r\nQ 3513 744 3044 326 \r\nQ 2575 -91 1722 -91 \r\nQ 1428 -91 1123 -41 \r\nQ 819 9 494 109 \r\nL 494 744 \r\nQ 775 591 1075 516 \r\nQ 1375 441 1709 441 \r\nQ 2250 441 2565 725 \r\nQ 2881 1009 2881 1497 \r\nQ 2881 1984 2565 2268 \r\nQ 2250 2553 1709 2553 \r\nQ 1456 2553 1204 2497 \r\nQ 953 2441 691 2322 \r\nL 691 4666 \r\nz\r\n\" id=\"DejaVuSans-35\" transform=\"scale(0.015625)\"/>\r\n       </defs>\r\n       <use xlink:href=\"#DejaVuSans-32\"/>\r\n       <use x=\"63.623047\" xlink:href=\"#DejaVuSans-30\"/>\r\n       <use x=\"127.246094\" xlink:href=\"#DejaVuSans-31\"/>\r\n       <use x=\"190.869141\" xlink:href=\"#DejaVuSans-35\"/>\r\n      </g>\r\n     </g>\r\n    </g>\r\n    <g id=\"xtick_2\">\r\n     <g id=\"line2d_2\">\r\n      <g>\r\n       <use style=\"stroke:#000000;stroke-width:0.8;\" x=\"293.924324\" xlink:href=\"#mbec31efee3\" y=\"348.958125\"/>\r\n      </g>\r\n     </g>\r\n     <g id=\"text_2\">\r\n      <!-- 2016 -->\r\n      <g transform=\"translate(281.199324 363.556562)scale(0.1 -0.1)\">\r\n       <defs>\r\n        <path d=\"M 2113 2584 \r\nQ 1688 2584 1439 2293 \r\nQ 1191 2003 1191 1497 \r\nQ 1191 994 1439 701 \r\nQ 1688 409 2113 409 \r\nQ 2538 409 2786 701 \r\nQ 3034 994 3034 1497 \r\nQ 3034 2003 2786 2293 \r\nQ 2538 2584 2113 2584 \r\nz\r\nM 3366 4563 \r\nL 3366 3988 \r\nQ 3128 4100 2886 4159 \r\nQ 2644 4219 2406 4219 \r\nQ 1781 4219 1451 3797 \r\nQ 1122 3375 1075 2522 \r\nQ 1259 2794 1537 2939 \r\nQ 1816 3084 2150 3084 \r\nQ 2853 3084 3261 2657 \r\nQ 3669 2231 3669 1497 \r\nQ 3669 778 3244 343 \r\nQ 2819 -91 2113 -91 \r\nQ 1303 -91 875 529 \r\nQ 447 1150 447 2328 \r\nQ 447 3434 972 4092 \r\nQ 1497 4750 2381 4750 \r\nQ 2619 4750 2861 4703 \r\nQ 3103 4656 3366 4563 \r\nz\r\n\" id=\"DejaVuSans-36\" transform=\"scale(0.015625)\"/>\r\n       </defs>\r\n       <use xlink:href=\"#DejaVuSans-32\"/>\r\n       <use x=\"63.623047\" xlink:href=\"#DejaVuSans-30\"/>\r\n       <use x=\"127.246094\" xlink:href=\"#DejaVuSans-31\"/>\r\n       <use x=\"190.869141\" xlink:href=\"#DejaVuSans-36\"/>\r\n      </g>\r\n     </g>\r\n    </g>\r\n    <g id=\"xtick_3\">\r\n     <g id=\"line2d_3\">\r\n      <g>\r\n       <use style=\"stroke:#000000;stroke-width:0.8;\" x=\"497.61255\" xlink:href=\"#mbec31efee3\" y=\"348.958125\"/>\r\n      </g>\r\n     </g>\r\n     <g id=\"text_3\">\r\n      <!-- 2017 -->\r\n      <g transform=\"translate(484.88755 363.556562)scale(0.1 -0.1)\">\r\n       <defs>\r\n        <path d=\"M 525 4666 \r\nL 3525 4666 \r\nL 3525 4397 \r\nL 1831 0 \r\nL 1172 0 \r\nL 2766 4134 \r\nL 525 4134 \r\nL 525 4666 \r\nz\r\n\" id=\"DejaVuSans-37\" transform=\"scale(0.015625)\"/>\r\n       </defs>\r\n       <use xlink:href=\"#DejaVuSans-32\"/>\r\n       <use x=\"63.623047\" xlink:href=\"#DejaVuSans-30\"/>\r\n       <use x=\"127.246094\" xlink:href=\"#DejaVuSans-31\"/>\r\n       <use x=\"190.869141\" xlink:href=\"#DejaVuSans-37\"/>\r\n      </g>\r\n     </g>\r\n    </g>\r\n    <g id=\"xtick_4\">\r\n     <g id=\"line2d_4\">\r\n      <g>\r\n       <use style=\"stroke:#000000;stroke-width:0.8;\" x=\"700.744251\" xlink:href=\"#mbec31efee3\" y=\"348.958125\"/>\r\n      </g>\r\n     </g>\r\n     <g id=\"text_4\">\r\n      <!-- 2018 -->\r\n      <g transform=\"translate(688.019251 363.556562)scale(0.1 -0.1)\">\r\n       <defs>\r\n        <path d=\"M 2034 2216 \r\nQ 1584 2216 1326 1975 \r\nQ 1069 1734 1069 1313 \r\nQ 1069 891 1326 650 \r\nQ 1584 409 2034 409 \r\nQ 2484 409 2743 651 \r\nQ 3003 894 3003 1313 \r\nQ 3003 1734 2745 1975 \r\nQ 2488 2216 2034 2216 \r\nz\r\nM 1403 2484 \r\nQ 997 2584 770 2862 \r\nQ 544 3141 544 3541 \r\nQ 544 4100 942 4425 \r\nQ 1341 4750 2034 4750 \r\nQ 2731 4750 3128 4425 \r\nQ 3525 4100 3525 3541 \r\nQ 3525 3141 3298 2862 \r\nQ 3072 2584 2669 2484 \r\nQ 3125 2378 3379 2068 \r\nQ 3634 1759 3634 1313 \r\nQ 3634 634 3220 271 \r\nQ 2806 -91 2034 -91 \r\nQ 1263 -91 848 271 \r\nQ 434 634 434 1313 \r\nQ 434 1759 690 2068 \r\nQ 947 2378 1403 2484 \r\nz\r\nM 1172 3481 \r\nQ 1172 3119 1398 2916 \r\nQ 1625 2713 2034 2713 \r\nQ 2441 2713 2670 2916 \r\nQ 2900 3119 2900 3481 \r\nQ 2900 3844 2670 4047 \r\nQ 2441 4250 2034 4250 \r\nQ 1625 4250 1398 4047 \r\nQ 1172 3844 1172 3481 \r\nz\r\n\" id=\"DejaVuSans-38\" transform=\"scale(0.015625)\"/>\r\n       </defs>\r\n       <use xlink:href=\"#DejaVuSans-32\"/>\r\n       <use x=\"63.623047\" xlink:href=\"#DejaVuSans-30\"/>\r\n       <use x=\"127.246094\" xlink:href=\"#DejaVuSans-31\"/>\r\n       <use x=\"190.869141\" xlink:href=\"#DejaVuSans-38\"/>\r\n      </g>\r\n     </g>\r\n    </g>\r\n    <g id=\"xtick_5\">\r\n     <g id=\"line2d_5\">\r\n      <g>\r\n       <use style=\"stroke:#000000;stroke-width:0.8;\" x=\"903.875952\" xlink:href=\"#mbec31efee3\" y=\"348.958125\"/>\r\n      </g>\r\n     </g>\r\n     <g id=\"text_5\">\r\n      <!-- 2019 -->\r\n      <g transform=\"translate(891.150952 363.556562)scale(0.1 -0.1)\">\r\n       <defs>\r\n        <path d=\"M 703 97 \r\nL 703 672 \r\nQ 941 559 1184 500 \r\nQ 1428 441 1663 441 \r\nQ 2288 441 2617 861 \r\nQ 2947 1281 2994 2138 \r\nQ 2813 1869 2534 1725 \r\nQ 2256 1581 1919 1581 \r\nQ 1219 1581 811 2004 \r\nQ 403 2428 403 3163 \r\nQ 403 3881 828 4315 \r\nQ 1253 4750 1959 4750 \r\nQ 2769 4750 3195 4129 \r\nQ 3622 3509 3622 2328 \r\nQ 3622 1225 3098 567 \r\nQ 2575 -91 1691 -91 \r\nQ 1453 -91 1209 -44 \r\nQ 966 3 703 97 \r\nz\r\nM 1959 2075 \r\nQ 2384 2075 2632 2365 \r\nQ 2881 2656 2881 3163 \r\nQ 2881 3666 2632 3958 \r\nQ 2384 4250 1959 4250 \r\nQ 1534 4250 1286 3958 \r\nQ 1038 3666 1038 3163 \r\nQ 1038 2656 1286 2365 \r\nQ 1534 2075 1959 2075 \r\nz\r\n\" id=\"DejaVuSans-39\" transform=\"scale(0.015625)\"/>\r\n       </defs>\r\n       <use xlink:href=\"#DejaVuSans-32\"/>\r\n       <use x=\"63.623047\" xlink:href=\"#DejaVuSans-30\"/>\r\n       <use x=\"127.246094\" xlink:href=\"#DejaVuSans-31\"/>\r\n       <use x=\"190.869141\" xlink:href=\"#DejaVuSans-39\"/>\r\n      </g>\r\n     </g>\r\n    </g>\r\n    <g id=\"xtick_6\">\r\n     <g id=\"line2d_6\">\r\n      <g>\r\n       <use style=\"stroke:#000000;stroke-width:0.8;\" x=\"1107.007653\" xlink:href=\"#mbec31efee3\" y=\"348.958125\"/>\r\n      </g>\r\n     </g>\r\n     <g id=\"text_6\">\r\n      <!-- 2020 -->\r\n      <g transform=\"translate(1094.282653 363.556562)scale(0.1 -0.1)\">\r\n       <use xlink:href=\"#DejaVuSans-32\"/>\r\n       <use x=\"63.623047\" xlink:href=\"#DejaVuSans-30\"/>\r\n       <use x=\"127.246094\" xlink:href=\"#DejaVuSans-32\"/>\r\n       <use x=\"190.869141\" xlink:href=\"#DejaVuSans-30\"/>\r\n      </g>\r\n     </g>\r\n    </g>\r\n    <g id=\"text_7\">\r\n     <!-- Tempo -->\r\n     <g transform=\"translate(582.2375 377.234687)scale(0.1 -0.1)\">\r\n      <defs>\r\n       <path d=\"M -19 4666 \r\nL 3928 4666 \r\nL 3928 4134 \r\nL 2272 4134 \r\nL 2272 0 \r\nL 1638 0 \r\nL 1638 4134 \r\nL -19 4134 \r\nL -19 4666 \r\nz\r\n\" id=\"DejaVuSans-54\" transform=\"scale(0.015625)\"/>\r\n       <path d=\"M 3597 1894 \r\nL 3597 1613 \r\nL 953 1613 \r\nQ 991 1019 1311 708 \r\nQ 1631 397 2203 397 \r\nQ 2534 397 2845 478 \r\nQ 3156 559 3463 722 \r\nL 3463 178 \r\nQ 3153 47 2828 -22 \r\nQ 2503 -91 2169 -91 \r\nQ 1331 -91 842 396 \r\nQ 353 884 353 1716 \r\nQ 353 2575 817 3079 \r\nQ 1281 3584 2069 3584 \r\nQ 2775 3584 3186 3129 \r\nQ 3597 2675 3597 1894 \r\nz\r\nM 3022 2063 \r\nQ 3016 2534 2758 2815 \r\nQ 2500 3097 2075 3097 \r\nQ 1594 3097 1305 2825 \r\nQ 1016 2553 972 2059 \r\nL 3022 2063 \r\nz\r\n\" id=\"DejaVuSans-65\" transform=\"scale(0.015625)\"/>\r\n       <path d=\"M 3328 2828 \r\nQ 3544 3216 3844 3400 \r\nQ 4144 3584 4550 3584 \r\nQ 5097 3584 5394 3201 \r\nQ 5691 2819 5691 2113 \r\nL 5691 0 \r\nL 5113 0 \r\nL 5113 2094 \r\nQ 5113 2597 4934 2840 \r\nQ 4756 3084 4391 3084 \r\nQ 3944 3084 3684 2787 \r\nQ 3425 2491 3425 1978 \r\nL 3425 0 \r\nL 2847 0 \r\nL 2847 2094 \r\nQ 2847 2600 2669 2842 \r\nQ 2491 3084 2119 3084 \r\nQ 1678 3084 1418 2786 \r\nQ 1159 2488 1159 1978 \r\nL 1159 0 \r\nL 581 0 \r\nL 581 3500 \r\nL 1159 3500 \r\nL 1159 2956 \r\nQ 1356 3278 1631 3431 \r\nQ 1906 3584 2284 3584 \r\nQ 2666 3584 2933 3390 \r\nQ 3200 3197 3328 2828 \r\nz\r\n\" id=\"DejaVuSans-6d\" transform=\"scale(0.015625)\"/>\r\n       <path d=\"M 1159 525 \r\nL 1159 -1331 \r\nL 581 -1331 \r\nL 581 3500 \r\nL 1159 3500 \r\nL 1159 2969 \r\nQ 1341 3281 1617 3432 \r\nQ 1894 3584 2278 3584 \r\nQ 2916 3584 3314 3078 \r\nQ 3713 2572 3713 1747 \r\nQ 3713 922 3314 415 \r\nQ 2916 -91 2278 -91 \r\nQ 1894 -91 1617 61 \r\nQ 1341 213 1159 525 \r\nz\r\nM 3116 1747 \r\nQ 3116 2381 2855 2742 \r\nQ 2594 3103 2138 3103 \r\nQ 1681 3103 1420 2742 \r\nQ 1159 2381 1159 1747 \r\nQ 1159 1113 1420 752 \r\nQ 1681 391 2138 391 \r\nQ 2594 391 2855 752 \r\nQ 3116 1113 3116 1747 \r\nz\r\n\" id=\"DejaVuSans-70\" transform=\"scale(0.015625)\"/>\r\n       <path d=\"M 1959 3097 \r\nQ 1497 3097 1228 2736 \r\nQ 959 2375 959 1747 \r\nQ 959 1119 1226 758 \r\nQ 1494 397 1959 397 \r\nQ 2419 397 2687 759 \r\nQ 2956 1122 2956 1747 \r\nQ 2956 2369 2687 2733 \r\nQ 2419 3097 1959 3097 \r\nz\r\nM 1959 3584 \r\nQ 2709 3584 3137 3096 \r\nQ 3566 2609 3566 1747 \r\nQ 3566 888 3137 398 \r\nQ 2709 -91 1959 -91 \r\nQ 1206 -91 779 398 \r\nQ 353 888 353 1747 \r\nQ 353 2609 779 3096 \r\nQ 1206 3584 1959 3584 \r\nz\r\n\" id=\"DejaVuSans-6f\" transform=\"scale(0.015625)\"/>\r\n      </defs>\r\n      <use xlink:href=\"#DejaVuSans-54\"/>\r\n      <use x=\"44.083984\" xlink:href=\"#DejaVuSans-65\"/>\r\n      <use x=\"105.607422\" xlink:href=\"#DejaVuSans-6d\"/>\r\n      <use x=\"203.019531\" xlink:href=\"#DejaVuSans-70\"/>\r\n      <use x=\"266.496094\" xlink:href=\"#DejaVuSans-6f\"/>\r\n     </g>\r\n    </g>\r\n   </g>\r\n   <g id=\"matplotlib.axis_2\">\r\n    <g id=\"ytick_1\">\r\n     <g id=\"line2d_7\">\r\n      <defs>\r\n       <path d=\"M 0 0 \r\nL -3.5 0 \r\n\" id=\"m6b3690dbef\" style=\"stroke:#000000;stroke-width:0.8;\"/>\r\n      </defs>\r\n      <g>\r\n       <use style=\"stroke:#000000;stroke-width:0.8;\" x=\"40.621875\" xlink:href=\"#m6b3690dbef\" y=\"330.523094\"/>\r\n      </g>\r\n     </g>\r\n     <g id=\"text_8\">\r\n      <!-- 10 -->\r\n      <g transform=\"translate(20.896875 334.322312)scale(0.1 -0.1)\">\r\n       <use xlink:href=\"#DejaVuSans-31\"/>\r\n       <use x=\"63.623047\" xlink:href=\"#DejaVuSans-30\"/>\r\n      </g>\r\n     </g>\r\n    </g>\r\n    <g id=\"ytick_2\">\r\n     <g id=\"line2d_8\">\r\n      <g>\r\n       <use style=\"stroke:#000000;stroke-width:0.8;\" x=\"40.621875\" xlink:href=\"#m6b3690dbef\" y=\"273.819557\"/>\r\n      </g>\r\n     </g>\r\n     <g id=\"text_9\">\r\n      <!-- 15 -->\r\n      <g transform=\"translate(20.896875 277.618776)scale(0.1 -0.1)\">\r\n       <use xlink:href=\"#DejaVuSans-31\"/>\r\n       <use x=\"63.623047\" xlink:href=\"#DejaVuSans-35\"/>\r\n      </g>\r\n     </g>\r\n    </g>\r\n    <g id=\"ytick_3\">\r\n     <g id=\"line2d_9\">\r\n      <g>\r\n       <use style=\"stroke:#000000;stroke-width:0.8;\" x=\"40.621875\" xlink:href=\"#m6b3690dbef\" y=\"217.116021\"/>\r\n      </g>\r\n     </g>\r\n     <g id=\"text_10\">\r\n      <!-- 20 -->\r\n      <g transform=\"translate(20.896875 220.91524)scale(0.1 -0.1)\">\r\n       <use xlink:href=\"#DejaVuSans-32\"/>\r\n       <use x=\"63.623047\" xlink:href=\"#DejaVuSans-30\"/>\r\n      </g>\r\n     </g>\r\n    </g>\r\n    <g id=\"ytick_4\">\r\n     <g id=\"line2d_10\">\r\n      <g>\r\n       <use style=\"stroke:#000000;stroke-width:0.8;\" x=\"40.621875\" xlink:href=\"#m6b3690dbef\" y=\"160.412485\"/>\r\n      </g>\r\n     </g>\r\n     <g id=\"text_11\">\r\n      <!-- 25 -->\r\n      <g transform=\"translate(20.896875 164.211703)scale(0.1 -0.1)\">\r\n       <use xlink:href=\"#DejaVuSans-32\"/>\r\n       <use x=\"63.623047\" xlink:href=\"#DejaVuSans-35\"/>\r\n      </g>\r\n     </g>\r\n    </g>\r\n    <g id=\"ytick_5\">\r\n     <g id=\"line2d_11\">\r\n      <g>\r\n       <use style=\"stroke:#000000;stroke-width:0.8;\" x=\"40.621875\" xlink:href=\"#m6b3690dbef\" y=\"103.708948\"/>\r\n      </g>\r\n     </g>\r\n     <g id=\"text_12\">\r\n      <!-- 30 -->\r\n      <g transform=\"translate(20.896875 107.508167)scale(0.1 -0.1)\">\r\n       <defs>\r\n        <path d=\"M 2597 2516 \r\nQ 3050 2419 3304 2112 \r\nQ 3559 1806 3559 1356 \r\nQ 3559 666 3084 287 \r\nQ 2609 -91 1734 -91 \r\nQ 1441 -91 1130 -33 \r\nQ 819 25 488 141 \r\nL 488 750 \r\nQ 750 597 1062 519 \r\nQ 1375 441 1716 441 \r\nQ 2309 441 2620 675 \r\nQ 2931 909 2931 1356 \r\nQ 2931 1769 2642 2001 \r\nQ 2353 2234 1838 2234 \r\nL 1294 2234 \r\nL 1294 2753 \r\nL 1863 2753 \r\nQ 2328 2753 2575 2939 \r\nQ 2822 3125 2822 3475 \r\nQ 2822 3834 2567 4026 \r\nQ 2313 4219 1838 4219 \r\nQ 1578 4219 1281 4162 \r\nQ 984 4106 628 3988 \r\nL 628 4550 \r\nQ 988 4650 1302 4700 \r\nQ 1616 4750 1894 4750 \r\nQ 2613 4750 3031 4423 \r\nQ 3450 4097 3450 3541 \r\nQ 3450 3153 3228 2886 \r\nQ 3006 2619 2597 2516 \r\nz\r\n\" id=\"DejaVuSans-33\" transform=\"scale(0.015625)\"/>\r\n       </defs>\r\n       <use xlink:href=\"#DejaVuSans-33\"/>\r\n       <use x=\"63.623047\" xlink:href=\"#DejaVuSans-30\"/>\r\n      </g>\r\n     </g>\r\n    </g>\r\n    <g id=\"ytick_6\">\r\n     <g id=\"line2d_12\">\r\n      <g>\r\n       <use style=\"stroke:#000000;stroke-width:0.8;\" x=\"40.621875\" xlink:href=\"#m6b3690dbef\" y=\"47.005412\"/>\r\n      </g>\r\n     </g>\r\n     <g id=\"text_13\">\r\n      <!-- 35 -->\r\n      <g transform=\"translate(20.896875 50.804631)scale(0.1 -0.1)\">\r\n       <use xlink:href=\"#DejaVuSans-33\"/>\r\n       <use x=\"63.623047\" xlink:href=\"#DejaVuSans-35\"/>\r\n      </g>\r\n     </g>\r\n    </g>\r\n    <g id=\"text_14\">\r\n     <!-- Cotação (R$) -->\r\n     <g transform=\"translate(14.817188 218.471875)rotate(-90)scale(0.1 -0.1)\">\r\n      <defs>\r\n       <path d=\"M 4122 4306 \r\nL 4122 3641 \r\nQ 3803 3938 3442 4084 \r\nQ 3081 4231 2675 4231 \r\nQ 1875 4231 1450 3742 \r\nQ 1025 3253 1025 2328 \r\nQ 1025 1406 1450 917 \r\nQ 1875 428 2675 428 \r\nQ 3081 428 3442 575 \r\nQ 3803 722 4122 1019 \r\nL 4122 359 \r\nQ 3791 134 3420 21 \r\nQ 3050 -91 2638 -91 \r\nQ 1578 -91 968 557 \r\nQ 359 1206 359 2328 \r\nQ 359 3453 968 4101 \r\nQ 1578 4750 2638 4750 \r\nQ 3056 4750 3426 4639 \r\nQ 3797 4528 4122 4306 \r\nz\r\n\" id=\"DejaVuSans-43\" transform=\"scale(0.015625)\"/>\r\n       <path d=\"M 1172 4494 \r\nL 1172 3500 \r\nL 2356 3500 \r\nL 2356 3053 \r\nL 1172 3053 \r\nL 1172 1153 \r\nQ 1172 725 1289 603 \r\nQ 1406 481 1766 481 \r\nL 2356 481 \r\nL 2356 0 \r\nL 1766 0 \r\nQ 1100 0 847 248 \r\nQ 594 497 594 1153 \r\nL 594 3053 \r\nL 172 3053 \r\nL 172 3500 \r\nL 594 3500 \r\nL 594 4494 \r\nL 1172 4494 \r\nz\r\n\" id=\"DejaVuSans-74\" transform=\"scale(0.015625)\"/>\r\n       <path d=\"M 2194 1759 \r\nQ 1497 1759 1228 1600 \r\nQ 959 1441 959 1056 \r\nQ 959 750 1161 570 \r\nQ 1363 391 1709 391 \r\nQ 2188 391 2477 730 \r\nQ 2766 1069 2766 1631 \r\nL 2766 1759 \r\nL 2194 1759 \r\nz\r\nM 3341 1997 \r\nL 3341 0 \r\nL 2766 0 \r\nL 2766 531 \r\nQ 2569 213 2275 61 \r\nQ 1981 -91 1556 -91 \r\nQ 1019 -91 701 211 \r\nQ 384 513 384 1019 \r\nQ 384 1609 779 1909 \r\nQ 1175 2209 1959 2209 \r\nL 2766 2209 \r\nL 2766 2266 \r\nQ 2766 2663 2505 2880 \r\nQ 2244 3097 1772 3097 \r\nQ 1472 3097 1187 3025 \r\nQ 903 2953 641 2809 \r\nL 641 3341 \r\nQ 956 3463 1253 3523 \r\nQ 1550 3584 1831 3584 \r\nQ 2591 3584 2966 3190 \r\nQ 3341 2797 3341 1997 \r\nz\r\n\" id=\"DejaVuSans-61\" transform=\"scale(0.015625)\"/>\r\n       <path d=\"M 3122 3366 \r\nL 3122 2828 \r\nQ 2878 2963 2633 3030 \r\nQ 2388 3097 2138 3097 \r\nQ 1578 3097 1268 2742 \r\nQ 959 2388 959 1747 \r\nQ 959 1106 1268 751 \r\nQ 1578 397 2138 397 \r\nQ 2388 397 2633 464 \r\nQ 2878 531 3122 666 \r\nL 3122 134 \r\nQ 2881 22 2623 -34 \r\nQ 2366 -91 2075 -91 \r\nQ 1284 -91 818 406 \r\nQ 353 903 353 1747 \r\nQ 353 2603 823 3093 \r\nQ 1294 3584 2113 3584 \r\nQ 2378 3584 2631 3529 \r\nQ 2884 3475 3122 3366 \r\nz\r\nM 2311 0 \r\nQ 2482 -194 2566 -358 \r\nQ 2651 -522 2651 -672 \r\nQ 2651 -950 2463 -1092 \r\nQ 2276 -1234 1907 -1234 \r\nQ 1764 -1234 1628 -1215 \r\nQ 1492 -1197 1357 -1159 \r\nL 1357 -750 \r\nQ 1464 -803 1579 -826 \r\nQ 1695 -850 1842 -850 \r\nQ 2026 -850 2120 -775 \r\nQ 2214 -700 2214 -556 \r\nQ 2214 -463 2146 -327 \r\nQ 2079 -191 1939 0 \r\nL 2311 0 \r\nz\r\n\" id=\"DejaVuSans-e7\" transform=\"scale(0.015625)\"/>\r\n       <path d=\"M 2194 1759 \r\nQ 1497 1759 1228 1600 \r\nQ 959 1441 959 1056 \r\nQ 959 750 1161 570 \r\nQ 1363 391 1709 391 \r\nQ 2188 391 2477 730 \r\nQ 2766 1069 2766 1631 \r\nL 2766 1759 \r\nL 2194 1759 \r\nz\r\nM 3341 1997 \r\nL 3341 0 \r\nL 2766 0 \r\nL 2766 531 \r\nQ 2569 213 2275 61 \r\nQ 1981 -91 1556 -91 \r\nQ 1019 -91 701 211 \r\nQ 384 513 384 1019 \r\nQ 384 1609 779 1909 \r\nQ 1175 2209 1959 2209 \r\nL 2766 2209 \r\nL 2766 2266 \r\nQ 2766 2663 2505 2880 \r\nQ 2244 3097 1772 3097 \r\nQ 1472 3097 1187 3025 \r\nQ 903 2953 641 2809 \r\nL 641 3341 \r\nQ 956 3463 1253 3523 \r\nQ 1550 3584 1831 3584 \r\nQ 2591 3584 2966 3190 \r\nQ 3341 2797 3341 1997 \r\nz\r\nM 1844 4281 \r\nL 1665 4453 \r\nQ 1597 4516 1545 4545 \r\nQ 1494 4575 1453 4575 \r\nQ 1334 4575 1278 4461 \r\nQ 1222 4347 1215 4091 \r\nL 825 4091 \r\nQ 831 4513 990 4742 \r\nQ 1150 4972 1434 4972 \r\nQ 1553 4972 1653 4928 \r\nQ 1753 4884 1869 4781 \r\nL 2047 4609 \r\nQ 2115 4547 2167 4517 \r\nQ 2219 4488 2259 4488 \r\nQ 2378 4488 2434 4602 \r\nQ 2490 4716 2497 4972 \r\nL 2887 4972 \r\nQ 2881 4550 2721 4320 \r\nQ 2562 4091 2278 4091 \r\nQ 2159 4091 2059 4134 \r\nQ 1959 4178 1844 4281 \r\nz\r\n\" id=\"DejaVuSans-e3\" transform=\"scale(0.015625)\"/>\r\n       <path id=\"DejaVuSans-20\" transform=\"scale(0.015625)\"/>\r\n       <path d=\"M 1984 4856 \r\nQ 1566 4138 1362 3434 \r\nQ 1159 2731 1159 2009 \r\nQ 1159 1288 1364 580 \r\nQ 1569 -128 1984 -844 \r\nL 1484 -844 \r\nQ 1016 -109 783 600 \r\nQ 550 1309 550 2009 \r\nQ 550 2706 781 3412 \r\nQ 1013 4119 1484 4856 \r\nL 1984 4856 \r\nz\r\n\" id=\"DejaVuSans-28\" transform=\"scale(0.015625)\"/>\r\n       <path d=\"M 2841 2188 \r\nQ 3044 2119 3236 1894 \r\nQ 3428 1669 3622 1275 \r\nL 4263 0 \r\nL 3584 0 \r\nL 2988 1197 \r\nQ 2756 1666 2539 1819 \r\nQ 2322 1972 1947 1972 \r\nL 1259 1972 \r\nL 1259 0 \r\nL 628 0 \r\nL 628 4666 \r\nL 2053 4666 \r\nQ 2853 4666 3247 4331 \r\nQ 3641 3997 3641 3322 \r\nQ 3641 2881 3436 2590 \r\nQ 3231 2300 2841 2188 \r\nz\r\nM 1259 4147 \r\nL 1259 2491 \r\nL 2053 2491 \r\nQ 2509 2491 2742 2702 \r\nQ 2975 2913 2975 3322 \r\nQ 2975 3731 2742 3939 \r\nQ 2509 4147 2053 4147 \r\nL 1259 4147 \r\nz\r\n\" id=\"DejaVuSans-52\" transform=\"scale(0.015625)\"/>\r\n       <path d=\"M 2163 -941 \r\nL 1850 -941 \r\nL 1847 0 \r\nQ 1519 6 1191 76 \r\nQ 863 147 531 288 \r\nL 531 850 \r\nQ 850 650 1176 548 \r\nQ 1503 447 1850 444 \r\nL 1850 1869 \r\nQ 1159 1981 845 2250 \r\nQ 531 2519 531 2988 \r\nQ 531 3497 872 3790 \r\nQ 1213 4084 1850 4128 \r\nL 1850 4863 \r\nL 2163 4863 \r\nL 2163 4138 \r\nQ 2453 4125 2725 4076 \r\nQ 2997 4028 3256 3944 \r\nL 3256 3397 \r\nQ 2997 3528 2723 3600 \r\nQ 2450 3672 2163 3684 \r\nL 2163 2350 \r\nQ 2872 2241 3206 1959 \r\nQ 3541 1678 3541 1191 \r\nQ 3541 663 3186 358 \r\nQ 2831 53 2163 6 \r\nL 2163 -941 \r\nz\r\nM 1850 2406 \r\nL 1850 3688 \r\nQ 1488 3647 1297 3481 \r\nQ 1106 3316 1106 3041 \r\nQ 1106 2772 1282 2622 \r\nQ 1459 2472 1850 2406 \r\nz\r\nM 2163 1806 \r\nL 2163 453 \r\nQ 2559 506 2761 678 \r\nQ 2963 850 2963 1131 \r\nQ 2963 1406 2770 1568 \r\nQ 2578 1731 2163 1806 \r\nz\r\n\" id=\"DejaVuSans-24\" transform=\"scale(0.015625)\"/>\r\n       <path d=\"M 513 4856 \r\nL 1013 4856 \r\nQ 1481 4119 1714 3412 \r\nQ 1947 2706 1947 2009 \r\nQ 1947 1309 1714 600 \r\nQ 1481 -109 1013 -844 \r\nL 513 -844 \r\nQ 928 -128 1133 580 \r\nQ 1338 1288 1338 2009 \r\nQ 1338 2731 1133 3434 \r\nQ 928 4138 513 4856 \r\nz\r\n\" id=\"DejaVuSans-29\" transform=\"scale(0.015625)\"/>\r\n      </defs>\r\n      <use xlink:href=\"#DejaVuSans-43\"/>\r\n      <use x=\"69.824219\" xlink:href=\"#DejaVuSans-6f\"/>\r\n      <use x=\"131.005859\" xlink:href=\"#DejaVuSans-74\"/>\r\n      <use x=\"170.214844\" xlink:href=\"#DejaVuSans-61\"/>\r\n      <use x=\"231.494141\" xlink:href=\"#DejaVuSans-e7\"/>\r\n      <use x=\"286.474609\" xlink:href=\"#DejaVuSans-e3\"/>\r\n      <use x=\"347.753906\" xlink:href=\"#DejaVuSans-6f\"/>\r\n      <use x=\"408.935547\" xlink:href=\"#DejaVuSans-20\"/>\r\n      <use x=\"440.722656\" xlink:href=\"#DejaVuSans-28\"/>\r\n      <use x=\"479.736328\" xlink:href=\"#DejaVuSans-52\"/>\r\n      <use x=\"549.21875\" xlink:href=\"#DejaVuSans-24\"/>\r\n      <use x=\"612.841797\" xlink:href=\"#DejaVuSans-29\"/>\r\n     </g>\r\n    </g>\r\n   </g>\r\n   <g id=\"line2d_13\">\r\n    <path clip-path=\"url(#p65c5994d79)\" d=\"M 91.349148 259.428188 \r\nL 93.018723 259.159254 \r\nL 93.575249 253.080903 \r\nL 94.131774 245.496407 \r\nL 94.688299 244.474378 \r\nL 95.244824 253.134676 \r\nL 96.9144 256.523491 \r\nL 97.470925 255.931805 \r\nL 98.02745 253.941544 \r\nL 98.583975 255.878009 \r\nL 99.140501 254.049135 \r\nL 100.810076 258.029635 \r\nL 101.366601 258.621321 \r\nL 101.923127 254.102931 \r\nL 102.479652 252.005079 \r\nL 103.036177 253.672588 \r\nL 104.705753 250.606526 \r\nL 105.262278 250.283774 \r\nL 105.818803 254.318069 \r\nL 106.375328 256.900037 \r\nL 106.931854 262.494262 \r\nL 108.601429 260.611581 \r\nL 109.157954 253.941544 \r\nL 109.71448 249.154177 \r\nL 110.271005 252.274035 \r\nL 110.82753 251.467167 \r\nL 112.497106 249.476928 \r\nL 113.610156 259.481984 \r\nL 114.166681 252.166444 \r\nL 114.723206 247.056346 \r\nL 117.505833 244.904721 \r\nL 118.062358 245.335042 \r\nL 118.618883 244.850925 \r\nL 120.288459 242.91446 \r\nL 120.844984 240.709039 \r\nL 121.401509 239.579442 \r\nL 121.958034 239.149121 \r\nL 122.514559 241.677272 \r\nL 124.184135 244.420605 \r\nL 124.74066 244.097853 \r\nL 125.297185 248.239739 \r\nL 125.853711 248.562469 \r\nL 126.410236 250.929277 \r\nL 128.079811 256.469695 \r\nL 128.636337 262.709433 \r\nL 129.192862 257.276563 \r\nL 129.749387 260.611581 \r\nL 130.305912 262.870798 \r\nL 131.975488 260.181261 \r\nL 133.088538 245.442633 \r\nL 133.645064 248.777651 \r\nL 134.201589 245.765362 \r\nL 135.871164 246.249479 \r\nL 136.42769 248.132148 \r\nL 136.984215 248.024579 \r\nL 138.097265 259.320619 \r\nL 139.766841 255.447689 \r\nL 140.323366 244.183147 \r\nL 141.436416 244.129517 \r\nL 143.662517 244.015931 \r\nL 144.219043 243.60051 \r\nL 144.775568 242.825836 \r\nL 145.888618 240.573522 \r\nL 147.558194 239.44865 \r\nL 149.227769 236.618021 \r\nL 149.784295 235.704478 \r\nL 152.566921 234.639802 \r\nL 155.349547 234.473328 \r\nL 155.906072 234.118413 \r\nL 157.019122 232.813264 \r\nL 159.245223 232.090744 \r\nL 160.914799 229.876719 \r\nL 161.471324 229.51271 \r\nL 163.1409 229.428462 \r\nL 163.697425 229.607413 \r\nL 164.25395 230.062996 \r\nL 165.367 231.64611 \r\nL 167.036576 232.321955 \r\nL 168.706152 234.171927 \r\nL 169.262677 235.220627 \r\nL 170.932252 236.743545 \r\nL 171.488778 238.64044 \r\nL 173.158353 245.793981 \r\nL 174.827929 248.12564 \r\nL 175.940979 252.303516 \r\nL 177.05403 253.9224 \r\nL 178.723605 255.365639 \r\nL 179.836656 257.923993 \r\nL 180.393181 258.869021 \r\nL 180.949706 259.438756 \r\nL 183.175807 259.866715 \r\nL 184.288857 259.577085 \r\nL 184.845383 259.152528 \r\nL 186.514958 258.592425 \r\nL 187.628009 257.146783 \r\nL 188.741059 255.359966 \r\nL 190.410635 254.380696 \r\nL 191.523685 252.852069 \r\nL 192.636736 252.135734 \r\nL 194.306311 251.9723 \r\nL 194.862836 252.03732 \r\nL 196.532412 253.114694 \r\nL 198.201988 253.91929 \r\nL 198.758513 254.539208 \r\nL 199.315038 254.812711 \r\nL 199.871563 254.731432 \r\nL 200.428089 254.375951 \r\nL 202.097664 253.855365 \r\nL 202.654189 253.378645 \r\nL 203.210715 253.129858 \r\nL 203.76724 253.244682 \r\nL 204.323765 253.946737 \r\nL 205.993341 255.189144 \r\nL 208.219441 261.229735 \r\nL 209.889017 262.291084 \r\nL 211.558593 265.363732 \r\nL 212.115118 266.514618 \r\nL 213.784694 267.801912 \r\nL 216.010794 272.987917 \r\nL 217.68037 274.566702 \r\nL 219.906471 282.031982 \r\nL 221.576046 283.939808 \r\nL 222.689097 287.605202 \r\nL 223.245622 289.051339 \r\nL 223.802147 289.842255 \r\nL 225.471723 290.050447 \r\nL 226.584773 289.923097 \r\nL 229.923925 290.355948 \r\nL 231.5935 291.384495 \r\nL 233.263076 291.78799 \r\nL 233.819601 292.065391 \r\nL 234.376126 292.041231 \r\nL 234.932651 291.493553 \r\nL 235.489177 290.40956 \r\nL 237.158752 289.152138 \r\nL 237.715277 288.11137 \r\nL 238.271803 287.467796 \r\nL 238.828328 287.421965 \r\nL 239.384853 287.937981 \r\nL 241.054429 288.998738 \r\nL 241.610954 290.591325 \r\nL 243.28053 296.957887 \r\nL 244.950105 298.675093 \r\nL 245.50663 299.691971 \r\nL 246.063156 299.890951 \r\nL 246.619681 299.161228 \r\nL 247.176206 297.592646 \r\nL 249.402307 295.445161 \r\nL 250.515357 291.374218 \r\nL 251.071882 290.019293 \r\nL 252.741458 289.32976 \r\nL 253.297983 289.302481 \r\nL 253.854509 289.937695 \r\nL 254.411034 291.115653 \r\nL 254.967559 292.603645 \r\nL 256.637135 294.256542 \r\nL 257.750185 297.607761 \r\nL 258.863235 300.004338 \r\nL 261.089336 300.979525 \r\nL 261.645861 301.657836 \r\nL 262.202387 302.057479 \r\nL 262.758912 302.103328 \r\nL 264.428487 301.864552 \r\nL 266.654588 300.558087 \r\nL 268.324164 300.291304 \r\nL 269.437214 299.755785 \r\nL 269.99374 299.227804 \r\nL 272.21984 298.346709 \r\nL 274.445941 293.634927 \r\nL 276.115517 293.158194 \r\nL 276.672042 293.272668 \r\nL 277.228567 293.978978 \r\nL 278.341618 296.541843 \r\nL 280.011193 297.895832 \r\nL 281.124244 300.371369 \r\nL 282.237294 302.09723 \r\nL 283.90687 302.787988 \r\nL 286.132971 305.472068 \r\nL 287.802546 306.216912 \r\nL 288.359071 307.258971 \r\nL 288.915597 308.578332 \r\nL 291.698223 310.058939 \r\nL 292.811273 312.875748 \r\nL 295.593899 314.053613 \r\nL 296.70695 316.047839 \r\nL 297.82 317.766101 \r\nL 299.489576 318.713745 \r\nL 300.602626 321.189577 \r\nL 301.715676 324.265841 \r\nL 303.385252 325.776362 \r\nL 304.498302 328.515579 \r\nL 305.611353 330.531923 \r\nL 307.837454 331.204889 \r\nL 308.393979 331.655907 \r\nL 308.950504 331.875082 \r\nL 309.507029 331.874903 \r\nL 311.176605 331.551319 \r\nL 311.73313 330.809584 \r\nL 312.289655 329.815482 \r\nL 312.846181 328.560804 \r\nL 313.402706 326.914026 \r\nL 316.185332 324.933713 \r\nL 317.298382 320.47416 \r\nL 318.967958 318.403865 \r\nL 320.081008 315.058158 \r\nL 321.194059 312.46077 \r\nL 322.863634 311.501115 \r\nL 325.089735 307.89124 \r\nL 326.759311 307.124912 \r\nL 327.872361 305.420316 \r\nL 328.428886 304.224391 \r\nL 328.985412 302.387612 \r\nL 330.654987 299.363141 \r\nL 331.768038 290.38893 \r\nL 332.881088 280.622327 \r\nL 334.550664 276.167988 \r\nL 335.107189 272.188677 \r\nL 335.663714 269.086232 \r\nL 336.220239 267.134139 \r\nL 336.776765 265.714348 \r\nL 338.44634 264.556803 \r\nL 340.115916 261.397101 \r\nL 342.342017 260.909971 \r\nL 344.568117 259.820809 \r\nL 346.237693 259.634435 \r\nL 346.794218 259.732027 \r\nL 347.350743 260.156982 \r\nL 347.907269 261.015238 \r\nL 348.463794 262.232687 \r\nL 350.13337 263.421884 \r\nL 350.689895 264.26875 \r\nL 351.24642 264.378051 \r\nL 351.802945 263.066174 \r\nL 352.35947 260.921432 \r\nL 354.029046 258.396118 \r\nL 355.142096 253.644973 \r\nL 356.255147 251.82608 \r\nL 358.481248 250.172193 \r\nL 359.037773 250.276333 \r\nL 360.150823 250.8285 \r\nL 361.820399 251.177478 \r\nL 362.376924 251.678852 \r\nL 363.489975 253.330768 \r\nL 364.0465 254.255056 \r\nL 365.716075 255.183047 \r\nL 366.272601 256.02382 \r\nL 366.829126 256.477936 \r\nL 367.385651 256.383198 \r\nL 367.942176 255.6109 \r\nL 369.611752 254.467481 \r\nL 370.168277 253.295501 \r\nL 370.724802 252.492655 \r\nL 371.281327 252.198412 \r\nL 373.507428 253.498736 \r\nL 374.620479 256.74908 \r\nL 375.733529 258.659857 \r\nL 377.403105 260.622139 \r\nL 379.629206 268.646895 \r\nL 381.298781 270.166346 \r\nL 381.855306 271.244193 \r\nL 382.411832 271.820484 \r\nL 382.968357 271.754187 \r\nL 383.524882 271.057567 \r\nL 385.194458 270.064812 \r\nL 386.307508 267.872486 \r\nL 387.420558 266.358359 \r\nL 389.090134 265.875321 \r\nL 390.203185 265.040685 \r\nL 390.75971 264.538648 \r\nL 391.316235 263.839911 \r\nL 392.985811 263.068423 \r\nL 393.542336 262.536177 \r\nL 394.655386 262.059342 \r\nL 395.211911 261.84656 \r\nL 396.881487 261.46528 \r\nL 397.438012 260.858153 \r\nL 398.551063 259.107743 \r\nL 399.107588 258.090909 \r\nL 400.777163 256.912178 \r\nL 401.890214 254.008964 \r\nL 403.003264 250.362278 \r\nL 404.67284 248.04543 \r\nL 406.342416 239.639708 \r\nL 406.898941 236.883633 \r\nL 408.568516 234.397147 \r\nL 409.125042 232.294676 \r\nL 409.681567 230.690142 \r\nL 410.238092 229.589695 \r\nL 410.794617 229.248883 \r\nL 412.464193 229.489558 \r\nL 413.020718 230.130941 \r\nL 414.690294 232.967376 \r\nL 417.47292 233.79705 \r\nL 418.029445 233.811109 \r\nL 420.255546 233.401733 \r\nL 421.368596 232.195661 \r\nL 422.481647 230.54477 \r\nL 424.151222 229.68719 \r\nL 424.707747 229.086951 \r\nL 425.264273 228.912127 \r\nL 425.820798 229.23121 \r\nL 426.377323 229.96399 \r\nL 428.046899 230.899483 \r\nL 428.603424 231.75951 \r\nL 429.159949 232.374489 \r\nL 429.716474 232.723122 \r\nL 430.273 232.89154 \r\nL 431.942575 232.758327 \r\nL 433.612151 231.476428 \r\nL 434.168676 230.278751 \r\nL 435.838252 229.167029 \r\nL 436.394777 228.358828 \r\nL 436.951302 228.216328 \r\nL 437.507827 228.76147 \r\nL 438.064352 229.714221 \r\nL 439.733928 230.968417 \r\nL 440.846978 233.652579 \r\nL 441.403504 234.615589 \r\nL 441.960029 235.013416 \r\nL 443.629605 234.79462 \r\nL 444.18613 234.116901 \r\nL 444.742655 233.006796 \r\nL 445.855705 229.952414 \r\nL 447.525281 228.431183 \r\nL 448.638331 225.824509 \r\nL 449.751382 223.543662 \r\nL 451.420957 222.421291 \r\nL 451.977483 221.285595 \r\nL 453.090533 220.198244 \r\nL 453.647058 219.206046 \r\nL 455.316634 218.291204 \r\nL 455.873159 217.31979 \r\nL 456.98621 214.634453 \r\nL 457.542735 212.939255 \r\nL 459.21231 211.161036 \r\nL 460.325361 208.170578 \r\nL 460.881886 207.236658 \r\nL 461.438411 206.608098 \r\nL 463.107987 206.183275 \r\nL 463.664512 205.656725 \r\nL 465.334088 204.912723 \r\nL 467.003663 205.031266 \r\nL 468.673239 205.659942 \r\nL 469.229764 206.728029 \r\nL 470.89934 208.759992 \r\nL 472.01239 211.586177 \r\nL 473.125441 218.347485 \r\nL 474.795016 221.82889 \r\nL 475.908067 227.576386 \r\nL 476.464592 229.482135 \r\nL 477.021117 230.743904 \r\nL 478.690693 231.409146 \r\nL 479.247218 231.485477 \r\nL 479.803743 231.2774 \r\nL 480.360268 230.817045 \r\nL 480.916793 230.55032 \r\nL 482.586369 230.563716 \r\nL 483.69942 231.344815 \r\nL 484.81247 232.381187 \r\nL 486.482046 232.851068 \r\nL 487.038571 233.466576 \r\nL 487.595096 234.263113 \r\nL 488.708146 236.468566 \r\nL 490.377722 237.758206 \r\nL 492.603823 243.296591 \r\nL 494.273398 244.395783 \r\nL 494.829924 245.112286 \r\nL 495.386449 245.450748 \r\nL 498.169075 244.356098 \r\nL 498.7256 242.931726 \r\nL 499.282125 240.863726 \r\nL 500.395176 235.398067 \r\nL 502.064751 232.308338 \r\nL 503.177802 226.326034 \r\nL 504.290852 221.277491 \r\nL 505.960428 219.10172 \r\nL 507.073478 215.456846 \r\nL 508.186529 212.436935 \r\nL 509.856104 211.301663 \r\nL 510.41263 210.305241 \r\nL 511.52568 209.427982 \r\nL 512.082205 208.50213 \r\nL 513.751781 207.466853 \r\nL 514.864831 205.561051 \r\nL 515.421356 204.807213 \r\nL 515.977882 204.552965 \r\nL 517.647457 204.707792 \r\nL 518.203982 205.326543 \r\nL 519.317033 207.539049 \r\nL 519.873558 208.662647 \r\nL 521.543134 209.485013 \r\nL 522.099659 209.894434 \r\nL 522.656184 209.934711 \r\nL 523.212709 209.518858 \r\nL 523.769234 208.718097 \r\nL 525.43881 207.664237 \r\nL 526.551861 204.996786 \r\nL 527.664911 201.447612 \r\nL 530.447537 199.787566 \r\nL 531.004062 198.479387 \r\nL 531.560587 197.632234 \r\nL 533.230163 197.068791 \r\nL 533.786688 196.761275 \r\nL 534.343213 196.768212 \r\nL 534.899739 197.199291 \r\nL 535.456264 198.096168 \r\nL 537.125839 199.424848 \r\nL 539.35194 205.375154 \r\nL 541.021516 206.556553 \r\nL 542.691092 209.830235 \r\nL 543.247617 210.996038 \r\nL 544.917192 212.018802 \r\nL 545.473718 212.748843 \r\nL 546.030243 213.092094 \r\nL 546.586768 212.893287 \r\nL 547.143293 212.214932 \r\nL 548.812869 211.236369 \r\nL 550.482444 207.675522 \r\nL 551.03897 206.875424 \r\nL 553.265071 206.369746 \r\nL 553.821596 206.4968 \r\nL 554.378121 206.833247 \r\nL 556.604222 207.555396 \r\nL 557.717272 209.062285 \r\nL 558.273797 209.711974 \r\nL 560.499898 210.408082 \r\nL 561.056423 211.046062 \r\nL 561.612949 211.504146 \r\nL 562.169474 211.612201 \r\nL 562.725999 211.117913 \r\nL 564.9521 210.026851 \r\nL 565.508625 208.250665 \r\nL 566.621676 203.369621 \r\nL 568.291251 200.859762 \r\nL 569.404302 196.622204 \r\nL 570.517352 193.279066 \r\nL 572.186928 191.74861 \r\nL 573.299978 188.847181 \r\nL 573.856503 187.705113 \r\nL 574.413028 188.006594 \r\nL 576.082604 189.91768 \r\nL 576.639129 193.434962 \r\nL 577.75218 203.491885 \r\nL 578.308705 208.968087 \r\nL 579.978281 214.015162 \r\nL 580.534806 218.282854 \r\nL 581.091331 221.553522 \r\nL 581.647856 223.910348 \r\nL 582.204381 225.497668 \r\nL 583.873957 226.555619 \r\nL 584.430482 227.2511 \r\nL 584.987007 227.604787 \r\nL 585.543533 227.551369 \r\nL 586.100058 227.220242 \r\nL 588.326159 226.696926 \r\nL 589.995734 227.143178 \r\nL 592.221835 227.526927 \r\nL 593.334886 227.952474 \r\nL 593.891411 228.262155 \r\nL 596.117512 228.723155 \r\nL 596.674037 228.522448 \r\nL 597.230562 227.992593 \r\nL 597.787087 227.152324 \r\nL 599.456663 225.955796 \r\nL 600.569713 222.77147 \r\nL 601.682764 219.445873 \r\nL 603.352339 218.158964 \r\nL 605.57844 213.905349 \r\nL 607.248016 212.339528 \r\nL 609.474117 205.859482 \r\nL 611.143692 204.840509 \r\nL 612.256743 203.625451 \r\nL 613.369793 202.995733 \r\nL 615.039369 202.856856 \r\nL 615.595894 202.692229 \r\nL 616.152419 202.356365 \r\nL 616.708944 201.715884 \r\nL 617.265469 200.779022 \r\nL 618.935045 199.616692 \r\nL 620.048096 196.652956 \r\nL 621.161146 193.260341 \r\nL 622.830722 191.70455 \r\nL 625.056822 185.717209 \r\nL 626.726398 184.423522 \r\nL 627.839448 181.85946 \r\nL 628.952499 178.603345 \r\nL 630.622074 176.770675 \r\nL 631.735125 173.534478 \r\nL 632.29165 172.252562 \r\nL 632.848175 171.309831 \r\nL 634.517751 170.53316 \r\nL 635.074276 169.857827 \r\nL 635.630801 169.388335 \r\nL 636.743852 169.017125 \r\nL 638.413427 168.772402 \r\nL 638.969953 168.304908 \r\nL 639.526478 167.531382 \r\nL 640.639528 165.190321 \r\nL 642.309104 163.713044 \r\nL 643.422154 160.080947 \r\nL 644.535205 156.362887 \r\nL 646.20478 154.823647 \r\nL 646.761306 153.77364 \r\nL 647.317831 153.281031 \r\nL 647.874356 153.407643 \r\nL 648.430881 154.195184 \r\nL 650.100457 155.400133 \r\nL 650.656982 156.723016 \r\nL 651.213507 157.56796 \r\nL 651.770032 157.788364 \r\nL 652.326558 157.391015 \r\nL 653.996133 156.594036 \r\nL 654.552658 155.591623 \r\nL 655.109184 154.318579 \r\nL 656.222234 152.899747 \r\nL 657.89181 151.530966 \r\nL 658.448335 150.361752 \r\nL 659.00486 149.490741 \r\nL 659.561385 148.986097 \r\nL 660.117911 148.875391 \r\nL 661.787486 149.159401 \r\nL 662.344011 149.856879 \r\nL 664.013587 152.602234 \r\nL 665.683163 153.495532 \r\nL 666.239688 154.498493 \r\nL 666.796213 155.745964 \r\nL 667.909263 157.509479 \r\nL 669.578839 159.682785 \r\nL 670.691889 164.859971 \r\nL 671.80494 170.279972 \r\nL 673.474516 172.929149 \r\nL 675.144091 179.793237 \r\nL 675.700616 181.490671 \r\nL 677.926717 182.492677 \r\nL 678.483242 182.547146 \r\nL 679.039768 181.780637 \r\nL 679.596293 180.459379 \r\nL 681.265868 178.911656 \r\nL 682.378919 176.00945 \r\nL 682.935444 175.033794 \r\nL 683.491969 174.585811 \r\nL 685.161545 174.674549 \r\nL 685.71807 175.072675 \r\nL 687.387646 177.068965 \r\nL 689.057221 177.678606 \r\nL 689.613747 178.179221 \r\nL 690.170272 178.384567 \r\nL 693.509423 178.496033 \r\nL 694.622473 178.791584 \r\nL 697.405099 178.068869 \r\nL 699.074675 175.676802 \r\nL 701.300776 174.773395 \r\nL 702.413826 172.338772 \r\nL 702.970352 170.676968 \r\nL 704.639927 168.698917 \r\nL 706.309503 162.592361 \r\nL 706.866028 161.048632 \r\nL 708.535604 159.760247 \r\nL 710.205179 156.468025 \r\nL 710.761704 155.087686 \r\nL 712.43128 153.492157 \r\nL 713.54433 149.538865 \r\nL 714.100856 146.800914 \r\nL 714.657381 143.44028 \r\nL 716.326957 139.287492 \r\nL 717.996532 126.408644 \r\nL 718.553057 123.029417 \r\nL 720.779158 120.370996 \r\nL 721.335683 120.990181 \r\nL 721.892209 122.595501 \r\nL 722.448734 125.007467 \r\nL 725.787885 128.053181 \r\nL 726.34441 131.043684 \r\nL 728.013986 133.630775 \r\nL 728.570511 135.684556 \r\nL 729.127036 136.846364 \r\nL 729.683562 137.020835 \r\nL 730.240087 136.250561 \r\nL 731.909662 134.633099 \r\nL 733.579238 127.96561 \r\nL 734.135763 126.590325 \r\nL 736.361864 125.521779 \r\nL 736.918389 125.521408 \r\nL 737.474914 125.896011 \r\nL 738.03144 126.731182 \r\nL 739.701015 127.735892 \r\nL 741.927116 131.290085 \r\nL 743.596692 132.358084 \r\nL 745.822793 137.496654 \r\nL 747.492368 138.365457 \r\nL 748.048893 138.805876 \r\nL 748.605419 138.951027 \r\nL 751.388045 138.219776 \r\nL 751.94457 137.238853 \r\nL 753.05762 134.409249 \r\nL 753.614145 132.893302 \r\nL 755.283721 131.498153 \r\nL 755.840246 130.720297 \r\nL 756.396772 130.599836 \r\nL 756.953297 130.821123 \r\nL 757.509822 131.384019 \r\nL 759.179398 132.426709 \r\nL 759.735923 134.112125 \r\nL 760.848973 138.211045 \r\nL 761.405498 139.806522 \r\nL 763.075074 141.041215 \r\nL 763.631599 141.941052 \r\nL 764.188124 142.527983 \r\nL 764.74465 142.720622 \r\nL 766.97075 141.958089 \r\nL 768.083801 141.193153 \r\nL 768.640326 140.663112 \r\nL 769.196851 140.736032 \r\nL 770.866427 141.464703 \r\nL 771.422952 142.837637 \r\nL 773.092528 148.922402 \r\nL 774.762103 150.709316 \r\nL 775.875154 153.929023 \r\nL 776.988204 156.674397 \r\nL 778.65778 158.210544 \r\nL 780.327355 163.183851 \r\nL 780.883881 164.708352 \r\nL 782.553456 166.28437 \r\nL 783.666507 170.687342 \r\nL 784.779557 173.42432 \r\nL 786.449133 176.106812 \r\nL 788.675234 185.167163 \r\nL 790.344809 187.814211 \r\nL 792.014385 197.143982 \r\nL 792.57091 200.758574 \r\nL 794.240486 204.485567 \r\nL 795.353536 211.789791 \r\nL 795.910061 214.432279 \r\nL 796.466587 216.394212 \r\nL 798.136162 217.636204 \r\nL 798.692687 218.223604 \r\nL 799.249213 218.302904 \r\nL 799.805738 218.131269 \r\nL 800.362263 217.625061 \r\nL 802.031839 216.671082 \r\nL 802.588364 215.402147 \r\nL 803.144889 213.616912 \r\nL 804.257939 208.411713 \r\nL 806.48404 205.321851 \r\nL 807.597091 199.625449 \r\nL 808.153616 197.212033 \r\nL 809.823192 194.902608 \r\nL 812.049292 185.596271 \r\nL 813.718868 183.252789 \r\nL 815.944969 173.917812 \r\nL 817.614544 171.959432 \r\nL 818.17107 170.268661 \r\nL 818.727595 169.037255 \r\nL 819.28412 168.200034 \r\nL 819.840645 167.705376 \r\nL 821.510221 167.147694 \r\nL 822.623271 165.74878 \r\nL 823.179797 165.359826 \r\nL 823.736322 165.479244 \r\nL 825.405897 166.561558 \r\nL 825.962423 168.456386 \r\nL 827.631998 175.878084 \r\nL 829.301574 178.518266 \r\nL 831.527675 188.555854 \r\nL 833.19725 190.603299 \r\nL 833.753775 192.107024 \r\nL 834.310301 193.022918 \r\nL 834.866826 193.283643 \r\nL 835.423351 193.307228 \r\nL 837.649452 193.127226 \r\nL 838.205977 193.324495 \r\nL 838.762502 193.808417 \r\nL 840.988603 194.299771 \r\nL 842.658179 195.315527 \r\nL 843.214704 195.78934 \r\nL 844.88428 196.315006 \r\nL 845.440805 196.621877 \r\nL 845.99733 196.543452 \r\nL 846.553855 196.02155 \r\nL 847.11038 195.128243 \r\nL 848.779956 193.848845 \r\nL 849.893007 191.281495 \r\nL 851.006057 189.336546 \r\nL 852.675633 188.579165 \r\nL 853.788683 187.55322 \r\nL 854.345208 186.302833 \r\nL 854.901733 184.233145 \r\nL 856.571309 181.596834 \r\nL 857.127834 178.066324 \r\nL 858.240885 169.201157 \r\nL 860.466985 164.999113 \r\nL 861.580036 158.095579 \r\nL 862.693086 152.472742 \r\nL 864.362662 150.542957 \r\nL 864.919187 149.127554 \r\nL 865.475712 148.117612 \r\nL 866.032238 147.674118 \r\nL 866.588763 147.50813 \r\nL 868.258338 147.299196 \r\nL 868.814864 147.11451 \r\nL 869.371389 146.591751 \r\nL 869.927914 145.796487 \r\nL 872.154015 144.233882 \r\nL 872.71054 141.654497 \r\nL 874.380116 131.662815 \r\nL 876.049691 129.130352 \r\nL 876.606216 127.265146 \r\nL 877.162742 126.250892 \r\nL 878.275792 125.906403 \r\nL 879.945368 125.546221 \r\nL 881.058418 124.952362 \r\nL 882.171469 123.310051 \r\nL 883.841044 122.394114 \r\nL 884.954095 120.850844 \r\nL 885.51062 119.558182 \r\nL 886.067145 117.652239 \r\nL 887.736721 115.367874 \r\nL 888.849771 111.264094 \r\nL 889.406296 109.882676 \r\nL 889.962821 108.906261 \r\nL 891.632397 108.32548 \r\nL 892.188922 108.308549 \r\nL 892.745448 108.694393 \r\nL 893.301973 109.271851 \r\nL 893.858498 109.596545 \r\nL 896.641124 109.609376 \r\nL 897.754174 109.546123 \r\nL 900.5368 109.655645 \r\nL 901.093326 110.238864 \r\nL 901.649851 111.076757 \r\nL 904.432477 111.661514 \r\nL 904.989002 111.275157 \r\nL 905.545527 109.668299 \r\nL 907.215103 107.073714 \r\nL 908.328153 99.781509 \r\nL 909.441204 91.111933 \r\nL 911.110779 87.059317 \r\nL 912.22383 80.336316 \r\nL 912.780355 77.81253 \r\nL 913.33688 75.808959 \r\nL 915.006456 74.159809 \r\nL 915.562981 72.956468 \r\nL 916.119506 72.253405 \r\nL 916.676031 71.792892 \r\nL 918.902132 71.330081 \r\nL 920.571708 69.394958 \r\nL 921.128233 68.188489 \r\nL 922.797809 66.461452 \r\nL 923.354334 64.068149 \r\nL 924.467384 58.691607 \r\nL 925.02391 56.797805 \r\nL 926.693485 55.408099 \r\nL 927.806536 53.881849 \r\nL 928.363061 53.499381 \r\nL 928.919586 52.84621 \r\nL 930.589162 51.901695 \r\nL 931.702212 50.337394 \r\nL 932.258737 50.028288 \r\nL 932.815263 50.045219 \r\nL 934.484838 50.433343 \r\nL 935.597889 52.213664 \r\nL 936.154414 53.265828 \r\nL 936.710939 54.713131 \r\nL 940.05009 56.758641 \r\nL 940.606615 59.320689 \r\nL 942.276191 62.012866 \r\nL 942.832716 64.026422 \r\nL 943.389241 65.054091 \r\nL 943.945767 64.943102 \r\nL 944.502292 63.79598 \r\nL 946.171868 61.811531 \r\nL 947.284918 56.625437 \r\nL 947.841443 54.748107 \r\nL 948.397968 54.107679 \r\nL 950.067544 55.193032 \r\nL 950.624069 57.816548 \r\nL 951.180594 61.477541 \r\nL 952.293645 70.712062 \r\nL 953.96322 74.514989 \r\nL 954.519746 77.093756 \r\nL 955.076271 78.549596 \r\nL 955.632796 79.193842 \r\nL 956.189321 78.929661 \r\nL 957.858897 77.794203 \r\nL 958.971947 73.76762 \r\nL 959.528473 71.645867 \r\nL 960.084998 70.063699 \r\nL 961.754573 69.287169 \r\nL 962.311099 69.34443 \r\nL 962.867624 70.125343 \r\nL 963.424149 71.60893 \r\nL 965.65025 73.425959 \r\nL 966.206775 75.207236 \r\nL 966.7633 76.424786 \r\nL 967.319825 77.010162 \r\nL 967.876351 76.846754 \r\nL 969.545926 76.069022 \r\nL 970.102451 75.03713 \r\nL 971.215502 73.941614 \r\nL 971.772027 72.914812 \r\nL 973.441603 71.904534 \r\nL 973.998128 71.293815 \r\nL 974.554653 71.251134 \r\nL 975.111178 71.486048 \r\nL 975.667704 72.074092 \r\nL 977.337279 73.059061 \r\nL 977.893804 74.674173 \r\nL 978.45033 76.875279 \r\nL 979.56338 82.81233 \r\nL 981.232956 86.16761 \r\nL 981.789481 89.079819 \r\nL 982.346006 90.765977 \r\nL 982.902531 91.282498 \r\nL 983.459056 90.859575 \r\nL 985.128632 89.89265 \r\nL 985.685157 88.491121 \r\nL 986.241683 86.481877 \r\nL 986.798208 83.714235 \r\nL 987.354733 80.100677 \r\nL 989.024309 75.91309 \r\nL 990.693884 63.638741 \r\nL 991.250409 60.485025 \r\nL 992.919985 57.852036 \r\nL 993.47651 55.912124 \r\nL 994.033035 54.610166 \r\nL 994.589561 54.034034 \r\nL 995.146086 54.257195 \r\nL 996.815661 55.184514 \r\nL 997.928712 58.375273 \r\nL 999.041762 59.926318 \r\nL 1000.711338 60.827039 \r\nL 1001.267863 60.855882 \r\nL 1001.824388 60.187954 \r\nL 1002.380914 58.852081 \r\nL 1002.937439 57.111082 \r\nL 1004.607014 55.264009 \r\nL 1005.720065 52.112732 \r\nL 1006.833115 49.103125 \r\nL 1008.502691 47.131419 \r\nL 1009.615741 44.94917 \r\nL 1010.728792 40.956273 \r\nL 1012.954893 39.584894 \r\nL 1013.511418 40.0918 \r\nL 1014.624468 42.580168 \r\nL 1016.294044 44.118383 \r\nL 1017.407094 46.78184 \r\nL 1017.963619 47.373791 \r\nL 1018.520145 48.175806 \r\nL 1020.18972 49.566237 \r\nL 1020.746245 51.593136 \r\nL 1021.302771 54.387995 \r\nL 1021.859296 58.09432 \r\nL 1022.415821 62.580356 \r\nL 1024.085397 67.474911 \r\nL 1025.198447 77.517085 \r\nL 1025.754972 81.580924 \r\nL 1026.311498 84.500609 \r\nL 1027.981073 86.435131 \r\nL 1028.537598 87.793785 \r\nL 1029.650649 89.386504 \r\nL 1030.207174 90.18327 \r\nL 1031.87675 91.073157 \r\nL 1032.433275 92.194865 \r\nL 1034.10285 96.497064 \r\nL 1035.772426 98.098708 \r\nL 1037.998527 105.361629 \r\nL 1040.224628 106.510572 \r\nL 1040.781153 106.487862 \r\nL 1041.337678 106.194113 \r\nL 1041.894203 105.431651 \r\nL 1043.563779 103.71543 \r\nL 1044.120304 100.903252 \r\nL 1045.78988 90.399433 \r\nL 1047.459455 87.777331 \r\nL 1048.015981 86.214815 \r\nL 1048.572506 85.389807 \r\nL 1049.129031 85.057319 \r\nL 1049.685556 85.187306 \r\nL 1051.355132 85.452794 \r\nL 1053.024707 86.170526 \r\nL 1053.581233 86.173901 \r\nL 1055.250808 85.920218 \r\nL 1055.807334 85.66362 \r\nL 1056.363859 85.682212 \r\nL 1056.920384 86.532069 \r\nL 1057.476909 88.226763 \r\nL 1059.146485 90.469773 \r\nL 1060.81606 98.002159 \r\nL 1061.372586 99.453244 \r\nL 1063.042161 99.882264 \r\nL 1063.598686 99.170454 \r\nL 1064.155212 97.380235 \r\nL 1064.711737 94.472391 \r\nL 1065.268262 90.957309 \r\nL 1066.937838 87.713671 \r\nL 1068.050888 82.832018 \r\nL 1069.163939 78.995565 \r\nL 1070.833514 77.209623 \r\nL 1071.946565 72.446699 \r\nL 1072.50309 69.759789 \r\nL 1073.059615 67.6614 \r\nL 1074.729191 66.520835 \r\nL 1075.285716 66.375277 \r\nL 1075.842241 66.911715 \r\nL 1076.398766 67.951508 \r\nL 1076.955291 69.255392 \r\nL 1078.624867 71.017298 \r\nL 1079.737917 75.723244 \r\nL 1080.294443 78.595706 \r\nL 1082.520544 81.681538 \r\nL 1083.077069 84.871395 \r\nL 1084.190119 88.01175 \r\nL 1084.746644 90.868394 \r\nL 1086.41622 93.091238 \r\nL 1086.972745 94.628181 \r\nL 1087.52927 95.770248 \r\nL 1088.085796 96.449045 \r\nL 1088.642321 96.801062 \r\nL 1090.311896 96.856751 \r\nL 1090.868422 96.596405 \r\nL 1091.424947 96.035189 \r\nL 1091.981472 94.922283 \r\nL 1092.537997 93.239783 \r\nL 1094.207573 91.268925 \r\nL 1095.877149 85.169562 \r\nL 1096.433674 83.523858 \r\nL 1098.103249 82.068725 \r\nL 1098.659775 81.042435 \r\nL 1099.772825 79.284258 \r\nL 1100.32935 77.772164 \r\nL 1103.668501 74.115343 \r\nL 1104.225027 72.07623 \r\nL 1105.894602 70.051999 \r\nL 1105.894602 70.051999 \r\n\" style=\"fill:none;stroke:#ff0000;stroke-linecap:square;stroke-width:1.5;\"/>\r\n   </g>\r\n   <g id=\"line2d_14\">\r\n    <path clip-path=\"url(#p65c5994d79)\" d=\"M 91.349148 259.428188 \r\nL 93.018723 259.159254 \r\nL 93.575249 253.080903 \r\nL 94.131774 245.496407 \r\nL 94.688299 244.474378 \r\nL 95.244824 253.134676 \r\nL 96.9144 256.523491 \r\nL 97.470925 255.931805 \r\nL 98.02745 253.941544 \r\nL 98.583975 255.878009 \r\nL 99.140501 254.049135 \r\nL 100.810076 258.029635 \r\nL 101.366601 258.621321 \r\nL 101.923127 254.102931 \r\nL 102.479652 252.005079 \r\nL 103.036177 253.672588 \r\nL 104.705753 250.606526 \r\nL 105.262278 250.283774 \r\nL 105.818803 254.318069 \r\nL 106.375328 256.900037 \r\nL 106.931854 262.494262 \r\nL 108.601429 260.611581 \r\nL 109.157954 253.941544 \r\nL 109.71448 249.154177 \r\nL 110.271005 252.274035 \r\nL 110.82753 251.467167 \r\nL 112.497106 249.476928 \r\nL 113.610156 259.481984 \r\nL 114.166681 252.166444 \r\nL 114.723206 247.056346 \r\nL 117.505833 244.904721 \r\nL 118.062358 245.335042 \r\nL 118.618883 244.850925 \r\nL 120.288459 242.91446 \r\nL 120.844984 240.709039 \r\nL 121.401509 239.579442 \r\nL 121.958034 239.149121 \r\nL 122.514559 241.677272 \r\nL 124.184135 244.420605 \r\nL 124.74066 244.097853 \r\nL 125.297185 248.239739 \r\nL 125.853711 248.562469 \r\nL 126.410236 250.929277 \r\nL 128.079811 256.469695 \r\nL 128.636337 262.709433 \r\nL 129.192862 257.276563 \r\nL 129.749387 260.611581 \r\nL 130.305912 262.870798 \r\nL 131.975488 260.181261 \r\nL 133.088538 245.442633 \r\nL 133.645064 248.777651 \r\nL 134.201589 245.765362 \r\nL 135.871164 246.249479 \r\nL 136.42769 248.132148 \r\nL 136.984215 248.024579 \r\nL 138.097265 259.320619 \r\nL 139.766841 255.447689 \r\nL 140.323366 253.188472 \r\nL 140.879891 246.991779 \r\nL 141.436416 245.055335 \r\nL 143.662517 243.11887 \r\nL 144.219043 242.021524 \r\nL 144.775568 242.086092 \r\nL 145.332093 245.700817 \r\nL 145.888618 244.926222 \r\nL 147.558194 244.409832 \r\nL 148.114719 241.634248 \r\nL 148.671244 239.439578 \r\nL 149.227769 239.375032 \r\nL 149.784295 245.442633 \r\nL 151.45387 246.539957 \r\nL 152.566921 244.926222 \r\nL 153.679971 234.146571 \r\nL 155.349547 238.084069 \r\nL 155.906072 234.146571 \r\nL 156.462597 240.40781 \r\nL 157.019122 236.212128 \r\nL 159.245223 235.179371 \r\nL 159.801748 234.469323 \r\nL 160.358274 239.633237 \r\nL 160.914799 240.40781 \r\nL 161.471324 239.633237 \r\nL 163.1409 240.278718 \r\nL 164.25395 244.345287 \r\nL 164.810475 239.762329 \r\nL 165.367 236.212128 \r\nL 167.593101 243.312508 \r\nL 168.149626 248.992812 \r\nL 168.706152 251.316574 \r\nL 169.262677 256.738651 \r\nL 170.932252 254.802207 \r\nL 171.488778 261.579814 \r\nL 172.045303 254.931299 \r\nL 172.601828 257.125948 \r\nL 173.158353 261.902565 \r\nL 174.827929 262.999901 \r\nL 175.384454 256.93231 \r\nL 175.940979 261.967111 \r\nL 177.05403 265.840042 \r\nL 178.723605 266.03369 \r\nL 179.280131 267.066469 \r\nL 179.836656 260.611581 \r\nL 180.393181 260.869787 \r\nL 180.949706 264.484512 \r\nL 182.619282 265.19455 \r\nL 183.175807 261.192538 \r\nL 183.732332 265.065447 \r\nL 184.288857 258.352365 \r\nL 184.845383 262.096225 \r\nL 186.514958 260.353398 \r\nL 187.628009 258.029635 \r\nL 188.184534 258.675116 \r\nL 188.741059 255.964078 \r\nL 190.410635 260.998879 \r\nL 190.96716 260.417944 \r\nL 191.523685 260.998879 \r\nL 192.08021 257.384154 \r\nL 192.636736 259.514257 \r\nL 194.306311 263.128993 \r\nL 194.862836 264.742717 \r\nL 195.419362 267.518312 \r\nL 196.532412 259.9661 \r\nL 198.758513 255.57678 \r\nL 199.871563 257.384154 \r\nL 200.428089 257.900543 \r\nL 202.097664 261.515268 \r\nL 203.210715 266.098236 \r\nL 203.76724 272.9404 \r\nL 204.323765 271.391243 \r\nL 205.993341 269.002934 \r\nL 207.106391 265.710939 \r\nL 207.662916 270.293907 \r\nL 208.219441 266.550069 \r\nL 209.889017 274.102281 \r\nL 210.445542 275.780563 \r\nL 211.002067 276.49059 \r\nL 211.558593 275.780563 \r\nL 212.115118 280.492623 \r\nL 213.784694 278.362509 \r\nL 214.341219 275.586903 \r\nL 214.897744 283.268218 \r\nL 215.454269 287.076592 \r\nL 217.68037 290.562225 \r\nL 218.236895 287.463889 \r\nL 218.79342 292.17596 \r\nL 219.349946 293.01509 \r\nL 219.906471 294.69335 \r\nL 221.576046 295.338842 \r\nL 222.132572 297.985345 \r\nL 222.689097 288.496668 \r\nL 223.245622 284.107348 \r\nL 223.802147 289.206706 \r\nL 225.471723 295.145193 \r\nL 226.028248 299.405421 \r\nL 226.584773 296.88801 \r\nL 227.141299 293.208728 \r\nL 227.697824 299.599059 \r\nL 229.923925 296.242528 \r\nL 230.48045 294.499712 \r\nL 231.036975 297.72715 \r\nL 231.5935 299.340864 \r\nL 233.263076 292.885987 \r\nL 233.819601 289.981289 \r\nL 234.376126 284.236451 \r\nL 234.932651 284.688283 \r\nL 235.489177 293.337831 \r\nL 237.158752 297.985345 \r\nL 237.715277 297.40441 \r\nL 238.271803 302.374665 \r\nL 238.828328 300.696383 \r\nL 239.384853 303.988378 \r\nL 241.054429 307.474012 \r\nL 241.610954 308.313141 \r\nL 242.167479 305.666649 \r\nL 242.724004 303.794741 \r\nL 243.28053 298.630826 \r\nL 245.50663 292.950533 \r\nL 246.063156 287.528435 \r\nL 246.619681 287.399343 \r\nL 247.176206 289.077603 \r\nL 249.402307 297.533502 \r\nL 249.958832 298.308086 \r\nL 250.515357 298.824475 \r\nL 251.071882 301.60007 \r\nL 252.741458 301.793729 \r\nL 253.297983 305.15026 \r\nL 253.854509 304.956611 \r\nL 254.411034 302.891054 \r\nL 254.967559 304.827508 \r\nL 256.637135 305.860298 \r\nL 257.19366 305.279362 \r\nL 257.750185 299.211761 \r\nL 258.30671 308.119504 \r\nL 258.863235 308.377698 \r\nL 261.089336 301.212783 \r\nL 261.645861 304.182016 \r\nL 262.202387 300.373643 \r\nL 262.758912 302.4392 \r\nL 264.428487 305.602103 \r\nL 264.985013 306.31213 \r\nL 265.541538 302.9556 \r\nL 266.098063 303.020146 \r\nL 266.654588 305.085703 \r\nL 268.324164 303.923833 \r\nL 268.880689 298.695372 \r\nL 269.437214 297.533502 \r\nL 269.99374 292.885987 \r\nL 272.21984 294.370609 \r\nL 272.776366 295.403388 \r\nL 273.332891 302.632859 \r\nL 273.889416 299.534513 \r\nL 274.445941 304.827508 \r\nL 276.672042 308.377698 \r\nL 277.228567 308.571336 \r\nL 277.785092 302.632859 \r\nL 278.341618 304.569314 \r\nL 280.011193 305.98939 \r\nL 280.567719 309.02319 \r\nL 281.124244 302.245562 \r\nL 281.680769 308.377698 \r\nL 282.237294 309.539579 \r\nL 283.90687 311.927888 \r\nL 284.463395 309.86232 \r\nL 285.01992 308.700439 \r\nL 285.576445 311.346942 \r\nL 286.132971 317.091781 \r\nL 287.802546 320.771073 \r\nL 288.915597 318.705505 \r\nL 291.698223 317.479078 \r\nL 292.254748 316.833586 \r\nL 292.811273 319.480089 \r\nL 295.593899 321.287463 \r\nL 296.150424 320.964711 \r\nL 296.70695 322.707528 \r\nL 297.82 327.484145 \r\nL 299.489576 330.776129 \r\nL 300.046101 331.421621 \r\nL 300.602626 333.035346 \r\nL 301.159151 329.678805 \r\nL 301.715676 332.583492 \r\nL 303.385252 333.551735 \r\nL 303.941777 332.77714 \r\nL 304.498302 332.518946 \r\nL 305.054828 334.13267 \r\nL 305.611353 331.873465 \r\nL 307.837454 333.164438 \r\nL 308.393979 331.808919 \r\nL 308.950504 331.615259 \r\nL 309.507029 326.774107 \r\nL 311.176605 323.740306 \r\nL 311.73313 328.710561 \r\nL 312.846181 316.575392 \r\nL 313.402706 317.866376 \r\nL 316.185332 316.446289 \r\nL 316.741857 319.738284 \r\nL 317.298382 319.350987 \r\nL 318.967958 319.350987 \r\nL 319.524483 314.897132 \r\nL 320.081008 313.477056 \r\nL 320.637534 316.123548 \r\nL 321.194059 315.607159 \r\nL 322.863634 308.894087 \r\nL 323.42016 310.185071 \r\nL 323.976685 310.443255 \r\nL 324.53321 310.830553 \r\nL 325.089735 310.443255 \r\nL 326.759311 306.183049 \r\nL 327.315836 302.310108 \r\nL 327.872361 299.340864 \r\nL 328.428886 286.4311 \r\nL 328.985412 270.164816 \r\nL 330.654987 275.070514 \r\nL 331.211512 274.231384 \r\nL 331.768038 281.912699 \r\nL 332.324563 277.071525 \r\nL 332.881088 271.133048 \r\nL 334.550664 272.230373 \r\nL 335.107189 281.267207 \r\nL 335.663714 284.881943 \r\nL 336.220239 264.161782 \r\nL 336.776765 266.550069 \r\nL 338.44634 263.580836 \r\nL 339.002865 265.452744 \r\nL 339.559391 271.26214 \r\nL 340.115916 274.425022 \r\nL 342.342017 266.162793 \r\nL 342.898542 263.064436 \r\nL 343.455067 262.806241 \r\nL 344.011592 269.261129 \r\nL 344.568117 265.775496 \r\nL 346.237693 273.134059 \r\nL 346.794218 272.359465 \r\nL 347.350743 276.877887 \r\nL 347.907269 275.586903 \r\nL 348.463794 267.001923 \r\nL 350.13337 264.032679 \r\nL 350.689895 255.57678 \r\nL 351.24642 236.741453 \r\nL 351.802945 258.675116 \r\nL 352.35947 257.835997 \r\nL 354.029046 258.894581 \r\nL 354.585571 258.468565 \r\nL 355.142096 258.61057 \r\nL 356.255147 262.515774 \r\nL 357.924722 266.704999 \r\nL 359.037773 253.853334 \r\nL 359.594298 257.758538 \r\nL 360.150823 260.030646 \r\nL 361.820399 263.651839 \r\nL 362.376924 267.557042 \r\nL 362.933449 260.030646 \r\nL 363.489975 264.645888 \r\nL 364.0465 263.793844 \r\nL 365.716075 262.657779 \r\nL 366.272601 254.847372 \r\nL 366.829126 253.00128 \r\nL 367.385651 248.883079 \r\nL 367.942176 256.764478 \r\nL 369.611752 260.030646 \r\nL 370.168277 265.994961 \r\nL 370.724802 265.21392 \r\nL 371.281327 268.906105 \r\nL 371.837853 270.82321 \r\nL 373.507428 270.32618 \r\nL 374.063953 269.829161 \r\nL 374.620479 270.539189 \r\nL 375.733529 273.024327 \r\nL 377.403105 273.521346 \r\nL 377.95963 282.041791 \r\nL 378.516155 279.059633 \r\nL 379.07268 273.876359 \r\nL 379.629206 273.024327 \r\nL 381.298781 274.018376 \r\nL 381.855306 271.81727 \r\nL 382.411832 266.420977 \r\nL 382.968357 266.136966 \r\nL 383.524882 273.237335 \r\nL 385.194458 270.397183 \r\nL 385.750983 273.805357 \r\nL 386.307508 273.521346 \r\nL 386.864033 270.965216 \r\nL 387.420558 272.030267 \r\nL 389.090134 269.190126 \r\nL 389.646659 267.131015 \r\nL 390.203185 267.486029 \r\nL 390.75971 263.083806 \r\nL 391.316235 267.557042 \r\nL 392.985811 274.515406 \r\nL 394.098861 266.136966 \r\nL 394.655386 265.142917 \r\nL 395.211911 262.018765 \r\nL 396.881487 261.37973 \r\nL 397.994537 261.450722 \r\nL 398.551063 260.740673 \r\nL 399.107588 255.699426 \r\nL 400.777163 253.569323 \r\nL 401.333689 255.131405 \r\nL 401.890214 250.942169 \r\nL 402.446739 242.989757 \r\nL 403.003264 242.989757 \r\nL 404.67284 238.800564 \r\nL 405.229365 239.581583 \r\nL 405.78589 237.806504 \r\nL 406.342416 239.368586 \r\nL 406.898941 238.019502 \r\nL 408.568516 238.658537 \r\nL 409.125042 240.291632 \r\nL 409.681567 239.581583 \r\nL 410.238092 248.67006 \r\nL 410.794617 242.56374 \r\nL 412.464193 242.279729 \r\nL 413.020718 244.906862 \r\nL 413.577243 240.291632 \r\nL 414.133768 238.090515 \r\nL 414.690294 236.812445 \r\nL 416.359869 238.871556 \r\nL 416.916395 239.936607 \r\nL 417.47292 242.847751 \r\nL 418.029445 236.883458 \r\nL 418.58597 236.599426 \r\nL 420.255546 233.546276 \r\nL 420.812071 236.741453 \r\nL 421.368596 234.398309 \r\nL 421.925121 233.830287 \r\nL 422.481647 235.037366 \r\nL 425.264273 244.267827 \r\nL 425.820798 243.344781 \r\nL 426.377323 240.575643 \r\nL 428.046899 236.883458 \r\nL 428.603424 236.244423 \r\nL 429.159949 237.593485 \r\nL 429.716474 239.652596 \r\nL 430.273 233.830287 \r\nL 431.942575 233.12026 \r\nL 432.4991 230.919144 \r\nL 433.612151 228.078992 \r\nL 434.168676 240.007621 \r\nL 435.838252 239.297572 \r\nL 436.394777 247.818006 \r\nL 436.951302 246.184933 \r\nL 437.507827 240.78864 \r\nL 438.064352 244.480846 \r\nL 439.733928 243.415794 \r\nL 440.290453 241.214678 \r\nL 441.403504 233.262266 \r\nL 441.960029 232.836228 \r\nL 443.629605 235.463382 \r\nL 444.18613 231.132141 \r\nL 444.742655 229.854092 \r\nL 445.29918 233.404271 \r\nL 445.855705 233.262266 \r\nL 447.525281 232.410233 \r\nL 448.081806 229.499068 \r\nL 448.638331 227.794981 \r\nL 449.194857 227.794981 \r\nL 449.751382 224.74181 \r\nL 451.420957 224.812824 \r\nL 451.977483 225.593864 \r\nL 453.090533 225.309853 \r\nL 453.647058 223.534753 \r\nL 455.316634 219.132541 \r\nL 455.873159 213.665257 \r\nL 456.429684 215.29833 \r\nL 456.98621 211.96117 \r\nL 457.542735 214.162286 \r\nL 459.21231 216.363381 \r\nL 460.325361 218.351479 \r\nL 460.881886 214.588281 \r\nL 461.438411 213.736249 \r\nL 463.107987 206.493863 \r\nL 463.664512 213.452238 \r\nL 464.777562 219.061528 \r\nL 465.334088 219.061528 \r\nL 467.003663 211.251121 \r\nL 467.560188 211.393126 \r\nL 468.116714 217.783457 \r\nL 468.673239 237.94851 \r\nL 469.229764 237.593485 \r\nL 470.89934 236.102396 \r\nL 472.01239 232.978255 \r\nL 472.568915 239.581583 \r\nL 473.125441 236.031404 \r\nL 474.795016 234.824347 \r\nL 475.351541 233.404271 \r\nL 475.908067 232.481225 \r\nL 476.464592 234.469323 \r\nL 477.021117 233.475285 \r\nL 478.690693 230.848152 \r\nL 479.247218 237.593485 \r\nL 479.803743 232.694222 \r\nL 480.360268 244.480846 \r\nL 480.916793 241.427675 \r\nL 482.586369 242.492727 \r\nL 483.142894 238.161507 \r\nL 483.69942 239.439578 \r\nL 484.255945 241.569702 \r\nL 484.81247 238.871556 \r\nL 486.482046 247.39199 \r\nL 487.038571 246.610949 \r\nL 487.595096 248.954071 \r\nL 488.151621 248.315036 \r\nL 488.708146 249.380087 \r\nL 490.377722 253.640315 \r\nL 490.934247 249.522093 \r\nL 491.490772 251.155188 \r\nL 492.047298 253.99534 \r\nL 492.603823 250.019123 \r\nL 494.273398 246.468944 \r\nL 494.829924 248.386049 \r\nL 495.386449 241.356683 \r\nL 495.942974 238.019502 \r\nL 498.169075 239.439578 \r\nL 498.7256 230.919144 \r\nL 499.282125 232.268206 \r\nL 499.838651 229.925084 \r\nL 500.395176 228.576021 \r\nL 502.621277 228.292011 \r\nL 503.177802 226.658916 \r\nL 503.734327 221.546655 \r\nL 504.290852 223.321756 \r\nL 505.960428 222.895718 \r\nL 506.516953 216.5764 \r\nL 507.073478 218.848509 \r\nL 507.630003 219.061528 \r\nL 508.186529 220.126579 \r\nL 509.856104 215.014319 \r\nL 510.41263 215.866373 \r\nL 511.52568 210.754091 \r\nL 512.082205 210.044064 \r\nL 513.751781 214.162286 \r\nL 514.308306 211.748151 \r\nL 514.864831 213.665257 \r\nL 515.421356 222.39871 \r\nL 515.977882 217.002417 \r\nL 517.647457 221.688661 \r\nL 518.203982 222.043685 \r\nL 518.760508 217.925463 \r\nL 519.317033 216.5764 \r\nL 519.873558 213.168227 \r\nL 521.543134 212.529192 \r\nL 522.099659 213.949267 \r\nL 522.656184 208.979013 \r\nL 523.212709 209.760032 \r\nL 523.769234 210.257061 \r\nL 525.43881 209.334037 \r\nL 525.995335 202.730687 \r\nL 526.551861 201.168606 \r\nL 527.108386 204.86079 \r\nL 527.664911 206.63589 \r\nL 530.447537 208.765994 \r\nL 531.004062 209.618026 \r\nL 531.560587 204.079749 \r\nL 533.230163 206.422872 \r\nL 533.786688 209.618026 \r\nL 534.343213 213.594243 \r\nL 534.899739 215.653354 \r\nL 535.456264 216.931425 \r\nL 537.125839 214.091273 \r\nL 537.682365 216.008379 \r\nL 538.23889 211.96117 \r\nL 538.795415 213.0262 \r\nL 539.35194 220.126579 \r\nL 541.021516 216.150362 \r\nL 541.578041 222.895718 \r\nL 542.134566 222.043685 \r\nL 542.691092 221.830666 \r\nL 543.247617 218.635512 \r\nL 544.917192 216.718406 \r\nL 545.473718 215.440335 \r\nL 546.030243 210.683099 \r\nL 546.586768 212.174167 \r\nL 547.143293 214.020259 \r\nL 548.812869 212.884194 \r\nL 549.369394 211.251121 \r\nL 549.925919 216.008379 \r\nL 550.482444 218.422493 \r\nL 553.265071 215.937365 \r\nL 553.821596 218.209474 \r\nL 554.378121 225.096834 \r\nL 556.604222 215.29833 \r\nL 557.160747 216.647392 \r\nL 557.717272 218.919522 \r\nL 558.273797 222.824726 \r\nL 560.499898 218.777517 \r\nL 561.056423 216.718406 \r\nL 561.612949 212.884194 \r\nL 562.169474 206.138861 \r\nL 562.725999 206.706882 \r\nL 564.9521 200.323646 \r\nL 565.508625 200.636058 \r\nL 566.06515 204.228871 \r\nL 566.621676 203.916438 \r\nL 568.291251 204.072655 \r\nL 568.847776 201.963836 \r\nL 569.404302 198.371066 \r\nL 569.960827 196.887072 \r\nL 570.517352 194.387754 \r\nL 572.186928 193.997234 \r\nL 572.743453 193.606714 \r\nL 573.299978 198.527261 \r\nL 573.856503 230.706125 \r\nL 574.413028 227.191442 \r\nL 576.082604 233.361659 \r\nL 576.639129 231.955794 \r\nL 577.195654 229.534564 \r\nL 577.75218 231.018558 \r\nL 578.308705 226.097989 \r\nL 579.978281 226.097989 \r\nL 580.534806 224.848341 \r\nL 581.091331 228.987826 \r\nL 581.647856 230.159409 \r\nL 582.204381 233.28355 \r\nL 583.873957 233.439767 \r\nL 584.430482 230.628038 \r\nL 584.987007 227.191442 \r\nL 585.543533 230.471821 \r\nL 586.100058 234.845632 \r\nL 587.769633 238.204119 \r\nL 588.326159 239.844309 \r\nL 588.882684 231.955794 \r\nL 589.995734 232.971138 \r\nL 591.66531 232.424423 \r\nL 592.221835 237.34497 \r\nL 592.77836 238.516531 \r\nL 593.334886 235.939106 \r\nL 593.891411 237.657382 \r\nL 595.560986 228.363003 \r\nL 596.117512 230.784233 \r\nL 596.674037 228.987826 \r\nL 597.230562 227.972482 \r\nL 597.787087 224.067279 \r\nL 600.569713 223.442455 \r\nL 601.126238 226.644726 \r\nL 601.682764 226.410401 \r\nL 603.352339 223.989192 \r\nL 603.908864 220.162097 \r\nL 604.46539 214.226183 \r\nL 605.021915 212.195473 \r\nL 605.57844 211.96117 \r\nL 607.248016 213.52323 \r\nL 607.804541 210.633392 \r\nL 608.361066 213.52323 \r\nL 609.474117 215.241528 \r\nL 611.143692 213.288926 \r\nL 611.700217 209.539939 \r\nL 612.256743 211.570649 \r\nL 612.813268 211.883061 \r\nL 613.369793 211.570649 \r\nL 615.039369 208.134053 \r\nL 616.152419 202.120053 \r\nL 616.708944 202.198161 \r\nL 617.265469 201.963836 \r\nL 618.935045 199.152085 \r\nL 619.49157 196.57466 \r\nL 620.048096 196.418465 \r\nL 620.604621 198.761565 \r\nL 621.161146 196.57466 \r\nL 622.830722 191.654112 \r\nL 623.387247 191.029267 \r\nL 623.943772 191.029267 \r\nL 624.500297 193.138085 \r\nL 625.056822 187.983212 \r\nL 626.726398 188.061321 \r\nL 627.282923 182.281624 \r\nL 627.839448 179.938502 \r\nL 628.395974 179.079353 \r\nL 628.952499 178.845049 \r\nL 630.622074 182.906469 \r\nL 631.1786 178.454529 \r\nL 631.735125 181.110063 \r\nL 632.29165 181.6568 \r\nL 632.848175 176.189515 \r\nL 634.517751 176.423819 \r\nL 635.074276 180.250914 \r\nL 635.630801 176.267602 \r\nL 636.743852 178.37642 \r\nL 638.413427 168.144805 \r\nL 638.969953 168.535304 \r\nL 639.526478 167.363743 \r\nL 640.083003 169.472561 \r\nL 640.639528 163.614756 \r\nL 642.865629 160.334376 \r\nL 643.422154 161.974566 \r\nL 643.978679 161.896458 \r\nL 644.535205 162.599412 \r\nL 646.20478 167.363743 \r\nL 646.761306 167.676154 \r\nL 647.874356 174.002588 \r\nL 648.430881 170.175493 \r\nL 650.100457 167.441851 \r\nL 650.656982 155.726241 \r\nL 651.213507 157.600756 \r\nL 651.770032 157.36643 \r\nL 652.326558 160.334376 \r\nL 653.996133 160.490593 \r\nL 654.552658 154.007964 \r\nL 655.109184 155.726241 \r\nL 656.222234 157.913168 \r\nL 657.89181 158.694208 \r\nL 658.448335 159.397141 \r\nL 660.117911 163.224236 \r\nL 661.787486 165.87977 \r\nL 662.344011 162.130783 \r\nL 662.900537 161.271634 \r\nL 663.457062 163.849081 \r\nL 664.013587 164.395797 \r\nL 665.683163 169.394453 \r\nL 666.239688 173.065352 \r\nL 666.796213 181.500583 \r\nL 667.909263 179.001244 \r\nL 669.578839 179.001244 \r\nL 670.135364 188.139429 \r\nL 670.691889 178.845049 \r\nL 671.248415 188.451841 \r\nL 671.80494 188.217537 \r\nL 673.474516 186.967868 \r\nL 674.031041 192.435153 \r\nL 674.587566 192.435153 \r\nL 675.144091 185.874415 \r\nL 675.700616 181.344388 \r\nL 677.926717 175.330366 \r\nL 678.483242 178.37642 \r\nL 679.596293 182.672144 \r\nL 681.265868 183.062665 \r\nL 681.822394 182.281624 \r\nL 682.378919 187.28028 \r\nL 682.935444 188.92047 \r\nL 683.491969 189.545294 \r\nL 685.161545 185.327678 \r\nL 685.71807 187.983212 \r\nL 686.274595 185.327678 \r\nL 686.83112 187.202172 \r\nL 687.387646 186.499239 \r\nL 689.057221 186.499239 \r\nL 689.613747 181.422475 \r\nL 690.170272 185.874415 \r\nL 690.726797 187.905125 \r\nL 691.283322 188.92047 \r\nL 692.952898 186.88976 \r\nL 693.509423 188.529949 \r\nL 694.065948 186.186827 \r\nL 694.622473 178.610746 \r\nL 695.178999 177.829683 \r\nL 697.405099 183.765597 \r\nL 697.961625 183.453185 \r\nL 698.51815 179.547981 \r\nL 699.074675 179.547981 \r\nL 701.300776 173.690176 \r\nL 701.857301 172.596724 \r\nL 702.413826 168.144805 \r\nL 702.970352 166.582723 \r\nL 704.639927 166.66081 \r\nL 705.752978 172.128095 \r\nL 706.309503 166.66081 \r\nL 706.866028 166.66081 \r\nL 708.535604 164.708209 \r\nL 709.092129 162.833715 \r\nL 709.648654 155.804349 \r\nL 710.205179 156.116783 \r\nL 710.761704 154.086051 \r\nL 712.987805 148.774983 \r\nL 713.54433 133.076082 \r\nL 714.100856 133.076082 \r\nL 714.657381 122.141513 \r\nL 716.326957 131.514001 \r\nL 717.440007 125.656196 \r\nL 718.553057 143.854435 \r\nL 720.222633 148.696896 \r\nL 720.779158 141.66753 \r\nL 721.892209 149.868436 \r\nL 722.448734 153.226923 \r\nL 725.787885 141.355096 \r\nL 726.34441 141.901834 \r\nL 728.013986 143.385807 \r\nL 728.570511 134.247644 \r\nL 729.683562 130.73296 \r\nL 730.240087 127.843101 \r\nL 731.909662 127.843101 \r\nL 732.466188 131.279676 \r\nL 733.022713 141.120793 \r\nL 734.135763 137.60611 \r\nL 736.361864 135.028663 \r\nL 736.918389 140.495947 \r\nL 737.474914 144.479259 \r\nL 738.03144 138.074739 \r\nL 739.701015 135.653508 \r\nL 740.25754 140.105449 \r\nL 740.814066 141.745617 \r\nL 741.370591 146.119449 \r\nL 741.927116 145.338408 \r\nL 743.596692 148.384463 \r\nL 744.153217 148.696896 \r\nL 745.266267 145.416517 \r\nL 745.822793 143.385807 \r\nL 747.492368 141.66753 \r\nL 748.048893 145.338408 \r\nL 748.605419 143.385807 \r\nL 749.161944 135.419205 \r\nL 751.388045 138.246573 \r\nL 751.94457 134.98181 \r\nL 752.501095 137.645175 \r\nL 753.05762 136.700109 \r\nL 753.614145 137.645175 \r\nL 755.283721 149.243612 \r\nL 755.840246 146.752103 \r\nL 756.396772 139.793037 \r\nL 757.509822 151.821059 \r\nL 759.179398 158.178727 \r\nL 759.735923 154.570319 \r\nL 760.292448 144.861971 \r\nL 760.848973 145.377473 \r\nL 761.405498 149.58728 \r\nL 763.075074 149.673197 \r\nL 763.631599 149.157695 \r\nL 764.188124 145.549286 \r\nL 764.74465 145.549286 \r\nL 765.301175 142.284545 \r\nL 766.97075 146.923937 \r\nL 768.083801 154.570319 \r\nL 768.640326 160.670236 \r\nL 769.196851 160.412485 \r\nL 770.866427 162.989932 \r\nL 771.422952 164.450479 \r\nL 771.979477 162.2167 \r\nL 772.536003 156.546346 \r\nL 773.092528 161.701219 \r\nL 775.318629 167.371573 \r\nL 775.875154 162.904015 \r\nL 776.431679 174.588369 \r\nL 776.988204 173.385573 \r\nL 778.65778 177.251733 \r\nL 779.214305 169.605352 \r\nL 779.77083 176.822148 \r\nL 780.327355 176.392584 \r\nL 780.883881 181.719269 \r\nL 782.553456 192.802247 \r\nL 783.109982 191.771264 \r\nL 783.666507 193.317728 \r\nL 784.779557 187.217811 \r\nL 786.449133 184.72628 \r\nL 787.005658 197.183888 \r\nL 788.118708 205.603501 \r\nL 788.675234 207.665446 \r\nL 790.344809 212.133004 \r\nL 790.901334 212.734402 \r\nL 791.45786 217.459689 \r\nL 792.014385 226.652535 \r\nL 792.57091 222.786375 \r\nL 794.240486 229.917275 \r\nL 794.797011 218.834319 \r\nL 795.353536 214.023115 \r\nL 795.910061 223.559607 \r\nL 796.466587 219.3498 \r\nL 798.136162 219.693468 \r\nL 798.692687 220.896264 \r\nL 799.249213 224.504673 \r\nL 799.805738 217.030126 \r\nL 800.362263 212.820319 \r\nL 802.031839 215.827308 \r\nL 802.588364 205.431667 \r\nL 803.144889 202.08101 \r\nL 803.701414 202.59649 \r\nL 804.257939 201.909175 \r\nL 807.040565 206.033065 \r\nL 807.597091 199.073999 \r\nL 808.153616 194.176877 \r\nL 809.823192 193.059977 \r\nL 810.379717 185.843181 \r\nL 810.936242 192.200849 \r\nL 811.492767 189.022004 \r\nL 812.049292 180.172827 \r\nL 813.718868 183.179816 \r\nL 814.275393 179.313678 \r\nL 814.831918 174.502473 \r\nL 815.388444 181.375623 \r\nL 815.944969 178.454529 \r\nL 817.614544 176.478501 \r\nL 818.17107 181.633374 \r\nL 818.727595 178.196778 \r\nL 819.28412 178.282695 \r\nL 819.840645 168.144805 \r\nL 821.510221 170.034915 \r\nL 822.066746 174.158805 \r\nL 822.623271 180.602391 \r\nL 823.179797 183.35165 \r\nL 823.736322 196.324739 \r\nL 825.405897 191.513534 \r\nL 825.962423 187.217811 \r\nL 826.518948 190.310717 \r\nL 827.075473 190.310717 \r\nL 827.631998 198.043015 \r\nL 829.301574 196.496573 \r\nL 829.858099 202.510573 \r\nL 830.414624 196.582468 \r\nL 830.971149 202.768324 \r\nL 833.19725 194.09096 \r\nL 833.753775 195.637424 \r\nL 834.310301 192.630413 \r\nL 834.866826 203.369722 \r\nL 835.423351 200.10496 \r\nL 837.092927 202.252822 \r\nL 837.649452 207.83728 \r\nL 838.205977 206.376733 \r\nL 838.762502 199.589479 \r\nL 840.988603 198.644435 \r\nL 841.545128 206.033065 \r\nL 842.101654 205.947148 \r\nL 842.658179 206.892214 \r\nL 843.214704 205.861231 \r\nL 845.440805 197.097971 \r\nL 845.99733 195.981071 \r\nL 846.553855 196.496573 \r\nL 847.11038 192.544496 \r\nL 848.779956 199.245833 \r\nL 849.336481 199.073999 \r\nL 849.893007 198.472601 \r\nL 850.449532 192.888164 \r\nL 851.006057 197.613452 \r\nL 852.675633 200.362711 \r\nL 853.232158 186.186827 \r\nL 853.788683 175.017954 \r\nL 854.345208 173.729241 \r\nL 854.901733 177.767214 \r\nL 856.571309 159.72517 \r\nL 857.127834 158.694208 \r\nL 857.684359 167.972971 \r\nL 858.240885 169.605352 \r\nL 860.466985 168.144805 \r\nL 861.023511 154.999882 \r\nL 861.580036 154.656236 \r\nL 862.136561 162.646264 \r\nL 862.693086 161.701219 \r\nL 864.919187 157.233661 \r\nL 865.475712 164.106811 \r\nL 866.032238 156.030866 \r\nL 866.588763 151.047827 \r\nL 868.258338 156.546346 \r\nL 868.814864 145.377473 \r\nL 869.371389 149.243612 \r\nL 869.927914 132.404385 \r\nL 872.154015 125.874882 \r\nL 872.71054 129.311457 \r\nL 873.82359 141.854981 \r\nL 874.380116 137.387424 \r\nL 876.049691 137.645175 \r\nL 876.606216 143.143694 \r\nL 877.162742 138.933888 \r\nL 878.275792 124.156606 \r\nL 879.945368 125.531236 \r\nL 881.058418 129.053727 \r\nL 881.614943 127.765014 \r\nL 882.171469 128.452329 \r\nL 883.841044 133.005783 \r\nL 884.397569 120.290446 \r\nL 884.954095 113.675026 \r\nL 885.51062 109.551136 \r\nL 886.067145 113.503213 \r\nL 887.736721 119.173567 \r\nL 888.293246 120.204529 \r\nL 888.849771 120.376363 \r\nL 889.406296 116.853871 \r\nL 889.962821 118.400335 \r\nL 891.632397 124.672086 \r\nL 892.188922 120.977761 \r\nL 892.745448 118.829899 \r\nL 893.301973 110.238451 \r\nL 893.858498 114.018694 \r\nL 895.528074 120.46228 \r\nL 896.084599 114.448258 \r\nL 896.641124 119.173567 \r\nL 897.197649 117.455269 \r\nL 897.754174 119.946799 \r\nL 900.5368 129.483291 \r\nL 901.093326 122.180556 \r\nL 901.649851 111.870832 \r\nL 904.989002 93.571059 \r\nL 905.545527 96.320318 \r\nL 907.215103 92.196429 \r\nL 907.771628 90.048567 \r\nL 908.328153 83.948628 \r\nL 908.884679 85.065528 \r\nL 909.441204 87.385224 \r\nL 911.110779 83.175396 \r\nL 911.667305 83.862711 \r\nL 912.22383 82.144434 \r\nL 912.780355 80.941617 \r\nL 913.33688 77.247313 \r\nL 915.562981 83.0895 \r\nL 916.119506 76.903644 \r\nL 916.676031 73.20934 \r\nL 918.902132 70.202329 \r\nL 919.458658 75.013512 \r\nL 920.015183 75.872683 \r\nL 920.571708 55.081401 \r\nL 921.128233 59.892583 \r\nL 922.797809 51.558887 \r\nL 923.354334 51.387053 \r\nL 923.910859 69.858661 \r\nL 924.467384 64.188307 \r\nL 925.02391 60.150335 \r\nL 926.693485 62.384092 \r\nL 927.25001 54.737732 \r\nL 927.806536 60.751754 \r\nL 928.363061 46.146285 \r\nL 928.919586 48.72371 \r\nL 930.589162 57.744743 \r\nL 931.145687 54.479981 \r\nL 931.702212 60.923545 \r\nL 932.258737 57.572909 \r\nL 932.815263 60.751754 \r\nL 934.484838 64.617893 \r\nL 935.041363 57.83066 \r\nL 935.597889 62.126384 \r\nL 936.154414 72.178335 \r\nL 936.710939 78.364191 \r\nL 940.05009 78.70786 \r\nL 942.276191 58.603871 \r\nL 942.832716 57.486992 \r\nL 943.389241 53.792644 \r\nL 943.945767 52.933517 \r\nL 944.502292 51.301136 \r\nL 946.171868 49.239213 \r\nL 946.728393 57.744743 \r\nL 947.284918 68.22628 \r\nL 947.841443 76.474059 \r\nL 948.397968 89.447169 \r\nL 950.067544 88.673937 \r\nL 950.624069 86.354241 \r\nL 951.180594 98.725931 \r\nL 951.73712 81.199368 \r\nL 952.293645 75.013512 \r\nL 953.96322 72.058069 \r\nL 955.076271 81.130626 \r\nL 955.632796 71.748793 \r\nL 956.189321 68.655865 \r\nL 957.858897 68.140363 \r\nL 958.415422 69.583735 \r\nL 959.528473 80.82135 \r\nL 960.084998 84.120462 \r\nL 961.754573 84.94524 \r\nL 962.311099 85.563813 \r\nL 962.867624 90.512502 \r\nL 963.424149 85.666926 \r\nL 965.65025 82.67709 \r\nL 966.206775 73.913808 \r\nL 966.7633 76.388185 \r\nL 967.319825 72.058069 \r\nL 967.876351 73.192122 \r\nL 969.545926 78.037698 \r\nL 970.102451 77.109828 \r\nL 971.215502 76.903644 \r\nL 971.772027 73.192122 \r\nL 973.441603 83.192592 \r\nL 973.998128 85.460721 \r\nL 974.554653 78.037698 \r\nL 975.111178 84.429737 \r\nL 975.667704 87.625779 \r\nL 977.337279 96.492152 \r\nL 977.893804 97.523114 \r\nL 979.006855 105.255412 \r\nL 979.56338 102.677987 \r\nL 981.232956 93.399224 \r\nL 981.789481 78.965611 \r\nL 982.346006 85.460721 \r\nL 982.902531 87.21339 \r\nL 983.459056 90.718685 \r\nL 985.128632 85.666926 \r\nL 985.685157 75.769591 \r\nL 986.798208 61.542139 \r\nL 987.354733 62.470009 \r\nL 989.024309 63.707198 \r\nL 989.580834 61.95455 \r\nL 990.137359 67.831087 \r\nL 990.693884 59.583308 \r\nL 991.250409 59.480173 \r\nL 992.919985 64.016473 \r\nL 993.47651 62.263825 \r\nL 994.589561 70.82088 \r\nL 995.146086 71.439474 \r\nL 996.815661 72.367344 \r\nL 997.372187 69.171368 \r\nL 999.041762 55.974878 \r\nL 1000.711338 52.881949 \r\nL 1001.267863 56.181061 \r\nL 1001.824388 51.335529 \r\nL 1002.937439 54.840824 \r\nL 1004.607014 55.974878 \r\nL 1005.16354 54.943916 \r\nL 1006.27659 41.128875 \r\nL 1006.833115 37.62358 \r\nL 1008.502691 39.479319 \r\nL 1009.615741 41.335059 \r\nL 1010.172266 44.737262 \r\nL 1010.728792 52.160307 \r\nL 1012.398367 53.809819 \r\nL 1012.954893 53.706771 \r\nL 1013.511418 55.768694 \r\nL 1014.067943 47.314688 \r\nL 1014.624468 56.284196 \r\nL 1016.294044 50.923118 \r\nL 1016.850569 49.582838 \r\nL 1017.407094 42.159836 \r\nL 1017.963619 65.562937 \r\nL 1018.520145 70.408513 \r\nL 1020.18972 71.233291 \r\nL 1021.302771 88.244352 \r\nL 1021.859296 91.33728 \r\nL 1022.415821 90.512502 \r\nL 1024.085397 96.90452 \r\nL 1024.641922 91.646555 \r\nL 1025.198447 84.223554 \r\nL 1025.754972 82.470906 \r\nL 1026.311498 88.450557 \r\nL 1027.981073 95.873558 \r\nL 1028.537598 92.368241 \r\nL 1029.094124 99.275762 \r\nL 1029.650649 101.647004 \r\nL 1030.207174 100.925318 \r\nL 1031.87675 105.874007 \r\nL 1032.433275 109.173118 \r\nL 1032.9898 102.574873 \r\nL 1033.546325 107.008082 \r\nL 1034.10285 114.32797 \r\nL 1035.772426 117.730195 \r\nL 1036.328951 113.606305 \r\nL 1036.885476 115.565158 \r\nL 1037.998527 104.224451 \r\nL 1039.668102 107.729746 \r\nL 1040.224628 113.4001 \r\nL 1040.781153 109.27621 \r\nL 1041.337678 101.543912 \r\nL 1041.894203 87.21339 \r\nL 1043.563779 82.67709 \r\nL 1044.120304 89.06913 \r\nL 1044.676829 90.615594 \r\nL 1045.78988 98.966486 \r\nL 1047.459455 103.502765 \r\nL 1048.015981 94.430208 \r\nL 1048.572506 93.399224 \r\nL 1049.129031 97.626206 \r\nL 1049.685556 91.543463 \r\nL 1051.355132 90.821799 \r\nL 1051.911657 95.358077 \r\nL 1052.468182 93.089927 \r\nL 1053.024707 88.038146 \r\nL 1053.581233 88.244352 \r\nL 1055.250808 94.224002 \r\nL 1055.807334 98.966486 \r\nL 1056.363859 112.47223 \r\nL 1056.920384 111.54436 \r\nL 1057.476909 108.142135 \r\nL 1059.146485 110.307193 \r\nL 1059.70301 110.616469 \r\nL 1060.259535 101.131523 \r\nL 1061.372586 93.296133 \r\nL 1063.042161 88.347443 \r\nL 1063.598686 85.460721 \r\nL 1064.155212 76.903644 \r\nL 1064.711737 83.0895 \r\nL 1065.268262 95.564261 \r\nL 1066.937838 93.089927 \r\nL 1067.494363 83.0895 \r\nL 1068.050888 79.996572 \r\nL 1068.607413 80.40894 \r\nL 1070.833514 62.366917 \r\nL 1071.390039 67.624904 \r\nL 1071.946565 65.872213 \r\nL 1072.50309 81.336831 \r\nL 1073.059615 84.429737 \r\nL 1074.729191 84.223554 \r\nL 1075.285716 79.377978 \r\nL 1075.842241 81.336831 \r\nL 1076.398766 80.40894 \r\nL 1076.955291 90.924891 \r\nL 1078.624867 91.749669 \r\nL 1079.737917 98.657189 \r\nL 1080.294443 100.100561 \r\nL 1083.077069 102.987262 \r\nL 1084.190119 101.028431 \r\nL 1084.746644 95.358077 \r\nL 1086.41622 97.110725 \r\nL 1086.972745 104.533726 \r\nL 1087.52927 98.863373 \r\nL 1088.085796 101.543912 \r\nL 1088.642321 99.894356 \r\nL 1090.311896 97.626206 \r\nL 1090.868422 96.595244 \r\nL 1091.424947 87.625779 \r\nL 1091.981472 86.182407 \r\nL 1092.537997 90.203205 \r\nL 1094.207573 87.21339 \r\nL 1094.764098 88.450557 \r\nL 1095.320623 90.512502 \r\nL 1095.877149 85.770018 \r\nL 1096.433674 85.151445 \r\nL 1098.103249 91.440371 \r\nL 1098.659775 84.94524 \r\nL 1099.2163 74.944813 \r\nL 1099.772825 68.140363 \r\nL 1100.32935 75.975775 \r\nL 1101.998926 73.707624 \r\nL 1103.668501 69.068232 \r\nL 1104.225027 70.511605 \r\nL 1105.894602 71.027107 \r\nL 1105.894602 71.027107 \r\n\" style=\"fill:none;stroke:#0000ff;stroke-linecap:square;stroke-width:1.5;\"/>\r\n   </g>\r\n   <g id=\"patch_3\">\r\n    <path d=\"M 40.621875 348.958125 \r\nL 40.621875 22.798125 \r\n\" style=\"fill:none;stroke:#000000;stroke-linecap:square;stroke-linejoin:miter;stroke-width:0.8;\"/>\r\n   </g>\r\n   <g id=\"patch_4\">\r\n    <path d=\"M 1156.621875 348.958125 \r\nL 1156.621875 22.798125 \r\n\" style=\"fill:none;stroke:#000000;stroke-linecap:square;stroke-linejoin:miter;stroke-width:0.8;\"/>\r\n   </g>\r\n   <g id=\"patch_5\">\r\n    <path d=\"M 40.621875 348.958125 \r\nL 1156.621875 348.958125 \r\n\" style=\"fill:none;stroke:#000000;stroke-linecap:square;stroke-linejoin:miter;stroke-width:0.8;\"/>\r\n   </g>\r\n   <g id=\"patch_6\">\r\n    <path d=\"M 40.621875 22.798125 \r\nL 1156.621875 22.798125 \r\n\" style=\"fill:none;stroke:#000000;stroke-linecap:square;stroke-linejoin:miter;stroke-width:0.8;\"/>\r\n   </g>\r\n   <g id=\"text_15\">\r\n    <!-- Previsão de série temporal -->\r\n    <g transform=\"translate(518.350313 16.798125)scale(0.12 -0.12)\">\r\n     <defs>\r\n      <path d=\"M 1259 4147 \r\nL 1259 2394 \r\nL 2053 2394 \r\nQ 2494 2394 2734 2622 \r\nQ 2975 2850 2975 3272 \r\nQ 2975 3691 2734 3919 \r\nQ 2494 4147 2053 4147 \r\nL 1259 4147 \r\nz\r\nM 628 4666 \r\nL 2053 4666 \r\nQ 2838 4666 3239 4311 \r\nQ 3641 3956 3641 3272 \r\nQ 3641 2581 3239 2228 \r\nQ 2838 1875 2053 1875 \r\nL 1259 1875 \r\nL 1259 0 \r\nL 628 0 \r\nL 628 4666 \r\nz\r\n\" id=\"DejaVuSans-50\" transform=\"scale(0.015625)\"/>\r\n      <path d=\"M 2631 2963 \r\nQ 2534 3019 2420 3045 \r\nQ 2306 3072 2169 3072 \r\nQ 1681 3072 1420 2755 \r\nQ 1159 2438 1159 1844 \r\nL 1159 0 \r\nL 581 0 \r\nL 581 3500 \r\nL 1159 3500 \r\nL 1159 2956 \r\nQ 1341 3275 1631 3429 \r\nQ 1922 3584 2338 3584 \r\nQ 2397 3584 2469 3576 \r\nQ 2541 3569 2628 3553 \r\nL 2631 2963 \r\nz\r\n\" id=\"DejaVuSans-72\" transform=\"scale(0.015625)\"/>\r\n      <path d=\"M 191 3500 \r\nL 800 3500 \r\nL 1894 563 \r\nL 2988 3500 \r\nL 3597 3500 \r\nL 2284 0 \r\nL 1503 0 \r\nL 191 3500 \r\nz\r\n\" id=\"DejaVuSans-76\" transform=\"scale(0.015625)\"/>\r\n      <path d=\"M 603 3500 \r\nL 1178 3500 \r\nL 1178 0 \r\nL 603 0 \r\nL 603 3500 \r\nz\r\nM 603 4863 \r\nL 1178 4863 \r\nL 1178 4134 \r\nL 603 4134 \r\nL 603 4863 \r\nz\r\n\" id=\"DejaVuSans-69\" transform=\"scale(0.015625)\"/>\r\n      <path d=\"M 2834 3397 \r\nL 2834 2853 \r\nQ 2591 2978 2328 3040 \r\nQ 2066 3103 1784 3103 \r\nQ 1356 3103 1142 2972 \r\nQ 928 2841 928 2578 \r\nQ 928 2378 1081 2264 \r\nQ 1234 2150 1697 2047 \r\nL 1894 2003 \r\nQ 2506 1872 2764 1633 \r\nQ 3022 1394 3022 966 \r\nQ 3022 478 2636 193 \r\nQ 2250 -91 1575 -91 \r\nQ 1294 -91 989 -36 \r\nQ 684 19 347 128 \r\nL 347 722 \r\nQ 666 556 975 473 \r\nQ 1284 391 1588 391 \r\nQ 1994 391 2212 530 \r\nQ 2431 669 2431 922 \r\nQ 2431 1156 2273 1281 \r\nQ 2116 1406 1581 1522 \r\nL 1381 1569 \r\nQ 847 1681 609 1914 \r\nQ 372 2147 372 2553 \r\nQ 372 3047 722 3315 \r\nQ 1072 3584 1716 3584 \r\nQ 2034 3584 2315 3537 \r\nQ 2597 3491 2834 3397 \r\nz\r\n\" id=\"DejaVuSans-73\" transform=\"scale(0.015625)\"/>\r\n      <path d=\"M 2906 2969 \r\nL 2906 4863 \r\nL 3481 4863 \r\nL 3481 0 \r\nL 2906 0 \r\nL 2906 525 \r\nQ 2725 213 2448 61 \r\nQ 2172 -91 1784 -91 \r\nQ 1150 -91 751 415 \r\nQ 353 922 353 1747 \r\nQ 353 2572 751 3078 \r\nQ 1150 3584 1784 3584 \r\nQ 2172 3584 2448 3432 \r\nQ 2725 3281 2906 2969 \r\nz\r\nM 947 1747 \r\nQ 947 1113 1208 752 \r\nQ 1469 391 1925 391 \r\nQ 2381 391 2643 752 \r\nQ 2906 1113 2906 1747 \r\nQ 2906 2381 2643 2742 \r\nQ 2381 3103 1925 3103 \r\nQ 1469 3103 1208 2742 \r\nQ 947 2381 947 1747 \r\nz\r\n\" id=\"DejaVuSans-64\" transform=\"scale(0.015625)\"/>\r\n      <path d=\"M 3597 1894 \r\nL 3597 1613 \r\nL 953 1613 \r\nQ 991 1019 1311 708 \r\nQ 1631 397 2203 397 \r\nQ 2534 397 2845 478 \r\nQ 3156 559 3463 722 \r\nL 3463 178 \r\nQ 3153 47 2828 -22 \r\nQ 2503 -91 2169 -91 \r\nQ 1331 -91 842 396 \r\nQ 353 884 353 1716 \r\nQ 353 2575 817 3079 \r\nQ 1281 3584 2069 3584 \r\nQ 2775 3584 3186 3129 \r\nQ 3597 2675 3597 1894 \r\nz\r\nM 3022 2063 \r\nQ 3016 2534 2758 2815 \r\nQ 2500 3097 2075 3097 \r\nQ 1594 3097 1305 2825 \r\nQ 1016 2553 972 2059 \r\nL 3022 2063 \r\nz\r\nM 2466 5119 \r\nL 3088 5119 \r\nL 2070 3944 \r\nL 1591 3944 \r\nL 2466 5119 \r\nz\r\n\" id=\"DejaVuSans-e9\" transform=\"scale(0.015625)\"/>\r\n      <path d=\"M 603 4863 \r\nL 1178 4863 \r\nL 1178 0 \r\nL 603 0 \r\nL 603 4863 \r\nz\r\n\" id=\"DejaVuSans-6c\" transform=\"scale(0.015625)\"/>\r\n     </defs>\r\n     <use xlink:href=\"#DejaVuSans-50\"/>\r\n     <use x=\"58.552734\" xlink:href=\"#DejaVuSans-72\"/>\r\n     <use x=\"97.416016\" xlink:href=\"#DejaVuSans-65\"/>\r\n     <use x=\"158.939453\" xlink:href=\"#DejaVuSans-76\"/>\r\n     <use x=\"218.119141\" xlink:href=\"#DejaVuSans-69\"/>\r\n     <use x=\"245.902344\" xlink:href=\"#DejaVuSans-73\"/>\r\n     <use x=\"298.001953\" xlink:href=\"#DejaVuSans-e3\"/>\r\n     <use x=\"359.28125\" xlink:href=\"#DejaVuSans-6f\"/>\r\n     <use x=\"420.462891\" xlink:href=\"#DejaVuSans-20\"/>\r\n     <use x=\"452.25\" xlink:href=\"#DejaVuSans-64\"/>\r\n     <use x=\"515.726562\" xlink:href=\"#DejaVuSans-65\"/>\r\n     <use x=\"577.25\" xlink:href=\"#DejaVuSans-20\"/>\r\n     <use x=\"609.037109\" xlink:href=\"#DejaVuSans-73\"/>\r\n     <use x=\"661.136719\" xlink:href=\"#DejaVuSans-e9\"/>\r\n     <use x=\"722.660156\" xlink:href=\"#DejaVuSans-72\"/>\r\n     <use x=\"763.773438\" xlink:href=\"#DejaVuSans-69\"/>\r\n     <use x=\"791.556641\" xlink:href=\"#DejaVuSans-65\"/>\r\n     <use x=\"853.080078\" xlink:href=\"#DejaVuSans-20\"/>\r\n     <use x=\"884.867188\" xlink:href=\"#DejaVuSans-74\"/>\r\n     <use x=\"924.076172\" xlink:href=\"#DejaVuSans-65\"/>\r\n     <use x=\"985.599609\" xlink:href=\"#DejaVuSans-6d\"/>\r\n     <use x=\"1083.011719\" xlink:href=\"#DejaVuSans-70\"/>\r\n     <use x=\"1146.488281\" xlink:href=\"#DejaVuSans-6f\"/>\r\n     <use x=\"1207.669922\" xlink:href=\"#DejaVuSans-72\"/>\r\n     <use x=\"1248.783203\" xlink:href=\"#DejaVuSans-61\"/>\r\n     <use x=\"1310.0625\" xlink:href=\"#DejaVuSans-6c\"/>\r\n    </g>\r\n   </g>\r\n   <g id=\"legend_1\">\r\n    <g id=\"patch_7\">\r\n     <path d=\"M 1077.782813 60.154375 \r\nL 1149.621875 60.154375 \r\nQ 1151.621875 60.154375 1151.621875 58.154375 \r\nL 1151.621875 29.798125 \r\nQ 1151.621875 27.798125 1149.621875 27.798125 \r\nL 1077.782813 27.798125 \r\nQ 1075.782813 27.798125 1075.782813 29.798125 \r\nL 1075.782813 58.154375 \r\nQ 1075.782813 60.154375 1077.782813 60.154375 \r\nz\r\n\" style=\"fill:#ffffff;opacity:0.8;stroke:#cccccc;stroke-linejoin:miter;\"/>\r\n    </g>\r\n    <g id=\"line2d_15\">\r\n     <path d=\"M 1079.782813 35.896562 \r\nL 1099.782813 35.896562 \r\n\" style=\"fill:none;stroke:#ff0000;stroke-linecap:square;stroke-width:1.5;\"/>\r\n    </g>\r\n    <g id=\"line2d_16\"/>\r\n    <g id=\"text_16\">\r\n     <!-- Previsto -->\r\n     <g transform=\"translate(1107.782813 39.396562)scale(0.1 -0.1)\">\r\n      <use xlink:href=\"#DejaVuSans-50\"/>\r\n      <use x=\"58.552734\" xlink:href=\"#DejaVuSans-72\"/>\r\n      <use x=\"97.416016\" xlink:href=\"#DejaVuSans-65\"/>\r\n      <use x=\"158.939453\" xlink:href=\"#DejaVuSans-76\"/>\r\n      <use x=\"218.119141\" xlink:href=\"#DejaVuSans-69\"/>\r\n      <use x=\"245.902344\" xlink:href=\"#DejaVuSans-73\"/>\r\n      <use x=\"298.001953\" xlink:href=\"#DejaVuSans-74\"/>\r\n      <use x=\"337.210938\" xlink:href=\"#DejaVuSans-6f\"/>\r\n     </g>\r\n    </g>\r\n    <g id=\"line2d_17\">\r\n     <path d=\"M 1079.782813 50.574687 \r\nL 1099.782813 50.574687 \r\n\" style=\"fill:none;stroke:#0000ff;stroke-linecap:square;stroke-width:1.5;\"/>\r\n    </g>\r\n    <g id=\"line2d_18\"/>\r\n    <g id=\"text_17\">\r\n     <!-- Real -->\r\n     <g transform=\"translate(1107.782813 54.074687)scale(0.1 -0.1)\">\r\n      <use xlink:href=\"#DejaVuSans-52\"/>\r\n      <use x=\"64.982422\" xlink:href=\"#DejaVuSans-65\"/>\r\n      <use x=\"126.505859\" xlink:href=\"#DejaVuSans-61\"/>\r\n      <use x=\"187.785156\" xlink:href=\"#DejaVuSans-6c\"/>\r\n     </g>\r\n    </g>\r\n   </g>\r\n  </g>\r\n </g>\r\n <defs>\r\n  <clipPath id=\"p65c5994d79\">\r\n   <rect height=\"326.16\" width=\"1116\" x=\"40.621875\" y=\"22.798125\"/>\r\n  </clipPath>\r\n </defs>\r\n</svg>\r\n",
      "image/png": "[encoded data removed]"
     },
     "metadata": {
      "needs_background": "light"
     }
    }
   ],
   "metadata": {
    "colab": {
     "base_uri": "https://localhost:8080/",
     "height": 426
    },
    "id": "3G7e6HV4vMej",
    "outputId": "d905cc53-0c34-4e95-bc96-7195b641a497"
   }
  },
  {
   "cell_type": "code",
   "execution_count": 21,
   "source": [
    "rmse = math.sqrt(mean_squared_error(dataset[training_data_len:, 0:1], predicted[:,0:1]))\r\n",
    "print('RMSE: ', rmse)"
   ],
   "outputs": [
    {
     "output_type": "stream",
     "name": "stdout",
     "text": [
      "RMSE:  1.0623393276476312\n"
     ]
    }
   ],
   "metadata": {
    "colab": {
     "base_uri": "https://localhost:8080/"
    },
    "id": "4CCLiPM8vO5U",
    "outputId": "50f90759-af2d-454e-d5d2-631db094c9da"
   }
  },
  {
   "cell_type": "code",
   "execution_count": 22,
   "source": [
    "mse = mean_squared_error(dataset[training_data_len:, 0:1], predicted[:,0:1])\r\n",
    "print('MSE: ',mse)"
   ],
   "outputs": [
    {
     "output_type": "stream",
     "name": "stdout",
     "text": [
      "MSE:  1.1285648470668213\n"
     ]
    }
   ],
   "metadata": {
    "colab": {
     "base_uri": "https://localhost:8080/"
    },
    "id": "dWEFnqylvQiy",
    "outputId": "ebdcd19b-ecfb-4c00-9488-f2b82f53b4b9"
   }
  },
  {
   "cell_type": "code",
   "execution_count": 23,
   "source": [
    "mape = np.mean(np.abs((dataset[training_data_len:, 0:1]-predicted[:,0:1]) /dataset[training_data_len:, 0:1])) * 100\r\n",
    "print('MAPE: ',mape, '%')"
   ],
   "outputs": [
    {
     "output_type": "stream",
     "name": "stdout",
     "text": [
      "MAPE:  2.905851274384995 %\n"
     ]
    }
   ],
   "metadata": {
    "colab": {
     "base_uri": "https://localhost:8080/"
    },
    "id": "-PC8KlwwvRum",
    "outputId": "634c896f-3156-4cf0-f111-a18ea5500aff"
   }
  },
  {
   "cell_type": "code",
   "execution_count": 24,
   "source": [
    "print('R2: ', r2_score(predicted[:,0:1], dataset[training_data_len:, 0:1]))"
   ],
   "outputs": [
    {
     "output_type": "stream",
     "name": "stdout",
     "text": [
      "R2:  0.9361630332949523\n"
     ]
    }
   ],
   "metadata": {
    "colab": {
     "base_uri": "https://localhost:8080/"
    },
    "id": "Hi7q3c9OvTI_",
    "outputId": "c676c006-4a99-4ac9-8ff8-3ae63f9ade56"
   }
  },
  {
   "cell_type": "code",
   "execution_count": 26,
   "source": [
    "scaled_data = scaled_data\r\n",
    "window = 60\r\n",
    "X_data = []\r\n",
    "y_data = []\r\n",
    "for i in range(window, len(scaled_data)):\r\n",
    "    X_data.append(scaled_data[i-window:i,:])\r\n",
    "    y_data.append(scaled_data[i, 0:1])\r\n",
    "X_data, y_data = np.array(X_data), np.array(y_data)\r\n",
    "history = regressor.fit(X_data, y_data, epochs = 50, batch_size = 64)"
   ],
   "outputs": [
    {
     "output_type": "stream",
     "name": "stdout",
     "text": [
      "Epoch 1/50\n",
      " 9/19 [=============>................] - ETA: 1s - loss: 0.0026"
     ]
    },
    {
     "output_type": "error",
     "ename": "KeyboardInterrupt",
     "evalue": "",
     "traceback": [
      "\u001b[1;31m---------------------------------------------------------------------------\u001b[0m",
      "\u001b[1;31mKeyboardInterrupt\u001b[0m                         Traceback (most recent call last)",
      "\u001b[1;32m~\\AppData\\Local\\Temp/ipykernel_7736/860314462.py\u001b[0m in \u001b[0;36m<module>\u001b[1;34m\u001b[0m\n\u001b[0;32m      7\u001b[0m     \u001b[0my_data\u001b[0m\u001b[1;33m.\u001b[0m\u001b[0mappend\u001b[0m\u001b[1;33m(\u001b[0m\u001b[0mscaled_data\u001b[0m\u001b[1;33m[\u001b[0m\u001b[0mi\u001b[0m\u001b[1;33m,\u001b[0m \u001b[1;36m0\u001b[0m\u001b[1;33m:\u001b[0m\u001b[1;36m1\u001b[0m\u001b[1;33m]\u001b[0m\u001b[1;33m)\u001b[0m\u001b[1;33m\u001b[0m\u001b[1;33m\u001b[0m\u001b[0m\n\u001b[0;32m      8\u001b[0m \u001b[0mX_data\u001b[0m\u001b[1;33m,\u001b[0m \u001b[0my_data\u001b[0m \u001b[1;33m=\u001b[0m \u001b[0mnp\u001b[0m\u001b[1;33m.\u001b[0m\u001b[0marray\u001b[0m\u001b[1;33m(\u001b[0m\u001b[0mX_data\u001b[0m\u001b[1;33m)\u001b[0m\u001b[1;33m,\u001b[0m \u001b[0mnp\u001b[0m\u001b[1;33m.\u001b[0m\u001b[0marray\u001b[0m\u001b[1;33m(\u001b[0m\u001b[0my_data\u001b[0m\u001b[1;33m)\u001b[0m\u001b[1;33m\u001b[0m\u001b[1;33m\u001b[0m\u001b[0m\n\u001b[1;32m----> 9\u001b[1;33m \u001b[0mhistory\u001b[0m \u001b[1;33m=\u001b[0m \u001b[0mregressor\u001b[0m\u001b[1;33m.\u001b[0m\u001b[0mfit\u001b[0m\u001b[1;33m(\u001b[0m\u001b[0mX_data\u001b[0m\u001b[1;33m,\u001b[0m \u001b[0my_data\u001b[0m\u001b[1;33m,\u001b[0m \u001b[0mepochs\u001b[0m \u001b[1;33m=\u001b[0m \u001b[1;36m50\u001b[0m\u001b[1;33m,\u001b[0m \u001b[0mbatch_size\u001b[0m \u001b[1;33m=\u001b[0m \u001b[1;36m64\u001b[0m\u001b[1;33m)\u001b[0m\u001b[1;33m\u001b[0m\u001b[1;33m\u001b[0m\u001b[0m\n\u001b[0m",
      "\u001b[1;32m~\\AppData\\Roaming\\Python\\Python38\\site-packages\\tensorflow\\python\\keras\\engine\\training.py\u001b[0m in \u001b[0;36m_method_wrapper\u001b[1;34m(self, *args, **kwargs)\u001b[0m\n\u001b[0;32m    106\u001b[0m   \u001b[1;32mdef\u001b[0m \u001b[0m_method_wrapper\u001b[0m\u001b[1;33m(\u001b[0m\u001b[0mself\u001b[0m\u001b[1;33m,\u001b[0m \u001b[1;33m*\u001b[0m\u001b[0margs\u001b[0m\u001b[1;33m,\u001b[0m \u001b[1;33m**\u001b[0m\u001b[0mkwargs\u001b[0m\u001b[1;33m)\u001b[0m\u001b[1;33m:\u001b[0m\u001b[1;33m\u001b[0m\u001b[1;33m\u001b[0m\u001b[0m\n\u001b[0;32m    107\u001b[0m     \u001b[1;32mif\u001b[0m \u001b[1;32mnot\u001b[0m \u001b[0mself\u001b[0m\u001b[1;33m.\u001b[0m\u001b[0m_in_multi_worker_mode\u001b[0m\u001b[1;33m(\u001b[0m\u001b[1;33m)\u001b[0m\u001b[1;33m:\u001b[0m  \u001b[1;31m# pylint: disable=protected-access\u001b[0m\u001b[1;33m\u001b[0m\u001b[1;33m\u001b[0m\u001b[0m\n\u001b[1;32m--> 108\u001b[1;33m       \u001b[1;32mreturn\u001b[0m \u001b[0mmethod\u001b[0m\u001b[1;33m(\u001b[0m\u001b[0mself\u001b[0m\u001b[1;33m,\u001b[0m \u001b[1;33m*\u001b[0m\u001b[0margs\u001b[0m\u001b[1;33m,\u001b[0m \u001b[1;33m**\u001b[0m\u001b[0mkwargs\u001b[0m\u001b[1;33m)\u001b[0m\u001b[1;33m\u001b[0m\u001b[1;33m\u001b[0m\u001b[0m\n\u001b[0m\u001b[0;32m    109\u001b[0m \u001b[1;33m\u001b[0m\u001b[0m\n\u001b[0;32m    110\u001b[0m     \u001b[1;31m# Running inside `run_distribute_coordinator` already.\u001b[0m\u001b[1;33m\u001b[0m\u001b[1;33m\u001b[0m\u001b[1;33m\u001b[0m\u001b[0m\n",
      "\u001b[1;32m~\\AppData\\Roaming\\Python\\Python38\\site-packages\\tensorflow\\python\\keras\\engine\\training.py\u001b[0m in \u001b[0;36mfit\u001b[1;34m(self, x, y, batch_size, epochs, verbose, callbacks, validation_split, validation_data, shuffle, class_weight, sample_weight, initial_epoch, steps_per_epoch, validation_steps, validation_batch_size, validation_freq, max_queue_size, workers, use_multiprocessing)\u001b[0m\n\u001b[0;32m   1096\u001b[0m                 batch_size=batch_size):\n\u001b[0;32m   1097\u001b[0m               \u001b[0mcallbacks\u001b[0m\u001b[1;33m.\u001b[0m\u001b[0mon_train_batch_begin\u001b[0m\u001b[1;33m(\u001b[0m\u001b[0mstep\u001b[0m\u001b[1;33m)\u001b[0m\u001b[1;33m\u001b[0m\u001b[1;33m\u001b[0m\u001b[0m\n\u001b[1;32m-> 1098\u001b[1;33m               \u001b[0mtmp_logs\u001b[0m \u001b[1;33m=\u001b[0m \u001b[0mtrain_function\u001b[0m\u001b[1;33m(\u001b[0m\u001b[0miterator\u001b[0m\u001b[1;33m)\u001b[0m\u001b[1;33m\u001b[0m\u001b[1;33m\u001b[0m\u001b[0m\n\u001b[0m\u001b[0;32m   1099\u001b[0m               \u001b[1;32mif\u001b[0m \u001b[0mdata_handler\u001b[0m\u001b[1;33m.\u001b[0m\u001b[0mshould_sync\u001b[0m\u001b[1;33m:\u001b[0m\u001b[1;33m\u001b[0m\u001b[1;33m\u001b[0m\u001b[0m\n\u001b[0;32m   1100\u001b[0m                 \u001b[0mcontext\u001b[0m\u001b[1;33m.\u001b[0m\u001b[0masync_wait\u001b[0m\u001b[1;33m(\u001b[0m\u001b[1;33m)\u001b[0m\u001b[1;33m\u001b[0m\u001b[1;33m\u001b[0m\u001b[0m\n",
      "\u001b[1;32m~\\AppData\\Roaming\\Python\\Python38\\site-packages\\tensorflow\\python\\eager\\def_function.py\u001b[0m in \u001b[0;36m__call__\u001b[1;34m(self, *args, **kwds)\u001b[0m\n\u001b[0;32m    778\u001b[0m       \u001b[1;32melse\u001b[0m\u001b[1;33m:\u001b[0m\u001b[1;33m\u001b[0m\u001b[1;33m\u001b[0m\u001b[0m\n\u001b[0;32m    779\u001b[0m         \u001b[0mcompiler\u001b[0m \u001b[1;33m=\u001b[0m \u001b[1;34m\"nonXla\"\u001b[0m\u001b[1;33m\u001b[0m\u001b[1;33m\u001b[0m\u001b[0m\n\u001b[1;32m--> 780\u001b[1;33m         \u001b[0mresult\u001b[0m \u001b[1;33m=\u001b[0m \u001b[0mself\u001b[0m\u001b[1;33m.\u001b[0m\u001b[0m_call\u001b[0m\u001b[1;33m(\u001b[0m\u001b[1;33m*\u001b[0m\u001b[0margs\u001b[0m\u001b[1;33m,\u001b[0m \u001b[1;33m**\u001b[0m\u001b[0mkwds\u001b[0m\u001b[1;33m)\u001b[0m\u001b[1;33m\u001b[0m\u001b[1;33m\u001b[0m\u001b[0m\n\u001b[0m\u001b[0;32m    781\u001b[0m \u001b[1;33m\u001b[0m\u001b[0m\n\u001b[0;32m    782\u001b[0m       \u001b[0mnew_tracing_count\u001b[0m \u001b[1;33m=\u001b[0m \u001b[0mself\u001b[0m\u001b[1;33m.\u001b[0m\u001b[0m_get_tracing_count\u001b[0m\u001b[1;33m(\u001b[0m\u001b[1;33m)\u001b[0m\u001b[1;33m\u001b[0m\u001b[1;33m\u001b[0m\u001b[0m\n",
      "\u001b[1;32m~\\AppData\\Roaming\\Python\\Python38\\site-packages\\tensorflow\\python\\eager\\def_function.py\u001b[0m in \u001b[0;36m_call\u001b[1;34m(self, *args, **kwds)\u001b[0m\n\u001b[0;32m    805\u001b[0m       \u001b[1;31m# In this case we have created variables on the first call, so we run the\u001b[0m\u001b[1;33m\u001b[0m\u001b[1;33m\u001b[0m\u001b[1;33m\u001b[0m\u001b[0m\n\u001b[0;32m    806\u001b[0m       \u001b[1;31m# defunned version which is guaranteed to never create variables.\u001b[0m\u001b[1;33m\u001b[0m\u001b[1;33m\u001b[0m\u001b[1;33m\u001b[0m\u001b[0m\n\u001b[1;32m--> 807\u001b[1;33m       \u001b[1;32mreturn\u001b[0m \u001b[0mself\u001b[0m\u001b[1;33m.\u001b[0m\u001b[0m_stateless_fn\u001b[0m\u001b[1;33m(\u001b[0m\u001b[1;33m*\u001b[0m\u001b[0margs\u001b[0m\u001b[1;33m,\u001b[0m \u001b[1;33m**\u001b[0m\u001b[0mkwds\u001b[0m\u001b[1;33m)\u001b[0m  \u001b[1;31m# pylint: disable=not-callable\u001b[0m\u001b[1;33m\u001b[0m\u001b[1;33m\u001b[0m\u001b[0m\n\u001b[0m\u001b[0;32m    808\u001b[0m     \u001b[1;32melif\u001b[0m \u001b[0mself\u001b[0m\u001b[1;33m.\u001b[0m\u001b[0m_stateful_fn\u001b[0m \u001b[1;32mis\u001b[0m \u001b[1;32mnot\u001b[0m \u001b[1;32mNone\u001b[0m\u001b[1;33m:\u001b[0m\u001b[1;33m\u001b[0m\u001b[1;33m\u001b[0m\u001b[0m\n\u001b[0;32m    809\u001b[0m       \u001b[1;31m# Release the lock early so that multiple threads can perform the call\u001b[0m\u001b[1;33m\u001b[0m\u001b[1;33m\u001b[0m\u001b[1;33m\u001b[0m\u001b[0m\n",
      "\u001b[1;32m~\\AppData\\Roaming\\Python\\Python38\\site-packages\\tensorflow\\python\\eager\\function.py\u001b[0m in \u001b[0;36m__call__\u001b[1;34m(self, *args, **kwargs)\u001b[0m\n\u001b[0;32m   2827\u001b[0m     \u001b[1;32mwith\u001b[0m \u001b[0mself\u001b[0m\u001b[1;33m.\u001b[0m\u001b[0m_lock\u001b[0m\u001b[1;33m:\u001b[0m\u001b[1;33m\u001b[0m\u001b[1;33m\u001b[0m\u001b[0m\n\u001b[0;32m   2828\u001b[0m       \u001b[0mgraph_function\u001b[0m\u001b[1;33m,\u001b[0m \u001b[0margs\u001b[0m\u001b[1;33m,\u001b[0m \u001b[0mkwargs\u001b[0m \u001b[1;33m=\u001b[0m \u001b[0mself\u001b[0m\u001b[1;33m.\u001b[0m\u001b[0m_maybe_define_function\u001b[0m\u001b[1;33m(\u001b[0m\u001b[0margs\u001b[0m\u001b[1;33m,\u001b[0m \u001b[0mkwargs\u001b[0m\u001b[1;33m)\u001b[0m\u001b[1;33m\u001b[0m\u001b[1;33m\u001b[0m\u001b[0m\n\u001b[1;32m-> 2829\u001b[1;33m     \u001b[1;32mreturn\u001b[0m \u001b[0mgraph_function\u001b[0m\u001b[1;33m.\u001b[0m\u001b[0m_filtered_call\u001b[0m\u001b[1;33m(\u001b[0m\u001b[0margs\u001b[0m\u001b[1;33m,\u001b[0m \u001b[0mkwargs\u001b[0m\u001b[1;33m)\u001b[0m  \u001b[1;31m# pylint: disable=protected-access\u001b[0m\u001b[1;33m\u001b[0m\u001b[1;33m\u001b[0m\u001b[0m\n\u001b[0m\u001b[0;32m   2830\u001b[0m \u001b[1;33m\u001b[0m\u001b[0m\n\u001b[0;32m   2831\u001b[0m   \u001b[1;33m@\u001b[0m\u001b[0mproperty\u001b[0m\u001b[1;33m\u001b[0m\u001b[1;33m\u001b[0m\u001b[0m\n",
      "\u001b[1;32m~\\AppData\\Roaming\\Python\\Python38\\site-packages\\tensorflow\\python\\eager\\function.py\u001b[0m in \u001b[0;36m_filtered_call\u001b[1;34m(self, args, kwargs, cancellation_manager)\u001b[0m\n\u001b[0;32m   1841\u001b[0m       \u001b[0;31m`\u001b[0m\u001b[0margs\u001b[0m\u001b[0;31m`\u001b[0m \u001b[1;32mand\u001b[0m\u001b[0;31m \u001b[0m\u001b[0;31m`\u001b[0m\u001b[0mkwargs\u001b[0m\u001b[0;31m`\u001b[0m\u001b[1;33m.\u001b[0m\u001b[1;33m\u001b[0m\u001b[1;33m\u001b[0m\u001b[0m\n\u001b[0;32m   1842\u001b[0m     \"\"\"\n\u001b[1;32m-> 1843\u001b[1;33m     return self._call_flat(\n\u001b[0m\u001b[0;32m   1844\u001b[0m         [t for t in nest.flatten((args, kwargs), expand_composites=True)\n\u001b[0;32m   1845\u001b[0m          if isinstance(t, (ops.Tensor,\n",
      "\u001b[1;32m~\\AppData\\Roaming\\Python\\Python38\\site-packages\\tensorflow\\python\\eager\\function.py\u001b[0m in \u001b[0;36m_call_flat\u001b[1;34m(self, args, captured_inputs, cancellation_manager)\u001b[0m\n\u001b[0;32m   1921\u001b[0m         and executing_eagerly):\n\u001b[0;32m   1922\u001b[0m       \u001b[1;31m# No tape is watching; skip to running the function.\u001b[0m\u001b[1;33m\u001b[0m\u001b[1;33m\u001b[0m\u001b[1;33m\u001b[0m\u001b[0m\n\u001b[1;32m-> 1923\u001b[1;33m       return self._build_call_outputs(self._inference_function.call(\n\u001b[0m\u001b[0;32m   1924\u001b[0m           ctx, args, cancellation_manager=cancellation_manager))\n\u001b[0;32m   1925\u001b[0m     forward_backward = self._select_forward_and_backward_functions(\n",
      "\u001b[1;32m~\\AppData\\Roaming\\Python\\Python38\\site-packages\\tensorflow\\python\\eager\\function.py\u001b[0m in \u001b[0;36mcall\u001b[1;34m(self, ctx, args, cancellation_manager)\u001b[0m\n\u001b[0;32m    543\u001b[0m       \u001b[1;32mwith\u001b[0m \u001b[0m_InterpolateFunctionError\u001b[0m\u001b[1;33m(\u001b[0m\u001b[0mself\u001b[0m\u001b[1;33m)\u001b[0m\u001b[1;33m:\u001b[0m\u001b[1;33m\u001b[0m\u001b[1;33m\u001b[0m\u001b[0m\n\u001b[0;32m    544\u001b[0m         \u001b[1;32mif\u001b[0m \u001b[0mcancellation_manager\u001b[0m \u001b[1;32mis\u001b[0m \u001b[1;32mNone\u001b[0m\u001b[1;33m:\u001b[0m\u001b[1;33m\u001b[0m\u001b[1;33m\u001b[0m\u001b[0m\n\u001b[1;32m--> 545\u001b[1;33m           outputs = execute.execute(\n\u001b[0m\u001b[0;32m    546\u001b[0m               \u001b[0mstr\u001b[0m\u001b[1;33m(\u001b[0m\u001b[0mself\u001b[0m\u001b[1;33m.\u001b[0m\u001b[0msignature\u001b[0m\u001b[1;33m.\u001b[0m\u001b[0mname\u001b[0m\u001b[1;33m)\u001b[0m\u001b[1;33m,\u001b[0m\u001b[1;33m\u001b[0m\u001b[1;33m\u001b[0m\u001b[0m\n\u001b[0;32m    547\u001b[0m               \u001b[0mnum_outputs\u001b[0m\u001b[1;33m=\u001b[0m\u001b[0mself\u001b[0m\u001b[1;33m.\u001b[0m\u001b[0m_num_outputs\u001b[0m\u001b[1;33m,\u001b[0m\u001b[1;33m\u001b[0m\u001b[1;33m\u001b[0m\u001b[0m\n",
      "\u001b[1;32m~\\AppData\\Roaming\\Python\\Python38\\site-packages\\tensorflow\\python\\eager\\execute.py\u001b[0m in \u001b[0;36mquick_execute\u001b[1;34m(op_name, num_outputs, inputs, attrs, ctx, name)\u001b[0m\n\u001b[0;32m     57\u001b[0m   \u001b[1;32mtry\u001b[0m\u001b[1;33m:\u001b[0m\u001b[1;33m\u001b[0m\u001b[1;33m\u001b[0m\u001b[0m\n\u001b[0;32m     58\u001b[0m     \u001b[0mctx\u001b[0m\u001b[1;33m.\u001b[0m\u001b[0mensure_initialized\u001b[0m\u001b[1;33m(\u001b[0m\u001b[1;33m)\u001b[0m\u001b[1;33m\u001b[0m\u001b[1;33m\u001b[0m\u001b[0m\n\u001b[1;32m---> 59\u001b[1;33m     tensors = pywrap_tfe.TFE_Py_Execute(ctx._handle, device_name, op_name,\n\u001b[0m\u001b[0;32m     60\u001b[0m                                         inputs, attrs, num_outputs)\n\u001b[0;32m     61\u001b[0m   \u001b[1;32mexcept\u001b[0m \u001b[0mcore\u001b[0m\u001b[1;33m.\u001b[0m\u001b[0m_NotOkStatusException\u001b[0m \u001b[1;32mas\u001b[0m \u001b[0me\u001b[0m\u001b[1;33m:\u001b[0m\u001b[1;33m\u001b[0m\u001b[1;33m\u001b[0m\u001b[0m\n",
      "\u001b[1;31mKeyboardInterrupt\u001b[0m: "
     ]
    }
   ],
   "metadata": {
    "id": "-5B0mpI-t-yK"
   }
  },
  {
   "cell_type": "code",
   "execution_count": null,
   "source": [
    "predicted = regressor.predict(X_data)\r\n",
    "print(predicted)\r\n",
    "volume = dataset[:len(X_data), 1:]\r\n",
    "predicted = np.column_stack((predicted, volume))\r\n",
    "predicted = sc.inverse_transform(predicted)\r\n",
    "allForecastedData = predicted[:,0:1]\r\n",
    "# date = df['DATA']\r\n",
    "date = df.index\r\n",
    "print(dataset.shape)\r\n",
    "print(predicted.shape)\r\n",
    "figure(figsize=(20, 6), dpi=80)\r\n",
    "plt.plot(dataset[window:, 0:1], color = 'red', label = 'Previsto')\r\n",
    "plt.plot(predicted[:,0:1], color = 'blue', label = 'Real')\r\n",
    "plt.title('Previsão de série temporal')\r\n",
    "plt.xlabel('Tempo')\r\n",
    "plt.ylabel('Cotação (R$)')\r\n",
    "plt.legend()\r\n",
    "plt.show()"
   ],
   "outputs": [],
   "metadata": {
    "id": "E1LL5KM8vlrC"
   }
  },
  {
   "cell_type": "code",
   "execution_count": null,
   "source": [
    "from datetime import date, datetime, timedelta\r\n",
    "today = datetime.today()\r\n",
    "today_minus_100 = today - timedelta(days=100)\r\n",
    "df_new = web.DataReader(\"PETR4.SA\", data_source=\"yahoo\", start=today_minus_100, end=today)\r\n",
    "df_bovespa_new = web.DataReader(\"^BVSP\", data_source=\"yahoo\", start=today_minus_100, end=today)\r\n",
    "df_dolar_new = web.DataReader(\"USDBRL=X\", data_source=\"yahoo\", start=today_minus_100, end=today)\r\n",
    "df_new = df_new.merge(df_bovespa_new, left_on='Date', right_on='Date', suffixes=('', '_bovespa'))\r\n",
    "df_new = df_new.merge(df_dolar_new, left_on='Date', right_on='Date', suffixes=('', '_dolar'))\r\n",
    "df_new = df_new.filter([\"Close\", \"Volume\", \"Close_bovespa\", \"Volume_bovespa\"])\r\n",
    "\r\n",
    "print(df_new.tail())\r\n",
    "last_days = df_new.values\r\n",
    "scaled = sc.transform(last_days)\r\n",
    "x = []\r\n",
    "x.append(scaled)\r\n",
    "x = np.array(x)\r\n",
    "x = np.reshape(x, (x.shape[0], x.shape[1], -1))\r\n",
    "pred_price = regressor.predict(x)\r\n",
    "volume_new = last_days[0:1, 1:]\r\n",
    "pred_price = np.column_stack((pred_price, volume_new))\r\n",
    "pred_price = sc.inverse_transform(pred_price)\r\n",
    "print(pred_price[0][0])"
   ],
   "outputs": [],
   "metadata": {
    "id": "CtRI0NBrzz4D"
   }
  }
 ],
 "metadata": {
  "colab": {
   "collapsed_sections": [],
   "name": "V1 LSTM.ipynb",
   "provenance": []
  },
  "interpreter": {
   "hash": "e9d26aef1b45c2698ea6efe547ad5d4a29e612063653693e2b8c59ffe1c6a0ee"
  },
  "kernelspec": {
   "name": "python3",
   "display_name": "Python 3.8.7 64-bit"
  },
  "language_info": {
   "codemirror_mode": {
    "name": "ipython",
    "version": 3
   },
   "file_extension": ".py",
   "mimetype": "text/x-python",
   "name": "python",
   "nbconvert_exporter": "python",
   "pygments_lexer": "ipython3",
   "version": "3.8.7"
  }
 },
 "nbformat": 4,
 "nbformat_minor": 1
}