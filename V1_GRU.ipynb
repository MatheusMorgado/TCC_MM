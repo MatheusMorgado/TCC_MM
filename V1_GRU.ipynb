{
  "nbformat": 4,
  "nbformat_minor": 0,
  "metadata": {
    "colab": {
      "name": "V1 GRU.ipynb",
      "provenance": [],
      "collapsed_sections": []
    },
    "kernelspec": {
      "name": "python3",
      "display_name": "Python 3"
    },
    "language_info": {
      "name": "python"
    }
  },
  "cells": [
    {
      "cell_type": "code",
      "metadata": {
        "id": "WXZs1haGNdYv"
      },
      "source": [
        "import numpy as np\n",
        "import pandas_datareader as web\n",
        "import pandas as pd\n",
        "import seaborn as sns\n",
        "import matplotlib.pyplot as plt\n",
        "import math\n",
        "from matplotlib.pyplot import figure\n",
        "from sklearn.preprocessing import MinMaxScaler, StandardScaler\n",
        "from sklearn.metrics import mean_squared_error\n",
        "from sklearn.metrics import r2_score\n",
        "from keras.models import Sequential\n",
        "from keras.layers import Dense, LSTM, Dropout, GRU, Bidirectional\n",
        "from keras.optimizers import SGD\n",
        "from datetime import date, datetime, timedelta\n",
        "plt.style.use('fivethirtyeight')"
      ],
      "execution_count": null,
      "outputs": []
    },
    {
      "cell_type": "code",
      "metadata": {
        "colab": {
          "base_uri": "https://localhost:8080/",
          "height": 455
        },
        "id": "ZLE4oRySNhEC",
        "outputId": "8063a1ec-1270-49bd-f5de-99b655ff9468"
      },
      "source": [
        "df = web.DataReader(\"PETR4.SA\", data_source=\"yahoo\", start=\"2018-01-01\", end=\"2019-12-31\")\n",
        "df"
      ],
      "execution_count": null,
      "outputs": [
        {
          "output_type": "execute_result",
          "data": {
            "text/html": [
              "<div>\n",
              "<style scoped>\n",
              "    .dataframe tbody tr th:only-of-type {\n",
              "        vertical-align: middle;\n",
              "    }\n",
              "\n",
              "    .dataframe tbody tr th {\n",
              "        vertical-align: top;\n",
              "    }\n",
              "\n",
              "    .dataframe thead th {\n",
              "        text-align: right;\n",
              "    }\n",
              "</style>\n",
              "<table border=\"1\" class=\"dataframe\">\n",
              "  <thead>\n",
              "    <tr style=\"text-align: right;\">\n",
              "      <th></th>\n",
              "      <th>High</th>\n",
              "      <th>Low</th>\n",
              "      <th>Open</th>\n",
              "      <th>Close</th>\n",
              "      <th>Volume</th>\n",
              "      <th>Adj Close</th>\n",
              "    </tr>\n",
              "    <tr>\n",
              "      <th>Date</th>\n",
              "      <th></th>\n",
              "      <th></th>\n",
              "      <th></th>\n",
              "      <th></th>\n",
              "      <th></th>\n",
              "      <th></th>\n",
              "    </tr>\n",
              "  </thead>\n",
              "  <tbody>\n",
              "    <tr>\n",
              "      <th>2018-01-02</th>\n",
              "      <td>16.549999</td>\n",
              "      <td>16.190001</td>\n",
              "      <td>16.190001</td>\n",
              "      <td>16.549999</td>\n",
              "      <td>33461800.0</td>\n",
              "      <td>14.856965</td>\n",
              "    </tr>\n",
              "    <tr>\n",
              "      <th>2018-01-03</th>\n",
              "      <td>16.719999</td>\n",
              "      <td>16.370001</td>\n",
              "      <td>16.490000</td>\n",
              "      <td>16.700001</td>\n",
              "      <td>55940900.0</td>\n",
              "      <td>14.991621</td>\n",
              "    </tr>\n",
              "    <tr>\n",
              "      <th>2018-01-04</th>\n",
              "      <td>16.959999</td>\n",
              "      <td>16.620001</td>\n",
              "      <td>16.780001</td>\n",
              "      <td>16.730000</td>\n",
              "      <td>37064900.0</td>\n",
              "      <td>15.018551</td>\n",
              "    </tr>\n",
              "    <tr>\n",
              "      <th>2018-01-05</th>\n",
              "      <td>16.860001</td>\n",
              "      <td>16.570000</td>\n",
              "      <td>16.700001</td>\n",
              "      <td>16.830000</td>\n",
              "      <td>26958200.0</td>\n",
              "      <td>15.108323</td>\n",
              "    </tr>\n",
              "    <tr>\n",
              "      <th>2018-01-08</th>\n",
              "      <td>17.030001</td>\n",
              "      <td>16.709999</td>\n",
              "      <td>16.740000</td>\n",
              "      <td>17.030001</td>\n",
              "      <td>28400000.0</td>\n",
              "      <td>15.287862</td>\n",
              "    </tr>\n",
              "    <tr>\n",
              "      <th>...</th>\n",
              "      <td>...</td>\n",
              "      <td>...</td>\n",
              "      <td>...</td>\n",
              "      <td>...</td>\n",
              "      <td>...</td>\n",
              "      <td>...</td>\n",
              "    </tr>\n",
              "    <tr>\n",
              "      <th>2019-12-20</th>\n",
              "      <td>30.600000</td>\n",
              "      <td>30.020000</td>\n",
              "      <td>30.600000</td>\n",
              "      <td>30.260000</td>\n",
              "      <td>93064900.0</td>\n",
              "      <td>28.879580</td>\n",
              "    </tr>\n",
              "    <tr>\n",
              "      <th>2019-12-23</th>\n",
              "      <td>30.500000</td>\n",
              "      <td>30.030001</td>\n",
              "      <td>30.190001</td>\n",
              "      <td>30.500000</td>\n",
              "      <td>21970200.0</td>\n",
              "      <td>29.108633</td>\n",
              "    </tr>\n",
              "    <tr>\n",
              "      <th>2019-12-26</th>\n",
              "      <td>30.930000</td>\n",
              "      <td>30.500000</td>\n",
              "      <td>30.590000</td>\n",
              "      <td>30.910000</td>\n",
              "      <td>24810500.0</td>\n",
              "      <td>29.499928</td>\n",
              "    </tr>\n",
              "    <tr>\n",
              "      <th>2019-12-27</th>\n",
              "      <td>30.920000</td>\n",
              "      <td>30.290001</td>\n",
              "      <td>30.690001</td>\n",
              "      <td>30.520000</td>\n",
              "      <td>24995100.0</td>\n",
              "      <td>29.530836</td>\n",
              "    </tr>\n",
              "    <tr>\n",
              "      <th>2019-12-30</th>\n",
              "      <td>30.709999</td>\n",
              "      <td>30.150000</td>\n",
              "      <td>30.549999</td>\n",
              "      <td>30.180000</td>\n",
              "      <td>22111600.0</td>\n",
              "      <td>29.201857</td>\n",
              "    </tr>\n",
              "  </tbody>\n",
              "</table>\n",
              "<p>492 rows × 6 columns</p>\n",
              "</div>"
            ],
            "text/plain": [
              "                 High        Low       Open      Close      Volume  Adj Close\n",
              "Date                                                                         \n",
              "2018-01-02  16.549999  16.190001  16.190001  16.549999  33461800.0  14.856965\n",
              "2018-01-03  16.719999  16.370001  16.490000  16.700001  55940900.0  14.991621\n",
              "2018-01-04  16.959999  16.620001  16.780001  16.730000  37064900.0  15.018551\n",
              "2018-01-05  16.860001  16.570000  16.700001  16.830000  26958200.0  15.108323\n",
              "2018-01-08  17.030001  16.709999  16.740000  17.030001  28400000.0  15.287862\n",
              "...               ...        ...        ...        ...         ...        ...\n",
              "2019-12-20  30.600000  30.020000  30.600000  30.260000  93064900.0  28.879580\n",
              "2019-12-23  30.500000  30.030001  30.190001  30.500000  21970200.0  29.108633\n",
              "2019-12-26  30.930000  30.500000  30.590000  30.910000  24810500.0  29.499928\n",
              "2019-12-27  30.920000  30.290001  30.690001  30.520000  24995100.0  29.530836\n",
              "2019-12-30  30.709999  30.150000  30.549999  30.180000  22111600.0  29.201857\n",
              "\n",
              "[492 rows x 6 columns]"
            ]
          },
          "metadata": {
            "tags": []
          },
          "execution_count": 354
        }
      ]
    },
    {
      "cell_type": "code",
      "metadata": {
        "colab": {
          "base_uri": "https://localhost:8080/"
        },
        "id": "U0BBIen7Njpc",
        "outputId": "e1001a7e-86d1-436d-f354-1b37271264c4"
      },
      "source": [
        "df.shape"
      ],
      "execution_count": null,
      "outputs": [
        {
          "output_type": "execute_result",
          "data": {
            "text/plain": [
              "(492, 6)"
            ]
          },
          "metadata": {
            "tags": []
          },
          "execution_count": 355
        }
      ]
    },
    {
      "cell_type": "code",
      "metadata": {
        "colab": {
          "base_uri": "https://localhost:8080/",
          "height": 455
        },
        "id": "K8wtyI6KNbcU",
        "outputId": "a1f4f1b7-b00f-4952-f69c-101e8a1f9e25"
      },
      "source": [
        "df_bovespa = web.DataReader(\"^BVSP\", data_source=\"yahoo\", start=\"2018-01-01\", end=\"2019-12-31\")\n",
        "# df_bovespa.reset_index(inplace=True,drop=False)\n",
        "df_bovespa"
      ],
      "execution_count": null,
      "outputs": [
        {
          "output_type": "execute_result",
          "data": {
            "text/html": [
              "<div>\n",
              "<style scoped>\n",
              "    .dataframe tbody tr th:only-of-type {\n",
              "        vertical-align: middle;\n",
              "    }\n",
              "\n",
              "    .dataframe tbody tr th {\n",
              "        vertical-align: top;\n",
              "    }\n",
              "\n",
              "    .dataframe thead th {\n",
              "        text-align: right;\n",
              "    }\n",
              "</style>\n",
              "<table border=\"1\" class=\"dataframe\">\n",
              "  <thead>\n",
              "    <tr style=\"text-align: right;\">\n",
              "      <th></th>\n",
              "      <th>High</th>\n",
              "      <th>Low</th>\n",
              "      <th>Open</th>\n",
              "      <th>Close</th>\n",
              "      <th>Volume</th>\n",
              "      <th>Adj Close</th>\n",
              "    </tr>\n",
              "    <tr>\n",
              "      <th>Date</th>\n",
              "      <th></th>\n",
              "      <th></th>\n",
              "      <th></th>\n",
              "      <th></th>\n",
              "      <th></th>\n",
              "      <th></th>\n",
              "    </tr>\n",
              "  </thead>\n",
              "  <tbody>\n",
              "    <tr>\n",
              "      <th>2018-01-02</th>\n",
              "      <td>77909.0</td>\n",
              "      <td>76403.0</td>\n",
              "      <td>76403.0</td>\n",
              "      <td>77891.0</td>\n",
              "      <td>2880300.0</td>\n",
              "      <td>77891.0</td>\n",
              "    </tr>\n",
              "    <tr>\n",
              "      <th>2018-01-03</th>\n",
              "      <td>78414.0</td>\n",
              "      <td>77602.0</td>\n",
              "      <td>77889.0</td>\n",
              "      <td>77995.0</td>\n",
              "      <td>3142200.0</td>\n",
              "      <td>77995.0</td>\n",
              "    </tr>\n",
              "    <tr>\n",
              "      <th>2018-01-04</th>\n",
              "      <td>79135.0</td>\n",
              "      <td>77998.0</td>\n",
              "      <td>77998.0</td>\n",
              "      <td>78647.0</td>\n",
              "      <td>3486100.0</td>\n",
              "      <td>78647.0</td>\n",
              "    </tr>\n",
              "    <tr>\n",
              "      <th>2018-01-05</th>\n",
              "      <td>79071.0</td>\n",
              "      <td>78218.0</td>\n",
              "      <td>78644.0</td>\n",
              "      <td>79071.0</td>\n",
              "      <td>2747100.0</td>\n",
              "      <td>79071.0</td>\n",
              "    </tr>\n",
              "    <tr>\n",
              "      <th>2018-01-08</th>\n",
              "      <td>79395.0</td>\n",
              "      <td>78631.0</td>\n",
              "      <td>79070.0</td>\n",
              "      <td>79379.0</td>\n",
              "      <td>2550800.0</td>\n",
              "      <td>79379.0</td>\n",
              "    </tr>\n",
              "    <tr>\n",
              "      <th>...</th>\n",
              "      <td>...</td>\n",
              "      <td>...</td>\n",
              "      <td>...</td>\n",
              "      <td>...</td>\n",
              "      <td>...</td>\n",
              "      <td>...</td>\n",
              "    </tr>\n",
              "    <tr>\n",
              "      <th>2019-12-20</th>\n",
              "      <td>115171.0</td>\n",
              "      <td>114526.0</td>\n",
              "      <td>115133.0</td>\n",
              "      <td>115121.0</td>\n",
              "      <td>6887400.0</td>\n",
              "      <td>115121.0</td>\n",
              "    </tr>\n",
              "    <tr>\n",
              "      <th>2019-12-23</th>\n",
              "      <td>115863.0</td>\n",
              "      <td>114964.0</td>\n",
              "      <td>115119.0</td>\n",
              "      <td>115863.0</td>\n",
              "      <td>3995200.0</td>\n",
              "      <td>115863.0</td>\n",
              "    </tr>\n",
              "    <tr>\n",
              "      <th>2019-12-26</th>\n",
              "      <td>117220.0</td>\n",
              "      <td>115673.0</td>\n",
              "      <td>115864.0</td>\n",
              "      <td>117203.0</td>\n",
              "      <td>3788900.0</td>\n",
              "      <td>117203.0</td>\n",
              "    </tr>\n",
              "    <tr>\n",
              "      <th>2019-12-27</th>\n",
              "      <td>117803.0</td>\n",
              "      <td>115995.0</td>\n",
              "      <td>117205.0</td>\n",
              "      <td>116534.0</td>\n",
              "      <td>3905900.0</td>\n",
              "      <td>116534.0</td>\n",
              "    </tr>\n",
              "    <tr>\n",
              "      <th>2019-12-30</th>\n",
              "      <td>117086.0</td>\n",
              "      <td>115790.0</td>\n",
              "      <td>116530.0</td>\n",
              "      <td>115964.0</td>\n",
              "      <td>3667900.0</td>\n",
              "      <td>115964.0</td>\n",
              "    </tr>\n",
              "  </tbody>\n",
              "</table>\n",
              "<p>492 rows × 6 columns</p>\n",
              "</div>"
            ],
            "text/plain": [
              "                High       Low      Open     Close     Volume  Adj Close\n",
              "Date                                                                    \n",
              "2018-01-02   77909.0   76403.0   76403.0   77891.0  2880300.0    77891.0\n",
              "2018-01-03   78414.0   77602.0   77889.0   77995.0  3142200.0    77995.0\n",
              "2018-01-04   79135.0   77998.0   77998.0   78647.0  3486100.0    78647.0\n",
              "2018-01-05   79071.0   78218.0   78644.0   79071.0  2747100.0    79071.0\n",
              "2018-01-08   79395.0   78631.0   79070.0   79379.0  2550800.0    79379.0\n",
              "...              ...       ...       ...       ...        ...        ...\n",
              "2019-12-20  115171.0  114526.0  115133.0  115121.0  6887400.0   115121.0\n",
              "2019-12-23  115863.0  114964.0  115119.0  115863.0  3995200.0   115863.0\n",
              "2019-12-26  117220.0  115673.0  115864.0  117203.0  3788900.0   117203.0\n",
              "2019-12-27  117803.0  115995.0  117205.0  116534.0  3905900.0   116534.0\n",
              "2019-12-30  117086.0  115790.0  116530.0  115964.0  3667900.0   115964.0\n",
              "\n",
              "[492 rows x 6 columns]"
            ]
          },
          "metadata": {
            "tags": []
          },
          "execution_count": 356
        }
      ]
    },
    {
      "cell_type": "code",
      "metadata": {
        "colab": {
          "base_uri": "https://localhost:8080/"
        },
        "id": "EZid73x9Nl_w",
        "outputId": "de1ce4d1-45b2-4366-bde4-ac71ed66959f"
      },
      "source": [
        "df_bovespa.shape"
      ],
      "execution_count": null,
      "outputs": [
        {
          "output_type": "execute_result",
          "data": {
            "text/plain": [
              "(492, 6)"
            ]
          },
          "metadata": {
            "tags": []
          },
          "execution_count": 357
        }
      ]
    },
    {
      "cell_type": "code",
      "metadata": {
        "colab": {
          "base_uri": "https://localhost:8080/",
          "height": 455
        },
        "id": "rQw1gPQmjtju",
        "outputId": "b6980139-91c0-4ca7-c2f3-f56c2c2375c2"
      },
      "source": [
        "df_dolar = web.DataReader(\"USDBRL=X\", data_source=\"yahoo\", start=\"2018-01-01\", end=\"2019-12-31\")\n",
        "df_dolar"
      ],
      "execution_count": null,
      "outputs": [
        {
          "output_type": "execute_result",
          "data": {
            "text/html": [
              "<div>\n",
              "<style scoped>\n",
              "    .dataframe tbody tr th:only-of-type {\n",
              "        vertical-align: middle;\n",
              "    }\n",
              "\n",
              "    .dataframe tbody tr th {\n",
              "        vertical-align: top;\n",
              "    }\n",
              "\n",
              "    .dataframe thead th {\n",
              "        text-align: right;\n",
              "    }\n",
              "</style>\n",
              "<table border=\"1\" class=\"dataframe\">\n",
              "  <thead>\n",
              "    <tr style=\"text-align: right;\">\n",
              "      <th></th>\n",
              "      <th>High</th>\n",
              "      <th>Low</th>\n",
              "      <th>Open</th>\n",
              "      <th>Close</th>\n",
              "      <th>Volume</th>\n",
              "      <th>Adj Close</th>\n",
              "    </tr>\n",
              "    <tr>\n",
              "      <th>Date</th>\n",
              "      <th></th>\n",
              "      <th></th>\n",
              "      <th></th>\n",
              "      <th></th>\n",
              "      <th></th>\n",
              "      <th></th>\n",
              "    </tr>\n",
              "  </thead>\n",
              "  <tbody>\n",
              "    <tr>\n",
              "      <th>2018-01-01</th>\n",
              "      <td>3.311700</td>\n",
              "      <td>3.309300</td>\n",
              "      <td>3.310500</td>\n",
              "      <td>3.307600</td>\n",
              "      <td>0.0</td>\n",
              "      <td>3.307600</td>\n",
              "    </tr>\n",
              "    <tr>\n",
              "      <th>2018-01-02</th>\n",
              "      <td>3.312700</td>\n",
              "      <td>3.258500</td>\n",
              "      <td>3.310800</td>\n",
              "      <td>3.311000</td>\n",
              "      <td>0.0</td>\n",
              "      <td>3.311000</td>\n",
              "    </tr>\n",
              "    <tr>\n",
              "      <th>2018-01-03</th>\n",
              "      <td>3.263800</td>\n",
              "      <td>3.241000</td>\n",
              "      <td>3.257400</td>\n",
              "      <td>3.257800</td>\n",
              "      <td>0.0</td>\n",
              "      <td>3.257800</td>\n",
              "    </tr>\n",
              "    <tr>\n",
              "      <th>2018-01-04</th>\n",
              "      <td>3.241000</td>\n",
              "      <td>3.221400</td>\n",
              "      <td>3.235600</td>\n",
              "      <td>3.235500</td>\n",
              "      <td>0.0</td>\n",
              "      <td>3.235500</td>\n",
              "    </tr>\n",
              "    <tr>\n",
              "      <th>2018-01-05</th>\n",
              "      <td>3.247900</td>\n",
              "      <td>3.225600</td>\n",
              "      <td>3.232800</td>\n",
              "      <td>3.233100</td>\n",
              "      <td>0.0</td>\n",
              "      <td>3.233100</td>\n",
              "    </tr>\n",
              "    <tr>\n",
              "      <th>...</th>\n",
              "      <td>...</td>\n",
              "      <td>...</td>\n",
              "      <td>...</td>\n",
              "      <td>...</td>\n",
              "      <td>...</td>\n",
              "      <td>...</td>\n",
              "    </tr>\n",
              "    <tr>\n",
              "      <th>2019-12-26</th>\n",
              "      <td>4.083600</td>\n",
              "      <td>4.045000</td>\n",
              "      <td>4.083000</td>\n",
              "      <td>4.083000</td>\n",
              "      <td>0.0</td>\n",
              "      <td>4.083000</td>\n",
              "    </tr>\n",
              "    <tr>\n",
              "      <th>2019-12-27</th>\n",
              "      <td>4.075362</td>\n",
              "      <td>4.032774</td>\n",
              "      <td>4.054700</td>\n",
              "      <td>4.054700</td>\n",
              "      <td>0.0</td>\n",
              "      <td>4.054700</td>\n",
              "    </tr>\n",
              "    <tr>\n",
              "      <th>2019-12-30</th>\n",
              "      <td>4.045137</td>\n",
              "      <td>4.009400</td>\n",
              "      <td>4.022300</td>\n",
              "      <td>4.022300</td>\n",
              "      <td>0.0</td>\n",
              "      <td>4.022300</td>\n",
              "    </tr>\n",
              "    <tr>\n",
              "      <th>2019-12-31</th>\n",
              "      <td>4.025500</td>\n",
              "      <td>4.014895</td>\n",
              "      <td>4.015712</td>\n",
              "      <td>4.015711</td>\n",
              "      <td>0.0</td>\n",
              "      <td>4.015711</td>\n",
              "    </tr>\n",
              "    <tr>\n",
              "      <th>2020-01-01</th>\n",
              "      <td>4.018200</td>\n",
              "      <td>4.016300</td>\n",
              "      <td>4.016786</td>\n",
              "      <td>4.016786</td>\n",
              "      <td>0.0</td>\n",
              "      <td>4.016786</td>\n",
              "    </tr>\n",
              "  </tbody>\n",
              "</table>\n",
              "<p>502 rows × 6 columns</p>\n",
              "</div>"
            ],
            "text/plain": [
              "                High       Low      Open     Close  Volume  Adj Close\n",
              "Date                                                                 \n",
              "2018-01-01  3.311700  3.309300  3.310500  3.307600     0.0   3.307600\n",
              "2018-01-02  3.312700  3.258500  3.310800  3.311000     0.0   3.311000\n",
              "2018-01-03  3.263800  3.241000  3.257400  3.257800     0.0   3.257800\n",
              "2018-01-04  3.241000  3.221400  3.235600  3.235500     0.0   3.235500\n",
              "2018-01-05  3.247900  3.225600  3.232800  3.233100     0.0   3.233100\n",
              "...              ...       ...       ...       ...     ...        ...\n",
              "2019-12-26  4.083600  4.045000  4.083000  4.083000     0.0   4.083000\n",
              "2019-12-27  4.075362  4.032774  4.054700  4.054700     0.0   4.054700\n",
              "2019-12-30  4.045137  4.009400  4.022300  4.022300     0.0   4.022300\n",
              "2019-12-31  4.025500  4.014895  4.015712  4.015711     0.0   4.015711\n",
              "2020-01-01  4.018200  4.016300  4.016786  4.016786     0.0   4.016786\n",
              "\n",
              "[502 rows x 6 columns]"
            ]
          },
          "metadata": {
            "tags": []
          },
          "execution_count": 358
        }
      ]
    },
    {
      "cell_type": "code",
      "metadata": {
        "id": "n8LZIcI-QKBh"
      },
      "source": [
        "df = df.merge(df_bovespa, left_on='Date', right_on='Date', suffixes=('', '_bovespa'))\n",
        "df = df.merge(df_dolar, left_on='Date', right_on='Date', suffixes=('', '_dolar'))"
      ],
      "execution_count": null,
      "outputs": []
    },
    {
      "cell_type": "code",
      "metadata": {
        "colab": {
          "base_uri": "https://localhost:8080/",
          "height": 275
        },
        "id": "mE_ob22_mDfW",
        "outputId": "fed864e2-d206-48fc-a018-9c3b5836d164"
      },
      "source": [
        "df.head()"
      ],
      "execution_count": null,
      "outputs": [
        {
          "output_type": "execute_result",
          "data": {
            "text/html": [
              "<div>\n",
              "<style scoped>\n",
              "    .dataframe tbody tr th:only-of-type {\n",
              "        vertical-align: middle;\n",
              "    }\n",
              "\n",
              "    .dataframe tbody tr th {\n",
              "        vertical-align: top;\n",
              "    }\n",
              "\n",
              "    .dataframe thead th {\n",
              "        text-align: right;\n",
              "    }\n",
              "</style>\n",
              "<table border=\"1\" class=\"dataframe\">\n",
              "  <thead>\n",
              "    <tr style=\"text-align: right;\">\n",
              "      <th></th>\n",
              "      <th>High</th>\n",
              "      <th>Low</th>\n",
              "      <th>Open</th>\n",
              "      <th>Close</th>\n",
              "      <th>Volume</th>\n",
              "      <th>Adj Close</th>\n",
              "      <th>High_bovespa</th>\n",
              "      <th>Low_bovespa</th>\n",
              "      <th>Open_bovespa</th>\n",
              "      <th>Close_bovespa</th>\n",
              "      <th>Volume_bovespa</th>\n",
              "      <th>Adj Close_bovespa</th>\n",
              "      <th>High_dolar</th>\n",
              "      <th>Low_dolar</th>\n",
              "      <th>Open_dolar</th>\n",
              "      <th>Close_dolar</th>\n",
              "      <th>Volume_dolar</th>\n",
              "      <th>Adj Close_dolar</th>\n",
              "    </tr>\n",
              "    <tr>\n",
              "      <th>Date</th>\n",
              "      <th></th>\n",
              "      <th></th>\n",
              "      <th></th>\n",
              "      <th></th>\n",
              "      <th></th>\n",
              "      <th></th>\n",
              "      <th></th>\n",
              "      <th></th>\n",
              "      <th></th>\n",
              "      <th></th>\n",
              "      <th></th>\n",
              "      <th></th>\n",
              "      <th></th>\n",
              "      <th></th>\n",
              "      <th></th>\n",
              "      <th></th>\n",
              "      <th></th>\n",
              "      <th></th>\n",
              "    </tr>\n",
              "  </thead>\n",
              "  <tbody>\n",
              "    <tr>\n",
              "      <th>2018-01-02</th>\n",
              "      <td>16.549999</td>\n",
              "      <td>16.190001</td>\n",
              "      <td>16.190001</td>\n",
              "      <td>16.549999</td>\n",
              "      <td>33461800.0</td>\n",
              "      <td>14.856965</td>\n",
              "      <td>77909.0</td>\n",
              "      <td>76403.0</td>\n",
              "      <td>76403.0</td>\n",
              "      <td>77891.0</td>\n",
              "      <td>2880300.0</td>\n",
              "      <td>77891.0</td>\n",
              "      <td>3.3127</td>\n",
              "      <td>3.2585</td>\n",
              "      <td>3.3108</td>\n",
              "      <td>3.3110</td>\n",
              "      <td>0.0</td>\n",
              "      <td>3.3110</td>\n",
              "    </tr>\n",
              "    <tr>\n",
              "      <th>2018-01-03</th>\n",
              "      <td>16.719999</td>\n",
              "      <td>16.370001</td>\n",
              "      <td>16.490000</td>\n",
              "      <td>16.700001</td>\n",
              "      <td>55940900.0</td>\n",
              "      <td>14.991621</td>\n",
              "      <td>78414.0</td>\n",
              "      <td>77602.0</td>\n",
              "      <td>77889.0</td>\n",
              "      <td>77995.0</td>\n",
              "      <td>3142200.0</td>\n",
              "      <td>77995.0</td>\n",
              "      <td>3.2638</td>\n",
              "      <td>3.2410</td>\n",
              "      <td>3.2574</td>\n",
              "      <td>3.2578</td>\n",
              "      <td>0.0</td>\n",
              "      <td>3.2578</td>\n",
              "    </tr>\n",
              "    <tr>\n",
              "      <th>2018-01-04</th>\n",
              "      <td>16.959999</td>\n",
              "      <td>16.620001</td>\n",
              "      <td>16.780001</td>\n",
              "      <td>16.730000</td>\n",
              "      <td>37064900.0</td>\n",
              "      <td>15.018551</td>\n",
              "      <td>79135.0</td>\n",
              "      <td>77998.0</td>\n",
              "      <td>77998.0</td>\n",
              "      <td>78647.0</td>\n",
              "      <td>3486100.0</td>\n",
              "      <td>78647.0</td>\n",
              "      <td>3.2410</td>\n",
              "      <td>3.2214</td>\n",
              "      <td>3.2356</td>\n",
              "      <td>3.2355</td>\n",
              "      <td>0.0</td>\n",
              "      <td>3.2355</td>\n",
              "    </tr>\n",
              "    <tr>\n",
              "      <th>2018-01-05</th>\n",
              "      <td>16.860001</td>\n",
              "      <td>16.570000</td>\n",
              "      <td>16.700001</td>\n",
              "      <td>16.830000</td>\n",
              "      <td>26958200.0</td>\n",
              "      <td>15.108323</td>\n",
              "      <td>79071.0</td>\n",
              "      <td>78218.0</td>\n",
              "      <td>78644.0</td>\n",
              "      <td>79071.0</td>\n",
              "      <td>2747100.0</td>\n",
              "      <td>79071.0</td>\n",
              "      <td>3.2479</td>\n",
              "      <td>3.2256</td>\n",
              "      <td>3.2328</td>\n",
              "      <td>3.2331</td>\n",
              "      <td>0.0</td>\n",
              "      <td>3.2331</td>\n",
              "    </tr>\n",
              "    <tr>\n",
              "      <th>2018-01-08</th>\n",
              "      <td>17.030001</td>\n",
              "      <td>16.709999</td>\n",
              "      <td>16.740000</td>\n",
              "      <td>17.030001</td>\n",
              "      <td>28400000.0</td>\n",
              "      <td>15.287862</td>\n",
              "      <td>79395.0</td>\n",
              "      <td>78631.0</td>\n",
              "      <td>79070.0</td>\n",
              "      <td>79379.0</td>\n",
              "      <td>2550800.0</td>\n",
              "      <td>79379.0</td>\n",
              "      <td>3.2435</td>\n",
              "      <td>3.2235</td>\n",
              "      <td>3.2281</td>\n",
              "      <td>3.2266</td>\n",
              "      <td>0.0</td>\n",
              "      <td>3.2266</td>\n",
              "    </tr>\n",
              "  </tbody>\n",
              "</table>\n",
              "</div>"
            ],
            "text/plain": [
              "                 High        Low  ...  Volume_dolar  Adj Close_dolar\n",
              "Date                              ...                               \n",
              "2018-01-02  16.549999  16.190001  ...           0.0           3.3110\n",
              "2018-01-03  16.719999  16.370001  ...           0.0           3.2578\n",
              "2018-01-04  16.959999  16.620001  ...           0.0           3.2355\n",
              "2018-01-05  16.860001  16.570000  ...           0.0           3.2331\n",
              "2018-01-08  17.030001  16.709999  ...           0.0           3.2266\n",
              "\n",
              "[5 rows x 18 columns]"
            ]
          },
          "metadata": {
            "tags": []
          },
          "execution_count": 360
        }
      ]
    },
    {
      "cell_type": "code",
      "metadata": {
        "colab": {
          "base_uri": "https://localhost:8080/"
        },
        "id": "0zLbypzWtzci",
        "outputId": "6ce1db21-1d98-4582-dd26-2f79036f66b5"
      },
      "source": [
        "data = df.filter([\"Close\", \"Volume\", \"Close_bovespa\", \"Volume_bovespa\", \"Close_dolar\"])\n",
        "dataset = data.values\n",
        "training_data_len = math.ceil(len(dataset) * .7)\n",
        "training_data_len\n",
        "dataset.shape"
      ],
      "execution_count": null,
      "outputs": [
        {
          "output_type": "execute_result",
          "data": {
            "text/plain": [
              "(418, 5)"
            ]
          },
          "metadata": {
            "tags": []
          },
          "execution_count": 361
        }
      ]
    },
    {
      "cell_type": "code",
      "metadata": {
        "id": "TAqmEmtyuB16"
      },
      "source": [
        "sc = StandardScaler()\n",
        "sc = sc.fit(dataset)\n",
        "scaled_data = sc.transform(dataset)"
      ],
      "execution_count": null,
      "outputs": []
    },
    {
      "cell_type": "code",
      "metadata": {
        "colab": {
          "base_uri": "https://localhost:8080/"
        },
        "id": "1xCbxaHWuJFU",
        "outputId": "045175b2-a96c-420f-bc3c-2f4704dba89a"
      },
      "source": [
        "scaled_data"
      ],
      "execution_count": null,
      "outputs": [
        {
          "output_type": "execute_result",
          "data": {
            "text/plain": [
              "array([[-1.86104813, -0.95107242, -1.2044797 , -1.06839533, -1.64673201],\n",
              "       [-1.82403506, -0.14093653, -1.19483791, -0.86308806, -1.83512853],\n",
              "       [-1.81663282, -0.82121844, -1.13439133, -0.59349978, -1.91409926],\n",
              "       ...,\n",
              "       [ 1.68230078, -1.26286108,  2.44011578, -0.3561304 ,  1.08714222],\n",
              "       [ 1.58606792, -1.25620819,  2.37809313, -0.26441238,  0.98692277],\n",
              "       [ 1.50217244, -1.36012813,  2.32524872, -0.45098408,  0.87218459]])"
            ]
          },
          "metadata": {
            "tags": []
          },
          "execution_count": 363
        }
      ]
    },
    {
      "cell_type": "code",
      "metadata": {
        "id": "dv_rZkU1uqlc"
      },
      "source": [
        "train_data = scaled_data[0:training_data_len,:]\n",
        "# print(train_data)\n",
        "window = 60\n",
        "X_train = []\n",
        "y_train = []\n",
        "for i in range(window, len(train_data)):\n",
        "    X_train.append(train_data[i-window:i,:])\n",
        "    y_train.append(train_data[i, 0:1])\n",
        "X_train, y_train = np.array(X_train), np.array(y_train)"
      ],
      "execution_count": null,
      "outputs": []
    },
    {
      "cell_type": "code",
      "metadata": {
        "colab": {
          "base_uri": "https://localhost:8080/"
        },
        "id": "AqkMLK-4uxzK",
        "outputId": "6f12e7cf-8864-4a24-9eac-9179b95cca6a"
      },
      "source": [
        "X_train.shape"
      ],
      "execution_count": null,
      "outputs": [
        {
          "output_type": "execute_result",
          "data": {
            "text/plain": [
              "(233, 60, 5)"
            ]
          },
          "metadata": {
            "tags": []
          },
          "execution_count": 365
        }
      ]
    },
    {
      "cell_type": "code",
      "metadata": {
        "id": "jJ0aXnzAuy1C"
      },
      "source": [
        "X_train = np.reshape(X_train, (X_train.shape[0], X_train.shape[1], -1))"
      ],
      "execution_count": null,
      "outputs": []
    },
    {
      "cell_type": "code",
      "metadata": {
        "colab": {
          "base_uri": "https://localhost:8080/"
        },
        "id": "q03yzNLlu2on",
        "outputId": "ec674833-dcca-45bc-e72f-8a35e3b2976c"
      },
      "source": [
        "X_train.shape"
      ],
      "execution_count": null,
      "outputs": [
        {
          "output_type": "execute_result",
          "data": {
            "text/plain": [
              "(233, 60, 5)"
            ]
          },
          "metadata": {
            "tags": []
          },
          "execution_count": 367
        }
      ]
    },
    {
      "cell_type": "code",
      "metadata": {
        "id": "RkUoLngeu6aj"
      },
      "source": [
        "units1=50\n",
        "units2=50\n",
        "units3=50\n",
        "units4=50\n",
        "mybatch = 32\n",
        "myepochs = 25\n",
        "unitsoutput = 1    "
      ],
      "execution_count": null,
      "outputs": []
    },
    {
      "cell_type": "code",
      "metadata": {
        "colab": {
          "base_uri": "https://localhost:8080/"
        },
        "id": "nPJnQL4YnU6s",
        "outputId": "92722db2-f628-4de6-9214-f99ab5f079d4"
      },
      "source": [
        "# The GRU architecture\n",
        "regressor = Sequential()\n",
        "# First GRU layer with Dropout regularisation\n",
        "regressor.add(GRU(units=units1, return_sequences=True, input_shape=(X_train.shape[1], X_train.shape[2]), activation='tanh'))\n",
        "regressor.add(Dropout(0.2))\n",
        "# Second GRU layer\n",
        "regressor.add(GRU(units=units2, return_sequences=True, input_shape=(X_train.shape[1], X_train.shape[2]), activation='tanh'))\n",
        "regressor.add(Dropout(0.2))\n",
        "# Third GRU layer\n",
        "regressor.add(GRU(units=units3, return_sequences=True, input_shape=(X_train.shape[1], X_train.shape[2]), activation='tanh'))\n",
        "regressor.add(Dropout(0.2))\n",
        "# Fourth GRU layer\n",
        "regressor.add(GRU(units=units4, activation='tanh'))\n",
        "regressor.add(Dropout(0.2))\n",
        "# The output layer\n",
        "regressor.add(Dense(units=unitsoutput))\n",
        "# Compiling the RNN\n",
        "regressor.compile(optimizer=SGD(lr=0.01, decay=1e-7, momentum=0.9, nesterov=False),loss='mean_squared_error')\n",
        "# Fitting to the training set\n",
        "regressor.summary()"
      ],
      "execution_count": null,
      "outputs": [
        {
          "output_type": "stream",
          "text": [
            "Model: \"sequential_13\"\n",
            "_________________________________________________________________\n",
            "Layer (type)                 Output Shape              Param #   \n",
            "=================================================================\n",
            "gru_52 (GRU)                 (None, 60, 50)            8550      \n",
            "_________________________________________________________________\n",
            "dropout_52 (Dropout)         (None, 60, 50)            0         \n",
            "_________________________________________________________________\n",
            "gru_53 (GRU)                 (None, 60, 50)            15300     \n",
            "_________________________________________________________________\n",
            "dropout_53 (Dropout)         (None, 60, 50)            0         \n",
            "_________________________________________________________________\n",
            "gru_54 (GRU)                 (None, 60, 50)            15300     \n",
            "_________________________________________________________________\n",
            "dropout_54 (Dropout)         (None, 60, 50)            0         \n",
            "_________________________________________________________________\n",
            "gru_55 (GRU)                 (None, 50)                15300     \n",
            "_________________________________________________________________\n",
            "dropout_55 (Dropout)         (None, 50)                0         \n",
            "_________________________________________________________________\n",
            "dense_13 (Dense)             (None, 1)                 51        \n",
            "=================================================================\n",
            "Total params: 54,501\n",
            "Trainable params: 54,501\n",
            "Non-trainable params: 0\n",
            "_________________________________________________________________\n"
          ],
          "name": "stdout"
        }
      ]
    },
    {
      "cell_type": "code",
      "metadata": {
        "colab": {
          "base_uri": "https://localhost:8080/"
        },
        "id": "90uaYsDwu9FU",
        "outputId": "071bed20-555a-4a51-f446-a8ce69e17aaf"
      },
      "source": [
        "history = regressor.fit(X_train, y_train, epochs = 25, batch_size = 32)"
      ],
      "execution_count": null,
      "outputs": [
        {
          "output_type": "stream",
          "text": [
            "Epoch 1/25\n",
            "8/8 [==============================] - 7s 108ms/step - loss: 0.8152\n",
            "Epoch 2/25\n",
            "8/8 [==============================] - 1s 115ms/step - loss: 0.3796\n",
            "Epoch 3/25\n",
            "8/8 [==============================] - 1s 112ms/step - loss: 0.2603\n",
            "Epoch 4/25\n",
            "8/8 [==============================] - 1s 122ms/step - loss: 0.2044\n",
            "Epoch 5/25\n",
            "8/8 [==============================] - 1s 115ms/step - loss: 0.1507\n",
            "Epoch 6/25\n",
            "8/8 [==============================] - 1s 122ms/step - loss: 0.1532\n",
            "Epoch 7/25\n",
            "8/8 [==============================] - 1s 116ms/step - loss: 0.1667\n",
            "Epoch 8/25\n",
            "8/8 [==============================] - 1s 114ms/step - loss: 0.1223\n",
            "Epoch 9/25\n",
            "8/8 [==============================] - 1s 115ms/step - loss: 0.1178\n",
            "Epoch 10/25\n",
            "8/8 [==============================] - 1s 119ms/step - loss: 0.1362\n",
            "Epoch 11/25\n",
            "8/8 [==============================] - 1s 112ms/step - loss: 0.1208\n",
            "Epoch 12/25\n",
            "8/8 [==============================] - 1s 113ms/step - loss: 0.1377\n",
            "Epoch 13/25\n",
            "8/8 [==============================] - 1s 111ms/step - loss: 0.1034\n",
            "Epoch 14/25\n",
            "8/8 [==============================] - 1s 116ms/step - loss: 0.1247\n",
            "Epoch 15/25\n",
            "8/8 [==============================] - 1s 124ms/step - loss: 0.1219\n",
            "Epoch 16/25\n",
            "8/8 [==============================] - 1s 117ms/step - loss: 0.1156\n",
            "Epoch 17/25\n",
            "8/8 [==============================] - 1s 120ms/step - loss: 0.1022\n",
            "Epoch 18/25\n",
            "8/8 [==============================] - 1s 112ms/step - loss: 0.0947\n",
            "Epoch 19/25\n",
            "8/8 [==============================] - 1s 115ms/step - loss: 0.0929\n",
            "Epoch 20/25\n",
            "8/8 [==============================] - 1s 111ms/step - loss: 0.1110\n",
            "Epoch 21/25\n",
            "8/8 [==============================] - 1s 113ms/step - loss: 0.0981\n",
            "Epoch 22/25\n",
            "8/8 [==============================] - 1s 118ms/step - loss: 0.1052\n",
            "Epoch 23/25\n",
            "8/8 [==============================] - 1s 114ms/step - loss: 0.0713\n",
            "Epoch 24/25\n",
            "8/8 [==============================] - 1s 114ms/step - loss: 0.0852\n",
            "Epoch 25/25\n",
            "8/8 [==============================] - 1s 120ms/step - loss: 0.0955\n"
          ],
          "name": "stdout"
        }
      ]
    },
    {
      "cell_type": "code",
      "metadata": {
        "colab": {
          "base_uri": "https://localhost:8080/",
          "height": 282
        },
        "id": "amW1km16u_lf",
        "outputId": "ce9b764c-fa97-4833-b1a2-6254bb2103c5"
      },
      "source": [
        "plt.plot(history.history['loss'], label='treino')\n",
        "plt.legend();"
      ],
      "execution_count": null,
      "outputs": [
        {
          "output_type": "display_data",
          "data": {
            "image/png": "[encoded data removed]",
            "text/plain": [
              "<Figure size 432x288 with 1 Axes>"
            ]
          },
          "metadata": {
            "tags": []
          }
        }
      ]
    },
    {
      "cell_type": "code",
      "metadata": {
        "colab": {
          "base_uri": "https://localhost:8080/"
        },
        "id": "vPJyp8suvC7_",
        "outputId": "c8c80d4a-c68b-4b00-dc26-48592b74f629"
      },
      "source": [
        "test_data = scaled_data[training_data_len - window:, :]\n",
        "\n",
        "X_test = []\n",
        "y_test = dataset[training_data_len:, 0:1]\n",
        "\n",
        "for i in range(window, len(test_data)): \n",
        "    X_test.append(test_data[i-window:i,:])\n",
        "X_test = np.array(X_test)\n",
        "\n",
        "X_test = np.reshape(X_test, (X_test.shape[0], X_test.shape[1], -1))\n",
        "print(X_test.shape, X_train.shape)"
      ],
      "execution_count": null,
      "outputs": [
        {
          "output_type": "stream",
          "text": [
            "(125, 60, 5) (233, 60, 5)\n"
          ],
          "name": "stdout"
        }
      ]
    },
    {
      "cell_type": "code",
      "metadata": {
        "id": "L9MB4ux0vIPR"
      },
      "source": [
        "predicted = regressor.predict(X_test)\n",
        "volume = dataset[training_data_len:, 1:]\n",
        "predicted = np.column_stack((predicted, volume))\n",
        "predicted = sc.inverse_transform(predicted)"
      ],
      "execution_count": null,
      "outputs": []
    },
    {
      "cell_type": "code",
      "metadata": {
        "colab": {
          "base_uri": "https://localhost:8080/",
          "height": 414
        },
        "id": "3G7e6HV4vMej",
        "outputId": "35d16c8a-66b9-42a1-b3d3-3ee48aea4e03"
      },
      "source": [
        "allTargetData = np.vstack((dataset[:training_data_len, 0:1], dataset[training_data_len:, 0:1]))\n",
        "training_predicted = regressor.predict(X_train)\n",
        "volume = dataset[:len(X_train), 1:]\n",
        "training_predicted = np.column_stack((training_predicted, volume))\n",
        "training_predicted = sc.inverse_transform(training_predicted)\n",
        "allForecastedData = np.vstack((dataset[0:window, 0:1], training_predicted[:,0:1], predicted[:,0:1]))\n",
        "# date = df['DATA']\n",
        "date = df.index\n",
        "\n",
        "figure(figsize=(20, 6), dpi=80)\n",
        "plt.plot(date, allForecastedData, color = 'red', label = 'Previsto')\n",
        "plt.plot(date, allTargetData, color = 'blue', label = 'Real')\n",
        "plt.title('Previsão de série temporal')\n",
        "plt.xlabel('Tempo')\n",
        "plt.ylabel('Cotação (R$)')\n",
        "plt.legend()\n",
        "plt.show()"
      ],
      "execution_count": null,
      "outputs": [
        {
          "output_type": "display_data",
          "data": {
            "image/png": "[encoded data removed]",
            "text/plain": [
              "<Figure size 1600x480 with 1 Axes>"
            ]
          },
          "metadata": {
            "tags": []
          }
        }
      ]
    },
    {
      "cell_type": "code",
      "metadata": {
        "colab": {
          "base_uri": "https://localhost:8080/"
        },
        "id": "4CCLiPM8vO5U",
        "outputId": "12f25208-c68b-4d45-ab5b-ceb9ce1c2b35"
      },
      "source": [
        "rmse = math.sqrt(mean_squared_error(dataset[training_data_len:, 0:1], predicted[:,0:1]))\n",
        "print('RMSE: ', rmse)"
      ],
      "execution_count": null,
      "outputs": [
        {
          "output_type": "stream",
          "text": [
            "RMSE:  0.6854905071350006\n"
          ],
          "name": "stdout"
        }
      ]
    },
    {
      "cell_type": "code",
      "metadata": {
        "colab": {
          "base_uri": "https://localhost:8080/"
        },
        "id": "dWEFnqylvQiy",
        "outputId": "f197b051-c447-4584-e8f6-d81ccde79707"
      },
      "source": [
        "mse = mean_squared_error(dataset[training_data_len:, 0:1], predicted[:,0:1])\n",
        "print('MSE: ',mse)"
      ],
      "execution_count": null,
      "outputs": [
        {
          "output_type": "stream",
          "text": [
            "MSE:  0.46989723537220035\n"
          ],
          "name": "stdout"
        }
      ]
    },
    {
      "cell_type": "code",
      "metadata": {
        "colab": {
          "base_uri": "https://localhost:8080/"
        },
        "id": "-PC8KlwwvRum",
        "outputId": "8776e6ca-e803-4830-f8db-c81f688fcb06"
      },
      "source": [
        "mape = np.mean(np.abs((dataset[training_data_len:, 0:1]-predicted[:,0:1]) /dataset[training_data_len:, 0:1])) * 100\n",
        "print('MAPE: ',mape, '%')"
      ],
      "execution_count": null,
      "outputs": [
        {
          "output_type": "stream",
          "text": [
            "MAPE:  2.0790300788455673 %\n"
          ],
          "name": "stdout"
        }
      ]
    },
    {
      "cell_type": "code",
      "metadata": {
        "colab": {
          "base_uri": "https://localhost:8080/"
        },
        "id": "Hi7q3c9OvTI_",
        "outputId": "89e63c81-7002-41c4-c22e-8925fd723816"
      },
      "source": [
        "print('R2: ', r2_score(predicted[:,0:1], dataset[training_data_len:, 0:1]))"
      ],
      "execution_count": null,
      "outputs": [
        {
          "output_type": "stream",
          "text": [
            "R2:  0.8119431556645178\n"
          ],
          "name": "stdout"
        }
      ]
    },
    {
      "cell_type": "code",
      "metadata": {
        "colab": {
          "base_uri": "https://localhost:8080/"
        },
        "id": "CtRI0NBrzz4D",
        "outputId": "db573075-c805-4967-9bc7-1844a9f4b09e"
      },
      "source": [
        "today = datetime.today()\n",
        "today_minus_100 = today - timedelta(days=100)\n",
        "df_new = web.DataReader(\"PETR4.SA\", data_source=\"yahoo\", start=today_minus_100, end=today)\n",
        "df_bovespa_new = web.DataReader(\"^BVSP\", data_source=\"yahoo\", start=today_minus_100, end=today)\n",
        "df_dolar_new = web.DataReader(\"USDBRL=X\", data_source=\"yahoo\", start=today_minus_100, end=today)\n",
        "df_new = df_new.merge(df_bovespa_new, left_on='Date', right_on='Date', suffixes=('', '_bovespa'))\n",
        "df_new = df_new.merge(df_dolar_new, left_on='Date', right_on='Date', suffixes=('', '_dolar'))\n",
        "df_new = df_new.filter([\"Close\", \"Volume\", \"Close_bovespa\", \"Volume_bovespa\", \"Close_dolar\"])\n",
        "\n",
        "\n",
        "print(df_new.tail())\n",
        "last_days = df_new.values\n",
        "scaled = sc.transform(last_days)\n",
        "x = []\n",
        "x.append(scaled)\n",
        "x = np.array(x)\n",
        "x = np.reshape(x, (x.shape[0], x.shape[1], -1))\n",
        "pred_price = regressor.predict(x)\n",
        "volume_new = last_days[0:1, 1:]\n",
        "pred_price = np.column_stack((pred_price, volume_new))\n",
        "pred_price = sc.inverse_transform(pred_price)\n",
        "print(pred_price[0][0])"
      ],
      "execution_count": null,
      "outputs": [
        {
          "output_type": "stream",
          "text": [
            "                Close      Volume  Close_bovespa  Volume_bovespa  Close_dolar\n",
            "Date                                                                         \n",
            "2021-04-07  24.000000  55892200.0       117624.0             0.0       5.6121\n",
            "2021-04-08  23.700001  63231300.0       118313.0       8778200.0       5.5666\n",
            "2021-04-12  23.889999  50592900.0       118812.0       7000500.0       5.7322\n",
            "2021-04-13  23.969999  53612300.0       119297.0       8977600.0       5.7163\n",
            "2021-04-14  24.350000  90836500.0       120295.0      10076600.0       5.6529\n",
            "WARNING:tensorflow:Model was constructed with shape (None, 60, 5) for input KerasTensor(type_spec=TensorSpec(shape=(None, 60, 5), dtype=tf.float32, name='gru_52_input'), name='gru_52_input', description=\"created by layer 'gru_52_input'\"), but it was called on an input with incompatible shape (None, 65, 5).\n",
            "25.838576646679215\n"
          ],
          "name": "stdout"
        }
      ]
    }
  ]
}