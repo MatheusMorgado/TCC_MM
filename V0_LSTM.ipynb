{
  "nbformat": 4,
  "nbformat_minor": 2,
  "metadata": {
    "colab": {
      "name": "V1 LSTM.ipynb",
      "provenance": [],
      "collapsed_sections": []
    },
    "kernelspec": {
      "name": "python3",
      "display_name": "Python 3.8.7 64-bit"
    },
    "language_info": {
      "name": "python",
      "version": "3.8.7",
      "mimetype": "text/x-python",
      "codemirror_mode": {
        "name": "ipython",
        "version": 3
      },
      "pygments_lexer": "ipython3",
      "nbconvert_exporter": "python",
      "file_extension": ".py"
    },
    "interpreter": {
      "hash": "e9d26aef1b45c2698ea6efe547ad5d4a29e612063653693e2b8c59ffe1c6a0ee"
    }
  },
  "cells": [
    {
      "cell_type": "code",
      "execution_count": 2,
      "source": [
        "import numpy as np\r\n",
        "import pandas_datareader as web\r\n",
        "import pandas as pd\r\n",
        "import seaborn as sns\r\n",
        "import matplotlib.pyplot as plt\r\n",
        "import math\r\n",
        "from matplotlib.pyplot import figure\r\n",
        "from sklearn.preprocessing import MinMaxScaler, StandardScaler\r\n",
        "from sklearn.metrics import mean_squared_error\r\n",
        "from sklearn.metrics import r2_score\r\n",
        "from tensorflow import keras \r\n",
        "'''from keras.models import Sequential\r\n",
        "from keras.layers import Dense\r\n",
        "from keras.layers import LSTM\r\n",
        "from keras.layers import Dropout'''"
      ],
      "outputs": [
        {
          "output_type": "execute_result",
          "data": {
            "text/plain": [
              "'from keras.models import Sequential\\nfrom keras.layers import Dense\\nfrom keras.layers import LSTM\\nfrom keras.layers import Dropout'"
            ]
          },
          "metadata": {},
          "execution_count": 2
        }
      ],
      "metadata": {
        "id": "WXZs1haGNdYv"
      }
    },
    {
      "cell_type": "code",
      "execution_count": 3,
      "source": [
        "Sequential = keras.models.Sequential\r\n",
        "Dense = keras.layers.Dense\r\n",
        "LSTM = keras.layers.LSTM\r\n",
        "Dropout = keras.layers.Dropout"
      ],
      "outputs": [],
      "metadata": {}
    },
    {
      "cell_type": "code",
      "execution_count": 4,
      "source": [
        "df = web.DataReader(\"PETR4.SA\", data_source=\"yahoo\", start=\"2015-01-01\", end=\"2019-12-31\")\r\n",
        "df"
      ],
      "outputs": [
        {
          "output_type": "execute_result",
          "data": {
            "text/plain": [
              "                 High        Low       Open  Close      Volume  Adj Close\n",
              "Date                                                                     \n",
              "2015-01-02   9.990000   9.350000   9.990000   9.36  49559500.0   7.928355\n",
              "2015-01-05   9.190000   8.530000   9.140000   8.56  78385100.0   7.250719\n",
              "2015-01-06   8.830000   8.040000   8.710000   8.28  84723300.0   7.013545\n",
              "2015-01-07   8.730000   8.360000   8.560000   8.67  85531000.0   7.343894\n",
              "2015-01-08   9.390000   8.740000   8.790000   9.23  83306300.0   7.818239\n",
              "...               ...        ...        ...    ...         ...        ...\n",
              "2019-12-20  30.600000  30.020000  30.600000  30.26  93064900.0  27.249969\n",
              "2019-12-23  30.500000  30.030001  30.190001  30.50  21970200.0  27.466095\n",
              "2019-12-26  30.930000  30.500000  30.590000  30.91  24810500.0  27.835314\n",
              "2019-12-27  30.920000  30.290001  30.690001  30.52  24995100.0  27.864475\n",
              "2019-12-30  30.709999  30.150000  30.549999  30.18  22111600.0  27.554058\n",
              "\n",
              "[1241 rows x 6 columns]"
            ],
            "text/html": [
              "<div>\n",
              "<style scoped>\n",
              "    .dataframe tbody tr th:only-of-type {\n",
              "        vertical-align: middle;\n",
              "    }\n",
              "\n",
              "    .dataframe tbody tr th {\n",
              "        vertical-align: top;\n",
              "    }\n",
              "\n",
              "    .dataframe thead th {\n",
              "        text-align: right;\n",
              "    }\n",
              "</style>\n",
              "<table border=\"1\" class=\"dataframe\">\n",
              "  <thead>\n",
              "    <tr style=\"text-align: right;\">\n",
              "      <th></th>\n",
              "      <th>High</th>\n",
              "      <th>Low</th>\n",
              "      <th>Open</th>\n",
              "      <th>Close</th>\n",
              "      <th>Volume</th>\n",
              "      <th>Adj Close</th>\n",
              "    </tr>\n",
              "    <tr>\n",
              "      <th>Date</th>\n",
              "      <th></th>\n",
              "      <th></th>\n",
              "      <th></th>\n",
              "      <th></th>\n",
              "      <th></th>\n",
              "      <th></th>\n",
              "    </tr>\n",
              "  </thead>\n",
              "  <tbody>\n",
              "    <tr>\n",
              "      <th>2015-01-02</th>\n",
              "      <td>9.990000</td>\n",
              "      <td>9.350000</td>\n",
              "      <td>9.990000</td>\n",
              "      <td>9.36</td>\n",
              "      <td>49559500.0</td>\n",
              "      <td>7.928355</td>\n",
              "    </tr>\n",
              "    <tr>\n",
              "      <th>2015-01-05</th>\n",
              "      <td>9.190000</td>\n",
              "      <td>8.530000</td>\n",
              "      <td>9.140000</td>\n",
              "      <td>8.56</td>\n",
              "      <td>78385100.0</td>\n",
              "      <td>7.250719</td>\n",
              "    </tr>\n",
              "    <tr>\n",
              "      <th>2015-01-06</th>\n",
              "      <td>8.830000</td>\n",
              "      <td>8.040000</td>\n",
              "      <td>8.710000</td>\n",
              "      <td>8.28</td>\n",
              "      <td>84723300.0</td>\n",
              "      <td>7.013545</td>\n",
              "    </tr>\n",
              "    <tr>\n",
              "      <th>2015-01-07</th>\n",
              "      <td>8.730000</td>\n",
              "      <td>8.360000</td>\n",
              "      <td>8.560000</td>\n",
              "      <td>8.67</td>\n",
              "      <td>85531000.0</td>\n",
              "      <td>7.343894</td>\n",
              "    </tr>\n",
              "    <tr>\n",
              "      <th>2015-01-08</th>\n",
              "      <td>9.390000</td>\n",
              "      <td>8.740000</td>\n",
              "      <td>8.790000</td>\n",
              "      <td>9.23</td>\n",
              "      <td>83306300.0</td>\n",
              "      <td>7.818239</td>\n",
              "    </tr>\n",
              "    <tr>\n",
              "      <th>...</th>\n",
              "      <td>...</td>\n",
              "      <td>...</td>\n",
              "      <td>...</td>\n",
              "      <td>...</td>\n",
              "      <td>...</td>\n",
              "      <td>...</td>\n",
              "    </tr>\n",
              "    <tr>\n",
              "      <th>2019-12-20</th>\n",
              "      <td>30.600000</td>\n",
              "      <td>30.020000</td>\n",
              "      <td>30.600000</td>\n",
              "      <td>30.26</td>\n",
              "      <td>93064900.0</td>\n",
              "      <td>27.249969</td>\n",
              "    </tr>\n",
              "    <tr>\n",
              "      <th>2019-12-23</th>\n",
              "      <td>30.500000</td>\n",
              "      <td>30.030001</td>\n",
              "      <td>30.190001</td>\n",
              "      <td>30.50</td>\n",
              "      <td>21970200.0</td>\n",
              "      <td>27.466095</td>\n",
              "    </tr>\n",
              "    <tr>\n",
              "      <th>2019-12-26</th>\n",
              "      <td>30.930000</td>\n",
              "      <td>30.500000</td>\n",
              "      <td>30.590000</td>\n",
              "      <td>30.91</td>\n",
              "      <td>24810500.0</td>\n",
              "      <td>27.835314</td>\n",
              "    </tr>\n",
              "    <tr>\n",
              "      <th>2019-12-27</th>\n",
              "      <td>30.920000</td>\n",
              "      <td>30.290001</td>\n",
              "      <td>30.690001</td>\n",
              "      <td>30.52</td>\n",
              "      <td>24995100.0</td>\n",
              "      <td>27.864475</td>\n",
              "    </tr>\n",
              "    <tr>\n",
              "      <th>2019-12-30</th>\n",
              "      <td>30.709999</td>\n",
              "      <td>30.150000</td>\n",
              "      <td>30.549999</td>\n",
              "      <td>30.18</td>\n",
              "      <td>22111600.0</td>\n",
              "      <td>27.554058</td>\n",
              "    </tr>\n",
              "  </tbody>\n",
              "</table>\n",
              "<p>1241 rows × 6 columns</p>\n",
              "</div>"
            ]
          },
          "metadata": {},
          "execution_count": 4
        }
      ],
      "metadata": {
        "colab": {
          "base_uri": "https://localhost:8080/",
          "height": 455
        },
        "id": "ZLE4oRySNhEC",
        "outputId": "c43e9a74-043b-4b03-d1f6-e1f14cf45aac"
      }
    },
    {
      "cell_type": "code",
      "execution_count": 5,
      "source": [
        "df.shape"
      ],
      "outputs": [
        {
          "output_type": "execute_result",
          "data": {
            "text/plain": [
              "(1241, 6)"
            ]
          },
          "metadata": {},
          "execution_count": 5
        }
      ],
      "metadata": {
        "colab": {
          "base_uri": "https://localhost:8080/"
        },
        "id": "U0BBIen7Njpc",
        "outputId": "40f52750-b211-4ffa-dafc-5973e971e4a6"
      }
    },
    {
      "cell_type": "code",
      "execution_count": 6,
      "source": [
        "df_bovespa = web.DataReader(\"^BVSP\", data_source=\"yahoo\", start=\"2015-01-01\", end=\"2019-12-31\")\r\n",
        "# df_bovespa.reset_index(inplace=True,drop=False)\r\n",
        "df_bovespa"
      ],
      "outputs": [
        {
          "output_type": "execute_result",
          "data": {
            "text/plain": [
              "                High       Low      Open     Close     Volume  Adj Close\n",
              "Date                                                                    \n",
              "2015-01-02   50005.0   48345.0   50005.0   48512.0  2882100.0    48512.0\n",
              "2015-01-05   48512.0   47264.0   48512.0   47517.0  3866100.0    47517.0\n",
              "2015-01-06   48061.0   47338.0   47517.0   48001.0  4559300.0    48001.0\n",
              "2015-01-07   49882.0   48006.0   48006.0   49463.0  4408800.0    49463.0\n",
              "2015-01-08   50261.0   49017.0   49463.0   49943.0  3621900.0    49943.0\n",
              "...              ...       ...       ...       ...        ...        ...\n",
              "2019-12-20  115171.0  114526.0  115133.0  115121.0  6887400.0   115121.0\n",
              "2019-12-23  115863.0  114964.0  115119.0  115863.0  3995200.0   115863.0\n",
              "2019-12-26  117220.0  115673.0  115864.0  117203.0  3788900.0   117203.0\n",
              "2019-12-27  117803.0  115995.0  117205.0  116534.0  3905900.0   116534.0\n",
              "2019-12-30  117086.0  115790.0  116530.0  115964.0  3667900.0   115964.0\n",
              "\n",
              "[1235 rows x 6 columns]"
            ],
            "text/html": [
              "<div>\n",
              "<style scoped>\n",
              "    .dataframe tbody tr th:only-of-type {\n",
              "        vertical-align: middle;\n",
              "    }\n",
              "\n",
              "    .dataframe tbody tr th {\n",
              "        vertical-align: top;\n",
              "    }\n",
              "\n",
              "    .dataframe thead th {\n",
              "        text-align: right;\n",
              "    }\n",
              "</style>\n",
              "<table border=\"1\" class=\"dataframe\">\n",
              "  <thead>\n",
              "    <tr style=\"text-align: right;\">\n",
              "      <th></th>\n",
              "      <th>High</th>\n",
              "      <th>Low</th>\n",
              "      <th>Open</th>\n",
              "      <th>Close</th>\n",
              "      <th>Volume</th>\n",
              "      <th>Adj Close</th>\n",
              "    </tr>\n",
              "    <tr>\n",
              "      <th>Date</th>\n",
              "      <th></th>\n",
              "      <th></th>\n",
              "      <th></th>\n",
              "      <th></th>\n",
              "      <th></th>\n",
              "      <th></th>\n",
              "    </tr>\n",
              "  </thead>\n",
              "  <tbody>\n",
              "    <tr>\n",
              "      <th>2015-01-02</th>\n",
              "      <td>50005.0</td>\n",
              "      <td>48345.0</td>\n",
              "      <td>50005.0</td>\n",
              "      <td>48512.0</td>\n",
              "      <td>2882100.0</td>\n",
              "      <td>48512.0</td>\n",
              "    </tr>\n",
              "    <tr>\n",
              "      <th>2015-01-05</th>\n",
              "      <td>48512.0</td>\n",
              "      <td>47264.0</td>\n",
              "      <td>48512.0</td>\n",
              "      <td>47517.0</td>\n",
              "      <td>3866100.0</td>\n",
              "      <td>47517.0</td>\n",
              "    </tr>\n",
              "    <tr>\n",
              "      <th>2015-01-06</th>\n",
              "      <td>48061.0</td>\n",
              "      <td>47338.0</td>\n",
              "      <td>47517.0</td>\n",
              "      <td>48001.0</td>\n",
              "      <td>4559300.0</td>\n",
              "      <td>48001.0</td>\n",
              "    </tr>\n",
              "    <tr>\n",
              "      <th>2015-01-07</th>\n",
              "      <td>49882.0</td>\n",
              "      <td>48006.0</td>\n",
              "      <td>48006.0</td>\n",
              "      <td>49463.0</td>\n",
              "      <td>4408800.0</td>\n",
              "      <td>49463.0</td>\n",
              "    </tr>\n",
              "    <tr>\n",
              "      <th>2015-01-08</th>\n",
              "      <td>50261.0</td>\n",
              "      <td>49017.0</td>\n",
              "      <td>49463.0</td>\n",
              "      <td>49943.0</td>\n",
              "      <td>3621900.0</td>\n",
              "      <td>49943.0</td>\n",
              "    </tr>\n",
              "    <tr>\n",
              "      <th>...</th>\n",
              "      <td>...</td>\n",
              "      <td>...</td>\n",
              "      <td>...</td>\n",
              "      <td>...</td>\n",
              "      <td>...</td>\n",
              "      <td>...</td>\n",
              "    </tr>\n",
              "    <tr>\n",
              "      <th>2019-12-20</th>\n",
              "      <td>115171.0</td>\n",
              "      <td>114526.0</td>\n",
              "      <td>115133.0</td>\n",
              "      <td>115121.0</td>\n",
              "      <td>6887400.0</td>\n",
              "      <td>115121.0</td>\n",
              "    </tr>\n",
              "    <tr>\n",
              "      <th>2019-12-23</th>\n",
              "      <td>115863.0</td>\n",
              "      <td>114964.0</td>\n",
              "      <td>115119.0</td>\n",
              "      <td>115863.0</td>\n",
              "      <td>3995200.0</td>\n",
              "      <td>115863.0</td>\n",
              "    </tr>\n",
              "    <tr>\n",
              "      <th>2019-12-26</th>\n",
              "      <td>117220.0</td>\n",
              "      <td>115673.0</td>\n",
              "      <td>115864.0</td>\n",
              "      <td>117203.0</td>\n",
              "      <td>3788900.0</td>\n",
              "      <td>117203.0</td>\n",
              "    </tr>\n",
              "    <tr>\n",
              "      <th>2019-12-27</th>\n",
              "      <td>117803.0</td>\n",
              "      <td>115995.0</td>\n",
              "      <td>117205.0</td>\n",
              "      <td>116534.0</td>\n",
              "      <td>3905900.0</td>\n",
              "      <td>116534.0</td>\n",
              "    </tr>\n",
              "    <tr>\n",
              "      <th>2019-12-30</th>\n",
              "      <td>117086.0</td>\n",
              "      <td>115790.0</td>\n",
              "      <td>116530.0</td>\n",
              "      <td>115964.0</td>\n",
              "      <td>3667900.0</td>\n",
              "      <td>115964.0</td>\n",
              "    </tr>\n",
              "  </tbody>\n",
              "</table>\n",
              "<p>1235 rows × 6 columns</p>\n",
              "</div>"
            ]
          },
          "metadata": {},
          "execution_count": 6
        }
      ],
      "metadata": {
        "colab": {
          "base_uri": "https://localhost:8080/",
          "height": 455
        },
        "id": "K8wtyI6KNbcU",
        "outputId": "fbd0803c-1268-49a1-eb58-f65fc832a9f5"
      }
    },
    {
      "cell_type": "code",
      "execution_count": 7,
      "source": [
        "df_bovespa.shape"
      ],
      "outputs": [
        {
          "output_type": "execute_result",
          "data": {
            "text/plain": [
              "(1235, 6)"
            ]
          },
          "metadata": {},
          "execution_count": 7
        }
      ],
      "metadata": {
        "colab": {
          "base_uri": "https://localhost:8080/"
        },
        "id": "EZid73x9Nl_w",
        "outputId": "a1781db4-3d1b-497c-8bde-53e67282d037"
      }
    },
    {
      "cell_type": "code",
      "execution_count": 8,
      "source": [
        "df = df.merge(df_bovespa, left_on='Date', right_on='Date', suffixes=('', '_bovespa'))\r\n",
        "df.describe()"
      ],
      "outputs": [
        {
          "output_type": "execute_result",
          "data": {
            "text/plain": [
              "              High          Low         Open        Close        Volume  \\\n",
              "count  1235.000000  1235.000000  1235.000000  1235.000000  1.235000e+03   \n",
              "mean     16.946024    16.417725    16.693765    16.669887  5.410856e+07   \n",
              "std       7.135614     7.025846     7.087856     7.081970  2.619016e+07   \n",
              "min       4.270000     4.120000     4.200000     4.200000  0.000000e+00   \n",
              "25%      11.150000    10.630000    10.910000    10.855000  3.727595e+07   \n",
              "50%      15.520000    15.060000    15.300000    15.310000  4.868110e+07   \n",
              "75%      23.160000    22.575000    22.810000    22.890000  6.523980e+07   \n",
              "max      31.230000    30.500000    30.889999    30.969999  2.403438e+08   \n",
              "\n",
              "         Adj Close   High_bovespa    Low_bovespa   Open_bovespa  \\\n",
              "count  1235.000000    1235.000000    1235.000000    1235.000000   \n",
              "mean     14.364827   71258.726316   69996.229960   70605.106883   \n",
              "std       6.371996   19634.810008   19447.130086   19532.433000   \n",
              "min       3.557596   38031.000000   37046.000000   37501.000000   \n",
              "25%       9.194690   53498.500000   52677.000000   53087.500000   \n",
              "50%      12.968283   66758.000000   65842.000000   66195.000000   \n",
              "75%      19.496764   86157.000000   84582.500000   85515.000000   \n",
              "max      27.889343  117803.000000  115995.000000  117205.000000   \n",
              "\n",
              "       Close_bovespa  Volume_bovespa  Adj Close_bovespa  \n",
              "count    1235.000000    1.235000e+03        1235.000000  \n",
              "mean    70656.285020    3.794215e+06       70656.285020  \n",
              "std     19564.626768    1.203582e+06       19564.626768  \n",
              "min     37497.000000    0.000000e+00       37497.000000  \n",
              "25%     53094.500000    3.078600e+06       53094.500000  \n",
              "50%     66235.000000    3.658900e+06       66235.000000  \n",
              "75%     85539.000000    4.389100e+06       85539.000000  \n",
              "max    117203.000000    1.104670e+07      117203.000000  "
            ],
            "text/html": [
              "<div>\n",
              "<style scoped>\n",
              "    .dataframe tbody tr th:only-of-type {\n",
              "        vertical-align: middle;\n",
              "    }\n",
              "\n",
              "    .dataframe tbody tr th {\n",
              "        vertical-align: top;\n",
              "    }\n",
              "\n",
              "    .dataframe thead th {\n",
              "        text-align: right;\n",
              "    }\n",
              "</style>\n",
              "<table border=\"1\" class=\"dataframe\">\n",
              "  <thead>\n",
              "    <tr style=\"text-align: right;\">\n",
              "      <th></th>\n",
              "      <th>High</th>\n",
              "      <th>Low</th>\n",
              "      <th>Open</th>\n",
              "      <th>Close</th>\n",
              "      <th>Volume</th>\n",
              "      <th>Adj Close</th>\n",
              "      <th>High_bovespa</th>\n",
              "      <th>Low_bovespa</th>\n",
              "      <th>Open_bovespa</th>\n",
              "      <th>Close_bovespa</th>\n",
              "      <th>Volume_bovespa</th>\n",
              "      <th>Adj Close_bovespa</th>\n",
              "    </tr>\n",
              "  </thead>\n",
              "  <tbody>\n",
              "    <tr>\n",
              "      <th>count</th>\n",
              "      <td>1235.000000</td>\n",
              "      <td>1235.000000</td>\n",
              "      <td>1235.000000</td>\n",
              "      <td>1235.000000</td>\n",
              "      <td>1.235000e+03</td>\n",
              "      <td>1235.000000</td>\n",
              "      <td>1235.000000</td>\n",
              "      <td>1235.000000</td>\n",
              "      <td>1235.000000</td>\n",
              "      <td>1235.000000</td>\n",
              "      <td>1.235000e+03</td>\n",
              "      <td>1235.000000</td>\n",
              "    </tr>\n",
              "    <tr>\n",
              "      <th>mean</th>\n",
              "      <td>16.946024</td>\n",
              "      <td>16.417725</td>\n",
              "      <td>16.693765</td>\n",
              "      <td>16.669887</td>\n",
              "      <td>5.410856e+07</td>\n",
              "      <td>14.364827</td>\n",
              "      <td>71258.726316</td>\n",
              "      <td>69996.229960</td>\n",
              "      <td>70605.106883</td>\n",
              "      <td>70656.285020</td>\n",
              "      <td>3.794215e+06</td>\n",
              "      <td>70656.285020</td>\n",
              "    </tr>\n",
              "    <tr>\n",
              "      <th>std</th>\n",
              "      <td>7.135614</td>\n",
              "      <td>7.025846</td>\n",
              "      <td>7.087856</td>\n",
              "      <td>7.081970</td>\n",
              "      <td>2.619016e+07</td>\n",
              "      <td>6.371996</td>\n",
              "      <td>19634.810008</td>\n",
              "      <td>19447.130086</td>\n",
              "      <td>19532.433000</td>\n",
              "      <td>19564.626768</td>\n",
              "      <td>1.203582e+06</td>\n",
              "      <td>19564.626768</td>\n",
              "    </tr>\n",
              "    <tr>\n",
              "      <th>min</th>\n",
              "      <td>4.270000</td>\n",
              "      <td>4.120000</td>\n",
              "      <td>4.200000</td>\n",
              "      <td>4.200000</td>\n",
              "      <td>0.000000e+00</td>\n",
              "      <td>3.557596</td>\n",
              "      <td>38031.000000</td>\n",
              "      <td>37046.000000</td>\n",
              "      <td>37501.000000</td>\n",
              "      <td>37497.000000</td>\n",
              "      <td>0.000000e+00</td>\n",
              "      <td>37497.000000</td>\n",
              "    </tr>\n",
              "    <tr>\n",
              "      <th>25%</th>\n",
              "      <td>11.150000</td>\n",
              "      <td>10.630000</td>\n",
              "      <td>10.910000</td>\n",
              "      <td>10.855000</td>\n",
              "      <td>3.727595e+07</td>\n",
              "      <td>9.194690</td>\n",
              "      <td>53498.500000</td>\n",
              "      <td>52677.000000</td>\n",
              "      <td>53087.500000</td>\n",
              "      <td>53094.500000</td>\n",
              "      <td>3.078600e+06</td>\n",
              "      <td>53094.500000</td>\n",
              "    </tr>\n",
              "    <tr>\n",
              "      <th>50%</th>\n",
              "      <td>15.520000</td>\n",
              "      <td>15.060000</td>\n",
              "      <td>15.300000</td>\n",
              "      <td>15.310000</td>\n",
              "      <td>4.868110e+07</td>\n",
              "      <td>12.968283</td>\n",
              "      <td>66758.000000</td>\n",
              "      <td>65842.000000</td>\n",
              "      <td>66195.000000</td>\n",
              "      <td>66235.000000</td>\n",
              "      <td>3.658900e+06</td>\n",
              "      <td>66235.000000</td>\n",
              "    </tr>\n",
              "    <tr>\n",
              "      <th>75%</th>\n",
              "      <td>23.160000</td>\n",
              "      <td>22.575000</td>\n",
              "      <td>22.810000</td>\n",
              "      <td>22.890000</td>\n",
              "      <td>6.523980e+07</td>\n",
              "      <td>19.496764</td>\n",
              "      <td>86157.000000</td>\n",
              "      <td>84582.500000</td>\n",
              "      <td>85515.000000</td>\n",
              "      <td>85539.000000</td>\n",
              "      <td>4.389100e+06</td>\n",
              "      <td>85539.000000</td>\n",
              "    </tr>\n",
              "    <tr>\n",
              "      <th>max</th>\n",
              "      <td>31.230000</td>\n",
              "      <td>30.500000</td>\n",
              "      <td>30.889999</td>\n",
              "      <td>30.969999</td>\n",
              "      <td>2.403438e+08</td>\n",
              "      <td>27.889343</td>\n",
              "      <td>117803.000000</td>\n",
              "      <td>115995.000000</td>\n",
              "      <td>117205.000000</td>\n",
              "      <td>117203.000000</td>\n",
              "      <td>1.104670e+07</td>\n",
              "      <td>117203.000000</td>\n",
              "    </tr>\n",
              "  </tbody>\n",
              "</table>\n",
              "</div>"
            ]
          },
          "metadata": {},
          "execution_count": 8
        }
      ],
      "metadata": {
        "colab": {
          "base_uri": "https://localhost:8080/",
          "height": 338
        },
        "id": "n8LZIcI-QKBh",
        "outputId": "01288265-2104-4026-be9d-3d53283db9cf"
      }
    },
    {
      "cell_type": "code",
      "execution_count": 9,
      "source": [
        "#data = df.filter([\"Close\", \"Volume\", \"Close_bovespa\", \"Volume_bovespa\"])\r\n",
        "data = df.filter([\"Close\"])\r\n",
        "dataset = data.values\r\n",
        "training_data_len = math.ceil(len(dataset) * .7)\r\n",
        "training_data_len\r\n",
        "dataset.shape"
      ],
      "outputs": [
        {
          "output_type": "execute_result",
          "data": {
            "text/plain": [
              "(1235, 1)"
            ]
          },
          "metadata": {},
          "execution_count": 9
        }
      ],
      "metadata": {
        "colab": {
          "base_uri": "https://localhost:8080/"
        },
        "id": "0zLbypzWtzci",
        "outputId": "73b04d20-c980-4d55-cf5c-412eb923c8c4"
      }
    },
    {
      "cell_type": "code",
      "execution_count": 10,
      "source": [
        "sc = MinMaxScaler(feature_range = (0, 1))\r\n",
        "scaled_data = sc.fit_transform(dataset)"
      ],
      "outputs": [],
      "metadata": {
        "id": "TAqmEmtyuB16"
      }
    },
    {
      "cell_type": "code",
      "execution_count": 11,
      "source": [
        "scaled_data"
      ],
      "outputs": [
        {
          "output_type": "execute_result",
          "data": {
            "text/plain": [
              "array([[0.19275308],\n",
              "       [0.16286891],\n",
              "       [0.15240941],\n",
              "       ...,\n",
              "       [0.99775871],\n",
              "       [0.98319018],\n",
              "       [0.97048939]])"
            ]
          },
          "metadata": {},
          "execution_count": 11
        }
      ],
      "metadata": {
        "colab": {
          "base_uri": "https://localhost:8080/"
        },
        "id": "1xCbxaHWuJFU",
        "outputId": "b403b055-16d9-4cf5-df3c-2d7a17e579ab"
      }
    },
    {
      "cell_type": "code",
      "execution_count": 12,
      "source": [
        "train_data = scaled_data[0:training_data_len,:]\r\n",
        "# print(train_data)\r\n",
        "window = 60\r\n",
        "X_train = []\r\n",
        "y_train = []\r\n",
        "for i in range(window, len(train_data)):\r\n",
        "    X_train.append(train_data[i-window:i,:])\r\n",
        "    y_train.append(train_data[i, 0:1])\r\n",
        "    # if i <= (window + 1):\r\n",
        "    #   print(X_train)\r\n",
        "    #   print(y_train)\r\n",
        "    #   print()\r\n",
        "X_train, y_train = np.array(X_train), np.array(y_train)"
      ],
      "outputs": [],
      "metadata": {
        "id": "dv_rZkU1uqlc"
      }
    },
    {
      "cell_type": "code",
      "execution_count": 13,
      "source": [
        "X_train.shape"
      ],
      "outputs": [
        {
          "output_type": "execute_result",
          "data": {
            "text/plain": [
              "(805, 60, 1)"
            ]
          },
          "metadata": {},
          "execution_count": 13
        }
      ],
      "metadata": {
        "colab": {
          "base_uri": "https://localhost:8080/"
        },
        "id": "AqkMLK-4uxzK",
        "outputId": "4cf68abf-5589-4057-9bf5-8e49efc91cce"
      }
    },
    {
      "cell_type": "code",
      "execution_count": 14,
      "source": [
        "X_train = np.reshape(X_train, (X_train.shape[0], X_train.shape[1], -1))"
      ],
      "outputs": [],
      "metadata": {
        "id": "jJ0aXnzAuy1C"
      }
    },
    {
      "cell_type": "code",
      "execution_count": 15,
      "source": [
        "X_train.shape"
      ],
      "outputs": [
        {
          "output_type": "execute_result",
          "data": {
            "text/plain": [
              "(805, 60, 1)"
            ]
          },
          "metadata": {},
          "execution_count": 15
        }
      ],
      "metadata": {
        "colab": {
          "base_uri": "https://localhost:8080/"
        },
        "id": "q03yzNLlu2on",
        "outputId": "d4d1d3cb-c876-4539-aee5-8b26dd6910bd"
      }
    },
    {
      "cell_type": "code",
      "execution_count": 16,
      "source": [
        "# Inicializar a RNN\r\n",
        "regressor = Sequential()\r\n",
        "\r\n",
        "# Adicionar a primeira camada LSTM e Dropout \r\n",
        "regressor.add(LSTM(units = 100, return_sequences = True, input_shape = (X_train.shape[1], X_train.shape[2])))\r\n",
        "regressor.add(Dropout(0.2))\r\n",
        " \r\n",
        "# Adicionar a segunda camada LSTM e Dropout\r\n",
        "regressor.add(LSTM(units = 80, return_sequences = True))\r\n",
        "regressor.add(Dropout(0.2))\r\n",
        " \r\n",
        "# Adicionar a terceira camada LSTM e Dropout\r\n",
        "regressor.add(LSTM(units = 50))\r\n",
        "regressor.add(Dropout(0.2))\r\n",
        " \r\n",
        "# camada de saída\r\n",
        "regressor.add(Dense(units = 1))\r\n",
        " \r\n",
        "# Compilar a rede\r\n",
        "regressor.compile(optimizer = 'adam', loss = 'mean_squared_error')\r\n",
        "\r\n",
        "# Visualizar a rede\r\n",
        "regressor.summary()"
      ],
      "outputs": [
        {
          "output_type": "stream",
          "name": "stdout",
          "text": [
            "Model: \"sequential\"\n",
            "_________________________________________________________________\n",
            "Layer (type)                 Output Shape              Param #   \n",
            "=================================================================\n",
            "lstm (LSTM)                  (None, 60, 100)           40800     \n",
            "_________________________________________________________________\n",
            "dropout (Dropout)            (None, 60, 100)           0         \n",
            "_________________________________________________________________\n",
            "lstm_1 (LSTM)                (None, 60, 80)            57920     \n",
            "_________________________________________________________________\n",
            "dropout_1 (Dropout)          (None, 60, 80)            0         \n",
            "_________________________________________________________________\n",
            "lstm_2 (LSTM)                (None, 50)                26200     \n",
            "_________________________________________________________________\n",
            "dropout_2 (Dropout)          (None, 50)                0         \n",
            "_________________________________________________________________\n",
            "dense (Dense)                (None, 1)                 51        \n",
            "=================================================================\n",
            "Total params: 124,971\n",
            "Trainable params: 124,971\n",
            "Non-trainable params: 0\n",
            "_________________________________________________________________\n"
          ]
        }
      ],
      "metadata": {
        "colab": {
          "base_uri": "https://localhost:8080/"
        },
        "id": "RkUoLngeu6aj",
        "outputId": "37c71118-6fa9-4a1a-d670-b194825f9fc8"
      }
    },
    {
      "cell_type": "code",
      "execution_count": 17,
      "source": [
        "history = regressor.fit(X_train, y_train, epochs = 50, batch_size = 64)"
      ],
      "outputs": [
        {
          "output_type": "stream",
          "name": "stdout",
          "text": [
            "Epoch 1/50\n",
            "13/13 [==============================] - 3s 201ms/step - loss: 0.0408\n",
            "Epoch 2/50\n",
            "13/13 [==============================] - 2s 166ms/step - loss: 0.0095\n",
            "Epoch 3/50\n",
            "13/13 [==============================] - 2s 166ms/step - loss: 0.0059\n",
            "Epoch 4/50\n",
            "13/13 [==============================] - 2s 161ms/step - loss: 0.0039\n",
            "Epoch 5/50\n",
            "13/13 [==============================] - 2s 173ms/step - loss: 0.0038\n",
            "Epoch 6/50\n",
            "13/13 [==============================] - 2s 178ms/step - loss: 0.0042\n",
            "Epoch 7/50\n",
            "13/13 [==============================] - 2s 180ms/step - loss: 0.0037\n",
            "Epoch 8/50\n",
            "13/13 [==============================] - 2s 167ms/step - loss: 0.0034\n",
            "Epoch 9/50\n",
            "13/13 [==============================] - 2s 154ms/step - loss: 0.0029\n",
            "Epoch 10/50\n",
            "13/13 [==============================] - 2s 154ms/step - loss: 0.0031\n",
            "Epoch 11/50\n",
            "13/13 [==============================] - 2s 160ms/step - loss: 0.0027\n",
            "Epoch 12/50\n",
            "13/13 [==============================] - 2s 166ms/step - loss: 0.0028\n",
            "Epoch 13/50\n",
            "13/13 [==============================] - 2s 168ms/step - loss: 0.0033\n",
            "Epoch 14/50\n",
            "13/13 [==============================] - 2s 152ms/step - loss: 0.0029\n",
            "Epoch 15/50\n",
            "13/13 [==============================] - 2s 156ms/step - loss: 0.0034\n",
            "Epoch 16/50\n",
            "13/13 [==============================] - 2s 160ms/step - loss: 0.0027\n",
            "Epoch 17/50\n",
            "13/13 [==============================] - 2s 164ms/step - loss: 0.0026\n",
            "Epoch 18/50\n",
            "13/13 [==============================] - 2s 151ms/step - loss: 0.0028\n",
            "Epoch 19/50\n",
            "13/13 [==============================] - 2s 146ms/step - loss: 0.0027\n",
            "Epoch 20/50\n",
            "13/13 [==============================] - 2s 144ms/step - loss: 0.0025\n",
            "Epoch 21/50\n",
            "13/13 [==============================] - 2s 143ms/step - loss: 0.0024\n",
            "Epoch 22/50\n",
            "13/13 [==============================] - 2s 146ms/step - loss: 0.0026\n",
            "Epoch 23/50\n",
            "13/13 [==============================] - 2s 141ms/step - loss: 0.0022\n",
            "Epoch 24/50\n",
            "13/13 [==============================] - 2s 144ms/step - loss: 0.0027\n",
            "Epoch 25/50\n",
            "13/13 [==============================] - 2s 144ms/step - loss: 0.0022\n",
            "Epoch 26/50\n",
            "13/13 [==============================] - 2s 144ms/step - loss: 0.0020\n",
            "Epoch 27/50\n",
            "13/13 [==============================] - 2s 144ms/step - loss: 0.0021\n",
            "Epoch 28/50\n",
            "13/13 [==============================] - 2s 146ms/step - loss: 0.0024\n",
            "Epoch 29/50\n",
            "13/13 [==============================] - 2s 148ms/step - loss: 0.0024\n",
            "Epoch 30/50\n",
            "13/13 [==============================] - 2s 147ms/step - loss: 0.0018\n",
            "Epoch 31/50\n",
            "13/13 [==============================] - 2s 145ms/step - loss: 0.0021\n",
            "Epoch 32/50\n",
            "13/13 [==============================] - 2s 144ms/step - loss: 0.0019\n",
            "Epoch 33/50\n",
            "13/13 [==============================] - 2s 147ms/step - loss: 0.0019\n",
            "Epoch 34/50\n",
            "13/13 [==============================] - 2s 148ms/step - loss: 0.0018\n",
            "Epoch 35/50\n",
            "13/13 [==============================] - 2s 146ms/step - loss: 0.0021\n",
            "Epoch 36/50\n",
            "13/13 [==============================] - 2s 145ms/step - loss: 0.0019\n",
            "Epoch 37/50\n",
            "13/13 [==============================] - 2s 147ms/step - loss: 0.0018\n",
            "Epoch 38/50\n",
            "13/13 [==============================] - 2s 174ms/step - loss: 0.0017\n",
            "Epoch 39/50\n",
            "13/13 [==============================] - 2s 161ms/step - loss: 0.0018\n",
            "Epoch 40/50\n",
            "13/13 [==============================] - 2s 153ms/step - loss: 0.0020\n",
            "Epoch 41/50\n",
            "13/13 [==============================] - 2s 147ms/step - loss: 0.0016\n",
            "Epoch 42/50\n",
            "13/13 [==============================] - 2s 140ms/step - loss: 0.0016\n",
            "Epoch 43/50\n",
            "13/13 [==============================] - 2s 139ms/step - loss: 0.0017\n",
            "Epoch 44/50\n",
            "13/13 [==============================] - 2s 145ms/step - loss: 0.0016\n",
            "Epoch 45/50\n",
            "13/13 [==============================] - 2s 145ms/step - loss: 0.0016\n",
            "Epoch 46/50\n",
            "13/13 [==============================] - 2s 150ms/step - loss: 0.0015\n",
            "Epoch 47/50\n",
            "13/13 [==============================] - 2s 146ms/step - loss: 0.0018\n",
            "Epoch 48/50\n",
            "13/13 [==============================] - 2s 145ms/step - loss: 0.0016\n",
            "Epoch 49/50\n",
            "13/13 [==============================] - 2s 146ms/step - loss: 0.0016\n",
            "Epoch 50/50\n",
            "13/13 [==============================] - 2s 141ms/step - loss: 0.0015\n"
          ]
        }
      ],
      "metadata": {
        "colab": {
          "base_uri": "https://localhost:8080/"
        },
        "id": "90uaYsDwu9FU",
        "outputId": "c457caad-350b-44ca-a84f-8224a818c20f"
      }
    },
    {
      "cell_type": "code",
      "execution_count": 18,
      "source": [
        "plt.plot(history.history['loss'], label='treino')\r\n",
        "plt.legend()"
      ],
      "outputs": [
        {
          "output_type": "execute_result",
          "data": {
            "text/plain": [
              "<matplotlib.legend.Legend at 0x151ffc9efd0>"
            ]
          },
          "metadata": {},
          "execution_count": 18
        },
        {
          "output_type": "display_data",
          "data": {
            "text/plain": [
              "<Figure size 432x288 with 1 Axes>"
            ],
            "image/svg+xml": "<?xml version=\"1.0\" encoding=\"utf-8\" standalone=\"no\"?>\r\n<!DOCTYPE svg PUBLIC \"-//W3C//DTD SVG 1.1//EN\"\r\n  \"http://www.w3.org/Graphics/SVG/1.1/DTD/svg11.dtd\">\r\n<svg height=\"248.518125pt\" version=\"1.1\" viewBox=\"0 0 384.828125 248.518125\" width=\"384.828125pt\" xmlns=\"http://www.w3.org/2000/svg\" xmlns:xlink=\"http://www.w3.org/1999/xlink\">\r\n <metadata>\r\n  <rdf:RDF xmlns:cc=\"http://creativecommons.org/ns#\" xmlns:dc=\"http://purl.org/dc/elements/1.1/\" xmlns:rdf=\"http://www.w3.org/1999/02/22-rdf-syntax-ns#\">\r\n   <cc:Work>\r\n    <dc:type rdf:resource=\"http://purl.org/dc/dcmitype/StillImage\"/>\r\n    <dc:date>2021-08-18T19:34:24.722835</dc:date>\r\n    <dc:format>image/svg+xml</dc:format>\r\n    <dc:creator>\r\n     <cc:Agent>\r\n      <dc:title>Matplotlib v3.4.2, https://matplotlib.org/</dc:title>\r\n     </cc:Agent>\r\n    </dc:creator>\r\n   </cc:Work>\r\n  </rdf:RDF>\r\n </metadata>\r\n <defs>\r\n  <style type=\"text/css\">*{stroke-linecap:butt;stroke-linejoin:round;}</style>\r\n </defs>\r\n <g id=\"figure_1\">\r\n  <g id=\"patch_1\">\r\n   <path d=\"M 0 248.518125 \r\nL 384.828125 248.518125 \r\nL 384.828125 0 \r\nL 0 0 \r\nz\r\n\" style=\"fill:none;\"/>\r\n  </g>\r\n  <g id=\"axes_1\">\r\n   <g id=\"patch_2\">\r\n    <path d=\"M 42.828125 224.64 \r\nL 377.628125 224.64 \r\nL 377.628125 7.2 \r\nL 42.828125 7.2 \r\nz\r\n\" style=\"fill:#ffffff;\"/>\r\n   </g>\r\n   <g id=\"matplotlib.axis_1\">\r\n    <g id=\"xtick_1\">\r\n     <g id=\"line2d_1\">\r\n      <defs>\r\n       <path d=\"M 0 0 \r\nL 0 3.5 \r\n\" id=\"mee3042a1ff\" style=\"stroke:#000000;stroke-width:0.8;\"/>\r\n      </defs>\r\n      <g>\r\n       <use style=\"stroke:#000000;stroke-width:0.8;\" x=\"58.046307\" xlink:href=\"#mee3042a1ff\" y=\"224.64\"/>\r\n      </g>\r\n     </g>\r\n     <g id=\"text_1\">\r\n      <!-- 0 -->\r\n      <g transform=\"translate(54.865057 239.238438)scale(0.1 -0.1)\">\r\n       <defs>\r\n        <path d=\"M 2034 4250 \r\nQ 1547 4250 1301 3770 \r\nQ 1056 3291 1056 2328 \r\nQ 1056 1369 1301 889 \r\nQ 1547 409 2034 409 \r\nQ 2525 409 2770 889 \r\nQ 3016 1369 3016 2328 \r\nQ 3016 3291 2770 3770 \r\nQ 2525 4250 2034 4250 \r\nz\r\nM 2034 4750 \r\nQ 2819 4750 3233 4129 \r\nQ 3647 3509 3647 2328 \r\nQ 3647 1150 3233 529 \r\nQ 2819 -91 2034 -91 \r\nQ 1250 -91 836 529 \r\nQ 422 1150 422 2328 \r\nQ 422 3509 836 4129 \r\nQ 1250 4750 2034 4750 \r\nz\r\n\" id=\"DejaVuSans-30\" transform=\"scale(0.015625)\"/>\r\n       </defs>\r\n       <use xlink:href=\"#DejaVuSans-30\"/>\r\n      </g>\r\n     </g>\r\n    </g>\r\n    <g id=\"xtick_2\">\r\n     <g id=\"line2d_2\">\r\n      <g>\r\n       <use style=\"stroke:#000000;stroke-width:0.8;\" x=\"120.161335\" xlink:href=\"#mee3042a1ff\" y=\"224.64\"/>\r\n      </g>\r\n     </g>\r\n     <g id=\"text_2\">\r\n      <!-- 10 -->\r\n      <g transform=\"translate(113.798835 239.238438)scale(0.1 -0.1)\">\r\n       <defs>\r\n        <path d=\"M 794 531 \r\nL 1825 531 \r\nL 1825 4091 \r\nL 703 3866 \r\nL 703 4441 \r\nL 1819 4666 \r\nL 2450 4666 \r\nL 2450 531 \r\nL 3481 531 \r\nL 3481 0 \r\nL 794 0 \r\nL 794 531 \r\nz\r\n\" id=\"DejaVuSans-31\" transform=\"scale(0.015625)\"/>\r\n       </defs>\r\n       <use xlink:href=\"#DejaVuSans-31\"/>\r\n       <use x=\"63.623047\" xlink:href=\"#DejaVuSans-30\"/>\r\n      </g>\r\n     </g>\r\n    </g>\r\n    <g id=\"xtick_3\">\r\n     <g id=\"line2d_3\">\r\n      <g>\r\n       <use style=\"stroke:#000000;stroke-width:0.8;\" x=\"182.276362\" xlink:href=\"#mee3042a1ff\" y=\"224.64\"/>\r\n      </g>\r\n     </g>\r\n     <g id=\"text_3\">\r\n      <!-- 20 -->\r\n      <g transform=\"translate(175.913862 239.238438)scale(0.1 -0.1)\">\r\n       <defs>\r\n        <path d=\"M 1228 531 \r\nL 3431 531 \r\nL 3431 0 \r\nL 469 0 \r\nL 469 531 \r\nQ 828 903 1448 1529 \r\nQ 2069 2156 2228 2338 \r\nQ 2531 2678 2651 2914 \r\nQ 2772 3150 2772 3378 \r\nQ 2772 3750 2511 3984 \r\nQ 2250 4219 1831 4219 \r\nQ 1534 4219 1204 4116 \r\nQ 875 4013 500 3803 \r\nL 500 4441 \r\nQ 881 4594 1212 4672 \r\nQ 1544 4750 1819 4750 \r\nQ 2544 4750 2975 4387 \r\nQ 3406 4025 3406 3419 \r\nQ 3406 3131 3298 2873 \r\nQ 3191 2616 2906 2266 \r\nQ 2828 2175 2409 1742 \r\nQ 1991 1309 1228 531 \r\nz\r\n\" id=\"DejaVuSans-32\" transform=\"scale(0.015625)\"/>\r\n       </defs>\r\n       <use xlink:href=\"#DejaVuSans-32\"/>\r\n       <use x=\"63.623047\" xlink:href=\"#DejaVuSans-30\"/>\r\n      </g>\r\n     </g>\r\n    </g>\r\n    <g id=\"xtick_4\">\r\n     <g id=\"line2d_4\">\r\n      <g>\r\n       <use style=\"stroke:#000000;stroke-width:0.8;\" x=\"244.39139\" xlink:href=\"#mee3042a1ff\" y=\"224.64\"/>\r\n      </g>\r\n     </g>\r\n     <g id=\"text_4\">\r\n      <!-- 30 -->\r\n      <g transform=\"translate(238.02889 239.238438)scale(0.1 -0.1)\">\r\n       <defs>\r\n        <path d=\"M 2597 2516 \r\nQ 3050 2419 3304 2112 \r\nQ 3559 1806 3559 1356 \r\nQ 3559 666 3084 287 \r\nQ 2609 -91 1734 -91 \r\nQ 1441 -91 1130 -33 \r\nQ 819 25 488 141 \r\nL 488 750 \r\nQ 750 597 1062 519 \r\nQ 1375 441 1716 441 \r\nQ 2309 441 2620 675 \r\nQ 2931 909 2931 1356 \r\nQ 2931 1769 2642 2001 \r\nQ 2353 2234 1838 2234 \r\nL 1294 2234 \r\nL 1294 2753 \r\nL 1863 2753 \r\nQ 2328 2753 2575 2939 \r\nQ 2822 3125 2822 3475 \r\nQ 2822 3834 2567 4026 \r\nQ 2313 4219 1838 4219 \r\nQ 1578 4219 1281 4162 \r\nQ 984 4106 628 3988 \r\nL 628 4550 \r\nQ 988 4650 1302 4700 \r\nQ 1616 4750 1894 4750 \r\nQ 2613 4750 3031 4423 \r\nQ 3450 4097 3450 3541 \r\nQ 3450 3153 3228 2886 \r\nQ 3006 2619 2597 2516 \r\nz\r\n\" id=\"DejaVuSans-33\" transform=\"scale(0.015625)\"/>\r\n       </defs>\r\n       <use xlink:href=\"#DejaVuSans-33\"/>\r\n       <use x=\"63.623047\" xlink:href=\"#DejaVuSans-30\"/>\r\n      </g>\r\n     </g>\r\n    </g>\r\n    <g id=\"xtick_5\">\r\n     <g id=\"line2d_5\">\r\n      <g>\r\n       <use style=\"stroke:#000000;stroke-width:0.8;\" x=\"306.506418\" xlink:href=\"#mee3042a1ff\" y=\"224.64\"/>\r\n      </g>\r\n     </g>\r\n     <g id=\"text_5\">\r\n      <!-- 40 -->\r\n      <g transform=\"translate(300.143918 239.238438)scale(0.1 -0.1)\">\r\n       <defs>\r\n        <path d=\"M 2419 4116 \r\nL 825 1625 \r\nL 2419 1625 \r\nL 2419 4116 \r\nz\r\nM 2253 4666 \r\nL 3047 4666 \r\nL 3047 1625 \r\nL 3713 1625 \r\nL 3713 1100 \r\nL 3047 1100 \r\nL 3047 0 \r\nL 2419 0 \r\nL 2419 1100 \r\nL 313 1100 \r\nL 313 1709 \r\nL 2253 4666 \r\nz\r\n\" id=\"DejaVuSans-34\" transform=\"scale(0.015625)\"/>\r\n       </defs>\r\n       <use xlink:href=\"#DejaVuSans-34\"/>\r\n       <use x=\"63.623047\" xlink:href=\"#DejaVuSans-30\"/>\r\n      </g>\r\n     </g>\r\n    </g>\r\n    <g id=\"xtick_6\">\r\n     <g id=\"line2d_6\">\r\n      <g>\r\n       <use style=\"stroke:#000000;stroke-width:0.8;\" x=\"368.621446\" xlink:href=\"#mee3042a1ff\" y=\"224.64\"/>\r\n      </g>\r\n     </g>\r\n     <g id=\"text_6\">\r\n      <!-- 50 -->\r\n      <g transform=\"translate(362.258946 239.238438)scale(0.1 -0.1)\">\r\n       <defs>\r\n        <path d=\"M 691 4666 \r\nL 3169 4666 \r\nL 3169 4134 \r\nL 1269 4134 \r\nL 1269 2991 \r\nQ 1406 3038 1543 3061 \r\nQ 1681 3084 1819 3084 \r\nQ 2600 3084 3056 2656 \r\nQ 3513 2228 3513 1497 \r\nQ 3513 744 3044 326 \r\nQ 2575 -91 1722 -91 \r\nQ 1428 -91 1123 -41 \r\nQ 819 9 494 109 \r\nL 494 744 \r\nQ 775 591 1075 516 \r\nQ 1375 441 1709 441 \r\nQ 2250 441 2565 725 \r\nQ 2881 1009 2881 1497 \r\nQ 2881 1984 2565 2268 \r\nQ 2250 2553 1709 2553 \r\nQ 1456 2553 1204 2497 \r\nQ 953 2441 691 2322 \r\nL 691 4666 \r\nz\r\n\" id=\"DejaVuSans-35\" transform=\"scale(0.015625)\"/>\r\n       </defs>\r\n       <use xlink:href=\"#DejaVuSans-35\"/>\r\n       <use x=\"63.623047\" xlink:href=\"#DejaVuSans-30\"/>\r\n      </g>\r\n     </g>\r\n    </g>\r\n   </g>\r\n   <g id=\"matplotlib.axis_2\">\r\n    <g id=\"ytick_1\">\r\n     <g id=\"line2d_7\">\r\n      <defs>\r\n       <path d=\"M 0 0 \r\nL -3.5 0 \r\n\" id=\"mff68e22a74\" style=\"stroke:#000000;stroke-width:0.8;\"/>\r\n      </defs>\r\n      <g>\r\n       <use style=\"stroke:#000000;stroke-width:0.8;\" x=\"42.828125\" xlink:href=\"#mff68e22a74\" y=\"222.167646\"/>\r\n      </g>\r\n     </g>\r\n     <g id=\"text_7\">\r\n      <!-- 0.000 -->\r\n      <g transform=\"translate(7.2 225.966865)scale(0.1 -0.1)\">\r\n       <defs>\r\n        <path d=\"M 684 794 \r\nL 1344 794 \r\nL 1344 0 \r\nL 684 0 \r\nL 684 794 \r\nz\r\n\" id=\"DejaVuSans-2e\" transform=\"scale(0.015625)\"/>\r\n       </defs>\r\n       <use xlink:href=\"#DejaVuSans-30\"/>\r\n       <use x=\"63.623047\" xlink:href=\"#DejaVuSans-2e\"/>\r\n       <use x=\"95.410156\" xlink:href=\"#DejaVuSans-30\"/>\r\n       <use x=\"159.033203\" xlink:href=\"#DejaVuSans-30\"/>\r\n       <use x=\"222.65625\" xlink:href=\"#DejaVuSans-30\"/>\r\n      </g>\r\n     </g>\r\n    </g>\r\n    <g id=\"ytick_2\">\r\n     <g id=\"line2d_8\">\r\n      <g>\r\n       <use style=\"stroke:#000000;stroke-width:0.8;\" x=\"42.828125\" xlink:href=\"#mff68e22a74\" y=\"197.032475\"/>\r\n      </g>\r\n     </g>\r\n     <g id=\"text_8\">\r\n      <!-- 0.005 -->\r\n      <g transform=\"translate(7.2 200.831694)scale(0.1 -0.1)\">\r\n       <use xlink:href=\"#DejaVuSans-30\"/>\r\n       <use x=\"63.623047\" xlink:href=\"#DejaVuSans-2e\"/>\r\n       <use x=\"95.410156\" xlink:href=\"#DejaVuSans-30\"/>\r\n       <use x=\"159.033203\" xlink:href=\"#DejaVuSans-30\"/>\r\n       <use x=\"222.65625\" xlink:href=\"#DejaVuSans-35\"/>\r\n      </g>\r\n     </g>\r\n    </g>\r\n    <g id=\"ytick_3\">\r\n     <g id=\"line2d_9\">\r\n      <g>\r\n       <use style=\"stroke:#000000;stroke-width:0.8;\" x=\"42.828125\" xlink:href=\"#mff68e22a74\" y=\"171.897305\"/>\r\n      </g>\r\n     </g>\r\n     <g id=\"text_9\">\r\n      <!-- 0.010 -->\r\n      <g transform=\"translate(7.2 175.696524)scale(0.1 -0.1)\">\r\n       <use xlink:href=\"#DejaVuSans-30\"/>\r\n       <use x=\"63.623047\" xlink:href=\"#DejaVuSans-2e\"/>\r\n       <use x=\"95.410156\" xlink:href=\"#DejaVuSans-30\"/>\r\n       <use x=\"159.033203\" xlink:href=\"#DejaVuSans-31\"/>\r\n       <use x=\"222.65625\" xlink:href=\"#DejaVuSans-30\"/>\r\n      </g>\r\n     </g>\r\n    </g>\r\n    <g id=\"ytick_4\">\r\n     <g id=\"line2d_10\">\r\n      <g>\r\n       <use style=\"stroke:#000000;stroke-width:0.8;\" x=\"42.828125\" xlink:href=\"#mff68e22a74\" y=\"146.762134\"/>\r\n      </g>\r\n     </g>\r\n     <g id=\"text_10\">\r\n      <!-- 0.015 -->\r\n      <g transform=\"translate(7.2 150.561353)scale(0.1 -0.1)\">\r\n       <use xlink:href=\"#DejaVuSans-30\"/>\r\n       <use x=\"63.623047\" xlink:href=\"#DejaVuSans-2e\"/>\r\n       <use x=\"95.410156\" xlink:href=\"#DejaVuSans-30\"/>\r\n       <use x=\"159.033203\" xlink:href=\"#DejaVuSans-31\"/>\r\n       <use x=\"222.65625\" xlink:href=\"#DejaVuSans-35\"/>\r\n      </g>\r\n     </g>\r\n    </g>\r\n    <g id=\"ytick_5\">\r\n     <g id=\"line2d_11\">\r\n      <g>\r\n       <use style=\"stroke:#000000;stroke-width:0.8;\" x=\"42.828125\" xlink:href=\"#mff68e22a74\" y=\"121.626964\"/>\r\n      </g>\r\n     </g>\r\n     <g id=\"text_11\">\r\n      <!-- 0.020 -->\r\n      <g transform=\"translate(7.2 125.426183)scale(0.1 -0.1)\">\r\n       <use xlink:href=\"#DejaVuSans-30\"/>\r\n       <use x=\"63.623047\" xlink:href=\"#DejaVuSans-2e\"/>\r\n       <use x=\"95.410156\" xlink:href=\"#DejaVuSans-30\"/>\r\n       <use x=\"159.033203\" xlink:href=\"#DejaVuSans-32\"/>\r\n       <use x=\"222.65625\" xlink:href=\"#DejaVuSans-30\"/>\r\n      </g>\r\n     </g>\r\n    </g>\r\n    <g id=\"ytick_6\">\r\n     <g id=\"line2d_12\">\r\n      <g>\r\n       <use style=\"stroke:#000000;stroke-width:0.8;\" x=\"42.828125\" xlink:href=\"#mff68e22a74\" y=\"96.491793\"/>\r\n      </g>\r\n     </g>\r\n     <g id=\"text_12\">\r\n      <!-- 0.025 -->\r\n      <g transform=\"translate(7.2 100.291012)scale(0.1 -0.1)\">\r\n       <use xlink:href=\"#DejaVuSans-30\"/>\r\n       <use x=\"63.623047\" xlink:href=\"#DejaVuSans-2e\"/>\r\n       <use x=\"95.410156\" xlink:href=\"#DejaVuSans-30\"/>\r\n       <use x=\"159.033203\" xlink:href=\"#DejaVuSans-32\"/>\r\n       <use x=\"222.65625\" xlink:href=\"#DejaVuSans-35\"/>\r\n      </g>\r\n     </g>\r\n    </g>\r\n    <g id=\"ytick_7\">\r\n     <g id=\"line2d_13\">\r\n      <g>\r\n       <use style=\"stroke:#000000;stroke-width:0.8;\" x=\"42.828125\" xlink:href=\"#mff68e22a74\" y=\"71.356623\"/>\r\n      </g>\r\n     </g>\r\n     <g id=\"text_13\">\r\n      <!-- 0.030 -->\r\n      <g transform=\"translate(7.2 75.155842)scale(0.1 -0.1)\">\r\n       <use xlink:href=\"#DejaVuSans-30\"/>\r\n       <use x=\"63.623047\" xlink:href=\"#DejaVuSans-2e\"/>\r\n       <use x=\"95.410156\" xlink:href=\"#DejaVuSans-30\"/>\r\n       <use x=\"159.033203\" xlink:href=\"#DejaVuSans-33\"/>\r\n       <use x=\"222.65625\" xlink:href=\"#DejaVuSans-30\"/>\r\n      </g>\r\n     </g>\r\n    </g>\r\n    <g id=\"ytick_8\">\r\n     <g id=\"line2d_14\">\r\n      <g>\r\n       <use style=\"stroke:#000000;stroke-width:0.8;\" x=\"42.828125\" xlink:href=\"#mff68e22a74\" y=\"46.221452\"/>\r\n      </g>\r\n     </g>\r\n     <g id=\"text_14\">\r\n      <!-- 0.035 -->\r\n      <g transform=\"translate(7.2 50.020671)scale(0.1 -0.1)\">\r\n       <use xlink:href=\"#DejaVuSans-30\"/>\r\n       <use x=\"63.623047\" xlink:href=\"#DejaVuSans-2e\"/>\r\n       <use x=\"95.410156\" xlink:href=\"#DejaVuSans-30\"/>\r\n       <use x=\"159.033203\" xlink:href=\"#DejaVuSans-33\"/>\r\n       <use x=\"222.65625\" xlink:href=\"#DejaVuSans-35\"/>\r\n      </g>\r\n     </g>\r\n    </g>\r\n    <g id=\"ytick_9\">\r\n     <g id=\"line2d_15\">\r\n      <g>\r\n       <use style=\"stroke:#000000;stroke-width:0.8;\" x=\"42.828125\" xlink:href=\"#mff68e22a74\" y=\"21.086282\"/>\r\n      </g>\r\n     </g>\r\n     <g id=\"text_15\">\r\n      <!-- 0.040 -->\r\n      <g transform=\"translate(7.2 24.8855)scale(0.1 -0.1)\">\r\n       <use xlink:href=\"#DejaVuSans-30\"/>\r\n       <use x=\"63.623047\" xlink:href=\"#DejaVuSans-2e\"/>\r\n       <use x=\"95.410156\" xlink:href=\"#DejaVuSans-30\"/>\r\n       <use x=\"159.033203\" xlink:href=\"#DejaVuSans-34\"/>\r\n       <use x=\"222.65625\" xlink:href=\"#DejaVuSans-30\"/>\r\n      </g>\r\n     </g>\r\n    </g>\r\n   </g>\r\n   <g id=\"line2d_16\">\r\n    <path clip-path=\"url(#p7458578d9d)\" d=\"M 58.046307 17.083636 \r\nL 64.25781 174.637141 \r\nL 70.469312 192.350629 \r\nL 76.680815 202.405657 \r\nL 82.892318 203.187031 \r\nL 89.103821 200.906344 \r\nL 95.315324 203.723444 \r\nL 101.526826 205.071254 \r\nL 107.738329 207.468771 \r\nL 113.949832 206.606997 \r\nL 120.161335 208.801973 \r\nL 126.372837 207.882969 \r\nL 132.58434 205.747388 \r\nL 138.795843 207.345671 \r\nL 145.007346 205.182003 \r\nL 151.218849 208.67559 \r\nL 157.430351 209.234005 \r\nL 163.641854 207.952137 \r\nL 169.853357 208.666951 \r\nL 176.06486 209.63006 \r\nL 182.276362 210.008751 \r\nL 188.487865 209.253589 \r\nL 194.699368 211.013149 \r\nL 200.910871 208.406166 \r\nL 207.122374 211.095767 \r\nL 213.333876 212.037978 \r\nL 219.545379 211.486924 \r\nL 225.756882 210.227696 \r\nL 231.968385 210.01811 \r\nL 238.179888 212.965553 \r\nL 244.39139 211.704079 \r\nL 250.602893 212.536588 \r\nL 256.814396 212.495432 \r\nL 263.025899 213.039591 \r\nL 269.237401 211.819106 \r\nL 275.448904 212.520617 \r\nL 281.660407 212.895226 \r\nL 287.87191 213.564437 \r\nL 294.083413 213.158191 \r\nL 300.294915 212.347218 \r\nL 306.506418 214.03808 \r\nL 312.717921 214.121765 \r\nL 318.929424 213.801592 \r\nL 325.140926 214.02978 \r\nL 331.352429 213.936451 \r\nL 337.563932 214.520996 \r\nL 343.775435 213.296875 \r\nL 349.986938 213.948589 \r\nL 356.19844 214.302066 \r\nL 362.409943 214.756364 \r\n\" style=\"fill:none;stroke:#1f77b4;stroke-linecap:square;stroke-width:1.5;\"/>\r\n   </g>\r\n   <g id=\"patch_3\">\r\n    <path d=\"M 42.828125 224.64 \r\nL 42.828125 7.2 \r\n\" style=\"fill:none;stroke:#000000;stroke-linecap:square;stroke-linejoin:miter;stroke-width:0.8;\"/>\r\n   </g>\r\n   <g id=\"patch_4\">\r\n    <path d=\"M 377.628125 224.64 \r\nL 377.628125 7.2 \r\n\" style=\"fill:none;stroke:#000000;stroke-linecap:square;stroke-linejoin:miter;stroke-width:0.8;\"/>\r\n   </g>\r\n   <g id=\"patch_5\">\r\n    <path d=\"M 42.828125 224.64 \r\nL 377.628125 224.64 \r\n\" style=\"fill:none;stroke:#000000;stroke-linecap:square;stroke-linejoin:miter;stroke-width:0.8;\"/>\r\n   </g>\r\n   <g id=\"patch_6\">\r\n    <path d=\"M 42.828125 7.2 \r\nL 377.628125 7.2 \r\n\" style=\"fill:none;stroke:#000000;stroke-linecap:square;stroke-linejoin:miter;stroke-width:0.8;\"/>\r\n   </g>\r\n   <g id=\"legend_1\">\r\n    <g id=\"patch_7\">\r\n     <path d=\"M 309.434375 29.878125 \r\nL 370.628125 29.878125 \r\nQ 372.628125 29.878125 372.628125 27.878125 \r\nL 372.628125 14.2 \r\nQ 372.628125 12.2 370.628125 12.2 \r\nL 309.434375 12.2 \r\nQ 307.434375 12.2 307.434375 14.2 \r\nL 307.434375 27.878125 \r\nQ 307.434375 29.878125 309.434375 29.878125 \r\nz\r\n\" style=\"fill:#ffffff;opacity:0.8;stroke:#cccccc;stroke-linejoin:miter;\"/>\r\n    </g>\r\n    <g id=\"line2d_17\">\r\n     <path d=\"M 311.434375 20.298437 \r\nL 331.434375 20.298437 \r\n\" style=\"fill:none;stroke:#1f77b4;stroke-linecap:square;stroke-width:1.5;\"/>\r\n    </g>\r\n    <g id=\"line2d_18\"/>\r\n    <g id=\"text_16\">\r\n     <!-- treino -->\r\n     <g transform=\"translate(339.434375 23.798437)scale(0.1 -0.1)\">\r\n      <defs>\r\n       <path d=\"M 1172 4494 \r\nL 1172 3500 \r\nL 2356 3500 \r\nL 2356 3053 \r\nL 1172 3053 \r\nL 1172 1153 \r\nQ 1172 725 1289 603 \r\nQ 1406 481 1766 481 \r\nL 2356 481 \r\nL 2356 0 \r\nL 1766 0 \r\nQ 1100 0 847 248 \r\nQ 594 497 594 1153 \r\nL 594 3053 \r\nL 172 3053 \r\nL 172 3500 \r\nL 594 3500 \r\nL 594 4494 \r\nL 1172 4494 \r\nz\r\n\" id=\"DejaVuSans-74\" transform=\"scale(0.015625)\"/>\r\n       <path d=\"M 2631 2963 \r\nQ 2534 3019 2420 3045 \r\nQ 2306 3072 2169 3072 \r\nQ 1681 3072 1420 2755 \r\nQ 1159 2438 1159 1844 \r\nL 1159 0 \r\nL 581 0 \r\nL 581 3500 \r\nL 1159 3500 \r\nL 1159 2956 \r\nQ 1341 3275 1631 3429 \r\nQ 1922 3584 2338 3584 \r\nQ 2397 3584 2469 3576 \r\nQ 2541 3569 2628 3553 \r\nL 2631 2963 \r\nz\r\n\" id=\"DejaVuSans-72\" transform=\"scale(0.015625)\"/>\r\n       <path d=\"M 3597 1894 \r\nL 3597 1613 \r\nL 953 1613 \r\nQ 991 1019 1311 708 \r\nQ 1631 397 2203 397 \r\nQ 2534 397 2845 478 \r\nQ 3156 559 3463 722 \r\nL 3463 178 \r\nQ 3153 47 2828 -22 \r\nQ 2503 -91 2169 -91 \r\nQ 1331 -91 842 396 \r\nQ 353 884 353 1716 \r\nQ 353 2575 817 3079 \r\nQ 1281 3584 2069 3584 \r\nQ 2775 3584 3186 3129 \r\nQ 3597 2675 3597 1894 \r\nz\r\nM 3022 2063 \r\nQ 3016 2534 2758 2815 \r\nQ 2500 3097 2075 3097 \r\nQ 1594 3097 1305 2825 \r\nQ 1016 2553 972 2059 \r\nL 3022 2063 \r\nz\r\n\" id=\"DejaVuSans-65\" transform=\"scale(0.015625)\"/>\r\n       <path d=\"M 603 3500 \r\nL 1178 3500 \r\nL 1178 0 \r\nL 603 0 \r\nL 603 3500 \r\nz\r\nM 603 4863 \r\nL 1178 4863 \r\nL 1178 4134 \r\nL 603 4134 \r\nL 603 4863 \r\nz\r\n\" id=\"DejaVuSans-69\" transform=\"scale(0.015625)\"/>\r\n       <path d=\"M 3513 2113 \r\nL 3513 0 \r\nL 2938 0 \r\nL 2938 2094 \r\nQ 2938 2591 2744 2837 \r\nQ 2550 3084 2163 3084 \r\nQ 1697 3084 1428 2787 \r\nQ 1159 2491 1159 1978 \r\nL 1159 0 \r\nL 581 0 \r\nL 581 3500 \r\nL 1159 3500 \r\nL 1159 2956 \r\nQ 1366 3272 1645 3428 \r\nQ 1925 3584 2291 3584 \r\nQ 2894 3584 3203 3211 \r\nQ 3513 2838 3513 2113 \r\nz\r\n\" id=\"DejaVuSans-6e\" transform=\"scale(0.015625)\"/>\r\n       <path d=\"M 1959 3097 \r\nQ 1497 3097 1228 2736 \r\nQ 959 2375 959 1747 \r\nQ 959 1119 1226 758 \r\nQ 1494 397 1959 397 \r\nQ 2419 397 2687 759 \r\nQ 2956 1122 2956 1747 \r\nQ 2956 2369 2687 2733 \r\nQ 2419 3097 1959 3097 \r\nz\r\nM 1959 3584 \r\nQ 2709 3584 3137 3096 \r\nQ 3566 2609 3566 1747 \r\nQ 3566 888 3137 398 \r\nQ 2709 -91 1959 -91 \r\nQ 1206 -91 779 398 \r\nQ 353 888 353 1747 \r\nQ 353 2609 779 3096 \r\nQ 1206 3584 1959 3584 \r\nz\r\n\" id=\"DejaVuSans-6f\" transform=\"scale(0.015625)\"/>\r\n      </defs>\r\n      <use xlink:href=\"#DejaVuSans-74\"/>\r\n      <use x=\"39.208984\" xlink:href=\"#DejaVuSans-72\"/>\r\n      <use x=\"78.072266\" xlink:href=\"#DejaVuSans-65\"/>\r\n      <use x=\"139.595703\" xlink:href=\"#DejaVuSans-69\"/>\r\n      <use x=\"167.378906\" xlink:href=\"#DejaVuSans-6e\"/>\r\n      <use x=\"230.757812\" xlink:href=\"#DejaVuSans-6f\"/>\r\n     </g>\r\n    </g>\r\n   </g>\r\n  </g>\r\n </g>\r\n <defs>\r\n  <clipPath id=\"p7458578d9d\">\r\n   <rect height=\"217.44\" width=\"334.8\" x=\"42.828125\" y=\"7.2\"/>\r\n  </clipPath>\r\n </defs>\r\n</svg>\r\n",
            "image/png": "[encoded data removed]"
          },
          "metadata": {
            "needs_background": "light"
          }
        }
      ],
      "metadata": {
        "colab": {
          "base_uri": "https://localhost:8080/",
          "height": 265
        },
        "id": "amW1km16u_lf",
        "outputId": "d3deba25-c6cf-405f-8275-544a334004fb"
      }
    },
    {
      "cell_type": "code",
      "execution_count": 19,
      "source": [
        "test_data = scaled_data[training_data_len - window:, :]\r\n",
        "\r\n",
        "X_test = []\r\n",
        "y_test = dataset[training_data_len:, 0:1]\r\n",
        "\r\n",
        "for i in range(window, len(test_data)): \r\n",
        "    X_test.append(test_data[i-window:i,:])\r\n",
        "X_test = np.array(X_test)\r\n",
        "\r\n",
        "X_test = np.reshape(X_test, (X_test.shape[0], X_test.shape[1], -1))\r\n",
        "print(X_test.shape, X_train.shape)"
      ],
      "outputs": [
        {
          "output_type": "stream",
          "name": "stdout",
          "text": [
            "(370, 60, 1) (805, 60, 1)\n"
          ]
        }
      ],
      "metadata": {
        "colab": {
          "base_uri": "https://localhost:8080/"
        },
        "id": "vPJyp8suvC7_",
        "outputId": "16dd5766-93aa-4382-af1e-090e1dd4442c"
      }
    },
    {
      "cell_type": "code",
      "execution_count": 20,
      "source": [
        "predicted = regressor.predict(X_test)\r\n",
        "volume = dataset[training_data_len:, 1:]\r\n",
        "predicted = np.column_stack((predicted, volume))\r\n",
        "# print(dataset[:,1:])\r\n",
        "print(predicted.shape)\r\n",
        "predicted = sc.inverse_transform(predicted)\r\n",
        "print(predicted)"
      ],
      "outputs": [
        {
          "output_type": "stream",
          "name": "stdout",
          "text": [
            "(370, 1)\n",
            "[[15.6693816 ]\n",
            " [15.96831952]\n",
            " [16.31537405]\n",
            " [16.66708777]\n",
            " [16.98142259]\n",
            " [17.24013741]\n",
            " [17.43030695]\n",
            " [17.5282762 ]\n",
            " [17.50717976]\n",
            " [17.42621819]\n",
            " [17.34074581]\n",
            " [17.26270342]\n",
            " [17.23408285]\n",
            " [17.24352491]\n",
            " [17.30567496]\n",
            " [17.4825594 ]\n",
            " [17.7593382 ]\n",
            " [18.11965548]\n",
            " [18.53268396]\n",
            " [18.88905369]\n",
            " [19.15469668]\n",
            " [19.3209599 ]\n",
            " [19.37648894]\n",
            " [19.36173588]\n",
            " [19.34366552]\n",
            " [19.41189088]\n",
            " [19.56961756]\n",
            " [19.7526507 ]\n",
            " [19.85871451]\n",
            " [19.8713486 ]\n",
            " [19.73776679]\n",
            " [19.52590405]\n",
            " [19.29560875]\n",
            " [19.01840233]\n",
            " [18.71311785]\n",
            " [18.38106052]\n",
            " [18.05253429]\n",
            " [17.71807556]\n",
            " [17.45713485]\n",
            " [17.27783704]\n",
            " [17.21195484]\n",
            " [17.28852687]\n",
            " [17.45619822]\n",
            " [17.73934353]\n",
            " [18.05826255]\n",
            " [18.38364063]\n",
            " [18.64975592]\n",
            " [18.78828095]\n",
            " [18.79469852]\n",
            " [18.7148459 ]\n",
            " [18.61462364]\n",
            " [18.46827371]\n",
            " [18.32454857]\n",
            " [18.19201509]\n",
            " [18.08902922]\n",
            " [18.07501812]\n",
            " [18.22744096]\n",
            " [18.50738865]\n",
            " [18.83710202]\n",
            " [19.16585483]\n",
            " [19.42950489]\n",
            " [19.599229  ]\n",
            " [19.67821361]\n",
            " [19.79351444]\n",
            " [19.94262638]\n",
            " [20.09402803]\n",
            " [20.38376323]\n",
            " [20.8978357 ]\n",
            " [21.59423286]\n",
            " [22.3336638 ]\n",
            " [23.23802881]\n",
            " [24.23789305]\n",
            " [25.07524696]\n",
            " [25.48876848]\n",
            " [25.4769322 ]\n",
            " [25.24382382]\n",
            " [24.90768331]\n",
            " [24.49084929]\n",
            " [24.08931724]\n",
            " [23.84123719]\n",
            " [23.75579035]\n",
            " [23.75892254]\n",
            " [23.87603599]\n",
            " [24.22110238]\n",
            " [24.62541081]\n",
            " [25.14655346]\n",
            " [25.67535506]\n",
            " [26.07269544]\n",
            " [26.36356512]\n",
            " [26.43048048]\n",
            " [26.17595415]\n",
            " [25.5723325 ]\n",
            " [24.7862984 ]\n",
            " [24.00052278]\n",
            " [23.26115408]\n",
            " [22.74688694]\n",
            " [22.5997025 ]\n",
            " [22.83716531]\n",
            " [23.27922284]\n",
            " [23.76495078]\n",
            " [24.08904439]\n",
            " [24.16884435]\n",
            " [24.16146303]\n",
            " [24.13259833]\n",
            " [24.09420461]\n",
            " [24.08357621]\n",
            " [24.15371472]\n",
            " [24.22840073]\n",
            " [24.28861929]\n",
            " [24.21589748]\n",
            " [24.0249054 ]\n",
            " [23.63300288]\n",
            " [23.09275114]\n",
            " [22.52072907]\n",
            " [22.03637017]\n",
            " [21.68773119]\n",
            " [21.48466508]\n",
            " [21.34021713]\n",
            " [21.25075252]\n",
            " [21.14433289]\n",
            " [21.0196993 ]\n",
            " [20.90880716]\n",
            " [20.83473386]\n",
            " [20.90139392]\n",
            " [21.24386265]\n",
            " [21.88284794]\n",
            " [22.70318301]\n",
            " [23.56356166]\n",
            " [24.27577138]\n",
            " [24.76500968]\n",
            " [24.96437556]\n",
            " [24.85836122]\n",
            " [24.50549227]\n",
            " [24.01861548]\n",
            " [23.51872803]\n",
            " [23.13852777]\n",
            " [22.96239566]\n",
            " [23.00834941]\n",
            " [23.18884394]\n",
            " [23.45472308]\n",
            " [23.75334267]\n",
            " [23.9474829 ]\n",
            " [24.05687676]\n",
            " [24.12542284]\n",
            " [24.17029636]\n",
            " [24.22249695]\n",
            " [24.30889   ]\n",
            " [24.42468387]\n",
            " [24.48188991]\n",
            " [24.41078127]\n",
            " [24.2279029 ]\n",
            " [23.95703905]\n",
            " [23.75171833]\n",
            " [23.71064717]\n",
            " [23.93487115]\n",
            " [24.36614071]\n",
            " [24.87570557]\n",
            " [25.40156166]\n",
            " [25.81068407]\n",
            " [26.06951697]\n",
            " [26.13472023]\n",
            " [25.9779972 ]\n",
            " [25.64655898]\n",
            " [25.29193325]\n",
            " [25.01056227]\n",
            " [24.81322921]\n",
            " [24.71510359]\n",
            " [24.70004895]\n",
            " [24.86582711]\n",
            " [25.16324679]\n",
            " [25.58011911]\n",
            " [26.04446579]\n",
            " [26.4675275 ]\n",
            " [26.82763098]\n",
            " [27.13565194]\n",
            " [27.3349524 ]\n",
            " [27.34979961]\n",
            " [27.00742024]\n",
            " [26.42132484]\n",
            " [25.90693324]\n",
            " [25.474818  ]\n",
            " [25.24676295]\n",
            " [25.24616619]\n",
            " [25.42760851]\n",
            " [25.748321  ]\n",
            " [26.04011295]\n",
            " [26.32429381]\n",
            " [26.61335088]\n",
            " [26.9321965 ]\n",
            " [27.22957311]\n",
            " [27.40338998]\n",
            " [27.32564995]\n",
            " [26.77050791]\n",
            " [25.8733168 ]\n",
            " [24.96358892]\n",
            " [24.26889428]\n",
            " [23.99307923]\n",
            " [24.13578477]\n",
            " [24.6207899 ]\n",
            " [25.28097296]\n",
            " [25.95945614]\n",
            " [26.44811683]\n",
            " [26.6705234 ]\n",
            " [26.60637005]\n",
            " [26.28410024]\n",
            " [25.82863156]\n",
            " [25.35825823]\n",
            " [24.92530689]\n",
            " [24.6977736 ]\n",
            " [24.6540601 ]\n",
            " [24.73489243]\n",
            " [24.79608272]\n",
            " [24.79676404]\n",
            " [24.72757493]\n",
            " [24.55093063]\n",
            " [24.24366918]\n",
            " [23.95564927]\n",
            " [23.87173421]\n",
            " [24.00544526]\n",
            " [24.25112071]\n",
            " [24.53963526]\n",
            " [24.81489663]\n",
            " [25.08670668]\n",
            " [25.29219014]\n",
            " [25.35834599]\n",
            " [25.21463362]\n",
            " [24.94883904]\n",
            " [24.67216715]\n",
            " [24.4217272 ]\n",
            " [24.27732392]\n",
            " [24.30913253]\n",
            " [24.48699429]\n",
            " [24.80144399]\n",
            " [25.14524346]\n",
            " [25.46707288]\n",
            " [25.69908507]\n",
            " [25.81435718]\n",
            " [25.853295  ]\n",
            " [25.84901237]\n",
            " [25.90692845]\n",
            " [26.03498464]\n",
            " [26.11464898]\n",
            " [26.11880077]\n",
            " [26.00169849]\n",
            " [25.81208023]\n",
            " [25.59219633]\n",
            " [25.34527949]\n",
            " [25.15161794]\n",
            " [25.0758868 ]\n",
            " [25.12807782]\n",
            " [25.3072033 ]\n",
            " [25.61148254]\n",
            " [26.01357785]\n",
            " [26.4461239 ]\n",
            " [26.77982153]\n",
            " [26.90462744]\n",
            " [26.7955926 ]\n",
            " [26.49381049]\n",
            " [26.0898531 ]\n",
            " [25.69446735]\n",
            " [25.39488082]\n",
            " [25.21684036]\n",
            " [25.11341091]\n",
            " [24.98396015]\n",
            " [24.84547183]\n",
            " [24.71322077]\n",
            " [24.59752422]\n",
            " [24.53637382]\n",
            " [24.57163535]\n",
            " [24.59181351]\n",
            " [24.59582489]\n",
            " [24.55692057]\n",
            " [24.5621526 ]\n",
            " [24.62503743]\n",
            " [24.66247698]\n",
            " [24.65905438]\n",
            " [24.52372856]\n",
            " [24.19954879]\n",
            " [23.71781149]\n",
            " [23.19598272]\n",
            " [22.74391111]\n",
            " [22.57785533]\n",
            " [22.71193018]\n",
            " [22.97877786]\n",
            " [23.22180777]\n",
            " [23.39850792]\n",
            " [23.51615271]\n",
            " [23.67495323]\n",
            " [23.88600859]\n",
            " [24.09510454]\n",
            " [24.28513287]\n",
            " [24.49650416]\n",
            " [24.7230737 ]\n",
            " [24.94103488]\n",
            " [25.15590536]\n",
            " [25.35652859]\n",
            " [25.48594902]\n",
            " [25.54009786]\n",
            " [25.50351676]\n",
            " [25.52527139]\n",
            " [25.59736932]\n",
            " [25.64233219]\n",
            " [25.63836868]\n",
            " [25.5560971 ]\n",
            " [25.46918707]\n",
            " [25.39406865]\n",
            " [25.35426281]\n",
            " [25.39680354]\n",
            " [25.51177886]\n",
            " [25.65446206]\n",
            " [25.78130399]\n",
            " [25.77703412]\n",
            " [25.63769054]\n",
            " [25.38829411]\n",
            " [25.06131882]\n",
            " [24.71338352]\n",
            " [24.46650338]\n",
            " [24.39543623]\n",
            " [24.55484946]\n",
            " [24.90183059]\n",
            " [25.36991421]\n",
            " [25.88609449]\n",
            " [26.31511902]\n",
            " [26.56405591]\n",
            " [26.62642536]\n",
            " [26.62473879]\n",
            " [26.65588522]\n",
            " [26.66252937]\n",
            " [26.73002394]\n",
            " [26.89728123]\n",
            " [27.15347657]\n",
            " [27.46535095]\n",
            " [27.79787898]\n",
            " [28.0880817 ]\n",
            " [28.27063935]\n",
            " [28.23215309]\n",
            " [27.99951861]\n",
            " [27.80381468]\n",
            " [27.63368049]\n",
            " [27.55611918]\n",
            " [27.52905274]\n",
            " [27.51758026]\n",
            " [27.4389068 ]\n",
            " [27.27174365]\n",
            " [27.02455077]\n",
            " [26.88515933]\n",
            " [26.93261455]\n",
            " [27.12208761]\n",
            " [27.3177692 ]\n",
            " [27.46196026]\n",
            " [27.55239022]\n",
            " [27.54586894]\n",
            " [27.44400798]\n",
            " [27.27312067]\n",
            " [27.1609632 ]\n",
            " [27.1969635 ]\n",
            " [27.40757368]\n",
            " [27.71327143]\n",
            " [28.04587127]\n",
            " [28.31931842]\n",
            " [28.54657566]\n",
            " [28.58408541]\n",
            " [28.3521195 ]\n",
            " [27.97391376]\n",
            " [27.65891357]\n",
            " [27.51285245]\n",
            " [27.50956707]\n",
            " [27.63493784]\n",
            " [27.88618996]\n",
            " [28.15211219]]\n"
          ]
        }
      ],
      "metadata": {
        "colab": {
          "base_uri": "https://localhost:8080/"
        },
        "id": "L9MB4ux0vIPR",
        "outputId": "4c3968f2-6e13-40a4-db86-d80a455dfab3"
      }
    },
    {
      "cell_type": "code",
      "execution_count": 21,
      "source": [
        "allTargetData = np.vstack((dataset[:training_data_len, 0:1], dataset[training_data_len:, 0:1]))\r\n",
        "training_predicted = regressor.predict(X_train)\r\n",
        "volume = dataset[:len(X_train), 1:]\r\n",
        "training_predicted = np.column_stack((training_predicted, volume))\r\n",
        "training_predicted = sc.inverse_transform(training_predicted)\r\n",
        "allForecastedData = np.vstack((dataset[0:window, 0:1], training_predicted[:,0:1], predicted[:,0:1]))\r\n",
        "# date = df['DATA']\r\n",
        "date = df.index\r\n",
        "\r\n",
        "figure(figsize=(20, 6), dpi=80)\r\n",
        "plt.plot(date, allForecastedData, color = 'red', label = 'Previsto')\r\n",
        "plt.plot(date, allTargetData, color = 'blue', label = 'Real')\r\n",
        "plt.title('Previsão de série temporal')\r\n",
        "plt.xlabel('Tempo')\r\n",
        "plt.ylabel('Cotação (R$)')\r\n",
        "plt.legend()\r\n",
        "plt.show()"
      ],
      "outputs": [
        {
          "output_type": "display_data",
          "data": {
            "text/plain": [
              "<Figure size 1600x480 with 1 Axes>"
            ],
            "image/svg+xml": "<?xml version=\"1.0\" encoding=\"utf-8\" standalone=\"no\"?>\r\n<!DOCTYPE svg PUBLIC \"-//W3C//DTD SVG 1.1//EN\"\r\n  \"http://www.w3.org/Graphics/SVG/1.1/DTD/svg11.dtd\">\r\n<svg height=\"386.514375pt\" version=\"1.1\" viewBox=\"0 0 1163.821875 386.514375\" width=\"1163.821875pt\" xmlns=\"http://www.w3.org/2000/svg\" xmlns:xlink=\"http://www.w3.org/1999/xlink\">\r\n <metadata>\r\n  <rdf:RDF xmlns:cc=\"http://creativecommons.org/ns#\" xmlns:dc=\"http://purl.org/dc/elements/1.1/\" xmlns:rdf=\"http://www.w3.org/1999/02/22-rdf-syntax-ns#\">\r\n   <cc:Work>\r\n    <dc:type rdf:resource=\"http://purl.org/dc/dcmitype/StillImage\"/>\r\n    <dc:date>2021-08-18T19:34:30.949128</dc:date>\r\n    <dc:format>image/svg+xml</dc:format>\r\n    <dc:creator>\r\n     <cc:Agent>\r\n      <dc:title>Matplotlib v3.4.2, https://matplotlib.org/</dc:title>\r\n     </cc:Agent>\r\n    </dc:creator>\r\n   </cc:Work>\r\n  </rdf:RDF>\r\n </metadata>\r\n <defs>\r\n  <style type=\"text/css\">*{stroke-linecap:butt;stroke-linejoin:round;}</style>\r\n </defs>\r\n <g id=\"figure_1\">\r\n  <g id=\"patch_1\">\r\n   <path d=\"M 0 386.514375 \r\nL 1163.821875 386.514375 \r\nL 1163.821875 0 \r\nL 0 0 \r\nz\r\n\" style=\"fill:none;\"/>\r\n  </g>\r\n  <g id=\"axes_1\">\r\n   <g id=\"patch_2\">\r\n    <path d=\"M 40.621875 348.958125 \r\nL 1156.621875 348.958125 \r\nL 1156.621875 22.798125 \r\nL 40.621875 22.798125 \r\nz\r\n\" style=\"fill:#ffffff;\"/>\r\n   </g>\r\n   <g id=\"matplotlib.axis_1\">\r\n    <g id=\"xtick_1\">\r\n     <g id=\"line2d_1\">\r\n      <defs>\r\n       <path d=\"M 0 0 \r\nL 0 3.5 \r\n\" id=\"ma72e27e6e2\" style=\"stroke:#000000;stroke-width:0.8;\"/>\r\n      </defs>\r\n      <g>\r\n       <use style=\"stroke:#000000;stroke-width:0.8;\" x=\"90.792623\" xlink:href=\"#ma72e27e6e2\" y=\"348.958125\"/>\r\n      </g>\r\n     </g>\r\n     <g id=\"text_1\">\r\n      <!-- 2015 -->\r\n      <g transform=\"translate(78.067623 363.556562)scale(0.1 -0.1)\">\r\n       <defs>\r\n        <path d=\"M 1228 531 \r\nL 3431 531 \r\nL 3431 0 \r\nL 469 0 \r\nL 469 531 \r\nQ 828 903 1448 1529 \r\nQ 2069 2156 2228 2338 \r\nQ 2531 2678 2651 2914 \r\nQ 2772 3150 2772 3378 \r\nQ 2772 3750 2511 3984 \r\nQ 2250 4219 1831 4219 \r\nQ 1534 4219 1204 4116 \r\nQ 875 4013 500 3803 \r\nL 500 4441 \r\nQ 881 4594 1212 4672 \r\nQ 1544 4750 1819 4750 \r\nQ 2544 4750 2975 4387 \r\nQ 3406 4025 3406 3419 \r\nQ 3406 3131 3298 2873 \r\nQ 3191 2616 2906 2266 \r\nQ 2828 2175 2409 1742 \r\nQ 1991 1309 1228 531 \r\nz\r\n\" id=\"DejaVuSans-32\" transform=\"scale(0.015625)\"/>\r\n        <path d=\"M 2034 4250 \r\nQ 1547 4250 1301 3770 \r\nQ 1056 3291 1056 2328 \r\nQ 1056 1369 1301 889 \r\nQ 1547 409 2034 409 \r\nQ 2525 409 2770 889 \r\nQ 3016 1369 3016 2328 \r\nQ 3016 3291 2770 3770 \r\nQ 2525 4250 2034 4250 \r\nz\r\nM 2034 4750 \r\nQ 2819 4750 3233 4129 \r\nQ 3647 3509 3647 2328 \r\nQ 3647 1150 3233 529 \r\nQ 2819 -91 2034 -91 \r\nQ 1250 -91 836 529 \r\nQ 422 1150 422 2328 \r\nQ 422 3509 836 4129 \r\nQ 1250 4750 2034 4750 \r\nz\r\n\" id=\"DejaVuSans-30\" transform=\"scale(0.015625)\"/>\r\n        <path d=\"M 794 531 \r\nL 1825 531 \r\nL 1825 4091 \r\nL 703 3866 \r\nL 703 4441 \r\nL 1819 4666 \r\nL 2450 4666 \r\nL 2450 531 \r\nL 3481 531 \r\nL 3481 0 \r\nL 794 0 \r\nL 794 531 \r\nz\r\n\" id=\"DejaVuSans-31\" transform=\"scale(0.015625)\"/>\r\n        <path d=\"M 691 4666 \r\nL 3169 4666 \r\nL 3169 4134 \r\nL 1269 4134 \r\nL 1269 2991 \r\nQ 1406 3038 1543 3061 \r\nQ 1681 3084 1819 3084 \r\nQ 2600 3084 3056 2656 \r\nQ 3513 2228 3513 1497 \r\nQ 3513 744 3044 326 \r\nQ 2575 -91 1722 -91 \r\nQ 1428 -91 1123 -41 \r\nQ 819 9 494 109 \r\nL 494 744 \r\nQ 775 591 1075 516 \r\nQ 1375 441 1709 441 \r\nQ 2250 441 2565 725 \r\nQ 2881 1009 2881 1497 \r\nQ 2881 1984 2565 2268 \r\nQ 2250 2553 1709 2553 \r\nQ 1456 2553 1204 2497 \r\nQ 953 2441 691 2322 \r\nL 691 4666 \r\nz\r\n\" id=\"DejaVuSans-35\" transform=\"scale(0.015625)\"/>\r\n       </defs>\r\n       <use xlink:href=\"#DejaVuSans-32\"/>\r\n       <use x=\"63.623047\" xlink:href=\"#DejaVuSans-30\"/>\r\n       <use x=\"127.246094\" xlink:href=\"#DejaVuSans-31\"/>\r\n       <use x=\"190.869141\" xlink:href=\"#DejaVuSans-35\"/>\r\n      </g>\r\n     </g>\r\n    </g>\r\n    <g id=\"xtick_2\">\r\n     <g id=\"line2d_2\">\r\n      <g>\r\n       <use style=\"stroke:#000000;stroke-width:0.8;\" x=\"293.924324\" xlink:href=\"#ma72e27e6e2\" y=\"348.958125\"/>\r\n      </g>\r\n     </g>\r\n     <g id=\"text_2\">\r\n      <!-- 2016 -->\r\n      <g transform=\"translate(281.199324 363.556562)scale(0.1 -0.1)\">\r\n       <defs>\r\n        <path d=\"M 2113 2584 \r\nQ 1688 2584 1439 2293 \r\nQ 1191 2003 1191 1497 \r\nQ 1191 994 1439 701 \r\nQ 1688 409 2113 409 \r\nQ 2538 409 2786 701 \r\nQ 3034 994 3034 1497 \r\nQ 3034 2003 2786 2293 \r\nQ 2538 2584 2113 2584 \r\nz\r\nM 3366 4563 \r\nL 3366 3988 \r\nQ 3128 4100 2886 4159 \r\nQ 2644 4219 2406 4219 \r\nQ 1781 4219 1451 3797 \r\nQ 1122 3375 1075 2522 \r\nQ 1259 2794 1537 2939 \r\nQ 1816 3084 2150 3084 \r\nQ 2853 3084 3261 2657 \r\nQ 3669 2231 3669 1497 \r\nQ 3669 778 3244 343 \r\nQ 2819 -91 2113 -91 \r\nQ 1303 -91 875 529 \r\nQ 447 1150 447 2328 \r\nQ 447 3434 972 4092 \r\nQ 1497 4750 2381 4750 \r\nQ 2619 4750 2861 4703 \r\nQ 3103 4656 3366 4563 \r\nz\r\n\" id=\"DejaVuSans-36\" transform=\"scale(0.015625)\"/>\r\n       </defs>\r\n       <use xlink:href=\"#DejaVuSans-32\"/>\r\n       <use x=\"63.623047\" xlink:href=\"#DejaVuSans-30\"/>\r\n       <use x=\"127.246094\" xlink:href=\"#DejaVuSans-31\"/>\r\n       <use x=\"190.869141\" xlink:href=\"#DejaVuSans-36\"/>\r\n      </g>\r\n     </g>\r\n    </g>\r\n    <g id=\"xtick_3\">\r\n     <g id=\"line2d_3\">\r\n      <g>\r\n       <use style=\"stroke:#000000;stroke-width:0.8;\" x=\"497.61255\" xlink:href=\"#ma72e27e6e2\" y=\"348.958125\"/>\r\n      </g>\r\n     </g>\r\n     <g id=\"text_3\">\r\n      <!-- 2017 -->\r\n      <g transform=\"translate(484.88755 363.556562)scale(0.1 -0.1)\">\r\n       <defs>\r\n        <path d=\"M 525 4666 \r\nL 3525 4666 \r\nL 3525 4397 \r\nL 1831 0 \r\nL 1172 0 \r\nL 2766 4134 \r\nL 525 4134 \r\nL 525 4666 \r\nz\r\n\" id=\"DejaVuSans-37\" transform=\"scale(0.015625)\"/>\r\n       </defs>\r\n       <use xlink:href=\"#DejaVuSans-32\"/>\r\n       <use x=\"63.623047\" xlink:href=\"#DejaVuSans-30\"/>\r\n       <use x=\"127.246094\" xlink:href=\"#DejaVuSans-31\"/>\r\n       <use x=\"190.869141\" xlink:href=\"#DejaVuSans-37\"/>\r\n      </g>\r\n     </g>\r\n    </g>\r\n    <g id=\"xtick_4\">\r\n     <g id=\"line2d_4\">\r\n      <g>\r\n       <use style=\"stroke:#000000;stroke-width:0.8;\" x=\"700.744251\" xlink:href=\"#ma72e27e6e2\" y=\"348.958125\"/>\r\n      </g>\r\n     </g>\r\n     <g id=\"text_4\">\r\n      <!-- 2018 -->\r\n      <g transform=\"translate(688.019251 363.556562)scale(0.1 -0.1)\">\r\n       <defs>\r\n        <path d=\"M 2034 2216 \r\nQ 1584 2216 1326 1975 \r\nQ 1069 1734 1069 1313 \r\nQ 1069 891 1326 650 \r\nQ 1584 409 2034 409 \r\nQ 2484 409 2743 651 \r\nQ 3003 894 3003 1313 \r\nQ 3003 1734 2745 1975 \r\nQ 2488 2216 2034 2216 \r\nz\r\nM 1403 2484 \r\nQ 997 2584 770 2862 \r\nQ 544 3141 544 3541 \r\nQ 544 4100 942 4425 \r\nQ 1341 4750 2034 4750 \r\nQ 2731 4750 3128 4425 \r\nQ 3525 4100 3525 3541 \r\nQ 3525 3141 3298 2862 \r\nQ 3072 2584 2669 2484 \r\nQ 3125 2378 3379 2068 \r\nQ 3634 1759 3634 1313 \r\nQ 3634 634 3220 271 \r\nQ 2806 -91 2034 -91 \r\nQ 1263 -91 848 271 \r\nQ 434 634 434 1313 \r\nQ 434 1759 690 2068 \r\nQ 947 2378 1403 2484 \r\nz\r\nM 1172 3481 \r\nQ 1172 3119 1398 2916 \r\nQ 1625 2713 2034 2713 \r\nQ 2441 2713 2670 2916 \r\nQ 2900 3119 2900 3481 \r\nQ 2900 3844 2670 4047 \r\nQ 2441 4250 2034 4250 \r\nQ 1625 4250 1398 4047 \r\nQ 1172 3844 1172 3481 \r\nz\r\n\" id=\"DejaVuSans-38\" transform=\"scale(0.015625)\"/>\r\n       </defs>\r\n       <use xlink:href=\"#DejaVuSans-32\"/>\r\n       <use x=\"63.623047\" xlink:href=\"#DejaVuSans-30\"/>\r\n       <use x=\"127.246094\" xlink:href=\"#DejaVuSans-31\"/>\r\n       <use x=\"190.869141\" xlink:href=\"#DejaVuSans-38\"/>\r\n      </g>\r\n     </g>\r\n    </g>\r\n    <g id=\"xtick_5\">\r\n     <g id=\"line2d_5\">\r\n      <g>\r\n       <use style=\"stroke:#000000;stroke-width:0.8;\" x=\"903.875952\" xlink:href=\"#ma72e27e6e2\" y=\"348.958125\"/>\r\n      </g>\r\n     </g>\r\n     <g id=\"text_5\">\r\n      <!-- 2019 -->\r\n      <g transform=\"translate(891.150952 363.556562)scale(0.1 -0.1)\">\r\n       <defs>\r\n        <path d=\"M 703 97 \r\nL 703 672 \r\nQ 941 559 1184 500 \r\nQ 1428 441 1663 441 \r\nQ 2288 441 2617 861 \r\nQ 2947 1281 2994 2138 \r\nQ 2813 1869 2534 1725 \r\nQ 2256 1581 1919 1581 \r\nQ 1219 1581 811 2004 \r\nQ 403 2428 403 3163 \r\nQ 403 3881 828 4315 \r\nQ 1253 4750 1959 4750 \r\nQ 2769 4750 3195 4129 \r\nQ 3622 3509 3622 2328 \r\nQ 3622 1225 3098 567 \r\nQ 2575 -91 1691 -91 \r\nQ 1453 -91 1209 -44 \r\nQ 966 3 703 97 \r\nz\r\nM 1959 2075 \r\nQ 2384 2075 2632 2365 \r\nQ 2881 2656 2881 3163 \r\nQ 2881 3666 2632 3958 \r\nQ 2384 4250 1959 4250 \r\nQ 1534 4250 1286 3958 \r\nQ 1038 3666 1038 3163 \r\nQ 1038 2656 1286 2365 \r\nQ 1534 2075 1959 2075 \r\nz\r\n\" id=\"DejaVuSans-39\" transform=\"scale(0.015625)\"/>\r\n       </defs>\r\n       <use xlink:href=\"#DejaVuSans-32\"/>\r\n       <use x=\"63.623047\" xlink:href=\"#DejaVuSans-30\"/>\r\n       <use x=\"127.246094\" xlink:href=\"#DejaVuSans-31\"/>\r\n       <use x=\"190.869141\" xlink:href=\"#DejaVuSans-39\"/>\r\n      </g>\r\n     </g>\r\n    </g>\r\n    <g id=\"xtick_6\">\r\n     <g id=\"line2d_6\">\r\n      <g>\r\n       <use style=\"stroke:#000000;stroke-width:0.8;\" x=\"1107.007653\" xlink:href=\"#ma72e27e6e2\" y=\"348.958125\"/>\r\n      </g>\r\n     </g>\r\n     <g id=\"text_6\">\r\n      <!-- 2020 -->\r\n      <g transform=\"translate(1094.282653 363.556562)scale(0.1 -0.1)\">\r\n       <use xlink:href=\"#DejaVuSans-32\"/>\r\n       <use x=\"63.623047\" xlink:href=\"#DejaVuSans-30\"/>\r\n       <use x=\"127.246094\" xlink:href=\"#DejaVuSans-32\"/>\r\n       <use x=\"190.869141\" xlink:href=\"#DejaVuSans-30\"/>\r\n      </g>\r\n     </g>\r\n    </g>\r\n    <g id=\"text_7\">\r\n     <!-- Tempo -->\r\n     <g transform=\"translate(582.2375 377.234687)scale(0.1 -0.1)\">\r\n      <defs>\r\n       <path d=\"M -19 4666 \r\nL 3928 4666 \r\nL 3928 4134 \r\nL 2272 4134 \r\nL 2272 0 \r\nL 1638 0 \r\nL 1638 4134 \r\nL -19 4134 \r\nL -19 4666 \r\nz\r\n\" id=\"DejaVuSans-54\" transform=\"scale(0.015625)\"/>\r\n       <path d=\"M 3597 1894 \r\nL 3597 1613 \r\nL 953 1613 \r\nQ 991 1019 1311 708 \r\nQ 1631 397 2203 397 \r\nQ 2534 397 2845 478 \r\nQ 3156 559 3463 722 \r\nL 3463 178 \r\nQ 3153 47 2828 -22 \r\nQ 2503 -91 2169 -91 \r\nQ 1331 -91 842 396 \r\nQ 353 884 353 1716 \r\nQ 353 2575 817 3079 \r\nQ 1281 3584 2069 3584 \r\nQ 2775 3584 3186 3129 \r\nQ 3597 2675 3597 1894 \r\nz\r\nM 3022 2063 \r\nQ 3016 2534 2758 2815 \r\nQ 2500 3097 2075 3097 \r\nQ 1594 3097 1305 2825 \r\nQ 1016 2553 972 2059 \r\nL 3022 2063 \r\nz\r\n\" id=\"DejaVuSans-65\" transform=\"scale(0.015625)\"/>\r\n       <path d=\"M 3328 2828 \r\nQ 3544 3216 3844 3400 \r\nQ 4144 3584 4550 3584 \r\nQ 5097 3584 5394 3201 \r\nQ 5691 2819 5691 2113 \r\nL 5691 0 \r\nL 5113 0 \r\nL 5113 2094 \r\nQ 5113 2597 4934 2840 \r\nQ 4756 3084 4391 3084 \r\nQ 3944 3084 3684 2787 \r\nQ 3425 2491 3425 1978 \r\nL 3425 0 \r\nL 2847 0 \r\nL 2847 2094 \r\nQ 2847 2600 2669 2842 \r\nQ 2491 3084 2119 3084 \r\nQ 1678 3084 1418 2786 \r\nQ 1159 2488 1159 1978 \r\nL 1159 0 \r\nL 581 0 \r\nL 581 3500 \r\nL 1159 3500 \r\nL 1159 2956 \r\nQ 1356 3278 1631 3431 \r\nQ 1906 3584 2284 3584 \r\nQ 2666 3584 2933 3390 \r\nQ 3200 3197 3328 2828 \r\nz\r\n\" id=\"DejaVuSans-6d\" transform=\"scale(0.015625)\"/>\r\n       <path d=\"M 1159 525 \r\nL 1159 -1331 \r\nL 581 -1331 \r\nL 581 3500 \r\nL 1159 3500 \r\nL 1159 2969 \r\nQ 1341 3281 1617 3432 \r\nQ 1894 3584 2278 3584 \r\nQ 2916 3584 3314 3078 \r\nQ 3713 2572 3713 1747 \r\nQ 3713 922 3314 415 \r\nQ 2916 -91 2278 -91 \r\nQ 1894 -91 1617 61 \r\nQ 1341 213 1159 525 \r\nz\r\nM 3116 1747 \r\nQ 3116 2381 2855 2742 \r\nQ 2594 3103 2138 3103 \r\nQ 1681 3103 1420 2742 \r\nQ 1159 2381 1159 1747 \r\nQ 1159 1113 1420 752 \r\nQ 1681 391 2138 391 \r\nQ 2594 391 2855 752 \r\nQ 3116 1113 3116 1747 \r\nz\r\n\" id=\"DejaVuSans-70\" transform=\"scale(0.015625)\"/>\r\n       <path d=\"M 1959 3097 \r\nQ 1497 3097 1228 2736 \r\nQ 959 2375 959 1747 \r\nQ 959 1119 1226 758 \r\nQ 1494 397 1959 397 \r\nQ 2419 397 2687 759 \r\nQ 2956 1122 2956 1747 \r\nQ 2956 2369 2687 2733 \r\nQ 2419 3097 1959 3097 \r\nz\r\nM 1959 3584 \r\nQ 2709 3584 3137 3096 \r\nQ 3566 2609 3566 1747 \r\nQ 3566 888 3137 398 \r\nQ 2709 -91 1959 -91 \r\nQ 1206 -91 779 398 \r\nQ 353 888 353 1747 \r\nQ 353 2609 779 3096 \r\nQ 1206 3584 1959 3584 \r\nz\r\n\" id=\"DejaVuSans-6f\" transform=\"scale(0.015625)\"/>\r\n      </defs>\r\n      <use xlink:href=\"#DejaVuSans-54\"/>\r\n      <use x=\"44.083984\" xlink:href=\"#DejaVuSans-65\"/>\r\n      <use x=\"105.607422\" xlink:href=\"#DejaVuSans-6d\"/>\r\n      <use x=\"203.019531\" xlink:href=\"#DejaVuSans-70\"/>\r\n      <use x=\"266.496094\" xlink:href=\"#DejaVuSans-6f\"/>\r\n     </g>\r\n    </g>\r\n   </g>\r\n   <g id=\"matplotlib.axis_2\">\r\n    <g id=\"ytick_1\">\r\n     <g id=\"line2d_7\">\r\n      <defs>\r\n       <path d=\"M 0 0 \r\nL -3.5 0 \r\n\" id=\"m428d24956c\" style=\"stroke:#000000;stroke-width:0.8;\"/>\r\n      </defs>\r\n      <g>\r\n       <use style=\"stroke:#000000;stroke-width:0.8;\" x=\"40.621875\" xlink:href=\"#m428d24956c\" y=\"324.400611\"/>\r\n      </g>\r\n     </g>\r\n     <g id=\"text_8\">\r\n      <!-- 5 -->\r\n      <g transform=\"translate(27.259375 328.19983)scale(0.1 -0.1)\">\r\n       <use xlink:href=\"#DejaVuSans-35\"/>\r\n      </g>\r\n     </g>\r\n    </g>\r\n    <g id=\"ytick_2\">\r\n     <g id=\"line2d_8\">\r\n      <g>\r\n       <use style=\"stroke:#000000;stroke-width:0.8;\" x=\"40.621875\" xlink:href=\"#m428d24956c\" y=\"269.187473\"/>\r\n      </g>\r\n     </g>\r\n     <g id=\"text_9\">\r\n      <!-- 10 -->\r\n      <g transform=\"translate(20.896875 272.986692)scale(0.1 -0.1)\">\r\n       <use xlink:href=\"#DejaVuSans-31\"/>\r\n       <use x=\"63.623047\" xlink:href=\"#DejaVuSans-30\"/>\r\n      </g>\r\n     </g>\r\n    </g>\r\n    <g id=\"ytick_3\">\r\n     <g id=\"line2d_9\">\r\n      <g>\r\n       <use style=\"stroke:#000000;stroke-width:0.8;\" x=\"40.621875\" xlink:href=\"#m428d24956c\" y=\"213.974335\"/>\r\n      </g>\r\n     </g>\r\n     <g id=\"text_10\">\r\n      <!-- 15 -->\r\n      <g transform=\"translate(20.896875 217.773554)scale(0.1 -0.1)\">\r\n       <use xlink:href=\"#DejaVuSans-31\"/>\r\n       <use x=\"63.623047\" xlink:href=\"#DejaVuSans-35\"/>\r\n      </g>\r\n     </g>\r\n    </g>\r\n    <g id=\"ytick_4\">\r\n     <g id=\"line2d_10\">\r\n      <g>\r\n       <use style=\"stroke:#000000;stroke-width:0.8;\" x=\"40.621875\" xlink:href=\"#m428d24956c\" y=\"158.761197\"/>\r\n      </g>\r\n     </g>\r\n     <g id=\"text_11\">\r\n      <!-- 20 -->\r\n      <g transform=\"translate(20.896875 162.560415)scale(0.1 -0.1)\">\r\n       <use xlink:href=\"#DejaVuSans-32\"/>\r\n       <use x=\"63.623047\" xlink:href=\"#DejaVuSans-30\"/>\r\n      </g>\r\n     </g>\r\n    </g>\r\n    <g id=\"ytick_5\">\r\n     <g id=\"line2d_11\">\r\n      <g>\r\n       <use style=\"stroke:#000000;stroke-width:0.8;\" x=\"40.621875\" xlink:href=\"#m428d24956c\" y=\"103.548059\"/>\r\n      </g>\r\n     </g>\r\n     <g id=\"text_12\">\r\n      <!-- 25 -->\r\n      <g transform=\"translate(20.896875 107.347277)scale(0.1 -0.1)\">\r\n       <use xlink:href=\"#DejaVuSans-32\"/>\r\n       <use x=\"63.623047\" xlink:href=\"#DejaVuSans-35\"/>\r\n      </g>\r\n     </g>\r\n    </g>\r\n    <g id=\"ytick_6\">\r\n     <g id=\"line2d_12\">\r\n      <g>\r\n       <use style=\"stroke:#000000;stroke-width:0.8;\" x=\"40.621875\" xlink:href=\"#m428d24956c\" y=\"48.334921\"/>\r\n      </g>\r\n     </g>\r\n     <g id=\"text_13\">\r\n      <!-- 30 -->\r\n      <g transform=\"translate(20.896875 52.134139)scale(0.1 -0.1)\">\r\n       <defs>\r\n        <path d=\"M 2597 2516 \r\nQ 3050 2419 3304 2112 \r\nQ 3559 1806 3559 1356 \r\nQ 3559 666 3084 287 \r\nQ 2609 -91 1734 -91 \r\nQ 1441 -91 1130 -33 \r\nQ 819 25 488 141 \r\nL 488 750 \r\nQ 750 597 1062 519 \r\nQ 1375 441 1716 441 \r\nQ 2309 441 2620 675 \r\nQ 2931 909 2931 1356 \r\nQ 2931 1769 2642 2001 \r\nQ 2353 2234 1838 2234 \r\nL 1294 2234 \r\nL 1294 2753 \r\nL 1863 2753 \r\nQ 2328 2753 2575 2939 \r\nQ 2822 3125 2822 3475 \r\nQ 2822 3834 2567 4026 \r\nQ 2313 4219 1838 4219 \r\nQ 1578 4219 1281 4162 \r\nQ 984 4106 628 3988 \r\nL 628 4550 \r\nQ 988 4650 1302 4700 \r\nQ 1616 4750 1894 4750 \r\nQ 2613 4750 3031 4423 \r\nQ 3450 4097 3450 3541 \r\nQ 3450 3153 3228 2886 \r\nQ 3006 2619 2597 2516 \r\nz\r\n\" id=\"DejaVuSans-33\" transform=\"scale(0.015625)\"/>\r\n       </defs>\r\n       <use xlink:href=\"#DejaVuSans-33\"/>\r\n       <use x=\"63.623047\" xlink:href=\"#DejaVuSans-30\"/>\r\n      </g>\r\n     </g>\r\n    </g>\r\n    <g id=\"text_14\">\r\n     <!-- Cotação (R$) -->\r\n     <g transform=\"translate(14.817188 218.471875)rotate(-90)scale(0.1 -0.1)\">\r\n      <defs>\r\n       <path d=\"M 4122 4306 \r\nL 4122 3641 \r\nQ 3803 3938 3442 4084 \r\nQ 3081 4231 2675 4231 \r\nQ 1875 4231 1450 3742 \r\nQ 1025 3253 1025 2328 \r\nQ 1025 1406 1450 917 \r\nQ 1875 428 2675 428 \r\nQ 3081 428 3442 575 \r\nQ 3803 722 4122 1019 \r\nL 4122 359 \r\nQ 3791 134 3420 21 \r\nQ 3050 -91 2638 -91 \r\nQ 1578 -91 968 557 \r\nQ 359 1206 359 2328 \r\nQ 359 3453 968 4101 \r\nQ 1578 4750 2638 4750 \r\nQ 3056 4750 3426 4639 \r\nQ 3797 4528 4122 4306 \r\nz\r\n\" id=\"DejaVuSans-43\" transform=\"scale(0.015625)\"/>\r\n       <path d=\"M 1172 4494 \r\nL 1172 3500 \r\nL 2356 3500 \r\nL 2356 3053 \r\nL 1172 3053 \r\nL 1172 1153 \r\nQ 1172 725 1289 603 \r\nQ 1406 481 1766 481 \r\nL 2356 481 \r\nL 2356 0 \r\nL 1766 0 \r\nQ 1100 0 847 248 \r\nQ 594 497 594 1153 \r\nL 594 3053 \r\nL 172 3053 \r\nL 172 3500 \r\nL 594 3500 \r\nL 594 4494 \r\nL 1172 4494 \r\nz\r\n\" id=\"DejaVuSans-74\" transform=\"scale(0.015625)\"/>\r\n       <path d=\"M 2194 1759 \r\nQ 1497 1759 1228 1600 \r\nQ 959 1441 959 1056 \r\nQ 959 750 1161 570 \r\nQ 1363 391 1709 391 \r\nQ 2188 391 2477 730 \r\nQ 2766 1069 2766 1631 \r\nL 2766 1759 \r\nL 2194 1759 \r\nz\r\nM 3341 1997 \r\nL 3341 0 \r\nL 2766 0 \r\nL 2766 531 \r\nQ 2569 213 2275 61 \r\nQ 1981 -91 1556 -91 \r\nQ 1019 -91 701 211 \r\nQ 384 513 384 1019 \r\nQ 384 1609 779 1909 \r\nQ 1175 2209 1959 2209 \r\nL 2766 2209 \r\nL 2766 2266 \r\nQ 2766 2663 2505 2880 \r\nQ 2244 3097 1772 3097 \r\nQ 1472 3097 1187 3025 \r\nQ 903 2953 641 2809 \r\nL 641 3341 \r\nQ 956 3463 1253 3523 \r\nQ 1550 3584 1831 3584 \r\nQ 2591 3584 2966 3190 \r\nQ 3341 2797 3341 1997 \r\nz\r\n\" id=\"DejaVuSans-61\" transform=\"scale(0.015625)\"/>\r\n       <path d=\"M 3122 3366 \r\nL 3122 2828 \r\nQ 2878 2963 2633 3030 \r\nQ 2388 3097 2138 3097 \r\nQ 1578 3097 1268 2742 \r\nQ 959 2388 959 1747 \r\nQ 959 1106 1268 751 \r\nQ 1578 397 2138 397 \r\nQ 2388 397 2633 464 \r\nQ 2878 531 3122 666 \r\nL 3122 134 \r\nQ 2881 22 2623 -34 \r\nQ 2366 -91 2075 -91 \r\nQ 1284 -91 818 406 \r\nQ 353 903 353 1747 \r\nQ 353 2603 823 3093 \r\nQ 1294 3584 2113 3584 \r\nQ 2378 3584 2631 3529 \r\nQ 2884 3475 3122 3366 \r\nz\r\nM 2311 0 \r\nQ 2482 -194 2566 -358 \r\nQ 2651 -522 2651 -672 \r\nQ 2651 -950 2463 -1092 \r\nQ 2276 -1234 1907 -1234 \r\nQ 1764 -1234 1628 -1215 \r\nQ 1492 -1197 1357 -1159 \r\nL 1357 -750 \r\nQ 1464 -803 1579 -826 \r\nQ 1695 -850 1842 -850 \r\nQ 2026 -850 2120 -775 \r\nQ 2214 -700 2214 -556 \r\nQ 2214 -463 2146 -327 \r\nQ 2079 -191 1939 0 \r\nL 2311 0 \r\nz\r\n\" id=\"DejaVuSans-e7\" transform=\"scale(0.015625)\"/>\r\n       <path d=\"M 2194 1759 \r\nQ 1497 1759 1228 1600 \r\nQ 959 1441 959 1056 \r\nQ 959 750 1161 570 \r\nQ 1363 391 1709 391 \r\nQ 2188 391 2477 730 \r\nQ 2766 1069 2766 1631 \r\nL 2766 1759 \r\nL 2194 1759 \r\nz\r\nM 3341 1997 \r\nL 3341 0 \r\nL 2766 0 \r\nL 2766 531 \r\nQ 2569 213 2275 61 \r\nQ 1981 -91 1556 -91 \r\nQ 1019 -91 701 211 \r\nQ 384 513 384 1019 \r\nQ 384 1609 779 1909 \r\nQ 1175 2209 1959 2209 \r\nL 2766 2209 \r\nL 2766 2266 \r\nQ 2766 2663 2505 2880 \r\nQ 2244 3097 1772 3097 \r\nQ 1472 3097 1187 3025 \r\nQ 903 2953 641 2809 \r\nL 641 3341 \r\nQ 956 3463 1253 3523 \r\nQ 1550 3584 1831 3584 \r\nQ 2591 3584 2966 3190 \r\nQ 3341 2797 3341 1997 \r\nz\r\nM 1844 4281 \r\nL 1665 4453 \r\nQ 1597 4516 1545 4545 \r\nQ 1494 4575 1453 4575 \r\nQ 1334 4575 1278 4461 \r\nQ 1222 4347 1215 4091 \r\nL 825 4091 \r\nQ 831 4513 990 4742 \r\nQ 1150 4972 1434 4972 \r\nQ 1553 4972 1653 4928 \r\nQ 1753 4884 1869 4781 \r\nL 2047 4609 \r\nQ 2115 4547 2167 4517 \r\nQ 2219 4488 2259 4488 \r\nQ 2378 4488 2434 4602 \r\nQ 2490 4716 2497 4972 \r\nL 2887 4972 \r\nQ 2881 4550 2721 4320 \r\nQ 2562 4091 2278 4091 \r\nQ 2159 4091 2059 4134 \r\nQ 1959 4178 1844 4281 \r\nz\r\n\" id=\"DejaVuSans-e3\" transform=\"scale(0.015625)\"/>\r\n       <path id=\"DejaVuSans-20\" transform=\"scale(0.015625)\"/>\r\n       <path d=\"M 1984 4856 \r\nQ 1566 4138 1362 3434 \r\nQ 1159 2731 1159 2009 \r\nQ 1159 1288 1364 580 \r\nQ 1569 -128 1984 -844 \r\nL 1484 -844 \r\nQ 1016 -109 783 600 \r\nQ 550 1309 550 2009 \r\nQ 550 2706 781 3412 \r\nQ 1013 4119 1484 4856 \r\nL 1984 4856 \r\nz\r\n\" id=\"DejaVuSans-28\" transform=\"scale(0.015625)\"/>\r\n       <path d=\"M 2841 2188 \r\nQ 3044 2119 3236 1894 \r\nQ 3428 1669 3622 1275 \r\nL 4263 0 \r\nL 3584 0 \r\nL 2988 1197 \r\nQ 2756 1666 2539 1819 \r\nQ 2322 1972 1947 1972 \r\nL 1259 1972 \r\nL 1259 0 \r\nL 628 0 \r\nL 628 4666 \r\nL 2053 4666 \r\nQ 2853 4666 3247 4331 \r\nQ 3641 3997 3641 3322 \r\nQ 3641 2881 3436 2590 \r\nQ 3231 2300 2841 2188 \r\nz\r\nM 1259 4147 \r\nL 1259 2491 \r\nL 2053 2491 \r\nQ 2509 2491 2742 2702 \r\nQ 2975 2913 2975 3322 \r\nQ 2975 3731 2742 3939 \r\nQ 2509 4147 2053 4147 \r\nL 1259 4147 \r\nz\r\n\" id=\"DejaVuSans-52\" transform=\"scale(0.015625)\"/>\r\n       <path d=\"M 2163 -941 \r\nL 1850 -941 \r\nL 1847 0 \r\nQ 1519 6 1191 76 \r\nQ 863 147 531 288 \r\nL 531 850 \r\nQ 850 650 1176 548 \r\nQ 1503 447 1850 444 \r\nL 1850 1869 \r\nQ 1159 1981 845 2250 \r\nQ 531 2519 531 2988 \r\nQ 531 3497 872 3790 \r\nQ 1213 4084 1850 4128 \r\nL 1850 4863 \r\nL 2163 4863 \r\nL 2163 4138 \r\nQ 2453 4125 2725 4076 \r\nQ 2997 4028 3256 3944 \r\nL 3256 3397 \r\nQ 2997 3528 2723 3600 \r\nQ 2450 3672 2163 3684 \r\nL 2163 2350 \r\nQ 2872 2241 3206 1959 \r\nQ 3541 1678 3541 1191 \r\nQ 3541 663 3186 358 \r\nQ 2831 53 2163 6 \r\nL 2163 -941 \r\nz\r\nM 1850 2406 \r\nL 1850 3688 \r\nQ 1488 3647 1297 3481 \r\nQ 1106 3316 1106 3041 \r\nQ 1106 2772 1282 2622 \r\nQ 1459 2472 1850 2406 \r\nz\r\nM 2163 1806 \r\nL 2163 453 \r\nQ 2559 506 2761 678 \r\nQ 2963 850 2963 1131 \r\nQ 2963 1406 2770 1568 \r\nQ 2578 1731 2163 1806 \r\nz\r\n\" id=\"DejaVuSans-24\" transform=\"scale(0.015625)\"/>\r\n       <path d=\"M 513 4856 \r\nL 1013 4856 \r\nQ 1481 4119 1714 3412 \r\nQ 1947 2706 1947 2009 \r\nQ 1947 1309 1714 600 \r\nQ 1481 -109 1013 -844 \r\nL 513 -844 \r\nQ 928 -128 1133 580 \r\nQ 1338 1288 1338 2009 \r\nQ 1338 2731 1133 3434 \r\nQ 928 4138 513 4856 \r\nz\r\n\" id=\"DejaVuSans-29\" transform=\"scale(0.015625)\"/>\r\n      </defs>\r\n      <use xlink:href=\"#DejaVuSans-43\"/>\r\n      <use x=\"69.824219\" xlink:href=\"#DejaVuSans-6f\"/>\r\n      <use x=\"131.005859\" xlink:href=\"#DejaVuSans-74\"/>\r\n      <use x=\"170.214844\" xlink:href=\"#DejaVuSans-61\"/>\r\n      <use x=\"231.494141\" xlink:href=\"#DejaVuSans-e7\"/>\r\n      <use x=\"286.474609\" xlink:href=\"#DejaVuSans-e3\"/>\r\n      <use x=\"347.753906\" xlink:href=\"#DejaVuSans-6f\"/>\r\n      <use x=\"408.935547\" xlink:href=\"#DejaVuSans-20\"/>\r\n      <use x=\"440.722656\" xlink:href=\"#DejaVuSans-28\"/>\r\n      <use x=\"479.736328\" xlink:href=\"#DejaVuSans-52\"/>\r\n      <use x=\"549.21875\" xlink:href=\"#DejaVuSans-24\"/>\r\n      <use x=\"612.841797\" xlink:href=\"#DejaVuSans-29\"/>\r\n     </g>\r\n    </g>\r\n   </g>\r\n   <g id=\"line2d_13\">\r\n    <path clip-path=\"url(#p7743f5176f)\" d=\"M 91.349148 276.254758 \r\nL 93.575249 288.180795 \r\nL 94.131774 283.874167 \r\nL 94.688299 277.690301 \r\nL 95.244824 274.598358 \r\nL 96.9144 281.996919 \r\nL 97.470925 279.236262 \r\nL 98.02745 281.223939 \r\nL 98.583975 276.806881 \r\nL 99.140501 275.371349 \r\nL 100.810076 278.352853 \r\nL 101.366601 276.806881 \r\nL 101.923127 270.29174 \r\nL 102.479652 266.647673 \r\nL 103.036177 269.40833 \r\nL 104.705753 271.06472 \r\nL 105.262278 267.641501 \r\nL 105.818803 279.015415 \r\nL 106.931854 287.959938 \r\nL 108.601429 282.549053 \r\nL 109.157954 269.518749 \r\nL 109.71448 268.966615 \r\nL 110.271005 271.06472 \r\nL 110.82753 278.904986 \r\nL 112.497106 275.813054 \r\nL 113.053631 281.223939 \r\nL 113.610156 279.346691 \r\nL 114.166681 275.26092 \r\nL 114.723206 268.856197 \r\nL 117.505833 268.745768 \r\nL 118.062358 272.389834 \r\nL 118.618883 273.162815 \r\nL 120.288459 274.708787 \r\nL 120.844984 270.29174 \r\nL 121.401509 275.813054 \r\nL 121.958034 277.690301 \r\nL 122.514559 274.156653 \r\nL 124.184135 275.592196 \r\nL 124.74066 273.935806 \r\nL 125.297185 277.248586 \r\nL 125.853711 277.579872 \r\nL 126.410236 277.469443 \r\nL 128.079811 281.11351 \r\nL 128.636337 285.530557 \r\nL 129.192862 283.101186 \r\nL 129.749387 286.08269 \r\nL 130.305912 287.518233 \r\nL 131.975488 286.966099 \r\nL 132.532013 281.776072 \r\nL 133.088538 278.021577 \r\nL 133.645064 281.11351 \r\nL 134.201589 277.800719 \r\nL 135.871164 276.586034 \r\nL 136.42769 275.592196 \r\nL 136.984215 271.395996 \r\nL 137.54074 276.586034 \r\nL 138.097265 276.254758 \r\nL 139.766841 272.389834 \r\nL 140.323366 276.398819 \r\nL 141.436416 274.750046 \r\nL 143.662517 273.453211 \r\nL 144.219043 271.660846 \r\nL 145.888618 264.766158 \r\nL 147.558194 261.939335 \r\nL 148.671244 254.943183 \r\nL 149.784295 246.218309 \r\nL 151.45387 242.304248 \r\nL 152.566921 239.239328 \r\nL 153.123446 237.270289 \r\nL 153.679971 236.506832 \r\nL 155.349547 236.541306 \r\nL 155.906072 237.532498 \r\nL 157.019122 240.831277 \r\nL 159.801748 242.498753 \r\nL 160.358274 241.066228 \r\nL 161.471324 235.698374 \r\nL 163.1409 233.266569 \r\nL 163.697425 231.452382 \r\nL 164.25395 230.359056 \r\nL 164.810475 229.752486 \r\nL 165.367 229.520521 \r\nL 167.036576 229.442192 \r\nL 167.593101 229.651683 \r\nL 168.149626 230.737776 \r\nL 169.262677 234.856827 \r\nL 170.932252 236.893358 \r\nL 172.601828 242.585301 \r\nL 173.158353 244.070615 \r\nL 174.827929 245.277315 \r\nL 175.384454 246.191272 \r\nL 175.940979 246.439931 \r\nL 177.05403 246.027099 \r\nL 178.723605 245.262109 \r\nL 179.280131 244.405858 \r\nL 180.393181 242.077173 \r\nL 180.949706 240.707762 \r\nL 182.619282 239.455699 \r\nL 183.732332 237.631918 \r\nL 184.845383 236.459761 \r\nL 187.071484 236.123452 \r\nL 187.628009 236.491688 \r\nL 188.184534 237.021269 \r\nL 188.741059 237.989353 \r\nL 190.410635 238.924233 \r\nL 191.523685 240.742121 \r\nL 192.636736 243.507407 \r\nL 194.306311 245.41045 \r\nL 195.419362 250.174808 \r\nL 196.532412 252.487292 \r\nL 198.201988 254.278247 \r\nL 198.758513 255.359319 \r\nL 199.315038 255.582553 \r\nL 199.871563 255.176813 \r\nL 200.428089 254.25528 \r\nL 202.097664 253.423071 \r\nL 202.654189 253.407222 \r\nL 203.210715 254.40563 \r\nL 203.76724 256.469886 \r\nL 204.323765 259.420427 \r\nL 205.993341 262.869105 \r\nL 207.106391 270.138628 \r\nL 207.662916 272.433325 \r\nL 208.219441 273.424306 \r\nL 209.889017 273.211063 \r\nL 210.445542 272.38132 \r\nL 211.558593 270.35692 \r\nL 212.115118 269.52605 \r\nL 213.784694 269.23127 \r\nL 214.341219 269.385637 \r\nL 214.897744 269.853434 \r\nL 215.454269 270.58055 \r\nL 216.010794 271.650477 \r\nL 217.68037 273.101432 \r\nL 218.79342 276.924778 \r\nL 219.906471 281.427896 \r\nL 221.576046 283.765788 \r\nL 223.245622 291.198637 \r\nL 223.802147 292.562048 \r\nL 225.471723 292.678031 \r\nL 226.028248 291.534779 \r\nL 227.697824 285.982213 \r\nL 229.923925 284.708931 \r\nL 230.48045 284.046348 \r\nL 231.036975 284.08142 \r\nL 231.5935 284.958384 \r\nL 233.263076 286.711078 \r\nL 235.489177 295.653873 \r\nL 237.158752 296.93354 \r\nL 238.271803 299.131902 \r\nL 239.384853 301.932675 \r\nL 241.054429 303.396316 \r\nL 242.167479 306.48123 \r\nL 242.724004 307.493359 \r\nL 243.28053 307.912336 \r\nL 244.950105 307.393816 \r\nL 245.50663 305.928519 \r\nL 246.063156 303.556414 \r\nL 247.176206 296.737458 \r\nL 249.402307 292.865541 \r\nL 249.958832 289.622168 \r\nL 250.515357 287.562942 \r\nL 251.071882 286.805035 \r\nL 252.741458 287.20752 \r\nL 253.297983 288.448473 \r\nL 254.967559 293.623491 \r\nL 256.637135 294.939858 \r\nL 257.750185 296.599546 \r\nL 258.30671 297.001513 \r\nL 258.863235 297.254458 \r\nL 261.089336 297.400288 \r\nL 261.645861 297.036627 \r\nL 262.202387 296.291926 \r\nL 262.758912 295.324357 \r\nL 264.428487 294.467585 \r\nL 264.985013 293.856284 \r\nL 265.541538 293.704269 \r\nL 266.098063 293.96906 \r\nL 266.654588 294.609403 \r\nL 268.324164 295.670929 \r\nL 269.437214 297.738187 \r\nL 269.99374 298.296651 \r\nL 272.21984 298.433154 \r\nL 272.776366 298.068435 \r\nL 273.889416 295.783943 \r\nL 274.445941 294.615578 \r\nL 276.672042 293.765005 \r\nL 277.228567 294.204205 \r\nL 278.341618 295.966105 \r\nL 280.011193 296.82041 \r\nL 282.237294 300.573217 \r\nL 283.90687 301.076963 \r\nL 284.463395 301.480443 \r\nL 285.01992 301.706674 \r\nL 286.132971 301.872023 \r\nL 287.802546 302.04845 \r\nL 288.359071 302.581013 \r\nL 288.915597 303.413964 \r\nL 291.698223 304.341336 \r\nL 292.811273 306.271056 \r\nL 295.593899 307.122207 \r\nL 296.150424 307.721428 \r\nL 297.82 309.010697 \r\nL 299.489576 309.691786 \r\nL 300.046101 310.569315 \r\nL 300.602626 311.867417 \r\nL 301.715676 315.685486 \r\nL 303.385252 317.81291 \r\nL 305.611353 327.478762 \r\nL 307.837454 329.665041 \r\nL 308.393979 331.594853 \r\nL 308.950504 333.053098 \r\nL 309.507029 333.932437 \r\nL 311.176605 334.13267 \r\nL 311.73313 333.767644 \r\nL 313.402706 332.031141 \r\nL 316.185332 331.500213 \r\nL 316.741857 331.21814 \r\nL 318.967958 331.560247 \r\nL 320.081008 332.205811 \r\nL 320.637534 332.375166 \r\nL 322.863634 332.319663 \r\nL 323.42016 331.978679 \r\nL 324.53321 330.59041 \r\nL 325.089735 329.763165 \r\nL 326.759311 328.996573 \r\nL 327.872361 327.406843 \r\nL 328.428886 326.33896 \r\nL 328.985412 324.582414 \r\nL 330.654987 321.760504 \r\nL 331.768038 313.372548 \r\nL 332.881088 303.902744 \r\nL 334.550664 299.581945 \r\nL 335.107189 296.321976 \r\nL 335.663714 294.8747 \r\nL 336.220239 294.971415 \r\nL 336.776765 295.679272 \r\nL 338.44634 296.37501 \r\nL 339.002865 296.766614 \r\nL 339.559391 296.73913 \r\nL 340.115916 296.517142 \r\nL 342.342017 296.253797 \r\nL 342.898542 295.691694 \r\nL 343.455067 294.752105 \r\nL 344.568117 292.299214 \r\nL 346.794218 290.774934 \r\nL 347.350743 291.08195 \r\nL 347.907269 292.069126 \r\nL 348.463794 293.461002 \r\nL 350.13337 294.659694 \r\nL 350.689895 295.275761 \r\nL 351.24642 294.833747 \r\nL 351.802945 293.058896 \r\nL 352.35947 290.349592 \r\nL 354.029046 286.916234 \r\nL 355.142096 280.278548 \r\nL 356.255147 277.728805 \r\nL 357.924722 275.816361 \r\nL 358.481248 274.781312 \r\nL 360.150823 273.695105 \r\nL 361.820399 273.032063 \r\nL 362.376924 272.249445 \r\nL 362.933449 271.719142 \r\nL 363.489975 271.51477 \r\nL 364.0465 271.685356 \r\nL 365.716075 271.997023 \r\nL 366.829126 273.220278 \r\nL 367.385651 273.415443 \r\nL 369.611752 273.724054 \r\nL 370.168277 274.102977 \r\nL 370.724802 274.67555 \r\nL 371.281327 275.50731 \r\nL 371.837853 276.745048 \r\nL 373.507428 278.340159 \r\nL 374.620479 282.567932 \r\nL 375.733529 284.677736 \r\nL 377.403105 286.675508 \r\nL 378.516155 289.914462 \r\nL 379.07268 291.151874 \r\nL 379.629206 291.976058 \r\nL 381.298781 292.213767 \r\nL 381.855306 291.938519 \r\nL 382.411832 291.206465 \r\nL 382.968357 289.72035 \r\nL 383.524882 287.668432 \r\nL 385.194458 285.600978 \r\nL 385.750983 284.002069 \r\nL 386.307508 283.289463 \r\nL 386.864033 283.398045 \r\nL 387.420558 284.127879 \r\nL 389.090134 284.958155 \r\nL 389.646659 285.443043 \r\nL 390.203185 285.208585 \r\nL 390.75971 284.345047 \r\nL 391.316235 282.87738 \r\nL 392.985811 281.273846 \r\nL 393.542336 280.165852 \r\nL 394.098861 279.565678 \r\nL 394.655386 279.221475 \r\nL 395.211911 279.021147 \r\nL 396.881487 278.649933 \r\nL 397.994537 277.408037 \r\nL 398.551063 277.012146 \r\nL 399.107588 276.78367 \r\nL 400.777163 276.523928 \r\nL 401.333689 275.835346 \r\nL 401.890214 274.464746 \r\nL 402.446739 272.512552 \r\nL 403.003264 270.064907 \r\nL 404.67284 267.345917 \r\nL 406.898941 254.922392 \r\nL 408.568516 252.506718 \r\nL 409.125042 250.681289 \r\nL 409.681567 249.584897 \r\nL 410.238092 249.458722 \r\nL 410.794617 250.269356 \r\nL 412.464193 251.467352 \r\nL 414.133768 256.136405 \r\nL 414.690294 256.653211 \r\nL 416.359869 256.588 \r\nL 416.916395 255.984346 \r\nL 418.58597 253.187027 \r\nL 420.255546 252.23628 \r\nL 421.368596 249.846014 \r\nL 422.481647 246.263566 \r\nL 424.151222 244.297954 \r\nL 424.707747 242.883137 \r\nL 425.264273 242.03685 \r\nL 425.820798 241.899415 \r\nL 426.377323 242.300204 \r\nL 428.046899 243.012158 \r\nL 428.603424 243.598853 \r\nL 429.159949 243.699524 \r\nL 429.716474 243.417396 \r\nL 430.273 242.794422 \r\nL 431.942575 241.555803 \r\nL 432.4991 239.590966 \r\nL 433.612151 237.011419 \r\nL 434.168676 233.986814 \r\nL 435.838252 231.430419 \r\nL 436.394777 229.502531 \r\nL 436.951302 228.987945 \r\nL 437.507827 229.878829 \r\nL 438.064352 231.513646 \r\nL 439.733928 233.586492 \r\nL 440.290453 235.807388 \r\nL 440.846978 237.552373 \r\nL 441.403504 238.418069 \r\nL 441.960029 238.099001 \r\nL 443.629605 236.946675 \r\nL 444.18613 235.582004 \r\nL 445.29918 233.795084 \r\nL 445.855705 233.28648 \r\nL 447.525281 233.039838 \r\nL 448.081806 232.691327 \r\nL 448.638331 232.084316 \r\nL 449.194857 230.823611 \r\nL 449.751382 228.560295 \r\nL 451.420957 225.376856 \r\nL 451.977483 221.360106 \r\nL 453.090533 217.296717 \r\nL 453.647058 213.559928 \r\nL 455.316634 210.128464 \r\nL 456.429684 202.840026 \r\nL 457.542735 194.711098 \r\nL 459.21231 191.041185 \r\nL 459.768836 187.895003 \r\nL 460.325361 185.69414 \r\nL 460.881886 184.518679 \r\nL 461.438411 184.299824 \r\nL 463.107987 184.822921 \r\nL 464.777562 188.751642 \r\nL 465.334088 192.912918 \r\nL 467.003663 198.152517 \r\nL 467.560188 202.592565 \r\nL 468.116714 205.41456 \r\nL 468.673239 206.685168 \r\nL 469.229764 207.590993 \r\nL 470.89934 209.822011 \r\nL 472.01239 213.58479 \r\nL 473.125441 221.743381 \r\nL 475.351541 226.020032 \r\nL 475.908067 224.681711 \r\nL 476.464592 221.297952 \r\nL 477.021117 216.940189 \r\nL 478.690693 212.854925 \r\nL 479.247218 209.722169 \r\nL 479.803743 208.524454 \r\nL 480.360268 208.255929 \r\nL 480.916793 208.77166 \r\nL 482.586369 209.483429 \r\nL 483.142894 210.209004 \r\nL 483.69942 210.43859 \r\nL 484.81247 210.096352 \r\nL 486.482046 210.086899 \r\nL 487.038571 210.34176 \r\nL 487.595096 210.934605 \r\nL 488.151621 212.341563 \r\nL 488.708146 214.384041 \r\nL 490.377722 216.764493 \r\nL 492.047298 224.332407 \r\nL 492.603823 226.331479 \r\nL 494.273398 227.777871 \r\nL 494.829924 228.437045 \r\nL 495.386449 228.320534 \r\nL 495.942974 227.311986 \r\nL 498.169075 225.538148 \r\nL 498.7256 223.495599 \r\nL 499.838651 218.081185 \r\nL 500.395176 215.046255 \r\nL 502.064751 212.254944 \r\nL 502.621277 210.327356 \r\nL 503.177802 209.384107 \r\nL 503.734327 209.203416 \r\nL 505.960428 209.756395 \r\nL 507.073478 210.664035 \r\nL 508.186529 211.11275 \r\nL 509.856104 210.984874 \r\nL 510.41263 210.573742 \r\nL 511.52568 209.92803 \r\nL 512.082205 209.360452 \r\nL 513.751781 209.173066 \r\nL 514.308306 210.052778 \r\nL 514.864831 211.832166 \r\nL 515.977882 216.512072 \r\nL 517.647457 218.337386 \r\nL 518.203982 219.557945 \r\nL 518.760508 220.399149 \r\nL 519.317033 220.66897 \r\nL 519.873558 220.420768 \r\nL 521.543134 219.378152 \r\nL 522.099659 217.621591 \r\nL 523.769234 210.327955 \r\nL 525.43881 208.588194 \r\nL 525.995335 207.485864 \r\nL 526.551861 206.821175 \r\nL 527.108386 206.790288 \r\nL 527.664911 207.462668 \r\nL 530.447537 208.983203 \r\nL 531.560587 212.957155 \r\nL 533.230163 214.897746 \r\nL 533.786688 216.559654 \r\nL 535.456264 220.222044 \r\nL 537.125839 221.68276 \r\nL 537.682365 223.158312 \r\nL 539.35194 228.516202 \r\nL 541.021516 230.441367 \r\nL 542.134566 234.033083 \r\nL 542.691092 235.342789 \r\nL 543.247617 235.992017 \r\nL 544.917192 236.061915 \r\nL 545.473718 235.492126 \r\nL 546.030243 234.293293 \r\nL 546.586768 232.30555 \r\nL 547.143293 229.752627 \r\nL 548.812869 227.000547 \r\nL 549.925919 221.870957 \r\nL 550.482444 220.085473 \r\nL 551.03897 219.17859 \r\nL 552.708545 219.001467 \r\nL 553.265071 219.168706 \r\nL 553.821596 219.63956 \r\nL 554.378121 220.32993 \r\nL 556.604222 221.559677 \r\nL 557.717272 224.864058 \r\nL 558.273797 226.958065 \r\nL 560.499898 229.026057 \r\nL 561.056423 230.655826 \r\nL 561.612949 231.40628 \r\nL 562.169474 231.457333 \r\nL 562.725999 231.224805 \r\nL 564.9521 230.786468 \r\nL 566.621676 229.119019 \r\nL 568.291251 228.754051 \r\nL 569.404302 228.043489 \r\nL 569.960827 227.232899 \r\nL 570.517352 225.868184 \r\nL 572.186928 223.625942 \r\nL 573.299978 216.973059 \r\nL 573.856503 213.58797 \r\nL 574.413028 212.866228 \r\nL 576.082604 214.945364 \r\nL 576.639129 219.270381 \r\nL 577.75218 229.745244 \r\nL 578.308705 233.710104 \r\nL 579.978281 236.312257 \r\nL 580.534806 237.539529 \r\nL 581.091331 237.819683 \r\nL 581.647856 237.803359 \r\nL 582.204381 237.932344 \r\nL 583.873957 238.180784 \r\nL 584.430482 238.381226 \r\nL 585.543533 238.541426 \r\nL 586.100058 238.78494 \r\nL 587.769633 239.156171 \r\nL 588.882684 239.907629 \r\nL 589.995734 240.362511 \r\nL 591.66531 241.200068 \r\nL 592.221835 242.404363 \r\nL 592.77836 244.115563 \r\nL 593.891411 248.524661 \r\nL 595.560986 250.410253 \r\nL 596.117512 251.567609 \r\nL 596.674037 251.924146 \r\nL 597.230562 251.676129 \r\nL 597.787087 250.985733 \r\nL 599.456663 249.929118 \r\nL 601.126238 246.384878 \r\nL 601.682764 245.817371 \r\nL 603.352339 245.891242 \r\nL 604.46539 247.27407 \r\nL 605.021915 247.459739 \r\nL 605.57844 246.917657 \r\nL 607.248016 245.634812 \r\nL 609.474117 238.996342 \r\nL 611.143692 238.20072 \r\nL 611.700217 238.074166 \r\nL 612.256743 238.228665 \r\nL 613.369793 238.92944 \r\nL 615.595894 239.305138 \r\nL 616.152419 239.190037 \r\nL 616.708944 238.70632 \r\nL 617.265469 238.019836 \r\nL 618.935045 237.225006 \r\nL 620.604621 234.70142 \r\nL 621.161146 234.360706 \r\nL 622.830722 234.684249 \r\nL 623.387247 235.522635 \r\nL 625.056822 238.606081 \r\nL 626.726398 238.947905 \r\nL 627.282923 238.758801 \r\nL 627.839448 237.864587 \r\nL 628.952499 234.654727 \r\nL 630.622074 232.821978 \r\nL 631.1786 231.168985 \r\nL 631.735125 229.89873 \r\nL 632.29165 229.408644 \r\nL 632.848175 229.591978 \r\nL 635.074276 230.162481 \r\nL 635.630801 229.836224 \r\nL 638.413427 226.549965 \r\nL 640.083003 219.594056 \r\nL 640.639528 217.937945 \r\nL 642.865629 216.376646 \r\nL 643.422154 216.305762 \r\nL 643.978679 215.919791 \r\nL 644.535205 215.159753 \r\nL 646.20478 214.121022 \r\nL 647.317831 211.816194 \r\nL 647.874356 211.370342 \r\nL 650.100457 212.367905 \r\nL 650.656982 213.389289 \r\nL 651.213507 213.924173 \r\nL 651.770032 213.974857 \r\nL 652.326558 213.442783 \r\nL 653.996133 212.623216 \r\nL 654.552658 211.602932 \r\nL 655.109184 210.293746 \r\nL 656.222234 208.902408 \r\nL 657.89181 207.636099 \r\nL 658.448335 206.621305 \r\nL 659.00486 205.927843 \r\nL 659.561385 205.544656 \r\nL 660.117911 205.439061 \r\nL 661.787486 205.489603 \r\nL 662.344011 205.627152 \r\nL 662.900537 205.539352 \r\nL 663.457062 204.977827 \r\nL 664.013587 203.973789 \r\nL 665.683163 202.463183 \r\nL 666.796213 199.508501 \r\nL 667.909263 198.489601 \r\nL 669.578839 197.81923 \r\nL 670.135364 197.058002 \r\nL 670.691889 196.901591 \r\nL 671.248415 197.13234 \r\nL 671.80494 197.765807 \r\nL 673.474516 198.664451 \r\nL 674.031041 199.709376 \r\nL 674.587566 201.809902 \r\nL 675.700616 208.203131 \r\nL 677.926717 210.824243 \r\nL 678.483242 212.466382 \r\nL 679.039768 212.897054 \r\nL 679.596293 212.169039 \r\nL 681.265868 210.668801 \r\nL 682.378919 207.67755 \r\nL 682.935444 207.273651 \r\nL 683.491969 207.857016 \r\nL 685.161545 208.99648 \r\nL 686.83112 213.196819 \r\nL 687.387646 214.242008 \r\nL 689.057221 214.972401 \r\nL 689.613747 215.346954 \r\nL 691.283322 215.234866 \r\nL 692.952898 215.624854 \r\nL 694.065948 216.50698 \r\nL 694.622473 216.746583 \r\nL 695.178999 216.267536 \r\nL 697.405099 215.112417 \r\nL 697.961625 213.349944 \r\nL 699.074675 209.010532 \r\nL 701.300776 207.064681 \r\nL 702.970352 201.850586 \r\nL 704.639927 200.416546 \r\nL 705.752978 198.008854 \r\nL 706.866028 196.913325 \r\nL 708.535604 196.452585 \r\nL 709.092129 195.923269 \r\nL 709.648654 195.097764 \r\nL 710.205179 193.395066 \r\nL 710.761704 191.021486 \r\nL 712.43128 188.370112 \r\nL 712.987805 185.711822 \r\nL 714.100856 181.335839 \r\nL 714.657381 178.843237 \r\nL 716.326957 175.808315 \r\nL 717.440007 169.990611 \r\nL 718.553057 166.80652 \r\nL 720.222633 165.846558 \r\nL 720.779158 166.429809 \r\nL 721.335683 167.646138 \r\nL 721.892209 169.423394 \r\nL 722.448734 171.788359 \r\nL 725.787885 174.657531 \r\nL 726.34441 177.038142 \r\nL 728.013986 178.403817 \r\nL 728.570511 178.032427 \r\nL 729.127036 175.646953 \r\nL 729.683562 171.93337 \r\nL 730.240087 167.311785 \r\nL 731.909662 162.202731 \r\nL 733.022713 152.278486 \r\nL 733.579238 148.839349 \r\nL 734.135763 147.441165 \r\nL 735.805339 147.595479 \r\nL 736.918389 148.75895 \r\nL 738.03144 150.249831 \r\nL 739.701015 150.263434 \r\nL 740.25754 149.45694 \r\nL 740.814066 148.288589 \r\nL 741.370591 146.853862 \r\nL 741.927116 146.507897 \r\nL 743.596692 147.404798 \r\nL 744.153217 149.72055 \r\nL 744.709742 152.689239 \r\nL 745.266267 154.665705 \r\nL 745.822793 155.353652 \r\nL 747.492368 154.798065 \r\nL 748.605419 151.201441 \r\nL 749.161944 150.082655 \r\nL 751.388045 149.762468 \r\nL 751.94457 150.615794 \r\nL 752.501095 152.596753 \r\nL 753.614145 158.142496 \r\nL 755.283721 159.56762 \r\nL 755.840246 160.361568 \r\nL 756.396772 159.942252 \r\nL 756.953297 158.000568 \r\nL 757.509822 155.03935 \r\nL 759.179398 152.262012 \r\nL 759.735923 150.980084 \r\nL 760.292448 151.077785 \r\nL 760.848973 151.407047 \r\nL 761.405498 151.022459 \r\nL 763.075074 149.584737 \r\nL 764.74465 142.966071 \r\nL 765.301175 141.89433 \r\nL 766.97075 141.112804 \r\nL 768.640326 139.698427 \r\nL 769.196851 139.747058 \r\nL 770.866427 140.58569 \r\nL 771.422952 141.621558 \r\nL 771.979477 142.206641 \r\nL 772.536003 140.131557 \r\nL 773.092528 134.240889 \r\nL 774.762103 125.845866 \r\nL 776.431679 97.188959 \r\nL 776.988204 92.348712 \r\nL 778.65778 92.85366 \r\nL 779.214305 98.525984 \r\nL 779.77083 107.702956 \r\nL 780.327355 119.469139 \r\nL 780.883881 134.831857 \r\nL 782.553456 151.657688 \r\nL 783.666507 184.858019 \r\nL 784.779557 195.13333 \r\nL 786.449133 202.201352 \r\nL 787.005658 205.612157 \r\nL 787.562183 206.354365 \r\nL 788.118708 205.433361 \r\nL 788.675234 204.076707 \r\nL 790.344809 203.348895 \r\nL 790.901334 203.439355 \r\nL 791.45786 204.17292 \r\nL 792.014385 205.501285 \r\nL 792.57091 207.242729 \r\nL 794.240486 209.237651 \r\nL 795.353536 213.531269 \r\nL 795.910061 213.965324 \r\nL 796.466587 213.686993 \r\nL 798.136162 213.22539 \r\nL 798.692687 212.460373 \r\nL 799.249213 211.214099 \r\nL 799.805738 209.200676 \r\nL 800.362263 206.582603 \r\nL 802.031839 203.281543 \r\nL 803.701414 192.094223 \r\nL 804.257939 189.237332 \r\nL 806.48404 187.13736 \r\nL 807.040565 186.055522 \r\nL 807.597091 186.288482 \r\nL 808.153616 187.182511 \r\nL 809.823192 188.12635 \r\nL 810.379717 188.988144 \r\nL 810.936242 189.30419 \r\nL 811.492767 189.199925 \r\nL 813.718868 186.560356 \r\nL 814.275393 183.503991 \r\nL 815.944969 171.028963 \r\nL 817.614544 168.095567 \r\nL 818.17107 166.259584 \r\nL 818.727595 165.646397 \r\nL 819.840645 166.008854 \r\nL 821.510221 165.255467 \r\nL 823.179797 160.32136 \r\nL 823.736322 160.181846 \r\nL 825.405897 161.65694 \r\nL 826.518948 166.539527 \r\nL 827.631998 172.971757 \r\nL 829.301574 176.638543 \r\nL 830.971149 186.84111 \r\nL 831.527675 188.821029 \r\nL 833.19725 189.548541 \r\nL 833.753775 188.702985 \r\nL 834.310301 186.851452 \r\nL 835.423351 180.20308 \r\nL 837.092927 176.610051 \r\nL 837.649452 173.671439 \r\nL 838.205977 172.141759 \r\nL 838.762502 172.070892 \r\nL 840.988603 172.952675 \r\nL 841.545128 174.059392 \r\nL 843.214704 178.726101 \r\nL 844.88428 179.863335 \r\nL 845.440805 180.018055 \r\nL 845.99733 178.334906 \r\nL 847.11038 171.602646 \r\nL 848.779956 167.972351 \r\nL 849.336481 165.060962 \r\nL 849.893007 163.186762 \r\nL 850.449532 162.314564 \r\nL 851.006057 161.04134 \r\nL 852.675633 159.394752 \r\nL 853.232158 157.72288 \r\nL 853.788683 154.523442 \r\nL 854.345208 148.846731 \r\nL 854.901733 141.156677 \r\nL 856.571309 132.991416 \r\nL 858.240885 102.717135 \r\nL 860.466985 98.15077 \r\nL 861.023511 98.281474 \r\nL 861.580036 100.855603 \r\nL 862.136561 104.567478 \r\nL 862.693086 109.17042 \r\nL 864.362662 113.604389 \r\nL 864.919187 116.343845 \r\nL 865.475712 117.287403 \r\nL 866.032238 117.252815 \r\nL 868.258338 112.149135 \r\nL 868.814864 107.684508 \r\nL 869.927914 96.090364 \r\nL 872.154015 91.702683 \r\nL 872.71054 88.490717 \r\nL 873.267065 87.751795 \r\nL 873.82359 90.562435 \r\nL 874.380116 97.228004 \r\nL 876.049691 105.907886 \r\nL 877.162742 122.749487 \r\nL 878.275792 128.428347 \r\nL 879.945368 130.05365 \r\nL 881.058418 127.431437 \r\nL 882.171469 117.186247 \r\nL 883.841044 113.607402 \r\nL 884.397569 112.726201 \r\nL 884.954095 112.80771 \r\nL 886.067145 113.55042 \r\nL 887.736721 113.667785 \r\nL 889.406296 111.403571 \r\nL 889.962821 112.206611 \r\nL 891.632397 114.315665 \r\nL 892.188922 118.643299 \r\nL 893.858498 136.274319 \r\nL 895.528074 140.12421 \r\nL 896.084599 142.366593 \r\nL 896.641124 143.961678 \r\nL 897.754174 146.124755 \r\nL 900.5368 147.501037 \r\nL 901.093326 148.725578 \r\nL 901.649851 149.543542 \r\nL 904.432477 148.807439 \r\nL 904.989002 145.025685 \r\nL 905.545527 137.969608 \r\nL 907.215103 128.910953 \r\nL 908.328153 111.545446 \r\nL 908.884679 106.142969 \r\nL 909.441204 103.941446 \r\nL 911.110779 105.112123 \r\nL 911.667305 109.008724 \r\nL 913.33688 124.103603 \r\nL 915.006456 126.048565 \r\nL 915.562981 125.541114 \r\nL 916.119506 123.547981 \r\nL 916.676031 120.611976 \r\nL 918.902132 117.314431 \r\nL 919.458658 115.170613 \r\nL 920.015183 113.962617 \r\nL 920.571708 113.205689 \r\nL 921.128233 112.710167 \r\nL 922.797809 112.133735 \r\nL 923.354334 111.179729 \r\nL 923.910859 109.90106 \r\nL 924.467384 109.269356 \r\nL 925.02391 110.054582 \r\nL 926.693485 112.07404 \r\nL 927.25001 115.065088 \r\nL 927.806536 117.332368 \r\nL 928.363061 117.785902 \r\nL 928.919586 115.30988 \r\nL 930.589162 110.547531 \r\nL 932.258737 94.595976 \r\nL 932.815263 91.737781 \r\nL 934.484838 91.017766 \r\nL 935.041363 92.7484 \r\nL 936.710939 103.431424 \r\nL 940.05009 105.610499 \r\nL 940.606615 106.694064 \r\nL 942.276191 106.860306 \r\nL 942.832716 105.02968 \r\nL 943.389241 101.745385 \r\nL 944.502292 92.014412 \r\nL 946.171868 87.342699 \r\nL 947.284918 79.96485 \r\nL 947.841443 77.764049 \r\nL 948.397968 77.600097 \r\nL 950.067544 81.380865 \r\nL 951.180594 93.533133 \r\nL 951.73712 98.30482 \r\nL 952.293645 100.823147 \r\nL 953.96322 100.829737 \r\nL 954.519746 98.826137 \r\nL 955.632796 92.062479 \r\nL 956.189321 88.924375 \r\nL 957.858897 85.732426 \r\nL 958.971947 78.927713 \r\nL 959.528473 77.008318 \r\nL 960.084998 77.866772 \r\nL 961.754573 83.996999 \r\nL 962.867624 103.950133 \r\nL 963.424149 111.621387 \r\nL 965.65025 114.66711 \r\nL 966.206775 113.091266 \r\nL 966.7633 107.735535 \r\nL 967.876351 92.953142 \r\nL 969.545926 87.557044 \r\nL 970.102451 85.101091 \r\nL 971.215502 85.809512 \r\nL 971.772027 89.368218 \r\nL 973.441603 94.397789 \r\nL 974.554653 104.372867 \r\nL 975.111178 106.885432 \r\nL 975.667704 107.368144 \r\nL 977.337279 106.475543 \r\nL 977.893804 105.799841 \r\nL 978.45033 105.792318 \r\nL 979.006855 106.556347 \r\nL 979.56338 108.506965 \r\nL 981.232956 111.899938 \r\nL 981.789481 115.080435 \r\nL 982.346006 116.007078 \r\nL 982.902531 114.530556 \r\nL 983.459056 111.817654 \r\nL 985.128632 108.631695 \r\nL 986.241683 102.590589 \r\nL 986.798208 100.321512 \r\nL 987.354733 99.590977 \r\nL 989.024309 101.17794 \r\nL 990.693884 109.93371 \r\nL 991.250409 111.528302 \r\nL 992.919985 111.177051 \r\nL 993.47651 109.21299 \r\nL 995.146086 98.390347 \r\nL 996.815661 95.828323 \r\nL 997.372187 94.555416 \r\nL 997.928712 94.12544 \r\nL 999.041762 94.172731 \r\nL 1000.711338 93.533186 \r\nL 1001.267863 92.119109 \r\nL 1001.824388 91.239405 \r\nL 1002.380914 91.193558 \r\nL 1002.937439 92.486675 \r\nL 1004.607014 94.580559 \r\nL 1006.27659 101.873798 \r\nL 1006.833115 102.710069 \r\nL 1008.502691 102.133743 \r\nL 1009.615741 100.155727 \r\nL 1010.172266 96.795685 \r\nL 1010.728792 92.355496 \r\nL 1012.398367 87.579051 \r\nL 1012.954893 83.894152 \r\nL 1013.511418 82.515967 \r\nL 1014.067943 83.719998 \r\nL 1014.624468 87.052466 \r\nL 1016.294044 91.513217 \r\nL 1016.850569 95.879314 \r\nL 1017.407094 99.187537 \r\nL 1017.963619 101.153571 \r\nL 1018.520145 102.295704 \r\nL 1020.18972 103.725181 \r\nL 1021.859296 107.992449 \r\nL 1022.415821 108.66771 \r\nL 1025.198447 108.011214 \r\nL 1025.754972 108.44082 \r\nL 1026.311498 108.383045 \r\nL 1027.981073 107.688631 \r\nL 1028.537598 107.2752 \r\nL 1029.094124 107.312994 \r\nL 1029.650649 108.807347 \r\nL 1030.207174 112.387143 \r\nL 1031.87675 117.706789 \r\nL 1032.9898 128.461208 \r\nL 1033.546325 130.2949 \r\nL 1034.10285 128.814362 \r\nL 1035.772426 125.867662 \r\nL 1036.328951 123.183973 \r\nL 1036.885476 121.232739 \r\nL 1037.442002 119.933632 \r\nL 1037.998527 118.180057 \r\nL 1039.668102 115.849451 \r\nL 1041.894203 106.606053 \r\nL 1043.563779 104.199189 \r\nL 1044.676829 99.611046 \r\nL 1045.233355 98.181905 \r\nL 1045.78988 97.583959 \r\nL 1047.459455 97.987911 \r\nL 1048.015981 97.747682 \r\nL 1048.572506 96.951532 \r\nL 1049.129031 96.455024 \r\nL 1049.685556 96.498791 \r\nL 1051.355132 97.407286 \r\nL 1052.468182 99.196505 \r\nL 1053.024707 99.636066 \r\nL 1055.250808 97.896675 \r\nL 1056.363859 94.92041 \r\nL 1056.920384 94.96756 \r\nL 1057.476909 96.50628 \r\nL 1059.146485 99.260271 \r\nL 1060.81606 109.439263 \r\nL 1061.372586 110.224031 \r\nL 1063.042161 108.46369 \r\nL 1063.598686 104.632107 \r\nL 1065.268262 89.025689 \r\nL 1066.937838 86.276772 \r\nL 1067.494363 85.588049 \r\nL 1068.050888 85.606673 \r\nL 1068.607413 85.262735 \r\nL 1069.163939 85.189366 \r\nL 1070.833514 84.444049 \r\nL 1071.390039 82.597089 \r\nL 1071.946565 79.768019 \r\nL 1073.059615 72.652123 \r\nL 1074.729191 69.447523 \r\nL 1075.285716 67.431606 \r\nL 1075.842241 67.856596 \r\nL 1076.955291 72.586577 \r\nL 1078.624867 74.465306 \r\nL 1079.181392 75.321787 \r\nL 1079.737917 75.620671 \r\nL 1080.294443 75.747358 \r\nL 1082.520544 76.616119 \r\nL 1083.077069 78.46204 \r\nL 1084.746644 82.730946 \r\nL 1086.41622 82.206916 \r\nL 1088.085796 76.361548 \r\nL 1088.642321 75.362964 \r\nL 1090.311896 75.434976 \r\nL 1090.868422 76.559789 \r\nL 1091.424947 78.446834 \r\nL 1091.981472 79.685347 \r\nL 1092.537997 79.287809 \r\nL 1094.207573 76.962119 \r\nL 1095.877149 66.894062 \r\nL 1096.433674 64.384544 \r\nL 1098.103249 63.970338 \r\nL 1098.659775 66.531851 \r\nL 1099.772825 74.186666 \r\nL 1100.32935 75.799565 \r\nL 1101.998926 75.835844 \r\nL 1103.668501 74.451421 \r\nL 1104.225027 71.676938 \r\nL 1105.894602 68.740458 \r\nL 1105.894602 68.740458 \r\n\" style=\"fill:none;stroke:#ff0000;stroke-linecap:square;stroke-width:1.5;\"/>\r\n   </g>\r\n   <g id=\"line2d_14\">\r\n    <path clip-path=\"url(#p7743f5176f)\" d=\"M 91.349148 276.254758 \r\nL 93.575249 288.180795 \r\nL 94.131774 283.874167 \r\nL 94.688299 277.690301 \r\nL 95.244824 274.598358 \r\nL 96.9144 281.996919 \r\nL 97.470925 279.236262 \r\nL 98.02745 281.223939 \r\nL 98.583975 276.806881 \r\nL 99.140501 275.371349 \r\nL 100.810076 278.352853 \r\nL 101.366601 276.806881 \r\nL 101.923127 270.29174 \r\nL 102.479652 266.647673 \r\nL 103.036177 269.40833 \r\nL 104.705753 271.06472 \r\nL 105.262278 267.641501 \r\nL 105.818803 279.015415 \r\nL 106.931854 287.959938 \r\nL 108.601429 282.549053 \r\nL 109.157954 269.518749 \r\nL 109.71448 268.966615 \r\nL 110.271005 271.06472 \r\nL 110.82753 278.904986 \r\nL 112.497106 275.813054 \r\nL 113.053631 281.223939 \r\nL 113.610156 279.346691 \r\nL 114.166681 275.26092 \r\nL 114.723206 268.856197 \r\nL 117.505833 268.745768 \r\nL 118.062358 272.389834 \r\nL 118.618883 273.162815 \r\nL 120.288459 274.708787 \r\nL 120.844984 270.29174 \r\nL 121.401509 275.813054 \r\nL 121.958034 277.690301 \r\nL 122.514559 274.156653 \r\nL 124.184135 275.592196 \r\nL 124.74066 273.935806 \r\nL 125.297185 277.248586 \r\nL 125.853711 277.579872 \r\nL 126.410236 277.469443 \r\nL 128.079811 281.11351 \r\nL 128.636337 285.530557 \r\nL 129.192862 283.101186 \r\nL 129.749387 286.08269 \r\nL 130.305912 287.518233 \r\nL 131.975488 286.966099 \r\nL 132.532013 281.776072 \r\nL 133.088538 278.021577 \r\nL 133.645064 281.11351 \r\nL 134.201589 277.800719 \r\nL 135.871164 276.586034 \r\nL 136.42769 275.592196 \r\nL 136.984215 271.395996 \r\nL 137.54074 276.586034 \r\nL 138.097265 276.254758 \r\nL 139.766841 272.389834 \r\nL 140.323366 272.941968 \r\nL 140.879891 266.316387 \r\nL 141.436416 261.568064 \r\nL 143.662517 261.347207 \r\nL 144.219043 259.028255 \r\nL 144.775568 262.893178 \r\nL 145.332093 251.740122 \r\nL 145.888618 249.200312 \r\nL 147.558194 244.120703 \r\nL 148.114719 242.022608 \r\nL 148.671244 232.305095 \r\nL 149.227769 236.280448 \r\nL 149.784295 236.611723 \r\nL 151.45387 235.286609 \r\nL 152.566921 236.05959 \r\nL 153.123446 237.495133 \r\nL 153.679971 233.630209 \r\nL 155.349547 241.360046 \r\nL 155.906072 238.599389 \r\nL 156.462597 238.047266 \r\nL 157.019122 235.397028 \r\nL 159.245223 227.335915 \r\nL 159.801748 220.268629 \r\nL 160.358274 227.335915 \r\nL 161.471324 230.427847 \r\nL 163.1409 227.556762 \r\nL 163.697425 227.998477 \r\nL 164.25395 225.23782 \r\nL 164.810475 226.121229 \r\nL 165.367 224.575258 \r\nL 167.036576 228.329753 \r\nL 167.593101 237.274275 \r\nL 168.149626 237.826409 \r\nL 168.706152 230.759134 \r\nL 169.262677 235.286609 \r\nL 170.932252 237.936837 \r\nL 171.488778 242.795589 \r\nL 172.045303 241.139199 \r\nL 172.601828 239.924514 \r\nL 173.158353 243.458151 \r\nL 174.827929 243.126875 \r\nL 175.384454 237.384704 \r\nL 175.940979 238.378542 \r\nL 177.05403 240.807923 \r\nL 178.723605 240.807923 \r\nL 179.280131 236.05959 \r\nL 179.836656 235.176181 \r\nL 180.393181 234.955323 \r\nL 180.949706 235.838732 \r\nL 182.619282 235.949161 \r\nL 183.175807 231.86339 \r\nL 183.732332 234.513618 \r\nL 184.288857 231.09041 \r\nL 184.845383 234.4032 \r\nL 186.514958 234.182342 \r\nL 187.071484 236.390866 \r\nL 187.628009 233.630209 \r\nL 188.184534 240.476637 \r\nL 188.741059 233.740638 \r\nL 190.410635 237.71598 \r\nL 190.96716 239.482809 \r\nL 191.523685 245.335399 \r\nL 192.08021 243.237294 \r\nL 192.636736 249.752446 \r\nL 194.306311 252.513103 \r\nL 194.862836 249.642017 \r\nL 195.419362 253.065236 \r\nL 196.532412 249.200312 \r\nL 198.201988 249.42117 \r\nL 198.758513 247.212646 \r\nL 199.315038 249.531599 \r\nL 199.871563 247.212646 \r\nL 200.428089 253.61737 \r\nL 202.097664 260.463797 \r\nL 202.654189 261.12636 \r\nL 203.210715 265.212131 \r\nL 203.76724 267.862359 \r\nL 204.323765 268.856197 \r\nL 205.993341 274.708787 \r\nL 206.549866 268.966615 \r\nL 207.106391 261.457636 \r\nL 207.662916 264.549568 \r\nL 208.219441 263.776588 \r\nL 209.889017 268.856197 \r\nL 210.445542 267.420654 \r\nL 211.002067 269.077044 \r\nL 211.558593 265.432978 \r\nL 212.115118 272.610692 \r\nL 213.784694 269.297902 \r\nL 214.341219 269.40833 \r\nL 214.897744 271.175149 \r\nL 215.454269 274.708787 \r\nL 216.010794 276.91731 \r\nL 217.68037 278.57371 \r\nL 218.236895 280.340529 \r\nL 218.79342 283.101186 \r\nL 219.349946 283.65332 \r\nL 219.906471 287.959938 \r\nL 221.576046 292.487418 \r\nL 222.132572 292.929123 \r\nL 222.689097 289.837185 \r\nL 223.245622 281.11351 \r\nL 223.802147 280.009243 \r\nL 225.471723 278.132006 \r\nL 226.028248 284.757576 \r\nL 226.584773 282.217777 \r\nL 227.141299 282.880328 \r\nL 227.697824 285.640985 \r\nL 229.923925 284.205443 \r\nL 230.48045 286.966099 \r\nL 231.036975 291.604009 \r\nL 231.5935 295.027223 \r\nL 233.263076 294.364666 \r\nL 233.819601 295.137647 \r\nL 234.376126 289.726756 \r\nL 235.489177 295.68978 \r\nL 237.158752 299.002565 \r\nL 237.715277 302.646637 \r\nL 238.271803 304.303027 \r\nL 238.828328 302.75706 \r\nL 239.384853 304.303027 \r\nL 241.054429 308.499226 \r\nL 241.610954 306.842831 \r\nL 242.167479 299.665127 \r\nL 242.724004 302.094503 \r\nL 243.28053 293.812533 \r\nL 244.950105 293.260399 \r\nL 245.50663 289.174633 \r\nL 246.619681 282.990757 \r\nL 247.176206 282.438624 \r\nL 249.958832 291.714433 \r\nL 250.515357 291.272728 \r\nL 251.071882 291.824861 \r\nL 252.741458 291.824861 \r\nL 253.297983 290.720594 \r\nL 253.854509 294.033385 \r\nL 254.411034 291.05187 \r\nL 254.967559 291.383157 \r\nL 256.637135 292.929123 \r\nL 257.19366 295.68978 \r\nL 257.750185 291.824861 \r\nL 258.30671 295.579351 \r\nL 258.863235 294.47509 \r\nL 261.089336 285.972272 \r\nL 261.645861 290.389319 \r\nL 262.202387 290.058043 \r\nL 262.758912 293.260399 \r\nL 264.428487 292.266566 \r\nL 264.985013 295.579351 \r\nL 265.541538 294.364666 \r\nL 266.098063 295.910632 \r\nL 266.654588 299.333846 \r\nL 268.324164 294.585518 \r\nL 269.437214 293.260399 \r\nL 269.99374 293.039547 \r\nL 272.21984 290.389319 \r\nL 272.776366 285.751414 \r\nL 273.332891 292.37699 \r\nL 273.889416 292.156137 \r\nL 274.445941 295.68978 \r\nL 276.115517 294.916794 \r\nL 276.672042 296.904471 \r\nL 277.228567 296.573189 \r\nL 277.785092 291.49358 \r\nL 278.341618 296.573189 \r\nL 280.011193 300.217256 \r\nL 280.567719 300.879813 \r\nL 281.124244 295.137647 \r\nL 282.237294 299.554699 \r\nL 283.90687 299.996403 \r\nL 284.463395 297.677451 \r\nL 285.01992 299.112994 \r\nL 285.576445 300.106832 \r\nL 286.132971 302.094503 \r\nL 287.802546 306.290703 \r\nL 288.915597 303.088341 \r\nL 291.698223 305.628146 \r\nL 292.254748 305.738569 \r\nL 292.811273 305.628146 \r\nL 295.593899 303.750898 \r\nL 296.150424 305.848998 \r\nL 296.70695 308.940931 \r\nL 297.263475 310.486897 \r\nL 297.82 310.376474 \r\nL 299.489576 312.364145 \r\nL 300.046101 318.548016 \r\nL 300.602626 321.419102 \r\nL 301.159151 316.781197 \r\nL 301.715676 322.523363 \r\nL 303.941777 328.155106 \r\nL 304.498302 330.69491 \r\nL 305.054828 329.921925 \r\nL 305.611353 330.915763 \r\nL 307.837454 333.234715 \r\nL 308.393979 329.148939 \r\nL 308.950504 328.817663 \r\nL 309.507029 326.16743 \r\nL 311.176605 327.492549 \r\nL 311.73313 332.130448 \r\nL 312.289655 330.032353 \r\nL 312.846181 327.38212 \r\nL 313.402706 329.48022 \r\nL 316.185332 332.020024 \r\nL 316.741857 332.903434 \r\nL 317.298382 330.474058 \r\nL 318.967958 329.148939 \r\nL 319.524483 330.584482 \r\nL 320.081008 327.934253 \r\nL 320.637534 328.928086 \r\nL 321.194059 330.363629 \r\nL 322.863634 323.958906 \r\nL 323.42016 325.28402 \r\nL 323.976685 325.836154 \r\nL 324.53321 325.615301 \r\nL 325.089735 325.836154 \r\nL 326.759311 322.854644 \r\nL 327.315836 320.977397 \r\nL 327.872361 317.222902 \r\nL 328.428886 307.063684 \r\nL 328.985412 299.88598 \r\nL 330.654987 298.229585 \r\nL 331.211512 297.125323 \r\nL 331.768038 295.68978 \r\nL 332.324563 291.824861 \r\nL 332.881088 290.27889 \r\nL 334.550664 297.898303 \r\nL 335.107189 306.621979 \r\nL 335.663714 299.775551 \r\nL 336.220239 290.168461 \r\nL 336.776765 289.947614 \r\nL 338.44634 290.610166 \r\nL 339.002865 290.058043 \r\nL 339.559391 293.702104 \r\nL 340.115916 293.370828 \r\nL 342.342017 286.413976 \r\nL 342.898542 285.861843 \r\nL 343.455067 286.413976 \r\nL 344.011592 287.849509 \r\nL 344.568117 287.297386 \r\nL 346.237693 296.352337 \r\nL 346.794218 293.481251 \r\nL 347.350743 295.910632 \r\nL 347.907269 294.585518 \r\nL 348.463794 288.401642 \r\nL 350.13337 286.966099 \r\nL 350.689895 279.788396 \r\nL 351.24642 274.819215 \r\nL 351.802945 278.463282 \r\nL 352.35947 272.610692 \r\nL 354.029046 277.579872 \r\nL 354.585571 273.494101 \r\nL 355.142096 274.929644 \r\nL 356.255147 271.94813 \r\nL 357.924722 276.586034 \r\nL 358.481248 272.831539 \r\nL 359.037773 266.426816 \r\nL 359.594298 266.647673 \r\nL 360.150823 266.647673 \r\nL 361.820399 267.310225 \r\nL 362.376924 271.616854 \r\nL 362.933449 270.070882 \r\nL 363.489975 271.285567 \r\nL 364.0465 268.304063 \r\nL 365.716075 274.929644 \r\nL 366.272601 266.868521 \r\nL 366.829126 266.426816 \r\nL 367.385651 271.506425 \r\nL 367.942176 275.150491 \r\nL 369.611752 271.94813 \r\nL 370.168277 274.708787 \r\nL 370.724802 276.696463 \r\nL 371.281327 280.671805 \r\nL 371.837853 281.334367 \r\nL 373.507428 285.751414 \r\nL 374.063953 285.420138 \r\nL 374.620479 283.874167 \r\nL 375.733529 288.732929 \r\nL 377.403105 287.076528 \r\nL 377.95963 290.831023 \r\nL 379.07268 287.739091 \r\nL 379.629206 284.978434 \r\nL 381.298781 286.193119 \r\nL 381.855306 284.4263 \r\nL 382.411832 275.923472 \r\nL 382.968357 278.242424 \r\nL 383.524882 282.659481 \r\nL 385.194458 284.4263 \r\nL 385.750983 287.959938 \r\nL 386.307508 285.640985 \r\nL 386.864033 285.751414 \r\nL 387.420558 280.782234 \r\nL 389.090134 278.242424 \r\nL 389.646659 274.377511 \r\nL 390.203185 276.475605 \r\nL 390.75971 272.831539 \r\nL 391.316235 277.469443 \r\nL 392.985811 282.659481 \r\nL 393.542336 278.021577 \r\nL 394.098861 274.708787 \r\nL 394.655386 275.592196 \r\nL 395.211911 271.175149 \r\nL 396.881487 270.623016 \r\nL 397.438012 277.027739 \r\nL 397.994537 274.708787 \r\nL 398.551063 274.046224 \r\nL 399.107588 270.954291 \r\nL 400.777163 265.212131 \r\nL 401.333689 262.009769 \r\nL 401.890214 262.230616 \r\nL 402.446739 258.917826 \r\nL 403.003264 257.923988 \r\nL 404.67284 252.071398 \r\nL 405.229365 249.531599 \r\nL 406.342416 248.758607 \r\nL 406.898941 247.76478 \r\nL 408.568516 246.770942 \r\nL 409.125042 248.427332 \r\nL 409.681567 252.513103 \r\nL 410.238092 253.286094 \r\nL 410.794617 248.53776 \r\nL 412.464193 255.384188 \r\nL 413.020718 254.169503 \r\nL 413.577243 248.206485 \r\nL 414.133768 246.991789 \r\nL 414.690294 250.967141 \r\nL 416.359869 248.096056 \r\nL 416.916395 248.427332 \r\nL 417.47292 251.960969 \r\nL 418.029445 245.997951 \r\nL 418.58597 247.102218 \r\nL 420.255546 243.678998 \r\nL 420.812071 241.691333 \r\nL 421.368596 238.709818 \r\nL 421.925121 237.384704 \r\nL 422.481647 238.378542 \r\nL 424.151222 243.237294 \r\nL 424.707747 239.703656 \r\nL 425.264273 242.685171 \r\nL 425.820798 241.249628 \r\nL 426.377323 241.02877 \r\nL 428.046899 237.495133 \r\nL 428.603424 235.065752 \r\nL 429.159949 237.71598 \r\nL 429.716474 236.05959 \r\nL 430.273 229.765296 \r\nL 431.942575 226.89421 \r\nL 432.4991 225.23782 \r\nL 433.612151 222.587581 \r\nL 434.168676 230.427847 \r\nL 435.838252 225.569096 \r\nL 436.394777 235.949161 \r\nL 436.951302 234.844905 \r\nL 437.507827 230.427847 \r\nL 438.064352 234.292771 \r\nL 439.733928 235.507456 \r\nL 440.290453 230.538276 \r\nL 440.846978 228.771457 \r\nL 441.403504 225.016962 \r\nL 441.960029 228.440182 \r\nL 443.629605 231.642543 \r\nL 444.18613 234.734476 \r\nL 444.742655 226.673352 \r\nL 445.29918 231.311257 \r\nL 447.525281 225.348238 \r\nL 448.081806 224.796105 \r\nL 449.194857 212.870068 \r\nL 451.420957 205.913222 \r\nL 451.977483 209.667706 \r\nL 453.090533 205.581935 \r\nL 453.647058 200.060621 \r\nL 455.316634 192.993347 \r\nL 455.873159 187.251175 \r\nL 456.429684 185.042641 \r\nL 456.98621 183.717538 \r\nL 457.542735 181.398575 \r\nL 459.21231 178.637918 \r\nL 459.768836 180.846452 \r\nL 460.325361 179.742185 \r\nL 461.438411 179.852614 \r\nL 463.107987 184.269661 \r\nL 463.664512 193.435041 \r\nL 464.777562 201.496175 \r\nL 465.334088 203.042136 \r\nL 467.003663 189.570138 \r\nL 467.560188 191.447364 \r\nL 468.116714 195.754003 \r\nL 468.673239 208.453021 \r\nL 469.229764 224.906534 \r\nL 470.89934 225.016962 \r\nL 472.01239 216.84542 \r\nL 472.568915 221.814601 \r\nL 473.125441 219.274791 \r\nL 475.351541 203.704688 \r\nL 475.908067 204.588097 \r\nL 477.021117 210.661544 \r\nL 478.690693 208.894726 \r\nL 479.247218 217.72883 \r\nL 479.803743 202.931707 \r\nL 480.360268 209.115583 \r\nL 480.916793 204.808955 \r\nL 482.586369 206.686202 \r\nL 483.142894 201.275317 \r\nL 483.69942 204.477679 \r\nL 484.255945 206.244498 \r\nL 484.81247 207.569612 \r\nL 486.482046 207.348754 \r\nL 487.038571 209.005154 \r\nL 487.595096 216.84542 \r\nL 488.151621 215.630725 \r\nL 488.708146 216.624563 \r\nL 490.377722 221.04162 \r\nL 491.490772 221.262467 \r\nL 492.047298 224.906534 \r\nL 492.603823 222.366734 \r\nL 494.273398 220.379058 \r\nL 494.829924 220.489487 \r\nL 495.386449 216.403716 \r\nL 495.942974 215.409878 \r\nL 498.169075 217.72883 \r\nL 498.7256 208.453021 \r\nL 499.282125 208.453021 \r\nL 499.838651 205.692364 \r\nL 500.395176 206.686202 \r\nL 502.064751 210.330268 \r\nL 503.177802 206.686202 \r\nL 503.734327 204.035974 \r\nL 504.290852 206.465345 \r\nL 505.960428 205.692364 \r\nL 506.516953 204.919383 \r\nL 507.630003 205.471506 \r\nL 508.186529 202.931707 \r\nL 509.856104 203.042136 \r\nL 510.41263 202.489992 \r\nL 511.52568 205.140231 \r\nL 512.082205 207.127907 \r\nL 513.751781 215.741153 \r\nL 514.308306 213.753477 \r\nL 514.864831 213.753477 \r\nL 515.421356 215.18902 \r\nL 515.977882 210.21984 \r\nL 517.647457 214.416039 \r\nL 518.203982 217.287125 \r\nL 518.760508 212.870068 \r\nL 519.317033 213.422201 \r\nL 519.873558 207.569612 \r\nL 521.543134 207.127907 \r\nL 522.099659 204.919383 \r\nL 523.212709 204.477679 \r\nL 523.769234 207.238336 \r\nL 525.43881 203.815117 \r\nL 525.995335 201.937869 \r\nL 526.551861 206.244498 \r\nL 527.108386 207.790459 \r\nL 527.664911 211.986658 \r\nL 530.447537 208.232163 \r\nL 531.004062 212.75965 \r\nL 531.560587 210.440697 \r\nL 533.230163 212.870068 \r\nL 533.786688 211.986658 \r\nL 534.343213 218.943515 \r\nL 534.899739 219.495649 \r\nL 535.456264 221.593743 \r\nL 537.125839 220.931191 \r\nL 537.682365 229.544438 \r\nL 538.23889 222.808439 \r\nL 539.35194 234.292771 \r\nL 541.021516 229.434009 \r\nL 541.578041 236.05959 \r\nL 542.134566 228.771457 \r\nL 543.247617 230.759134 \r\nL 544.917192 227.556762 \r\nL 545.473718 225.569096 \r\nL 546.030243 220.047782 \r\nL 546.586768 220.047782 \r\nL 547.143293 219.606077 \r\nL 548.812869 217.618401 \r\nL 549.369394 215.630725 \r\nL 549.925919 218.722668 \r\nL 550.482444 219.164373 \r\nL 551.03897 217.287125 \r\nL 552.708545 214.636897 \r\nL 553.265071 217.507972 \r\nL 553.821596 217.839259 \r\nL 554.378121 224.133553 \r\nL 556.604222 221.92503 \r\nL 557.160747 223.912695 \r\nL 557.717272 229.434009 \r\nL 558.273797 226.342076 \r\nL 560.499898 224.685686 \r\nL 561.056423 221.262467 \r\nL 561.612949 225.016962 \r\nL 562.169474 227.998477 \r\nL 562.725999 225.348238 \r\nL 564.9521 225.127391 \r\nL 565.508625 223.250144 \r\nL 566.06515 229.434009 \r\nL 566.621676 222.69801 \r\nL 568.291251 224.133553 \r\nL 568.847776 223.470991 \r\nL 569.404302 216.955849 \r\nL 569.960827 215.962011 \r\nL 570.517352 209.005154 \r\nL 572.186928 206.465345 \r\nL 572.743453 206.244498 \r\nL 573.299978 207.238336 \r\nL 573.856503 234.4032 \r\nL 574.413028 229.213162 \r\nL 576.082604 231.642543 \r\nL 576.639129 230.648705 \r\nL 577.195654 224.464829 \r\nL 577.75218 227.888048 \r\nL 578.308705 228.5506 \r\nL 579.978281 228.5506 \r\nL 580.534806 232.084248 \r\nL 581.091331 236.501295 \r\nL 581.647856 238.047266 \r\nL 582.204381 235.507456 \r\nL 583.873957 234.071914 \r\nL 584.430482 234.071914 \r\nL 584.987007 237.495133 \r\nL 585.543533 237.826409 \r\nL 586.100058 237.71598 \r\nL 587.769633 237.163857 \r\nL 588.326159 236.722152 \r\nL 588.882684 240.25579 \r\nL 589.995734 244.010285 \r\nL 591.66531 243.899856 \r\nL 592.221835 248.648189 \r\nL 592.77836 251.07756 \r\nL 593.334886 246.660513 \r\nL 593.891411 247.875198 \r\nL 595.560986 244.120703 \r\nL 596.117512 244.783265 \r\nL 596.674037 246.218808 \r\nL 597.230562 245.114541 \r\nL 597.787087 243.016447 \r\nL 599.456663 243.126875 \r\nL 600.013188 242.353884 \r\nL 600.569713 244.783265 \r\nL 601.126238 245.22497 \r\nL 601.682764 247.875198 \r\nL 603.352339 247.323075 \r\nL 603.908864 243.458151 \r\nL 604.46539 236.722152 \r\nL 605.021915 237.495133 \r\nL 605.57844 235.507456 \r\nL 607.248016 237.274275 \r\nL 607.804541 236.722152 \r\nL 608.361066 233.519791 \r\nL 608.917591 234.955323 \r\nL 609.474117 239.482809 \r\nL 611.143692 237.384704 \r\nL 611.700217 233.630209 \r\nL 612.256743 235.397028 \r\nL 612.813268 236.05959 \r\nL 613.369793 234.624047 \r\nL 615.039369 232.857228 \r\nL 615.595894 234.734476 \r\nL 616.152419 230.427847 \r\nL 616.708944 232.636371 \r\nL 617.265469 231.642543 \r\nL 618.935045 229.986143 \r\nL 619.49157 230.648705 \r\nL 620.048096 230.317419 \r\nL 620.604621 233.961495 \r\nL 621.161146 236.611723 \r\nL 622.830722 235.176181 \r\nL 623.387247 234.4032 \r\nL 623.943772 234.624047 \r\nL 624.500297 235.507456 \r\nL 625.056822 229.434009 \r\nL 626.726398 232.305095 \r\nL 627.282923 227.335915 \r\nL 627.839448 227.66719 \r\nL 628.395974 227.225486 \r\nL 628.952499 226.342076 \r\nL 630.622074 226.452505 \r\nL 631.1786 226.673352 \r\nL 631.735125 231.09041 \r\nL 632.29165 228.881886 \r\nL 632.848175 224.796105 \r\nL 634.517751 223.139715 \r\nL 635.074276 220.489487 \r\nL 635.630801 213.753477 \r\nL 636.743852 217.176696 \r\nL 638.413427 214.084764 \r\nL 638.969953 215.409878 \r\nL 639.526478 213.643059 \r\nL 640.639528 213.53263 \r\nL 642.309104 213.53263 \r\nL 642.865629 212.428363 \r\nL 643.422154 204.36725 \r\nL 643.978679 206.575773 \r\nL 644.535205 206.354926 \r\nL 646.20478 204.698526 \r\nL 647.317831 210.551116 \r\nL 647.874356 210.21984 \r\nL 648.430881 210.661544 \r\nL 650.100457 209.557288 \r\nL 650.656982 203.152565 \r\nL 651.213507 206.686202 \r\nL 651.770032 204.035974 \r\nL 652.326558 206.354926 \r\nL 653.996133 204.146392 \r\nL 654.552658 200.833602 \r\nL 655.109184 202.048298 \r\nL 656.222234 202.048298 \r\nL 658.448335 201.496175 \r\nL 659.00486 201.164888 \r\nL 659.561385 201.275317 \r\nL 660.117911 200.502337 \r\nL 661.787486 200.723173 \r\nL 662.344011 197.299965 \r\nL 662.900537 194.981023 \r\nL 663.457062 194.870594 \r\nL 664.013587 191.557793 \r\nL 665.683163 194.31845 \r\nL 666.239688 194.428879 \r\nL 666.796213 192.993347 \r\nL 667.909263 192.551631 \r\nL 669.578839 187.140746 \r\nL 670.135364 197.410393 \r\nL 670.691889 192.441203 \r\nL 671.248415 194.981023 \r\nL 671.80494 194.981023 \r\nL 673.474516 195.864432 \r\nL 674.031041 210.109411 \r\nL 674.587566 210.109411 \r\nL 675.144091 205.029802 \r\nL 675.700616 202.71085 \r\nL 677.926717 204.035974 \r\nL 678.483242 201.717011 \r\nL 679.039768 200.833602 \r\nL 679.596293 201.82744 \r\nL 681.265868 204.36725 \r\nL 681.822394 204.698526 \r\nL 682.378919 210.330268 \r\nL 682.935444 209.778135 \r\nL 683.491969 207.238336 \r\nL 685.161545 208.673879 \r\nL 685.71807 210.551116 \r\nL 686.274595 208.232163 \r\nL 686.83112 211.103249 \r\nL 687.387646 210.109411 \r\nL 689.057221 209.778135 \r\nL 689.613747 208.56345 \r\nL 690.170272 211.986658 \r\nL 690.726797 213.863906 \r\nL 691.283322 214.526468 \r\nL 692.952898 211.544954 \r\nL 693.509423 212.428363 \r\nL 694.065948 211.324107 \r\nL 694.622473 204.477679 \r\nL 695.178999 205.692364 \r\nL 697.405099 203.262983 \r\nL 697.961625 202.379584 \r\nL 698.51815 201.82744 \r\nL 699.074675 201.82744 \r\nL 701.300776 196.85827 \r\nL 701.857301 195.201859 \r\nL 702.413826 194.870594 \r\nL 702.970352 193.766327 \r\nL 704.639927 191.557793 \r\nL 705.196452 191.557793 \r\nL 705.752978 194.097613 \r\nL 706.309503 189.128423 \r\nL 706.866028 188.5763 \r\nL 708.535604 188.024156 \r\nL 709.092129 184.711376 \r\nL 709.648654 176.871099 \r\nL 710.205179 178.417081 \r\nL 710.761704 177.975366 \r\nL 712.43128 175.656425 \r\nL 712.987805 178.196224 \r\nL 713.54433 166.049329 \r\nL 714.100856 166.049329 \r\nL 714.657381 159.534177 \r\nL 716.326957 160.417587 \r\nL 716.883482 164.392939 \r\nL 717.440007 162.073977 \r\nL 717.996532 153.019025 \r\nL 718.553057 159.092483 \r\nL 720.222633 169.362109 \r\nL 720.779158 158.871626 \r\nL 721.335683 164.945062 \r\nL 721.892209 169.251701 \r\nL 722.448734 172.343624 \r\nL 725.787885 165.386778 \r\nL 726.34441 165.16592 \r\nL 728.013986 158.209074 \r\nL 728.570511 153.902435 \r\nL 729.127036 156.00054 \r\nL 729.683562 150.589655 \r\nL 730.240087 146.393445 \r\nL 731.909662 141.976398 \r\nL 732.466188 142.197255 \r\nL 733.022713 142.638971 \r\nL 733.579238 147.387283 \r\nL 734.135763 142.086827 \r\nL 735.805339 135.350817 \r\nL 736.918389 140.320008 \r\nL 737.474914 139.988721 \r\nL 738.03144 132.369324 \r\nL 739.701015 133.031875 \r\nL 740.25754 135.461246 \r\nL 740.814066 132.479752 \r\nL 741.370591 144.29536 \r\nL 741.927116 142.970236 \r\nL 743.596692 148.49155 \r\nL 744.153217 145.95175 \r\nL 744.709742 136.123819 \r\nL 745.266267 139.767885 \r\nL 745.822793 139.436598 \r\nL 747.492368 136.344655 \r\nL 748.048893 142.859807 \r\nL 748.605419 145.510035 \r\nL 749.161944 143.191094 \r\nL 751.388045 148.822836 \r\nL 751.94457 150.920941 \r\nL 752.501095 154.565008 \r\nL 753.05762 146.062179 \r\nL 753.614145 144.626626 \r\nL 755.283721 152.908597 \r\nL 755.840246 143.301522 \r\nL 756.396772 138.884475 \r\nL 756.953297 140.209579 \r\nL 757.509822 145.510035 \r\nL 759.179398 151.914758 \r\nL 759.735923 147.387283 \r\nL 760.292448 138.884475 \r\nL 760.848973 134.467408 \r\nL 761.405498 132.700589 \r\nL 763.075074 131.375485 \r\nL 763.631599 132.258895 \r\nL 764.188124 139.657456 \r\nL 764.74465 129.719095 \r\nL 765.301175 128.835686 \r\nL 766.97075 125.9646 \r\nL 768.640326 131.706751 \r\nL 769.196851 133.694427 \r\nL 770.866427 129.498238 \r\nL 771.422952 126.627152 \r\nL 771.979477 105.977429 \r\nL 772.536003 95.266088 \r\nL 773.092528 98.689297 \r\nL 774.762103 89.855203 \r\nL 775.875154 77.156186 \r\nL 776.431679 93.057554 \r\nL 776.988204 96.370355 \r\nL 778.65778 102.995936 \r\nL 779.214305 106.750431 \r\nL 779.77083 122.651799 \r\nL 780.327355 157.877787 \r\nL 780.883881 160.969731 \r\nL 782.553456 192.882918 \r\nL 783.109982 166.491044 \r\nL 783.666507 170.024682 \r\nL 784.779557 201.164888 \r\nL 786.449133 186.036479 \r\nL 787.005658 196.416555 \r\nL 787.562183 199.287641 \r\nL 788.675234 211.213678 \r\nL 790.901334 208.894726 \r\nL 791.45786 212.097087 \r\nL 792.014385 212.870068 \r\nL 792.57091 214.305611 \r\nL 794.240486 219.495649 \r\nL 795.353536 200.612765 \r\nL 795.910061 212.870068 \r\nL 796.466587 212.75965 \r\nL 798.136162 206.244498 \r\nL 798.692687 202.489992 \r\nL 799.249213 196.85827 \r\nL 799.805738 196.306126 \r\nL 800.362263 189.790974 \r\nL 802.031839 186.699052 \r\nL 802.588364 186.367766 \r\nL 803.144889 185.15307 \r\nL 803.701414 182.392413 \r\nL 804.257939 181.509004 \r\nL 806.48404 183.607109 \r\nL 807.040565 187.361604 \r\nL 807.597091 181.398575 \r\nL 808.153616 179.631756 \r\nL 809.823192 182.171577 \r\nL 810.379717 177.64408 \r\nL 810.936242 180.294329 \r\nL 811.492767 176.429405 \r\nL 812.049292 166.601452 \r\nL 813.718868 166.932739 \r\nL 814.275393 162.515692 \r\nL 814.831918 159.202912 \r\nL 815.388444 165.276349 \r\nL 815.944969 161.300996 \r\nL 817.614544 159.975893 \r\nL 818.17107 161.85314 \r\nL 818.727595 158.650768 \r\nL 819.28412 154.233721 \r\nL 819.840645 146.503873 \r\nL 821.510221 147.276854 \r\nL 822.066746 150.920941 \r\nL 822.623271 157.215236 \r\nL 823.179797 155.006702 \r\nL 823.736322 163.288672 \r\nL 825.405897 158.319482 \r\nL 825.962423 158.982054 \r\nL 826.518948 169.251701 \r\nL 827.075473 170.355947 \r\nL 827.631998 175.766853 \r\nL 829.301574 176.871099 \r\nL 829.858099 183.938395 \r\nL 830.414624 176.981528 \r\nL 830.971149 181.398575 \r\nL 831.527675 177.533672 \r\nL 833.19725 173.006196 \r\nL 833.753775 176.981528 \r\nL 834.310301 166.491044 \r\nL 834.866826 172.012358 \r\nL 835.423351 166.932739 \r\nL 837.092927 169.803824 \r\nL 837.649452 173.668748 \r\nL 838.205977 172.564481 \r\nL 838.762502 169.914253 \r\nL 840.988603 166.932739 \r\nL 841.545128 175.325138 \r\nL 842.101654 170.355947 \r\nL 842.658179 173.006196 \r\nL 843.214704 172.122766 \r\nL 844.88428 165.386778 \r\nL 845.440805 156.00054 \r\nL 845.99733 158.982054 \r\nL 846.553855 160.196729 \r\nL 847.11038 157.215236 \r\nL 848.779956 158.761197 \r\nL 849.336481 157.877787 \r\nL 849.893007 156.663092 \r\nL 850.449532 142.638971 \r\nL 851.006057 146.724731 \r\nL 852.675633 147.718569 \r\nL 853.232158 127.62099 \r\nL 853.788683 116.909628 \r\nL 854.345208 114.369829 \r\nL 854.901733 115.032402 \r\nL 856.571309 85.87985 \r\nL 857.127834 83.45048 \r\nL 858.240885 100.345687 \r\nL 860.466985 95.04523 \r\nL 861.023511 84.444318 \r\nL 861.580036 87.53624 \r\nL 862.136561 95.818211 \r\nL 862.693086 93.388841 \r\nL 864.362662 86.652831 \r\nL 864.919187 90.296897 \r\nL 865.475712 96.039069 \r\nL 866.032238 88.971794 \r\nL 866.588763 74.837223 \r\nL 868.258338 87.867527 \r\nL 868.814864 70.420176 \r\nL 869.371389 74.616365 \r\nL 869.927914 77.929166 \r\nL 872.154015 68.653357 \r\nL 873.82359 99.683135 \r\nL 874.380116 98.46846 \r\nL 876.049691 99.903992 \r\nL 876.606216 111.940458 \r\nL 877.162742 102.443792 \r\nL 878.275792 94.713965 \r\nL 879.945368 92.505431 \r\nL 881.058418 101.670811 \r\nL 881.614943 101.891669 \r\nL 882.171469 110.504905 \r\nL 883.841044 111.830029 \r\nL 884.397569 97.695459 \r\nL 884.954095 99.35187 \r\nL 885.51062 101.670811 \r\nL 886.067145 98.46846 \r\nL 887.736721 93.167983 \r\nL 888.293246 99.793564 \r\nL 888.849771 97.364193 \r\nL 889.406296 108.075534 \r\nL 889.962821 106.087858 \r\nL 891.632397 120.774552 \r\nL 892.188922 122.430942 \r\nL 892.745448 122.320534 \r\nL 893.301973 121.657961 \r\nL 893.858498 125.081191 \r\nL 895.528074 127.068846 \r\nL 896.084599 136.675942 \r\nL 896.641124 133.915285 \r\nL 897.197649 142.307684 \r\nL 897.754174 141.645132 \r\nL 900.5368 140.209579 \r\nL 901.093326 140.320008 \r\nL 901.649851 129.166951 \r\nL 904.432477 113.928135 \r\nL 904.989002 107.412983 \r\nL 905.545527 106.640002 \r\nL 907.215103 102.333363 \r\nL 907.771628 103.989774 \r\nL 908.328153 98.247603 \r\nL 908.884679 100.676973 \r\nL 909.441204 103.658488 \r\nL 911.110779 105.204449 \r\nL 912.22383 105.535735 \r\nL 912.780355 101.78124 \r\nL 913.33688 99.131012 \r\nL 915.006456 97.695459 \r\nL 915.562981 102.112526 \r\nL 916.119506 98.799726 \r\nL 916.676031 97.58503 \r\nL 918.902132 106.087858 \r\nL 919.458658 99.462277 \r\nL 920.015183 96.70162 \r\nL 920.571708 97.143336 \r\nL 921.128233 94.713965 \r\nL 922.797809 92.174145 \r\nL 923.354334 91.622022 \r\nL 923.910859 98.137174 \r\nL 924.467384 102.554221 \r\nL 925.02391 102.112526 \r\nL 926.693485 105.314877 \r\nL 927.25001 95.597374 \r\nL 927.806536 91.953308 \r\nL 928.363061 82.014926 \r\nL 928.919586 83.229622 \r\nL 930.589162 84.113032 \r\nL 931.145687 77.266614 \r\nL 931.702212 81.021088 \r\nL 932.258737 77.045757 \r\nL 932.815263 80.027271 \r\nL 935.041363 86.100708 \r\nL 935.597889 80.579394 \r\nL 936.154414 80.800252 \r\nL 936.710939 84.775583 \r\nL 940.05009 84.002603 \r\nL 940.606615 85.10687 \r\nL 942.276191 73.180833 \r\nL 942.832716 75.94149 \r\nL 943.389241 69.315909 \r\nL 943.945767 68.322071 \r\nL 944.502292 67.659519 \r\nL 946.171868 62.248634 \r\nL 946.728393 57.169014 \r\nL 947.284918 59.708835 \r\nL 947.841443 64.23631 \r\nL 948.397968 81.462804 \r\nL 950.067544 77.708308 \r\nL 950.624069 63.46333 \r\nL 951.180594 77.708308 \r\nL 951.73712 69.757624 \r\nL 952.293645 69.757624 \r\nL 953.96322 70.420176 \r\nL 954.519746 67.217804 \r\nL 955.076271 75.499775 \r\nL 955.632796 65.230149 \r\nL 956.189321 61.806919 \r\nL 957.858897 56.616891 \r\nL 958.415422 57.61073 \r\nL 958.971947 61.806919 \r\nL 959.528473 70.420176 \r\nL 960.084998 94.382679 \r\nL 961.754573 93.278412 \r\nL 962.311099 84.554747 \r\nL 962.867624 84.22346 \r\nL 963.424149 74.837223 \r\nL 965.65025 76.604041 \r\nL 966.206775 73.953813 \r\nL 966.7633 74.837223 \r\nL 967.319825 72.62871 \r\nL 967.876351 78.702147 \r\nL 969.545926 77.377022 \r\nL 970.102451 80.248108 \r\nL 971.215502 84.444318 \r\nL 971.772027 83.119193 \r\nL 973.441603 84.002603 \r\nL 973.998128 88.640507 \r\nL 974.554653 77.377022 \r\nL 975.111178 83.340051 \r\nL 975.667704 84.996441 \r\nL 977.337279 93.609698 \r\nL 977.893804 92.505431 \r\nL 978.45033 93.830556 \r\nL 979.56338 107.081696 \r\nL 981.232956 97.805887 \r\nL 981.789481 87.094546 \r\nL 982.346006 89.303059 \r\nL 982.902531 94.27225 \r\nL 983.459056 91.511593 \r\nL 985.128632 89.855203 \r\nL 985.685157 83.671337 \r\nL 986.798208 90.849041 \r\nL 987.354733 97.474622 \r\nL 989.024309 92.61586 \r\nL 989.580834 90.296897 \r\nL 990.137359 94.051392 \r\nL 991.250409 84.113032 \r\nL 992.919985 85.327727 \r\nL 993.47651 79.695985 \r\nL 994.033035 83.119193 \r\nL 994.589561 79.475127 \r\nL 995.146086 80.800252 \r\nL 996.815661 80.248108 \r\nL 997.372187 76.493613 \r\nL 997.928712 75.720632 \r\nL 999.041762 67.328233 \r\nL 1000.711338 67.659519 \r\nL 1001.267863 75.831061 \r\nL 1001.824388 74.064242 \r\nL 1002.380914 78.923004 \r\nL 1002.937439 76.935328 \r\nL 1004.607014 78.591718 \r\nL 1005.16354 83.45048 \r\nL 1005.720065 79.475127 \r\nL 1006.27659 77.156186 \r\nL 1006.833115 77.045757 \r\nL 1008.502691 74.2851 \r\nL 1009.615741 69.647195 \r\nL 1010.172266 66.003129 \r\nL 1010.728792 64.567576 \r\nL 1012.398367 68.4325 \r\nL 1012.954893 72.297423 \r\nL 1014.067943 75.831061 \r\nL 1014.624468 76.604041 \r\nL 1016.294044 76.051919 \r\nL 1016.850569 75.720632 \r\nL 1017.407094 77.59788 \r\nL 1017.963619 82.677499 \r\nL 1018.520145 90.95947 \r\nL 1020.18972 88.309242 \r\nL 1021.302771 91.622022 \r\nL 1021.859296 89.744774 \r\nL 1022.415821 86.76326 \r\nL 1024.085397 97.474622 \r\nL 1024.641922 93.830556 \r\nL 1025.198447 96.922478 \r\nL 1025.754972 88.640507 \r\nL 1026.311498 89.413488 \r\nL 1027.981073 96.370355 \r\nL 1028.537598 94.824373 \r\nL 1029.094124 104.431468 \r\nL 1029.650649 112.050887 \r\nL 1030.207174 115.584525 \r\nL 1031.87675 114.2594 \r\nL 1032.433275 114.369829 \r\nL 1032.9898 98.578868 \r\nL 1033.546325 101.118688 \r\nL 1034.10285 111.498743 \r\nL 1035.772426 115.032402 \r\nL 1036.328951 110.836191 \r\nL 1036.885476 108.075534 \r\nL 1037.442002 98.026745 \r\nL 1037.998527 98.026745 \r\nL 1039.668102 100.235279 \r\nL 1040.224628 96.922478 \r\nL 1040.781153 89.634345 \r\nL 1043.563779 82.235784 \r\nL 1044.120304 80.358537 \r\nL 1044.676829 82.898336 \r\nL 1045.233355 80.800252 \r\nL 1045.78988 82.787928 \r\nL 1047.459455 69.757624 \r\nL 1048.015981 73.843385 \r\nL 1048.572506 79.033433 \r\nL 1049.129031 78.260431 \r\nL 1049.685556 81.462804 \r\nL 1051.355132 76.162347 \r\nL 1051.911657 78.481289 \r\nL 1052.468182 77.708308 \r\nL 1053.024707 73.732956 \r\nL 1055.807334 75.831061 \r\nL 1056.363859 84.554747 \r\nL 1056.920384 84.333889 \r\nL 1057.476909 86.873689 \r\nL 1059.146485 90.628184 \r\nL 1059.70301 92.284574 \r\nL 1060.259535 86.76326 \r\nL 1060.81606 84.333889 \r\nL 1061.372586 78.591718 \r\nL 1063.042161 78.039595 \r\nL 1064.155212 71.193157 \r\nL 1064.711737 74.174671 \r\nL 1065.268262 74.837223 \r\nL 1066.937838 72.959975 \r\nL 1067.494363 64.125882 \r\nL 1068.050888 59.929671 \r\nL 1068.607413 66.886538 \r\nL 1069.163939 56.616891 \r\nL 1070.833514 52.751968 \r\nL 1071.946565 47.451511 \r\nL 1072.50309 44.028303 \r\nL 1073.059615 43.586587 \r\nL 1074.729191 44.359568 \r\nL 1075.285716 52.199845 \r\nL 1075.842241 51.537293 \r\nL 1076.398766 38.39656 \r\nL 1076.955291 48.114063 \r\nL 1078.624867 43.36573 \r\nL 1079.181392 48.114063 \r\nL 1079.737917 49.439188 \r\nL 1080.294443 56.064768 \r\nL 1082.520544 58.494139 \r\nL 1083.077069 61.806919 \r\nL 1084.190119 49.991311 \r\nL 1084.746644 48.555778 \r\nL 1086.41622 51.316435 \r\nL 1086.972745 57.279443 \r\nL 1087.52927 55.733482 \r\nL 1088.085796 53.524948 \r\nL 1088.642321 57.721158 \r\nL 1090.311896 58.604568 \r\nL 1090.868422 59.598406 \r\nL 1091.424947 52.089416 \r\nL 1091.981472 47.782798 \r\nL 1092.537997 44.469997 \r\nL 1094.207573 46.015979 \r\nL 1094.764098 43.476159 \r\nL 1095.320623 43.917874 \r\nL 1095.877149 37.62358 \r\nL 1096.433674 48.555778 \r\nL 1098.103249 54.850073 \r\nL 1098.659775 49.991311 \r\nL 1099.2163 42.371892 \r\nL 1099.772825 41.598911 \r\nL 1100.32935 45.463835 \r\nL 1101.998926 42.813607 \r\nL 1103.668501 38.286131 \r\nL 1104.225027 42.592749 \r\nL 1105.894602 46.347244 \r\nL 1105.894602 46.347244 \r\n\" style=\"fill:none;stroke:#0000ff;stroke-linecap:square;stroke-width:1.5;\"/>\r\n   </g>\r\n   <g id=\"patch_3\">\r\n    <path d=\"M 40.621875 348.958125 \r\nL 40.621875 22.798125 \r\n\" style=\"fill:none;stroke:#000000;stroke-linecap:square;stroke-linejoin:miter;stroke-width:0.8;\"/>\r\n   </g>\r\n   <g id=\"patch_4\">\r\n    <path d=\"M 1156.621875 348.958125 \r\nL 1156.621875 22.798125 \r\n\" style=\"fill:none;stroke:#000000;stroke-linecap:square;stroke-linejoin:miter;stroke-width:0.8;\"/>\r\n   </g>\r\n   <g id=\"patch_5\">\r\n    <path d=\"M 40.621875 348.958125 \r\nL 1156.621875 348.958125 \r\n\" style=\"fill:none;stroke:#000000;stroke-linecap:square;stroke-linejoin:miter;stroke-width:0.8;\"/>\r\n   </g>\r\n   <g id=\"patch_6\">\r\n    <path d=\"M 40.621875 22.798125 \r\nL 1156.621875 22.798125 \r\n\" style=\"fill:none;stroke:#000000;stroke-linecap:square;stroke-linejoin:miter;stroke-width:0.8;\"/>\r\n   </g>\r\n   <g id=\"text_15\">\r\n    <!-- Previsão de série temporal -->\r\n    <g transform=\"translate(518.350313 16.798125)scale(0.12 -0.12)\">\r\n     <defs>\r\n      <path d=\"M 1259 4147 \r\nL 1259 2394 \r\nL 2053 2394 \r\nQ 2494 2394 2734 2622 \r\nQ 2975 2850 2975 3272 \r\nQ 2975 3691 2734 3919 \r\nQ 2494 4147 2053 4147 \r\nL 1259 4147 \r\nz\r\nM 628 4666 \r\nL 2053 4666 \r\nQ 2838 4666 3239 4311 \r\nQ 3641 3956 3641 3272 \r\nQ 3641 2581 3239 2228 \r\nQ 2838 1875 2053 1875 \r\nL 1259 1875 \r\nL 1259 0 \r\nL 628 0 \r\nL 628 4666 \r\nz\r\n\" id=\"DejaVuSans-50\" transform=\"scale(0.015625)\"/>\r\n      <path d=\"M 2631 2963 \r\nQ 2534 3019 2420 3045 \r\nQ 2306 3072 2169 3072 \r\nQ 1681 3072 1420 2755 \r\nQ 1159 2438 1159 1844 \r\nL 1159 0 \r\nL 581 0 \r\nL 581 3500 \r\nL 1159 3500 \r\nL 1159 2956 \r\nQ 1341 3275 1631 3429 \r\nQ 1922 3584 2338 3584 \r\nQ 2397 3584 2469 3576 \r\nQ 2541 3569 2628 3553 \r\nL 2631 2963 \r\nz\r\n\" id=\"DejaVuSans-72\" transform=\"scale(0.015625)\"/>\r\n      <path d=\"M 191 3500 \r\nL 800 3500 \r\nL 1894 563 \r\nL 2988 3500 \r\nL 3597 3500 \r\nL 2284 0 \r\nL 1503 0 \r\nL 191 3500 \r\nz\r\n\" id=\"DejaVuSans-76\" transform=\"scale(0.015625)\"/>\r\n      <path d=\"M 603 3500 \r\nL 1178 3500 \r\nL 1178 0 \r\nL 603 0 \r\nL 603 3500 \r\nz\r\nM 603 4863 \r\nL 1178 4863 \r\nL 1178 4134 \r\nL 603 4134 \r\nL 603 4863 \r\nz\r\n\" id=\"DejaVuSans-69\" transform=\"scale(0.015625)\"/>\r\n      <path d=\"M 2834 3397 \r\nL 2834 2853 \r\nQ 2591 2978 2328 3040 \r\nQ 2066 3103 1784 3103 \r\nQ 1356 3103 1142 2972 \r\nQ 928 2841 928 2578 \r\nQ 928 2378 1081 2264 \r\nQ 1234 2150 1697 2047 \r\nL 1894 2003 \r\nQ 2506 1872 2764 1633 \r\nQ 3022 1394 3022 966 \r\nQ 3022 478 2636 193 \r\nQ 2250 -91 1575 -91 \r\nQ 1294 -91 989 -36 \r\nQ 684 19 347 128 \r\nL 347 722 \r\nQ 666 556 975 473 \r\nQ 1284 391 1588 391 \r\nQ 1994 391 2212 530 \r\nQ 2431 669 2431 922 \r\nQ 2431 1156 2273 1281 \r\nQ 2116 1406 1581 1522 \r\nL 1381 1569 \r\nQ 847 1681 609 1914 \r\nQ 372 2147 372 2553 \r\nQ 372 3047 722 3315 \r\nQ 1072 3584 1716 3584 \r\nQ 2034 3584 2315 3537 \r\nQ 2597 3491 2834 3397 \r\nz\r\n\" id=\"DejaVuSans-73\" transform=\"scale(0.015625)\"/>\r\n      <path d=\"M 2906 2969 \r\nL 2906 4863 \r\nL 3481 4863 \r\nL 3481 0 \r\nL 2906 0 \r\nL 2906 525 \r\nQ 2725 213 2448 61 \r\nQ 2172 -91 1784 -91 \r\nQ 1150 -91 751 415 \r\nQ 353 922 353 1747 \r\nQ 353 2572 751 3078 \r\nQ 1150 3584 1784 3584 \r\nQ 2172 3584 2448 3432 \r\nQ 2725 3281 2906 2969 \r\nz\r\nM 947 1747 \r\nQ 947 1113 1208 752 \r\nQ 1469 391 1925 391 \r\nQ 2381 391 2643 752 \r\nQ 2906 1113 2906 1747 \r\nQ 2906 2381 2643 2742 \r\nQ 2381 3103 1925 3103 \r\nQ 1469 3103 1208 2742 \r\nQ 947 2381 947 1747 \r\nz\r\n\" id=\"DejaVuSans-64\" transform=\"scale(0.015625)\"/>\r\n      <path d=\"M 3597 1894 \r\nL 3597 1613 \r\nL 953 1613 \r\nQ 991 1019 1311 708 \r\nQ 1631 397 2203 397 \r\nQ 2534 397 2845 478 \r\nQ 3156 559 3463 722 \r\nL 3463 178 \r\nQ 3153 47 2828 -22 \r\nQ 2503 -91 2169 -91 \r\nQ 1331 -91 842 396 \r\nQ 353 884 353 1716 \r\nQ 353 2575 817 3079 \r\nQ 1281 3584 2069 3584 \r\nQ 2775 3584 3186 3129 \r\nQ 3597 2675 3597 1894 \r\nz\r\nM 3022 2063 \r\nQ 3016 2534 2758 2815 \r\nQ 2500 3097 2075 3097 \r\nQ 1594 3097 1305 2825 \r\nQ 1016 2553 972 2059 \r\nL 3022 2063 \r\nz\r\nM 2466 5119 \r\nL 3088 5119 \r\nL 2070 3944 \r\nL 1591 3944 \r\nL 2466 5119 \r\nz\r\n\" id=\"DejaVuSans-e9\" transform=\"scale(0.015625)\"/>\r\n      <path d=\"M 603 4863 \r\nL 1178 4863 \r\nL 1178 0 \r\nL 603 0 \r\nL 603 4863 \r\nz\r\n\" id=\"DejaVuSans-6c\" transform=\"scale(0.015625)\"/>\r\n     </defs>\r\n     <use xlink:href=\"#DejaVuSans-50\"/>\r\n     <use x=\"58.552734\" xlink:href=\"#DejaVuSans-72\"/>\r\n     <use x=\"97.416016\" xlink:href=\"#DejaVuSans-65\"/>\r\n     <use x=\"158.939453\" xlink:href=\"#DejaVuSans-76\"/>\r\n     <use x=\"218.119141\" xlink:href=\"#DejaVuSans-69\"/>\r\n     <use x=\"245.902344\" xlink:href=\"#DejaVuSans-73\"/>\r\n     <use x=\"298.001953\" xlink:href=\"#DejaVuSans-e3\"/>\r\n     <use x=\"359.28125\" xlink:href=\"#DejaVuSans-6f\"/>\r\n     <use x=\"420.462891\" xlink:href=\"#DejaVuSans-20\"/>\r\n     <use x=\"452.25\" xlink:href=\"#DejaVuSans-64\"/>\r\n     <use x=\"515.726562\" xlink:href=\"#DejaVuSans-65\"/>\r\n     <use x=\"577.25\" xlink:href=\"#DejaVuSans-20\"/>\r\n     <use x=\"609.037109\" xlink:href=\"#DejaVuSans-73\"/>\r\n     <use x=\"661.136719\" xlink:href=\"#DejaVuSans-e9\"/>\r\n     <use x=\"722.660156\" xlink:href=\"#DejaVuSans-72\"/>\r\n     <use x=\"763.773438\" xlink:href=\"#DejaVuSans-69\"/>\r\n     <use x=\"791.556641\" xlink:href=\"#DejaVuSans-65\"/>\r\n     <use x=\"853.080078\" xlink:href=\"#DejaVuSans-20\"/>\r\n     <use x=\"884.867188\" xlink:href=\"#DejaVuSans-74\"/>\r\n     <use x=\"924.076172\" xlink:href=\"#DejaVuSans-65\"/>\r\n     <use x=\"985.599609\" xlink:href=\"#DejaVuSans-6d\"/>\r\n     <use x=\"1083.011719\" xlink:href=\"#DejaVuSans-70\"/>\r\n     <use x=\"1146.488281\" xlink:href=\"#DejaVuSans-6f\"/>\r\n     <use x=\"1207.669922\" xlink:href=\"#DejaVuSans-72\"/>\r\n     <use x=\"1248.783203\" xlink:href=\"#DejaVuSans-61\"/>\r\n     <use x=\"1310.0625\" xlink:href=\"#DejaVuSans-6c\"/>\r\n    </g>\r\n   </g>\r\n   <g id=\"legend_1\">\r\n    <g id=\"patch_7\">\r\n     <path d=\"M 47.621875 60.154375 \r\nL 119.460938 60.154375 \r\nQ 121.460938 60.154375 121.460938 58.154375 \r\nL 121.460938 29.798125 \r\nQ 121.460938 27.798125 119.460938 27.798125 \r\nL 47.621875 27.798125 \r\nQ 45.621875 27.798125 45.621875 29.798125 \r\nL 45.621875 58.154375 \r\nQ 45.621875 60.154375 47.621875 60.154375 \r\nz\r\n\" style=\"fill:#ffffff;opacity:0.8;stroke:#cccccc;stroke-linejoin:miter;\"/>\r\n    </g>\r\n    <g id=\"line2d_15\">\r\n     <path d=\"M 49.621875 35.896562 \r\nL 69.621875 35.896562 \r\n\" style=\"fill:none;stroke:#ff0000;stroke-linecap:square;stroke-width:1.5;\"/>\r\n    </g>\r\n    <g id=\"line2d_16\"/>\r\n    <g id=\"text_16\">\r\n     <!-- Previsto -->\r\n     <g transform=\"translate(77.621875 39.396562)scale(0.1 -0.1)\">\r\n      <use xlink:href=\"#DejaVuSans-50\"/>\r\n      <use x=\"58.552734\" xlink:href=\"#DejaVuSans-72\"/>\r\n      <use x=\"97.416016\" xlink:href=\"#DejaVuSans-65\"/>\r\n      <use x=\"158.939453\" xlink:href=\"#DejaVuSans-76\"/>\r\n      <use x=\"218.119141\" xlink:href=\"#DejaVuSans-69\"/>\r\n      <use x=\"245.902344\" xlink:href=\"#DejaVuSans-73\"/>\r\n      <use x=\"298.001953\" xlink:href=\"#DejaVuSans-74\"/>\r\n      <use x=\"337.210938\" xlink:href=\"#DejaVuSans-6f\"/>\r\n     </g>\r\n    </g>\r\n    <g id=\"line2d_17\">\r\n     <path d=\"M 49.621875 50.574687 \r\nL 69.621875 50.574687 \r\n\" style=\"fill:none;stroke:#0000ff;stroke-linecap:square;stroke-width:1.5;\"/>\r\n    </g>\r\n    <g id=\"line2d_18\"/>\r\n    <g id=\"text_17\">\r\n     <!-- Real -->\r\n     <g transform=\"translate(77.621875 54.074687)scale(0.1 -0.1)\">\r\n      <use xlink:href=\"#DejaVuSans-52\"/>\r\n      <use x=\"64.982422\" xlink:href=\"#DejaVuSans-65\"/>\r\n      <use x=\"126.505859\" xlink:href=\"#DejaVuSans-61\"/>\r\n      <use x=\"187.785156\" xlink:href=\"#DejaVuSans-6c\"/>\r\n     </g>\r\n    </g>\r\n   </g>\r\n  </g>\r\n </g>\r\n <defs>\r\n  <clipPath id=\"p7743f5176f\">\r\n   <rect height=\"326.16\" width=\"1116\" x=\"40.621875\" y=\"22.798125\"/>\r\n  </clipPath>\r\n </defs>\r\n</svg>\r\n",
            "image/png": "[encoded data removed]"
          },
          "metadata": {
            "needs_background": "light"
          }
        }
      ],
      "metadata": {
        "colab": {
          "base_uri": "https://localhost:8080/",
          "height": 426
        },
        "id": "3G7e6HV4vMej",
        "outputId": "d905cc53-0c34-4e95-bc96-7195b641a497"
      }
    },
    {
      "cell_type": "code",
      "execution_count": 22,
      "source": [
        "rmse = math.sqrt(mean_squared_error(dataset[training_data_len:, 0:1], predicted[:,0:1]))\r\n",
        "print('RMSE: ', rmse)"
      ],
      "outputs": [
        {
          "output_type": "stream",
          "name": "stdout",
          "text": [
            "RMSE:  1.8164573976606166\n"
          ]
        }
      ],
      "metadata": {
        "colab": {
          "base_uri": "https://localhost:8080/"
        },
        "id": "4CCLiPM8vO5U",
        "outputId": "50f90759-af2d-454e-d5d2-631db094c9da"
      }
    },
    {
      "cell_type": "code",
      "execution_count": 23,
      "source": [
        "mse = mean_squared_error(dataset[training_data_len:, 0:1], predicted[:,0:1])\r\n",
        "print('MSE: ',mse)"
      ],
      "outputs": [
        {
          "output_type": "stream",
          "name": "stdout",
          "text": [
            "MSE:  3.2995174775159795\n"
          ]
        }
      ],
      "metadata": {
        "colab": {
          "base_uri": "https://localhost:8080/"
        },
        "id": "dWEFnqylvQiy",
        "outputId": "ebdcd19b-ecfb-4c00-9488-f2b82f53b4b9"
      }
    },
    {
      "cell_type": "code",
      "execution_count": 24,
      "source": [
        "mape = np.mean(np.abs((dataset[training_data_len:, 0:1]-predicted[:,0:1]) /dataset[training_data_len:, 0:1])) * 100\r\n",
        "print('MAPE: ',mape, '%')"
      ],
      "outputs": [
        {
          "output_type": "stream",
          "name": "stdout",
          "text": [
            "MAPE:  6.0952050242026035 %\n"
          ]
        }
      ],
      "metadata": {
        "colab": {
          "base_uri": "https://localhost:8080/"
        },
        "id": "-PC8KlwwvRum",
        "outputId": "634c896f-3156-4cf0-f111-a18ea5500aff"
      }
    },
    {
      "cell_type": "code",
      "execution_count": 25,
      "source": [
        "print('R2: ', r2_score(predicted[:,0:1], dataset[training_data_len:, 0:1]))"
      ],
      "outputs": [
        {
          "output_type": "stream",
          "name": "stdout",
          "text": [
            "R2:  0.6371747865878952\n"
          ]
        }
      ],
      "metadata": {
        "colab": {
          "base_uri": "https://localhost:8080/"
        },
        "id": "Hi7q3c9OvTI_",
        "outputId": "c676c006-4a99-4ac9-8ff8-3ae63f9ade56"
      }
    },
    {
      "cell_type": "code",
      "execution_count": 26,
      "source": [
        "scaled_data = scaled_data\r\n",
        "window = 60\r\n",
        "X_data = []\r\n",
        "y_data = []\r\n",
        "for i in range(window, len(scaled_data)):\r\n",
        "    X_data.append(scaled_data[i-window:i,:])\r\n",
        "    y_data.append(scaled_data[i, 0:1])\r\n",
        "X_data, y_data = np.array(X_data), np.array(y_data)\r\n",
        "history = regressor.fit(X_data, y_data, epochs = 50, batch_size = 64)"
      ],
      "outputs": [
        {
          "output_type": "stream",
          "name": "stdout",
          "text": [
            "Epoch 1/50\n",
            "19/19 [==============================] - 3s 169ms/step - loss: 0.0032\n",
            "Epoch 2/50\n",
            "19/19 [==============================] - 3s 136ms/step - loss: 0.0028\n",
            "Epoch 3/50\n",
            "19/19 [==============================] - 3s 133ms/step - loss: 0.0027\n",
            "Epoch 4/50\n",
            "19/19 [==============================] - 3s 139ms/step - loss: 0.0027\n",
            "Epoch 5/50\n",
            "19/19 [==============================] - 3s 158ms/step - loss: 0.0025\n",
            "Epoch 6/50\n",
            "19/19 [==============================] - 3s 159ms/step - loss: 0.0027\n",
            "Epoch 7/50\n",
            "17/19 [=========================>....] - ETA: 0s - loss: 0.0025"
          ]
        },
        {
          "output_type": "error",
          "ename": "KeyboardInterrupt",
          "evalue": "",
          "traceback": [
            "\u001b[1;31m---------------------------------------------------------------------------\u001b[0m",
            "\u001b[1;31mKeyboardInterrupt\u001b[0m                         Traceback (most recent call last)",
            "\u001b[1;32m~\\AppData\\Local\\Temp/ipykernel_9916/860314462.py\u001b[0m in \u001b[0;36m<module>\u001b[1;34m\u001b[0m\n\u001b[0;32m      7\u001b[0m     \u001b[0my_data\u001b[0m\u001b[1;33m.\u001b[0m\u001b[0mappend\u001b[0m\u001b[1;33m(\u001b[0m\u001b[0mscaled_data\u001b[0m\u001b[1;33m[\u001b[0m\u001b[0mi\u001b[0m\u001b[1;33m,\u001b[0m \u001b[1;36m0\u001b[0m\u001b[1;33m:\u001b[0m\u001b[1;36m1\u001b[0m\u001b[1;33m]\u001b[0m\u001b[1;33m)\u001b[0m\u001b[1;33m\u001b[0m\u001b[1;33m\u001b[0m\u001b[0m\n\u001b[0;32m      8\u001b[0m \u001b[0mX_data\u001b[0m\u001b[1;33m,\u001b[0m \u001b[0my_data\u001b[0m \u001b[1;33m=\u001b[0m \u001b[0mnp\u001b[0m\u001b[1;33m.\u001b[0m\u001b[0marray\u001b[0m\u001b[1;33m(\u001b[0m\u001b[0mX_data\u001b[0m\u001b[1;33m)\u001b[0m\u001b[1;33m,\u001b[0m \u001b[0mnp\u001b[0m\u001b[1;33m.\u001b[0m\u001b[0marray\u001b[0m\u001b[1;33m(\u001b[0m\u001b[0my_data\u001b[0m\u001b[1;33m)\u001b[0m\u001b[1;33m\u001b[0m\u001b[1;33m\u001b[0m\u001b[0m\n\u001b[1;32m----> 9\u001b[1;33m \u001b[0mhistory\u001b[0m \u001b[1;33m=\u001b[0m \u001b[0mregressor\u001b[0m\u001b[1;33m.\u001b[0m\u001b[0mfit\u001b[0m\u001b[1;33m(\u001b[0m\u001b[0mX_data\u001b[0m\u001b[1;33m,\u001b[0m \u001b[0my_data\u001b[0m\u001b[1;33m,\u001b[0m \u001b[0mepochs\u001b[0m \u001b[1;33m=\u001b[0m \u001b[1;36m50\u001b[0m\u001b[1;33m,\u001b[0m \u001b[0mbatch_size\u001b[0m \u001b[1;33m=\u001b[0m \u001b[1;36m64\u001b[0m\u001b[1;33m)\u001b[0m\u001b[1;33m\u001b[0m\u001b[1;33m\u001b[0m\u001b[0m\n\u001b[0m",
            "\u001b[1;32m~\\AppData\\Roaming\\Python\\Python38\\site-packages\\tensorflow\\python\\keras\\engine\\training.py\u001b[0m in \u001b[0;36m_method_wrapper\u001b[1;34m(self, *args, **kwargs)\u001b[0m\n\u001b[0;32m    106\u001b[0m   \u001b[1;32mdef\u001b[0m \u001b[0m_method_wrapper\u001b[0m\u001b[1;33m(\u001b[0m\u001b[0mself\u001b[0m\u001b[1;33m,\u001b[0m \u001b[1;33m*\u001b[0m\u001b[0margs\u001b[0m\u001b[1;33m,\u001b[0m \u001b[1;33m**\u001b[0m\u001b[0mkwargs\u001b[0m\u001b[1;33m)\u001b[0m\u001b[1;33m:\u001b[0m\u001b[1;33m\u001b[0m\u001b[1;33m\u001b[0m\u001b[0m\n\u001b[0;32m    107\u001b[0m     \u001b[1;32mif\u001b[0m \u001b[1;32mnot\u001b[0m \u001b[0mself\u001b[0m\u001b[1;33m.\u001b[0m\u001b[0m_in_multi_worker_mode\u001b[0m\u001b[1;33m(\u001b[0m\u001b[1;33m)\u001b[0m\u001b[1;33m:\u001b[0m  \u001b[1;31m# pylint: disable=protected-access\u001b[0m\u001b[1;33m\u001b[0m\u001b[1;33m\u001b[0m\u001b[0m\n\u001b[1;32m--> 108\u001b[1;33m       \u001b[1;32mreturn\u001b[0m \u001b[0mmethod\u001b[0m\u001b[1;33m(\u001b[0m\u001b[0mself\u001b[0m\u001b[1;33m,\u001b[0m \u001b[1;33m*\u001b[0m\u001b[0margs\u001b[0m\u001b[1;33m,\u001b[0m \u001b[1;33m**\u001b[0m\u001b[0mkwargs\u001b[0m\u001b[1;33m)\u001b[0m\u001b[1;33m\u001b[0m\u001b[1;33m\u001b[0m\u001b[0m\n\u001b[0m\u001b[0;32m    109\u001b[0m \u001b[1;33m\u001b[0m\u001b[0m\n\u001b[0;32m    110\u001b[0m     \u001b[1;31m# Running inside `run_distribute_coordinator` already.\u001b[0m\u001b[1;33m\u001b[0m\u001b[1;33m\u001b[0m\u001b[1;33m\u001b[0m\u001b[0m\n",
            "\u001b[1;32m~\\AppData\\Roaming\\Python\\Python38\\site-packages\\tensorflow\\python\\keras\\engine\\training.py\u001b[0m in \u001b[0;36mfit\u001b[1;34m(self, x, y, batch_size, epochs, verbose, callbacks, validation_split, validation_data, shuffle, class_weight, sample_weight, initial_epoch, steps_per_epoch, validation_steps, validation_batch_size, validation_freq, max_queue_size, workers, use_multiprocessing)\u001b[0m\n\u001b[0;32m   1096\u001b[0m                 batch_size=batch_size):\n\u001b[0;32m   1097\u001b[0m               \u001b[0mcallbacks\u001b[0m\u001b[1;33m.\u001b[0m\u001b[0mon_train_batch_begin\u001b[0m\u001b[1;33m(\u001b[0m\u001b[0mstep\u001b[0m\u001b[1;33m)\u001b[0m\u001b[1;33m\u001b[0m\u001b[1;33m\u001b[0m\u001b[0m\n\u001b[1;32m-> 1098\u001b[1;33m               \u001b[0mtmp_logs\u001b[0m \u001b[1;33m=\u001b[0m \u001b[0mtrain_function\u001b[0m\u001b[1;33m(\u001b[0m\u001b[0miterator\u001b[0m\u001b[1;33m)\u001b[0m\u001b[1;33m\u001b[0m\u001b[1;33m\u001b[0m\u001b[0m\n\u001b[0m\u001b[0;32m   1099\u001b[0m               \u001b[1;32mif\u001b[0m \u001b[0mdata_handler\u001b[0m\u001b[1;33m.\u001b[0m\u001b[0mshould_sync\u001b[0m\u001b[1;33m:\u001b[0m\u001b[1;33m\u001b[0m\u001b[1;33m\u001b[0m\u001b[0m\n\u001b[0;32m   1100\u001b[0m                 \u001b[0mcontext\u001b[0m\u001b[1;33m.\u001b[0m\u001b[0masync_wait\u001b[0m\u001b[1;33m(\u001b[0m\u001b[1;33m)\u001b[0m\u001b[1;33m\u001b[0m\u001b[1;33m\u001b[0m\u001b[0m\n",
            "\u001b[1;32m~\\AppData\\Roaming\\Python\\Python38\\site-packages\\tensorflow\\python\\eager\\def_function.py\u001b[0m in \u001b[0;36m__call__\u001b[1;34m(self, *args, **kwds)\u001b[0m\n\u001b[0;32m    778\u001b[0m       \u001b[1;32melse\u001b[0m\u001b[1;33m:\u001b[0m\u001b[1;33m\u001b[0m\u001b[1;33m\u001b[0m\u001b[0m\n\u001b[0;32m    779\u001b[0m         \u001b[0mcompiler\u001b[0m \u001b[1;33m=\u001b[0m \u001b[1;34m\"nonXla\"\u001b[0m\u001b[1;33m\u001b[0m\u001b[1;33m\u001b[0m\u001b[0m\n\u001b[1;32m--> 780\u001b[1;33m         \u001b[0mresult\u001b[0m \u001b[1;33m=\u001b[0m \u001b[0mself\u001b[0m\u001b[1;33m.\u001b[0m\u001b[0m_call\u001b[0m\u001b[1;33m(\u001b[0m\u001b[1;33m*\u001b[0m\u001b[0margs\u001b[0m\u001b[1;33m,\u001b[0m \u001b[1;33m**\u001b[0m\u001b[0mkwds\u001b[0m\u001b[1;33m)\u001b[0m\u001b[1;33m\u001b[0m\u001b[1;33m\u001b[0m\u001b[0m\n\u001b[0m\u001b[0;32m    781\u001b[0m \u001b[1;33m\u001b[0m\u001b[0m\n\u001b[0;32m    782\u001b[0m       \u001b[0mnew_tracing_count\u001b[0m \u001b[1;33m=\u001b[0m \u001b[0mself\u001b[0m\u001b[1;33m.\u001b[0m\u001b[0m_get_tracing_count\u001b[0m\u001b[1;33m(\u001b[0m\u001b[1;33m)\u001b[0m\u001b[1;33m\u001b[0m\u001b[1;33m\u001b[0m\u001b[0m\n",
            "\u001b[1;32m~\\AppData\\Roaming\\Python\\Python38\\site-packages\\tensorflow\\python\\eager\\def_function.py\u001b[0m in \u001b[0;36m_call\u001b[1;34m(self, *args, **kwds)\u001b[0m\n\u001b[0;32m    805\u001b[0m       \u001b[1;31m# In this case we have created variables on the first call, so we run the\u001b[0m\u001b[1;33m\u001b[0m\u001b[1;33m\u001b[0m\u001b[1;33m\u001b[0m\u001b[0m\n\u001b[0;32m    806\u001b[0m       \u001b[1;31m# defunned version which is guaranteed to never create variables.\u001b[0m\u001b[1;33m\u001b[0m\u001b[1;33m\u001b[0m\u001b[1;33m\u001b[0m\u001b[0m\n\u001b[1;32m--> 807\u001b[1;33m       \u001b[1;32mreturn\u001b[0m \u001b[0mself\u001b[0m\u001b[1;33m.\u001b[0m\u001b[0m_stateless_fn\u001b[0m\u001b[1;33m(\u001b[0m\u001b[1;33m*\u001b[0m\u001b[0margs\u001b[0m\u001b[1;33m,\u001b[0m \u001b[1;33m**\u001b[0m\u001b[0mkwds\u001b[0m\u001b[1;33m)\u001b[0m  \u001b[1;31m# pylint: disable=not-callable\u001b[0m\u001b[1;33m\u001b[0m\u001b[1;33m\u001b[0m\u001b[0m\n\u001b[0m\u001b[0;32m    808\u001b[0m     \u001b[1;32melif\u001b[0m \u001b[0mself\u001b[0m\u001b[1;33m.\u001b[0m\u001b[0m_stateful_fn\u001b[0m \u001b[1;32mis\u001b[0m \u001b[1;32mnot\u001b[0m \u001b[1;32mNone\u001b[0m\u001b[1;33m:\u001b[0m\u001b[1;33m\u001b[0m\u001b[1;33m\u001b[0m\u001b[0m\n\u001b[0;32m    809\u001b[0m       \u001b[1;31m# Release the lock early so that multiple threads can perform the call\u001b[0m\u001b[1;33m\u001b[0m\u001b[1;33m\u001b[0m\u001b[1;33m\u001b[0m\u001b[0m\n",
            "\u001b[1;32m~\\AppData\\Roaming\\Python\\Python38\\site-packages\\tensorflow\\python\\eager\\function.py\u001b[0m in \u001b[0;36m__call__\u001b[1;34m(self, *args, **kwargs)\u001b[0m\n\u001b[0;32m   2827\u001b[0m     \u001b[1;32mwith\u001b[0m \u001b[0mself\u001b[0m\u001b[1;33m.\u001b[0m\u001b[0m_lock\u001b[0m\u001b[1;33m:\u001b[0m\u001b[1;33m\u001b[0m\u001b[1;33m\u001b[0m\u001b[0m\n\u001b[0;32m   2828\u001b[0m       \u001b[0mgraph_function\u001b[0m\u001b[1;33m,\u001b[0m \u001b[0margs\u001b[0m\u001b[1;33m,\u001b[0m \u001b[0mkwargs\u001b[0m \u001b[1;33m=\u001b[0m \u001b[0mself\u001b[0m\u001b[1;33m.\u001b[0m\u001b[0m_maybe_define_function\u001b[0m\u001b[1;33m(\u001b[0m\u001b[0margs\u001b[0m\u001b[1;33m,\u001b[0m \u001b[0mkwargs\u001b[0m\u001b[1;33m)\u001b[0m\u001b[1;33m\u001b[0m\u001b[1;33m\u001b[0m\u001b[0m\n\u001b[1;32m-> 2829\u001b[1;33m     \u001b[1;32mreturn\u001b[0m \u001b[0mgraph_function\u001b[0m\u001b[1;33m.\u001b[0m\u001b[0m_filtered_call\u001b[0m\u001b[1;33m(\u001b[0m\u001b[0margs\u001b[0m\u001b[1;33m,\u001b[0m \u001b[0mkwargs\u001b[0m\u001b[1;33m)\u001b[0m  \u001b[1;31m# pylint: disable=protected-access\u001b[0m\u001b[1;33m\u001b[0m\u001b[1;33m\u001b[0m\u001b[0m\n\u001b[0m\u001b[0;32m   2830\u001b[0m \u001b[1;33m\u001b[0m\u001b[0m\n\u001b[0;32m   2831\u001b[0m   \u001b[1;33m@\u001b[0m\u001b[0mproperty\u001b[0m\u001b[1;33m\u001b[0m\u001b[1;33m\u001b[0m\u001b[0m\n",
            "\u001b[1;32m~\\AppData\\Roaming\\Python\\Python38\\site-packages\\tensorflow\\python\\eager\\function.py\u001b[0m in \u001b[0;36m_filtered_call\u001b[1;34m(self, args, kwargs, cancellation_manager)\u001b[0m\n\u001b[0;32m   1841\u001b[0m       \u001b[0;31m`\u001b[0m\u001b[0margs\u001b[0m\u001b[0;31m`\u001b[0m \u001b[1;32mand\u001b[0m\u001b[0;31m \u001b[0m\u001b[0;31m`\u001b[0m\u001b[0mkwargs\u001b[0m\u001b[0;31m`\u001b[0m\u001b[1;33m.\u001b[0m\u001b[1;33m\u001b[0m\u001b[1;33m\u001b[0m\u001b[0m\n\u001b[0;32m   1842\u001b[0m     \"\"\"\n\u001b[1;32m-> 1843\u001b[1;33m     return self._call_flat(\n\u001b[0m\u001b[0;32m   1844\u001b[0m         [t for t in nest.flatten((args, kwargs), expand_composites=True)\n\u001b[0;32m   1845\u001b[0m          if isinstance(t, (ops.Tensor,\n",
            "\u001b[1;32m~\\AppData\\Roaming\\Python\\Python38\\site-packages\\tensorflow\\python\\eager\\function.py\u001b[0m in \u001b[0;36m_call_flat\u001b[1;34m(self, args, captured_inputs, cancellation_manager)\u001b[0m\n\u001b[0;32m   1921\u001b[0m         and executing_eagerly):\n\u001b[0;32m   1922\u001b[0m       \u001b[1;31m# No tape is watching; skip to running the function.\u001b[0m\u001b[1;33m\u001b[0m\u001b[1;33m\u001b[0m\u001b[1;33m\u001b[0m\u001b[0m\n\u001b[1;32m-> 1923\u001b[1;33m       return self._build_call_outputs(self._inference_function.call(\n\u001b[0m\u001b[0;32m   1924\u001b[0m           ctx, args, cancellation_manager=cancellation_manager))\n\u001b[0;32m   1925\u001b[0m     forward_backward = self._select_forward_and_backward_functions(\n",
            "\u001b[1;32m~\\AppData\\Roaming\\Python\\Python38\\site-packages\\tensorflow\\python\\eager\\function.py\u001b[0m in \u001b[0;36mcall\u001b[1;34m(self, ctx, args, cancellation_manager)\u001b[0m\n\u001b[0;32m    543\u001b[0m       \u001b[1;32mwith\u001b[0m \u001b[0m_InterpolateFunctionError\u001b[0m\u001b[1;33m(\u001b[0m\u001b[0mself\u001b[0m\u001b[1;33m)\u001b[0m\u001b[1;33m:\u001b[0m\u001b[1;33m\u001b[0m\u001b[1;33m\u001b[0m\u001b[0m\n\u001b[0;32m    544\u001b[0m         \u001b[1;32mif\u001b[0m \u001b[0mcancellation_manager\u001b[0m \u001b[1;32mis\u001b[0m \u001b[1;32mNone\u001b[0m\u001b[1;33m:\u001b[0m\u001b[1;33m\u001b[0m\u001b[1;33m\u001b[0m\u001b[0m\n\u001b[1;32m--> 545\u001b[1;33m           outputs = execute.execute(\n\u001b[0m\u001b[0;32m    546\u001b[0m               \u001b[0mstr\u001b[0m\u001b[1;33m(\u001b[0m\u001b[0mself\u001b[0m\u001b[1;33m.\u001b[0m\u001b[0msignature\u001b[0m\u001b[1;33m.\u001b[0m\u001b[0mname\u001b[0m\u001b[1;33m)\u001b[0m\u001b[1;33m,\u001b[0m\u001b[1;33m\u001b[0m\u001b[1;33m\u001b[0m\u001b[0m\n\u001b[0;32m    547\u001b[0m               \u001b[0mnum_outputs\u001b[0m\u001b[1;33m=\u001b[0m\u001b[0mself\u001b[0m\u001b[1;33m.\u001b[0m\u001b[0m_num_outputs\u001b[0m\u001b[1;33m,\u001b[0m\u001b[1;33m\u001b[0m\u001b[1;33m\u001b[0m\u001b[0m\n",
            "\u001b[1;32m~\\AppData\\Roaming\\Python\\Python38\\site-packages\\tensorflow\\python\\eager\\execute.py\u001b[0m in \u001b[0;36mquick_execute\u001b[1;34m(op_name, num_outputs, inputs, attrs, ctx, name)\u001b[0m\n\u001b[0;32m     57\u001b[0m   \u001b[1;32mtry\u001b[0m\u001b[1;33m:\u001b[0m\u001b[1;33m\u001b[0m\u001b[1;33m\u001b[0m\u001b[0m\n\u001b[0;32m     58\u001b[0m     \u001b[0mctx\u001b[0m\u001b[1;33m.\u001b[0m\u001b[0mensure_initialized\u001b[0m\u001b[1;33m(\u001b[0m\u001b[1;33m)\u001b[0m\u001b[1;33m\u001b[0m\u001b[1;33m\u001b[0m\u001b[0m\n\u001b[1;32m---> 59\u001b[1;33m     tensors = pywrap_tfe.TFE_Py_Execute(ctx._handle, device_name, op_name,\n\u001b[0m\u001b[0;32m     60\u001b[0m                                         inputs, attrs, num_outputs)\n\u001b[0;32m     61\u001b[0m   \u001b[1;32mexcept\u001b[0m \u001b[0mcore\u001b[0m\u001b[1;33m.\u001b[0m\u001b[0m_NotOkStatusException\u001b[0m \u001b[1;32mas\u001b[0m \u001b[0me\u001b[0m\u001b[1;33m:\u001b[0m\u001b[1;33m\u001b[0m\u001b[1;33m\u001b[0m\u001b[0m\n",
            "\u001b[1;31mKeyboardInterrupt\u001b[0m: "
          ]
        }
      ],
      "metadata": {
        "id": "-5B0mpI-t-yK"
      }
    },
    {
      "cell_type": "code",
      "execution_count": null,
      "source": [
        "predicted = regressor.predict(X_data)\n",
        "print(predicted)\n",
        "volume = dataset[:len(X_data), 1:]\n",
        "predicted = np.column_stack((predicted, volume))\n",
        "predicted = sc.inverse_transform(predicted)\n",
        "allForecastedData = predicted[:,0:1]\n",
        "# date = df['DATA']\n",
        "date = df.index\n",
        "print(dataset.shape)\n",
        "print(predicted.shape)\n",
        "figure(figsize=(20, 6), dpi=80)\n",
        "plt.plot(dataset[window:, 0:1], color = 'red', label = 'Previsto')\n",
        "plt.plot(predicted[:,0:1], color = 'blue', label = 'Real')\n",
        "plt.title('Previsão de série temporal')\n",
        "plt.xlabel('Tempo')\n",
        "plt.ylabel('Cotação (R$)')\n",
        "plt.legend()\n",
        "plt.show()"
      ],
      "outputs": [],
      "metadata": {
        "id": "E1LL5KM8vlrC"
      }
    },
    {
      "cell_type": "code",
      "execution_count": null,
      "source": [
        "from datetime import date, datetime, timedelta\n",
        "today = datetime.today()\n",
        "today_minus_100 = today - timedelta(days=100)\n",
        "df_new = web.DataReader(\"PETR4.SA\", data_source=\"yahoo\", start=today_minus_100, end=today)\n",
        "df_bovespa_new = web.DataReader(\"^BVSP\", data_source=\"yahoo\", start=today_minus_100, end=today)\n",
        "df_dolar_new = web.DataReader(\"USDBRL=X\", data_source=\"yahoo\", start=today_minus_100, end=today)\n",
        "df_new = df_new.merge(df_bovespa_new, left_on='Date', right_on='Date', suffixes=('', '_bovespa'))\n",
        "df_new = df_new.merge(df_dolar_new, left_on='Date', right_on='Date', suffixes=('', '_dolar'))\n",
        "df_new = df_new.filter([\"Close\", \"Volume\", \"Close_bovespa\", \"Volume_bovespa\"])\n",
        "\n",
        "print(df_new.tail())\n",
        "last_days = df_new.values\n",
        "scaled = sc.transform(last_days)\n",
        "x = []\n",
        "x.append(scaled)\n",
        "x = np.array(x)\n",
        "x = np.reshape(x, (x.shape[0], x.shape[1], -1))\n",
        "pred_price = regressor.predict(x)\n",
        "volume_new = last_days[0:1, 1:]\n",
        "pred_price = np.column_stack((pred_price, volume_new))\n",
        "pred_price = sc.inverse_transform(pred_price)\n",
        "print(pred_price[0][0])"
      ],
      "outputs": [],
      "metadata": {
        "id": "CtRI0NBrzz4D"
      }
    }
  ]
}