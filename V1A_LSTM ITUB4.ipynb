{
  "nbformat": 4,
  "nbformat_minor": 2,
  "metadata": {
    "colab": {
      "name": "Tentativa com mais features LSTM.ipynb",
      "provenance": [],
      "collapsed_sections": []
    },
    "kernelspec": {
      "name": "python3",
      "display_name": "Python 3.8.7 64-bit"
    },
    "language_info": {
      "name": "python",
      "version": "3.8.7",
      "mimetype": "text/x-python",
      "codemirror_mode": {
        "name": "ipython",
        "version": 3
      },
      "pygments_lexer": "ipython3",
      "nbconvert_exporter": "python",
      "file_extension": ".py"
    },
    "interpreter": {
      "hash": "e9d26aef1b45c2698ea6efe547ad5d4a29e612063653693e2b8c59ffe1c6a0ee"
    }
  },
  "cells": [
    {
      "cell_type": "code",
      "execution_count": 4,
      "source": [
        "import numpy as np\r\n",
        "import pandas_datareader as web\r\n",
        "import pandas as pd\r\n",
        "import seaborn as sns\r\n",
        "import matplotlib.pyplot as plt\r\n",
        "import math\r\n",
        "from matplotlib.pyplot import figure\r\n",
        "from sklearn.preprocessing import MinMaxScaler, StandardScaler\r\n",
        "from sklearn.metrics import mean_squared_error\r\n",
        "from sklearn.metrics import r2_score\r\n",
        "from tensorflow import keras \r\n",
        "'''from keras.models import Sequential\r\n",
        "from keras.layers import Dense\r\n",
        "from keras.layers import LSTM\r\n",
        "from keras.layers import Dropout'''"
      ],
      "outputs": [
        {
          "output_type": "execute_result",
          "data": {
            "text/plain": [
              "'from keras.models import Sequential\\nfrom keras.layers import Dense\\nfrom keras.layers import LSTM\\nfrom keras.layers import Dropout'"
            ]
          },
          "metadata": {},
          "execution_count": 4
        }
      ],
      "metadata": {
        "id": "WXZs1haGNdYv"
      }
    },
    {
      "cell_type": "code",
      "execution_count": 5,
      "source": [
        "Sequential = keras.models.Sequential\r\n",
        "Dense = keras.layers.Dense\r\n",
        "LSTM = keras.layers.LSTM\r\n",
        "Dropout = keras.layers.Dropout"
      ],
      "outputs": [],
      "metadata": {}
    },
    {
      "cell_type": "code",
      "execution_count": 6,
      "source": [
        "df = web.DataReader(\"ITUB4.SA\", data_source=\"yahoo\", start=\"2015-01-01\", end=\"2019-12-31\")\r\n",
        "df"
      ],
      "outputs": [
        {
          "output_type": "execute_result",
          "data": {
            "text/plain": [
              "                 High        Low       Open      Close      Volume  Adj Close\n",
              "Date                                                                         \n",
              "2015-01-02  19.179064  18.468319  18.870523  18.639118  20756703.0  13.831242\n",
              "2015-01-05  18.925619  18.203856  18.347107  18.732782  23532382.0  13.900749\n",
              "2015-01-06  19.035812  18.528925  18.732782  19.035812  27725577.0  14.125619\n",
              "2015-01-07  20.022038  19.283747  19.283747  19.724518  23601897.0  14.636673\n",
              "2015-01-08  20.110191  19.404959  19.834709  20.033056  21403024.0  14.865625\n",
              "...               ...        ...        ...        ...         ...        ...\n",
              "2019-12-20  36.700001  36.299999  36.630001  36.500000  24863500.0  34.978203\n",
              "2019-12-23  36.840000  36.310001  36.500000  36.840000  11691500.0  35.304047\n",
              "2019-12-26  37.400002  36.650002  36.799999  37.400002  16333100.0  35.840687\n",
              "2019-12-27  37.689999  36.910000  37.500000  37.299999  13455300.0  35.744862\n",
              "2019-12-30  37.590000  36.860001  37.340000  37.099998   9225800.0  35.553196\n",
              "\n",
              "[1241 rows x 6 columns]"
            ],
            "text/html": [
              "<div>\n",
              "<style scoped>\n",
              "    .dataframe tbody tr th:only-of-type {\n",
              "        vertical-align: middle;\n",
              "    }\n",
              "\n",
              "    .dataframe tbody tr th {\n",
              "        vertical-align: top;\n",
              "    }\n",
              "\n",
              "    .dataframe thead th {\n",
              "        text-align: right;\n",
              "    }\n",
              "</style>\n",
              "<table border=\"1\" class=\"dataframe\">\n",
              "  <thead>\n",
              "    <tr style=\"text-align: right;\">\n",
              "      <th></th>\n",
              "      <th>High</th>\n",
              "      <th>Low</th>\n",
              "      <th>Open</th>\n",
              "      <th>Close</th>\n",
              "      <th>Volume</th>\n",
              "      <th>Adj Close</th>\n",
              "    </tr>\n",
              "    <tr>\n",
              "      <th>Date</th>\n",
              "      <th></th>\n",
              "      <th></th>\n",
              "      <th></th>\n",
              "      <th></th>\n",
              "      <th></th>\n",
              "      <th></th>\n",
              "    </tr>\n",
              "  </thead>\n",
              "  <tbody>\n",
              "    <tr>\n",
              "      <th>2015-01-02</th>\n",
              "      <td>19.179064</td>\n",
              "      <td>18.468319</td>\n",
              "      <td>18.870523</td>\n",
              "      <td>18.639118</td>\n",
              "      <td>20756703.0</td>\n",
              "      <td>13.831242</td>\n",
              "    </tr>\n",
              "    <tr>\n",
              "      <th>2015-01-05</th>\n",
              "      <td>18.925619</td>\n",
              "      <td>18.203856</td>\n",
              "      <td>18.347107</td>\n",
              "      <td>18.732782</td>\n",
              "      <td>23532382.0</td>\n",
              "      <td>13.900749</td>\n",
              "    </tr>\n",
              "    <tr>\n",
              "      <th>2015-01-06</th>\n",
              "      <td>19.035812</td>\n",
              "      <td>18.528925</td>\n",
              "      <td>18.732782</td>\n",
              "      <td>19.035812</td>\n",
              "      <td>27725577.0</td>\n",
              "      <td>14.125619</td>\n",
              "    </tr>\n",
              "    <tr>\n",
              "      <th>2015-01-07</th>\n",
              "      <td>20.022038</td>\n",
              "      <td>19.283747</td>\n",
              "      <td>19.283747</td>\n",
              "      <td>19.724518</td>\n",
              "      <td>23601897.0</td>\n",
              "      <td>14.636673</td>\n",
              "    </tr>\n",
              "    <tr>\n",
              "      <th>2015-01-08</th>\n",
              "      <td>20.110191</td>\n",
              "      <td>19.404959</td>\n",
              "      <td>19.834709</td>\n",
              "      <td>20.033056</td>\n",
              "      <td>21403024.0</td>\n",
              "      <td>14.865625</td>\n",
              "    </tr>\n",
              "    <tr>\n",
              "      <th>...</th>\n",
              "      <td>...</td>\n",
              "      <td>...</td>\n",
              "      <td>...</td>\n",
              "      <td>...</td>\n",
              "      <td>...</td>\n",
              "      <td>...</td>\n",
              "    </tr>\n",
              "    <tr>\n",
              "      <th>2019-12-20</th>\n",
              "      <td>36.700001</td>\n",
              "      <td>36.299999</td>\n",
              "      <td>36.630001</td>\n",
              "      <td>36.500000</td>\n",
              "      <td>24863500.0</td>\n",
              "      <td>34.978203</td>\n",
              "    </tr>\n",
              "    <tr>\n",
              "      <th>2019-12-23</th>\n",
              "      <td>36.840000</td>\n",
              "      <td>36.310001</td>\n",
              "      <td>36.500000</td>\n",
              "      <td>36.840000</td>\n",
              "      <td>11691500.0</td>\n",
              "      <td>35.304047</td>\n",
              "    </tr>\n",
              "    <tr>\n",
              "      <th>2019-12-26</th>\n",
              "      <td>37.400002</td>\n",
              "      <td>36.650002</td>\n",
              "      <td>36.799999</td>\n",
              "      <td>37.400002</td>\n",
              "      <td>16333100.0</td>\n",
              "      <td>35.840687</td>\n",
              "    </tr>\n",
              "    <tr>\n",
              "      <th>2019-12-27</th>\n",
              "      <td>37.689999</td>\n",
              "      <td>36.910000</td>\n",
              "      <td>37.500000</td>\n",
              "      <td>37.299999</td>\n",
              "      <td>13455300.0</td>\n",
              "      <td>35.744862</td>\n",
              "    </tr>\n",
              "    <tr>\n",
              "      <th>2019-12-30</th>\n",
              "      <td>37.590000</td>\n",
              "      <td>36.860001</td>\n",
              "      <td>37.340000</td>\n",
              "      <td>37.099998</td>\n",
              "      <td>9225800.0</td>\n",
              "      <td>35.553196</td>\n",
              "    </tr>\n",
              "  </tbody>\n",
              "</table>\n",
              "<p>1241 rows × 6 columns</p>\n",
              "</div>"
            ]
          },
          "metadata": {},
          "execution_count": 6
        }
      ],
      "metadata": {
        "colab": {
          "base_uri": "https://localhost:8080/",
          "height": 455
        },
        "id": "ZLE4oRySNhEC",
        "outputId": "39a7ff70-1a4f-44ec-9f41-516718e8ab6c"
      }
    },
    {
      "cell_type": "code",
      "execution_count": 7,
      "source": [
        "df.shape"
      ],
      "outputs": [
        {
          "output_type": "execute_result",
          "data": {
            "text/plain": [
              "(1241, 6)"
            ]
          },
          "metadata": {},
          "execution_count": 7
        }
      ],
      "metadata": {
        "colab": {
          "base_uri": "https://localhost:8080/"
        },
        "id": "U0BBIen7Njpc",
        "outputId": "b06095f3-ccaa-49e9-8035-c634d0c743e6"
      }
    },
    {
      "cell_type": "code",
      "execution_count": 8,
      "source": [
        "df_bovespa = web.DataReader(\"^BVSP\", data_source=\"yahoo\", start=\"2015-01-01\", end=\"2019-12-31\")\r\n",
        "# df_bovespa.reset_index(inplace=True,drop=False)\r\n",
        "df_bovespa"
      ],
      "outputs": [
        {
          "output_type": "execute_result",
          "data": {
            "text/plain": [
              "                High       Low      Open     Close     Volume  Adj Close\n",
              "Date                                                                    \n",
              "2015-01-02   50005.0   48345.0   50005.0   48512.0  2882100.0    48512.0\n",
              "2015-01-05   48512.0   47264.0   48512.0   47517.0  3866100.0    47517.0\n",
              "2015-01-06   48061.0   47338.0   47517.0   48001.0  4559300.0    48001.0\n",
              "2015-01-07   49882.0   48006.0   48006.0   49463.0  4408800.0    49463.0\n",
              "2015-01-08   50261.0   49017.0   49463.0   49943.0  3621900.0    49943.0\n",
              "...              ...       ...       ...       ...        ...        ...\n",
              "2019-12-20  115171.0  114526.0  115133.0  115121.0  6887400.0   115121.0\n",
              "2019-12-23  115863.0  114964.0  115119.0  115863.0  3995200.0   115863.0\n",
              "2019-12-26  117220.0  115673.0  115864.0  117203.0  3788900.0   117203.0\n",
              "2019-12-27  117803.0  115995.0  117205.0  116534.0  3905900.0   116534.0\n",
              "2019-12-30  117086.0  115790.0  116530.0  115964.0  3667900.0   115964.0\n",
              "\n",
              "[1235 rows x 6 columns]"
            ],
            "text/html": [
              "<div>\n",
              "<style scoped>\n",
              "    .dataframe tbody tr th:only-of-type {\n",
              "        vertical-align: middle;\n",
              "    }\n",
              "\n",
              "    .dataframe tbody tr th {\n",
              "        vertical-align: top;\n",
              "    }\n",
              "\n",
              "    .dataframe thead th {\n",
              "        text-align: right;\n",
              "    }\n",
              "</style>\n",
              "<table border=\"1\" class=\"dataframe\">\n",
              "  <thead>\n",
              "    <tr style=\"text-align: right;\">\n",
              "      <th></th>\n",
              "      <th>High</th>\n",
              "      <th>Low</th>\n",
              "      <th>Open</th>\n",
              "      <th>Close</th>\n",
              "      <th>Volume</th>\n",
              "      <th>Adj Close</th>\n",
              "    </tr>\n",
              "    <tr>\n",
              "      <th>Date</th>\n",
              "      <th></th>\n",
              "      <th></th>\n",
              "      <th></th>\n",
              "      <th></th>\n",
              "      <th></th>\n",
              "      <th></th>\n",
              "    </tr>\n",
              "  </thead>\n",
              "  <tbody>\n",
              "    <tr>\n",
              "      <th>2015-01-02</th>\n",
              "      <td>50005.0</td>\n",
              "      <td>48345.0</td>\n",
              "      <td>50005.0</td>\n",
              "      <td>48512.0</td>\n",
              "      <td>2882100.0</td>\n",
              "      <td>48512.0</td>\n",
              "    </tr>\n",
              "    <tr>\n",
              "      <th>2015-01-05</th>\n",
              "      <td>48512.0</td>\n",
              "      <td>47264.0</td>\n",
              "      <td>48512.0</td>\n",
              "      <td>47517.0</td>\n",
              "      <td>3866100.0</td>\n",
              "      <td>47517.0</td>\n",
              "    </tr>\n",
              "    <tr>\n",
              "      <th>2015-01-06</th>\n",
              "      <td>48061.0</td>\n",
              "      <td>47338.0</td>\n",
              "      <td>47517.0</td>\n",
              "      <td>48001.0</td>\n",
              "      <td>4559300.0</td>\n",
              "      <td>48001.0</td>\n",
              "    </tr>\n",
              "    <tr>\n",
              "      <th>2015-01-07</th>\n",
              "      <td>49882.0</td>\n",
              "      <td>48006.0</td>\n",
              "      <td>48006.0</td>\n",
              "      <td>49463.0</td>\n",
              "      <td>4408800.0</td>\n",
              "      <td>49463.0</td>\n",
              "    </tr>\n",
              "    <tr>\n",
              "      <th>2015-01-08</th>\n",
              "      <td>50261.0</td>\n",
              "      <td>49017.0</td>\n",
              "      <td>49463.0</td>\n",
              "      <td>49943.0</td>\n",
              "      <td>3621900.0</td>\n",
              "      <td>49943.0</td>\n",
              "    </tr>\n",
              "    <tr>\n",
              "      <th>...</th>\n",
              "      <td>...</td>\n",
              "      <td>...</td>\n",
              "      <td>...</td>\n",
              "      <td>...</td>\n",
              "      <td>...</td>\n",
              "      <td>...</td>\n",
              "    </tr>\n",
              "    <tr>\n",
              "      <th>2019-12-20</th>\n",
              "      <td>115171.0</td>\n",
              "      <td>114526.0</td>\n",
              "      <td>115133.0</td>\n",
              "      <td>115121.0</td>\n",
              "      <td>6887400.0</td>\n",
              "      <td>115121.0</td>\n",
              "    </tr>\n",
              "    <tr>\n",
              "      <th>2019-12-23</th>\n",
              "      <td>115863.0</td>\n",
              "      <td>114964.0</td>\n",
              "      <td>115119.0</td>\n",
              "      <td>115863.0</td>\n",
              "      <td>3995200.0</td>\n",
              "      <td>115863.0</td>\n",
              "    </tr>\n",
              "    <tr>\n",
              "      <th>2019-12-26</th>\n",
              "      <td>117220.0</td>\n",
              "      <td>115673.0</td>\n",
              "      <td>115864.0</td>\n",
              "      <td>117203.0</td>\n",
              "      <td>3788900.0</td>\n",
              "      <td>117203.0</td>\n",
              "    </tr>\n",
              "    <tr>\n",
              "      <th>2019-12-27</th>\n",
              "      <td>117803.0</td>\n",
              "      <td>115995.0</td>\n",
              "      <td>117205.0</td>\n",
              "      <td>116534.0</td>\n",
              "      <td>3905900.0</td>\n",
              "      <td>116534.0</td>\n",
              "    </tr>\n",
              "    <tr>\n",
              "      <th>2019-12-30</th>\n",
              "      <td>117086.0</td>\n",
              "      <td>115790.0</td>\n",
              "      <td>116530.0</td>\n",
              "      <td>115964.0</td>\n",
              "      <td>3667900.0</td>\n",
              "      <td>115964.0</td>\n",
              "    </tr>\n",
              "  </tbody>\n",
              "</table>\n",
              "<p>1235 rows × 6 columns</p>\n",
              "</div>"
            ]
          },
          "metadata": {},
          "execution_count": 8
        }
      ],
      "metadata": {
        "colab": {
          "base_uri": "https://localhost:8080/",
          "height": 455
        },
        "id": "K8wtyI6KNbcU",
        "outputId": "6fb60733-4d0c-402b-8992-76ab51576137"
      }
    },
    {
      "cell_type": "code",
      "execution_count": 9,
      "source": [
        "df_bovespa.shape"
      ],
      "outputs": [
        {
          "output_type": "execute_result",
          "data": {
            "text/plain": [
              "(1235, 6)"
            ]
          },
          "metadata": {},
          "execution_count": 9
        }
      ],
      "metadata": {
        "colab": {
          "base_uri": "https://localhost:8080/"
        },
        "id": "EZid73x9Nl_w",
        "outputId": "f47708ec-01ac-4c6b-dea1-87776dfe3732"
      }
    },
    {
      "cell_type": "code",
      "execution_count": 10,
      "source": [
        "df = df.merge(df_bovespa, left_on='Date', right_on='Date', suffixes=('', '_bovespa'))\r\n",
        "df.describe()"
      ],
      "outputs": [
        {
          "output_type": "execute_result",
          "data": {
            "text/plain": [
              "              High          Low         Open        Close        Volume  \\\n",
              "count  1235.000000  1235.000000  1235.000000  1235.000000  1.235000e+03   \n",
              "mean     26.579736    25.942236    26.268392    26.268076  2.107308e+07   \n",
              "std       7.002110     6.887101     6.955826     6.948358  1.037574e+07   \n",
              "min      14.072727    13.824242    13.939393    13.981818  0.000000e+00   \n",
              "25%      19.887052    19.310192    19.674931    19.615702  1.422990e+07   \n",
              "50%      26.406666    25.799999    26.200001    26.066666  1.916430e+07   \n",
              "75%      33.805000    33.021666    33.333332    33.423334  2.546842e+07   \n",
              "max      39.790001    38.400002    38.669998    39.689999  1.049172e+08   \n",
              "\n",
              "         Adj Close   High_bovespa    Low_bovespa   Open_bovespa  \\\n",
              "count  1235.000000    1235.000000    1235.000000    1235.000000   \n",
              "mean     22.759923   71258.726316   69996.229960   70605.106883   \n",
              "std       7.547755   19634.810008   19447.130086   19532.433000   \n",
              "min      10.908615   38031.000000   37046.000000   37501.000000   \n",
              "25%      15.306196   53498.500000   52677.000000   53087.500000   \n",
              "50%      22.069450   66758.000000   65842.000000   66195.000000   \n",
              "75%      30.374873   86157.000000   84582.500000   85515.000000   \n",
              "max      36.209297  117803.000000  115995.000000  117205.000000   \n",
              "\n",
              "       Close_bovespa  Volume_bovespa  Adj Close_bovespa  \n",
              "count    1235.000000    1.235000e+03        1235.000000  \n",
              "mean    70656.285020    3.794215e+06       70656.285020  \n",
              "std     19564.626768    1.203582e+06       19564.626768  \n",
              "min     37497.000000    0.000000e+00       37497.000000  \n",
              "25%     53094.500000    3.078600e+06       53094.500000  \n",
              "50%     66235.000000    3.658900e+06       66235.000000  \n",
              "75%     85539.000000    4.389100e+06       85539.000000  \n",
              "max    117203.000000    1.104670e+07      117203.000000  "
            ],
            "text/html": [
              "<div>\n",
              "<style scoped>\n",
              "    .dataframe tbody tr th:only-of-type {\n",
              "        vertical-align: middle;\n",
              "    }\n",
              "\n",
              "    .dataframe tbody tr th {\n",
              "        vertical-align: top;\n",
              "    }\n",
              "\n",
              "    .dataframe thead th {\n",
              "        text-align: right;\n",
              "    }\n",
              "</style>\n",
              "<table border=\"1\" class=\"dataframe\">\n",
              "  <thead>\n",
              "    <tr style=\"text-align: right;\">\n",
              "      <th></th>\n",
              "      <th>High</th>\n",
              "      <th>Low</th>\n",
              "      <th>Open</th>\n",
              "      <th>Close</th>\n",
              "      <th>Volume</th>\n",
              "      <th>Adj Close</th>\n",
              "      <th>High_bovespa</th>\n",
              "      <th>Low_bovespa</th>\n",
              "      <th>Open_bovespa</th>\n",
              "      <th>Close_bovespa</th>\n",
              "      <th>Volume_bovespa</th>\n",
              "      <th>Adj Close_bovespa</th>\n",
              "    </tr>\n",
              "  </thead>\n",
              "  <tbody>\n",
              "    <tr>\n",
              "      <th>count</th>\n",
              "      <td>1235.000000</td>\n",
              "      <td>1235.000000</td>\n",
              "      <td>1235.000000</td>\n",
              "      <td>1235.000000</td>\n",
              "      <td>1.235000e+03</td>\n",
              "      <td>1235.000000</td>\n",
              "      <td>1235.000000</td>\n",
              "      <td>1235.000000</td>\n",
              "      <td>1235.000000</td>\n",
              "      <td>1235.000000</td>\n",
              "      <td>1.235000e+03</td>\n",
              "      <td>1235.000000</td>\n",
              "    </tr>\n",
              "    <tr>\n",
              "      <th>mean</th>\n",
              "      <td>26.579736</td>\n",
              "      <td>25.942236</td>\n",
              "      <td>26.268392</td>\n",
              "      <td>26.268076</td>\n",
              "      <td>2.107308e+07</td>\n",
              "      <td>22.759923</td>\n",
              "      <td>71258.726316</td>\n",
              "      <td>69996.229960</td>\n",
              "      <td>70605.106883</td>\n",
              "      <td>70656.285020</td>\n",
              "      <td>3.794215e+06</td>\n",
              "      <td>70656.285020</td>\n",
              "    </tr>\n",
              "    <tr>\n",
              "      <th>std</th>\n",
              "      <td>7.002110</td>\n",
              "      <td>6.887101</td>\n",
              "      <td>6.955826</td>\n",
              "      <td>6.948358</td>\n",
              "      <td>1.037574e+07</td>\n",
              "      <td>7.547755</td>\n",
              "      <td>19634.810008</td>\n",
              "      <td>19447.130086</td>\n",
              "      <td>19532.433000</td>\n",
              "      <td>19564.626768</td>\n",
              "      <td>1.203582e+06</td>\n",
              "      <td>19564.626768</td>\n",
              "    </tr>\n",
              "    <tr>\n",
              "      <th>min</th>\n",
              "      <td>14.072727</td>\n",
              "      <td>13.824242</td>\n",
              "      <td>13.939393</td>\n",
              "      <td>13.981818</td>\n",
              "      <td>0.000000e+00</td>\n",
              "      <td>10.908615</td>\n",
              "      <td>38031.000000</td>\n",
              "      <td>37046.000000</td>\n",
              "      <td>37501.000000</td>\n",
              "      <td>37497.000000</td>\n",
              "      <td>0.000000e+00</td>\n",
              "      <td>37497.000000</td>\n",
              "    </tr>\n",
              "    <tr>\n",
              "      <th>25%</th>\n",
              "      <td>19.887052</td>\n",
              "      <td>19.310192</td>\n",
              "      <td>19.674931</td>\n",
              "      <td>19.615702</td>\n",
              "      <td>1.422990e+07</td>\n",
              "      <td>15.306196</td>\n",
              "      <td>53498.500000</td>\n",
              "      <td>52677.000000</td>\n",
              "      <td>53087.500000</td>\n",
              "      <td>53094.500000</td>\n",
              "      <td>3.078600e+06</td>\n",
              "      <td>53094.500000</td>\n",
              "    </tr>\n",
              "    <tr>\n",
              "      <th>50%</th>\n",
              "      <td>26.406666</td>\n",
              "      <td>25.799999</td>\n",
              "      <td>26.200001</td>\n",
              "      <td>26.066666</td>\n",
              "      <td>1.916430e+07</td>\n",
              "      <td>22.069450</td>\n",
              "      <td>66758.000000</td>\n",
              "      <td>65842.000000</td>\n",
              "      <td>66195.000000</td>\n",
              "      <td>66235.000000</td>\n",
              "      <td>3.658900e+06</td>\n",
              "      <td>66235.000000</td>\n",
              "    </tr>\n",
              "    <tr>\n",
              "      <th>75%</th>\n",
              "      <td>33.805000</td>\n",
              "      <td>33.021666</td>\n",
              "      <td>33.333332</td>\n",
              "      <td>33.423334</td>\n",
              "      <td>2.546842e+07</td>\n",
              "      <td>30.374873</td>\n",
              "      <td>86157.000000</td>\n",
              "      <td>84582.500000</td>\n",
              "      <td>85515.000000</td>\n",
              "      <td>85539.000000</td>\n",
              "      <td>4.389100e+06</td>\n",
              "      <td>85539.000000</td>\n",
              "    </tr>\n",
              "    <tr>\n",
              "      <th>max</th>\n",
              "      <td>39.790001</td>\n",
              "      <td>38.400002</td>\n",
              "      <td>38.669998</td>\n",
              "      <td>39.689999</td>\n",
              "      <td>1.049172e+08</td>\n",
              "      <td>36.209297</td>\n",
              "      <td>117803.000000</td>\n",
              "      <td>115995.000000</td>\n",
              "      <td>117205.000000</td>\n",
              "      <td>117203.000000</td>\n",
              "      <td>1.104670e+07</td>\n",
              "      <td>117203.000000</td>\n",
              "    </tr>\n",
              "  </tbody>\n",
              "</table>\n",
              "</div>"
            ]
          },
          "metadata": {},
          "execution_count": 10
        }
      ],
      "metadata": {
        "colab": {
          "base_uri": "https://localhost:8080/",
          "height": 338
        },
        "id": "n8LZIcI-QKBh",
        "outputId": "716bcca0-821b-412f-a09b-921de31567ed"
      }
    },
    {
      "cell_type": "code",
      "execution_count": 11,
      "source": [
        "df['MA3'] = df['Close'].rolling(window=3, min_periods=0).mean()\r\n",
        "df['MA7'] = df['Close'].rolling(window=7, min_periods=0).mean()\r\n",
        "df['MA20'] = df['Close'].rolling(window=20, min_periods=0).mean()\r\n",
        "df['MA30'] = df['Close'].rolling(window=30, min_periods=0).mean()\r\n",
        "df['MA60'] = df['Close'].rolling(window=60, min_periods=0).mean()\r\n",
        "\r\n",
        "cma3 = df['Close'].expanding(min_periods=3).mean()\r\n",
        "df['CMA3'] = cma3.fillna(df['MA3'])\r\n",
        "\r\n",
        "df['ST3'] = df['Close'].rolling(window=3, min_periods=0).std(ddof=0)\r\n",
        "df['ST7'] = df['Close'].rolling(window=7, min_periods=0).std(ddof=0)\r\n",
        "df['ST20'] = df['Close'].rolling(window=20, min_periods=0).std(ddof=0)\r\n",
        "df['ST30'] = df['Close'].rolling(window=30, min_periods=0).std(ddof=0)\r\n",
        "df['ST60'] = df['Close'].rolling(window=60, min_periods=0).std(ddof=0)\r\n",
        "\r\n",
        "df['UPPER3'] = df['MA3'] + (df['ST3'] * 2) \r\n",
        "df['LOWER3'] = df['MA3'] - (df['ST3'] * 2)\r\n",
        "\r\n",
        "df['UPPER7'] = df['MA7'] + (df['ST7'] * 2)\r\n",
        "df['LOWER7'] = df['MA7'] - (df['ST7'] * 2)\r\n",
        "\r\n",
        "df['UPPER20'] = df['MA20'] + (df['ST20'] * 2)\r\n",
        "df['LOWER20'] = df['MA20'] - (df['ST20'] * 2)\r\n",
        "\r\n",
        "df['UPPER30'] = df['MA30'] + (df['ST30'] * 2)\r\n",
        "df['LOWER30'] = df['MA30'] - (df['ST30'] * 2)\r\n",
        "\r\n",
        "df['UPPER60'] = df['MA60'] + (df['ST60'] * 2)\r\n",
        "df['LOWER60'] = df['MA60'] - (df['ST60'] * 2)"
      ],
      "outputs": [],
      "metadata": {
        "id": "HM5JH9tqZckR"
      }
    },
    {
      "cell_type": "code",
      "execution_count": 19,
      "source": [
        "data = df.filter([\"Close\", \"Volume\", \"Close_bovespa\", \"Volume_bovespa\", 'MA3', 'MA30', 'MA60', 'CMA3', 'ST3', 'ST30', 'ST60', 'UPPER3', 'LOWER3', 'UPPER30', 'LOWER30', 'UPPER60', 'LOWER60'])\r\n",
        "dataset = data.values\r\n",
        "#training_data_len = math.ceil(len(dataset) * .7)\r\n",
        "training_data_len = len(data.loc['2015-01-01':'2017-12-29'])\r\n",
        "training_data_len\r\n",
        "dataset.shape\r\n",
        "data\r\n"
      ],
      "outputs": [
        {
          "output_type": "execute_result",
          "data": {
            "text/plain": [
              "                Close      Volume  Close_bovespa  Volume_bovespa        MA3  \\\n",
              "Date                                                                          \n",
              "2015-01-02  18.639118  20756703.0        48512.0       2882100.0  18.639118   \n",
              "2015-01-05  18.732782  23532382.0        47517.0       3866100.0  18.685950   \n",
              "2015-01-06  19.035812  27725577.0        48001.0       4559300.0  18.802571   \n",
              "2015-01-07  19.724518  23601897.0        49463.0       4408800.0  19.164371   \n",
              "2015-01-08  20.033056  21403024.0        49943.0       3621900.0  19.597795   \n",
              "...               ...         ...            ...             ...        ...   \n",
              "2019-12-20  36.500000  24863500.0       115121.0       6887400.0  36.546666   \n",
              "2019-12-23  36.840000  11691500.0       115863.0       3995200.0  36.666667   \n",
              "2019-12-26  37.400002  16333100.0       117203.0       3788900.0  36.913334   \n",
              "2019-12-27  37.299999  13455300.0       116534.0       3905900.0  37.180000   \n",
              "2019-12-30  37.099998   9225800.0       115964.0       3667900.0  37.266666   \n",
              "\n",
              "                 MA30       MA60       CMA3       ST3      ST30      ST60  \\\n",
              "Date                                                                        \n",
              "2015-01-02  18.639118  18.639118  18.639118  0.000000  0.000000  0.000000   \n",
              "2015-01-05  18.685950  18.685950  18.685950  0.046832  0.046832  0.046832   \n",
              "2015-01-06  18.802571  18.802571  18.802571  0.169301  0.169301  0.169301   \n",
              "2015-01-07  19.033058  19.033058  19.033058  0.414954  0.425288  0.425288   \n",
              "2015-01-08  19.233057  19.233057  19.233057  0.416867  0.551992  0.551992   \n",
              "...               ...        ...        ...       ...       ...       ...   \n",
              "2019-12-20  35.761667  35.432500  26.232684  0.080554  0.644681  1.147277   \n",
              "2019-12-23  35.762333  35.451833  26.241294  0.138885  0.645785  1.160977   \n",
              "2019-12-26  35.800000  35.483000  26.250344  0.371065  0.704576  1.187456   \n",
              "2019-12-27  35.829000  35.520833  26.259298  0.243858  0.746563  1.208397   \n",
              "2019-12-30  35.872000  35.568833  26.268076  0.124723  0.780604  1.212963   \n",
              "\n",
              "               UPPER3     LOWER3    UPPER30    LOWER30    UPPER60    LOWER60  \n",
              "Date                                                                          \n",
              "2015-01-02  18.639118  18.639118  18.639118  18.639118  18.639118  18.639118  \n",
              "2015-01-05  18.779614  18.592286  18.779614  18.592286  18.779614  18.592286  \n",
              "2015-01-06  19.141174  18.463968  19.141174  18.463968  19.141174  18.463968  \n",
              "2015-01-07  19.994279  18.334463  19.883633  18.182482  19.883633  18.182482  \n",
              "2015-01-08  20.431530  18.764061  20.337041  18.129073  20.337041  18.129073  \n",
              "...               ...        ...        ...        ...        ...        ...  \n",
              "2019-12-20  36.707774  36.385559  37.051029  34.472304  37.727054  33.137946  \n",
              "2019-12-23  36.944436  36.388898  37.053903  34.470764  37.773788  33.129879  \n",
              "2019-12-26  37.655464  36.171204  37.209151  34.390849  37.857911  33.108089  \n",
              "2019-12-27  37.667717  36.692284  37.322125  34.335875  37.937628  33.104039  \n",
              "2019-12-30  37.516113  37.017220  37.433208  34.310792  37.994760  33.142907  \n",
              "\n",
              "[1235 rows x 17 columns]"
            ],
            "text/html": [
              "<div>\n",
              "<style scoped>\n",
              "    .dataframe tbody tr th:only-of-type {\n",
              "        vertical-align: middle;\n",
              "    }\n",
              "\n",
              "    .dataframe tbody tr th {\n",
              "        vertical-align: top;\n",
              "    }\n",
              "\n",
              "    .dataframe thead th {\n",
              "        text-align: right;\n",
              "    }\n",
              "</style>\n",
              "<table border=\"1\" class=\"dataframe\">\n",
              "  <thead>\n",
              "    <tr style=\"text-align: right;\">\n",
              "      <th></th>\n",
              "      <th>Close</th>\n",
              "      <th>Volume</th>\n",
              "      <th>Close_bovespa</th>\n",
              "      <th>Volume_bovespa</th>\n",
              "      <th>MA3</th>\n",
              "      <th>MA30</th>\n",
              "      <th>MA60</th>\n",
              "      <th>CMA3</th>\n",
              "      <th>ST3</th>\n",
              "      <th>ST30</th>\n",
              "      <th>ST60</th>\n",
              "      <th>UPPER3</th>\n",
              "      <th>LOWER3</th>\n",
              "      <th>UPPER30</th>\n",
              "      <th>LOWER30</th>\n",
              "      <th>UPPER60</th>\n",
              "      <th>LOWER60</th>\n",
              "    </tr>\n",
              "    <tr>\n",
              "      <th>Date</th>\n",
              "      <th></th>\n",
              "      <th></th>\n",
              "      <th></th>\n",
              "      <th></th>\n",
              "      <th></th>\n",
              "      <th></th>\n",
              "      <th></th>\n",
              "      <th></th>\n",
              "      <th></th>\n",
              "      <th></th>\n",
              "      <th></th>\n",
              "      <th></th>\n",
              "      <th></th>\n",
              "      <th></th>\n",
              "      <th></th>\n",
              "      <th></th>\n",
              "      <th></th>\n",
              "    </tr>\n",
              "  </thead>\n",
              "  <tbody>\n",
              "    <tr>\n",
              "      <th>2015-01-02</th>\n",
              "      <td>18.639118</td>\n",
              "      <td>20756703.0</td>\n",
              "      <td>48512.0</td>\n",
              "      <td>2882100.0</td>\n",
              "      <td>18.639118</td>\n",
              "      <td>18.639118</td>\n",
              "      <td>18.639118</td>\n",
              "      <td>18.639118</td>\n",
              "      <td>0.000000</td>\n",
              "      <td>0.000000</td>\n",
              "      <td>0.000000</td>\n",
              "      <td>18.639118</td>\n",
              "      <td>18.639118</td>\n",
              "      <td>18.639118</td>\n",
              "      <td>18.639118</td>\n",
              "      <td>18.639118</td>\n",
              "      <td>18.639118</td>\n",
              "    </tr>\n",
              "    <tr>\n",
              "      <th>2015-01-05</th>\n",
              "      <td>18.732782</td>\n",
              "      <td>23532382.0</td>\n",
              "      <td>47517.0</td>\n",
              "      <td>3866100.0</td>\n",
              "      <td>18.685950</td>\n",
              "      <td>18.685950</td>\n",
              "      <td>18.685950</td>\n",
              "      <td>18.685950</td>\n",
              "      <td>0.046832</td>\n",
              "      <td>0.046832</td>\n",
              "      <td>0.046832</td>\n",
              "      <td>18.779614</td>\n",
              "      <td>18.592286</td>\n",
              "      <td>18.779614</td>\n",
              "      <td>18.592286</td>\n",
              "      <td>18.779614</td>\n",
              "      <td>18.592286</td>\n",
              "    </tr>\n",
              "    <tr>\n",
              "      <th>2015-01-06</th>\n",
              "      <td>19.035812</td>\n",
              "      <td>27725577.0</td>\n",
              "      <td>48001.0</td>\n",
              "      <td>4559300.0</td>\n",
              "      <td>18.802571</td>\n",
              "      <td>18.802571</td>\n",
              "      <td>18.802571</td>\n",
              "      <td>18.802571</td>\n",
              "      <td>0.169301</td>\n",
              "      <td>0.169301</td>\n",
              "      <td>0.169301</td>\n",
              "      <td>19.141174</td>\n",
              "      <td>18.463968</td>\n",
              "      <td>19.141174</td>\n",
              "      <td>18.463968</td>\n",
              "      <td>19.141174</td>\n",
              "      <td>18.463968</td>\n",
              "    </tr>\n",
              "    <tr>\n",
              "      <th>2015-01-07</th>\n",
              "      <td>19.724518</td>\n",
              "      <td>23601897.0</td>\n",
              "      <td>49463.0</td>\n",
              "      <td>4408800.0</td>\n",
              "      <td>19.164371</td>\n",
              "      <td>19.033058</td>\n",
              "      <td>19.033058</td>\n",
              "      <td>19.033058</td>\n",
              "      <td>0.414954</td>\n",
              "      <td>0.425288</td>\n",
              "      <td>0.425288</td>\n",
              "      <td>19.994279</td>\n",
              "      <td>18.334463</td>\n",
              "      <td>19.883633</td>\n",
              "      <td>18.182482</td>\n",
              "      <td>19.883633</td>\n",
              "      <td>18.182482</td>\n",
              "    </tr>\n",
              "    <tr>\n",
              "      <th>2015-01-08</th>\n",
              "      <td>20.033056</td>\n",
              "      <td>21403024.0</td>\n",
              "      <td>49943.0</td>\n",
              "      <td>3621900.0</td>\n",
              "      <td>19.597795</td>\n",
              "      <td>19.233057</td>\n",
              "      <td>19.233057</td>\n",
              "      <td>19.233057</td>\n",
              "      <td>0.416867</td>\n",
              "      <td>0.551992</td>\n",
              "      <td>0.551992</td>\n",
              "      <td>20.431530</td>\n",
              "      <td>18.764061</td>\n",
              "      <td>20.337041</td>\n",
              "      <td>18.129073</td>\n",
              "      <td>20.337041</td>\n",
              "      <td>18.129073</td>\n",
              "    </tr>\n",
              "    <tr>\n",
              "      <th>...</th>\n",
              "      <td>...</td>\n",
              "      <td>...</td>\n",
              "      <td>...</td>\n",
              "      <td>...</td>\n",
              "      <td>...</td>\n",
              "      <td>...</td>\n",
              "      <td>...</td>\n",
              "      <td>...</td>\n",
              "      <td>...</td>\n",
              "      <td>...</td>\n",
              "      <td>...</td>\n",
              "      <td>...</td>\n",
              "      <td>...</td>\n",
              "      <td>...</td>\n",
              "      <td>...</td>\n",
              "      <td>...</td>\n",
              "      <td>...</td>\n",
              "    </tr>\n",
              "    <tr>\n",
              "      <th>2019-12-20</th>\n",
              "      <td>36.500000</td>\n",
              "      <td>24863500.0</td>\n",
              "      <td>115121.0</td>\n",
              "      <td>6887400.0</td>\n",
              "      <td>36.546666</td>\n",
              "      <td>35.761667</td>\n",
              "      <td>35.432500</td>\n",
              "      <td>26.232684</td>\n",
              "      <td>0.080554</td>\n",
              "      <td>0.644681</td>\n",
              "      <td>1.147277</td>\n",
              "      <td>36.707774</td>\n",
              "      <td>36.385559</td>\n",
              "      <td>37.051029</td>\n",
              "      <td>34.472304</td>\n",
              "      <td>37.727054</td>\n",
              "      <td>33.137946</td>\n",
              "    </tr>\n",
              "    <tr>\n",
              "      <th>2019-12-23</th>\n",
              "      <td>36.840000</td>\n",
              "      <td>11691500.0</td>\n",
              "      <td>115863.0</td>\n",
              "      <td>3995200.0</td>\n",
              "      <td>36.666667</td>\n",
              "      <td>35.762333</td>\n",
              "      <td>35.451833</td>\n",
              "      <td>26.241294</td>\n",
              "      <td>0.138885</td>\n",
              "      <td>0.645785</td>\n",
              "      <td>1.160977</td>\n",
              "      <td>36.944436</td>\n",
              "      <td>36.388898</td>\n",
              "      <td>37.053903</td>\n",
              "      <td>34.470764</td>\n",
              "      <td>37.773788</td>\n",
              "      <td>33.129879</td>\n",
              "    </tr>\n",
              "    <tr>\n",
              "      <th>2019-12-26</th>\n",
              "      <td>37.400002</td>\n",
              "      <td>16333100.0</td>\n",
              "      <td>117203.0</td>\n",
              "      <td>3788900.0</td>\n",
              "      <td>36.913334</td>\n",
              "      <td>35.800000</td>\n",
              "      <td>35.483000</td>\n",
              "      <td>26.250344</td>\n",
              "      <td>0.371065</td>\n",
              "      <td>0.704576</td>\n",
              "      <td>1.187456</td>\n",
              "      <td>37.655464</td>\n",
              "      <td>36.171204</td>\n",
              "      <td>37.209151</td>\n",
              "      <td>34.390849</td>\n",
              "      <td>37.857911</td>\n",
              "      <td>33.108089</td>\n",
              "    </tr>\n",
              "    <tr>\n",
              "      <th>2019-12-27</th>\n",
              "      <td>37.299999</td>\n",
              "      <td>13455300.0</td>\n",
              "      <td>116534.0</td>\n",
              "      <td>3905900.0</td>\n",
              "      <td>37.180000</td>\n",
              "      <td>35.829000</td>\n",
              "      <td>35.520833</td>\n",
              "      <td>26.259298</td>\n",
              "      <td>0.243858</td>\n",
              "      <td>0.746563</td>\n",
              "      <td>1.208397</td>\n",
              "      <td>37.667717</td>\n",
              "      <td>36.692284</td>\n",
              "      <td>37.322125</td>\n",
              "      <td>34.335875</td>\n",
              "      <td>37.937628</td>\n",
              "      <td>33.104039</td>\n",
              "    </tr>\n",
              "    <tr>\n",
              "      <th>2019-12-30</th>\n",
              "      <td>37.099998</td>\n",
              "      <td>9225800.0</td>\n",
              "      <td>115964.0</td>\n",
              "      <td>3667900.0</td>\n",
              "      <td>37.266666</td>\n",
              "      <td>35.872000</td>\n",
              "      <td>35.568833</td>\n",
              "      <td>26.268076</td>\n",
              "      <td>0.124723</td>\n",
              "      <td>0.780604</td>\n",
              "      <td>1.212963</td>\n",
              "      <td>37.516113</td>\n",
              "      <td>37.017220</td>\n",
              "      <td>37.433208</td>\n",
              "      <td>34.310792</td>\n",
              "      <td>37.994760</td>\n",
              "      <td>33.142907</td>\n",
              "    </tr>\n",
              "  </tbody>\n",
              "</table>\n",
              "<p>1235 rows × 17 columns</p>\n",
              "</div>"
            ]
          },
          "metadata": {},
          "execution_count": 19
        }
      ],
      "metadata": {
        "colab": {
          "base_uri": "https://localhost:8080/",
          "height": 475
        },
        "id": "0zLbypzWtzci",
        "outputId": "2aea5367-f61b-47d3-c965-a28c78dfb868"
      }
    },
    {
      "cell_type": "code",
      "execution_count": 20,
      "source": [
        "sc = MinMaxScaler(feature_range = (0, 1))\r\n",
        "scaled_data = sc.fit_transform(dataset)"
      ],
      "outputs": [],
      "metadata": {
        "id": "TAqmEmtyuB16"
      }
    },
    {
      "cell_type": "code",
      "execution_count": 21,
      "source": [
        "scaled_data"
      ],
      "outputs": [
        {
          "output_type": "execute_result",
          "data": {
            "text/plain": [
              "array([[0.18116023, 0.1978389 , 0.13819537, ..., 0.25763688, 0.048214  ,\n",
              "        0.29295635],\n",
              "       [0.1848036 , 0.2242948 , 0.12571199, ..., 0.25566927, 0.05456987,\n",
              "        0.29085109],\n",
              "       [0.19659089, 0.2642615 , 0.13178431, ..., 0.25027813, 0.07092633,\n",
              "        0.28508278],\n",
              "       ...,\n",
              "       [0.91092341, 0.1556761 , 1.        , ..., 0.91942983, 0.91764724,\n",
              "        0.94338467],\n",
              "       [0.90703351, 0.12824685, 0.99160665, ..., 0.91712016, 0.92125352,\n",
              "        0.9432026 ],\n",
              "       [0.89925385, 0.0879341 , 0.98445537, ..., 0.91606632, 0.92383809,\n",
              "        0.94494985]])"
            ]
          },
          "metadata": {},
          "execution_count": 21
        }
      ],
      "metadata": {
        "colab": {
          "base_uri": "https://localhost:8080/"
        },
        "id": "1xCbxaHWuJFU",
        "outputId": "0be80077-a861-4a97-84fa-1880b67dd579"
      }
    },
    {
      "cell_type": "code",
      "execution_count": 22,
      "source": [
        "train_data = scaled_data[0:training_data_len,:]\r\n",
        "# print(train_data)\r\n",
        "window = 60\r\n",
        "X_train = []\r\n",
        "y_train = []\r\n",
        "for i in range(window, len(train_data)):\r\n",
        "    X_train.append(train_data[i-window:i,:])\r\n",
        "    y_train.append(train_data[i, 0:1])\r\n",
        "    # if i <= (window + 1):\r\n",
        "    #   print(X_train)\r\n",
        "    #   print(y_train)\r\n",
        "    #   print()\r\n",
        "X_train, y_train = np.array(X_train), np.array(y_train)"
      ],
      "outputs": [],
      "metadata": {
        "id": "dv_rZkU1uqlc"
      }
    },
    {
      "cell_type": "code",
      "execution_count": 23,
      "source": [
        "X_train.shape"
      ],
      "outputs": [
        {
          "output_type": "execute_result",
          "data": {
            "text/plain": [
              "(683, 60, 17)"
            ]
          },
          "metadata": {},
          "execution_count": 23
        }
      ],
      "metadata": {
        "colab": {
          "base_uri": "https://localhost:8080/"
        },
        "id": "AqkMLK-4uxzK",
        "outputId": "5be5f6ac-674c-42c4-d34c-a53585aa5e83"
      }
    },
    {
      "cell_type": "code",
      "execution_count": 24,
      "source": [
        "X_train = np.reshape(X_train, (X_train.shape[0], X_train.shape[1], -1))"
      ],
      "outputs": [],
      "metadata": {
        "id": "jJ0aXnzAuy1C"
      }
    },
    {
      "cell_type": "code",
      "execution_count": 25,
      "source": [
        "X_train.shape"
      ],
      "outputs": [
        {
          "output_type": "execute_result",
          "data": {
            "text/plain": [
              "(683, 60, 17)"
            ]
          },
          "metadata": {},
          "execution_count": 25
        }
      ],
      "metadata": {
        "colab": {
          "base_uri": "https://localhost:8080/"
        },
        "id": "q03yzNLlu2on",
        "outputId": "57a02082-30eb-4932-eafe-9e36b5f2e9dc"
      }
    },
    {
      "cell_type": "code",
      "execution_count": 26,
      "source": [
        "# Inicializar a RNN\r\n",
        "regressor = Sequential()\r\n",
        "\r\n",
        "# Adicionar a primeira camada LSTM e Dropout \r\n",
        "regressor.add(LSTM(units = 100, return_sequences = True, input_shape = (X_train.shape[1], X_train.shape[2])))\r\n",
        "regressor.add(Dropout(0.2))\r\n",
        " \r\n",
        "# Adicionar a segunda camada LSTM e Dropout\r\n",
        "regressor.add(LSTM(units = 80, return_sequences = True))\r\n",
        "regressor.add(Dropout(0.2))\r\n",
        " \r\n",
        "# Adicionar a terceira camada LSTM e Dropout\r\n",
        "regressor.add(LSTM(units = 50))\r\n",
        "regressor.add(Dropout(0.2))\r\n",
        " \r\n",
        "# camada de saída\r\n",
        "regressor.add(Dense(units = 1))\r\n",
        " \r\n",
        "# Compilar a rede\r\n",
        "regressor.compile(optimizer = 'adam', loss = 'mean_squared_error')\r\n",
        "# regressor.compile(loss = 'mean_squared_error')\r\n",
        "\r\n",
        "# Visualizar a rede\r\n",
        "regressor.summary()"
      ],
      "outputs": [
        {
          "output_type": "stream",
          "name": "stdout",
          "text": [
            "Model: \"sequential\"\n",
            "_________________________________________________________________\n",
            "Layer (type)                 Output Shape              Param #   \n",
            "=================================================================\n",
            "lstm (LSTM)                  (None, 60, 100)           47200     \n",
            "_________________________________________________________________\n",
            "dropout (Dropout)            (None, 60, 100)           0         \n",
            "_________________________________________________________________\n",
            "lstm_1 (LSTM)                (None, 60, 80)            57920     \n",
            "_________________________________________________________________\n",
            "dropout_1 (Dropout)          (None, 60, 80)            0         \n",
            "_________________________________________________________________\n",
            "lstm_2 (LSTM)                (None, 50)                26200     \n",
            "_________________________________________________________________\n",
            "dropout_2 (Dropout)          (None, 50)                0         \n",
            "_________________________________________________________________\n",
            "dense (Dense)                (None, 1)                 51        \n",
            "=================================================================\n",
            "Total params: 131,371\n",
            "Trainable params: 131,371\n",
            "Non-trainable params: 0\n",
            "_________________________________________________________________\n"
          ]
        }
      ],
      "metadata": {
        "colab": {
          "base_uri": "https://localhost:8080/"
        },
        "id": "RkUoLngeu6aj",
        "outputId": "2928eeb4-e219-45df-9765-5f18865c5fbc"
      }
    },
    {
      "cell_type": "code",
      "execution_count": 27,
      "source": [
        "history = regressor.fit(X_train, y_train, epochs = 50, batch_size = 1)"
      ],
      "outputs": [
        {
          "output_type": "stream",
          "name": "stdout",
          "text": [
            "Epoch 1/50\n",
            "683/683 [==============================] - 17s 25ms/step - loss: 0.0068\n",
            "Epoch 2/50\n",
            "683/683 [==============================] - 19s 27ms/step - loss: 0.0033\n",
            "Epoch 3/50\n",
            "683/683 [==============================] - 19s 27ms/step - loss: 0.0022\n",
            "Epoch 4/50\n",
            "683/683 [==============================] - 19s 27ms/step - loss: 0.0024\n",
            "Epoch 5/50\n",
            "683/683 [==============================] - 18s 27ms/step - loss: 0.0021\n",
            "Epoch 6/50\n",
            "683/683 [==============================] - 19s 27ms/step - loss: 0.0021\n",
            "Epoch 7/50\n",
            "683/683 [==============================] - 19s 27ms/step - loss: 0.0017\n",
            "Epoch 8/50\n",
            "683/683 [==============================] - 19s 27ms/step - loss: 0.0017\n",
            "Epoch 9/50\n",
            "683/683 [==============================] - 19s 27ms/step - loss: 0.0016\n",
            "Epoch 10/50\n",
            "683/683 [==============================] - 19s 27ms/step - loss: 0.0015\n",
            "Epoch 11/50\n",
            "683/683 [==============================] - 19s 27ms/step - loss: 0.0016\n",
            "Epoch 12/50\n",
            "683/683 [==============================] - 19s 27ms/step - loss: 0.0013\n",
            "Epoch 13/50\n",
            "683/683 [==============================] - 19s 27ms/step - loss: 0.0012\n",
            "Epoch 14/50\n",
            "683/683 [==============================] - 20s 29ms/step - loss: 0.0013\n",
            "Epoch 15/50\n",
            "683/683 [==============================] - 21s 31ms/step - loss: 0.0013\n",
            "Epoch 16/50\n",
            "683/683 [==============================] - 23s 33ms/step - loss: 0.0013\n",
            "Epoch 17/50\n",
            "683/683 [==============================] - 24s 35ms/step - loss: 0.0010\n",
            "Epoch 18/50\n",
            "683/683 [==============================] - 25s 36ms/step - loss: 0.0010\n",
            "Epoch 19/50\n",
            "683/683 [==============================] - 23s 33ms/step - loss: 0.0011\n",
            "Epoch 20/50\n",
            "683/683 [==============================] - 24s 36ms/step - loss: 9.2687e-04\n",
            "Epoch 21/50\n",
            "683/683 [==============================] - 28s 42ms/step - loss: 0.0010\n",
            "Epoch 22/50\n",
            "683/683 [==============================] - 25s 37ms/step - loss: 0.0011\n",
            "Epoch 23/50\n",
            "683/683 [==============================] - 23s 33ms/step - loss: 9.6483e-04\n",
            "Epoch 24/50\n",
            "683/683 [==============================] - 27s 39ms/step - loss: 8.3453e-04\n",
            "Epoch 25/50\n",
            "683/683 [==============================] - 26s 38ms/step - loss: 9.8488e-04\n",
            "Epoch 26/50\n",
            "683/683 [==============================] - 23s 34ms/step - loss: 8.7796e-04\n",
            "Epoch 27/50\n",
            "683/683 [==============================] - 24s 35ms/step - loss: 8.3288e-04\n",
            "Epoch 28/50\n",
            "683/683 [==============================] - 22s 32ms/step - loss: 9.0996e-04\n",
            "Epoch 29/50\n",
            "683/683 [==============================] - 24s 36ms/step - loss: 9.6313e-04\n",
            "Epoch 30/50\n",
            "683/683 [==============================] - 22s 32ms/step - loss: 9.1418e-04\n",
            "Epoch 31/50\n",
            "683/683 [==============================] - 20s 29ms/step - loss: 7.8508e-04\n",
            "Epoch 32/50\n",
            "683/683 [==============================] - 19s 27ms/step - loss: 8.8835e-04\n",
            "Epoch 33/50\n",
            "683/683 [==============================] - 19s 27ms/step - loss: 9.1628e-04\n",
            "Epoch 34/50\n",
            "683/683 [==============================] - 19s 28ms/step - loss: 7.3418e-04\n",
            "Epoch 35/50\n",
            "683/683 [==============================] - 19s 27ms/step - loss: 8.9457e-04\n",
            "Epoch 36/50\n",
            "683/683 [==============================] - 18s 26ms/step - loss: 8.1274e-04\n",
            "Epoch 37/50\n",
            "683/683 [==============================] - 19s 27ms/step - loss: 8.3774e-04\n",
            "Epoch 38/50\n",
            "683/683 [==============================] - 18s 27ms/step - loss: 8.5110e-04\n",
            "Epoch 39/50\n",
            "683/683 [==============================] - 18s 27ms/step - loss: 7.0976e-04\n",
            "Epoch 40/50\n",
            "683/683 [==============================] - 18s 26ms/step - loss: 7.2961e-04\n",
            "Epoch 41/50\n",
            "683/683 [==============================] - 18s 26ms/step - loss: 8.3398e-04\n",
            "Epoch 42/50\n",
            "683/683 [==============================] - 17s 26ms/step - loss: 8.2321e-04\n",
            "Epoch 43/50\n",
            "683/683 [==============================] - 17s 25ms/step - loss: 7.5220e-04\n",
            "Epoch 44/50\n",
            "683/683 [==============================] - 17s 25ms/step - loss: 6.8362e-04\n",
            "Epoch 45/50\n",
            "683/683 [==============================] - 17s 26ms/step - loss: 6.7820e-04\n",
            "Epoch 46/50\n",
            "683/683 [==============================] - 17s 25ms/step - loss: 7.9301e-04\n",
            "Epoch 47/50\n",
            "683/683 [==============================] - 18s 26ms/step - loss: 6.9032e-04\n",
            "Epoch 48/50\n",
            "683/683 [==============================] - 18s 26ms/step - loss: 7.1945e-04\n",
            "Epoch 49/50\n",
            "683/683 [==============================] - 17s 25ms/step - loss: 7.5186e-04\n",
            "Epoch 50/50\n",
            "683/683 [==============================] - 17s 25ms/step - loss: 6.6654e-04\n"
          ]
        }
      ],
      "metadata": {
        "colab": {
          "base_uri": "https://localhost:8080/"
        },
        "id": "90uaYsDwu9FU",
        "outputId": "3b38ba75-e6b2-409e-cecb-a65846f77a7a"
      }
    },
    {
      "cell_type": "code",
      "execution_count": 28,
      "source": [
        "plt.plot(history.history['loss'], label='treino')\r\n",
        "plt.legend();"
      ],
      "outputs": [
        {
          "output_type": "display_data",
          "data": {
            "text/plain": [
              "<Figure size 432x288 with 1 Axes>"
            ],
            "image/svg+xml": "<?xml version=\"1.0\" encoding=\"utf-8\" standalone=\"no\"?>\r\n<!DOCTYPE svg PUBLIC \"-//W3C//DTD SVG 1.1//EN\"\r\n  \"http://www.w3.org/Graphics/SVG/1.1/DTD/svg11.dtd\">\r\n<svg height=\"248.518125pt\" version=\"1.1\" viewBox=\"0 0 384.828125 248.518125\" width=\"384.828125pt\" xmlns=\"http://www.w3.org/2000/svg\" xmlns:xlink=\"http://www.w3.org/1999/xlink\">\r\n <metadata>\r\n  <rdf:RDF xmlns:cc=\"http://creativecommons.org/ns#\" xmlns:dc=\"http://purl.org/dc/elements/1.1/\" xmlns:rdf=\"http://www.w3.org/1999/02/22-rdf-syntax-ns#\">\r\n   <cc:Work>\r\n    <dc:type rdf:resource=\"http://purl.org/dc/dcmitype/StillImage\"/>\r\n    <dc:date>2021-08-15T22:51:10.649740</dc:date>\r\n    <dc:format>image/svg+xml</dc:format>\r\n    <dc:creator>\r\n     <cc:Agent>\r\n      <dc:title>Matplotlib v3.4.2, https://matplotlib.org/</dc:title>\r\n     </cc:Agent>\r\n    </dc:creator>\r\n   </cc:Work>\r\n  </rdf:RDF>\r\n </metadata>\r\n <defs>\r\n  <style type=\"text/css\">*{stroke-linecap:butt;stroke-linejoin:round;}</style>\r\n </defs>\r\n <g id=\"figure_1\">\r\n  <g id=\"patch_1\">\r\n   <path d=\"M 0 248.518125 \r\nL 384.828125 248.518125 \r\nL 384.828125 0 \r\nL 0 0 \r\nz\r\n\" style=\"fill:none;\"/>\r\n  </g>\r\n  <g id=\"axes_1\">\r\n   <g id=\"patch_2\">\r\n    <path d=\"M 42.828125 224.64 \r\nL 377.628125 224.64 \r\nL 377.628125 7.2 \r\nL 42.828125 7.2 \r\nz\r\n\" style=\"fill:#ffffff;\"/>\r\n   </g>\r\n   <g id=\"matplotlib.axis_1\">\r\n    <g id=\"xtick_1\">\r\n     <g id=\"line2d_1\">\r\n      <defs>\r\n       <path d=\"M 0 0 \r\nL 0 3.5 \r\n\" id=\"m3ea8dcded0\" style=\"stroke:#000000;stroke-width:0.8;\"/>\r\n      </defs>\r\n      <g>\r\n       <use style=\"stroke:#000000;stroke-width:0.8;\" x=\"58.046307\" xlink:href=\"#m3ea8dcded0\" y=\"224.64\"/>\r\n      </g>\r\n     </g>\r\n     <g id=\"text_1\">\r\n      <!-- 0 -->\r\n      <g transform=\"translate(54.865057 239.238437)scale(0.1 -0.1)\">\r\n       <defs>\r\n        <path d=\"M 2034 4250 \r\nQ 1547 4250 1301 3770 \r\nQ 1056 3291 1056 2328 \r\nQ 1056 1369 1301 889 \r\nQ 1547 409 2034 409 \r\nQ 2525 409 2770 889 \r\nQ 3016 1369 3016 2328 \r\nQ 3016 3291 2770 3770 \r\nQ 2525 4250 2034 4250 \r\nz\r\nM 2034 4750 \r\nQ 2819 4750 3233 4129 \r\nQ 3647 3509 3647 2328 \r\nQ 3647 1150 3233 529 \r\nQ 2819 -91 2034 -91 \r\nQ 1250 -91 836 529 \r\nQ 422 1150 422 2328 \r\nQ 422 3509 836 4129 \r\nQ 1250 4750 2034 4750 \r\nz\r\n\" id=\"DejaVuSans-30\" transform=\"scale(0.015625)\"/>\r\n       </defs>\r\n       <use xlink:href=\"#DejaVuSans-30\"/>\r\n      </g>\r\n     </g>\r\n    </g>\r\n    <g id=\"xtick_2\">\r\n     <g id=\"line2d_2\">\r\n      <g>\r\n       <use style=\"stroke:#000000;stroke-width:0.8;\" x=\"120.161335\" xlink:href=\"#m3ea8dcded0\" y=\"224.64\"/>\r\n      </g>\r\n     </g>\r\n     <g id=\"text_2\">\r\n      <!-- 10 -->\r\n      <g transform=\"translate(113.798835 239.238437)scale(0.1 -0.1)\">\r\n       <defs>\r\n        <path d=\"M 794 531 \r\nL 1825 531 \r\nL 1825 4091 \r\nL 703 3866 \r\nL 703 4441 \r\nL 1819 4666 \r\nL 2450 4666 \r\nL 2450 531 \r\nL 3481 531 \r\nL 3481 0 \r\nL 794 0 \r\nL 794 531 \r\nz\r\n\" id=\"DejaVuSans-31\" transform=\"scale(0.015625)\"/>\r\n       </defs>\r\n       <use xlink:href=\"#DejaVuSans-31\"/>\r\n       <use x=\"63.623047\" xlink:href=\"#DejaVuSans-30\"/>\r\n      </g>\r\n     </g>\r\n    </g>\r\n    <g id=\"xtick_3\">\r\n     <g id=\"line2d_3\">\r\n      <g>\r\n       <use style=\"stroke:#000000;stroke-width:0.8;\" x=\"182.276362\" xlink:href=\"#m3ea8dcded0\" y=\"224.64\"/>\r\n      </g>\r\n     </g>\r\n     <g id=\"text_3\">\r\n      <!-- 20 -->\r\n      <g transform=\"translate(175.913862 239.238437)scale(0.1 -0.1)\">\r\n       <defs>\r\n        <path d=\"M 1228 531 \r\nL 3431 531 \r\nL 3431 0 \r\nL 469 0 \r\nL 469 531 \r\nQ 828 903 1448 1529 \r\nQ 2069 2156 2228 2338 \r\nQ 2531 2678 2651 2914 \r\nQ 2772 3150 2772 3378 \r\nQ 2772 3750 2511 3984 \r\nQ 2250 4219 1831 4219 \r\nQ 1534 4219 1204 4116 \r\nQ 875 4013 500 3803 \r\nL 500 4441 \r\nQ 881 4594 1212 4672 \r\nQ 1544 4750 1819 4750 \r\nQ 2544 4750 2975 4387 \r\nQ 3406 4025 3406 3419 \r\nQ 3406 3131 3298 2873 \r\nQ 3191 2616 2906 2266 \r\nQ 2828 2175 2409 1742 \r\nQ 1991 1309 1228 531 \r\nz\r\n\" id=\"DejaVuSans-32\" transform=\"scale(0.015625)\"/>\r\n       </defs>\r\n       <use xlink:href=\"#DejaVuSans-32\"/>\r\n       <use x=\"63.623047\" xlink:href=\"#DejaVuSans-30\"/>\r\n      </g>\r\n     </g>\r\n    </g>\r\n    <g id=\"xtick_4\">\r\n     <g id=\"line2d_4\">\r\n      <g>\r\n       <use style=\"stroke:#000000;stroke-width:0.8;\" x=\"244.39139\" xlink:href=\"#m3ea8dcded0\" y=\"224.64\"/>\r\n      </g>\r\n     </g>\r\n     <g id=\"text_4\">\r\n      <!-- 30 -->\r\n      <g transform=\"translate(238.02889 239.238437)scale(0.1 -0.1)\">\r\n       <defs>\r\n        <path d=\"M 2597 2516 \r\nQ 3050 2419 3304 2112 \r\nQ 3559 1806 3559 1356 \r\nQ 3559 666 3084 287 \r\nQ 2609 -91 1734 -91 \r\nQ 1441 -91 1130 -33 \r\nQ 819 25 488 141 \r\nL 488 750 \r\nQ 750 597 1062 519 \r\nQ 1375 441 1716 441 \r\nQ 2309 441 2620 675 \r\nQ 2931 909 2931 1356 \r\nQ 2931 1769 2642 2001 \r\nQ 2353 2234 1838 2234 \r\nL 1294 2234 \r\nL 1294 2753 \r\nL 1863 2753 \r\nQ 2328 2753 2575 2939 \r\nQ 2822 3125 2822 3475 \r\nQ 2822 3834 2567 4026 \r\nQ 2313 4219 1838 4219 \r\nQ 1578 4219 1281 4162 \r\nQ 984 4106 628 3988 \r\nL 628 4550 \r\nQ 988 4650 1302 4700 \r\nQ 1616 4750 1894 4750 \r\nQ 2613 4750 3031 4423 \r\nQ 3450 4097 3450 3541 \r\nQ 3450 3153 3228 2886 \r\nQ 3006 2619 2597 2516 \r\nz\r\n\" id=\"DejaVuSans-33\" transform=\"scale(0.015625)\"/>\r\n       </defs>\r\n       <use xlink:href=\"#DejaVuSans-33\"/>\r\n       <use x=\"63.623047\" xlink:href=\"#DejaVuSans-30\"/>\r\n      </g>\r\n     </g>\r\n    </g>\r\n    <g id=\"xtick_5\">\r\n     <g id=\"line2d_5\">\r\n      <g>\r\n       <use style=\"stroke:#000000;stroke-width:0.8;\" x=\"306.506418\" xlink:href=\"#m3ea8dcded0\" y=\"224.64\"/>\r\n      </g>\r\n     </g>\r\n     <g id=\"text_5\">\r\n      <!-- 40 -->\r\n      <g transform=\"translate(300.143918 239.238437)scale(0.1 -0.1)\">\r\n       <defs>\r\n        <path d=\"M 2419 4116 \r\nL 825 1625 \r\nL 2419 1625 \r\nL 2419 4116 \r\nz\r\nM 2253 4666 \r\nL 3047 4666 \r\nL 3047 1625 \r\nL 3713 1625 \r\nL 3713 1100 \r\nL 3047 1100 \r\nL 3047 0 \r\nL 2419 0 \r\nL 2419 1100 \r\nL 313 1100 \r\nL 313 1709 \r\nL 2253 4666 \r\nz\r\n\" id=\"DejaVuSans-34\" transform=\"scale(0.015625)\"/>\r\n       </defs>\r\n       <use xlink:href=\"#DejaVuSans-34\"/>\r\n       <use x=\"63.623047\" xlink:href=\"#DejaVuSans-30\"/>\r\n      </g>\r\n     </g>\r\n    </g>\r\n    <g id=\"xtick_6\">\r\n     <g id=\"line2d_6\">\r\n      <g>\r\n       <use style=\"stroke:#000000;stroke-width:0.8;\" x=\"368.621446\" xlink:href=\"#m3ea8dcded0\" y=\"224.64\"/>\r\n      </g>\r\n     </g>\r\n     <g id=\"text_6\">\r\n      <!-- 50 -->\r\n      <g transform=\"translate(362.258946 239.238437)scale(0.1 -0.1)\">\r\n       <defs>\r\n        <path d=\"M 691 4666 \r\nL 3169 4666 \r\nL 3169 4134 \r\nL 1269 4134 \r\nL 1269 2991 \r\nQ 1406 3038 1543 3061 \r\nQ 1681 3084 1819 3084 \r\nQ 2600 3084 3056 2656 \r\nQ 3513 2228 3513 1497 \r\nQ 3513 744 3044 326 \r\nQ 2575 -91 1722 -91 \r\nQ 1428 -91 1123 -41 \r\nQ 819 9 494 109 \r\nL 494 744 \r\nQ 775 591 1075 516 \r\nQ 1375 441 1709 441 \r\nQ 2250 441 2565 725 \r\nQ 2881 1009 2881 1497 \r\nQ 2881 1984 2565 2268 \r\nQ 2250 2553 1709 2553 \r\nQ 1456 2553 1204 2497 \r\nQ 953 2441 691 2322 \r\nL 691 4666 \r\nz\r\n\" id=\"DejaVuSans-35\" transform=\"scale(0.015625)\"/>\r\n       </defs>\r\n       <use xlink:href=\"#DejaVuSans-35\"/>\r\n       <use x=\"63.623047\" xlink:href=\"#DejaVuSans-30\"/>\r\n      </g>\r\n     </g>\r\n    </g>\r\n   </g>\r\n   <g id=\"matplotlib.axis_2\">\r\n    <g id=\"ytick_1\">\r\n     <g id=\"line2d_7\">\r\n      <defs>\r\n       <path d=\"M 0 0 \r\nL -3.5 0 \r\n\" id=\"m1efa8d4dbf\" style=\"stroke:#000000;stroke-width:0.8;\"/>\r\n      </defs>\r\n      <g>\r\n       <use style=\"stroke:#000000;stroke-width:0.8;\" x=\"42.828125\" xlink:href=\"#m1efa8d4dbf\" y=\"204.081629\"/>\r\n      </g>\r\n     </g>\r\n     <g id=\"text_7\">\r\n      <!-- 0.001 -->\r\n      <g transform=\"translate(7.2 207.880847)scale(0.1 -0.1)\">\r\n       <defs>\r\n        <path d=\"M 684 794 \r\nL 1344 794 \r\nL 1344 0 \r\nL 684 0 \r\nL 684 794 \r\nz\r\n\" id=\"DejaVuSans-2e\" transform=\"scale(0.015625)\"/>\r\n       </defs>\r\n       <use xlink:href=\"#DejaVuSans-30\"/>\r\n       <use x=\"63.623047\" xlink:href=\"#DejaVuSans-2e\"/>\r\n       <use x=\"95.410156\" xlink:href=\"#DejaVuSans-30\"/>\r\n       <use x=\"159.033203\" xlink:href=\"#DejaVuSans-30\"/>\r\n       <use x=\"222.65625\" xlink:href=\"#DejaVuSans-31\"/>\r\n      </g>\r\n     </g>\r\n    </g>\r\n    <g id=\"ytick_2\">\r\n     <g id=\"line2d_8\">\r\n      <g>\r\n       <use style=\"stroke:#000000;stroke-width:0.8;\" x=\"42.828125\" xlink:href=\"#m1efa8d4dbf\" y=\"172.069638\"/>\r\n      </g>\r\n     </g>\r\n     <g id=\"text_8\">\r\n      <!-- 0.002 -->\r\n      <g transform=\"translate(7.2 175.868857)scale(0.1 -0.1)\">\r\n       <use xlink:href=\"#DejaVuSans-30\"/>\r\n       <use x=\"63.623047\" xlink:href=\"#DejaVuSans-2e\"/>\r\n       <use x=\"95.410156\" xlink:href=\"#DejaVuSans-30\"/>\r\n       <use x=\"159.033203\" xlink:href=\"#DejaVuSans-30\"/>\r\n       <use x=\"222.65625\" xlink:href=\"#DejaVuSans-32\"/>\r\n      </g>\r\n     </g>\r\n    </g>\r\n    <g id=\"ytick_3\">\r\n     <g id=\"line2d_9\">\r\n      <g>\r\n       <use style=\"stroke:#000000;stroke-width:0.8;\" x=\"42.828125\" xlink:href=\"#m1efa8d4dbf\" y=\"140.057648\"/>\r\n      </g>\r\n     </g>\r\n     <g id=\"text_9\">\r\n      <!-- 0.003 -->\r\n      <g transform=\"translate(7.2 143.856866)scale(0.1 -0.1)\">\r\n       <use xlink:href=\"#DejaVuSans-30\"/>\r\n       <use x=\"63.623047\" xlink:href=\"#DejaVuSans-2e\"/>\r\n       <use x=\"95.410156\" xlink:href=\"#DejaVuSans-30\"/>\r\n       <use x=\"159.033203\" xlink:href=\"#DejaVuSans-30\"/>\r\n       <use x=\"222.65625\" xlink:href=\"#DejaVuSans-33\"/>\r\n      </g>\r\n     </g>\r\n    </g>\r\n    <g id=\"ytick_4\">\r\n     <g id=\"line2d_10\">\r\n      <g>\r\n       <use style=\"stroke:#000000;stroke-width:0.8;\" x=\"42.828125\" xlink:href=\"#m1efa8d4dbf\" y=\"108.045657\"/>\r\n      </g>\r\n     </g>\r\n     <g id=\"text_10\">\r\n      <!-- 0.004 -->\r\n      <g transform=\"translate(7.2 111.844876)scale(0.1 -0.1)\">\r\n       <use xlink:href=\"#DejaVuSans-30\"/>\r\n       <use x=\"63.623047\" xlink:href=\"#DejaVuSans-2e\"/>\r\n       <use x=\"95.410156\" xlink:href=\"#DejaVuSans-30\"/>\r\n       <use x=\"159.033203\" xlink:href=\"#DejaVuSans-30\"/>\r\n       <use x=\"222.65625\" xlink:href=\"#DejaVuSans-34\"/>\r\n      </g>\r\n     </g>\r\n    </g>\r\n    <g id=\"ytick_5\">\r\n     <g id=\"line2d_11\">\r\n      <g>\r\n       <use style=\"stroke:#000000;stroke-width:0.8;\" x=\"42.828125\" xlink:href=\"#m1efa8d4dbf\" y=\"76.033667\"/>\r\n      </g>\r\n     </g>\r\n     <g id=\"text_11\">\r\n      <!-- 0.005 -->\r\n      <g transform=\"translate(7.2 79.832885)scale(0.1 -0.1)\">\r\n       <use xlink:href=\"#DejaVuSans-30\"/>\r\n       <use x=\"63.623047\" xlink:href=\"#DejaVuSans-2e\"/>\r\n       <use x=\"95.410156\" xlink:href=\"#DejaVuSans-30\"/>\r\n       <use x=\"159.033203\" xlink:href=\"#DejaVuSans-30\"/>\r\n       <use x=\"222.65625\" xlink:href=\"#DejaVuSans-35\"/>\r\n      </g>\r\n     </g>\r\n    </g>\r\n    <g id=\"ytick_6\">\r\n     <g id=\"line2d_12\">\r\n      <g>\r\n       <use style=\"stroke:#000000;stroke-width:0.8;\" x=\"42.828125\" xlink:href=\"#m1efa8d4dbf\" y=\"44.021676\"/>\r\n      </g>\r\n     </g>\r\n     <g id=\"text_12\">\r\n      <!-- 0.006 -->\r\n      <g transform=\"translate(7.2 47.820895)scale(0.1 -0.1)\">\r\n       <defs>\r\n        <path d=\"M 2113 2584 \r\nQ 1688 2584 1439 2293 \r\nQ 1191 2003 1191 1497 \r\nQ 1191 994 1439 701 \r\nQ 1688 409 2113 409 \r\nQ 2538 409 2786 701 \r\nQ 3034 994 3034 1497 \r\nQ 3034 2003 2786 2293 \r\nQ 2538 2584 2113 2584 \r\nz\r\nM 3366 4563 \r\nL 3366 3988 \r\nQ 3128 4100 2886 4159 \r\nQ 2644 4219 2406 4219 \r\nQ 1781 4219 1451 3797 \r\nQ 1122 3375 1075 2522 \r\nQ 1259 2794 1537 2939 \r\nQ 1816 3084 2150 3084 \r\nQ 2853 3084 3261 2657 \r\nQ 3669 2231 3669 1497 \r\nQ 3669 778 3244 343 \r\nQ 2819 -91 2113 -91 \r\nQ 1303 -91 875 529 \r\nQ 447 1150 447 2328 \r\nQ 447 3434 972 4092 \r\nQ 1497 4750 2381 4750 \r\nQ 2619 4750 2861 4703 \r\nQ 3103 4656 3366 4563 \r\nz\r\n\" id=\"DejaVuSans-36\" transform=\"scale(0.015625)\"/>\r\n       </defs>\r\n       <use xlink:href=\"#DejaVuSans-30\"/>\r\n       <use x=\"63.623047\" xlink:href=\"#DejaVuSans-2e\"/>\r\n       <use x=\"95.410156\" xlink:href=\"#DejaVuSans-30\"/>\r\n       <use x=\"159.033203\" xlink:href=\"#DejaVuSans-30\"/>\r\n       <use x=\"222.65625\" xlink:href=\"#DejaVuSans-36\"/>\r\n      </g>\r\n     </g>\r\n    </g>\r\n    <g id=\"ytick_7\">\r\n     <g id=\"line2d_13\">\r\n      <g>\r\n       <use style=\"stroke:#000000;stroke-width:0.8;\" x=\"42.828125\" xlink:href=\"#m1efa8d4dbf\" y=\"12.009686\"/>\r\n      </g>\r\n     </g>\r\n     <g id=\"text_13\">\r\n      <!-- 0.007 -->\r\n      <g transform=\"translate(7.2 15.808904)scale(0.1 -0.1)\">\r\n       <defs>\r\n        <path d=\"M 525 4666 \r\nL 3525 4666 \r\nL 3525 4397 \r\nL 1831 0 \r\nL 1172 0 \r\nL 2766 4134 \r\nL 525 4134 \r\nL 525 4666 \r\nz\r\n\" id=\"DejaVuSans-37\" transform=\"scale(0.015625)\"/>\r\n       </defs>\r\n       <use xlink:href=\"#DejaVuSans-30\"/>\r\n       <use x=\"63.623047\" xlink:href=\"#DejaVuSans-2e\"/>\r\n       <use x=\"95.410156\" xlink:href=\"#DejaVuSans-30\"/>\r\n       <use x=\"159.033203\" xlink:href=\"#DejaVuSans-30\"/>\r\n       <use x=\"222.65625\" xlink:href=\"#DejaVuSans-37\"/>\r\n      </g>\r\n     </g>\r\n    </g>\r\n   </g>\r\n   <g id=\"line2d_14\">\r\n    <path clip-path=\"url(#p35f6be4ce4)\" d=\"M 58.046307 17.083636 \r\nL 64.25781 128.923598 \r\nL 70.469312 164.442077 \r\nL 76.680815 158.337616 \r\nL 82.892318 169.481332 \r\nL 89.103821 170.27373 \r\nL 95.315324 181.122147 \r\nL 101.526826 182.0142 \r\nL 107.738329 184.179502 \r\nL 113.949832 188.685799 \r\nL 120.161335 184.335818 \r\nL 126.372837 194.150247 \r\nL 132.58434 199.031703 \r\nL 138.795843 195.468439 \r\nL 145.007346 195.087568 \r\nL 151.218849 195.652045 \r\nL 157.430351 203.889572 \r\nL 163.641854 203.402789 \r\nL 169.853357 200.354304 \r\nL 176.06486 206.422737 \r\nL 182.276362 202.711429 \r\nL 188.487865 201.619689 \r\nL 194.699368 205.207422 \r\nL 200.910871 209.378796 \r\nL 207.122374 204.565556 \r\nL 213.333876 207.988525 \r\nL 219.545379 209.43146 \r\nL 225.756882 206.963922 \r\nL 231.968385 205.261878 \r\nL 238.179888 206.82892 \r\nL 244.39139 210.961699 \r\nL 250.602893 207.65583 \r\nL 256.814396 206.761701 \r\nL 263.025899 212.59112 \r\nL 269.237401 207.456728 \r\nL 275.448904 210.076218 \r\nL 281.660407 209.275869 \r\nL 287.87191 208.848344 \r\nL 294.083413 213.372749 \r\nL 300.294915 212.737478 \r\nL 306.506418 209.396413 \r\nL 312.717921 209.740907 \r\nL 318.929424 212.014262 \r\nL 325.140926 214.209631 \r\nL 331.352429 214.383233 \r\nL 337.563932 210.707882 \r\nL 343.775435 213.995214 \r\nL 349.986938 213.062672 \r\nL 356.19844 212.025001 \r\nL 362.409943 214.756364 \r\n\" style=\"fill:none;stroke:#1f77b4;stroke-linecap:square;stroke-width:1.5;\"/>\r\n   </g>\r\n   <g id=\"patch_3\">\r\n    <path d=\"M 42.828125 224.64 \r\nL 42.828125 7.2 \r\n\" style=\"fill:none;stroke:#000000;stroke-linecap:square;stroke-linejoin:miter;stroke-width:0.8;\"/>\r\n   </g>\r\n   <g id=\"patch_4\">\r\n    <path d=\"M 377.628125 224.64 \r\nL 377.628125 7.2 \r\n\" style=\"fill:none;stroke:#000000;stroke-linecap:square;stroke-linejoin:miter;stroke-width:0.8;\"/>\r\n   </g>\r\n   <g id=\"patch_5\">\r\n    <path d=\"M 42.828125 224.64 \r\nL 377.628125 224.64 \r\n\" style=\"fill:none;stroke:#000000;stroke-linecap:square;stroke-linejoin:miter;stroke-width:0.8;\"/>\r\n   </g>\r\n   <g id=\"patch_6\">\r\n    <path d=\"M 42.828125 7.2 \r\nL 377.628125 7.2 \r\n\" style=\"fill:none;stroke:#000000;stroke-linecap:square;stroke-linejoin:miter;stroke-width:0.8;\"/>\r\n   </g>\r\n   <g id=\"legend_1\">\r\n    <g id=\"patch_7\">\r\n     <path d=\"M 309.434375 29.878125 \r\nL 370.628125 29.878125 \r\nQ 372.628125 29.878125 372.628125 27.878125 \r\nL 372.628125 14.2 \r\nQ 372.628125 12.2 370.628125 12.2 \r\nL 309.434375 12.2 \r\nQ 307.434375 12.2 307.434375 14.2 \r\nL 307.434375 27.878125 \r\nQ 307.434375 29.878125 309.434375 29.878125 \r\nz\r\n\" style=\"fill:#ffffff;opacity:0.8;stroke:#cccccc;stroke-linejoin:miter;\"/>\r\n    </g>\r\n    <g id=\"line2d_15\">\r\n     <path d=\"M 311.434375 20.298437 \r\nL 331.434375 20.298437 \r\n\" style=\"fill:none;stroke:#1f77b4;stroke-linecap:square;stroke-width:1.5;\"/>\r\n    </g>\r\n    <g id=\"line2d_16\"/>\r\n    <g id=\"text_14\">\r\n     <!-- treino -->\r\n     <g transform=\"translate(339.434375 23.798437)scale(0.1 -0.1)\">\r\n      <defs>\r\n       <path d=\"M 1172 4494 \r\nL 1172 3500 \r\nL 2356 3500 \r\nL 2356 3053 \r\nL 1172 3053 \r\nL 1172 1153 \r\nQ 1172 725 1289 603 \r\nQ 1406 481 1766 481 \r\nL 2356 481 \r\nL 2356 0 \r\nL 1766 0 \r\nQ 1100 0 847 248 \r\nQ 594 497 594 1153 \r\nL 594 3053 \r\nL 172 3053 \r\nL 172 3500 \r\nL 594 3500 \r\nL 594 4494 \r\nL 1172 4494 \r\nz\r\n\" id=\"DejaVuSans-74\" transform=\"scale(0.015625)\"/>\r\n       <path d=\"M 2631 2963 \r\nQ 2534 3019 2420 3045 \r\nQ 2306 3072 2169 3072 \r\nQ 1681 3072 1420 2755 \r\nQ 1159 2438 1159 1844 \r\nL 1159 0 \r\nL 581 0 \r\nL 581 3500 \r\nL 1159 3500 \r\nL 1159 2956 \r\nQ 1341 3275 1631 3429 \r\nQ 1922 3584 2338 3584 \r\nQ 2397 3584 2469 3576 \r\nQ 2541 3569 2628 3553 \r\nL 2631 2963 \r\nz\r\n\" id=\"DejaVuSans-72\" transform=\"scale(0.015625)\"/>\r\n       <path d=\"M 3597 1894 \r\nL 3597 1613 \r\nL 953 1613 \r\nQ 991 1019 1311 708 \r\nQ 1631 397 2203 397 \r\nQ 2534 397 2845 478 \r\nQ 3156 559 3463 722 \r\nL 3463 178 \r\nQ 3153 47 2828 -22 \r\nQ 2503 -91 2169 -91 \r\nQ 1331 -91 842 396 \r\nQ 353 884 353 1716 \r\nQ 353 2575 817 3079 \r\nQ 1281 3584 2069 3584 \r\nQ 2775 3584 3186 3129 \r\nQ 3597 2675 3597 1894 \r\nz\r\nM 3022 2063 \r\nQ 3016 2534 2758 2815 \r\nQ 2500 3097 2075 3097 \r\nQ 1594 3097 1305 2825 \r\nQ 1016 2553 972 2059 \r\nL 3022 2063 \r\nz\r\n\" id=\"DejaVuSans-65\" transform=\"scale(0.015625)\"/>\r\n       <path d=\"M 603 3500 \r\nL 1178 3500 \r\nL 1178 0 \r\nL 603 0 \r\nL 603 3500 \r\nz\r\nM 603 4863 \r\nL 1178 4863 \r\nL 1178 4134 \r\nL 603 4134 \r\nL 603 4863 \r\nz\r\n\" id=\"DejaVuSans-69\" transform=\"scale(0.015625)\"/>\r\n       <path d=\"M 3513 2113 \r\nL 3513 0 \r\nL 2938 0 \r\nL 2938 2094 \r\nQ 2938 2591 2744 2837 \r\nQ 2550 3084 2163 3084 \r\nQ 1697 3084 1428 2787 \r\nQ 1159 2491 1159 1978 \r\nL 1159 0 \r\nL 581 0 \r\nL 581 3500 \r\nL 1159 3500 \r\nL 1159 2956 \r\nQ 1366 3272 1645 3428 \r\nQ 1925 3584 2291 3584 \r\nQ 2894 3584 3203 3211 \r\nQ 3513 2838 3513 2113 \r\nz\r\n\" id=\"DejaVuSans-6e\" transform=\"scale(0.015625)\"/>\r\n       <path d=\"M 1959 3097 \r\nQ 1497 3097 1228 2736 \r\nQ 959 2375 959 1747 \r\nQ 959 1119 1226 758 \r\nQ 1494 397 1959 397 \r\nQ 2419 397 2687 759 \r\nQ 2956 1122 2956 1747 \r\nQ 2956 2369 2687 2733 \r\nQ 2419 3097 1959 3097 \r\nz\r\nM 1959 3584 \r\nQ 2709 3584 3137 3096 \r\nQ 3566 2609 3566 1747 \r\nQ 3566 888 3137 398 \r\nQ 2709 -91 1959 -91 \r\nQ 1206 -91 779 398 \r\nQ 353 888 353 1747 \r\nQ 353 2609 779 3096 \r\nQ 1206 3584 1959 3584 \r\nz\r\n\" id=\"DejaVuSans-6f\" transform=\"scale(0.015625)\"/>\r\n      </defs>\r\n      <use xlink:href=\"#DejaVuSans-74\"/>\r\n      <use x=\"39.208984\" xlink:href=\"#DejaVuSans-72\"/>\r\n      <use x=\"78.072266\" xlink:href=\"#DejaVuSans-65\"/>\r\n      <use x=\"139.595703\" xlink:href=\"#DejaVuSans-69\"/>\r\n      <use x=\"167.378906\" xlink:href=\"#DejaVuSans-6e\"/>\r\n      <use x=\"230.757812\" xlink:href=\"#DejaVuSans-6f\"/>\r\n     </g>\r\n    </g>\r\n   </g>\r\n  </g>\r\n </g>\r\n <defs>\r\n  <clipPath id=\"p35f6be4ce4\">\r\n   <rect height=\"217.44\" width=\"334.8\" x=\"42.828125\" y=\"7.2\"/>\r\n  </clipPath>\r\n </defs>\r\n</svg>\r\n",
            "image/png": "[encoded data removed]"
          },
          "metadata": {
            "needs_background": "light"
          }
        }
      ],
      "metadata": {
        "colab": {
          "base_uri": "https://localhost:8080/",
          "height": 265
        },
        "id": "amW1km16u_lf",
        "outputId": "49b488cd-1b38-4dca-e974-24a147373d1c"
      }
    },
    {
      "cell_type": "code",
      "execution_count": 29,
      "source": [
        "test_data = scaled_data[training_data_len - window:, :]\r\n",
        "\r\n",
        "X_test = []\r\n",
        "y_test = dataset[training_data_len:, 0:1]\r\n",
        "\r\n",
        "for i in range(window, len(test_data)): \r\n",
        "    X_test.append(test_data[i-window:i,:])\r\n",
        "X_test = np.array(X_test)\r\n",
        "\r\n",
        "X_test = np.reshape(X_test, (X_test.shape[0], X_test.shape[1], -1))\r\n",
        "print(X_test.shape, X_train.shape)"
      ],
      "outputs": [
        {
          "output_type": "stream",
          "name": "stdout",
          "text": [
            "(492, 60, 17) (683, 60, 17)\n"
          ]
        }
      ],
      "metadata": {
        "colab": {
          "base_uri": "https://localhost:8080/"
        },
        "id": "vPJyp8suvC7_",
        "outputId": "844c40e6-9662-4f92-cac2-8a7abcc12539"
      }
    },
    {
      "cell_type": "code",
      "execution_count": 30,
      "source": [
        "predicted = regressor.predict(X_test)\r\n",
        "volume = dataset[training_data_len:, 1:]\r\n",
        "predicted = np.column_stack((predicted, volume))\r\n",
        "# print(dataset[:,1:])\r\n",
        "print(predicted.shape)\r\n",
        "predicted = sc.inverse_transform(predicted)\r\n",
        "print(predicted)"
      ],
      "outputs": [
        {
          "output_type": "stream",
          "name": "stdout",
          "text": [
            "(492, 17)\n",
            "[[2.78078174e+01 1.74696581e+15 6.20841754e+09 ... 6.57774533e+02\n",
            "  6.83154678e+02 6.08448608e+02]\n",
            " [2.80494639e+01 2.33920242e+15 6.21670697e+09 ... 6.56079629e+02\n",
            "  6.82865455e+02 6.08581479e+02]\n",
            " [2.80693029e+01 2.43644492e+15 6.26867528e+09 ... 6.52938934e+02\n",
            "  6.82729746e+02 6.08663672e+02]\n",
            " ...\n",
            " [2.98167257e+01 1.71362312e+15 9.34181982e+09 ... 8.31064147e+02\n",
            "  8.54421220e+02 7.48621474e+02]\n",
            " [2.87647740e+01 1.41169240e+15 9.28849650e+09 ... 8.29755678e+02\n",
            "  8.56183356e+02 7.48531379e+02]\n",
            " [2.82763647e+01 9.67945104e+14 9.24306408e+09 ... 8.29158666e+02\n",
            "  8.57446257e+02 7.49396007e+02]]\n"
          ]
        }
      ],
      "metadata": {
        "colab": {
          "base_uri": "https://localhost:8080/"
        },
        "id": "L9MB4ux0vIPR",
        "outputId": "527c857f-0de7-4fe3-f690-4582dff2e9bb"
      }
    },
    {
      "cell_type": "code",
      "execution_count": 31,
      "source": [
        "allTargetData = np.vstack((dataset[:training_data_len, 0:1], dataset[training_data_len:, 0:1]))\r\n",
        "training_predicted = regressor.predict(X_train)\r\n",
        "volume = dataset[:len(X_train), 1:]\r\n",
        "training_predicted = np.column_stack((training_predicted, volume))\r\n",
        "training_predicted = sc.inverse_transform(training_predicted)\r\n",
        "allForecastedData = np.vstack((dataset[0:window, 0:1], training_predicted[:,0:1], predicted[:,0:1]))\r\n",
        "# date = df['DATA']\r\n",
        "date = df.index\r\n",
        "\r\n",
        "figure(figsize=(20, 6), dpi=80)\r\n",
        "plt.plot(date, allForecastedData, color = 'red', label = 'Previsto')\r\n",
        "plt.plot(date, allTargetData, color = 'blue', label = 'Real')\r\n",
        "plt.title('Previsão de série temporal')\r\n",
        "plt.xlabel('Tempo')\r\n",
        "plt.ylabel('Cotação (R$)')\r\n",
        "plt.legend()\r\n",
        "plt.show()"
      ],
      "outputs": [
        {
          "output_type": "display_data",
          "data": {
            "text/plain": [
              "<Figure size 1600x480 with 1 Axes>"
            ],
            "image/svg+xml": "<?xml version=\"1.0\" encoding=\"utf-8\" standalone=\"no\"?>\r\n<!DOCTYPE svg PUBLIC \"-//W3C//DTD SVG 1.1//EN\"\r\n  \"http://www.w3.org/Graphics/SVG/1.1/DTD/svg11.dtd\">\r\n<svg height=\"386.514375pt\" version=\"1.1\" viewBox=\"0 0 1163.821875 386.514375\" width=\"1163.821875pt\" xmlns=\"http://www.w3.org/2000/svg\" xmlns:xlink=\"http://www.w3.org/1999/xlink\">\r\n <metadata>\r\n  <rdf:RDF xmlns:cc=\"http://creativecommons.org/ns#\" xmlns:dc=\"http://purl.org/dc/elements/1.1/\" xmlns:rdf=\"http://www.w3.org/1999/02/22-rdf-syntax-ns#\">\r\n   <cc:Work>\r\n    <dc:type rdf:resource=\"http://purl.org/dc/dcmitype/StillImage\"/>\r\n    <dc:date>2021-08-15T22:51:12.946803</dc:date>\r\n    <dc:format>image/svg+xml</dc:format>\r\n    <dc:creator>\r\n     <cc:Agent>\r\n      <dc:title>Matplotlib v3.4.2, https://matplotlib.org/</dc:title>\r\n     </cc:Agent>\r\n    </dc:creator>\r\n   </cc:Work>\r\n  </rdf:RDF>\r\n </metadata>\r\n <defs>\r\n  <style type=\"text/css\">*{stroke-linecap:butt;stroke-linejoin:round;}</style>\r\n </defs>\r\n <g id=\"figure_1\">\r\n  <g id=\"patch_1\">\r\n   <path d=\"M 0 386.514375 \r\nL 1163.821875 386.514375 \r\nL 1163.821875 0 \r\nL 0 0 \r\nz\r\n\" style=\"fill:none;\"/>\r\n  </g>\r\n  <g id=\"axes_1\">\r\n   <g id=\"patch_2\">\r\n    <path d=\"M 40.621875 348.958125 \r\nL 1156.621875 348.958125 \r\nL 1156.621875 22.798125 \r\nL 40.621875 22.798125 \r\nz\r\n\" style=\"fill:#ffffff;\"/>\r\n   </g>\r\n   <g id=\"matplotlib.axis_1\">\r\n    <g id=\"xtick_1\">\r\n     <g id=\"line2d_1\">\r\n      <defs>\r\n       <path d=\"M 0 0 \r\nL 0 3.5 \r\n\" id=\"m95e5d7defe\" style=\"stroke:#000000;stroke-width:0.8;\"/>\r\n      </defs>\r\n      <g>\r\n       <use style=\"stroke:#000000;stroke-width:0.8;\" x=\"90.792623\" xlink:href=\"#m95e5d7defe\" y=\"348.958125\"/>\r\n      </g>\r\n     </g>\r\n     <g id=\"text_1\">\r\n      <!-- 2015 -->\r\n      <g transform=\"translate(78.067623 363.556562)scale(0.1 -0.1)\">\r\n       <defs>\r\n        <path d=\"M 1228 531 \r\nL 3431 531 \r\nL 3431 0 \r\nL 469 0 \r\nL 469 531 \r\nQ 828 903 1448 1529 \r\nQ 2069 2156 2228 2338 \r\nQ 2531 2678 2651 2914 \r\nQ 2772 3150 2772 3378 \r\nQ 2772 3750 2511 3984 \r\nQ 2250 4219 1831 4219 \r\nQ 1534 4219 1204 4116 \r\nQ 875 4013 500 3803 \r\nL 500 4441 \r\nQ 881 4594 1212 4672 \r\nQ 1544 4750 1819 4750 \r\nQ 2544 4750 2975 4387 \r\nQ 3406 4025 3406 3419 \r\nQ 3406 3131 3298 2873 \r\nQ 3191 2616 2906 2266 \r\nQ 2828 2175 2409 1742 \r\nQ 1991 1309 1228 531 \r\nz\r\n\" id=\"DejaVuSans-32\" transform=\"scale(0.015625)\"/>\r\n        <path d=\"M 2034 4250 \r\nQ 1547 4250 1301 3770 \r\nQ 1056 3291 1056 2328 \r\nQ 1056 1369 1301 889 \r\nQ 1547 409 2034 409 \r\nQ 2525 409 2770 889 \r\nQ 3016 1369 3016 2328 \r\nQ 3016 3291 2770 3770 \r\nQ 2525 4250 2034 4250 \r\nz\r\nM 2034 4750 \r\nQ 2819 4750 3233 4129 \r\nQ 3647 3509 3647 2328 \r\nQ 3647 1150 3233 529 \r\nQ 2819 -91 2034 -91 \r\nQ 1250 -91 836 529 \r\nQ 422 1150 422 2328 \r\nQ 422 3509 836 4129 \r\nQ 1250 4750 2034 4750 \r\nz\r\n\" id=\"DejaVuSans-30\" transform=\"scale(0.015625)\"/>\r\n        <path d=\"M 794 531 \r\nL 1825 531 \r\nL 1825 4091 \r\nL 703 3866 \r\nL 703 4441 \r\nL 1819 4666 \r\nL 2450 4666 \r\nL 2450 531 \r\nL 3481 531 \r\nL 3481 0 \r\nL 794 0 \r\nL 794 531 \r\nz\r\n\" id=\"DejaVuSans-31\" transform=\"scale(0.015625)\"/>\r\n        <path d=\"M 691 4666 \r\nL 3169 4666 \r\nL 3169 4134 \r\nL 1269 4134 \r\nL 1269 2991 \r\nQ 1406 3038 1543 3061 \r\nQ 1681 3084 1819 3084 \r\nQ 2600 3084 3056 2656 \r\nQ 3513 2228 3513 1497 \r\nQ 3513 744 3044 326 \r\nQ 2575 -91 1722 -91 \r\nQ 1428 -91 1123 -41 \r\nQ 819 9 494 109 \r\nL 494 744 \r\nQ 775 591 1075 516 \r\nQ 1375 441 1709 441 \r\nQ 2250 441 2565 725 \r\nQ 2881 1009 2881 1497 \r\nQ 2881 1984 2565 2268 \r\nQ 2250 2553 1709 2553 \r\nQ 1456 2553 1204 2497 \r\nQ 953 2441 691 2322 \r\nL 691 4666 \r\nz\r\n\" id=\"DejaVuSans-35\" transform=\"scale(0.015625)\"/>\r\n       </defs>\r\n       <use xlink:href=\"#DejaVuSans-32\"/>\r\n       <use x=\"63.623047\" xlink:href=\"#DejaVuSans-30\"/>\r\n       <use x=\"127.246094\" xlink:href=\"#DejaVuSans-31\"/>\r\n       <use x=\"190.869141\" xlink:href=\"#DejaVuSans-35\"/>\r\n      </g>\r\n     </g>\r\n    </g>\r\n    <g id=\"xtick_2\">\r\n     <g id=\"line2d_2\">\r\n      <g>\r\n       <use style=\"stroke:#000000;stroke-width:0.8;\" x=\"293.924324\" xlink:href=\"#m95e5d7defe\" y=\"348.958125\"/>\r\n      </g>\r\n     </g>\r\n     <g id=\"text_2\">\r\n      <!-- 2016 -->\r\n      <g transform=\"translate(281.199324 363.556562)scale(0.1 -0.1)\">\r\n       <defs>\r\n        <path d=\"M 2113 2584 \r\nQ 1688 2584 1439 2293 \r\nQ 1191 2003 1191 1497 \r\nQ 1191 994 1439 701 \r\nQ 1688 409 2113 409 \r\nQ 2538 409 2786 701 \r\nQ 3034 994 3034 1497 \r\nQ 3034 2003 2786 2293 \r\nQ 2538 2584 2113 2584 \r\nz\r\nM 3366 4563 \r\nL 3366 3988 \r\nQ 3128 4100 2886 4159 \r\nQ 2644 4219 2406 4219 \r\nQ 1781 4219 1451 3797 \r\nQ 1122 3375 1075 2522 \r\nQ 1259 2794 1537 2939 \r\nQ 1816 3084 2150 3084 \r\nQ 2853 3084 3261 2657 \r\nQ 3669 2231 3669 1497 \r\nQ 3669 778 3244 343 \r\nQ 2819 -91 2113 -91 \r\nQ 1303 -91 875 529 \r\nQ 447 1150 447 2328 \r\nQ 447 3434 972 4092 \r\nQ 1497 4750 2381 4750 \r\nQ 2619 4750 2861 4703 \r\nQ 3103 4656 3366 4563 \r\nz\r\n\" id=\"DejaVuSans-36\" transform=\"scale(0.015625)\"/>\r\n       </defs>\r\n       <use xlink:href=\"#DejaVuSans-32\"/>\r\n       <use x=\"63.623047\" xlink:href=\"#DejaVuSans-30\"/>\r\n       <use x=\"127.246094\" xlink:href=\"#DejaVuSans-31\"/>\r\n       <use x=\"190.869141\" xlink:href=\"#DejaVuSans-36\"/>\r\n      </g>\r\n     </g>\r\n    </g>\r\n    <g id=\"xtick_3\">\r\n     <g id=\"line2d_3\">\r\n      <g>\r\n       <use style=\"stroke:#000000;stroke-width:0.8;\" x=\"497.61255\" xlink:href=\"#m95e5d7defe\" y=\"348.958125\"/>\r\n      </g>\r\n     </g>\r\n     <g id=\"text_3\">\r\n      <!-- 2017 -->\r\n      <g transform=\"translate(484.88755 363.556562)scale(0.1 -0.1)\">\r\n       <defs>\r\n        <path d=\"M 525 4666 \r\nL 3525 4666 \r\nL 3525 4397 \r\nL 1831 0 \r\nL 1172 0 \r\nL 2766 4134 \r\nL 525 4134 \r\nL 525 4666 \r\nz\r\n\" id=\"DejaVuSans-37\" transform=\"scale(0.015625)\"/>\r\n       </defs>\r\n       <use xlink:href=\"#DejaVuSans-32\"/>\r\n       <use x=\"63.623047\" xlink:href=\"#DejaVuSans-30\"/>\r\n       <use x=\"127.246094\" xlink:href=\"#DejaVuSans-31\"/>\r\n       <use x=\"190.869141\" xlink:href=\"#DejaVuSans-37\"/>\r\n      </g>\r\n     </g>\r\n    </g>\r\n    <g id=\"xtick_4\">\r\n     <g id=\"line2d_4\">\r\n      <g>\r\n       <use style=\"stroke:#000000;stroke-width:0.8;\" x=\"700.744251\" xlink:href=\"#m95e5d7defe\" y=\"348.958125\"/>\r\n      </g>\r\n     </g>\r\n     <g id=\"text_4\">\r\n      <!-- 2018 -->\r\n      <g transform=\"translate(688.019251 363.556562)scale(0.1 -0.1)\">\r\n       <defs>\r\n        <path d=\"M 2034 2216 \r\nQ 1584 2216 1326 1975 \r\nQ 1069 1734 1069 1313 \r\nQ 1069 891 1326 650 \r\nQ 1584 409 2034 409 \r\nQ 2484 409 2743 651 \r\nQ 3003 894 3003 1313 \r\nQ 3003 1734 2745 1975 \r\nQ 2488 2216 2034 2216 \r\nz\r\nM 1403 2484 \r\nQ 997 2584 770 2862 \r\nQ 544 3141 544 3541 \r\nQ 544 4100 942 4425 \r\nQ 1341 4750 2034 4750 \r\nQ 2731 4750 3128 4425 \r\nQ 3525 4100 3525 3541 \r\nQ 3525 3141 3298 2862 \r\nQ 3072 2584 2669 2484 \r\nQ 3125 2378 3379 2068 \r\nQ 3634 1759 3634 1313 \r\nQ 3634 634 3220 271 \r\nQ 2806 -91 2034 -91 \r\nQ 1263 -91 848 271 \r\nQ 434 634 434 1313 \r\nQ 434 1759 690 2068 \r\nQ 947 2378 1403 2484 \r\nz\r\nM 1172 3481 \r\nQ 1172 3119 1398 2916 \r\nQ 1625 2713 2034 2713 \r\nQ 2441 2713 2670 2916 \r\nQ 2900 3119 2900 3481 \r\nQ 2900 3844 2670 4047 \r\nQ 2441 4250 2034 4250 \r\nQ 1625 4250 1398 4047 \r\nQ 1172 3844 1172 3481 \r\nz\r\n\" id=\"DejaVuSans-38\" transform=\"scale(0.015625)\"/>\r\n       </defs>\r\n       <use xlink:href=\"#DejaVuSans-32\"/>\r\n       <use x=\"63.623047\" xlink:href=\"#DejaVuSans-30\"/>\r\n       <use x=\"127.246094\" xlink:href=\"#DejaVuSans-31\"/>\r\n       <use x=\"190.869141\" xlink:href=\"#DejaVuSans-38\"/>\r\n      </g>\r\n     </g>\r\n    </g>\r\n    <g id=\"xtick_5\">\r\n     <g id=\"line2d_5\">\r\n      <g>\r\n       <use style=\"stroke:#000000;stroke-width:0.8;\" x=\"903.875952\" xlink:href=\"#m95e5d7defe\" y=\"348.958125\"/>\r\n      </g>\r\n     </g>\r\n     <g id=\"text_5\">\r\n      <!-- 2019 -->\r\n      <g transform=\"translate(891.150952 363.556562)scale(0.1 -0.1)\">\r\n       <defs>\r\n        <path d=\"M 703 97 \r\nL 703 672 \r\nQ 941 559 1184 500 \r\nQ 1428 441 1663 441 \r\nQ 2288 441 2617 861 \r\nQ 2947 1281 2994 2138 \r\nQ 2813 1869 2534 1725 \r\nQ 2256 1581 1919 1581 \r\nQ 1219 1581 811 2004 \r\nQ 403 2428 403 3163 \r\nQ 403 3881 828 4315 \r\nQ 1253 4750 1959 4750 \r\nQ 2769 4750 3195 4129 \r\nQ 3622 3509 3622 2328 \r\nQ 3622 1225 3098 567 \r\nQ 2575 -91 1691 -91 \r\nQ 1453 -91 1209 -44 \r\nQ 966 3 703 97 \r\nz\r\nM 1959 2075 \r\nQ 2384 2075 2632 2365 \r\nQ 2881 2656 2881 3163 \r\nQ 2881 3666 2632 3958 \r\nQ 2384 4250 1959 4250 \r\nQ 1534 4250 1286 3958 \r\nQ 1038 3666 1038 3163 \r\nQ 1038 2656 1286 2365 \r\nQ 1534 2075 1959 2075 \r\nz\r\n\" id=\"DejaVuSans-39\" transform=\"scale(0.015625)\"/>\r\n       </defs>\r\n       <use xlink:href=\"#DejaVuSans-32\"/>\r\n       <use x=\"63.623047\" xlink:href=\"#DejaVuSans-30\"/>\r\n       <use x=\"127.246094\" xlink:href=\"#DejaVuSans-31\"/>\r\n       <use x=\"190.869141\" xlink:href=\"#DejaVuSans-39\"/>\r\n      </g>\r\n     </g>\r\n    </g>\r\n    <g id=\"xtick_6\">\r\n     <g id=\"line2d_6\">\r\n      <g>\r\n       <use style=\"stroke:#000000;stroke-width:0.8;\" x=\"1107.007653\" xlink:href=\"#m95e5d7defe\" y=\"348.958125\"/>\r\n      </g>\r\n     </g>\r\n     <g id=\"text_6\">\r\n      <!-- 2020 -->\r\n      <g transform=\"translate(1094.282653 363.556562)scale(0.1 -0.1)\">\r\n       <use xlink:href=\"#DejaVuSans-32\"/>\r\n       <use x=\"63.623047\" xlink:href=\"#DejaVuSans-30\"/>\r\n       <use x=\"127.246094\" xlink:href=\"#DejaVuSans-32\"/>\r\n       <use x=\"190.869141\" xlink:href=\"#DejaVuSans-30\"/>\r\n      </g>\r\n     </g>\r\n    </g>\r\n    <g id=\"text_7\">\r\n     <!-- Tempo -->\r\n     <g transform=\"translate(582.2375 377.234687)scale(0.1 -0.1)\">\r\n      <defs>\r\n       <path d=\"M -19 4666 \r\nL 3928 4666 \r\nL 3928 4134 \r\nL 2272 4134 \r\nL 2272 0 \r\nL 1638 0 \r\nL 1638 4134 \r\nL -19 4134 \r\nL -19 4666 \r\nz\r\n\" id=\"DejaVuSans-54\" transform=\"scale(0.015625)\"/>\r\n       <path d=\"M 3597 1894 \r\nL 3597 1613 \r\nL 953 1613 \r\nQ 991 1019 1311 708 \r\nQ 1631 397 2203 397 \r\nQ 2534 397 2845 478 \r\nQ 3156 559 3463 722 \r\nL 3463 178 \r\nQ 3153 47 2828 -22 \r\nQ 2503 -91 2169 -91 \r\nQ 1331 -91 842 396 \r\nQ 353 884 353 1716 \r\nQ 353 2575 817 3079 \r\nQ 1281 3584 2069 3584 \r\nQ 2775 3584 3186 3129 \r\nQ 3597 2675 3597 1894 \r\nz\r\nM 3022 2063 \r\nQ 3016 2534 2758 2815 \r\nQ 2500 3097 2075 3097 \r\nQ 1594 3097 1305 2825 \r\nQ 1016 2553 972 2059 \r\nL 3022 2063 \r\nz\r\n\" id=\"DejaVuSans-65\" transform=\"scale(0.015625)\"/>\r\n       <path d=\"M 3328 2828 \r\nQ 3544 3216 3844 3400 \r\nQ 4144 3584 4550 3584 \r\nQ 5097 3584 5394 3201 \r\nQ 5691 2819 5691 2113 \r\nL 5691 0 \r\nL 5113 0 \r\nL 5113 2094 \r\nQ 5113 2597 4934 2840 \r\nQ 4756 3084 4391 3084 \r\nQ 3944 3084 3684 2787 \r\nQ 3425 2491 3425 1978 \r\nL 3425 0 \r\nL 2847 0 \r\nL 2847 2094 \r\nQ 2847 2600 2669 2842 \r\nQ 2491 3084 2119 3084 \r\nQ 1678 3084 1418 2786 \r\nQ 1159 2488 1159 1978 \r\nL 1159 0 \r\nL 581 0 \r\nL 581 3500 \r\nL 1159 3500 \r\nL 1159 2956 \r\nQ 1356 3278 1631 3431 \r\nQ 1906 3584 2284 3584 \r\nQ 2666 3584 2933 3390 \r\nQ 3200 3197 3328 2828 \r\nz\r\n\" id=\"DejaVuSans-6d\" transform=\"scale(0.015625)\"/>\r\n       <path d=\"M 1159 525 \r\nL 1159 -1331 \r\nL 581 -1331 \r\nL 581 3500 \r\nL 1159 3500 \r\nL 1159 2969 \r\nQ 1341 3281 1617 3432 \r\nQ 1894 3584 2278 3584 \r\nQ 2916 3584 3314 3078 \r\nQ 3713 2572 3713 1747 \r\nQ 3713 922 3314 415 \r\nQ 2916 -91 2278 -91 \r\nQ 1894 -91 1617 61 \r\nQ 1341 213 1159 525 \r\nz\r\nM 3116 1747 \r\nQ 3116 2381 2855 2742 \r\nQ 2594 3103 2138 3103 \r\nQ 1681 3103 1420 2742 \r\nQ 1159 2381 1159 1747 \r\nQ 1159 1113 1420 752 \r\nQ 1681 391 2138 391 \r\nQ 2594 391 2855 752 \r\nQ 3116 1113 3116 1747 \r\nz\r\n\" id=\"DejaVuSans-70\" transform=\"scale(0.015625)\"/>\r\n       <path d=\"M 1959 3097 \r\nQ 1497 3097 1228 2736 \r\nQ 959 2375 959 1747 \r\nQ 959 1119 1226 758 \r\nQ 1494 397 1959 397 \r\nQ 2419 397 2687 759 \r\nQ 2956 1122 2956 1747 \r\nQ 2956 2369 2687 2733 \r\nQ 2419 3097 1959 3097 \r\nz\r\nM 1959 3584 \r\nQ 2709 3584 3137 3096 \r\nQ 3566 2609 3566 1747 \r\nQ 3566 888 3137 398 \r\nQ 2709 -91 1959 -91 \r\nQ 1206 -91 779 398 \r\nQ 353 888 353 1747 \r\nQ 353 2609 779 3096 \r\nQ 1206 3584 1959 3584 \r\nz\r\n\" id=\"DejaVuSans-6f\" transform=\"scale(0.015625)\"/>\r\n      </defs>\r\n      <use xlink:href=\"#DejaVuSans-54\"/>\r\n      <use x=\"44.083984\" xlink:href=\"#DejaVuSans-65\"/>\r\n      <use x=\"105.607422\" xlink:href=\"#DejaVuSans-6d\"/>\r\n      <use x=\"203.019531\" xlink:href=\"#DejaVuSans-70\"/>\r\n      <use x=\"266.496094\" xlink:href=\"#DejaVuSans-6f\"/>\r\n     </g>\r\n    </g>\r\n   </g>\r\n   <g id=\"matplotlib.axis_2\">\r\n    <g id=\"ytick_1\">\r\n     <g id=\"line2d_7\">\r\n      <defs>\r\n       <path d=\"M 0 0 \r\nL -3.5 0 \r\n\" id=\"mf7de1c51b3\" style=\"stroke:#000000;stroke-width:0.8;\"/>\r\n      </defs>\r\n      <g>\r\n       <use style=\"stroke:#000000;stroke-width:0.8;\" x=\"40.621875\" xlink:href=\"#mf7de1c51b3\" y=\"322.38932\"/>\r\n      </g>\r\n     </g>\r\n     <g id=\"text_8\">\r\n      <!-- 15 -->\r\n      <g transform=\"translate(20.896875 326.188539)scale(0.1 -0.1)\">\r\n       <use xlink:href=\"#DejaVuSans-31\"/>\r\n       <use x=\"63.623047\" xlink:href=\"#DejaVuSans-35\"/>\r\n      </g>\r\n     </g>\r\n    </g>\r\n    <g id=\"ytick_2\">\r\n     <g id=\"line2d_8\">\r\n      <g>\r\n       <use style=\"stroke:#000000;stroke-width:0.8;\" x=\"40.621875\" xlink:href=\"#mf7de1c51b3\" y=\"264.721083\"/>\r\n      </g>\r\n     </g>\r\n     <g id=\"text_9\">\r\n      <!-- 20 -->\r\n      <g transform=\"translate(20.896875 268.520302)scale(0.1 -0.1)\">\r\n       <use xlink:href=\"#DejaVuSans-32\"/>\r\n       <use x=\"63.623047\" xlink:href=\"#DejaVuSans-30\"/>\r\n      </g>\r\n     </g>\r\n    </g>\r\n    <g id=\"ytick_3\">\r\n     <g id=\"line2d_9\">\r\n      <g>\r\n       <use style=\"stroke:#000000;stroke-width:0.8;\" x=\"40.621875\" xlink:href=\"#mf7de1c51b3\" y=\"207.052845\"/>\r\n      </g>\r\n     </g>\r\n     <g id=\"text_10\">\r\n      <!-- 25 -->\r\n      <g transform=\"translate(20.896875 210.852064)scale(0.1 -0.1)\">\r\n       <use xlink:href=\"#DejaVuSans-32\"/>\r\n       <use x=\"63.623047\" xlink:href=\"#DejaVuSans-35\"/>\r\n      </g>\r\n     </g>\r\n    </g>\r\n    <g id=\"ytick_4\">\r\n     <g id=\"line2d_10\">\r\n      <g>\r\n       <use style=\"stroke:#000000;stroke-width:0.8;\" x=\"40.621875\" xlink:href=\"#mf7de1c51b3\" y=\"149.384608\"/>\r\n      </g>\r\n     </g>\r\n     <g id=\"text_11\">\r\n      <!-- 30 -->\r\n      <g transform=\"translate(20.896875 153.183827)scale(0.1 -0.1)\">\r\n       <defs>\r\n        <path d=\"M 2597 2516 \r\nQ 3050 2419 3304 2112 \r\nQ 3559 1806 3559 1356 \r\nQ 3559 666 3084 287 \r\nQ 2609 -91 1734 -91 \r\nQ 1441 -91 1130 -33 \r\nQ 819 25 488 141 \r\nL 488 750 \r\nQ 750 597 1062 519 \r\nQ 1375 441 1716 441 \r\nQ 2309 441 2620 675 \r\nQ 2931 909 2931 1356 \r\nQ 2931 1769 2642 2001 \r\nQ 2353 2234 1838 2234 \r\nL 1294 2234 \r\nL 1294 2753 \r\nL 1863 2753 \r\nQ 2328 2753 2575 2939 \r\nQ 2822 3125 2822 3475 \r\nQ 2822 3834 2567 4026 \r\nQ 2313 4219 1838 4219 \r\nQ 1578 4219 1281 4162 \r\nQ 984 4106 628 3988 \r\nL 628 4550 \r\nQ 988 4650 1302 4700 \r\nQ 1616 4750 1894 4750 \r\nQ 2613 4750 3031 4423 \r\nQ 3450 4097 3450 3541 \r\nQ 3450 3153 3228 2886 \r\nQ 3006 2619 2597 2516 \r\nz\r\n\" id=\"DejaVuSans-33\" transform=\"scale(0.015625)\"/>\r\n       </defs>\r\n       <use xlink:href=\"#DejaVuSans-33\"/>\r\n       <use x=\"63.623047\" xlink:href=\"#DejaVuSans-30\"/>\r\n      </g>\r\n     </g>\r\n    </g>\r\n    <g id=\"ytick_5\">\r\n     <g id=\"line2d_11\">\r\n      <g>\r\n       <use style=\"stroke:#000000;stroke-width:0.8;\" x=\"40.621875\" xlink:href=\"#mf7de1c51b3\" y=\"91.71637\"/>\r\n      </g>\r\n     </g>\r\n     <g id=\"text_12\">\r\n      <!-- 35 -->\r\n      <g transform=\"translate(20.896875 95.515589)scale(0.1 -0.1)\">\r\n       <use xlink:href=\"#DejaVuSans-33\"/>\r\n       <use x=\"63.623047\" xlink:href=\"#DejaVuSans-35\"/>\r\n      </g>\r\n     </g>\r\n    </g>\r\n    <g id=\"ytick_6\">\r\n     <g id=\"line2d_12\">\r\n      <g>\r\n       <use style=\"stroke:#000000;stroke-width:0.8;\" x=\"40.621875\" xlink:href=\"#mf7de1c51b3\" y=\"34.048133\"/>\r\n      </g>\r\n     </g>\r\n     <g id=\"text_13\">\r\n      <!-- 40 -->\r\n      <g transform=\"translate(20.896875 37.847352)scale(0.1 -0.1)\">\r\n       <defs>\r\n        <path d=\"M 2419 4116 \r\nL 825 1625 \r\nL 2419 1625 \r\nL 2419 4116 \r\nz\r\nM 2253 4666 \r\nL 3047 4666 \r\nL 3047 1625 \r\nL 3713 1625 \r\nL 3713 1100 \r\nL 3047 1100 \r\nL 3047 0 \r\nL 2419 0 \r\nL 2419 1100 \r\nL 313 1100 \r\nL 313 1709 \r\nL 2253 4666 \r\nz\r\n\" id=\"DejaVuSans-34\" transform=\"scale(0.015625)\"/>\r\n       </defs>\r\n       <use xlink:href=\"#DejaVuSans-34\"/>\r\n       <use x=\"63.623047\" xlink:href=\"#DejaVuSans-30\"/>\r\n      </g>\r\n     </g>\r\n    </g>\r\n    <g id=\"text_14\">\r\n     <!-- Cotação (R$) -->\r\n     <g transform=\"translate(14.817188 218.471875)rotate(-90)scale(0.1 -0.1)\">\r\n      <defs>\r\n       <path d=\"M 4122 4306 \r\nL 4122 3641 \r\nQ 3803 3938 3442 4084 \r\nQ 3081 4231 2675 4231 \r\nQ 1875 4231 1450 3742 \r\nQ 1025 3253 1025 2328 \r\nQ 1025 1406 1450 917 \r\nQ 1875 428 2675 428 \r\nQ 3081 428 3442 575 \r\nQ 3803 722 4122 1019 \r\nL 4122 359 \r\nQ 3791 134 3420 21 \r\nQ 3050 -91 2638 -91 \r\nQ 1578 -91 968 557 \r\nQ 359 1206 359 2328 \r\nQ 359 3453 968 4101 \r\nQ 1578 4750 2638 4750 \r\nQ 3056 4750 3426 4639 \r\nQ 3797 4528 4122 4306 \r\nz\r\n\" id=\"DejaVuSans-43\" transform=\"scale(0.015625)\"/>\r\n       <path d=\"M 1172 4494 \r\nL 1172 3500 \r\nL 2356 3500 \r\nL 2356 3053 \r\nL 1172 3053 \r\nL 1172 1153 \r\nQ 1172 725 1289 603 \r\nQ 1406 481 1766 481 \r\nL 2356 481 \r\nL 2356 0 \r\nL 1766 0 \r\nQ 1100 0 847 248 \r\nQ 594 497 594 1153 \r\nL 594 3053 \r\nL 172 3053 \r\nL 172 3500 \r\nL 594 3500 \r\nL 594 4494 \r\nL 1172 4494 \r\nz\r\n\" id=\"DejaVuSans-74\" transform=\"scale(0.015625)\"/>\r\n       <path d=\"M 2194 1759 \r\nQ 1497 1759 1228 1600 \r\nQ 959 1441 959 1056 \r\nQ 959 750 1161 570 \r\nQ 1363 391 1709 391 \r\nQ 2188 391 2477 730 \r\nQ 2766 1069 2766 1631 \r\nL 2766 1759 \r\nL 2194 1759 \r\nz\r\nM 3341 1997 \r\nL 3341 0 \r\nL 2766 0 \r\nL 2766 531 \r\nQ 2569 213 2275 61 \r\nQ 1981 -91 1556 -91 \r\nQ 1019 -91 701 211 \r\nQ 384 513 384 1019 \r\nQ 384 1609 779 1909 \r\nQ 1175 2209 1959 2209 \r\nL 2766 2209 \r\nL 2766 2266 \r\nQ 2766 2663 2505 2880 \r\nQ 2244 3097 1772 3097 \r\nQ 1472 3097 1187 3025 \r\nQ 903 2953 641 2809 \r\nL 641 3341 \r\nQ 956 3463 1253 3523 \r\nQ 1550 3584 1831 3584 \r\nQ 2591 3584 2966 3190 \r\nQ 3341 2797 3341 1997 \r\nz\r\n\" id=\"DejaVuSans-61\" transform=\"scale(0.015625)\"/>\r\n       <path d=\"M 3122 3366 \r\nL 3122 2828 \r\nQ 2878 2963 2633 3030 \r\nQ 2388 3097 2138 3097 \r\nQ 1578 3097 1268 2742 \r\nQ 959 2388 959 1747 \r\nQ 959 1106 1268 751 \r\nQ 1578 397 2138 397 \r\nQ 2388 397 2633 464 \r\nQ 2878 531 3122 666 \r\nL 3122 134 \r\nQ 2881 22 2623 -34 \r\nQ 2366 -91 2075 -91 \r\nQ 1284 -91 818 406 \r\nQ 353 903 353 1747 \r\nQ 353 2603 823 3093 \r\nQ 1294 3584 2113 3584 \r\nQ 2378 3584 2631 3529 \r\nQ 2884 3475 3122 3366 \r\nz\r\nM 2311 0 \r\nQ 2482 -194 2566 -358 \r\nQ 2651 -522 2651 -672 \r\nQ 2651 -950 2463 -1092 \r\nQ 2276 -1234 1907 -1234 \r\nQ 1764 -1234 1628 -1215 \r\nQ 1492 -1197 1357 -1159 \r\nL 1357 -750 \r\nQ 1464 -803 1579 -826 \r\nQ 1695 -850 1842 -850 \r\nQ 2026 -850 2120 -775 \r\nQ 2214 -700 2214 -556 \r\nQ 2214 -463 2146 -327 \r\nQ 2079 -191 1939 0 \r\nL 2311 0 \r\nz\r\n\" id=\"DejaVuSans-e7\" transform=\"scale(0.015625)\"/>\r\n       <path d=\"M 2194 1759 \r\nQ 1497 1759 1228 1600 \r\nQ 959 1441 959 1056 \r\nQ 959 750 1161 570 \r\nQ 1363 391 1709 391 \r\nQ 2188 391 2477 730 \r\nQ 2766 1069 2766 1631 \r\nL 2766 1759 \r\nL 2194 1759 \r\nz\r\nM 3341 1997 \r\nL 3341 0 \r\nL 2766 0 \r\nL 2766 531 \r\nQ 2569 213 2275 61 \r\nQ 1981 -91 1556 -91 \r\nQ 1019 -91 701 211 \r\nQ 384 513 384 1019 \r\nQ 384 1609 779 1909 \r\nQ 1175 2209 1959 2209 \r\nL 2766 2209 \r\nL 2766 2266 \r\nQ 2766 2663 2505 2880 \r\nQ 2244 3097 1772 3097 \r\nQ 1472 3097 1187 3025 \r\nQ 903 2953 641 2809 \r\nL 641 3341 \r\nQ 956 3463 1253 3523 \r\nQ 1550 3584 1831 3584 \r\nQ 2591 3584 2966 3190 \r\nQ 3341 2797 3341 1997 \r\nz\r\nM 1844 4281 \r\nL 1665 4453 \r\nQ 1597 4516 1545 4545 \r\nQ 1494 4575 1453 4575 \r\nQ 1334 4575 1278 4461 \r\nQ 1222 4347 1215 4091 \r\nL 825 4091 \r\nQ 831 4513 990 4742 \r\nQ 1150 4972 1434 4972 \r\nQ 1553 4972 1653 4928 \r\nQ 1753 4884 1869 4781 \r\nL 2047 4609 \r\nQ 2115 4547 2167 4517 \r\nQ 2219 4488 2259 4488 \r\nQ 2378 4488 2434 4602 \r\nQ 2490 4716 2497 4972 \r\nL 2887 4972 \r\nQ 2881 4550 2721 4320 \r\nQ 2562 4091 2278 4091 \r\nQ 2159 4091 2059 4134 \r\nQ 1959 4178 1844 4281 \r\nz\r\n\" id=\"DejaVuSans-e3\" transform=\"scale(0.015625)\"/>\r\n       <path id=\"DejaVuSans-20\" transform=\"scale(0.015625)\"/>\r\n       <path d=\"M 1984 4856 \r\nQ 1566 4138 1362 3434 \r\nQ 1159 2731 1159 2009 \r\nQ 1159 1288 1364 580 \r\nQ 1569 -128 1984 -844 \r\nL 1484 -844 \r\nQ 1016 -109 783 600 \r\nQ 550 1309 550 2009 \r\nQ 550 2706 781 3412 \r\nQ 1013 4119 1484 4856 \r\nL 1984 4856 \r\nz\r\n\" id=\"DejaVuSans-28\" transform=\"scale(0.015625)\"/>\r\n       <path d=\"M 2841 2188 \r\nQ 3044 2119 3236 1894 \r\nQ 3428 1669 3622 1275 \r\nL 4263 0 \r\nL 3584 0 \r\nL 2988 1197 \r\nQ 2756 1666 2539 1819 \r\nQ 2322 1972 1947 1972 \r\nL 1259 1972 \r\nL 1259 0 \r\nL 628 0 \r\nL 628 4666 \r\nL 2053 4666 \r\nQ 2853 4666 3247 4331 \r\nQ 3641 3997 3641 3322 \r\nQ 3641 2881 3436 2590 \r\nQ 3231 2300 2841 2188 \r\nz\r\nM 1259 4147 \r\nL 1259 2491 \r\nL 2053 2491 \r\nQ 2509 2491 2742 2702 \r\nQ 2975 2913 2975 3322 \r\nQ 2975 3731 2742 3939 \r\nQ 2509 4147 2053 4147 \r\nL 1259 4147 \r\nz\r\n\" id=\"DejaVuSans-52\" transform=\"scale(0.015625)\"/>\r\n       <path d=\"M 2163 -941 \r\nL 1850 -941 \r\nL 1847 0 \r\nQ 1519 6 1191 76 \r\nQ 863 147 531 288 \r\nL 531 850 \r\nQ 850 650 1176 548 \r\nQ 1503 447 1850 444 \r\nL 1850 1869 \r\nQ 1159 1981 845 2250 \r\nQ 531 2519 531 2988 \r\nQ 531 3497 872 3790 \r\nQ 1213 4084 1850 4128 \r\nL 1850 4863 \r\nL 2163 4863 \r\nL 2163 4138 \r\nQ 2453 4125 2725 4076 \r\nQ 2997 4028 3256 3944 \r\nL 3256 3397 \r\nQ 2997 3528 2723 3600 \r\nQ 2450 3672 2163 3684 \r\nL 2163 2350 \r\nQ 2872 2241 3206 1959 \r\nQ 3541 1678 3541 1191 \r\nQ 3541 663 3186 358 \r\nQ 2831 53 2163 6 \r\nL 2163 -941 \r\nz\r\nM 1850 2406 \r\nL 1850 3688 \r\nQ 1488 3647 1297 3481 \r\nQ 1106 3316 1106 3041 \r\nQ 1106 2772 1282 2622 \r\nQ 1459 2472 1850 2406 \r\nz\r\nM 2163 1806 \r\nL 2163 453 \r\nQ 2559 506 2761 678 \r\nQ 2963 850 2963 1131 \r\nQ 2963 1406 2770 1568 \r\nQ 2578 1731 2163 1806 \r\nz\r\n\" id=\"DejaVuSans-24\" transform=\"scale(0.015625)\"/>\r\n       <path d=\"M 513 4856 \r\nL 1013 4856 \r\nQ 1481 4119 1714 3412 \r\nQ 1947 2706 1947 2009 \r\nQ 1947 1309 1714 600 \r\nQ 1481 -109 1013 -844 \r\nL 513 -844 \r\nQ 928 -128 1133 580 \r\nQ 1338 1288 1338 2009 \r\nQ 1338 2731 1133 3434 \r\nQ 928 4138 513 4856 \r\nz\r\n\" id=\"DejaVuSans-29\" transform=\"scale(0.015625)\"/>\r\n      </defs>\r\n      <use xlink:href=\"#DejaVuSans-43\"/>\r\n      <use x=\"69.824219\" xlink:href=\"#DejaVuSans-6f\"/>\r\n      <use x=\"131.005859\" xlink:href=\"#DejaVuSans-74\"/>\r\n      <use x=\"170.214844\" xlink:href=\"#DejaVuSans-61\"/>\r\n      <use x=\"231.494141\" xlink:href=\"#DejaVuSans-e7\"/>\r\n      <use x=\"286.474609\" xlink:href=\"#DejaVuSans-e3\"/>\r\n      <use x=\"347.753906\" xlink:href=\"#DejaVuSans-6f\"/>\r\n      <use x=\"408.935547\" xlink:href=\"#DejaVuSans-20\"/>\r\n      <use x=\"440.722656\" xlink:href=\"#DejaVuSans-28\"/>\r\n      <use x=\"479.736328\" xlink:href=\"#DejaVuSans-52\"/>\r\n      <use x=\"549.21875\" xlink:href=\"#DejaVuSans-24\"/>\r\n      <use x=\"612.841797\" xlink:href=\"#DejaVuSans-29\"/>\r\n     </g>\r\n    </g>\r\n   </g>\r\n   <g id=\"line2d_13\">\r\n    <path clip-path=\"url(#p8b5eb3eb20)\" d=\"M 91.349148 280.417014 \r\nL 93.018723 279.336724 \r\nL 93.575249 275.841683 \r\nL 94.131774 267.898397 \r\nL 94.688299 264.339824 \r\nL 95.244824 274.443667 \r\nL 96.9144 279.78156 \r\nL 97.470925 280.035733 \r\nL 98.02745 278.574162 \r\nL 98.583975 280.480568 \r\nL 99.140501 277.176145 \r\nL 100.810076 285.055899 \r\nL 101.366601 284.356891 \r\nL 101.923127 278.129349 \r\nL 102.479652 277.049059 \r\nL 103.036177 279.146084 \r\nL 104.705753 276.604246 \r\nL 105.262278 277.43034 \r\nL 105.818803 281.878585 \r\nL 106.375328 283.340156 \r\nL 106.931854 286.326829 \r\nL 108.601429 283.657883 \r\nL 109.157954 277.748067 \r\nL 109.71448 269.741249 \r\nL 110.271005 271.647633 \r\nL 110.82753 272.156001 \r\nL 112.497106 270.757985 \r\nL 113.053631 273.617572 \r\nL 113.610156 282.641147 \r\nL 114.166681 277.049059 \r\nL 114.723206 269.804782 \r\nL 117.505833 268.470319 \r\nL 118.062358 268.533873 \r\nL 118.618883 267.326497 \r\nL 120.288459 265.102364 \r\nL 120.844984 262.687612 \r\nL 121.401509 262.115691 \r\nL 121.958034 260.971869 \r\nL 122.514559 263.450175 \r\nL 124.184135 264.593997 \r\nL 124.74066 262.814699 \r\nL 125.853711 266.881662 \r\nL 126.410236 272.982096 \r\nL 128.079811 278.764803 \r\nL 128.636337 287.28001 \r\nL 129.192862 280.226373 \r\nL 129.749387 279.336724 \r\nL 130.305912 280.417014 \r\nL 131.975488 280.417014 \r\nL 133.088538 267.58067 \r\nL 133.645064 268.978687 \r\nL 134.201589 267.072303 \r\nL 135.871164 268.533873 \r\nL 136.42769 269.93189 \r\nL 136.984215 270.122531 \r\nL 137.54074 276.477137 \r\nL 138.097265 280.289928 \r\nL 139.766841 273.04565 \r\nL 140.323366 275.712215 \r\nL 140.879891 272.389428 \r\nL 141.436416 267.618379 \r\nL 143.662517 265.172705 \r\nL 144.219043 262.224875 \r\nL 144.775568 261.416648 \r\nL 145.332093 261.475009 \r\nL 145.888618 264.875656 \r\nL 147.558194 262.239562 \r\nL 148.671244 264.969811 \r\nL 149.227769 261.868979 \r\nL 149.784295 262.258936 \r\nL 151.45387 265.648802 \r\nL 152.566921 268.983727 \r\nL 153.679971 257.324709 \r\nL 155.349547 253.473887 \r\nL 155.906072 254.846291 \r\nL 156.462597 253.852935 \r\nL 157.019122 255.249172 \r\nL 159.245223 254.36289 \r\nL 159.801748 251.263838 \r\nL 160.358274 251.686293 \r\nL 160.914799 257.732414 \r\nL 161.471324 258.431235 \r\nL 163.1409 254.550943 \r\nL 163.697425 253.983559 \r\nL 164.25395 257.688832 \r\nL 164.810475 258.850773 \r\nL 165.367 256.307583 \r\nL 167.036576 251.374588 \r\nL 167.593101 259.113841 \r\nL 168.149626 261.703808 \r\nL 168.706152 265.340871 \r\nL 169.262677 266.562857 \r\nL 170.932252 271.939006 \r\nL 171.488778 271.12359 \r\nL 172.045303 274.08699 \r\nL 172.601828 272.141299 \r\nL 173.158353 273.085412 \r\nL 174.827929 277.701171 \r\nL 175.384454 280.01304 \r\nL 175.940979 274.779135 \r\nL 177.05403 279.134539 \r\nL 178.723605 282.950968 \r\nL 179.280131 285.921239 \r\nL 179.836656 285.221963 \r\nL 180.393181 281.980447 \r\nL 180.949706 281.706775 \r\nL 182.619282 284.928401 \r\nL 183.175807 283.013651 \r\nL 183.732332 278.178178 \r\nL 184.288857 280.048841 \r\nL 184.845383 276.069928 \r\nL 186.514958 277.623576 \r\nL 187.071484 276.874793 \r\nL 187.628009 275.295187 \r\nL 188.184534 274.721462 \r\nL 188.741059 277.436698 \r\nL 190.410635 276.154269 \r\nL 190.96716 277.684743 \r\nL 191.523685 278.378417 \r\nL 192.08021 278.254562 \r\nL 192.636736 275.178923 \r\nL 194.306311 276.504528 \r\nL 194.862836 279.951028 \r\nL 195.419362 280.210901 \r\nL 196.532412 281.759707 \r\nL 198.201988 276.931935 \r\nL 198.758513 273.36724 \r\nL 199.315038 274.420402 \r\nL 199.871563 277.794459 \r\nL 200.428089 276.850192 \r\nL 202.097664 277.517183 \r\nL 202.654189 279.880565 \r\nL 203.210715 281.462486 \r\nL 203.76724 284.071545 \r\nL 204.323765 290.834033 \r\nL 205.993341 293.534379 \r\nL 206.549866 293.680789 \r\nL 207.106391 290.572698 \r\nL 207.662916 288.672811 \r\nL 208.219441 290.796468 \r\nL 209.889017 286.874198 \r\nL 210.445542 286.50141 \r\nL 211.002067 290.51244 \r\nL 211.558593 290.143395 \r\nL 212.115118 292.202222 \r\nL 213.784694 296.350114 \r\nL 214.341219 295.049181 \r\nL 214.897744 294.719327 \r\nL 215.454269 298.772455 \r\nL 216.010794 303.897978 \r\nL 217.68037 305.286977 \r\nL 218.236895 307.159028 \r\nL 218.79342 305.040271 \r\nL 219.349946 307.338695 \r\nL 219.906471 308.164242 \r\nL 221.576046 308.999929 \r\nL 222.132572 309.618098 \r\nL 222.689097 311.144763 \r\nL 223.802147 295.410729 \r\nL 225.471723 300.36498 \r\nL 226.584773 309.038214 \r\nL 227.141299 306.25145 \r\nL 227.697824 300.038421 \r\nL 230.48045 305.893822 \r\nL 231.036975 304.967505 \r\nL 231.5935 305.351931 \r\nL 233.263076 306.015785 \r\nL 234.932651 292.878681 \r\nL 235.489177 292.477691 \r\nL 237.158752 298.888741 \r\nL 237.715277 302.342713 \r\nL 238.271803 301.557474 \r\nL 238.828328 306.042317 \r\nL 239.384853 306.161687 \r\nL 241.054429 309.601967 \r\nL 241.610954 311.174154 \r\nL 242.167479 311.667947 \r\nL 242.724004 306.38806 \r\nL 243.28053 305.019474 \r\nL 244.950105 298.407209 \r\nL 245.50663 293.89852 \r\nL 246.063156 293.160213 \r\nL 246.619681 287.631486 \r\nL 247.176206 287.288421 \r\nL 249.402307 288.213482 \r\nL 249.958832 296.028566 \r\nL 250.515357 298.350606 \r\nL 251.071882 302.083047 \r\nL 252.741458 302.530302 \r\nL 253.297983 301.093342 \r\nL 253.854509 303.875537 \r\nL 254.411034 304.940368 \r\nL 254.967559 302.228826 \r\nL 256.637135 301.691495 \r\nL 257.19366 304.993525 \r\nL 257.750185 305.818131 \r\nL 258.30671 304.999759 \r\nL 258.863235 309.493894 \r\nL 261.089336 306.10834 \r\nL 261.645861 293.734954 \r\nL 262.202387 293.845107 \r\nL 262.758912 295.447962 \r\nL 264.428487 298.588436 \r\nL 264.985013 300.352891 \r\nL 265.541538 299.801329 \r\nL 266.098063 295.147105 \r\nL 266.654588 294.379592 \r\nL 268.324164 299.141279 \r\nL 268.880689 296.971981 \r\nL 269.437214 292.885896 \r\nL 269.99374 293.252839 \r\nL 272.776366 289.715449 \r\nL 273.332891 289.68794 \r\nL 273.889416 296.825244 \r\nL 274.445941 296.059706 \r\nL 276.115517 299.792148 \r\nL 276.672042 297.776228 \r\nL 277.228567 300.020045 \r\nL 277.785092 302.903611 \r\nL 278.341618 293.149295 \r\nL 280.011193 295.775192 \r\nL 280.567719 300.14067 \r\nL 281.124244 302.699678 \r\nL 281.680769 291.08537 \r\nL 282.237294 291.54488 \r\nL 283.90687 295.983349 \r\nL 284.463395 299.81955 \r\nL 285.01992 297.568836 \r\nL 286.132971 295.610093 \r\nL 288.359071 308.144965 \r\nL 288.915597 309.136231 \r\nL 291.698223 307.05886 \r\nL 292.254748 308.648628 \r\nL 292.811273 309.320859 \r\nL 295.593899 309.959516 \r\nL 296.150424 314.584879 \r\nL 296.70695 314.693862 \r\nL 297.263475 315.589669 \r\nL 297.82 317.298251 \r\nL 299.489576 319.01471 \r\nL 300.046101 320.936383 \r\nL 300.602626 320.036864 \r\nL 301.159151 321.489121 \r\nL 301.715676 319.61107 \r\nL 303.385252 322.235111 \r\nL 303.941777 325.762494 \r\nL 305.611353 326.682889 \r\nL 307.837454 325.973637 \r\nL 308.393979 326.235843 \r\nL 308.950504 323.262174 \r\nL 309.507029 322.83425 \r\nL 311.176605 314.86486 \r\nL 311.73313 313.407213 \r\nL 312.289655 321.131687 \r\nL 312.846181 318.277887 \r\nL 313.402706 317.988429 \r\nL 316.185332 318.747185 \r\nL 316.741857 317.896992 \r\nL 317.298382 321.083204 \r\nL 318.967958 320.686456 \r\nL 319.524483 322.904718 \r\nL 320.081008 314.847549 \r\nL 320.637534 311.85854 \r\nL 321.194059 318.028124 \r\nL 322.863634 320.663706 \r\nL 323.42016 313.032393 \r\nL 323.976685 313.954949 \r\nL 324.53321 317.349181 \r\nL 325.089735 318.491774 \r\nL 326.759311 318.879094 \r\nL 327.872361 301.154319 \r\nL 328.428886 298.696018 \r\nL 328.985412 281.01616 \r\nL 330.654987 269.327349 \r\nL 331.211512 275.590552 \r\nL 331.768038 278.98702 \r\nL 332.324563 278.999099 \r\nL 332.881088 268.297109 \r\nL 334.550664 269.322869 \r\nL 335.107189 277.139283 \r\nL 335.663714 281.704867 \r\nL 336.220239 280.887546 \r\nL 336.776765 260.888936 \r\nL 338.44634 262.632581 \r\nL 339.002865 273.295345 \r\nL 339.559391 274.305101 \r\nL 340.115916 273.337721 \r\nL 342.342017 277.756347 \r\nL 342.898542 277.148014 \r\nL 343.455067 272.952076 \r\nL 344.011592 272.802312 \r\nL 344.568117 278.784148 \r\nL 346.237693 278.922388 \r\nL 346.794218 282.353133 \r\nL 347.350743 282.362584 \r\nL 347.907269 287.264248 \r\nL 348.463794 286.94323 \r\nL 350.689895 270.517607 \r\nL 351.802945 263.676049 \r\nL 352.35947 267.962991 \r\nL 354.029046 265.173341 \r\nL 354.585571 267.927993 \r\nL 355.142096 267.732897 \r\nL 356.255147 272.149813 \r\nL 357.924722 273.589933 \r\nL 358.481248 275.359672 \r\nL 359.037773 270.511603 \r\nL 359.594298 262.105412 \r\nL 361.820399 269.075522 \r\nL 362.376924 271.861367 \r\nL 362.933449 280.317326 \r\nL 363.489975 278.994151 \r\nL 364.0465 282.033202 \r\nL 365.716075 282.384097 \r\nL 366.272601 282.717672 \r\nL 366.829126 270.507834 \r\nL 367.385651 269.547497 \r\nL 367.942176 271.203641 \r\nL 369.611752 277.06259 \r\nL 370.168277 278.135934 \r\nL 370.724802 282.157631 \r\nL 371.281327 281.882373 \r\nL 371.837853 282.475194 \r\nL 373.507428 284.783117 \r\nL 374.063953 285.81113 \r\nL 374.620479 285.17455 \r\nL 375.733529 285.456965 \r\nL 377.403105 287.315403 \r\nL 377.95963 287.68744 \r\nL 378.516155 290.480792 \r\nL 379.07268 288.830449 \r\nL 379.629206 285.791062 \r\nL 381.298781 284.84819 \r\nL 381.855306 286.927169 \r\nL 382.411832 285.365356 \r\nL 382.968357 280.57434 \r\nL 383.524882 281.247799 \r\nL 385.194458 290.067903 \r\nL 385.750983 290.239485 \r\nL 386.307508 292.617156 \r\nL 386.864033 292.78902 \r\nL 387.420558 291.428524 \r\nL 389.090134 291.322696 \r\nL 389.646659 288.904252 \r\nL 390.203185 287.748382 \r\nL 390.75971 290.578671 \r\nL 391.316235 285.284496 \r\nL 392.985811 289.381092 \r\nL 393.542336 295.16655 \r\nL 394.098861 291.591255 \r\nL 394.655386 285.02248 \r\nL 395.211911 281.73986 \r\nL 397.438012 278.27581 \r\nL 397.994537 280.377645 \r\nL 398.551063 280.051682 \r\nL 399.107588 277.353466 \r\nL 400.777163 271.635255 \r\nL 401.333689 268.557265 \r\nL 401.890214 271.900487 \r\nL 402.446739 268.774709 \r\nL 403.003264 261.453002 \r\nL 405.229365 260.277054 \r\nL 405.78589 260.532694 \r\nL 406.342416 257.377358 \r\nL 406.898941 258.292703 \r\nL 408.568516 257.861553 \r\nL 409.681567 261.928047 \r\nL 410.238092 261.133676 \r\nL 410.794617 262.610401 \r\nL 412.464193 259.838597 \r\nL 413.020718 261.723121 \r\nL 413.577243 262.091503 \r\nL 414.133768 251.398474 \r\nL 414.690294 248.429347 \r\nL 416.359869 253.4652 \r\nL 416.916395 254.411889 \r\nL 417.47292 251.362827 \r\nL 418.029445 253.365196 \r\nL 418.58597 249.930298 \r\nL 420.255546 246.790377 \r\nL 420.812071 244.466273 \r\nL 421.368596 246.374055 \r\nL 421.925121 243.818935 \r\nL 422.481647 242.28102 \r\nL 424.151222 244.045383 \r\nL 424.707747 248.872382 \r\nL 425.264273 250.034544 \r\nL 425.820798 250.270748 \r\nL 426.377323 250.005958 \r\nL 428.046899 249.65827 \r\nL 428.603424 245.435354 \r\nL 429.159949 242.904747 \r\nL 429.716474 249.13089 \r\nL 430.273 247.613697 \r\nL 431.942575 241.267173 \r\nL 432.4991 239.988429 \r\nL 433.612151 241.540243 \r\nL 434.168676 243.837298 \r\nL 435.838252 249.97426 \r\nL 436.394777 248.80935 \r\nL 436.951302 253.164948 \r\nL 437.507827 253.242172 \r\nL 438.064352 248.837265 \r\nL 439.733928 253.059059 \r\nL 440.290453 253.107713 \r\nL 440.846978 251.153866 \r\nL 441.403504 249.796564 \r\nL 441.960029 245.720222 \r\nL 443.629605 245.445861 \r\nL 444.18613 247.822834 \r\nL 444.742655 246.176202 \r\nL 445.29918 242.626295 \r\nL 445.855705 248.090779 \r\nL 447.525281 250.834032 \r\nL 448.081806 244.159977 \r\nL 448.638331 242.481312 \r\nL 449.194857 238.775253 \r\nL 449.751382 236.612781 \r\nL 451.420957 234.813902 \r\nL 451.977483 232.317811 \r\nL 453.090533 233.927125 \r\nL 453.647058 233.580737 \r\nL 455.316634 227.692084 \r\nL 455.873159 221.450769 \r\nL 456.429684 219.204075 \r\nL 456.98621 222.678667 \r\nL 457.542735 221.423782 \r\nL 459.21231 219.464218 \r\nL 460.325361 224.622812 \r\nL 460.881886 223.587889 \r\nL 461.438411 217.632679 \r\nL 463.107987 215.591251 \r\nL 463.664512 211.195384 \r\nL 464.777562 215.395183 \r\nL 465.334088 221.183929 \r\nL 467.003663 220.235428 \r\nL 467.560188 209.076512 \r\nL 468.116714 208.084986 \r\nL 469.229764 231.982601 \r\nL 470.89934 234.608821 \r\nL 472.01239 233.776107 \r\nL 472.568915 225.120113 \r\nL 473.125441 231.191676 \r\nL 474.795016 231.459806 \r\nL 475.351541 227.189411 \r\nL 475.908067 224.720873 \r\nL 476.464592 227.236625 \r\nL 477.021117 229.013306 \r\nL 478.690693 229.998073 \r\nL 479.247218 225.95394 \r\nL 479.803743 231.550682 \r\nL 480.360268 231.052975 \r\nL 480.916793 239.80338 \r\nL 482.586369 238.849754 \r\nL 483.142894 238.037356 \r\nL 483.69942 235.722841 \r\nL 484.255945 238.077554 \r\nL 484.81247 239.568511 \r\nL 486.482046 239.586705 \r\nL 487.038571 247.001493 \r\nL 487.595096 248.659295 \r\nL 488.151621 249.628235 \r\nL 488.708146 249.842824 \r\nL 490.377722 252.663115 \r\nL 490.934247 259.295469 \r\nL 492.047298 253.035376 \r\nL 492.603823 253.762307 \r\nL 494.273398 250.87871 \r\nL 494.829924 245.961569 \r\nL 495.386449 246.869412 \r\nL 495.942974 242.863462 \r\nL 498.169075 239.312592 \r\nL 498.7256 239.764428 \r\nL 499.282125 233.329396 \r\nL 499.838651 230.312516 \r\nL 500.395176 228.991957 \r\nL 502.064751 226.654219 \r\nL 502.621277 225.081532 \r\nL 503.177802 225.256206 \r\nL 503.734327 225.643499 \r\nL 504.290852 220.804218 \r\nL 505.960428 221.669547 \r\nL 506.516953 221.744465 \r\nL 507.073478 217.923175 \r\nL 507.630003 218.025654 \r\nL 508.186529 220.056963 \r\nL 509.856104 219.366917 \r\nL 510.41263 210.883167 \r\nL 511.52568 210.544052 \r\nL 512.082205 210.999069 \r\nL 513.751781 208.461074 \r\nL 514.308306 210.986477 \r\nL 514.864831 214.243316 \r\nL 515.977882 211.207897 \r\nL 517.647457 208.148504 \r\nL 518.203982 209.552835 \r\nL 518.760508 207.390548 \r\nL 519.317033 199.571165 \r\nL 519.873558 198.025245 \r\nL 521.543134 198.881817 \r\nL 522.099659 196.721837 \r\nL 522.656184 195.507185 \r\nL 523.212709 189.499247 \r\nL 523.769234 190.721127 \r\nL 525.43881 191.422758 \r\nL 525.995335 188.376266 \r\nL 526.551861 188.017692 \r\nL 527.108386 190.212471 \r\nL 527.664911 193.707087 \r\nL 530.447537 193.629643 \r\nL 531.004062 193.458883 \r\nL 531.560587 197.191956 \r\nL 533.786688 194.497279 \r\nL 534.343213 197.991029 \r\nL 534.899739 202.61482 \r\nL 535.456264 202.847056 \r\nL 537.125839 201.232855 \r\nL 537.682365 196.789685 \r\nL 538.23889 199.919966 \r\nL 538.795415 200.003569 \r\nL 539.35194 199.555471 \r\nL 541.021516 207.183718 \r\nL 541.578041 208.412349 \r\nL 542.134566 210.728013 \r\nL 542.691092 209.399386 \r\nL 543.247617 211.569961 \r\nL 544.917192 208.735965 \r\nL 545.473718 205.72049 \r\nL 546.030243 207.637851 \r\nL 546.586768 205.131598 \r\nL 547.143293 204.631567 \r\nL 548.812869 207.59358 \r\nL 549.369394 207.466579 \r\nL 549.925919 203.902878 \r\nL 550.482444 207.187305 \r\nL 551.03897 211.986283 \r\nL 552.708545 210.046088 \r\nL 553.265071 208.625321 \r\nL 553.821596 210.494072 \r\nL 554.378121 213.18927 \r\nL 556.604222 215.585896 \r\nL 557.160747 204.550534 \r\nL 557.717272 204.621723 \r\nL 558.273797 211.69439 \r\nL 560.499898 212.381052 \r\nL 561.056423 206.072349 \r\nL 561.612949 204.181604 \r\nL 562.169474 206.531943 \r\nL 562.725999 206.680081 \r\nL 564.9521 200.815102 \r\nL 565.508625 198.047177 \r\nL 566.06515 202.56894 \r\nL 566.621676 208.650656 \r\nL 568.291251 205.051449 \r\nL 568.847776 201.666479 \r\nL 569.960827 203.041516 \r\nL 570.517352 198.897317 \r\nL 572.186928 196.677248 \r\nL 572.743453 195.348143 \r\nL 573.299978 195.005952 \r\nL 573.856503 197.936259 \r\nL 574.413028 232.156612 \r\nL 576.082604 238.534374 \r\nL 576.639129 226.641185 \r\nL 577.195654 224.870088 \r\nL 577.75218 230.171227 \r\nL 578.308705 232.325896 \r\nL 579.978281 224.204891 \r\nL 580.534806 220.796203 \r\nL 581.091331 223.255313 \r\nL 581.647856 228.082046 \r\nL 582.204381 229.425731 \r\nL 583.873957 226.580556 \r\nL 584.430482 226.321351 \r\nL 584.987007 224.530222 \r\nL 585.543533 220.676607 \r\nL 586.100058 221.755281 \r\nL 588.326159 226.312222 \r\nL 588.882684 223.237436 \r\nL 589.995734 222.80102 \r\nL 591.66531 225.828848 \r\nL 592.221835 222.063495 \r\nL 592.77836 225.732926 \r\nL 593.334886 227.881922 \r\nL 593.891411 227.122526 \r\nL 595.560986 225.91839 \r\nL 596.117512 220.838619 \r\nL 596.674037 222.796831 \r\nL 597.230562 222.777771 \r\nL 597.787087 219.449814 \r\nL 599.456663 217.972978 \r\nL 600.013188 216.232872 \r\nL 600.569713 215.127079 \r\nL 601.126238 216.557602 \r\nL 601.682764 220.822801 \r\nL 603.352339 222.438036 \r\nL 603.908864 218.553406 \r\nL 604.46539 215.469129 \r\nL 605.021915 216.644016 \r\nL 605.57844 214.051004 \r\nL 607.248016 210.604875 \r\nL 607.804541 211.844755 \r\nL 608.361066 213.440939 \r\nL 608.917591 215.848062 \r\nL 609.474117 215.93536 \r\nL 611.143692 215.619732 \r\nL 611.700217 213.864073 \r\nL 612.256743 214.292722 \r\nL 612.813268 216.000539 \r\nL 613.369793 215.075782 \r\nL 615.039369 213.217247 \r\nL 615.595894 212.428275 \r\nL 616.152419 207.588967 \r\nL 616.708944 204.180738 \r\nL 617.265469 203.983221 \r\nL 618.935045 202.457952 \r\nL 619.49157 199.402738 \r\nL 620.048096 198.420517 \r\nL 620.604621 197.943108 \r\nL 621.161146 199.586479 \r\nL 622.830722 199.724145 \r\nL 623.387247 195.724249 \r\nL 623.943772 195.221275 \r\nL 624.500297 197.062402 \r\nL 625.056822 197.518471 \r\nL 626.726398 194.319697 \r\nL 627.282923 195.420295 \r\nL 627.839448 193.3692 \r\nL 628.395974 189.716805 \r\nL 628.952499 187.243636 \r\nL 630.622074 186.806805 \r\nL 631.1786 187.614608 \r\nL 631.735125 186.209924 \r\nL 632.29165 186.728053 \r\nL 632.848175 190.22289 \r\nL 634.517751 187.901296 \r\nL 635.074276 184.219254 \r\nL 635.630801 186.423612 \r\nL 636.743852 184.263208 \r\nL 638.413427 180.732344 \r\nL 638.969953 177.351615 \r\nL 639.526478 177.667136 \r\nL 640.083003 177.504648 \r\nL 640.639528 175.805623 \r\nL 642.309104 173.686186 \r\nL 642.865629 172.243477 \r\nL 643.422154 171.599603 \r\nL 643.978679 172.058968 \r\nL 644.535205 172.734725 \r\nL 646.20478 172.014255 \r\nL 646.761306 172.699272 \r\nL 647.317831 174.410686 \r\nL 647.874356 174.890799 \r\nL 648.430881 173.996034 \r\nL 650.100457 172.862857 \r\nL 650.656982 172.713199 \r\nL 651.213507 169.167949 \r\nL 651.770032 167.908919 \r\nL 653.996133 167.253363 \r\nL 654.552658 166.777403 \r\nL 655.109184 166.147808 \r\nL 657.89181 166.788289 \r\nL 658.448335 166.384083 \r\nL 659.00486 167.076965 \r\nL 659.561385 167.978322 \r\nL 661.787486 168.203816 \r\nL 662.344011 170.517448 \r\nL 662.900537 171.009208 \r\nL 663.457062 169.228374 \r\nL 664.013587 169.477073 \r\nL 665.683163 171.799047 \r\nL 666.239688 174.23162 \r\nL 666.796213 177.576402 \r\nL 667.909263 181.844066 \r\nL 669.578839 182.322129 \r\nL 670.135364 179.691156 \r\nL 670.691889 184.792435 \r\nL 671.248415 181.814923 \r\nL 671.80494 181.840019 \r\nL 673.474516 183.495779 \r\nL 674.031041 183.600759 \r\nL 674.587566 186.418054 \r\nL 675.144091 184.859806 \r\nL 675.700616 181.467925 \r\nL 677.926717 179.841838 \r\nL 678.483242 177.088971 \r\nL 679.039768 176.335664 \r\nL 679.596293 175.032628 \r\nL 681.265868 175.762271 \r\nL 681.822394 177.129956 \r\nL 682.378919 176.952569 \r\nL 682.935444 179.619614 \r\nL 683.491969 185.950904 \r\nL 685.161545 185.594928 \r\nL 685.71807 180.679129 \r\nL 686.83112 183.015578 \r\nL 687.387646 182.655819 \r\nL 689.057221 179.918965 \r\nL 689.613747 178.76396 \r\nL 690.170272 178.512239 \r\nL 690.726797 183.588264 \r\nL 691.283322 187.019768 \r\nL 692.952898 186.638078 \r\nL 693.509423 185.669085 \r\nL 694.622473 184.926417 \r\nL 695.178999 180.083592 \r\nL 697.405099 177.909862 \r\nL 698.51815 176.128214 \r\nL 701.300776 174.668469 \r\nL 701.857301 171.881404 \r\nL 702.413826 171.652588 \r\nL 702.970352 169.825167 \r\nL 704.639927 166.638649 \r\nL 705.196452 164.894063 \r\nL 705.752978 166.969971 \r\nL 706.309503 168.313744 \r\nL 706.866028 165.644154 \r\nL 708.535604 163.760921 \r\nL 709.092129 164.325035 \r\nL 709.648654 163.357121 \r\nL 710.205179 161.06019 \r\nL 710.761704 159.378291 \r\nL 712.43128 160.219152 \r\nL 712.987805 159.377778 \r\nL 713.54433 154.90422 \r\nL 714.100856 155.499422 \r\nL 714.657381 156.946937 \r\nL 716.326957 152.554516 \r\nL 716.883482 144.768377 \r\nL 717.440007 150.867545 \r\nL 717.996532 155.691 \r\nL 718.553057 146.951085 \r\nL 720.222633 142.30537 \r\nL 720.779158 148.121005 \r\nL 721.335683 150.617998 \r\nL 721.892209 144.379104 \r\nL 722.448734 145.650364 \r\nL 725.787885 149.596392 \r\nL 726.34441 156.357779 \r\nL 728.013986 138.711942 \r\nL 728.570511 147.754973 \r\nL 729.127036 152.967772 \r\nL 729.683562 151.042811 \r\nL 730.240087 141.495402 \r\nL 731.909662 147.234671 \r\nL 732.466188 152.534722 \r\nL 733.022713 143.966149 \r\nL 733.579238 139.152026 \r\nL 734.135763 150.719496 \r\nL 735.805339 157.20571 \r\nL 736.361864 145.815927 \r\nL 736.918389 141.063855 \r\nL 737.474914 151.240222 \r\nL 738.03144 154.979702 \r\nL 739.701015 145.017836 \r\nL 740.25754 144.123795 \r\nL 740.814066 150.189331 \r\nL 741.370591 149.386008 \r\nL 741.927116 142.472772 \r\nL 743.596692 146.584469 \r\nL 744.153217 152.334678 \r\nL 744.709742 151.451277 \r\nL 745.266267 144.093945 \r\nL 745.822793 151.223609 \r\nL 747.492368 154.159006 \r\nL 748.048893 152.540236 \r\nL 748.605419 145.166291 \r\nL 749.161944 152.606511 \r\nL 751.388045 156.573924 \r\nL 751.94457 149.374061 \r\nL 752.501095 146.889617 \r\nL 753.05762 153.625979 \r\nL 753.614145 155.021835 \r\nL 755.840246 147.956096 \r\nL 756.396772 154.653506 \r\nL 756.953297 157.333594 \r\nL 757.509822 150.252425 \r\nL 759.179398 148.181572 \r\nL 759.735923 155.079892 \r\nL 760.292448 159.28669 \r\nL 760.848973 151.511225 \r\nL 761.405498 149.339528 \r\nL 763.075074 156.553123 \r\nL 763.631599 159.899707 \r\nL 764.188124 148.315712 \r\nL 764.74465 151.736648 \r\nL 765.301175 159.281017 \r\nL 766.97075 162.046184 \r\nL 768.083801 144.698161 \r\nL 768.640326 156.691098 \r\nL 769.196851 160.610934 \r\nL 770.866427 158.974562 \r\nL 771.422952 154.298979 \r\nL 771.979477 159.983178 \r\nL 772.536003 160.169313 \r\nL 773.092528 158.084321 \r\nL 774.762103 153.059372 \r\nL 775.318629 158.141901 \r\nL 775.875154 158.833988 \r\nL 776.431679 157.299732 \r\nL 776.988204 156.814246 \r\nL 778.65778 168.272512 \r\nL 779.214305 166.3361 \r\nL 779.77083 162.339668 \r\nL 780.327355 164.009319 \r\nL 780.883881 167.686094 \r\nL 782.553456 166.02003 \r\nL 783.109982 168.781769 \r\nL 783.666507 176.182242 \r\nL 784.779557 178.6643 \r\nL 786.449133 173.114313 \r\nL 787.005658 167.968991 \r\nL 787.562183 171.687475 \r\nL 788.118708 177.312433 \r\nL 788.675234 185.116864 \r\nL 790.344809 187.993966 \r\nL 790.901334 189.41096 \r\nL 791.45786 189.832212 \r\nL 792.57091 202.257386 \r\nL 794.240486 205.492098 \r\nL 794.797011 209.626347 \r\nL 795.353536 199.891194 \r\nL 795.910061 195.875983 \r\nL 796.466587 200.958538 \r\nL 798.136162 196.072184 \r\nL 798.692687 195.028804 \r\nL 799.249213 195.651842 \r\nL 799.805738 198.617937 \r\nL 800.362263 193.620497 \r\nL 802.031839 189.477296 \r\nL 802.588364 188.640076 \r\nL 803.701414 177.692162 \r\nL 804.257939 178.990674 \r\nL 806.48404 176.228793 \r\nL 807.040565 174.454763 \r\nL 807.597091 177.05055 \r\nL 808.153616 173.477535 \r\nL 809.823192 166.823177 \r\nL 810.379717 165.388845 \r\nL 810.936242 166.875207 \r\nL 811.492767 166.178578 \r\nL 812.049292 163.532581 \r\nL 813.718868 160.681734 \r\nL 814.275393 161.364083 \r\nL 814.831918 161.522277 \r\nL 815.388444 159.067223 \r\nL 815.944969 157.128689 \r\nL 817.614544 159.354909 \r\nL 818.17107 158.360343 \r\nL 818.727595 156.26404 \r\nL 819.28412 160.603229 \r\nL 819.840645 160.663247 \r\nL 821.510221 158.470466 \r\nL 822.066746 154.926824 \r\nL 822.623271 158.119261 \r\nL 823.179797 160.268496 \r\nL 823.736322 160.169738 \r\nL 825.405897 163.008355 \r\nL 825.962423 166.753968 \r\nL 826.518948 165.828522 \r\nL 827.075473 165.303801 \r\nL 827.631998 166.292235 \r\nL 829.301574 168.821746 \r\nL 829.858099 171.64368 \r\nL 830.414624 175.320508 \r\nL 830.971149 172.300704 \r\nL 831.527675 176.152003 \r\nL 833.19725 178.35507 \r\nL 833.753775 172.869785 \r\nL 834.310301 170.976654 \r\nL 834.866826 170.587735 \r\nL 835.423351 175.355148 \r\nL 837.092927 175.269432 \r\nL 837.649452 175.096976 \r\nL 838.205977 177.303066 \r\nL 838.762502 179.007145 \r\nL 840.988603 174.654595 \r\nL 841.545128 171.954413 \r\nL 842.101654 176.219691 \r\nL 843.214704 180.152571 \r\nL 844.88428 176.565859 \r\nL 845.440805 172.126798 \r\nL 845.99733 172.423321 \r\nL 846.553855 172.459551 \r\nL 847.11038 170.418036 \r\nL 848.779956 168.432403 \r\nL 849.336481 170.293951 \r\nL 849.893007 171.550825 \r\nL 850.449532 171.52693 \r\nL 851.006057 168.20728 \r\nL 852.675633 167.428417 \r\nL 853.232158 169.28887 \r\nL 853.788683 166.417804 \r\nL 854.345208 161.886577 \r\nL 854.901733 159.707456 \r\nL 856.571309 159.280204 \r\nL 857.127834 157.198888 \r\nL 857.684359 152.506092 \r\nL 858.240885 151.951096 \r\nL 860.466985 152.902681 \r\nL 861.023511 153.403454 \r\nL 861.580036 155.259436 \r\nL 862.136561 149.548956 \r\nL 862.693086 149.595667 \r\nL 864.362662 154.183537 \r\nL 864.919187 154.995166 \r\nL 865.475712 149.165233 \r\nL 866.032238 150.93891 \r\nL 866.588763 156.075961 \r\nL 868.258338 153.189872 \r\nL 868.814864 148.469594 \r\nL 869.371389 155.46791 \r\nL 869.927914 157.019186 \r\nL 872.154015 148.195498 \r\nL 872.71054 147.2188 \r\nL 873.267065 154.113268 \r\nL 873.82359 149.882523 \r\nL 874.380116 141.97168 \r\nL 876.049691 150.622734 \r\nL 876.606216 156.748519 \r\nL 877.162742 145.01013 \r\nL 878.275792 144.48707 \r\nL 879.945368 154.119506 \r\nL 881.058418 155.358035 \r\nL 881.614943 138.463261 \r\nL 882.171469 147.49058 \r\nL 883.841044 152.499058 \r\nL 884.397569 144.754079 \r\nL 884.954095 145.868841 \r\nL 885.51062 151.069304 \r\nL 886.067145 152.457136 \r\nL 887.736721 139.494535 \r\nL 888.293246 144.404589 \r\nL 888.849771 150.716456 \r\nL 889.406296 150.560507 \r\nL 889.962821 140.682323 \r\nL 891.632397 142.811746 \r\nL 892.188922 147.431657 \r\nL 892.745448 148.440115 \r\nL 893.301973 142.279779 \r\nL 893.858498 150.465884 \r\nL 895.528074 149.52128 \r\nL 896.084599 141.016243 \r\nL 896.641124 146.99092 \r\nL 897.197649 148.658751 \r\nL 897.754174 147.34983 \r\nL 900.5368 145.287795 \r\nL 901.649851 152.174575 \r\nL 904.432477 152.818273 \r\nL 904.989002 150.260908 \r\nL 905.545527 149.522517 \r\nL 907.215103 151.470329 \r\nL 907.771628 155.738895 \r\nL 908.328153 149.551431 \r\nL 908.884679 149.798221 \r\nL 909.441204 151.125381 \r\nL 911.110779 153.147474 \r\nL 911.667305 150.205467 \r\nL 912.22383 143.72733 \r\nL 912.780355 151.463048 \r\nL 913.33688 150.737699 \r\nL 915.006456 150.6353 \r\nL 915.562981 147.892719 \r\nL 916.119506 148.602798 \r\nL 916.676031 154.861485 \r\nL 918.902132 148.262993 \r\nL 919.458658 143.847261 \r\nL 920.571708 157.915506 \r\nL 921.128233 150.807367 \r\nL 922.797809 144.942971 \r\nL 923.354334 158.711123 \r\nL 923.910859 143.82061 \r\nL 924.467384 136.988723 \r\nL 925.02391 149.507495 \r\nL 926.693485 162.754125 \r\nL 927.25001 146.67531 \r\nL 927.806536 143.465676 \r\nL 928.363061 150.948842 \r\nL 928.919586 165.138273 \r\nL 930.589162 142.803581 \r\nL 931.145687 143.799702 \r\nL 931.702212 158.251369 \r\nL 932.258737 159.907006 \r\nL 932.815263 142.35687 \r\nL 934.484838 147.227601 \r\nL 935.041363 157.709046 \r\nL 935.597889 152.961816 \r\nL 936.154414 144.497674 \r\nL 936.710939 150.44312 \r\nL 940.05009 156.753662 \r\nL 940.606615 151.55145 \r\nL 942.276191 148.5689 \r\nL 942.832716 154.20273 \r\nL 943.389241 157.456353 \r\nL 943.945767 151.981053 \r\nL 944.502292 149.754992 \r\nL 946.171868 153.467909 \r\nL 946.728393 156.232988 \r\nL 947.284918 147.562016 \r\nL 947.841443 147.33813 \r\nL 948.397968 151.714504 \r\nL 950.067544 150.581078 \r\nL 950.624069 153.088145 \r\nL 951.180594 153.137347 \r\nL 951.73712 148.820674 \r\nL 952.293645 155.861442 \r\nL 953.96322 155.257191 \r\nL 954.519746 149.294885 \r\nL 955.076271 149.668994 \r\nL 955.632796 152.522598 \r\nL 956.189321 153.461794 \r\nL 957.858897 152.941332 \r\nL 958.415422 147.330054 \r\nL 958.971947 150.465389 \r\nL 959.528473 150.921007 \r\nL 960.084998 147.951748 \r\nL 961.754573 146.016625 \r\nL 962.311099 152.599124 \r\nL 962.867624 154.346432 \r\nL 963.424149 145.323955 \r\nL 965.65025 151.510023 \r\nL 966.206775 154.607272 \r\nL 966.7633 152.328545 \r\nL 967.319825 145.01317 \r\nL 967.876351 151.503413 \r\nL 969.545926 154.811063 \r\nL 970.102451 147.435828 \r\nL 971.215502 146.583232 \r\nL 971.772027 151.043218 \r\nL 973.441603 149.698225 \r\nL 973.998128 145.867286 \r\nL 974.554653 146.619781 \r\nL 975.111178 153.259328 \r\nL 975.667704 151.61472 \r\nL 977.337279 147.066368 \r\nL 977.893804 149.506293 \r\nL 978.45033 154.340335 \r\nL 979.006855 152.612803 \r\nL 979.56338 149.942453 \r\nL 981.232956 154.425803 \r\nL 981.789481 156.871366 \r\nL 982.346006 155.266505 \r\nL 982.902531 146.101104 \r\nL 983.459056 151.379029 \r\nL 985.128632 155.221986 \r\nL 985.685157 149.906841 \r\nL 986.241683 145.828811 \r\nL 987.354733 158.658333 \r\nL 989.024309 145.927976 \r\nL 989.580834 145.716568 \r\nL 990.137359 154.263738 \r\nL 990.693884 151.8584 \r\nL 991.250409 144.287008 \r\nL 992.919985 149.537486 \r\nL 993.47651 153.285768 \r\nL 994.589561 144.535884 \r\nL 995.146086 147.986423 \r\nL 996.815661 149.977764 \r\nL 997.372187 150.867527 \r\nL 997.928712 153.871532 \r\nL 999.041762 149.99185 \r\nL 1000.711338 149.366745 \r\nL 1001.267863 154.121769 \r\nL 1001.824388 149.986937 \r\nL 1002.380914 149.494523 \r\nL 1002.937439 150.10093 \r\nL 1004.607014 153.653832 \r\nL 1005.16354 154.134971 \r\nL 1005.720065 143.404721 \r\nL 1006.27659 150.397983 \r\nL 1006.833115 159.988462 \r\nL 1008.502691 155.487616 \r\nL 1009.615741 143.296631 \r\nL 1010.172266 149.973699 \r\nL 1010.728792 161.052803 \r\nL 1012.954893 141.909558 \r\nL 1013.511418 153.240524 \r\nL 1014.067943 159.851052 \r\nL 1014.624468 148.879845 \r\nL 1016.294044 137.905456 \r\nL 1016.850569 158.137995 \r\nL 1017.407094 164.464884 \r\nL 1017.963619 138.458348 \r\nL 1018.520145 142.263626 \r\nL 1020.746245 166.442599 \r\nL 1021.302771 128.448498 \r\nL 1021.859296 151.079112 \r\nL 1022.415821 160.486302 \r\nL 1024.085397 158.193136 \r\nL 1024.641922 135.913072 \r\nL 1025.198447 156.261743 \r\nL 1025.754972 169.775116 \r\nL 1026.311498 147.229051 \r\nL 1027.981073 143.063414 \r\nL 1029.094124 164.669258 \r\nL 1029.650649 135.571712 \r\nL 1030.207174 152.341359 \r\nL 1031.87675 159.546347 \r\nL 1032.433275 154.971166 \r\nL 1032.9898 143.224453 \r\nL 1033.546325 154.992692 \r\nL 1034.10285 158.899097 \r\nL 1035.772426 146.168192 \r\nL 1036.885476 155.521867 \r\nL 1037.442002 157.900201 \r\nL 1037.998527 147.147223 \r\nL 1039.668102 148.24288 \r\nL 1040.224628 155.837265 \r\nL 1040.781153 153.31507 \r\nL 1041.337678 144.743298 \r\nL 1041.894203 149.93374 \r\nL 1043.563779 160.943157 \r\nL 1044.120304 154.759351 \r\nL 1044.676829 140.071321 \r\nL 1045.233355 154.195007 \r\nL 1045.78988 162.140949 \r\nL 1047.459455 148.928888 \r\nL 1048.015981 141.263015 \r\nL 1048.572506 156.576911 \r\nL 1049.129031 163.234291 \r\nL 1049.685556 139.069332 \r\nL 1051.355132 146.059801 \r\nL 1051.911657 157.332675 \r\nL 1052.468182 161.487849 \r\nL 1053.024707 140.19355 \r\nL 1053.581233 151.005026 \r\nL 1055.250808 159.704717 \r\nL 1055.807334 151.801067 \r\nL 1056.363859 139.775788 \r\nL 1057.476909 156.662008 \r\nL 1059.146485 151.323605 \r\nL 1059.70301 143.108269 \r\nL 1060.259535 151.539785 \r\nL 1060.81606 157.875281 \r\nL 1061.372586 149.870187 \r\nL 1063.042161 146.104391 \r\nL 1063.598686 155.42127 \r\nL 1064.155212 155.278258 \r\nL 1064.711737 147.239425 \r\nL 1065.268262 147.187271 \r\nL 1066.937838 153.202509 \r\nL 1067.494363 156.671304 \r\nL 1068.050888 148.476522 \r\nL 1068.607413 148.534101 \r\nL 1069.163939 155.815014 \r\nL 1070.833514 159.410562 \r\nL 1071.390039 151.100921 \r\nL 1071.946565 144.954459 \r\nL 1072.50309 156.043265 \r\nL 1073.059615 153.337215 \r\nL 1074.729191 147.533244 \r\nL 1075.285716 149.81957 \r\nL 1075.842241 157.126392 \r\nL 1076.398766 151.190967 \r\nL 1076.955291 147.683449 \r\nL 1078.624867 149.615585 \r\nL 1079.181392 158.713474 \r\nL 1079.737917 144.469839 \r\nL 1080.294443 144.205075 \r\nL 1082.520544 154.45659 \r\nL 1083.077069 158.084074 \r\nL 1084.190119 143.30416 \r\nL 1084.746644 147.724787 \r\nL 1086.41622 158.079231 \r\nL 1086.972745 155.055185 \r\nL 1087.52927 138.884098 \r\nL 1088.085796 152.258046 \r\nL 1088.642321 162.813489 \r\nL 1090.311896 151.348524 \r\nL 1090.868422 144.287097 \r\nL 1091.424947 153.526036 \r\nL 1091.981472 167.907717 \r\nL 1092.537997 148.357474 \r\nL 1094.207573 142.637964 \r\nL 1094.764098 159.812524 \r\nL 1095.320623 168.534625 \r\nL 1095.877149 136.53648 \r\nL 1096.433674 150.464682 \r\nL 1098.103249 164.210176 \r\nL 1098.659775 159.805809 \r\nL 1099.2163 143.353468 \r\nL 1099.772825 153.554685 \r\nL 1100.32935 169.285812 \r\nL 1101.998926 150.976501 \r\nL 1103.668501 151.49843 \r\nL 1104.225027 163.631269 \r\nL 1105.894602 169.26441 \r\nL 1105.894602 169.26441 \r\n\" style=\"fill:none;stroke:#ff0000;stroke-linecap:square;stroke-width:1.5;\"/>\r\n   </g>\r\n   <g id=\"line2d_14\">\r\n    <path clip-path=\"url(#p8b5eb3eb20)\" d=\"M 91.349148 280.417014 \r\nL 93.018723 279.336724 \r\nL 93.575249 275.841683 \r\nL 94.131774 267.898397 \r\nL 94.688299 264.339824 \r\nL 95.244824 274.443667 \r\nL 96.9144 279.78156 \r\nL 97.470925 280.035733 \r\nL 98.02745 278.574162 \r\nL 98.583975 280.480568 \r\nL 99.140501 277.176145 \r\nL 100.810076 285.055899 \r\nL 101.366601 284.356891 \r\nL 101.923127 278.129349 \r\nL 102.479652 277.049059 \r\nL 103.036177 279.146084 \r\nL 104.705753 276.604246 \r\nL 105.262278 277.43034 \r\nL 105.818803 281.878585 \r\nL 106.375328 283.340156 \r\nL 106.931854 286.326829 \r\nL 108.601429 283.657883 \r\nL 109.157954 277.748067 \r\nL 109.71448 269.741249 \r\nL 110.271005 271.647633 \r\nL 110.82753 272.156001 \r\nL 112.497106 270.757985 \r\nL 113.053631 273.617572 \r\nL 113.610156 282.641147 \r\nL 114.166681 277.049059 \r\nL 114.723206 269.804782 \r\nL 117.505833 268.470319 \r\nL 118.062358 268.533873 \r\nL 118.618883 267.326497 \r\nL 120.288459 265.102364 \r\nL 120.844984 262.687612 \r\nL 121.401509 262.115691 \r\nL 121.958034 260.971869 \r\nL 122.514559 263.450175 \r\nL 124.184135 264.593997 \r\nL 124.74066 262.814699 \r\nL 125.853711 266.881662 \r\nL 126.410236 272.982096 \r\nL 128.079811 278.764803 \r\nL 128.636337 287.28001 \r\nL 129.192862 280.226373 \r\nL 129.749387 279.336724 \r\nL 130.305912 280.417014 \r\nL 131.975488 280.417014 \r\nL 133.088538 267.58067 \r\nL 133.645064 268.978687 \r\nL 134.201589 267.072303 \r\nL 135.871164 268.533873 \r\nL 136.42769 269.93189 \r\nL 136.984215 270.122531 \r\nL 137.54074 276.477137 \r\nL 138.097265 280.289928 \r\nL 140.323366 271.012179 \r\nL 140.879891 263.450175 \r\nL 141.436416 261.226042 \r\nL 143.662517 258.366454 \r\nL 144.219043 258.239368 \r\nL 144.775568 257.095524 \r\nL 145.332093 261.861518 \r\nL 145.888618 260.145752 \r\nL 147.558194 261.988604 \r\nL 148.114719 261.988604 \r\nL 148.671244 258.620649 \r\nL 149.227769 260.399947 \r\nL 149.784295 263.386621 \r\nL 151.45387 267.262943 \r\nL 152.566921 260.908315 \r\nL 153.123446 254.553686 \r\nL 153.679971 246.737487 \r\nL 155.349547 251.376372 \r\nL 155.906072 248.898066 \r\nL 156.462597 252.26602 \r\nL 157.019122 250.550277 \r\nL 159.245223 247.88133 \r\nL 159.801748 250.296082 \r\nL 160.358274 256.46007 \r\nL 160.914799 255.506867 \r\nL 161.471324 252.329553 \r\nL 163.1409 253.473396 \r\nL 163.697425 254.553686 \r\nL 164.25395 256.205875 \r\nL 164.810475 253.854678 \r\nL 165.367 249.342901 \r\nL 167.036576 255.888148 \r\nL 167.593101 259.256103 \r\nL 168.149626 263.450175 \r\nL 168.706152 266.246208 \r\nL 169.262677 271.075712 \r\nL 170.932252 270.249617 \r\nL 171.488778 273.554018 \r\nL 172.045303 269.042241 \r\nL 172.601828 271.711188 \r\nL 173.158353 277.2397 \r\nL 174.827929 278.828357 \r\nL 175.384454 273.998831 \r\nL 175.940979 279.590919 \r\nL 177.05403 284.738172 \r\nL 178.723605 285.627821 \r\nL 179.280131 286.962283 \r\nL 179.836656 280.861849 \r\nL 180.393181 282.196312 \r\nL 180.949706 284.420423 \r\nL 182.619282 283.340156 \r\nL 183.175807 275.841683 \r\nL 183.732332 279.718006 \r\nL 184.288857 274.380112 \r\nL 184.845383 276.858418 \r\nL 186.514958 276.222964 \r\nL 187.071484 274.062385 \r\nL 187.628009 273.299823 \r\nL 188.184534 277.112613 \r\nL 188.741059 275.206229 \r\nL 190.410635 278.002262 \r\nL 190.96716 277.938708 \r\nL 191.523685 276.794864 \r\nL 192.08021 273.871745 \r\nL 192.636736 276.095856 \r\nL 194.306311 279.845092 \r\nL 194.862836 279.018997 \r\nL 195.419362 281.497304 \r\nL 196.532412 275.015588 \r\nL 198.201988 272.982096 \r\nL 198.758513 272.829601 \r\nL 199.315038 276.674135 \r\nL 199.871563 276.045039 \r\nL 200.428089 277.373144 \r\nL 202.097664 278.70127 \r\nL 202.654189 280.518692 \r\nL 203.210715 283.873932 \r\nL 203.76724 292.681458 \r\nL 204.323765 293.590158 \r\nL 205.993341 294.009563 \r\nL 206.549866 290.304808 \r\nL 207.106391 288.277695 \r\nL 207.662916 290.864014 \r\nL 208.219441 285.132147 \r\nL 209.889017 286.25056 \r\nL 210.445542 291.283441 \r\nL 211.002067 291.632934 \r\nL 211.558593 292.401833 \r\nL 212.115118 298.343414 \r\nL 213.784694 295.757094 \r\nL 214.341219 296.176499 \r\nL 215.454269 308.758648 \r\nL 216.010794 308.968362 \r\nL 217.68037 310.925574 \r\nL 218.236895 307.849926 \r\nL 218.79342 311.694494 \r\nL 219.906471 310.855673 \r\nL 221.576046 314.630329 \r\nL 222.132572 314.979833 \r\nL 222.689097 304.075304 \r\nL 223.245622 297.294912 \r\nL 223.802147 302.956868 \r\nL 225.471723 309.807172 \r\nL 226.028248 314.210924 \r\nL 226.584773 309.946973 \r\nL 227.141299 302.886979 \r\nL 227.697824 310.715871 \r\nL 229.923925 308.688758 \r\nL 230.48045 306.591734 \r\nL 231.036975 310.366378 \r\nL 231.5935 310.016863 \r\nL 233.263076 302.537464 \r\nL 233.819601 297.784207 \r\nL 234.376126 294.498879 \r\nL 234.932651 292.751348 \r\nL 235.489177 300.720064 \r\nL 237.158752 305.053893 \r\nL 237.715277 303.236472 \r\nL 238.271803 310.855673 \r\nL 238.828328 308.758648 \r\nL 239.384853 313.302213 \r\nL 241.054429 313.442015 \r\nL 241.610954 314.210924 \r\nL 242.167479 310.086775 \r\nL 242.724004 307.500433 \r\nL 243.28053 299.881232 \r\nL 244.950105 295.757094 \r\nL 245.50663 293.939673 \r\nL 246.063156 288.207783 \r\nL 246.619681 287.438885 \r\nL 247.176206 288.836901 \r\nL 249.402307 299.881232 \r\nL 249.958832 301.698654 \r\nL 251.071882 307.780037 \r\nL 252.741458 303.306384 \r\nL 253.297983 307.22083 \r\nL 253.854509 308.618847 \r\nL 254.411034 304.7044 \r\nL 254.967559 305.962615 \r\nL 257.19366 309.807172 \r\nL 257.750185 308.548935 \r\nL 258.30671 313.651717 \r\nL 258.863235 310.366378 \r\nL 261.089336 298.553127 \r\nL 261.645861 298.063811 \r\nL 262.202387 295.687182 \r\nL 262.758912 298.692929 \r\nL 264.428487 303.725789 \r\nL 264.985013 302.537464 \r\nL 265.541538 297.294912 \r\nL 266.098063 296.735706 \r\nL 266.654588 302.25786 \r\nL 268.324164 296.805596 \r\nL 268.880689 295.407579 \r\nL 269.437214 295.896896 \r\nL 269.99374 290.444631 \r\nL 272.21984 290.514521 \r\nL 272.776366 290.234918 \r\nL 273.332891 300.300637 \r\nL 273.889416 297.434714 \r\nL 274.445941 302.677287 \r\nL 276.115517 301.139447 \r\nL 276.672042 299.74143 \r\nL 277.228567 305.962615 \r\nL 277.785092 293.939673 \r\nL 278.341618 298.413326 \r\nL 280.011193 299.881232 \r\nL 280.567719 302.118081 \r\nL 281.124244 291.632934 \r\nL 281.680769 294.079474 \r\nL 282.237294 294.079474 \r\nL 283.90687 298.832731 \r\nL 284.463395 297.574516 \r\nL 285.01992 298.902621 \r\nL 285.576445 295.547381 \r\nL 286.132971 307.150918 \r\nL 287.802546 310.645981 \r\nL 288.359071 309.457656 \r\nL 288.915597 310.156665 \r\nL 291.698223 310.855673 \r\nL 292.254748 310.715871 \r\nL 292.811273 311.34499 \r\nL 295.593899 319.733089 \r\nL 296.150424 318.265172 \r\nL 296.70695 318.96418 \r\nL 297.263475 322.319431 \r\nL 297.82 322.249519 \r\nL 299.489576 324.276654 \r\nL 300.046101 323.507734 \r\nL 300.602626 326.163976 \r\nL 301.159151 323.717447 \r\nL 301.715676 328.1911 \r\nL 303.385252 330.148323 \r\nL 303.941777 331.825943 \r\nL 304.498302 334.13267 \r\nL 305.054828 333.783166 \r\nL 305.611353 332.245348 \r\nL 307.837454 330.497827 \r\nL 308.393979 329.86872 \r\nL 308.950504 328.750307 \r\nL 309.507029 320.991304 \r\nL 311.176605 317.356461 \r\nL 311.73313 330.148323 \r\nL 312.289655 326.163976 \r\nL 312.846181 323.717447 \r\nL 313.402706 322.039816 \r\nL 316.185332 321.201006 \r\nL 316.741857 326.373679 \r\nL 317.298382 325.045563 \r\nL 318.967958 325.604759 \r\nL 319.524483 321.480621 \r\nL 320.081008 319.593287 \r\nL 320.637534 323.15823 \r\nL 321.194059 325.744571 \r\nL 322.863634 318.894279 \r\nL 323.42016 321.410709 \r\nL 323.976685 322.878637 \r\nL 324.53321 322.738836 \r\nL 325.089735 322.738836 \r\nL 326.759311 317.845767 \r\nL 327.315836 309.597458 \r\nL 327.872361 305.263607 \r\nL 328.428886 286.460273 \r\nL 328.985412 276.25473 \r\nL 330.654987 277.233342 \r\nL 331.211512 272.340284 \r\nL 331.768038 279.749794 \r\nL 332.324563 271.291761 \r\nL 332.881088 269.404449 \r\nL 334.550664 270.452951 \r\nL 335.107189 280.448802 \r\nL 335.663714 286.809766 \r\nL 336.220239 264.022075 \r\nL 336.776765 263.392978 \r\nL 338.44634 263.323066 \r\nL 339.002865 269.264648 \r\nL 339.559391 276.464444 \r\nL 340.115916 278.77116 \r\nL 343.455067 270.802466 \r\nL 344.011592 277.233342 \r\nL 344.568117 275.835326 \r\nL 346.237693 283.524439 \r\nL 346.794218 283.105034 \r\nL 347.350743 289.186417 \r\nL 347.907269 286.949568 \r\nL 348.463794 273.808213 \r\nL 350.13337 272.689799 \r\nL 350.689895 262.624058 \r\nL 351.24642 259.758113 \r\nL 351.802945 266.608416 \r\nL 352.35947 265.140488 \r\nL 354.029046 266.81813 \r\nL 354.585571 265.559893 \r\nL 355.142096 269.823854 \r\nL 356.255147 273.947992 \r\nL 357.924722 275.905237 \r\nL 359.037773 260.527033 \r\nL 359.594298 262.134763 \r\nL 360.150823 265.629805 \r\nL 361.820399 272.060681 \r\nL 362.376924 284.922455 \r\nL 362.933449 279.749794 \r\nL 363.489975 282.965232 \r\nL 364.0465 282.89532 \r\nL 365.716075 281.567215 \r\nL 366.272601 268.146235 \r\nL 366.829126 269.544251 \r\nL 367.385651 267.307425 \r\nL 367.942176 275.905237 \r\nL 369.611752 279.260477 \r\nL 370.168277 283.873932 \r\nL 370.724802 280.588582 \r\nL 371.281327 282.406025 \r\nL 371.837853 285.132147 \r\nL 373.507428 284.433138 \r\nL 374.063953 284.642852 \r\nL 375.733529 287.718488 \r\nL 377.403105 287.788378 \r\nL 377.95963 292.331943 \r\nL 379.07268 286.320472 \r\nL 379.629206 286.530163 \r\nL 381.298781 288.557298 \r\nL 382.411832 281.986598 \r\nL 382.968357 282.475915 \r\nL 383.524882 293.380466 \r\nL 385.194458 292.471744 \r\nL 385.750983 295.407579 \r\nL 386.307508 296.386191 \r\nL 386.864033 292.751348 \r\nL 387.420558 293.240665 \r\nL 389.090134 289.885425 \r\nL 389.646659 289.955315 \r\nL 390.203185 293.520246 \r\nL 390.75971 285.691353 \r\nL 391.316235 293.030951 \r\nL 392.985811 299.811342 \r\nL 393.542336 292.961039 \r\nL 395.211911 279.330367 \r\nL 396.881487 279.470169 \r\nL 397.438012 281.008009 \r\nL 397.994537 280.169177 \r\nL 398.551063 278.002262 \r\nL 399.107588 272.130593 \r\nL 400.777163 269.963656 \r\nL 401.333689 271.850967 \r\nL 401.890214 267.237513 \r\nL 402.446739 260.736747 \r\nL 403.003264 261.505645 \r\nL 404.67284 257.521287 \r\nL 405.229365 258.919303 \r\nL 405.78589 255.21457 \r\nL 406.342416 258.430009 \r\nL 406.898941 256.96208 \r\nL 408.568516 258.779524 \r\nL 409.125042 261.785248 \r\nL 409.681567 260.876548 \r\nL 410.238092 263.462868 \r\nL 410.794617 259.198929 \r\nL 412.464193 261.715336 \r\nL 413.020718 258.919303 \r\nL 413.577243 249.063298 \r\nL 414.133768 247.665281 \r\nL 414.690294 249.133187 \r\nL 416.359869 250.740918 \r\nL 416.916395 250.251601 \r\nL 417.47292 252.278736 \r\nL 418.029445 246.057551 \r\nL 418.58597 244.170218 \r\nL 420.255546 241.513986 \r\nL 420.812071 242.56251 \r\nL 421.368596 239.20727 \r\nL 421.925121 239.696565 \r\nL 424.151222 246.267243 \r\nL 424.707747 246.686648 \r\nL 425.264273 247.874973 \r\nL 425.820798 248.643893 \r\nL 426.377323 245.638146 \r\nL 428.603424 239.556763 \r\nL 429.159949 244.799336 \r\nL 429.716474 242.422708 \r\nL 430.273 238.717953 \r\nL 431.942575 238.648041 \r\nL 432.4991 236.201523 \r\nL 433.612151 239.27716 \r\nL 434.168676 248.993386 \r\nL 435.838252 245.777948 \r\nL 436.394777 250.740918 \r\nL 436.951302 250.531204 \r\nL 437.507827 245.218741 \r\nL 438.064352 250.880697 \r\nL 440.290453 248.573981 \r\nL 440.846978 246.197353 \r\nL 441.403504 242.212995 \r\nL 443.629605 244.799336 \r\nL 444.18613 241.933391 \r\nL 444.742655 240.11597 \r\nL 445.29918 246.616758 \r\nL 445.855705 247.106075 \r\nL 448.081806 239.067468 \r\nL 448.638331 234.034587 \r\nL 449.751382 229.421132 \r\nL 451.420957 229.071639 \r\nL 451.977483 229.980339 \r\nL 453.090533 226.974614 \r\nL 453.647058 221.871843 \r\nL 455.316634 215.860372 \r\nL 455.873159 211.973864 \r\nL 456.429684 216.58734 \r\nL 456.98621 215.741535 \r\nL 457.542735 216.202869 \r\nL 459.21231 218.586493 \r\nL 459.768836 220.047426 \r\nL 460.325361 218.355815 \r\nL 460.881886 212.43522 \r\nL 461.438411 210.051596 \r\nL 463.107987 200.132653 \r\nL 463.664512 208.975135 \r\nL 464.777562 215.126408 \r\nL 465.334088 212.819669 \r\nL 467.003663 202.670069 \r\nL 467.560188 201.978034 \r\nL 468.116714 211.358758 \r\nL 468.673239 225.506686 \r\nL 469.229764 228.966771 \r\nL 470.89934 230.581497 \r\nL 472.01239 217.510031 \r\nL 472.568915 225.81425 \r\nL 473.125441 223.276855 \r\nL 475.351541 220.124311 \r\nL 477.021117 227.352068 \r\nL 478.690693 221.662129 \r\nL 479.247218 228.274759 \r\nL 479.803743 223.046177 \r\nL 480.360268 235.502515 \r\nL 480.916793 234.426053 \r\nL 482.586369 235.348744 \r\nL 483.142894 231.888637 \r\nL 483.69942 233.964697 \r\nL 484.255945 235.502515 \r\nL 484.81247 234.733595 \r\nL 486.482046 245.498344 \r\nL 487.038571 244.344975 \r\nL 487.595096 244.883217 \r\nL 488.151621 245.882794 \r\nL 488.708146 250.342477 \r\nL 490.377722 256.955107 \r\nL 490.934247 250.880697 \r\nL 491.490772 250.957605 \r\nL 492.047298 248.95843 \r\nL 492.603823 245.729023 \r\nL 494.273398 243.729848 \r\nL 494.829924 243.883641 \r\nL 495.386449 237.963024 \r\nL 495.942974 235.118066 \r\nL 498.169075 237.578575 \r\nL 498.7256 226.660055 \r\nL 499.282125 225.506686 \r\nL 499.838651 221.815922 \r\nL 500.395176 220.893231 \r\nL 502.064751 219.586069 \r\nL 502.621277 220.508782 \r\nL 503.177802 219.97054 \r\nL 503.734327 212.973462 \r\nL 504.290852 218.740286 \r\nL 505.960428 218.509608 \r\nL 506.516953 211.051173 \r\nL 507.073478 213.281026 \r\nL 507.630003 214.818844 \r\nL 508.186529 213.973038 \r\nL 509.856104 204.515451 \r\nL 510.41263 205.207464 \r\nL 511.52568 201.286022 \r\nL 512.082205 202.82384 \r\nL 513.751781 209.05202 \r\nL 514.308306 209.05202 \r\nL 514.864831 206.130155 \r\nL 515.421356 206.97596 \r\nL 515.977882 200.978458 \r\nL 517.647457 203.131404 \r\nL 518.203982 197.441487 \r\nL 518.760508 189.752374 \r\nL 519.317033 188.368327 \r\nL 519.873558 187.368751 \r\nL 521.543134 188.829683 \r\nL 522.099659 187.830107 \r\nL 522.656184 174.912412 \r\nL 523.212709 181.140592 \r\nL 523.769234 181.294363 \r\nL 525.43881 179.83343 \r\nL 525.995335 181.294363 \r\nL 526.551861 180.371672 \r\nL 527.108386 185.13892 \r\nL 527.664911 187.599429 \r\nL 530.447537 188.214556 \r\nL 531.004062 191.367078 \r\nL 531.560587 185.830932 \r\nL 533.230163 187.061187 \r\nL 533.786688 192.212883 \r\nL 534.343213 195.672991 \r\nL 534.899739 194.7503 \r\nL 535.456264 194.596507 \r\nL 537.125839 189.137247 \r\nL 537.682365 192.135998 \r\nL 538.23889 189.214154 \r\nL 538.795415 193.135574 \r\nL 539.35194 201.824264 \r\nL 541.021516 198.594834 \r\nL 541.578041 204.976785 \r\nL 542.134566 202.593184 \r\nL 542.691092 204.207887 \r\nL 543.247617 201.055343 \r\nL 544.917192 198.902398 \r\nL 545.473718 199.901974 \r\nL 546.030243 195.519198 \r\nL 546.586768 199.056191 \r\nL 547.143293 203.977209 \r\nL 549.369394 197.672143 \r\nL 549.925919 203.131404 \r\nL 550.482444 205.438142 \r\nL 551.03897 203.208311 \r\nL 552.708545 203.746531 \r\nL 553.821596 204.669222 \r\nL 554.378121 209.974711 \r\nL 556.604222 197.210809 \r\nL 557.160747 198.287271 \r\nL 557.717272 200.901573 \r\nL 558.273797 205.207464 \r\nL 560.499898 199.594433 \r\nL 561.056423 197.672143 \r\nL 561.612949 197.133902 \r\nL 562.725999 193.520045 \r\nL 564.9521 187.445636 \r\nL 565.508625 192.520447 \r\nL 566.06515 202.439391 \r\nL 566.621676 197.825936 \r\nL 568.291251 197.133902 \r\nL 568.847776 196.365003 \r\nL 569.404302 194.904071 \r\nL 569.960827 189.752374 \r\nL 570.517352 186.830531 \r\nL 572.186928 185.523369 \r\nL 572.743453 185.90784 \r\nL 573.299978 192.212883 \r\nL 573.856503 228.736093 \r\nL 574.413028 221.815922 \r\nL 576.082604 227.198297 \r\nL 576.639129 222.969269 \r\nL 577.195654 220.739438 \r\nL 577.75218 225.891135 \r\nL 578.308705 218.586493 \r\nL 579.978281 218.586493 \r\nL 580.534806 219.124735 \r\nL 581.647856 225.276008 \r\nL 582.204381 222.58482 \r\nL 583.873957 222.892406 \r\nL 584.987007 213.973038 \r\nL 585.543533 216.894904 \r\nL 586.100058 221.27768 \r\nL 587.769633 221.27768 \r\nL 588.326159 217.89448 \r\nL 588.882684 215.433971 \r\nL 589.995734 217.433124 \r\nL 591.66531 215.972213 \r\nL 592.221835 222.123486 \r\nL 593.334886 221.585244 \r\nL 593.891411 222.507935 \r\nL 595.560986 214.818844 \r\nL 596.117512 217.356238 \r\nL 596.674037 217.433124 \r\nL 597.230562 214.665051 \r\nL 597.787087 212.819669 \r\nL 599.456663 210.282275 \r\nL 600.013188 211.435622 \r\nL 600.569713 210.666724 \r\nL 601.126238 214.665051 \r\nL 601.682764 217.356238 \r\nL 603.352339 215.126408 \r\nL 603.908864 210.897402 \r\nL 604.46539 207.821766 \r\nL 605.57844 206.437718 \r\nL 607.248016 209.205791 \r\nL 607.804541 208.898227 \r\nL 608.361066 213.050347 \r\nL 608.917591 212.742784 \r\nL 609.474117 212.665898 \r\nL 611.700217 210.205389 \r\nL 612.256743 211.512529 \r\nL 612.813268 211.204966 \r\nL 613.369793 210.128482 \r\nL 615.039369 208.436893 \r\nL 615.595894 199.363754 \r\nL 616.152419 196.288118 \r\nL 617.265469 197.749051 \r\nL 618.935045 193.058689 \r\nL 619.49157 189.367925 \r\nL 620.048096 191.290192 \r\nL 620.604621 195.134749 \r\nL 621.161146 193.596931 \r\nL 622.830722 188.137671 \r\nL 623.387247 189.906167 \r\nL 623.943772 189.291018 \r\nL 624.500297 191.751549 \r\nL 625.056822 188.829683 \r\nL 626.726398 191.059536 \r\nL 627.282923 184.600678 \r\nL 627.839448 181.217478 \r\nL 628.395974 178.603198 \r\nL 630.622074 182.293961 \r\nL 631.1786 179.448981 \r\nL 631.735125 181.140592 \r\nL 632.29165 185.13892 \r\nL 632.848175 178.756969 \r\nL 634.517751 180.371672 \r\nL 635.074276 180.217901 \r\nL 635.630801 171.75989 \r\nL 636.743852 172.144339 \r\nL 638.413427 166.685079 \r\nL 638.969953 167.60777 \r\nL 639.526478 165.301032 \r\nL 640.083003 166.069952 \r\nL 640.639528 159.918679 \r\nL 642.309104 157.535055 \r\nL 642.865629 158.76531 \r\nL 643.422154 162.302303 \r\nL 643.978679 161.840946 \r\nL 644.535205 160.687577 \r\nL 646.20478 163.993892 \r\nL 646.761306 163.378765 \r\nL 647.317831 163.148108 \r\nL 647.874356 164.916583 \r\nL 648.430881 162.071625 \r\nL 650.100457 161.610268 \r\nL 650.656982 150.153528 \r\nL 651.213507 153.229164 \r\nL 651.770032 147.769904 \r\nL 652.326558 151.845117 \r\nL 653.996133 155.920352 \r\nL 654.552658 148.538802 \r\nL 655.109184 149.384608 \r\nL 656.222234 152.229588 \r\nL 658.448335 154.536304 \r\nL 659.00486 153.921177 \r\nL 659.561385 156.381686 \r\nL 660.117911 157.073721 \r\nL 661.787486 160.226243 \r\nL 662.900537 155.458995 \r\nL 664.013587 159.611116 \r\nL 665.683163 163.917006 \r\nL 666.239688 172.067454 \r\nL 666.796213 177.603599 \r\nL 667.909263 173.143916 \r\nL 669.578839 173.143916 \r\nL 670.135364 179.372096 \r\nL 670.691889 167.838448 \r\nL 671.248415 176.680909 \r\nL 671.80494 176.219574 \r\nL 673.474516 174.604848 \r\nL 674.031041 180.756121 \r\nL 674.587566 180.756121 \r\nL 675.144091 172.836374 \r\nL 675.700616 168.37669 \r\nL 677.926717 161.840946 \r\nL 678.483242 165.070376 \r\nL 679.039768 166.069952 \r\nL 679.596293 169.145588 \r\nL 681.822394 166.608194 \r\nL 682.378919 173.374594 \r\nL 682.935444 178.064956 \r\nL 683.491969 178.37252 \r\nL 685.161545 173.682158 \r\nL 685.71807 175.604447 \r\nL 686.274595 172.221225 \r\nL 686.83112 173.297708 \r\nL 687.387646 170.529636 \r\nL 689.057221 169.68383 \r\nL 689.613747 167.06955 \r\nL 690.170272 174.374192 \r\nL 690.726797 179.448981 \r\nL 692.952898 179.525889 \r\nL 693.509423 181.294363 \r\nL 694.065948 180.141016 \r\nL 694.622473 166.838872 \r\nL 695.178999 168.37669 \r\nL 697.405099 167.06955 \r\nL 697.961625 168.838025 \r\nL 698.51815 167.992241 \r\nL 699.074675 167.992241 \r\nL 701.857301 155.689674 \r\nL 702.413826 148.61571 \r\nL 702.970352 147.616112 \r\nL 704.639927 148.769481 \r\nL 705.196452 152.537152 \r\nL 705.752978 153.690521 \r\nL 706.309503 146.53965 \r\nL 706.866028 146.847213 \r\nL 708.535604 144.694268 \r\nL 709.092129 141.464839 \r\nL 709.648654 135.62113 \r\nL 710.205179 136.466913 \r\nL 712.43128 124.548839 \r\nL 712.987805 125.932864 \r\nL 713.54433 108.094129 \r\nL 714.100856 108.094129 \r\nL 714.657381 88.640734 \r\nL 716.326957 97.944551 \r\nL 716.883482 99.482347 \r\nL 717.440007 93.561752 \r\nL 717.996532 91.639507 \r\nL 718.553057 96.714296 \r\nL 720.222633 110.708453 \r\nL 720.779158 96.868067 \r\nL 721.335683 106.325654 \r\nL 721.892209 108.247944 \r\nL 722.448734 107.248367 \r\nL 725.787885 90.409209 \r\nL 726.34441 104.55718 \r\nL 728.013986 107.632816 \r\nL 728.570511 98.098322 \r\nL 729.127036 92.869718 \r\nL 729.683562 90.639887 \r\nL 730.240087 87.871836 \r\nL 731.909662 88.333192 \r\nL 732.466188 94.407558 \r\nL 733.022713 108.017265 \r\nL 733.579238 102.404212 \r\nL 734.135763 100.328152 \r\nL 735.805339 94.715099 \r\nL 736.361864 96.176032 \r\nL 736.918389 96.714296 \r\nL 737.474914 99.482347 \r\nL 738.03144 94.023109 \r\nL 739.701015 89.48654 \r\nL 740.25754 92.792854 \r\nL 740.814066 101.789085 \r\nL 741.370591 99.943703 \r\nL 741.927116 101.558407 \r\nL 743.596692 110.016418 \r\nL 744.153217 108.786163 \r\nL 745.266267 111.554258 \r\nL 745.822793 109.708876 \r\nL 747.492368 104.941629 \r\nL 748.048893 109.631969 \r\nL 748.605419 106.094976 \r\nL 749.161944 100.866416 \r\nL 751.388045 102.865569 \r\nL 751.94457 106.556333 \r\nL 752.501095 104.018916 \r\nL 753.05762 103.250018 \r\nL 753.614145 101.327773 \r\nL 755.283721 110.093325 \r\nL 755.840246 108.171036 \r\nL 756.396772 101.789085 \r\nL 756.953297 98.329 \r\nL 757.509822 107.555909 \r\nL 759.179398 113.245869 \r\nL 760.292448 99.559254 \r\nL 760.848973 103.250018 \r\nL 761.405498 104.095823 \r\nL 763.075074 103.403789 \r\nL 764.188124 107.632816 \r\nL 764.74465 98.636541 \r\nL 765.301175 99.405483 \r\nL 766.97075 103.173155 \r\nL 768.640326 128.316488 \r\nL 769.196851 132.622379 \r\nL 770.866427 132.084137 \r\nL 771.979477 129.777398 \r\nL 772.536003 119.781591 \r\nL 773.092528 125.779093 \r\nL 774.762103 131.315239 \r\nL 775.318629 132.699264 \r\nL 775.875154 126.394198 \r\nL 776.431679 145.693844 \r\nL 776.988204 148.154353 \r\nL 778.65778 152.921601 \r\nL 779.214305 144.617361 \r\nL 779.77083 151.22999 \r\nL 780.327355 146.693421 \r\nL 780.883881 149.769079 \r\nL 782.553456 164.378341 \r\nL 783.109982 165.53171 \r\nL 783.666507 164.916583 \r\nL 784.779557 158.457746 \r\nL 786.449133 151.153104 \r\nL 787.005658 161.840946 \r\nL 788.118708 179.756545 \r\nL 788.675234 178.987647 \r\nL 790.344809 188.137671 \r\nL 790.901334 188.752798 \r\nL 791.45786 191.751549 \r\nL 792.014385 202.516276 \r\nL 792.57091 199.671318 \r\nL 794.240486 205.668798 \r\nL 794.797011 192.597354 \r\nL 795.353536 186.984301 \r\nL 795.910061 195.211634 \r\nL 796.466587 192.904918 \r\nL 798.136162 192.289769 \r\nL 798.692687 193.289367 \r\nL 799.249213 198.748627 \r\nL 799.805738 190.521294 \r\nL 800.362263 185.215805 \r\nL 802.031839 185.13892 \r\nL 802.588364 177.834278 \r\nL 803.144889 172.682581 \r\nL 803.701414 174.758641 \r\nL 804.257939 171.836776 \r\nL 806.48404 170.990992 \r\nL 807.040565 169.68383 \r\nL 807.597091 163.532557 \r\nL 808.153616 155.074546 \r\nL 809.823192 156.304801 \r\nL 810.379717 149.92285 \r\nL 810.936242 154.305626 \r\nL 811.492767 149.384608 \r\nL 812.049292 139.542571 \r\nL 813.718868 146.385857 \r\nL 814.275393 146.616535 \r\nL 814.831918 135.62113 \r\nL 815.388444 141.311046 \r\nL 815.944969 139.388779 \r\nL 817.614544 134.237082 \r\nL 818.17107 149.384608 \r\nL 818.727595 145.155602 \r\nL 819.28412 143.925348 \r\nL 819.840645 135.544222 \r\nL 821.510221 138.158524 \r\nL 822.066746 140.31147 \r\nL 822.623271 148.61571 \r\nL 823.179797 150.461092 \r\nL 823.736322 162.994316 \r\nL 825.405897 160.380036 \r\nL 825.962423 153.459843 \r\nL 826.518948 155.766559 \r\nL 827.075473 156.227915 \r\nL 827.631998 164.916583 \r\nL 829.301574 168.37669 \r\nL 829.858099 172.605696 \r\nL 830.414624 164.916583 \r\nL 830.971149 177.75737 \r\nL 831.527675 175.373769 \r\nL 833.19725 164.762812 \r\nL 833.753775 167.06955 \r\nL 834.310301 161.610268 \r\nL 834.866826 174.758641 \r\nL 835.423351 170.375843 \r\nL 837.092927 174.989298 \r\nL 837.649452 177.75737 \r\nL 838.205977 175.911988 \r\nL 838.762502 167.838448 \r\nL 840.988603 164.839697 \r\nL 841.545128 176.219574 \r\nL 842.101654 175.296883 \r\nL 842.658179 177.065358 \r\nL 843.214704 171.452327 \r\nL 844.88428 163.763236 \r\nL 845.440805 164.070799 \r\nL 845.99733 161.764061 \r\nL 846.553855 163.917006 \r\nL 847.11038 158.303976 \r\nL 848.779956 166.685079 \r\nL 849.336481 165.916181 \r\nL 849.893007 162.302303 \r\nL 850.449532 153.152279 \r\nL 851.006057 156.074123 \r\nL 852.675633 159.995565 \r\nL 853.232158 147.07787 \r\nL 853.788683 131.315239 \r\nL 854.345208 130.930768 \r\nL 854.901733 132.161022 \r\nL 856.571309 110.554682 \r\nL 857.127834 112.553835 \r\nL 857.684359 125.779093 \r\nL 858.240885 130.161869 \r\nL 860.466985 125.932864 \r\nL 861.023511 111.169809 \r\nL 861.580036 115.168115 \r\nL 862.136561 126.471106 \r\nL 862.693086 126.855555 \r\nL 864.362662 121.473202 \r\nL 864.919187 120.16604 \r\nL 865.475712 129.931191 \r\nL 866.032238 125.702186 \r\nL 866.588763 118.782015 \r\nL 868.258338 125.702186 \r\nL 868.814864 114.860573 \r\nL 869.371389 116.705955 \r\nL 869.927914 111.400487 \r\nL 872.154015 107.248367 \r\nL 872.71054 104.787858 \r\nL 873.267065 104.403365 \r\nL 873.82359 109.78574 \r\nL 874.380116 104.941629 \r\nL 876.049691 103.865145 \r\nL 876.606216 105.326078 \r\nL 877.162742 101.942856 \r\nL 878.275792 89.794125 \r\nL 879.945368 90.024759 \r\nL 881.058418 95.291817 \r\nL 881.614943 96.214486 \r\nL 882.171469 96.675842 \r\nL 883.841044 103.250018 \r\nL 884.397569 89.986306 \r\nL 884.954095 79.836728 \r\nL 885.51062 76.145964 \r\nL 886.067145 79.952045 \r\nL 887.736721 85.372873 \r\nL 888.293246 85.83423 \r\nL 888.849771 85.603551 \r\nL 889.406296 81.912788 \r\nL 889.962821 85.257512 \r\nL 891.632397 96.214486 \r\nL 892.188922 92.639083 \r\nL 892.745448 89.870989 \r\nL 893.301973 82.72014 \r\nL 893.858498 85.718869 \r\nL 895.528074 96.675842 \r\nL 896.084599 90.332345 \r\nL 896.641124 95.75313 \r\nL 897.197649 95.868491 \r\nL 897.754174 97.713872 \r\nL 900.5368 106.364108 \r\nL 901.093326 99.789933 \r\nL 901.649851 85.949547 \r\nL 904.432477 68.649075 \r\nL 904.989002 61.613543 \r\nL 905.545527 68.879754 \r\nL 907.215103 68.072402 \r\nL 907.771628 62.651574 \r\nL 908.328153 56.077398 \r\nL 909.441204 61.728905 \r\nL 911.110779 58.499453 \r\nL 911.667305 65.304307 \r\nL 912.22383 66.573015 \r\nL 912.780355 66.573015 \r\nL 913.33688 61.03687 \r\nL 915.006456 64.612316 \r\nL 915.562981 65.304307 \r\nL 916.119506 62.420895 \r\nL 916.676031 62.997569 \r\nL 918.902132 55.270046 \r\nL 919.458658 58.499453 \r\nL 920.015183 55.731403 \r\nL 920.571708 48.119197 \r\nL 921.128233 47.773158 \r\nL 922.797809 37.62358 \r\nL 923.910859 75.569246 \r\nL 924.467384 74.069904 \r\nL 925.02391 65.073629 \r\nL 926.693485 69.917784 \r\nL 927.25001 59.768162 \r\nL 927.806536 69.687106 \r\nL 928.363061 58.384136 \r\nL 928.919586 62.882252 \r\nL 930.589162 69.802423 \r\nL 931.145687 59.99884 \r\nL 931.702212 65.534985 \r\nL 932.258737 57.692102 \r\nL 932.815263 72.570517 \r\nL 934.484838 79.029376 \r\nL 935.041363 77.529989 \r\nL 935.597889 81.220753 \r\nL 936.154414 89.063637 \r\nL 936.710939 93.561752 \r\nL 940.05009 87.910246 \r\nL 940.606615 83.066135 \r\nL 942.276191 69.571788 \r\nL 942.832716 68.649075 \r\nL 943.389241 64.035599 \r\nL 943.945767 70.840453 \r\nL 944.502292 70.955814 \r\nL 946.171868 70.263779 \r\nL 947.284918 89.524993 \r\nL 947.841443 96.675842 \r\nL 948.397968 108.440168 \r\nL 950.067544 107.863495 \r\nL 950.624069 103.826692 \r\nL 951.180594 117.090404 \r\nL 951.73712 102.096671 \r\nL 952.293645 98.290546 \r\nL 953.96322 101.404636 \r\nL 954.519746 107.632816 \r\nL 955.076271 111.092902 \r\nL 955.632796 105.326078 \r\nL 956.189321 96.906521 \r\nL 957.858897 99.328576 \r\nL 958.415422 101.519953 \r\nL 958.971947 102.211988 \r\nL 959.528473 111.32358 \r\nL 960.084998 115.360339 \r\nL 961.754573 115.591017 \r\nL 962.311099 115.937013 \r\nL 962.867624 121.819197 \r\nL 963.424149 116.744364 \r\nL 965.65025 117.782394 \r\nL 966.206775 112.938284 \r\nL 966.7633 112.36161 \r\nL 967.319825 106.479425 \r\nL 967.876351 105.556756 \r\nL 969.545926 108.670846 \r\nL 970.102451 105.210717 \r\nL 971.215502 102.788662 \r\nL 971.772027 106.594786 \r\nL 973.441603 115.129661 \r\nL 973.998128 119.397142 \r\nL 974.554653 115.129661 \r\nL 975.111178 119.858455 \r\nL 975.667704 121.588519 \r\nL 977.893804 129.200725 \r\nL 978.45033 128.047356 \r\nL 979.006855 132.776149 \r\nL 979.56338 132.084137 \r\nL 981.232956 122.626549 \r\nL 981.789481 108.20949 \r\nL 982.346006 107.863495 \r\nL 982.902531 108.670846 \r\nL 983.459056 114.43767 \r\nL 985.128632 113.053601 \r\nL 985.685157 102.327305 \r\nL 986.241683 94.945778 \r\nL 986.798208 90.793658 \r\nL 987.354733 91.71637 \r\nL 989.024309 90.793658 \r\nL 989.580834 91.485692 \r\nL 990.137359 99.328576 \r\nL 991.250409 90.909019 \r\nL 992.919985 95.983808 \r\nL 993.47651 94.023109 \r\nL 994.033035 96.329847 \r\nL 994.589561 103.480696 \r\nL 995.146086 103.365335 \r\nL 996.815661 103.826692 \r\nL 997.372187 93.677069 \r\nL 997.928712 87.333572 \r\nL 999.041762 78.106663 \r\nL 1000.711338 79.029376 \r\nL 1001.267863 84.219482 \r\nL 1001.824388 74.415899 \r\nL 1002.380914 77.299311 \r\nL 1002.937439 77.183994 \r\nL 1004.607014 79.26001 \r\nL 1005.16354 80.759397 \r\nL 1005.720065 73.608547 \r\nL 1006.833115 64.035599 \r\nL 1008.502691 65.18899 \r\nL 1010.172266 66.919011 \r\nL 1010.728792 74.877256 \r\nL 1012.398367 76.030603 \r\nL 1012.954893 74.415899 \r\nL 1013.511418 75.569246 \r\nL 1014.067943 64.381638 \r\nL 1014.624468 75.569246 \r\nL 1016.294044 68.418397 \r\nL 1016.850569 64.266277 \r\nL 1017.407094 64.612316 \r\nL 1017.963619 77.875985 \r\nL 1018.520145 70.37914 \r\nL 1020.18972 68.649075 \r\nL 1020.746245 82.835457 \r\nL 1021.302771 93.792431 \r\nL 1022.415821 92.523722 \r\nL 1024.085397 98.059868 \r\nL 1024.641922 86.064864 \r\nL 1025.198447 70.955814 \r\nL 1025.754972 68.649075 \r\nL 1026.311498 71.878483 \r\nL 1027.981073 89.409632 \r\nL 1028.537598 81.451431 \r\nL 1029.094124 90.563023 \r\nL 1029.650649 91.71637 \r\nL 1030.207174 99.213259 \r\nL 1031.87675 100.94328 \r\nL 1032.433275 105.326078 \r\nL 1032.9898 102.327305 \r\nL 1033.546325 108.555485 \r\nL 1034.10285 113.053601 \r\nL 1035.772426 113.168962 \r\nL 1036.885476 104.288048 \r\nL 1037.442002 102.211988 \r\nL 1039.668102 109.016842 \r\nL 1040.224628 116.398369 \r\nL 1040.781153 113.745635 \r\nL 1041.337678 102.904023 \r\nL 1041.894203 89.755672 \r\nL 1043.563779 79.836728 \r\nL 1044.120304 87.910246 \r\nL 1044.676829 89.755672 \r\nL 1045.233355 87.218255 \r\nL 1045.78988 81.682109 \r\nL 1047.459455 89.063637 \r\nL 1048.015981 87.56425 \r\nL 1048.572506 88.832959 \r\nL 1049.129031 95.637812 \r\nL 1049.685556 94.599782 \r\nL 1051.355132 95.868491 \r\nL 1051.911657 100.020611 \r\nL 1052.468182 95.407134 \r\nL 1053.024707 83.873487 \r\nL 1053.581233 85.603551 \r\nL 1055.250808 91.370375 \r\nL 1056.363859 111.554258 \r\nL 1056.920384 111.438897 \r\nL 1057.476909 109.593515 \r\nL 1059.146485 116.744364 \r\nL 1059.70301 118.359112 \r\nL 1060.259535 112.36161 \r\nL 1060.81606 109.593515 \r\nL 1061.372586 104.634043 \r\nL 1063.042161 98.059868 \r\nL 1063.598686 98.982581 \r\nL 1064.155212 93.331074 \r\nL 1064.711737 95.75313 \r\nL 1065.268262 100.481923 \r\nL 1066.937838 94.023109 \r\nL 1067.494363 81.566748 \r\nL 1068.050888 75.684607 \r\nL 1068.607413 73.723865 \r\nL 1069.163939 70.955814 \r\nL 1070.833514 65.18899 \r\nL 1071.390039 72.801196 \r\nL 1071.946565 70.148462 \r\nL 1072.50309 77.529989 \r\nL 1073.059615 76.145964 \r\nL 1074.729191 74.761895 \r\nL 1075.285716 67.495728 \r\nL 1075.842241 73.262552 \r\nL 1076.398766 70.725136 \r\nL 1076.955291 77.068633 \r\nL 1078.624867 75.223251 \r\nL 1079.181392 82.3741 \r\nL 1079.737917 86.52622 \r\nL 1080.294443 83.873487 \r\nL 1082.520544 85.718869 \r\nL 1083.077069 90.216984 \r\nL 1084.190119 86.064864 \r\nL 1084.746644 83.296813 \r\nL 1086.41622 89.178954 \r\nL 1086.972745 97.483194 \r\nL 1087.52927 95.176456 \r\nL 1088.085796 96.329847 \r\nL 1088.642321 94.023109 \r\nL 1090.311896 88.486963 \r\nL 1090.868422 88.371602 \r\nL 1091.424947 73.723865 \r\nL 1091.981472 74.300582 \r\nL 1092.537997 81.912788 \r\nL 1094.207573 73.839226 \r\nL 1094.764098 79.952045 \r\nL 1095.320623 84.7962 \r\nL 1095.877149 84.911517 \r\nL 1096.433674 76.607276 \r\nL 1098.103249 86.180225 \r\nL 1099.2163 74.646577 \r\nL 1099.772825 72.570517 \r\nL 1100.32935 74.415899 \r\nL 1101.998926 70.494457 \r\nL 1103.668501 64.035599 \r\nL 1104.225027 65.18899 \r\nL 1105.894602 67.495728 \r\nL 1105.894602 67.495728 \r\n\" style=\"fill:none;stroke:#0000ff;stroke-linecap:square;stroke-width:1.5;\"/>\r\n   </g>\r\n   <g id=\"patch_3\">\r\n    <path d=\"M 40.621875 348.958125 \r\nL 40.621875 22.798125 \r\n\" style=\"fill:none;stroke:#000000;stroke-linecap:square;stroke-linejoin:miter;stroke-width:0.8;\"/>\r\n   </g>\r\n   <g id=\"patch_4\">\r\n    <path d=\"M 1156.621875 348.958125 \r\nL 1156.621875 22.798125 \r\n\" style=\"fill:none;stroke:#000000;stroke-linecap:square;stroke-linejoin:miter;stroke-width:0.8;\"/>\r\n   </g>\r\n   <g id=\"patch_5\">\r\n    <path d=\"M 40.621875 348.958125 \r\nL 1156.621875 348.958125 \r\n\" style=\"fill:none;stroke:#000000;stroke-linecap:square;stroke-linejoin:miter;stroke-width:0.8;\"/>\r\n   </g>\r\n   <g id=\"patch_6\">\r\n    <path d=\"M 40.621875 22.798125 \r\nL 1156.621875 22.798125 \r\n\" style=\"fill:none;stroke:#000000;stroke-linecap:square;stroke-linejoin:miter;stroke-width:0.8;\"/>\r\n   </g>\r\n   <g id=\"text_15\">\r\n    <!-- Previsão de série temporal -->\r\n    <g transform=\"translate(518.350313 16.798125)scale(0.12 -0.12)\">\r\n     <defs>\r\n      <path d=\"M 1259 4147 \r\nL 1259 2394 \r\nL 2053 2394 \r\nQ 2494 2394 2734 2622 \r\nQ 2975 2850 2975 3272 \r\nQ 2975 3691 2734 3919 \r\nQ 2494 4147 2053 4147 \r\nL 1259 4147 \r\nz\r\nM 628 4666 \r\nL 2053 4666 \r\nQ 2838 4666 3239 4311 \r\nQ 3641 3956 3641 3272 \r\nQ 3641 2581 3239 2228 \r\nQ 2838 1875 2053 1875 \r\nL 1259 1875 \r\nL 1259 0 \r\nL 628 0 \r\nL 628 4666 \r\nz\r\n\" id=\"DejaVuSans-50\" transform=\"scale(0.015625)\"/>\r\n      <path d=\"M 2631 2963 \r\nQ 2534 3019 2420 3045 \r\nQ 2306 3072 2169 3072 \r\nQ 1681 3072 1420 2755 \r\nQ 1159 2438 1159 1844 \r\nL 1159 0 \r\nL 581 0 \r\nL 581 3500 \r\nL 1159 3500 \r\nL 1159 2956 \r\nQ 1341 3275 1631 3429 \r\nQ 1922 3584 2338 3584 \r\nQ 2397 3584 2469 3576 \r\nQ 2541 3569 2628 3553 \r\nL 2631 2963 \r\nz\r\n\" id=\"DejaVuSans-72\" transform=\"scale(0.015625)\"/>\r\n      <path d=\"M 191 3500 \r\nL 800 3500 \r\nL 1894 563 \r\nL 2988 3500 \r\nL 3597 3500 \r\nL 2284 0 \r\nL 1503 0 \r\nL 191 3500 \r\nz\r\n\" id=\"DejaVuSans-76\" transform=\"scale(0.015625)\"/>\r\n      <path d=\"M 603 3500 \r\nL 1178 3500 \r\nL 1178 0 \r\nL 603 0 \r\nL 603 3500 \r\nz\r\nM 603 4863 \r\nL 1178 4863 \r\nL 1178 4134 \r\nL 603 4134 \r\nL 603 4863 \r\nz\r\n\" id=\"DejaVuSans-69\" transform=\"scale(0.015625)\"/>\r\n      <path d=\"M 2834 3397 \r\nL 2834 2853 \r\nQ 2591 2978 2328 3040 \r\nQ 2066 3103 1784 3103 \r\nQ 1356 3103 1142 2972 \r\nQ 928 2841 928 2578 \r\nQ 928 2378 1081 2264 \r\nQ 1234 2150 1697 2047 \r\nL 1894 2003 \r\nQ 2506 1872 2764 1633 \r\nQ 3022 1394 3022 966 \r\nQ 3022 478 2636 193 \r\nQ 2250 -91 1575 -91 \r\nQ 1294 -91 989 -36 \r\nQ 684 19 347 128 \r\nL 347 722 \r\nQ 666 556 975 473 \r\nQ 1284 391 1588 391 \r\nQ 1994 391 2212 530 \r\nQ 2431 669 2431 922 \r\nQ 2431 1156 2273 1281 \r\nQ 2116 1406 1581 1522 \r\nL 1381 1569 \r\nQ 847 1681 609 1914 \r\nQ 372 2147 372 2553 \r\nQ 372 3047 722 3315 \r\nQ 1072 3584 1716 3584 \r\nQ 2034 3584 2315 3537 \r\nQ 2597 3491 2834 3397 \r\nz\r\n\" id=\"DejaVuSans-73\" transform=\"scale(0.015625)\"/>\r\n      <path d=\"M 2906 2969 \r\nL 2906 4863 \r\nL 3481 4863 \r\nL 3481 0 \r\nL 2906 0 \r\nL 2906 525 \r\nQ 2725 213 2448 61 \r\nQ 2172 -91 1784 -91 \r\nQ 1150 -91 751 415 \r\nQ 353 922 353 1747 \r\nQ 353 2572 751 3078 \r\nQ 1150 3584 1784 3584 \r\nQ 2172 3584 2448 3432 \r\nQ 2725 3281 2906 2969 \r\nz\r\nM 947 1747 \r\nQ 947 1113 1208 752 \r\nQ 1469 391 1925 391 \r\nQ 2381 391 2643 752 \r\nQ 2906 1113 2906 1747 \r\nQ 2906 2381 2643 2742 \r\nQ 2381 3103 1925 3103 \r\nQ 1469 3103 1208 2742 \r\nQ 947 2381 947 1747 \r\nz\r\n\" id=\"DejaVuSans-64\" transform=\"scale(0.015625)\"/>\r\n      <path d=\"M 3597 1894 \r\nL 3597 1613 \r\nL 953 1613 \r\nQ 991 1019 1311 708 \r\nQ 1631 397 2203 397 \r\nQ 2534 397 2845 478 \r\nQ 3156 559 3463 722 \r\nL 3463 178 \r\nQ 3153 47 2828 -22 \r\nQ 2503 -91 2169 -91 \r\nQ 1331 -91 842 396 \r\nQ 353 884 353 1716 \r\nQ 353 2575 817 3079 \r\nQ 1281 3584 2069 3584 \r\nQ 2775 3584 3186 3129 \r\nQ 3597 2675 3597 1894 \r\nz\r\nM 3022 2063 \r\nQ 3016 2534 2758 2815 \r\nQ 2500 3097 2075 3097 \r\nQ 1594 3097 1305 2825 \r\nQ 1016 2553 972 2059 \r\nL 3022 2063 \r\nz\r\nM 2466 5119 \r\nL 3088 5119 \r\nL 2070 3944 \r\nL 1591 3944 \r\nL 2466 5119 \r\nz\r\n\" id=\"DejaVuSans-e9\" transform=\"scale(0.015625)\"/>\r\n      <path d=\"M 603 4863 \r\nL 1178 4863 \r\nL 1178 0 \r\nL 603 0 \r\nL 603 4863 \r\nz\r\n\" id=\"DejaVuSans-6c\" transform=\"scale(0.015625)\"/>\r\n     </defs>\r\n     <use xlink:href=\"#DejaVuSans-50\"/>\r\n     <use x=\"58.552734\" xlink:href=\"#DejaVuSans-72\"/>\r\n     <use x=\"97.416016\" xlink:href=\"#DejaVuSans-65\"/>\r\n     <use x=\"158.939453\" xlink:href=\"#DejaVuSans-76\"/>\r\n     <use x=\"218.119141\" xlink:href=\"#DejaVuSans-69\"/>\r\n     <use x=\"245.902344\" xlink:href=\"#DejaVuSans-73\"/>\r\n     <use x=\"298.001953\" xlink:href=\"#DejaVuSans-e3\"/>\r\n     <use x=\"359.28125\" xlink:href=\"#DejaVuSans-6f\"/>\r\n     <use x=\"420.462891\" xlink:href=\"#DejaVuSans-20\"/>\r\n     <use x=\"452.25\" xlink:href=\"#DejaVuSans-64\"/>\r\n     <use x=\"515.726562\" xlink:href=\"#DejaVuSans-65\"/>\r\n     <use x=\"577.25\" xlink:href=\"#DejaVuSans-20\"/>\r\n     <use x=\"609.037109\" xlink:href=\"#DejaVuSans-73\"/>\r\n     <use x=\"661.136719\" xlink:href=\"#DejaVuSans-e9\"/>\r\n     <use x=\"722.660156\" xlink:href=\"#DejaVuSans-72\"/>\r\n     <use x=\"763.773438\" xlink:href=\"#DejaVuSans-69\"/>\r\n     <use x=\"791.556641\" xlink:href=\"#DejaVuSans-65\"/>\r\n     <use x=\"853.080078\" xlink:href=\"#DejaVuSans-20\"/>\r\n     <use x=\"884.867188\" xlink:href=\"#DejaVuSans-74\"/>\r\n     <use x=\"924.076172\" xlink:href=\"#DejaVuSans-65\"/>\r\n     <use x=\"985.599609\" xlink:href=\"#DejaVuSans-6d\"/>\r\n     <use x=\"1083.011719\" xlink:href=\"#DejaVuSans-70\"/>\r\n     <use x=\"1146.488281\" xlink:href=\"#DejaVuSans-6f\"/>\r\n     <use x=\"1207.669922\" xlink:href=\"#DejaVuSans-72\"/>\r\n     <use x=\"1248.783203\" xlink:href=\"#DejaVuSans-61\"/>\r\n     <use x=\"1310.0625\" xlink:href=\"#DejaVuSans-6c\"/>\r\n    </g>\r\n   </g>\r\n   <g id=\"legend_1\">\r\n    <g id=\"patch_7\">\r\n     <path d=\"M 1077.782813 60.154375 \r\nL 1149.621875 60.154375 \r\nQ 1151.621875 60.154375 1151.621875 58.154375 \r\nL 1151.621875 29.798125 \r\nQ 1151.621875 27.798125 1149.621875 27.798125 \r\nL 1077.782813 27.798125 \r\nQ 1075.782813 27.798125 1075.782813 29.798125 \r\nL 1075.782813 58.154375 \r\nQ 1075.782813 60.154375 1077.782813 60.154375 \r\nz\r\n\" style=\"fill:#ffffff;opacity:0.8;stroke:#cccccc;stroke-linejoin:miter;\"/>\r\n    </g>\r\n    <g id=\"line2d_15\">\r\n     <path d=\"M 1079.782813 35.896562 \r\nL 1099.782813 35.896562 \r\n\" style=\"fill:none;stroke:#ff0000;stroke-linecap:square;stroke-width:1.5;\"/>\r\n    </g>\r\n    <g id=\"line2d_16\"/>\r\n    <g id=\"text_16\">\r\n     <!-- Previsto -->\r\n     <g transform=\"translate(1107.782813 39.396562)scale(0.1 -0.1)\">\r\n      <use xlink:href=\"#DejaVuSans-50\"/>\r\n      <use x=\"58.552734\" xlink:href=\"#DejaVuSans-72\"/>\r\n      <use x=\"97.416016\" xlink:href=\"#DejaVuSans-65\"/>\r\n      <use x=\"158.939453\" xlink:href=\"#DejaVuSans-76\"/>\r\n      <use x=\"218.119141\" xlink:href=\"#DejaVuSans-69\"/>\r\n      <use x=\"245.902344\" xlink:href=\"#DejaVuSans-73\"/>\r\n      <use x=\"298.001953\" xlink:href=\"#DejaVuSans-74\"/>\r\n      <use x=\"337.210938\" xlink:href=\"#DejaVuSans-6f\"/>\r\n     </g>\r\n    </g>\r\n    <g id=\"line2d_17\">\r\n     <path d=\"M 1079.782813 50.574687 \r\nL 1099.782813 50.574687 \r\n\" style=\"fill:none;stroke:#0000ff;stroke-linecap:square;stroke-width:1.5;\"/>\r\n    </g>\r\n    <g id=\"line2d_18\"/>\r\n    <g id=\"text_17\">\r\n     <!-- Real -->\r\n     <g transform=\"translate(1107.782813 54.074687)scale(0.1 -0.1)\">\r\n      <use xlink:href=\"#DejaVuSans-52\"/>\r\n      <use x=\"64.982422\" xlink:href=\"#DejaVuSans-65\"/>\r\n      <use x=\"126.505859\" xlink:href=\"#DejaVuSans-61\"/>\r\n      <use x=\"187.785156\" xlink:href=\"#DejaVuSans-6c\"/>\r\n     </g>\r\n    </g>\r\n   </g>\r\n  </g>\r\n </g>\r\n <defs>\r\n  <clipPath id=\"p8b5eb3eb20\">\r\n   <rect height=\"326.16\" width=\"1116\" x=\"40.621875\" y=\"22.798125\"/>\r\n  </clipPath>\r\n </defs>\r\n</svg>\r\n",
            "image/png": "[encoded data removed]"
          },
          "metadata": {
            "needs_background": "light"
          }
        }
      ],
      "metadata": {
        "colab": {
          "base_uri": "https://localhost:8080/",
          "height": 426
        },
        "id": "3G7e6HV4vMej",
        "outputId": "5a168823-490a-4756-8d05-a6a8bfd39a58"
      }
    },
    {
      "cell_type": "code",
      "execution_count": 32,
      "source": [
        "rmse = math.sqrt(mean_squared_error(dataset[training_data_len:, 0:1], predicted[:,0:1]))\r\n",
        "print('RMSE: ', rmse)"
      ],
      "outputs": [
        {
          "output_type": "stream",
          "name": "stdout",
          "text": [
            "RMSE:  4.684373686368948\n"
          ]
        }
      ],
      "metadata": {
        "colab": {
          "base_uri": "https://localhost:8080/"
        },
        "id": "4CCLiPM8vO5U",
        "outputId": "33b31e2c-c684-4be8-8695-84d3f04885d7"
      }
    },
    {
      "cell_type": "code",
      "execution_count": 33,
      "source": [
        "mse = mean_squared_error(dataset[training_data_len:, 0:1], predicted[:,0:1])\r\n",
        "print('MSE: ',mse)"
      ],
      "outputs": [
        {
          "output_type": "stream",
          "name": "stdout",
          "text": [
            "MSE:  21.94335683354581\n"
          ]
        }
      ],
      "metadata": {
        "colab": {
          "base_uri": "https://localhost:8080/"
        },
        "id": "dWEFnqylvQiy",
        "outputId": "cb6fb140-32d0-43ce-e4e1-6b543c255227"
      }
    },
    {
      "cell_type": "code",
      "execution_count": 34,
      "source": [
        "mape = np.mean(np.abs((dataset[training_data_len:, 0:1]-predicted[:,0:1]) /dataset[training_data_len:, 0:1])) * 100\r\n",
        "print('MAPE: ',mape, '%')"
      ],
      "outputs": [
        {
          "output_type": "stream",
          "name": "stdout",
          "text": [
            "MAPE:  11.685060314146742 %\n"
          ]
        }
      ],
      "metadata": {
        "colab": {
          "base_uri": "https://localhost:8080/"
        },
        "id": "-PC8KlwwvRum",
        "outputId": "1c7e9778-e22a-4612-b636-ee75e61f730c"
      }
    },
    {
      "cell_type": "code",
      "execution_count": 35,
      "source": [
        "print('R2: ', r2_score(predicted[:,0:1], dataset[training_data_len:, 0:1]))"
      ],
      "outputs": [
        {
          "output_type": "stream",
          "name": "stdout",
          "text": [
            "R2:  -19.279360047951876\n"
          ]
        }
      ],
      "metadata": {
        "colab": {
          "base_uri": "https://localhost:8080/"
        },
        "id": "Hi7q3c9OvTI_",
        "outputId": "9e35aab4-eb3e-4e1a-c361-f7e855b5e8bf"
      }
    }
  ]
}