{
 "cells": [
  {
   "cell_type": "code",
   "execution_count": 1,
   "source": [
    "import numpy as np\r\n",
    "import pandas_datareader as web\r\n",
    "import pandas as pd\r\n",
    "import seaborn as sns\r\n",
    "import matplotlib.pyplot as plt\r\n",
    "import math\r\n",
    "from matplotlib.pyplot import figure\r\n",
    "from sklearn.preprocessing import MinMaxScaler, StandardScaler\r\n",
    "from sklearn.metrics import mean_squared_error\r\n",
    "from sklearn.metrics import r2_score\r\n",
    "from tensorflow import keras \r\n",
    "# from keras.models import Sequential\r\n",
    "# from keras.layers import Dense\r\n",
    "# from keras.layers import LSTM\r\n",
    "# from keras.layers import Dropout\r\n"
   ],
   "outputs": [],
   "metadata": {
    "id": "WXZs1haGNdYv"
   }
  },
  {
   "cell_type": "code",
   "execution_count": 2,
   "source": [
    "Sequential = keras.models.Sequential\r\n",
    "Dense = keras.layers.Dense\r\n",
    "LSTM = keras.layers.LSTM\r\n",
    "Dropout = keras.layers.Dropout"
   ],
   "outputs": [],
   "metadata": {}
  },
  {
   "cell_type": "code",
   "execution_count": 3,
   "source": [
    "df = web.DataReader(\"ITUB4.SA\", data_source=\"yahoo\", start=\"2015-01-01\", end=\"2019-12-31\")\r\n",
    "df"
   ],
   "outputs": [
    {
     "output_type": "execute_result",
     "data": {
      "text/plain": [
       "                 High        Low       Open      Close      Volume  Adj Close\n",
       "Date                                                                         \n",
       "2015-01-02  19.179064  18.468319  18.870523  18.639118  20756703.0  13.831242\n",
       "2015-01-05  18.925619  18.203856  18.347107  18.732782  23532382.0  13.900749\n",
       "2015-01-06  19.035812  18.528925  18.732782  19.035812  27725577.0  14.125619\n",
       "2015-01-07  20.022038  19.283747  19.283747  19.724518  23601897.0  14.636673\n",
       "2015-01-08  20.110191  19.404959  19.834709  20.033056  21403024.0  14.865625\n",
       "...               ...        ...        ...        ...         ...        ...\n",
       "2019-12-20  36.700001  36.299999  36.630001  36.500000  24863500.0  34.978203\n",
       "2019-12-23  36.840000  36.310001  36.500000  36.840000  11691500.0  35.304047\n",
       "2019-12-26  37.400002  36.650002  36.799999  37.400002  16333100.0  35.840687\n",
       "2019-12-27  37.689999  36.910000  37.500000  37.299999  13455300.0  35.744862\n",
       "2019-12-30  37.590000  36.860001  37.340000  37.099998   9225800.0  35.553196\n",
       "\n",
       "[1241 rows x 6 columns]"
      ],
      "text/html": [
       "<div>\n",
       "<style scoped>\n",
       "    .dataframe tbody tr th:only-of-type {\n",
       "        vertical-align: middle;\n",
       "    }\n",
       "\n",
       "    .dataframe tbody tr th {\n",
       "        vertical-align: top;\n",
       "    }\n",
       "\n",
       "    .dataframe thead th {\n",
       "        text-align: right;\n",
       "    }\n",
       "</style>\n",
       "<table border=\"1\" class=\"dataframe\">\n",
       "  <thead>\n",
       "    <tr style=\"text-align: right;\">\n",
       "      <th></th>\n",
       "      <th>High</th>\n",
       "      <th>Low</th>\n",
       "      <th>Open</th>\n",
       "      <th>Close</th>\n",
       "      <th>Volume</th>\n",
       "      <th>Adj Close</th>\n",
       "    </tr>\n",
       "    <tr>\n",
       "      <th>Date</th>\n",
       "      <th></th>\n",
       "      <th></th>\n",
       "      <th></th>\n",
       "      <th></th>\n",
       "      <th></th>\n",
       "      <th></th>\n",
       "    </tr>\n",
       "  </thead>\n",
       "  <tbody>\n",
       "    <tr>\n",
       "      <th>2015-01-02</th>\n",
       "      <td>19.179064</td>\n",
       "      <td>18.468319</td>\n",
       "      <td>18.870523</td>\n",
       "      <td>18.639118</td>\n",
       "      <td>20756703.0</td>\n",
       "      <td>13.831242</td>\n",
       "    </tr>\n",
       "    <tr>\n",
       "      <th>2015-01-05</th>\n",
       "      <td>18.925619</td>\n",
       "      <td>18.203856</td>\n",
       "      <td>18.347107</td>\n",
       "      <td>18.732782</td>\n",
       "      <td>23532382.0</td>\n",
       "      <td>13.900749</td>\n",
       "    </tr>\n",
       "    <tr>\n",
       "      <th>2015-01-06</th>\n",
       "      <td>19.035812</td>\n",
       "      <td>18.528925</td>\n",
       "      <td>18.732782</td>\n",
       "      <td>19.035812</td>\n",
       "      <td>27725577.0</td>\n",
       "      <td>14.125619</td>\n",
       "    </tr>\n",
       "    <tr>\n",
       "      <th>2015-01-07</th>\n",
       "      <td>20.022038</td>\n",
       "      <td>19.283747</td>\n",
       "      <td>19.283747</td>\n",
       "      <td>19.724518</td>\n",
       "      <td>23601897.0</td>\n",
       "      <td>14.636673</td>\n",
       "    </tr>\n",
       "    <tr>\n",
       "      <th>2015-01-08</th>\n",
       "      <td>20.110191</td>\n",
       "      <td>19.404959</td>\n",
       "      <td>19.834709</td>\n",
       "      <td>20.033056</td>\n",
       "      <td>21403024.0</td>\n",
       "      <td>14.865625</td>\n",
       "    </tr>\n",
       "    <tr>\n",
       "      <th>...</th>\n",
       "      <td>...</td>\n",
       "      <td>...</td>\n",
       "      <td>...</td>\n",
       "      <td>...</td>\n",
       "      <td>...</td>\n",
       "      <td>...</td>\n",
       "    </tr>\n",
       "    <tr>\n",
       "      <th>2019-12-20</th>\n",
       "      <td>36.700001</td>\n",
       "      <td>36.299999</td>\n",
       "      <td>36.630001</td>\n",
       "      <td>36.500000</td>\n",
       "      <td>24863500.0</td>\n",
       "      <td>34.978203</td>\n",
       "    </tr>\n",
       "    <tr>\n",
       "      <th>2019-12-23</th>\n",
       "      <td>36.840000</td>\n",
       "      <td>36.310001</td>\n",
       "      <td>36.500000</td>\n",
       "      <td>36.840000</td>\n",
       "      <td>11691500.0</td>\n",
       "      <td>35.304047</td>\n",
       "    </tr>\n",
       "    <tr>\n",
       "      <th>2019-12-26</th>\n",
       "      <td>37.400002</td>\n",
       "      <td>36.650002</td>\n",
       "      <td>36.799999</td>\n",
       "      <td>37.400002</td>\n",
       "      <td>16333100.0</td>\n",
       "      <td>35.840687</td>\n",
       "    </tr>\n",
       "    <tr>\n",
       "      <th>2019-12-27</th>\n",
       "      <td>37.689999</td>\n",
       "      <td>36.910000</td>\n",
       "      <td>37.500000</td>\n",
       "      <td>37.299999</td>\n",
       "      <td>13455300.0</td>\n",
       "      <td>35.744862</td>\n",
       "    </tr>\n",
       "    <tr>\n",
       "      <th>2019-12-30</th>\n",
       "      <td>37.590000</td>\n",
       "      <td>36.860001</td>\n",
       "      <td>37.340000</td>\n",
       "      <td>37.099998</td>\n",
       "      <td>9225800.0</td>\n",
       "      <td>35.553196</td>\n",
       "    </tr>\n",
       "  </tbody>\n",
       "</table>\n",
       "<p>1241 rows × 6 columns</p>\n",
       "</div>"
      ]
     },
     "metadata": {},
     "execution_count": 3
    }
   ],
   "metadata": {
    "colab": {
     "base_uri": "https://localhost:8080/",
     "height": 455
    },
    "id": "ZLE4oRySNhEC",
    "outputId": "c43e9a74-043b-4b03-d1f6-e1f14cf45aac"
   }
  },
  {
   "cell_type": "code",
   "execution_count": 4,
   "source": [
    "df.shape"
   ],
   "outputs": [
    {
     "output_type": "execute_result",
     "data": {
      "text/plain": [
       "(1241, 6)"
      ]
     },
     "metadata": {},
     "execution_count": 4
    }
   ],
   "metadata": {
    "colab": {
     "base_uri": "https://localhost:8080/"
    },
    "id": "U0BBIen7Njpc",
    "outputId": "40f52750-b211-4ffa-dafc-5973e971e4a6"
   }
  },
  {
   "cell_type": "code",
   "execution_count": 5,
   "source": [
    "df_bovespa = web.DataReader(\"^BVSP\", data_source=\"yahoo\", start=\"2015-01-01\", end=\"2019-12-31\")\r\n",
    "# df_bovespa.reset_index(inplace=True,drop=False)\r\n",
    "df_bovespa"
   ],
   "outputs": [
    {
     "output_type": "execute_result",
     "data": {
      "text/plain": [
       "                High       Low      Open     Close     Volume  Adj Close\n",
       "Date                                                                    \n",
       "2015-01-02   50005.0   48345.0   50005.0   48512.0  2882100.0    48512.0\n",
       "2015-01-05   48512.0   47264.0   48512.0   47517.0  3866100.0    47517.0\n",
       "2015-01-06   48061.0   47338.0   47517.0   48001.0  4559300.0    48001.0\n",
       "2015-01-07   49882.0   48006.0   48006.0   49463.0  4408800.0    49463.0\n",
       "2015-01-08   50261.0   49017.0   49463.0   49943.0  3621900.0    49943.0\n",
       "...              ...       ...       ...       ...        ...        ...\n",
       "2019-12-20  115171.0  114526.0  115133.0  115121.0  6887400.0   115121.0\n",
       "2019-12-23  115863.0  114964.0  115119.0  115863.0  3995200.0   115863.0\n",
       "2019-12-26  117220.0  115673.0  115864.0  117203.0  3788900.0   117203.0\n",
       "2019-12-27  117803.0  115995.0  117205.0  116534.0  3905900.0   116534.0\n",
       "2019-12-30  117086.0  115790.0  116530.0  115964.0  3667900.0   115964.0\n",
       "\n",
       "[1235 rows x 6 columns]"
      ],
      "text/html": [
       "<div>\n",
       "<style scoped>\n",
       "    .dataframe tbody tr th:only-of-type {\n",
       "        vertical-align: middle;\n",
       "    }\n",
       "\n",
       "    .dataframe tbody tr th {\n",
       "        vertical-align: top;\n",
       "    }\n",
       "\n",
       "    .dataframe thead th {\n",
       "        text-align: right;\n",
       "    }\n",
       "</style>\n",
       "<table border=\"1\" class=\"dataframe\">\n",
       "  <thead>\n",
       "    <tr style=\"text-align: right;\">\n",
       "      <th></th>\n",
       "      <th>High</th>\n",
       "      <th>Low</th>\n",
       "      <th>Open</th>\n",
       "      <th>Close</th>\n",
       "      <th>Volume</th>\n",
       "      <th>Adj Close</th>\n",
       "    </tr>\n",
       "    <tr>\n",
       "      <th>Date</th>\n",
       "      <th></th>\n",
       "      <th></th>\n",
       "      <th></th>\n",
       "      <th></th>\n",
       "      <th></th>\n",
       "      <th></th>\n",
       "    </tr>\n",
       "  </thead>\n",
       "  <tbody>\n",
       "    <tr>\n",
       "      <th>2015-01-02</th>\n",
       "      <td>50005.0</td>\n",
       "      <td>48345.0</td>\n",
       "      <td>50005.0</td>\n",
       "      <td>48512.0</td>\n",
       "      <td>2882100.0</td>\n",
       "      <td>48512.0</td>\n",
       "    </tr>\n",
       "    <tr>\n",
       "      <th>2015-01-05</th>\n",
       "      <td>48512.0</td>\n",
       "      <td>47264.0</td>\n",
       "      <td>48512.0</td>\n",
       "      <td>47517.0</td>\n",
       "      <td>3866100.0</td>\n",
       "      <td>47517.0</td>\n",
       "    </tr>\n",
       "    <tr>\n",
       "      <th>2015-01-06</th>\n",
       "      <td>48061.0</td>\n",
       "      <td>47338.0</td>\n",
       "      <td>47517.0</td>\n",
       "      <td>48001.0</td>\n",
       "      <td>4559300.0</td>\n",
       "      <td>48001.0</td>\n",
       "    </tr>\n",
       "    <tr>\n",
       "      <th>2015-01-07</th>\n",
       "      <td>49882.0</td>\n",
       "      <td>48006.0</td>\n",
       "      <td>48006.0</td>\n",
       "      <td>49463.0</td>\n",
       "      <td>4408800.0</td>\n",
       "      <td>49463.0</td>\n",
       "    </tr>\n",
       "    <tr>\n",
       "      <th>2015-01-08</th>\n",
       "      <td>50261.0</td>\n",
       "      <td>49017.0</td>\n",
       "      <td>49463.0</td>\n",
       "      <td>49943.0</td>\n",
       "      <td>3621900.0</td>\n",
       "      <td>49943.0</td>\n",
       "    </tr>\n",
       "    <tr>\n",
       "      <th>...</th>\n",
       "      <td>...</td>\n",
       "      <td>...</td>\n",
       "      <td>...</td>\n",
       "      <td>...</td>\n",
       "      <td>...</td>\n",
       "      <td>...</td>\n",
       "    </tr>\n",
       "    <tr>\n",
       "      <th>2019-12-20</th>\n",
       "      <td>115171.0</td>\n",
       "      <td>114526.0</td>\n",
       "      <td>115133.0</td>\n",
       "      <td>115121.0</td>\n",
       "      <td>6887400.0</td>\n",
       "      <td>115121.0</td>\n",
       "    </tr>\n",
       "    <tr>\n",
       "      <th>2019-12-23</th>\n",
       "      <td>115863.0</td>\n",
       "      <td>114964.0</td>\n",
       "      <td>115119.0</td>\n",
       "      <td>115863.0</td>\n",
       "      <td>3995200.0</td>\n",
       "      <td>115863.0</td>\n",
       "    </tr>\n",
       "    <tr>\n",
       "      <th>2019-12-26</th>\n",
       "      <td>117220.0</td>\n",
       "      <td>115673.0</td>\n",
       "      <td>115864.0</td>\n",
       "      <td>117203.0</td>\n",
       "      <td>3788900.0</td>\n",
       "      <td>117203.0</td>\n",
       "    </tr>\n",
       "    <tr>\n",
       "      <th>2019-12-27</th>\n",
       "      <td>117803.0</td>\n",
       "      <td>115995.0</td>\n",
       "      <td>117205.0</td>\n",
       "      <td>116534.0</td>\n",
       "      <td>3905900.0</td>\n",
       "      <td>116534.0</td>\n",
       "    </tr>\n",
       "    <tr>\n",
       "      <th>2019-12-30</th>\n",
       "      <td>117086.0</td>\n",
       "      <td>115790.0</td>\n",
       "      <td>116530.0</td>\n",
       "      <td>115964.0</td>\n",
       "      <td>3667900.0</td>\n",
       "      <td>115964.0</td>\n",
       "    </tr>\n",
       "  </tbody>\n",
       "</table>\n",
       "<p>1235 rows × 6 columns</p>\n",
       "</div>"
      ]
     },
     "metadata": {},
     "execution_count": 5
    }
   ],
   "metadata": {
    "colab": {
     "base_uri": "https://localhost:8080/",
     "height": 455
    },
    "id": "K8wtyI6KNbcU",
    "outputId": "fbd0803c-1268-49a1-eb58-f65fc832a9f5"
   }
  },
  {
   "cell_type": "code",
   "execution_count": 6,
   "source": [
    "df_bovespa.shape"
   ],
   "outputs": [
    {
     "output_type": "execute_result",
     "data": {
      "text/plain": [
       "(1235, 6)"
      ]
     },
     "metadata": {},
     "execution_count": 6
    }
   ],
   "metadata": {
    "colab": {
     "base_uri": "https://localhost:8080/"
    },
    "id": "EZid73x9Nl_w",
    "outputId": "a1781db4-3d1b-497c-8bde-53e67282d037"
   }
  },
  {
   "cell_type": "code",
   "execution_count": 7,
   "source": [
    "df = df.merge(df_bovespa, left_on='Date', right_on='Date', suffixes=('', '_bovespa'))\r\n",
    "df.describe()"
   ],
   "outputs": [
    {
     "output_type": "execute_result",
     "data": {
      "text/plain": [
       "              High          Low         Open        Close        Volume  \\\n",
       "count  1235.000000  1235.000000  1235.000000  1235.000000  1.235000e+03   \n",
       "mean     26.579736    25.942236    26.268392    26.268076  2.107308e+07   \n",
       "std       7.002110     6.887101     6.955826     6.948358  1.037574e+07   \n",
       "min      14.072727    13.824242    13.939393    13.981818  0.000000e+00   \n",
       "25%      19.887052    19.310192    19.674931    19.615702  1.422990e+07   \n",
       "50%      26.406666    25.799999    26.200001    26.066666  1.916430e+07   \n",
       "75%      33.805000    33.021666    33.333332    33.423334  2.546842e+07   \n",
       "max      39.790001    38.400002    38.669998    39.689999  1.049172e+08   \n",
       "\n",
       "         Adj Close   High_bovespa    Low_bovespa   Open_bovespa  \\\n",
       "count  1235.000000    1235.000000    1235.000000    1235.000000   \n",
       "mean     22.759923   71258.726316   69996.229960   70605.106883   \n",
       "std       7.547755   19634.810008   19447.130086   19532.433000   \n",
       "min      10.908615   38031.000000   37046.000000   37501.000000   \n",
       "25%      15.306196   53498.500000   52677.000000   53087.500000   \n",
       "50%      22.069450   66758.000000   65842.000000   66195.000000   \n",
       "75%      30.374873   86157.000000   84582.500000   85515.000000   \n",
       "max      36.209297  117803.000000  115995.000000  117205.000000   \n",
       "\n",
       "       Close_bovespa  Volume_bovespa  Adj Close_bovespa  \n",
       "count    1235.000000    1.235000e+03        1235.000000  \n",
       "mean    70656.285020    3.794215e+06       70656.285020  \n",
       "std     19564.626768    1.203582e+06       19564.626768  \n",
       "min     37497.000000    0.000000e+00       37497.000000  \n",
       "25%     53094.500000    3.078600e+06       53094.500000  \n",
       "50%     66235.000000    3.658900e+06       66235.000000  \n",
       "75%     85539.000000    4.389100e+06       85539.000000  \n",
       "max    117203.000000    1.104670e+07      117203.000000  "
      ],
      "text/html": [
       "<div>\n",
       "<style scoped>\n",
       "    .dataframe tbody tr th:only-of-type {\n",
       "        vertical-align: middle;\n",
       "    }\n",
       "\n",
       "    .dataframe tbody tr th {\n",
       "        vertical-align: top;\n",
       "    }\n",
       "\n",
       "    .dataframe thead th {\n",
       "        text-align: right;\n",
       "    }\n",
       "</style>\n",
       "<table border=\"1\" class=\"dataframe\">\n",
       "  <thead>\n",
       "    <tr style=\"text-align: right;\">\n",
       "      <th></th>\n",
       "      <th>High</th>\n",
       "      <th>Low</th>\n",
       "      <th>Open</th>\n",
       "      <th>Close</th>\n",
       "      <th>Volume</th>\n",
       "      <th>Adj Close</th>\n",
       "      <th>High_bovespa</th>\n",
       "      <th>Low_bovespa</th>\n",
       "      <th>Open_bovespa</th>\n",
       "      <th>Close_bovespa</th>\n",
       "      <th>Volume_bovespa</th>\n",
       "      <th>Adj Close_bovespa</th>\n",
       "    </tr>\n",
       "  </thead>\n",
       "  <tbody>\n",
       "    <tr>\n",
       "      <th>count</th>\n",
       "      <td>1235.000000</td>\n",
       "      <td>1235.000000</td>\n",
       "      <td>1235.000000</td>\n",
       "      <td>1235.000000</td>\n",
       "      <td>1.235000e+03</td>\n",
       "      <td>1235.000000</td>\n",
       "      <td>1235.000000</td>\n",
       "      <td>1235.000000</td>\n",
       "      <td>1235.000000</td>\n",
       "      <td>1235.000000</td>\n",
       "      <td>1.235000e+03</td>\n",
       "      <td>1235.000000</td>\n",
       "    </tr>\n",
       "    <tr>\n",
       "      <th>mean</th>\n",
       "      <td>26.579736</td>\n",
       "      <td>25.942236</td>\n",
       "      <td>26.268392</td>\n",
       "      <td>26.268076</td>\n",
       "      <td>2.107308e+07</td>\n",
       "      <td>22.759923</td>\n",
       "      <td>71258.726316</td>\n",
       "      <td>69996.229960</td>\n",
       "      <td>70605.106883</td>\n",
       "      <td>70656.285020</td>\n",
       "      <td>3.794215e+06</td>\n",
       "      <td>70656.285020</td>\n",
       "    </tr>\n",
       "    <tr>\n",
       "      <th>std</th>\n",
       "      <td>7.002110</td>\n",
       "      <td>6.887101</td>\n",
       "      <td>6.955826</td>\n",
       "      <td>6.948358</td>\n",
       "      <td>1.037574e+07</td>\n",
       "      <td>7.547755</td>\n",
       "      <td>19634.810008</td>\n",
       "      <td>19447.130086</td>\n",
       "      <td>19532.433000</td>\n",
       "      <td>19564.626768</td>\n",
       "      <td>1.203582e+06</td>\n",
       "      <td>19564.626768</td>\n",
       "    </tr>\n",
       "    <tr>\n",
       "      <th>min</th>\n",
       "      <td>14.072727</td>\n",
       "      <td>13.824242</td>\n",
       "      <td>13.939393</td>\n",
       "      <td>13.981818</td>\n",
       "      <td>0.000000e+00</td>\n",
       "      <td>10.908615</td>\n",
       "      <td>38031.000000</td>\n",
       "      <td>37046.000000</td>\n",
       "      <td>37501.000000</td>\n",
       "      <td>37497.000000</td>\n",
       "      <td>0.000000e+00</td>\n",
       "      <td>37497.000000</td>\n",
       "    </tr>\n",
       "    <tr>\n",
       "      <th>25%</th>\n",
       "      <td>19.887052</td>\n",
       "      <td>19.310192</td>\n",
       "      <td>19.674931</td>\n",
       "      <td>19.615702</td>\n",
       "      <td>1.422990e+07</td>\n",
       "      <td>15.306196</td>\n",
       "      <td>53498.500000</td>\n",
       "      <td>52677.000000</td>\n",
       "      <td>53087.500000</td>\n",
       "      <td>53094.500000</td>\n",
       "      <td>3.078600e+06</td>\n",
       "      <td>53094.500000</td>\n",
       "    </tr>\n",
       "    <tr>\n",
       "      <th>50%</th>\n",
       "      <td>26.406666</td>\n",
       "      <td>25.799999</td>\n",
       "      <td>26.200001</td>\n",
       "      <td>26.066666</td>\n",
       "      <td>1.916430e+07</td>\n",
       "      <td>22.069450</td>\n",
       "      <td>66758.000000</td>\n",
       "      <td>65842.000000</td>\n",
       "      <td>66195.000000</td>\n",
       "      <td>66235.000000</td>\n",
       "      <td>3.658900e+06</td>\n",
       "      <td>66235.000000</td>\n",
       "    </tr>\n",
       "    <tr>\n",
       "      <th>75%</th>\n",
       "      <td>33.805000</td>\n",
       "      <td>33.021666</td>\n",
       "      <td>33.333332</td>\n",
       "      <td>33.423334</td>\n",
       "      <td>2.546842e+07</td>\n",
       "      <td>30.374873</td>\n",
       "      <td>86157.000000</td>\n",
       "      <td>84582.500000</td>\n",
       "      <td>85515.000000</td>\n",
       "      <td>85539.000000</td>\n",
       "      <td>4.389100e+06</td>\n",
       "      <td>85539.000000</td>\n",
       "    </tr>\n",
       "    <tr>\n",
       "      <th>max</th>\n",
       "      <td>39.790001</td>\n",
       "      <td>38.400002</td>\n",
       "      <td>38.669998</td>\n",
       "      <td>39.689999</td>\n",
       "      <td>1.049172e+08</td>\n",
       "      <td>36.209297</td>\n",
       "      <td>117803.000000</td>\n",
       "      <td>115995.000000</td>\n",
       "      <td>117205.000000</td>\n",
       "      <td>117203.000000</td>\n",
       "      <td>1.104670e+07</td>\n",
       "      <td>117203.000000</td>\n",
       "    </tr>\n",
       "  </tbody>\n",
       "</table>\n",
       "</div>"
      ]
     },
     "metadata": {},
     "execution_count": 7
    }
   ],
   "metadata": {
    "colab": {
     "base_uri": "https://localhost:8080/",
     "height": 338
    },
    "id": "n8LZIcI-QKBh",
    "outputId": "01288265-2104-4026-be9d-3d53283db9cf"
   }
  },
  {
   "cell_type": "code",
   "execution_count": 8,
   "source": [
    "data = df.filter([\"Close\"])\r\n",
    "dataset = data.values\r\n",
    "training_data_len = math.ceil(len(dataset) * .7)\r\n",
    "training_data_len\r\n",
    "dataset.shape"
   ],
   "outputs": [
    {
     "output_type": "execute_result",
     "data": {
      "text/plain": [
       "(1235, 4)"
      ]
     },
     "metadata": {},
     "execution_count": 8
    }
   ],
   "metadata": {
    "colab": {
     "base_uri": "https://localhost:8080/"
    },
    "id": "0zLbypzWtzci",
    "outputId": "73b04d20-c980-4d55-cf5c-412eb923c8c4"
   }
  },
  {
   "cell_type": "code",
   "execution_count": 9,
   "source": [
    "sc = MinMaxScaler(feature_range = (0, 1))\r\n",
    "scaled_data = sc.fit_transform(dataset)"
   ],
   "outputs": [],
   "metadata": {
    "id": "TAqmEmtyuB16"
   }
  },
  {
   "cell_type": "code",
   "execution_count": 10,
   "source": [
    "scaled_data"
   ],
   "outputs": [
    {
     "output_type": "execute_result",
     "data": {
      "text/plain": [
       "array([[0.18116023, 0.1978389 , 0.13819537, 0.26090145],\n",
       "       [0.1848036 , 0.2242948 , 0.12571199, 0.34997782],\n",
       "       [0.19659089, 0.2642615 , 0.13178431, 0.41272959],\n",
       "       ...,\n",
       "       [0.91092341, 0.1556761 , 1.        , 0.34298931],\n",
       "       [0.90703351, 0.12824685, 0.99160665, 0.35358071],\n",
       "       [0.89925385, 0.0879341 , 0.98445537, 0.33203581]])"
      ]
     },
     "metadata": {},
     "execution_count": 10
    }
   ],
   "metadata": {
    "colab": {
     "base_uri": "https://localhost:8080/"
    },
    "id": "1xCbxaHWuJFU",
    "outputId": "b403b055-16d9-4cf5-df3c-2d7a17e579ab"
   }
  },
  {
   "cell_type": "code",
   "execution_count": 11,
   "source": [
    "train_data = scaled_data[0:training_data_len,:]\r\n",
    "# print(train_data)\r\n",
    "window = 60\r\n",
    "X_train = []\r\n",
    "y_train = []\r\n",
    "for i in range(window, len(train_data)):\r\n",
    "    X_train.append(train_data[i-window:i,:])\r\n",
    "    y_train.append(train_data[i, 0:1])\r\n",
    "    # if i <= (window + 1):\r\n",
    "    #   print(X_train)\r\n",
    "    #   print(y_train)\r\n",
    "    #   print()\r\n",
    "X_train, y_train = np.array(X_train), np.array(y_train)"
   ],
   "outputs": [],
   "metadata": {
    "id": "dv_rZkU1uqlc"
   }
  },
  {
   "cell_type": "code",
   "execution_count": 12,
   "source": [
    "X_train.shape"
   ],
   "outputs": [
    {
     "output_type": "execute_result",
     "data": {
      "text/plain": [
       "(805, 60, 4)"
      ]
     },
     "metadata": {},
     "execution_count": 12
    }
   ],
   "metadata": {
    "colab": {
     "base_uri": "https://localhost:8080/"
    },
    "id": "AqkMLK-4uxzK",
    "outputId": "4cf68abf-5589-4057-9bf5-8e49efc91cce"
   }
  },
  {
   "cell_type": "code",
   "execution_count": 13,
   "source": [
    "X_train = np.reshape(X_train, (X_train.shape[0], X_train.shape[1], -1))"
   ],
   "outputs": [],
   "metadata": {
    "id": "jJ0aXnzAuy1C"
   }
  },
  {
   "cell_type": "code",
   "execution_count": 14,
   "source": [
    "X_train.shape"
   ],
   "outputs": [
    {
     "output_type": "execute_result",
     "data": {
      "text/plain": [
       "(805, 60, 4)"
      ]
     },
     "metadata": {},
     "execution_count": 14
    }
   ],
   "metadata": {
    "colab": {
     "base_uri": "https://localhost:8080/"
    },
    "id": "q03yzNLlu2on",
    "outputId": "d4d1d3cb-c876-4539-aee5-8b26dd6910bd"
   }
  },
  {
   "cell_type": "code",
   "execution_count": 15,
   "source": [
    "# Inicializar a RNN\r\n",
    "regressor = Sequential()\r\n",
    "\r\n",
    "# Adicionar a primeira camada LSTM e Dropout \r\n",
    "regressor.add(LSTM(units = 100, return_sequences = True, input_shape = (X_train.shape[1], X_train.shape[2])))\r\n",
    "regressor.add(Dropout(0.2))\r\n",
    " \r\n",
    "# Adicionar a segunda camada LSTM e Dropout\r\n",
    "regressor.add(LSTM(units = 80, return_sequences = True))\r\n",
    "regressor.add(Dropout(0.2))\r\n",
    " \r\n",
    "# Adicionar a terceira camada LSTM e Dropout\r\n",
    "regressor.add(LSTM(units = 50))\r\n",
    "regressor.add(Dropout(0.2))\r\n",
    " \r\n",
    "# camada de saída\r\n",
    "regressor.add(Dense(units = 1))\r\n",
    " \r\n",
    "# Compilar a rede\r\n",
    "regressor.compile(optimizer = 'adam', loss = 'mean_squared_error')\r\n",
    "\r\n",
    "# Visualizar a rede\r\n",
    "regressor.summary()"
   ],
   "outputs": [
    {
     "output_type": "stream",
     "name": "stdout",
     "text": [
      "Model: \"sequential\"\n",
      "_________________________________________________________________\n",
      "Layer (type)                 Output Shape              Param #   \n",
      "=================================================================\n",
      "lstm (LSTM)                  (None, 60, 100)           42000     \n",
      "_________________________________________________________________\n",
      "dropout (Dropout)            (None, 60, 100)           0         \n",
      "_________________________________________________________________\n",
      "lstm_1 (LSTM)                (None, 60, 80)            57920     \n",
      "_________________________________________________________________\n",
      "dropout_1 (Dropout)          (None, 60, 80)            0         \n",
      "_________________________________________________________________\n",
      "lstm_2 (LSTM)                (None, 50)                26200     \n",
      "_________________________________________________________________\n",
      "dropout_2 (Dropout)          (None, 50)                0         \n",
      "_________________________________________________________________\n",
      "dense (Dense)                (None, 1)                 51        \n",
      "=================================================================\n",
      "Total params: 126,171\n",
      "Trainable params: 126,171\n",
      "Non-trainable params: 0\n",
      "_________________________________________________________________\n"
     ]
    }
   ],
   "metadata": {
    "colab": {
     "base_uri": "https://localhost:8080/"
    },
    "id": "RkUoLngeu6aj",
    "outputId": "37c71118-6fa9-4a1a-d670-b194825f9fc8"
   }
  },
  {
   "cell_type": "code",
   "execution_count": 16,
   "source": [
    "history = regressor.fit(X_train, y_train, epochs = 50, batch_size = 64)"
   ],
   "outputs": [
    {
     "output_type": "stream",
     "name": "stdout",
     "text": [
      "Epoch 1/50\n",
      "13/13 [==============================] - 3s 202ms/step - loss: 0.0453\n",
      "Epoch 2/50\n",
      "13/13 [==============================] - 2s 187ms/step - loss: 0.0070\n",
      "Epoch 3/50\n",
      "13/13 [==============================] - 4s 317ms/step - loss: 0.0045\n",
      "Epoch 4/50\n",
      "13/13 [==============================] - 3s 264ms/step - loss: 0.0040\n",
      "Epoch 5/50\n",
      "13/13 [==============================] - 4s 318ms/step - loss: 0.0040\n",
      "Epoch 6/50\n",
      "13/13 [==============================] - 4s 314ms/step - loss: 0.0034\n",
      "Epoch 7/50\n",
      "13/13 [==============================] - 3s 202ms/step - loss: 0.0034\n",
      "Epoch 8/50\n",
      "13/13 [==============================] - 4s 319ms/step - loss: 0.0032\n",
      "Epoch 9/50\n",
      "13/13 [==============================] - 4s 287ms/step - loss: 0.0030\n",
      "Epoch 10/50\n",
      "13/13 [==============================] - 4s 318ms/step - loss: 0.0030\n",
      "Epoch 11/50\n",
      "13/13 [==============================] - 4s 302ms/step - loss: 0.0029\n",
      "Epoch 12/50\n",
      "13/13 [==============================] - 3s 266ms/step - loss: 0.0030\n",
      "Epoch 13/50\n",
      "13/13 [==============================] - 2s 188ms/step - loss: 0.0027\n",
      "Epoch 14/50\n",
      "13/13 [==============================] - 4s 272ms/step - loss: 0.0025\n",
      "Epoch 15/50\n",
      "13/13 [==============================] - 3s 245ms/step - loss: 0.0030\n",
      "Epoch 16/50\n",
      "13/13 [==============================] - 3s 215ms/step - loss: 0.0028\n",
      "Epoch 17/50\n",
      "13/13 [==============================] - 4s 294ms/step - loss: 0.0024\n",
      "Epoch 18/50\n",
      "13/13 [==============================] - 4s 315ms/step - loss: 0.0025\n",
      "Epoch 19/50\n",
      "13/13 [==============================] - 3s 241ms/step - loss: 0.0025\n",
      "Epoch 20/50\n",
      "13/13 [==============================] - 2s 188ms/step - loss: 0.0027\n",
      "Epoch 21/50\n",
      "13/13 [==============================] - 3s 227ms/step - loss: 0.0024\n",
      "Epoch 22/50\n",
      "13/13 [==============================] - 3s 269ms/step - loss: 0.0022\n",
      "Epoch 23/50\n",
      "13/13 [==============================] - 4s 316ms/step - loss: 0.0029\n",
      "Epoch 24/50\n",
      "13/13 [==============================] - 4s 317ms/step - loss: 0.0025\n",
      "Epoch 25/50\n",
      "13/13 [==============================] - 4s 271ms/step - loss: 0.0022\n",
      "Epoch 26/50\n",
      "13/13 [==============================] - 3s 254ms/step - loss: 0.0021\n",
      "Epoch 27/50\n",
      "13/13 [==============================] - 3s 243ms/step - loss: 0.0024\n",
      "Epoch 28/50\n",
      "13/13 [==============================] - 4s 298ms/step - loss: 0.0022\n",
      "Epoch 29/50\n",
      "13/13 [==============================] - 3s 244ms/step - loss: 0.0023\n",
      "Epoch 30/50\n",
      "13/13 [==============================] - 2s 184ms/step - loss: 0.0020\n",
      "Epoch 31/50\n",
      "13/13 [==============================] - 3s 221ms/step - loss: 0.0021\n",
      "Epoch 32/50\n",
      "13/13 [==============================] - 3s 260ms/step - loss: 0.0021\n",
      "Epoch 33/50\n",
      "13/13 [==============================] - 4s 323ms/step - loss: 0.0022\n",
      "Epoch 34/50\n",
      "13/13 [==============================] - 3s 229ms/step - loss: 0.0020\n",
      "Epoch 35/50\n",
      "13/13 [==============================] - 2s 187ms/step - loss: 0.0023\n",
      "Epoch 36/50\n",
      "13/13 [==============================] - 4s 272ms/step - loss: 0.0020\n",
      "Epoch 37/50\n",
      "13/13 [==============================] - 2s 185ms/step - loss: 0.0025\n",
      "Epoch 38/50\n",
      "13/13 [==============================] - 3s 247ms/step - loss: 0.0021\n",
      "Epoch 39/50\n",
      "13/13 [==============================] - 2s 190ms/step - loss: 0.0023\n",
      "Epoch 40/50\n",
      "13/13 [==============================] - 3s 209ms/step - loss: 0.0022\n",
      "Epoch 41/50\n",
      "13/13 [==============================] - 3s 232ms/step - loss: 0.0021\n",
      "Epoch 42/50\n",
      "13/13 [==============================] - 2s 189ms/step - loss: 0.0022\n",
      "Epoch 43/50\n",
      "13/13 [==============================] - 2s 181ms/step - loss: 0.0022\n",
      "Epoch 44/50\n",
      "13/13 [==============================] - 3s 199ms/step - loss: 0.0020\n",
      "Epoch 45/50\n",
      "13/13 [==============================] - 2s 187ms/step - loss: 0.0022\n",
      "Epoch 46/50\n",
      "13/13 [==============================] - 2s 187ms/step - loss: 0.0019\n",
      "Epoch 47/50\n",
      "13/13 [==============================] - 2s 190ms/step - loss: 0.0019\n",
      "Epoch 48/50\n",
      "13/13 [==============================] - 3s 194ms/step - loss: 0.0019\n",
      "Epoch 49/50\n",
      "13/13 [==============================] - 3s 262ms/step - loss: 0.0019\n",
      "Epoch 50/50\n",
      "13/13 [==============================] - 2s 188ms/step - loss: 0.0018\n"
     ]
    }
   ],
   "metadata": {
    "colab": {
     "base_uri": "https://localhost:8080/"
    },
    "id": "90uaYsDwu9FU",
    "outputId": "c457caad-350b-44ca-a84f-8224a818c20f"
   }
  },
  {
   "cell_type": "code",
   "execution_count": 17,
   "source": [
    "plt.plot(history.history['loss'], label='treino')\r\n",
    "plt.legend();"
   ],
   "outputs": [
    {
     "output_type": "display_data",
     "data": {
      "text/plain": [
       "<Figure size 432x288 with 1 Axes>"
      ],
      "image/png": "[encoded data removed]"
     },
     "metadata": {
      "needs_background": "light"
     }
    }
   ],
   "metadata": {
    "colab": {
     "base_uri": "https://localhost:8080/",
     "height": 265
    },
    "id": "amW1km16u_lf",
    "outputId": "d3deba25-c6cf-405f-8275-544a334004fb"
   }
  },
  {
   "cell_type": "code",
   "execution_count": 18,
   "source": [
    "test_data = scaled_data[training_data_len - window:, :]\r\n",
    "\r\n",
    "X_test = []\r\n",
    "y_test = dataset[training_data_len:, 0:1]\r\n",
    "\r\n",
    "for i in range(window, len(test_data)): \r\n",
    "    X_test.append(test_data[i-window:i,:])\r\n",
    "X_test = np.array(X_test)\r\n",
    "\r\n",
    "X_test = np.reshape(X_test, (X_test.shape[0], X_test.shape[1], -1))\r\n",
    "print(X_test.shape, X_train.shape)"
   ],
   "outputs": [
    {
     "output_type": "stream",
     "name": "stdout",
     "text": [
      "(370, 60, 4) (805, 60, 4)\n"
     ]
    }
   ],
   "metadata": {
    "colab": {
     "base_uri": "https://localhost:8080/"
    },
    "id": "vPJyp8suvC7_",
    "outputId": "16dd5766-93aa-4382-af1e-090e1dd4442c"
   }
  },
  {
   "cell_type": "code",
   "execution_count": 19,
   "source": [
    "predicted = regressor.predict(X_test)\r\n",
    "volume = dataset[training_data_len:, 1:]\r\n",
    "predicted = np.column_stack((predicted, volume))\r\n",
    "# print(dataset[:,1:])\r\n",
    "print(predicted.shape)\r\n",
    "predicted = sc.inverse_transform(predicted)\r\n",
    "print(predicted)"
   ],
   "outputs": [
    {
     "output_type": "stream",
     "name": "stdout",
     "text": [
      "(370, 4)\n",
      "[[2.58969329e+01 2.63220468e+15 5.79968518e+09 4.28545680e+13]\n",
      " [2.60652560e+01 1.20063572e+15 5.80582254e+09 3.04215071e+13]\n",
      " [2.62712712e+01 1.53408356e+15 5.87181911e+09 3.59437525e+13]\n",
      " ...\n",
      " [3.66244314e+01 1.71362312e+15 9.34181982e+09 4.18548416e+13]\n",
      " [3.67802078e+01 1.41169240e+15 9.28849650e+09 4.31473055e+13]\n",
      " [3.69930419e+01 9.67945104e+14 9.24306408e+09 4.05181909e+13]]\n"
     ]
    }
   ],
   "metadata": {
    "colab": {
     "base_uri": "https://localhost:8080/"
    },
    "id": "L9MB4ux0vIPR",
    "outputId": "4c3968f2-6e13-40a4-db86-d80a455dfab3"
   }
  },
  {
   "cell_type": "code",
   "execution_count": 20,
   "source": [
    "allTargetData = np.vstack((dataset[:training_data_len, 0:1], dataset[training_data_len:, 0:1]))\r\n",
    "training_predicted = regressor.predict(X_train)\r\n",
    "volume = dataset[:len(X_train), 1:]\r\n",
    "training_predicted = np.column_stack((training_predicted, volume))\r\n",
    "training_predicted = sc.inverse_transform(training_predicted)\r\n",
    "allForecastedData = np.vstack((dataset[0:window, 0:1], training_predicted[:,0:1], predicted[:,0:1]))\r\n",
    "# date = df['DATA']\r\n",
    "date = df.index\r\n",
    "\r\n",
    "figure(figsize=(20, 6), dpi=80)\r\n",
    "plt.plot(date, allForecastedData, color = 'red', label = 'Previsto')\r\n",
    "plt.plot(date, allTargetData, color = 'blue', label = 'Real')\r\n",
    "plt.title('Previsão de série temporal')\r\n",
    "plt.xlabel('Tempo')\r\n",
    "plt.ylabel('Cotação (R$)')\r\n",
    "plt.legend()\r\n",
    "plt.show()"
   ],
   "outputs": [
    {
     "output_type": "display_data",
     "data": {
      "text/plain": [
       "<Figure size 1600x480 with 1 Axes>"
      ],
      "image/png": "[encoded data removed]"
     },
     "metadata": {
      "needs_background": "light"
     }
    }
   ],
   "metadata": {
    "colab": {
     "base_uri": "https://localhost:8080/",
     "height": 426
    },
    "id": "3G7e6HV4vMej",
    "outputId": "d905cc53-0c34-4e95-bc96-7195b641a497"
   }
  },
  {
   "cell_type": "code",
   "execution_count": 21,
   "source": [
    "rmse = math.sqrt(mean_squared_error(dataset[training_data_len:, 0:1], predicted[:,0:1]))\r\n",
    "print('RMSE: ', rmse)"
   ],
   "outputs": [
    {
     "output_type": "stream",
     "name": "stdout",
     "text": [
      "RMSE:  1.1212143562763637\n"
     ]
    }
   ],
   "metadata": {
    "colab": {
     "base_uri": "https://localhost:8080/"
    },
    "id": "4CCLiPM8vO5U",
    "outputId": "50f90759-af2d-454e-d5d2-631db094c9da"
   }
  },
  {
   "cell_type": "code",
   "execution_count": 22,
   "source": [
    "mse = mean_squared_error(dataset[training_data_len:, 0:1], predicted[:,0:1])\r\n",
    "print('MSE: ',mse)"
   ],
   "outputs": [
    {
     "output_type": "stream",
     "name": "stdout",
     "text": [
      "MSE:  1.2571216327202204\n"
     ]
    }
   ],
   "metadata": {
    "colab": {
     "base_uri": "https://localhost:8080/"
    },
    "id": "dWEFnqylvQiy",
    "outputId": "ebdcd19b-ecfb-4c00-9488-f2b82f53b4b9"
   }
  },
  {
   "cell_type": "code",
   "execution_count": 23,
   "source": [
    "mape = np.mean(np.abs((dataset[training_data_len:, 0:1]-predicted[:,0:1]) /dataset[training_data_len:, 0:1])) * 100\r\n",
    "print('MAPE: ',mape, '%')"
   ],
   "outputs": [
    {
     "output_type": "stream",
     "name": "stdout",
     "text": [
      "MAPE:  2.6726699642654057 %\n"
     ]
    }
   ],
   "metadata": {
    "colab": {
     "base_uri": "https://localhost:8080/"
    },
    "id": "-PC8KlwwvRum",
    "outputId": "634c896f-3156-4cf0-f111-a18ea5500aff"
   }
  },
  {
   "cell_type": "code",
   "execution_count": 24,
   "source": [
    "print('R2: ', r2_score(predicted[:,0:1], dataset[training_data_len:, 0:1]))"
   ],
   "outputs": [
    {
     "output_type": "stream",
     "name": "stdout",
     "text": [
      "R2:  0.8246577801087154\n"
     ]
    }
   ],
   "metadata": {
    "colab": {
     "base_uri": "https://localhost:8080/"
    },
    "id": "Hi7q3c9OvTI_",
    "outputId": "c676c006-4a99-4ac9-8ff8-3ae63f9ade56"
   }
  },
  {
   "cell_type": "code",
   "execution_count": 25,
   "source": [
    "scaled_data = scaled_data\r\n",
    "window = 60\r\n",
    "X_data = []\r\n",
    "y_data = []\r\n",
    "for i in range(window, len(scaled_data)):\r\n",
    "    X_data.append(scaled_data[i-window:i,:])\r\n",
    "    y_data.append(scaled_data[i, 0:1])\r\n",
    "X_data, y_data = np.array(X_data), np.array(y_data)\r\n",
    "history = regressor.fit(X_data, y_data, epochs = 50, batch_size = 64)"
   ],
   "outputs": [
    {
     "output_type": "stream",
     "name": "stdout",
     "text": [
      "Epoch 1/50\n",
      "19/19 [==============================] - 4s 195ms/step - loss: 0.0032\n",
      "Epoch 2/50\n",
      "19/19 [==============================] - 4s 194ms/step - loss: 0.0029\n",
      "Epoch 3/50\n",
      "19/19 [==============================] - 4s 220ms/step - loss: 0.0034\n",
      "Epoch 4/50\n",
      "19/19 [==============================] - 4s 197ms/step - loss: 0.0038\n",
      "Epoch 5/50\n",
      "19/19 [==============================] - 3s 184ms/step - loss: 0.0038\n",
      "Epoch 6/50\n",
      "19/19 [==============================] - 5s 238ms/step - loss: 0.0031\n",
      "Epoch 7/50\n",
      "19/19 [==============================] - 4s 207ms/step - loss: 0.0030\n",
      "Epoch 8/50\n",
      "19/19 [==============================] - 4s 200ms/step - loss: 0.0030\n",
      "Epoch 9/50\n",
      "19/19 [==============================] - 4s 213ms/step - loss: 0.0030\n",
      "Epoch 10/50\n",
      "19/19 [==============================] - 4s 201ms/step - loss: 0.0030\n",
      "Epoch 11/50\n",
      "19/19 [==============================] - 4s 211ms/step - loss: 0.0033\n",
      "Epoch 12/50\n",
      "19/19 [==============================] - 4s 219ms/step - loss: 0.0033\n",
      "Epoch 13/50\n",
      "19/19 [==============================] - 4s 200ms/step - loss: 0.0027\n",
      "Epoch 14/50\n",
      "19/19 [==============================] - 4s 212ms/step - loss: 0.0028\n",
      "Epoch 15/50\n",
      "19/19 [==============================] - 4s 227ms/step - loss: 0.0026\n",
      "Epoch 16/50\n",
      "19/19 [==============================] - 4s 199ms/step - loss: 0.0029\n",
      "Epoch 17/50\n",
      "19/19 [==============================] - 4s 193ms/step - loss: 0.0027\n",
      "Epoch 18/50\n",
      "19/19 [==============================] - 4s 196ms/step - loss: 0.0025\n",
      "Epoch 19/50\n",
      "19/19 [==============================] - 4s 217ms/step - loss: 0.0026\n",
      "Epoch 20/50\n",
      "19/19 [==============================] - 4s 195ms/step - loss: 0.0024\n",
      "Epoch 21/50\n",
      "19/19 [==============================] - 4s 194ms/step - loss: 0.0026\n",
      "Epoch 22/50\n",
      "19/19 [==============================] - 4s 194ms/step - loss: 0.0030\n",
      "Epoch 23/50\n",
      "19/19 [==============================] - 4s 194ms/step - loss: 0.0026\n",
      "Epoch 24/50\n",
      "19/19 [==============================] - 4s 193ms/step - loss: 0.0027\n",
      "Epoch 25/50\n",
      "19/19 [==============================] - 4s 201ms/step - loss: 0.0026\n",
      "Epoch 26/50\n",
      "19/19 [==============================] - 4s 199ms/step - loss: 0.0030\n",
      "Epoch 27/50\n",
      "19/19 [==============================] - 4s 211ms/step - loss: 0.0022\n",
      "Epoch 28/50\n",
      "19/19 [==============================] - 4s 196ms/step - loss: 0.0023\n",
      "Epoch 29/50\n",
      "19/19 [==============================] - 4s 206ms/step - loss: 0.0023\n",
      "Epoch 30/50\n",
      "19/19 [==============================] - 4s 194ms/step - loss: 0.0023\n",
      "Epoch 31/50\n",
      "19/19 [==============================] - 4s 189ms/step - loss: 0.0024\n",
      "Epoch 32/50\n",
      "19/19 [==============================] - 4s 195ms/step - loss: 0.0023\n",
      "Epoch 33/50\n",
      "19/19 [==============================] - 4s 191ms/step - loss: 0.0024\n",
      "Epoch 34/50\n",
      "19/19 [==============================] - 4s 193ms/step - loss: 0.0022\n",
      "Epoch 35/50\n",
      "19/19 [==============================] - 4s 203ms/step - loss: 0.0025\n",
      "Epoch 36/50\n",
      "19/19 [==============================] - 5s 244ms/step - loss: 0.0024\n",
      "Epoch 37/50\n",
      "19/19 [==============================] - 4s 217ms/step - loss: 0.0022\n",
      "Epoch 38/50\n",
      "19/19 [==============================] - 4s 205ms/step - loss: 0.0019\n",
      "Epoch 39/50\n",
      "19/19 [==============================] - 4s 204ms/step - loss: 0.0019\n",
      "Epoch 40/50\n",
      "19/19 [==============================] - 4s 212ms/step - loss: 0.0021\n",
      "Epoch 41/50\n",
      "19/19 [==============================] - 4s 210ms/step - loss: 0.0021\n",
      "Epoch 42/50\n",
      "19/19 [==============================] - 4s 201ms/step - loss: 0.0023\n",
      "Epoch 43/50\n",
      "19/19 [==============================] - 4s 201ms/step - loss: 0.0021\n",
      "Epoch 44/50\n",
      "19/19 [==============================] - 4s 198ms/step - loss: 0.0020\n",
      "Epoch 45/50\n",
      "19/19 [==============================] - 4s 194ms/step - loss: 0.0018\n",
      "Epoch 46/50\n",
      "19/19 [==============================] - 4s 195ms/step - loss: 0.0022\n",
      "Epoch 47/50\n",
      "19/19 [==============================] - 4s 192ms/step - loss: 0.0021\n",
      "Epoch 48/50\n",
      "19/19 [==============================] - 4s 188ms/step - loss: 0.0021\n",
      "Epoch 49/50\n",
      "19/19 [==============================] - 4s 194ms/step - loss: 0.0020\n",
      "Epoch 50/50\n",
      "19/19 [==============================] - 4s 191ms/step - loss: 0.0019\n"
     ]
    }
   ],
   "metadata": {
    "id": "-5B0mpI-t-yK"
   }
  },
  {
   "cell_type": "code",
   "execution_count": 26,
   "source": [
    "predicted = regressor.predict(X_data)\n",
    "print(predicted)\n",
    "volume = dataset[:len(X_data), 1:]\n",
    "predicted = np.column_stack((predicted, volume))\n",
    "predicted = sc.inverse_transform(predicted)\n",
    "allForecastedData = predicted[:,0:1]\n",
    "# date = df['DATA']\n",
    "date = df.index\n",
    "print(dataset.shape)\n",
    "print(predicted.shape)\n",
    "figure(figsize=(20, 6), dpi=80)\n",
    "plt.plot(dataset[window:, 0:1], color = 'red', label = 'Previsto')\n",
    "plt.plot(predicted[:,0:1], color = 'blue', label = 'Real')\n",
    "plt.title('Previsão de série temporal')\n",
    "plt.xlabel('Tempo')\n",
    "plt.ylabel('Cotação (R$)')\n",
    "plt.legend()\n",
    "plt.show()"
   ],
   "outputs": [
    {
     "output_type": "stream",
     "name": "stdout",
     "text": [
      "[[0.19847703]\n",
      " [0.19286484]\n",
      " [0.19161472]\n",
      " ...\n",
      " [0.85642874]\n",
      " [0.8664247 ]\n",
      " [0.87531585]]\n",
      "(1235, 4)\n",
      "(1175, 4)\n"
     ]
    },
    {
     "output_type": "display_data",
     "data": {
      "text/plain": [
       "<Figure size 1600x480 with 1 Axes>"
      ],
      "image/png": "[encoded data removed]"
     },
     "metadata": {
      "needs_background": "light"
     }
    }
   ],
   "metadata": {
    "id": "E1LL5KM8vlrC"
   }
  },
  {
   "cell_type": "code",
   "execution_count": 27,
   "source": [
    "from datetime import date, datetime, timedelta\n",
    "today = datetime.today()\n",
    "today_minus_100 = today - timedelta(days=100)\n",
    "df_new = web.DataReader(\"PETR4.SA\", data_source=\"yahoo\", start=today_minus_100, end=today)\n",
    "df_bovespa_new = web.DataReader(\"^BVSP\", data_source=\"yahoo\", start=today_minus_100, end=today)\n",
    "df_dolar_new = web.DataReader(\"USDBRL=X\", data_source=\"yahoo\", start=today_minus_100, end=today)\n",
    "df_new = df_new.merge(df_bovespa_new, left_on='Date', right_on='Date', suffixes=('', '_bovespa'))\n",
    "df_new = df_new.merge(df_dolar_new, left_on='Date', right_on='Date', suffixes=('', '_dolar'))\n",
    "df_new = df_new.filter([\"Close\", \"Volume\", \"Close_bovespa\", \"Volume_bovespa\"])\n",
    "\n",
    "print(df_new.tail())\n",
    "last_days = df_new.values\n",
    "scaled = sc.transform(last_days)\n",
    "x = []\n",
    "x.append(scaled)\n",
    "x = np.array(x)\n",
    "x = np.reshape(x, (x.shape[0], x.shape[1], -1))\n",
    "pred_price = regressor.predict(x)\n",
    "volume_new = last_days[0:1, 1:]\n",
    "pred_price = np.column_stack((pred_price, volume_new))\n",
    "pred_price = sc.inverse_transform(pred_price)\n",
    "print(pred_price[0][0])"
   ],
   "outputs": [
    {
     "output_type": "stream",
     "name": "stdout",
     "text": [
      "                Close     Volume  Close_bovespa  Volume_bovespa\n",
      "Date                                                           \n",
      "2021-07-29  27.809999   43916600         125675         7488400\n",
      "2021-08-02  26.410000   70528800         122516         8565400\n",
      "2021-08-03  26.850000   71850400         123577         9391300\n",
      "2021-08-04  26.280001   87970600         121801         9164200\n",
      "2021-08-05  28.350000  223915900         121633        10913000\n",
      "WARNING:tensorflow:Model was constructed with shape (None, 60, 4) for input Tensor(\"lstm_input:0\", shape=(None, 60, 4), dtype=float32), but it was called on an input with incompatible shape (None, 55, 4).\n",
      "28.16294646735855\n"
     ]
    }
   ],
   "metadata": {
    "id": "CtRI0NBrzz4D"
   }
  }
 ],
 "metadata": {
  "colab": {
   "collapsed_sections": [],
   "name": "V1 LSTM.ipynb",
   "provenance": []
  },
  "interpreter": {
   "hash": "e9d26aef1b45c2698ea6efe547ad5d4a29e612063653693e2b8c59ffe1c6a0ee"
  },
  "kernelspec": {
   "name": "python3",
   "display_name": "Python 3.8.7 64-bit"
  },
  "language_info": {
   "codemirror_mode": {
    "name": "ipython",
    "version": 3
   },
   "file_extension": ".py",
   "mimetype": "text/x-python",
   "name": "python",
   "nbconvert_exporter": "python",
   "pygments_lexer": "ipython3",
   "version": "3.8.7"
  }
 },
 "nbformat": 4,
 "nbformat_minor": 1
}