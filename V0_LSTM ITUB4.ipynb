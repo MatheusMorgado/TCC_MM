{
 "cells": [
  {
   "cell_type": "code",
   "execution_count": 1,
   "source": [
    "import numpy as np\r\n",
    "import pandas_datareader as web\r\n",
    "import pandas as pd\r\n",
    "import seaborn as sns\r\n",
    "import matplotlib.pyplot as plt\r\n",
    "import math\r\n",
    "from matplotlib.pyplot import figure\r\n",
    "from sklearn.preprocessing import MinMaxScaler, StandardScaler\r\n",
    "from sklearn.metrics import mean_squared_error\r\n",
    "from sklearn.metrics import r2_score\r\n",
    "from tensorflow import keras \r\n",
    "# from keras.models import Sequential\r\n",
    "# from keras.layers import Dense\r\n",
    "# from keras.layers import LSTM\r\n",
    "# from keras.layers import Dropout\r\n"
   ],
   "outputs": [],
   "metadata": {
    "id": "WXZs1haGNdYv"
   }
  },
  {
   "cell_type": "code",
   "execution_count": 2,
   "source": [
    "Sequential = keras.models.Sequential\r\n",
    "Dense = keras.layers.Dense\r\n",
    "LSTM = keras.layers.LSTM\r\n",
    "Dropout = keras.layers.Dropout"
   ],
   "outputs": [],
   "metadata": {}
  },
  {
   "cell_type": "code",
   "execution_count": 3,
   "source": [
    "df = web.DataReader(\"ITUB4.SA\", data_source=\"yahoo\", start=\"2015-01-01\", end=\"2019-12-31\")\r\n",
    "df"
   ],
   "outputs": [
    {
     "output_type": "execute_result",
     "data": {
      "text/plain": [
       "                 High        Low       Open      Close      Volume  Adj Close\n",
       "Date                                                                         \n",
       "2015-01-02  19.179064  18.468319  18.870523  18.639118  20756703.0  13.784585\n",
       "2015-01-05  18.925619  18.203856  18.347107  18.732782  23532382.0  13.853848\n",
       "2015-01-06  19.035812  18.528925  18.732782  19.035812  27725577.0  14.077969\n",
       "2015-01-07  20.022038  19.283747  19.283747  19.724518  23601897.0  14.587290\n",
       "2015-01-08  20.110191  19.404959  19.834709  20.033056  21403024.0  14.815473\n",
       "...               ...        ...        ...        ...         ...        ...\n",
       "2019-12-20  36.700001  36.299999  36.630001  36.500000  24863500.0  34.860207\n",
       "2019-12-23  36.840000  36.310001  36.500000  36.840000  11691500.0  35.184940\n",
       "2019-12-26  37.400002  36.650002  36.799999  37.400002  16333100.0  35.719776\n",
       "2019-12-27  37.689999  36.910000  37.500000  37.299999  13455300.0  35.624268\n",
       "2019-12-30  37.590000  36.860001  37.340000  37.099998   9225800.0  35.433250\n",
       "\n",
       "[1241 rows x 6 columns]"
      ],
      "text/html": [
       "<div>\n",
       "<style scoped>\n",
       "    .dataframe tbody tr th:only-of-type {\n",
       "        vertical-align: middle;\n",
       "    }\n",
       "\n",
       "    .dataframe tbody tr th {\n",
       "        vertical-align: top;\n",
       "    }\n",
       "\n",
       "    .dataframe thead th {\n",
       "        text-align: right;\n",
       "    }\n",
       "</style>\n",
       "<table border=\"1\" class=\"dataframe\">\n",
       "  <thead>\n",
       "    <tr style=\"text-align: right;\">\n",
       "      <th></th>\n",
       "      <th>High</th>\n",
       "      <th>Low</th>\n",
       "      <th>Open</th>\n",
       "      <th>Close</th>\n",
       "      <th>Volume</th>\n",
       "      <th>Adj Close</th>\n",
       "    </tr>\n",
       "    <tr>\n",
       "      <th>Date</th>\n",
       "      <th></th>\n",
       "      <th></th>\n",
       "      <th></th>\n",
       "      <th></th>\n",
       "      <th></th>\n",
       "      <th></th>\n",
       "    </tr>\n",
       "  </thead>\n",
       "  <tbody>\n",
       "    <tr>\n",
       "      <th>2015-01-02</th>\n",
       "      <td>19.179064</td>\n",
       "      <td>18.468319</td>\n",
       "      <td>18.870523</td>\n",
       "      <td>18.639118</td>\n",
       "      <td>20756703.0</td>\n",
       "      <td>13.784585</td>\n",
       "    </tr>\n",
       "    <tr>\n",
       "      <th>2015-01-05</th>\n",
       "      <td>18.925619</td>\n",
       "      <td>18.203856</td>\n",
       "      <td>18.347107</td>\n",
       "      <td>18.732782</td>\n",
       "      <td>23532382.0</td>\n",
       "      <td>13.853848</td>\n",
       "    </tr>\n",
       "    <tr>\n",
       "      <th>2015-01-06</th>\n",
       "      <td>19.035812</td>\n",
       "      <td>18.528925</td>\n",
       "      <td>18.732782</td>\n",
       "      <td>19.035812</td>\n",
       "      <td>27725577.0</td>\n",
       "      <td>14.077969</td>\n",
       "    </tr>\n",
       "    <tr>\n",
       "      <th>2015-01-07</th>\n",
       "      <td>20.022038</td>\n",
       "      <td>19.283747</td>\n",
       "      <td>19.283747</td>\n",
       "      <td>19.724518</td>\n",
       "      <td>23601897.0</td>\n",
       "      <td>14.587290</td>\n",
       "    </tr>\n",
       "    <tr>\n",
       "      <th>2015-01-08</th>\n",
       "      <td>20.110191</td>\n",
       "      <td>19.404959</td>\n",
       "      <td>19.834709</td>\n",
       "      <td>20.033056</td>\n",
       "      <td>21403024.0</td>\n",
       "      <td>14.815473</td>\n",
       "    </tr>\n",
       "    <tr>\n",
       "      <th>...</th>\n",
       "      <td>...</td>\n",
       "      <td>...</td>\n",
       "      <td>...</td>\n",
       "      <td>...</td>\n",
       "      <td>...</td>\n",
       "      <td>...</td>\n",
       "    </tr>\n",
       "    <tr>\n",
       "      <th>2019-12-20</th>\n",
       "      <td>36.700001</td>\n",
       "      <td>36.299999</td>\n",
       "      <td>36.630001</td>\n",
       "      <td>36.500000</td>\n",
       "      <td>24863500.0</td>\n",
       "      <td>34.860207</td>\n",
       "    </tr>\n",
       "    <tr>\n",
       "      <th>2019-12-23</th>\n",
       "      <td>36.840000</td>\n",
       "      <td>36.310001</td>\n",
       "      <td>36.500000</td>\n",
       "      <td>36.840000</td>\n",
       "      <td>11691500.0</td>\n",
       "      <td>35.184940</td>\n",
       "    </tr>\n",
       "    <tr>\n",
       "      <th>2019-12-26</th>\n",
       "      <td>37.400002</td>\n",
       "      <td>36.650002</td>\n",
       "      <td>36.799999</td>\n",
       "      <td>37.400002</td>\n",
       "      <td>16333100.0</td>\n",
       "      <td>35.719776</td>\n",
       "    </tr>\n",
       "    <tr>\n",
       "      <th>2019-12-27</th>\n",
       "      <td>37.689999</td>\n",
       "      <td>36.910000</td>\n",
       "      <td>37.500000</td>\n",
       "      <td>37.299999</td>\n",
       "      <td>13455300.0</td>\n",
       "      <td>35.624268</td>\n",
       "    </tr>\n",
       "    <tr>\n",
       "      <th>2019-12-30</th>\n",
       "      <td>37.590000</td>\n",
       "      <td>36.860001</td>\n",
       "      <td>37.340000</td>\n",
       "      <td>37.099998</td>\n",
       "      <td>9225800.0</td>\n",
       "      <td>35.433250</td>\n",
       "    </tr>\n",
       "  </tbody>\n",
       "</table>\n",
       "<p>1241 rows × 6 columns</p>\n",
       "</div>"
      ]
     },
     "metadata": {},
     "execution_count": 3
    }
   ],
   "metadata": {
    "colab": {
     "base_uri": "https://localhost:8080/",
     "height": 455
    },
    "id": "ZLE4oRySNhEC",
    "outputId": "c43e9a74-043b-4b03-d1f6-e1f14cf45aac"
   }
  },
  {
   "cell_type": "code",
   "execution_count": 4,
   "source": [
    "df.shape"
   ],
   "outputs": [
    {
     "output_type": "execute_result",
     "data": {
      "text/plain": [
       "(1241, 6)"
      ]
     },
     "metadata": {},
     "execution_count": 4
    }
   ],
   "metadata": {
    "colab": {
     "base_uri": "https://localhost:8080/"
    },
    "id": "U0BBIen7Njpc",
    "outputId": "40f52750-b211-4ffa-dafc-5973e971e4a6"
   }
  },
  {
   "cell_type": "code",
   "execution_count": 5,
   "source": [
    "df_bovespa = web.DataReader(\"^BVSP\", data_source=\"yahoo\", start=\"2015-01-01\", end=\"2019-12-31\")\r\n",
    "# df_bovespa.reset_index(inplace=True,drop=False)\r\n",
    "df_bovespa"
   ],
   "outputs": [
    {
     "output_type": "execute_result",
     "data": {
      "text/plain": [
       "                High       Low      Open     Close     Volume  Adj Close\n",
       "Date                                                                    \n",
       "2015-01-02   50005.0   48345.0   50005.0   48512.0  2882100.0    48512.0\n",
       "2015-01-05   48512.0   47264.0   48512.0   47517.0  3866100.0    47517.0\n",
       "2015-01-06   48061.0   47338.0   47517.0   48001.0  4559300.0    48001.0\n",
       "2015-01-07   49882.0   48006.0   48006.0   49463.0  4408800.0    49463.0\n",
       "2015-01-08   50261.0   49017.0   49463.0   49943.0  3621900.0    49943.0\n",
       "...              ...       ...       ...       ...        ...        ...\n",
       "2019-12-20  115171.0  114526.0  115133.0  115121.0  6887400.0   115121.0\n",
       "2019-12-23  115863.0  114964.0  115119.0  115863.0  3995200.0   115863.0\n",
       "2019-12-26  117220.0  115673.0  115864.0  117203.0  3788900.0   117203.0\n",
       "2019-12-27  117803.0  115995.0  117205.0  116534.0  3905900.0   116534.0\n",
       "2019-12-30  117086.0  115790.0  116530.0  115964.0  3667900.0   115964.0\n",
       "\n",
       "[1235 rows x 6 columns]"
      ],
      "text/html": [
       "<div>\n",
       "<style scoped>\n",
       "    .dataframe tbody tr th:only-of-type {\n",
       "        vertical-align: middle;\n",
       "    }\n",
       "\n",
       "    .dataframe tbody tr th {\n",
       "        vertical-align: top;\n",
       "    }\n",
       "\n",
       "    .dataframe thead th {\n",
       "        text-align: right;\n",
       "    }\n",
       "</style>\n",
       "<table border=\"1\" class=\"dataframe\">\n",
       "  <thead>\n",
       "    <tr style=\"text-align: right;\">\n",
       "      <th></th>\n",
       "      <th>High</th>\n",
       "      <th>Low</th>\n",
       "      <th>Open</th>\n",
       "      <th>Close</th>\n",
       "      <th>Volume</th>\n",
       "      <th>Adj Close</th>\n",
       "    </tr>\n",
       "    <tr>\n",
       "      <th>Date</th>\n",
       "      <th></th>\n",
       "      <th></th>\n",
       "      <th></th>\n",
       "      <th></th>\n",
       "      <th></th>\n",
       "      <th></th>\n",
       "    </tr>\n",
       "  </thead>\n",
       "  <tbody>\n",
       "    <tr>\n",
       "      <th>2015-01-02</th>\n",
       "      <td>50005.0</td>\n",
       "      <td>48345.0</td>\n",
       "      <td>50005.0</td>\n",
       "      <td>48512.0</td>\n",
       "      <td>2882100.0</td>\n",
       "      <td>48512.0</td>\n",
       "    </tr>\n",
       "    <tr>\n",
       "      <th>2015-01-05</th>\n",
       "      <td>48512.0</td>\n",
       "      <td>47264.0</td>\n",
       "      <td>48512.0</td>\n",
       "      <td>47517.0</td>\n",
       "      <td>3866100.0</td>\n",
       "      <td>47517.0</td>\n",
       "    </tr>\n",
       "    <tr>\n",
       "      <th>2015-01-06</th>\n",
       "      <td>48061.0</td>\n",
       "      <td>47338.0</td>\n",
       "      <td>47517.0</td>\n",
       "      <td>48001.0</td>\n",
       "      <td>4559300.0</td>\n",
       "      <td>48001.0</td>\n",
       "    </tr>\n",
       "    <tr>\n",
       "      <th>2015-01-07</th>\n",
       "      <td>49882.0</td>\n",
       "      <td>48006.0</td>\n",
       "      <td>48006.0</td>\n",
       "      <td>49463.0</td>\n",
       "      <td>4408800.0</td>\n",
       "      <td>49463.0</td>\n",
       "    </tr>\n",
       "    <tr>\n",
       "      <th>2015-01-08</th>\n",
       "      <td>50261.0</td>\n",
       "      <td>49017.0</td>\n",
       "      <td>49463.0</td>\n",
       "      <td>49943.0</td>\n",
       "      <td>3621900.0</td>\n",
       "      <td>49943.0</td>\n",
       "    </tr>\n",
       "    <tr>\n",
       "      <th>...</th>\n",
       "      <td>...</td>\n",
       "      <td>...</td>\n",
       "      <td>...</td>\n",
       "      <td>...</td>\n",
       "      <td>...</td>\n",
       "      <td>...</td>\n",
       "    </tr>\n",
       "    <tr>\n",
       "      <th>2019-12-20</th>\n",
       "      <td>115171.0</td>\n",
       "      <td>114526.0</td>\n",
       "      <td>115133.0</td>\n",
       "      <td>115121.0</td>\n",
       "      <td>6887400.0</td>\n",
       "      <td>115121.0</td>\n",
       "    </tr>\n",
       "    <tr>\n",
       "      <th>2019-12-23</th>\n",
       "      <td>115863.0</td>\n",
       "      <td>114964.0</td>\n",
       "      <td>115119.0</td>\n",
       "      <td>115863.0</td>\n",
       "      <td>3995200.0</td>\n",
       "      <td>115863.0</td>\n",
       "    </tr>\n",
       "    <tr>\n",
       "      <th>2019-12-26</th>\n",
       "      <td>117220.0</td>\n",
       "      <td>115673.0</td>\n",
       "      <td>115864.0</td>\n",
       "      <td>117203.0</td>\n",
       "      <td>3788900.0</td>\n",
       "      <td>117203.0</td>\n",
       "    </tr>\n",
       "    <tr>\n",
       "      <th>2019-12-27</th>\n",
       "      <td>117803.0</td>\n",
       "      <td>115995.0</td>\n",
       "      <td>117205.0</td>\n",
       "      <td>116534.0</td>\n",
       "      <td>3905900.0</td>\n",
       "      <td>116534.0</td>\n",
       "    </tr>\n",
       "    <tr>\n",
       "      <th>2019-12-30</th>\n",
       "      <td>117086.0</td>\n",
       "      <td>115790.0</td>\n",
       "      <td>116530.0</td>\n",
       "      <td>115964.0</td>\n",
       "      <td>3667900.0</td>\n",
       "      <td>115964.0</td>\n",
       "    </tr>\n",
       "  </tbody>\n",
       "</table>\n",
       "<p>1235 rows × 6 columns</p>\n",
       "</div>"
      ]
     },
     "metadata": {},
     "execution_count": 5
    }
   ],
   "metadata": {
    "colab": {
     "base_uri": "https://localhost:8080/",
     "height": 455
    },
    "id": "K8wtyI6KNbcU",
    "outputId": "fbd0803c-1268-49a1-eb58-f65fc832a9f5"
   }
  },
  {
   "cell_type": "code",
   "execution_count": 6,
   "source": [
    "df_bovespa.shape"
   ],
   "outputs": [
    {
     "output_type": "execute_result",
     "data": {
      "text/plain": [
       "(1235, 6)"
      ]
     },
     "metadata": {},
     "execution_count": 6
    }
   ],
   "metadata": {
    "colab": {
     "base_uri": "https://localhost:8080/"
    },
    "id": "EZid73x9Nl_w",
    "outputId": "a1781db4-3d1b-497c-8bde-53e67282d037"
   }
  },
  {
   "cell_type": "code",
   "execution_count": 7,
   "source": [
    "df = df.merge(df_bovespa, left_on='Date', right_on='Date', suffixes=('', '_bovespa'))\r\n",
    "df.describe()"
   ],
   "outputs": [
    {
     "output_type": "execute_result",
     "data": {
      "text/plain": [
       "              High          Low         Open        Close        Volume  \\\n",
       "count  1235.000000  1235.000000  1235.000000  1235.000000  1.235000e+03   \n",
       "mean     26.579736    25.942236    26.268392    26.268076  2.107308e+07   \n",
       "std       7.002110     6.887101     6.955826     6.948358  1.037574e+07   \n",
       "min      14.072727    13.824242    13.939393    13.981818  0.000000e+00   \n",
       "25%      19.887052    19.310192    19.674931    19.615702  1.422990e+07   \n",
       "50%      26.406666    25.799999    26.200001    26.066666  1.916430e+07   \n",
       "75%      33.805000    33.021666    33.333332    33.423334  2.546842e+07   \n",
       "max      39.790001    38.400002    38.669998    39.689999  1.049172e+08   \n",
       "\n",
       "         Adj Close   High_bovespa    Low_bovespa   Open_bovespa  \\\n",
       "count  1235.000000    1235.000000    1235.000000    1235.000000   \n",
       "mean     22.683139   71258.726316   69996.229960   70605.106883   \n",
       "std       7.522292   19634.810008   19447.130086   19532.433000   \n",
       "min      10.871813   38031.000000   37046.000000   37501.000000   \n",
       "25%      15.254557   53498.500000   52677.000000   53087.500000   \n",
       "50%      21.995001   66758.000000   65842.000000   66195.000000   \n",
       "75%      30.272399   86157.000000   84582.500000   85515.000000   \n",
       "max      36.087143  117803.000000  115995.000000  117205.000000   \n",
       "\n",
       "       Close_bovespa  Volume_bovespa  Adj Close_bovespa  \n",
       "count    1235.000000    1.235000e+03        1235.000000  \n",
       "mean    70656.285020    3.794215e+06       70656.285020  \n",
       "std     19564.626768    1.203582e+06       19564.626768  \n",
       "min     37497.000000    0.000000e+00       37497.000000  \n",
       "25%     53094.500000    3.078600e+06       53094.500000  \n",
       "50%     66235.000000    3.658900e+06       66235.000000  \n",
       "75%     85539.000000    4.389100e+06       85539.000000  \n",
       "max    117203.000000    1.104670e+07      117203.000000  "
      ],
      "text/html": [
       "<div>\n",
       "<style scoped>\n",
       "    .dataframe tbody tr th:only-of-type {\n",
       "        vertical-align: middle;\n",
       "    }\n",
       "\n",
       "    .dataframe tbody tr th {\n",
       "        vertical-align: top;\n",
       "    }\n",
       "\n",
       "    .dataframe thead th {\n",
       "        text-align: right;\n",
       "    }\n",
       "</style>\n",
       "<table border=\"1\" class=\"dataframe\">\n",
       "  <thead>\n",
       "    <tr style=\"text-align: right;\">\n",
       "      <th></th>\n",
       "      <th>High</th>\n",
       "      <th>Low</th>\n",
       "      <th>Open</th>\n",
       "      <th>Close</th>\n",
       "      <th>Volume</th>\n",
       "      <th>Adj Close</th>\n",
       "      <th>High_bovespa</th>\n",
       "      <th>Low_bovespa</th>\n",
       "      <th>Open_bovespa</th>\n",
       "      <th>Close_bovespa</th>\n",
       "      <th>Volume_bovespa</th>\n",
       "      <th>Adj Close_bovespa</th>\n",
       "    </tr>\n",
       "  </thead>\n",
       "  <tbody>\n",
       "    <tr>\n",
       "      <th>count</th>\n",
       "      <td>1235.000000</td>\n",
       "      <td>1235.000000</td>\n",
       "      <td>1235.000000</td>\n",
       "      <td>1235.000000</td>\n",
       "      <td>1.235000e+03</td>\n",
       "      <td>1235.000000</td>\n",
       "      <td>1235.000000</td>\n",
       "      <td>1235.000000</td>\n",
       "      <td>1235.000000</td>\n",
       "      <td>1235.000000</td>\n",
       "      <td>1.235000e+03</td>\n",
       "      <td>1235.000000</td>\n",
       "    </tr>\n",
       "    <tr>\n",
       "      <th>mean</th>\n",
       "      <td>26.579736</td>\n",
       "      <td>25.942236</td>\n",
       "      <td>26.268392</td>\n",
       "      <td>26.268076</td>\n",
       "      <td>2.107308e+07</td>\n",
       "      <td>22.683139</td>\n",
       "      <td>71258.726316</td>\n",
       "      <td>69996.229960</td>\n",
       "      <td>70605.106883</td>\n",
       "      <td>70656.285020</td>\n",
       "      <td>3.794215e+06</td>\n",
       "      <td>70656.285020</td>\n",
       "    </tr>\n",
       "    <tr>\n",
       "      <th>std</th>\n",
       "      <td>7.002110</td>\n",
       "      <td>6.887101</td>\n",
       "      <td>6.955826</td>\n",
       "      <td>6.948358</td>\n",
       "      <td>1.037574e+07</td>\n",
       "      <td>7.522292</td>\n",
       "      <td>19634.810008</td>\n",
       "      <td>19447.130086</td>\n",
       "      <td>19532.433000</td>\n",
       "      <td>19564.626768</td>\n",
       "      <td>1.203582e+06</td>\n",
       "      <td>19564.626768</td>\n",
       "    </tr>\n",
       "    <tr>\n",
       "      <th>min</th>\n",
       "      <td>14.072727</td>\n",
       "      <td>13.824242</td>\n",
       "      <td>13.939393</td>\n",
       "      <td>13.981818</td>\n",
       "      <td>0.000000e+00</td>\n",
       "      <td>10.871813</td>\n",
       "      <td>38031.000000</td>\n",
       "      <td>37046.000000</td>\n",
       "      <td>37501.000000</td>\n",
       "      <td>37497.000000</td>\n",
       "      <td>0.000000e+00</td>\n",
       "      <td>37497.000000</td>\n",
       "    </tr>\n",
       "    <tr>\n",
       "      <th>25%</th>\n",
       "      <td>19.887052</td>\n",
       "      <td>19.310192</td>\n",
       "      <td>19.674931</td>\n",
       "      <td>19.615702</td>\n",
       "      <td>1.422990e+07</td>\n",
       "      <td>15.254557</td>\n",
       "      <td>53498.500000</td>\n",
       "      <td>52677.000000</td>\n",
       "      <td>53087.500000</td>\n",
       "      <td>53094.500000</td>\n",
       "      <td>3.078600e+06</td>\n",
       "      <td>53094.500000</td>\n",
       "    </tr>\n",
       "    <tr>\n",
       "      <th>50%</th>\n",
       "      <td>26.406666</td>\n",
       "      <td>25.799999</td>\n",
       "      <td>26.200001</td>\n",
       "      <td>26.066666</td>\n",
       "      <td>1.916430e+07</td>\n",
       "      <td>21.995001</td>\n",
       "      <td>66758.000000</td>\n",
       "      <td>65842.000000</td>\n",
       "      <td>66195.000000</td>\n",
       "      <td>66235.000000</td>\n",
       "      <td>3.658900e+06</td>\n",
       "      <td>66235.000000</td>\n",
       "    </tr>\n",
       "    <tr>\n",
       "      <th>75%</th>\n",
       "      <td>33.805000</td>\n",
       "      <td>33.021666</td>\n",
       "      <td>33.333332</td>\n",
       "      <td>33.423334</td>\n",
       "      <td>2.546842e+07</td>\n",
       "      <td>30.272399</td>\n",
       "      <td>86157.000000</td>\n",
       "      <td>84582.500000</td>\n",
       "      <td>85515.000000</td>\n",
       "      <td>85539.000000</td>\n",
       "      <td>4.389100e+06</td>\n",
       "      <td>85539.000000</td>\n",
       "    </tr>\n",
       "    <tr>\n",
       "      <th>max</th>\n",
       "      <td>39.790001</td>\n",
       "      <td>38.400002</td>\n",
       "      <td>38.669998</td>\n",
       "      <td>39.689999</td>\n",
       "      <td>1.049172e+08</td>\n",
       "      <td>36.087143</td>\n",
       "      <td>117803.000000</td>\n",
       "      <td>115995.000000</td>\n",
       "      <td>117205.000000</td>\n",
       "      <td>117203.000000</td>\n",
       "      <td>1.104670e+07</td>\n",
       "      <td>117203.000000</td>\n",
       "    </tr>\n",
       "  </tbody>\n",
       "</table>\n",
       "</div>"
      ]
     },
     "metadata": {},
     "execution_count": 7
    }
   ],
   "metadata": {
    "colab": {
     "base_uri": "https://localhost:8080/",
     "height": 338
    },
    "id": "n8LZIcI-QKBh",
    "outputId": "01288265-2104-4026-be9d-3d53283db9cf"
   }
  },
  {
   "cell_type": "code",
   "execution_count": 8,
   "source": [
    "data = df.filter([\"Close\"])\r\n",
    "dataset = data.values\r\n",
    "training_data_len = math.ceil(len(dataset) * .7)\r\n",
    "training_data_len\r\n",
    "dataset.shape"
   ],
   "outputs": [
    {
     "output_type": "execute_result",
     "data": {
      "text/plain": [
       "(1235, 1)"
      ]
     },
     "metadata": {},
     "execution_count": 8
    }
   ],
   "metadata": {
    "colab": {
     "base_uri": "https://localhost:8080/"
    },
    "id": "0zLbypzWtzci",
    "outputId": "73b04d20-c980-4d55-cf5c-412eb923c8c4"
   }
  },
  {
   "cell_type": "code",
   "execution_count": 9,
   "source": [
    "sc = MinMaxScaler(feature_range = (0, 1))\r\n",
    "scaled_data = sc.fit_transform(dataset)"
   ],
   "outputs": [],
   "metadata": {
    "id": "TAqmEmtyuB16"
   }
  },
  {
   "cell_type": "code",
   "execution_count": 10,
   "source": [
    "scaled_data"
   ],
   "outputs": [
    {
     "output_type": "execute_result",
     "data": {
      "text/plain": [
       "array([[0.18116023],\n",
       "       [0.1848036 ],\n",
       "       [0.19659089],\n",
       "       ...,\n",
       "       [0.91092341],\n",
       "       [0.90703351],\n",
       "       [0.89925385]])"
      ]
     },
     "metadata": {},
     "execution_count": 10
    }
   ],
   "metadata": {
    "colab": {
     "base_uri": "https://localhost:8080/"
    },
    "id": "1xCbxaHWuJFU",
    "outputId": "b403b055-16d9-4cf5-df3c-2d7a17e579ab"
   }
  },
  {
   "cell_type": "code",
   "execution_count": 11,
   "source": [
    "train_data = scaled_data[0:training_data_len,:]\r\n",
    "# print(train_data)\r\n",
    "window = 60\r\n",
    "X_train = []\r\n",
    "y_train = []\r\n",
    "for i in range(window, len(train_data)):\r\n",
    "    X_train.append(train_data[i-window:i,:])\r\n",
    "    y_train.append(train_data[i, 0:1])\r\n",
    "    # if i <= (window + 1):\r\n",
    "    #   print(X_train)\r\n",
    "    #   print(y_train)\r\n",
    "    #   print()\r\n",
    "X_train, y_train = np.array(X_train), np.array(y_train)"
   ],
   "outputs": [],
   "metadata": {
    "id": "dv_rZkU1uqlc"
   }
  },
  {
   "cell_type": "code",
   "execution_count": 12,
   "source": [
    "X_train.shape"
   ],
   "outputs": [
    {
     "output_type": "execute_result",
     "data": {
      "text/plain": [
       "(805, 60, 1)"
      ]
     },
     "metadata": {},
     "execution_count": 12
    }
   ],
   "metadata": {
    "colab": {
     "base_uri": "https://localhost:8080/"
    },
    "id": "AqkMLK-4uxzK",
    "outputId": "4cf68abf-5589-4057-9bf5-8e49efc91cce"
   }
  },
  {
   "cell_type": "code",
   "execution_count": 13,
   "source": [
    "X_train = np.reshape(X_train, (X_train.shape[0], X_train.shape[1], -1))"
   ],
   "outputs": [],
   "metadata": {
    "id": "jJ0aXnzAuy1C"
   }
  },
  {
   "cell_type": "code",
   "execution_count": 14,
   "source": [
    "X_train.shape"
   ],
   "outputs": [
    {
     "output_type": "execute_result",
     "data": {
      "text/plain": [
       "(805, 60, 1)"
      ]
     },
     "metadata": {},
     "execution_count": 14
    }
   ],
   "metadata": {
    "colab": {
     "base_uri": "https://localhost:8080/"
    },
    "id": "q03yzNLlu2on",
    "outputId": "d4d1d3cb-c876-4539-aee5-8b26dd6910bd"
   }
  },
  {
   "cell_type": "code",
   "execution_count": 15,
   "source": [
    "# Inicializar a RNN\r\n",
    "regressor = Sequential()\r\n",
    "\r\n",
    "# Adicionar a primeira camada LSTM e Dropout \r\n",
    "regressor.add(LSTM(units = 100, return_sequences = True, input_shape = (X_train.shape[1], X_train.shape[2])))\r\n",
    "regressor.add(Dropout(0.2))\r\n",
    " \r\n",
    "# Adicionar a segunda camada LSTM e Dropout\r\n",
    "regressor.add(LSTM(units = 80, return_sequences = True))\r\n",
    "regressor.add(Dropout(0.2))\r\n",
    " \r\n",
    "# Adicionar a terceira camada LSTM e Dropout\r\n",
    "regressor.add(LSTM(units = 50))\r\n",
    "regressor.add(Dropout(0.2))\r\n",
    " \r\n",
    "# camada de saída\r\n",
    "regressor.add(Dense(units = 1))\r\n",
    " \r\n",
    "# Compilar a rede\r\n",
    "regressor.compile(optimizer = 'adam', loss = 'mean_squared_error')\r\n",
    "\r\n",
    "# Visualizar a rede\r\n",
    "regressor.summary()"
   ],
   "outputs": [
    {
     "output_type": "stream",
     "name": "stdout",
     "text": [
      "Model: \"sequential\"\n",
      "_________________________________________________________________\n",
      "Layer (type)                 Output Shape              Param #   \n",
      "=================================================================\n",
      "lstm (LSTM)                  (None, 60, 100)           40800     \n",
      "_________________________________________________________________\n",
      "dropout (Dropout)            (None, 60, 100)           0         \n",
      "_________________________________________________________________\n",
      "lstm_1 (LSTM)                (None, 60, 80)            57920     \n",
      "_________________________________________________________________\n",
      "dropout_1 (Dropout)          (None, 60, 80)            0         \n",
      "_________________________________________________________________\n",
      "lstm_2 (LSTM)                (None, 50)                26200     \n",
      "_________________________________________________________________\n",
      "dropout_2 (Dropout)          (None, 50)                0         \n",
      "_________________________________________________________________\n",
      "dense (Dense)                (None, 1)                 51        \n",
      "=================================================================\n",
      "Total params: 124,971\n",
      "Trainable params: 124,971\n",
      "Non-trainable params: 0\n",
      "_________________________________________________________________\n"
     ]
    }
   ],
   "metadata": {
    "colab": {
     "base_uri": "https://localhost:8080/"
    },
    "id": "RkUoLngeu6aj",
    "outputId": "37c71118-6fa9-4a1a-d670-b194825f9fc8"
   }
  },
  {
   "cell_type": "code",
   "execution_count": 16,
   "source": [
    "history = regressor.fit(X_train, y_train, epochs = 50, batch_size = 64)"
   ],
   "outputs": [
    {
     "output_type": "stream",
     "name": "stdout",
     "text": [
      "Epoch 1/50\n",
      "13/13 [==============================] - 3s 196ms/step - loss: 0.0399\n",
      "Epoch 2/50\n",
      "13/13 [==============================] - 2s 146ms/step - loss: 0.0086\n",
      "Epoch 3/50\n",
      "13/13 [==============================] - 2s 147ms/step - loss: 0.0050\n",
      "Epoch 4/50\n",
      "13/13 [==============================] - 2s 146ms/step - loss: 0.0036\n",
      "Epoch 5/50\n",
      "13/13 [==============================] - 2s 146ms/step - loss: 0.0035\n",
      "Epoch 6/50\n",
      "13/13 [==============================] - 2s 150ms/step - loss: 0.0032\n",
      "Epoch 7/50\n",
      "13/13 [==============================] - 2s 151ms/step - loss: 0.0032\n",
      "Epoch 8/50\n",
      "13/13 [==============================] - 2s 148ms/step - loss: 0.0030\n",
      "Epoch 9/50\n",
      "13/13 [==============================] - 2s 158ms/step - loss: 0.0026\n",
      "Epoch 10/50\n",
      "13/13 [==============================] - 2s 158ms/step - loss: 0.0027\n",
      "Epoch 11/50\n",
      "13/13 [==============================] - 2s 148ms/step - loss: 0.0026\n",
      "Epoch 12/50\n",
      "13/13 [==============================] - 2s 155ms/step - loss: 0.0029\n",
      "Epoch 13/50\n",
      "13/13 [==============================] - 2s 152ms/step - loss: 0.0028\n",
      "Epoch 14/50\n",
      "13/13 [==============================] - 2s 148ms/step - loss: 0.0029\n",
      "Epoch 15/50\n",
      "13/13 [==============================] - 2s 150ms/step - loss: 0.0028\n",
      "Epoch 16/50\n",
      "13/13 [==============================] - 2s 159ms/step - loss: 0.0027\n",
      "Epoch 17/50\n",
      "13/13 [==============================] - 2s 158ms/step - loss: 0.0025\n",
      "Epoch 18/50\n",
      "13/13 [==============================] - 2s 150ms/step - loss: 0.0026\n",
      "Epoch 19/50\n",
      "13/13 [==============================] - 2s 159ms/step - loss: 0.0025\n",
      "Epoch 20/50\n",
      "13/13 [==============================] - 2s 156ms/step - loss: 0.0023\n",
      "Epoch 21/50\n",
      "13/13 [==============================] - 2s 173ms/step - loss: 0.0025\n",
      "Epoch 22/50\n",
      "13/13 [==============================] - 3s 193ms/step - loss: 0.0024\n",
      "Epoch 23/50\n",
      "13/13 [==============================] - 2s 192ms/step - loss: 0.0024\n",
      "Epoch 24/50\n",
      "13/13 [==============================] - 3s 215ms/step - loss: 0.0023\n",
      "Epoch 25/50\n",
      "13/13 [==============================] - 3s 229ms/step - loss: 0.0026\n",
      "Epoch 26/50\n",
      "13/13 [==============================] - 3s 257ms/step - loss: 0.0022\n",
      "Epoch 27/50\n",
      "13/13 [==============================] - 3s 213ms/step - loss: 0.0021\n",
      "Epoch 28/50\n",
      "13/13 [==============================] - 3s 201ms/step - loss: 0.0022\n",
      "Epoch 29/50\n",
      "13/13 [==============================] - 3s 194ms/step - loss: 0.0022\n",
      "Epoch 30/50\n",
      "13/13 [==============================] - 3s 199ms/step - loss: 0.0025\n",
      "Epoch 31/50\n",
      "13/13 [==============================] - 3s 207ms/step - loss: 0.0022\n",
      "Epoch 32/50\n",
      "13/13 [==============================] - 3s 251ms/step - loss: 0.0023\n",
      "Epoch 33/50\n",
      "13/13 [==============================] - 2s 156ms/step - loss: 0.0022\n",
      "Epoch 34/50\n",
      "13/13 [==============================] - 2s 146ms/step - loss: 0.0021\n",
      "Epoch 35/50\n",
      "13/13 [==============================] - 2s 144ms/step - loss: 0.0021\n",
      "Epoch 36/50\n",
      "13/13 [==============================] - 2s 139ms/step - loss: 0.0019\n",
      "Epoch 37/50\n",
      "13/13 [==============================] - 2s 138ms/step - loss: 0.0022\n",
      "Epoch 38/50\n",
      "13/13 [==============================] - 2s 170ms/step - loss: 0.0021\n",
      "Epoch 39/50\n",
      "13/13 [==============================] - 2s 182ms/step - loss: 0.0021\n",
      "Epoch 40/50\n",
      "13/13 [==============================] - 2s 152ms/step - loss: 0.0023\n",
      "Epoch 41/50\n",
      "13/13 [==============================] - 2s 151ms/step - loss: 0.0023\n",
      "Epoch 42/50\n",
      "13/13 [==============================] - 2s 146ms/step - loss: 0.0020\n",
      "Epoch 43/50\n",
      "13/13 [==============================] - 2s 144ms/step - loss: 0.0019\n",
      "Epoch 44/50\n",
      "13/13 [==============================] - 2s 146ms/step - loss: 0.0021\n",
      "Epoch 45/50\n",
      "13/13 [==============================] - 2s 143ms/step - loss: 0.0020\n",
      "Epoch 46/50\n",
      "13/13 [==============================] - 2s 143ms/step - loss: 0.0022\n",
      "Epoch 47/50\n",
      "13/13 [==============================] - 2s 146ms/step - loss: 0.0022\n",
      "Epoch 48/50\n",
      "13/13 [==============================] - 2s 145ms/step - loss: 0.0020\n",
      "Epoch 49/50\n",
      "13/13 [==============================] - 2s 147ms/step - loss: 0.0021\n",
      "Epoch 50/50\n",
      "13/13 [==============================] - 2s 145ms/step - loss: 0.0018\n"
     ]
    }
   ],
   "metadata": {
    "colab": {
     "base_uri": "https://localhost:8080/"
    },
    "id": "90uaYsDwu9FU",
    "outputId": "c457caad-350b-44ca-a84f-8224a818c20f"
   }
  },
  {
   "cell_type": "code",
   "execution_count": 17,
   "source": [
    "plt.plot(history.history['loss'], label='treino')\r\n",
    "plt.legend();"
   ],
   "outputs": [
    {
     "output_type": "display_data",
     "data": {
      "text/plain": [
       "<Figure size 432x288 with 1 Axes>"
      ],
      "image/svg+xml": "<?xml version=\"1.0\" encoding=\"utf-8\" standalone=\"no\"?>\r\n<!DOCTYPE svg PUBLIC \"-//W3C//DTD SVG 1.1//EN\"\r\n  \"http://www.w3.org/Graphics/SVG/1.1/DTD/svg11.dtd\">\r\n<svg height=\"248.518125pt\" version=\"1.1\" viewBox=\"0 0 384.828125 248.518125\" width=\"384.828125pt\" xmlns=\"http://www.w3.org/2000/svg\" xmlns:xlink=\"http://www.w3.org/1999/xlink\">\r\n <metadata>\r\n  <rdf:RDF xmlns:cc=\"http://creativecommons.org/ns#\" xmlns:dc=\"http://purl.org/dc/elements/1.1/\" xmlns:rdf=\"http://www.w3.org/1999/02/22-rdf-syntax-ns#\">\r\n   <cc:Work>\r\n    <dc:type rdf:resource=\"http://purl.org/dc/dcmitype/StillImage\"/>\r\n    <dc:date>2021-08-18T20:30:16.447522</dc:date>\r\n    <dc:format>image/svg+xml</dc:format>\r\n    <dc:creator>\r\n     <cc:Agent>\r\n      <dc:title>Matplotlib v3.4.2, https://matplotlib.org/</dc:title>\r\n     </cc:Agent>\r\n    </dc:creator>\r\n   </cc:Work>\r\n  </rdf:RDF>\r\n </metadata>\r\n <defs>\r\n  <style type=\"text/css\">*{stroke-linecap:butt;stroke-linejoin:round;}</style>\r\n </defs>\r\n <g id=\"figure_1\">\r\n  <g id=\"patch_1\">\r\n   <path d=\"M 0 248.518125 \r\nL 384.828125 248.518125 \r\nL 384.828125 0 \r\nL 0 0 \r\nz\r\n\" style=\"fill:none;\"/>\r\n  </g>\r\n  <g id=\"axes_1\">\r\n   <g id=\"patch_2\">\r\n    <path d=\"M 42.828125 224.64 \r\nL 377.628125 224.64 \r\nL 377.628125 7.2 \r\nL 42.828125 7.2 \r\nz\r\n\" style=\"fill:#ffffff;\"/>\r\n   </g>\r\n   <g id=\"matplotlib.axis_1\">\r\n    <g id=\"xtick_1\">\r\n     <g id=\"line2d_1\">\r\n      <defs>\r\n       <path d=\"M 0 0 \r\nL 0 3.5 \r\n\" id=\"m461531275b\" style=\"stroke:#000000;stroke-width:0.8;\"/>\r\n      </defs>\r\n      <g>\r\n       <use style=\"stroke:#000000;stroke-width:0.8;\" x=\"58.046307\" xlink:href=\"#m461531275b\" y=\"224.64\"/>\r\n      </g>\r\n     </g>\r\n     <g id=\"text_1\">\r\n      <!-- 0 -->\r\n      <g transform=\"translate(54.865057 239.238437)scale(0.1 -0.1)\">\r\n       <defs>\r\n        <path d=\"M 2034 4250 \r\nQ 1547 4250 1301 3770 \r\nQ 1056 3291 1056 2328 \r\nQ 1056 1369 1301 889 \r\nQ 1547 409 2034 409 \r\nQ 2525 409 2770 889 \r\nQ 3016 1369 3016 2328 \r\nQ 3016 3291 2770 3770 \r\nQ 2525 4250 2034 4250 \r\nz\r\nM 2034 4750 \r\nQ 2819 4750 3233 4129 \r\nQ 3647 3509 3647 2328 \r\nQ 3647 1150 3233 529 \r\nQ 2819 -91 2034 -91 \r\nQ 1250 -91 836 529 \r\nQ 422 1150 422 2328 \r\nQ 422 3509 836 4129 \r\nQ 1250 4750 2034 4750 \r\nz\r\n\" id=\"DejaVuSans-30\" transform=\"scale(0.015625)\"/>\r\n       </defs>\r\n       <use xlink:href=\"#DejaVuSans-30\"/>\r\n      </g>\r\n     </g>\r\n    </g>\r\n    <g id=\"xtick_2\">\r\n     <g id=\"line2d_2\">\r\n      <g>\r\n       <use style=\"stroke:#000000;stroke-width:0.8;\" x=\"120.161335\" xlink:href=\"#m461531275b\" y=\"224.64\"/>\r\n      </g>\r\n     </g>\r\n     <g id=\"text_2\">\r\n      <!-- 10 -->\r\n      <g transform=\"translate(113.798835 239.238437)scale(0.1 -0.1)\">\r\n       <defs>\r\n        <path d=\"M 794 531 \r\nL 1825 531 \r\nL 1825 4091 \r\nL 703 3866 \r\nL 703 4441 \r\nL 1819 4666 \r\nL 2450 4666 \r\nL 2450 531 \r\nL 3481 531 \r\nL 3481 0 \r\nL 794 0 \r\nL 794 531 \r\nz\r\n\" id=\"DejaVuSans-31\" transform=\"scale(0.015625)\"/>\r\n       </defs>\r\n       <use xlink:href=\"#DejaVuSans-31\"/>\r\n       <use x=\"63.623047\" xlink:href=\"#DejaVuSans-30\"/>\r\n      </g>\r\n     </g>\r\n    </g>\r\n    <g id=\"xtick_3\">\r\n     <g id=\"line2d_3\">\r\n      <g>\r\n       <use style=\"stroke:#000000;stroke-width:0.8;\" x=\"182.276362\" xlink:href=\"#m461531275b\" y=\"224.64\"/>\r\n      </g>\r\n     </g>\r\n     <g id=\"text_3\">\r\n      <!-- 20 -->\r\n      <g transform=\"translate(175.913862 239.238437)scale(0.1 -0.1)\">\r\n       <defs>\r\n        <path d=\"M 1228 531 \r\nL 3431 531 \r\nL 3431 0 \r\nL 469 0 \r\nL 469 531 \r\nQ 828 903 1448 1529 \r\nQ 2069 2156 2228 2338 \r\nQ 2531 2678 2651 2914 \r\nQ 2772 3150 2772 3378 \r\nQ 2772 3750 2511 3984 \r\nQ 2250 4219 1831 4219 \r\nQ 1534 4219 1204 4116 \r\nQ 875 4013 500 3803 \r\nL 500 4441 \r\nQ 881 4594 1212 4672 \r\nQ 1544 4750 1819 4750 \r\nQ 2544 4750 2975 4387 \r\nQ 3406 4025 3406 3419 \r\nQ 3406 3131 3298 2873 \r\nQ 3191 2616 2906 2266 \r\nQ 2828 2175 2409 1742 \r\nQ 1991 1309 1228 531 \r\nz\r\n\" id=\"DejaVuSans-32\" transform=\"scale(0.015625)\"/>\r\n       </defs>\r\n       <use xlink:href=\"#DejaVuSans-32\"/>\r\n       <use x=\"63.623047\" xlink:href=\"#DejaVuSans-30\"/>\r\n      </g>\r\n     </g>\r\n    </g>\r\n    <g id=\"xtick_4\">\r\n     <g id=\"line2d_4\">\r\n      <g>\r\n       <use style=\"stroke:#000000;stroke-width:0.8;\" x=\"244.39139\" xlink:href=\"#m461531275b\" y=\"224.64\"/>\r\n      </g>\r\n     </g>\r\n     <g id=\"text_4\">\r\n      <!-- 30 -->\r\n      <g transform=\"translate(238.02889 239.238437)scale(0.1 -0.1)\">\r\n       <defs>\r\n        <path d=\"M 2597 2516 \r\nQ 3050 2419 3304 2112 \r\nQ 3559 1806 3559 1356 \r\nQ 3559 666 3084 287 \r\nQ 2609 -91 1734 -91 \r\nQ 1441 -91 1130 -33 \r\nQ 819 25 488 141 \r\nL 488 750 \r\nQ 750 597 1062 519 \r\nQ 1375 441 1716 441 \r\nQ 2309 441 2620 675 \r\nQ 2931 909 2931 1356 \r\nQ 2931 1769 2642 2001 \r\nQ 2353 2234 1838 2234 \r\nL 1294 2234 \r\nL 1294 2753 \r\nL 1863 2753 \r\nQ 2328 2753 2575 2939 \r\nQ 2822 3125 2822 3475 \r\nQ 2822 3834 2567 4026 \r\nQ 2313 4219 1838 4219 \r\nQ 1578 4219 1281 4162 \r\nQ 984 4106 628 3988 \r\nL 628 4550 \r\nQ 988 4650 1302 4700 \r\nQ 1616 4750 1894 4750 \r\nQ 2613 4750 3031 4423 \r\nQ 3450 4097 3450 3541 \r\nQ 3450 3153 3228 2886 \r\nQ 3006 2619 2597 2516 \r\nz\r\n\" id=\"DejaVuSans-33\" transform=\"scale(0.015625)\"/>\r\n       </defs>\r\n       <use xlink:href=\"#DejaVuSans-33\"/>\r\n       <use x=\"63.623047\" xlink:href=\"#DejaVuSans-30\"/>\r\n      </g>\r\n     </g>\r\n    </g>\r\n    <g id=\"xtick_5\">\r\n     <g id=\"line2d_5\">\r\n      <g>\r\n       <use style=\"stroke:#000000;stroke-width:0.8;\" x=\"306.506418\" xlink:href=\"#m461531275b\" y=\"224.64\"/>\r\n      </g>\r\n     </g>\r\n     <g id=\"text_5\">\r\n      <!-- 40 -->\r\n      <g transform=\"translate(300.143918 239.238437)scale(0.1 -0.1)\">\r\n       <defs>\r\n        <path d=\"M 2419 4116 \r\nL 825 1625 \r\nL 2419 1625 \r\nL 2419 4116 \r\nz\r\nM 2253 4666 \r\nL 3047 4666 \r\nL 3047 1625 \r\nL 3713 1625 \r\nL 3713 1100 \r\nL 3047 1100 \r\nL 3047 0 \r\nL 2419 0 \r\nL 2419 1100 \r\nL 313 1100 \r\nL 313 1709 \r\nL 2253 4666 \r\nz\r\n\" id=\"DejaVuSans-34\" transform=\"scale(0.015625)\"/>\r\n       </defs>\r\n       <use xlink:href=\"#DejaVuSans-34\"/>\r\n       <use x=\"63.623047\" xlink:href=\"#DejaVuSans-30\"/>\r\n      </g>\r\n     </g>\r\n    </g>\r\n    <g id=\"xtick_6\">\r\n     <g id=\"line2d_6\">\r\n      <g>\r\n       <use style=\"stroke:#000000;stroke-width:0.8;\" x=\"368.621446\" xlink:href=\"#m461531275b\" y=\"224.64\"/>\r\n      </g>\r\n     </g>\r\n     <g id=\"text_6\">\r\n      <!-- 50 -->\r\n      <g transform=\"translate(362.258946 239.238437)scale(0.1 -0.1)\">\r\n       <defs>\r\n        <path d=\"M 691 4666 \r\nL 3169 4666 \r\nL 3169 4134 \r\nL 1269 4134 \r\nL 1269 2991 \r\nQ 1406 3038 1543 3061 \r\nQ 1681 3084 1819 3084 \r\nQ 2600 3084 3056 2656 \r\nQ 3513 2228 3513 1497 \r\nQ 3513 744 3044 326 \r\nQ 2575 -91 1722 -91 \r\nQ 1428 -91 1123 -41 \r\nQ 819 9 494 109 \r\nL 494 744 \r\nQ 775 591 1075 516 \r\nQ 1375 441 1709 441 \r\nQ 2250 441 2565 725 \r\nQ 2881 1009 2881 1497 \r\nQ 2881 1984 2565 2268 \r\nQ 2250 2553 1709 2553 \r\nQ 1456 2553 1204 2497 \r\nQ 953 2441 691 2322 \r\nL 691 4666 \r\nz\r\n\" id=\"DejaVuSans-35\" transform=\"scale(0.015625)\"/>\r\n       </defs>\r\n       <use xlink:href=\"#DejaVuSans-35\"/>\r\n       <use x=\"63.623047\" xlink:href=\"#DejaVuSans-30\"/>\r\n      </g>\r\n     </g>\r\n    </g>\r\n   </g>\r\n   <g id=\"matplotlib.axis_2\">\r\n    <g id=\"ytick_1\">\r\n     <g id=\"line2d_7\">\r\n      <defs>\r\n       <path d=\"M 0 0 \r\nL -3.5 0 \r\n\" id=\"m2682f4f75a\" style=\"stroke:#000000;stroke-width:0.8;\"/>\r\n      </defs>\r\n      <g>\r\n       <use style=\"stroke:#000000;stroke-width:0.8;\" x=\"42.828125\" xlink:href=\"#m2682f4f75a\" y=\"223.94831\"/>\r\n      </g>\r\n     </g>\r\n     <g id=\"text_7\">\r\n      <!-- 0.000 -->\r\n      <g transform=\"translate(7.2 227.747528)scale(0.1 -0.1)\">\r\n       <defs>\r\n        <path d=\"M 684 794 \r\nL 1344 794 \r\nL 1344 0 \r\nL 684 0 \r\nL 684 794 \r\nz\r\n\" id=\"DejaVuSans-2e\" transform=\"scale(0.015625)\"/>\r\n       </defs>\r\n       <use xlink:href=\"#DejaVuSans-30\"/>\r\n       <use x=\"63.623047\" xlink:href=\"#DejaVuSans-2e\"/>\r\n       <use x=\"95.410156\" xlink:href=\"#DejaVuSans-30\"/>\r\n       <use x=\"159.033203\" xlink:href=\"#DejaVuSans-30\"/>\r\n       <use x=\"222.65625\" xlink:href=\"#DejaVuSans-30\"/>\r\n      </g>\r\n     </g>\r\n    </g>\r\n    <g id=\"ytick_2\">\r\n     <g id=\"line2d_8\">\r\n      <g>\r\n       <use style=\"stroke:#000000;stroke-width:0.8;\" x=\"42.828125\" xlink:href=\"#m2682f4f75a\" y=\"198.011025\"/>\r\n      </g>\r\n     </g>\r\n     <g id=\"text_8\">\r\n      <!-- 0.005 -->\r\n      <g transform=\"translate(7.2 201.810243)scale(0.1 -0.1)\">\r\n       <use xlink:href=\"#DejaVuSans-30\"/>\r\n       <use x=\"63.623047\" xlink:href=\"#DejaVuSans-2e\"/>\r\n       <use x=\"95.410156\" xlink:href=\"#DejaVuSans-30\"/>\r\n       <use x=\"159.033203\" xlink:href=\"#DejaVuSans-30\"/>\r\n       <use x=\"222.65625\" xlink:href=\"#DejaVuSans-35\"/>\r\n      </g>\r\n     </g>\r\n    </g>\r\n    <g id=\"ytick_3\">\r\n     <g id=\"line2d_9\">\r\n      <g>\r\n       <use style=\"stroke:#000000;stroke-width:0.8;\" x=\"42.828125\" xlink:href=\"#m2682f4f75a\" y=\"172.07374\"/>\r\n      </g>\r\n     </g>\r\n     <g id=\"text_9\">\r\n      <!-- 0.010 -->\r\n      <g transform=\"translate(7.2 175.872959)scale(0.1 -0.1)\">\r\n       <use xlink:href=\"#DejaVuSans-30\"/>\r\n       <use x=\"63.623047\" xlink:href=\"#DejaVuSans-2e\"/>\r\n       <use x=\"95.410156\" xlink:href=\"#DejaVuSans-30\"/>\r\n       <use x=\"159.033203\" xlink:href=\"#DejaVuSans-31\"/>\r\n       <use x=\"222.65625\" xlink:href=\"#DejaVuSans-30\"/>\r\n      </g>\r\n     </g>\r\n    </g>\r\n    <g id=\"ytick_4\">\r\n     <g id=\"line2d_10\">\r\n      <g>\r\n       <use style=\"stroke:#000000;stroke-width:0.8;\" x=\"42.828125\" xlink:href=\"#m2682f4f75a\" y=\"146.136455\"/>\r\n      </g>\r\n     </g>\r\n     <g id=\"text_10\">\r\n      <!-- 0.015 -->\r\n      <g transform=\"translate(7.2 149.935674)scale(0.1 -0.1)\">\r\n       <use xlink:href=\"#DejaVuSans-30\"/>\r\n       <use x=\"63.623047\" xlink:href=\"#DejaVuSans-2e\"/>\r\n       <use x=\"95.410156\" xlink:href=\"#DejaVuSans-30\"/>\r\n       <use x=\"159.033203\" xlink:href=\"#DejaVuSans-31\"/>\r\n       <use x=\"222.65625\" xlink:href=\"#DejaVuSans-35\"/>\r\n      </g>\r\n     </g>\r\n    </g>\r\n    <g id=\"ytick_5\">\r\n     <g id=\"line2d_11\">\r\n      <g>\r\n       <use style=\"stroke:#000000;stroke-width:0.8;\" x=\"42.828125\" xlink:href=\"#m2682f4f75a\" y=\"120.19917\"/>\r\n      </g>\r\n     </g>\r\n     <g id=\"text_11\">\r\n      <!-- 0.020 -->\r\n      <g transform=\"translate(7.2 123.998389)scale(0.1 -0.1)\">\r\n       <use xlink:href=\"#DejaVuSans-30\"/>\r\n       <use x=\"63.623047\" xlink:href=\"#DejaVuSans-2e\"/>\r\n       <use x=\"95.410156\" xlink:href=\"#DejaVuSans-30\"/>\r\n       <use x=\"159.033203\" xlink:href=\"#DejaVuSans-32\"/>\r\n       <use x=\"222.65625\" xlink:href=\"#DejaVuSans-30\"/>\r\n      </g>\r\n     </g>\r\n    </g>\r\n    <g id=\"ytick_6\">\r\n     <g id=\"line2d_12\">\r\n      <g>\r\n       <use style=\"stroke:#000000;stroke-width:0.8;\" x=\"42.828125\" xlink:href=\"#m2682f4f75a\" y=\"94.261885\"/>\r\n      </g>\r\n     </g>\r\n     <g id=\"text_12\">\r\n      <!-- 0.025 -->\r\n      <g transform=\"translate(7.2 98.061104)scale(0.1 -0.1)\">\r\n       <use xlink:href=\"#DejaVuSans-30\"/>\r\n       <use x=\"63.623047\" xlink:href=\"#DejaVuSans-2e\"/>\r\n       <use x=\"95.410156\" xlink:href=\"#DejaVuSans-30\"/>\r\n       <use x=\"159.033203\" xlink:href=\"#DejaVuSans-32\"/>\r\n       <use x=\"222.65625\" xlink:href=\"#DejaVuSans-35\"/>\r\n      </g>\r\n     </g>\r\n    </g>\r\n    <g id=\"ytick_7\">\r\n     <g id=\"line2d_13\">\r\n      <g>\r\n       <use style=\"stroke:#000000;stroke-width:0.8;\" x=\"42.828125\" xlink:href=\"#m2682f4f75a\" y=\"68.3246\"/>\r\n      </g>\r\n     </g>\r\n     <g id=\"text_13\">\r\n      <!-- 0.030 -->\r\n      <g transform=\"translate(7.2 72.123819)scale(0.1 -0.1)\">\r\n       <use xlink:href=\"#DejaVuSans-30\"/>\r\n       <use x=\"63.623047\" xlink:href=\"#DejaVuSans-2e\"/>\r\n       <use x=\"95.410156\" xlink:href=\"#DejaVuSans-30\"/>\r\n       <use x=\"159.033203\" xlink:href=\"#DejaVuSans-33\"/>\r\n       <use x=\"222.65625\" xlink:href=\"#DejaVuSans-30\"/>\r\n      </g>\r\n     </g>\r\n    </g>\r\n    <g id=\"ytick_8\">\r\n     <g id=\"line2d_14\">\r\n      <g>\r\n       <use style=\"stroke:#000000;stroke-width:0.8;\" x=\"42.828125\" xlink:href=\"#m2682f4f75a\" y=\"42.387315\"/>\r\n      </g>\r\n     </g>\r\n     <g id=\"text_14\">\r\n      <!-- 0.035 -->\r\n      <g transform=\"translate(7.2 46.186534)scale(0.1 -0.1)\">\r\n       <use xlink:href=\"#DejaVuSans-30\"/>\r\n       <use x=\"63.623047\" xlink:href=\"#DejaVuSans-2e\"/>\r\n       <use x=\"95.410156\" xlink:href=\"#DejaVuSans-30\"/>\r\n       <use x=\"159.033203\" xlink:href=\"#DejaVuSans-33\"/>\r\n       <use x=\"222.65625\" xlink:href=\"#DejaVuSans-35\"/>\r\n      </g>\r\n     </g>\r\n    </g>\r\n    <g id=\"ytick_9\">\r\n     <g id=\"line2d_15\">\r\n      <g>\r\n       <use style=\"stroke:#000000;stroke-width:0.8;\" x=\"42.828125\" xlink:href=\"#m2682f4f75a\" y=\"16.45003\"/>\r\n      </g>\r\n     </g>\r\n     <g id=\"text_15\">\r\n      <!-- 0.040 -->\r\n      <g transform=\"translate(7.2 20.249249)scale(0.1 -0.1)\">\r\n       <use xlink:href=\"#DejaVuSans-30\"/>\r\n       <use x=\"63.623047\" xlink:href=\"#DejaVuSans-2e\"/>\r\n       <use x=\"95.410156\" xlink:href=\"#DejaVuSans-30\"/>\r\n       <use x=\"159.033203\" xlink:href=\"#DejaVuSans-34\"/>\r\n       <use x=\"222.65625\" xlink:href=\"#DejaVuSans-30\"/>\r\n      </g>\r\n     </g>\r\n    </g>\r\n   </g>\r\n   <g id=\"line2d_16\">\r\n    <path clip-path=\"url(#p26e2bf16fa)\" d=\"M 58.046307 17.083636 \r\nL 64.25781 179.465567 \r\nL 70.469312 197.943396 \r\nL 76.680815 205.051899 \r\nL 82.892318 205.963767 \r\nL 89.103821 207.446066 \r\nL 95.315324 207.514738 \r\nL 101.526826 208.627692 \r\nL 107.738329 210.390431 \r\nL 113.949832 210.046564 \r\nL 120.161335 210.569985 \r\nL 126.372837 209.142077 \r\nL 132.58434 209.505094 \r\nL 138.795843 209.046408 \r\nL 145.007346 209.506281 \r\nL 151.218849 209.986747 \r\nL 157.430351 210.916901 \r\nL 163.641854 210.241649 \r\nL 169.853357 210.972833 \r\nL 176.06486 212.157936 \r\nL 182.276362 210.890456 \r\nL 188.487865 211.455744 \r\nL 194.699368 211.582079 \r\nL 200.910871 211.935386 \r\nL 207.122374 210.644653 \r\nL 213.333876 212.305113 \r\nL 219.545379 212.902946 \r\nL 225.756882 212.589243 \r\nL 231.968385 212.648534 \r\nL 238.179888 211.14226 \r\nL 244.39139 212.396748 \r\nL 250.602893 212.074412 \r\nL 256.814396 212.368776 \r\nL 263.025899 213.305854 \r\nL 269.237401 213.177898 \r\nL 275.448904 213.900656 \r\nL 281.660407 212.64835 \r\nL 287.87191 213.262523 \r\nL 294.083413 212.844735 \r\nL 300.294915 211.781947 \r\nL 306.506418 212.266163 \r\nL 312.717921 213.423567 \r\nL 318.929424 214.021179 \r\nL 325.140926 213.310626 \r\nL 331.352429 213.397179 \r\nL 337.563932 212.672374 \r\nL 343.775435 212.517411 \r\nL 349.986938 213.439595 \r\nL 356.19844 213.002496 \r\nL 362.409943 214.756364 \r\n\" style=\"fill:none;stroke:#1f77b4;stroke-linecap:square;stroke-width:1.5;\"/>\r\n   </g>\r\n   <g id=\"patch_3\">\r\n    <path d=\"M 42.828125 224.64 \r\nL 42.828125 7.2 \r\n\" style=\"fill:none;stroke:#000000;stroke-linecap:square;stroke-linejoin:miter;stroke-width:0.8;\"/>\r\n   </g>\r\n   <g id=\"patch_4\">\r\n    <path d=\"M 377.628125 224.64 \r\nL 377.628125 7.2 \r\n\" style=\"fill:none;stroke:#000000;stroke-linecap:square;stroke-linejoin:miter;stroke-width:0.8;\"/>\r\n   </g>\r\n   <g id=\"patch_5\">\r\n    <path d=\"M 42.828125 224.64 \r\nL 377.628125 224.64 \r\n\" style=\"fill:none;stroke:#000000;stroke-linecap:square;stroke-linejoin:miter;stroke-width:0.8;\"/>\r\n   </g>\r\n   <g id=\"patch_6\">\r\n    <path d=\"M 42.828125 7.2 \r\nL 377.628125 7.2 \r\n\" style=\"fill:none;stroke:#000000;stroke-linecap:square;stroke-linejoin:miter;stroke-width:0.8;\"/>\r\n   </g>\r\n   <g id=\"legend_1\">\r\n    <g id=\"patch_7\">\r\n     <path d=\"M 309.434375 29.878125 \r\nL 370.628125 29.878125 \r\nQ 372.628125 29.878125 372.628125 27.878125 \r\nL 372.628125 14.2 \r\nQ 372.628125 12.2 370.628125 12.2 \r\nL 309.434375 12.2 \r\nQ 307.434375 12.2 307.434375 14.2 \r\nL 307.434375 27.878125 \r\nQ 307.434375 29.878125 309.434375 29.878125 \r\nz\r\n\" style=\"fill:#ffffff;opacity:0.8;stroke:#cccccc;stroke-linejoin:miter;\"/>\r\n    </g>\r\n    <g id=\"line2d_17\">\r\n     <path d=\"M 311.434375 20.298437 \r\nL 331.434375 20.298437 \r\n\" style=\"fill:none;stroke:#1f77b4;stroke-linecap:square;stroke-width:1.5;\"/>\r\n    </g>\r\n    <g id=\"line2d_18\"/>\r\n    <g id=\"text_16\">\r\n     <!-- treino -->\r\n     <g transform=\"translate(339.434375 23.798437)scale(0.1 -0.1)\">\r\n      <defs>\r\n       <path d=\"M 1172 4494 \r\nL 1172 3500 \r\nL 2356 3500 \r\nL 2356 3053 \r\nL 1172 3053 \r\nL 1172 1153 \r\nQ 1172 725 1289 603 \r\nQ 1406 481 1766 481 \r\nL 2356 481 \r\nL 2356 0 \r\nL 1766 0 \r\nQ 1100 0 847 248 \r\nQ 594 497 594 1153 \r\nL 594 3053 \r\nL 172 3053 \r\nL 172 3500 \r\nL 594 3500 \r\nL 594 4494 \r\nL 1172 4494 \r\nz\r\n\" id=\"DejaVuSans-74\" transform=\"scale(0.015625)\"/>\r\n       <path d=\"M 2631 2963 \r\nQ 2534 3019 2420 3045 \r\nQ 2306 3072 2169 3072 \r\nQ 1681 3072 1420 2755 \r\nQ 1159 2438 1159 1844 \r\nL 1159 0 \r\nL 581 0 \r\nL 581 3500 \r\nL 1159 3500 \r\nL 1159 2956 \r\nQ 1341 3275 1631 3429 \r\nQ 1922 3584 2338 3584 \r\nQ 2397 3584 2469 3576 \r\nQ 2541 3569 2628 3553 \r\nL 2631 2963 \r\nz\r\n\" id=\"DejaVuSans-72\" transform=\"scale(0.015625)\"/>\r\n       <path d=\"M 3597 1894 \r\nL 3597 1613 \r\nL 953 1613 \r\nQ 991 1019 1311 708 \r\nQ 1631 397 2203 397 \r\nQ 2534 397 2845 478 \r\nQ 3156 559 3463 722 \r\nL 3463 178 \r\nQ 3153 47 2828 -22 \r\nQ 2503 -91 2169 -91 \r\nQ 1331 -91 842 396 \r\nQ 353 884 353 1716 \r\nQ 353 2575 817 3079 \r\nQ 1281 3584 2069 3584 \r\nQ 2775 3584 3186 3129 \r\nQ 3597 2675 3597 1894 \r\nz\r\nM 3022 2063 \r\nQ 3016 2534 2758 2815 \r\nQ 2500 3097 2075 3097 \r\nQ 1594 3097 1305 2825 \r\nQ 1016 2553 972 2059 \r\nL 3022 2063 \r\nz\r\n\" id=\"DejaVuSans-65\" transform=\"scale(0.015625)\"/>\r\n       <path d=\"M 603 3500 \r\nL 1178 3500 \r\nL 1178 0 \r\nL 603 0 \r\nL 603 3500 \r\nz\r\nM 603 4863 \r\nL 1178 4863 \r\nL 1178 4134 \r\nL 603 4134 \r\nL 603 4863 \r\nz\r\n\" id=\"DejaVuSans-69\" transform=\"scale(0.015625)\"/>\r\n       <path d=\"M 3513 2113 \r\nL 3513 0 \r\nL 2938 0 \r\nL 2938 2094 \r\nQ 2938 2591 2744 2837 \r\nQ 2550 3084 2163 3084 \r\nQ 1697 3084 1428 2787 \r\nQ 1159 2491 1159 1978 \r\nL 1159 0 \r\nL 581 0 \r\nL 581 3500 \r\nL 1159 3500 \r\nL 1159 2956 \r\nQ 1366 3272 1645 3428 \r\nQ 1925 3584 2291 3584 \r\nQ 2894 3584 3203 3211 \r\nQ 3513 2838 3513 2113 \r\nz\r\n\" id=\"DejaVuSans-6e\" transform=\"scale(0.015625)\"/>\r\n       <path d=\"M 1959 3097 \r\nQ 1497 3097 1228 2736 \r\nQ 959 2375 959 1747 \r\nQ 959 1119 1226 758 \r\nQ 1494 397 1959 397 \r\nQ 2419 397 2687 759 \r\nQ 2956 1122 2956 1747 \r\nQ 2956 2369 2687 2733 \r\nQ 2419 3097 1959 3097 \r\nz\r\nM 1959 3584 \r\nQ 2709 3584 3137 3096 \r\nQ 3566 2609 3566 1747 \r\nQ 3566 888 3137 398 \r\nQ 2709 -91 1959 -91 \r\nQ 1206 -91 779 398 \r\nQ 353 888 353 1747 \r\nQ 353 2609 779 3096 \r\nQ 1206 3584 1959 3584 \r\nz\r\n\" id=\"DejaVuSans-6f\" transform=\"scale(0.015625)\"/>\r\n      </defs>\r\n      <use xlink:href=\"#DejaVuSans-74\"/>\r\n      <use x=\"39.208984\" xlink:href=\"#DejaVuSans-72\"/>\r\n      <use x=\"78.072266\" xlink:href=\"#DejaVuSans-65\"/>\r\n      <use x=\"139.595703\" xlink:href=\"#DejaVuSans-69\"/>\r\n      <use x=\"167.378906\" xlink:href=\"#DejaVuSans-6e\"/>\r\n      <use x=\"230.757812\" xlink:href=\"#DejaVuSans-6f\"/>\r\n     </g>\r\n    </g>\r\n   </g>\r\n  </g>\r\n </g>\r\n <defs>\r\n  <clipPath id=\"p26e2bf16fa\">\r\n   <rect height=\"217.44\" width=\"334.8\" x=\"42.828125\" y=\"7.2\"/>\r\n  </clipPath>\r\n </defs>\r\n</svg>\r\n",
      "image/png": "[encoded data removed]"
     },
     "metadata": {
      "needs_background": "light"
     }
    }
   ],
   "metadata": {
    "colab": {
     "base_uri": "https://localhost:8080/",
     "height": 265
    },
    "id": "amW1km16u_lf",
    "outputId": "d3deba25-c6cf-405f-8275-544a334004fb"
   }
  },
  {
   "cell_type": "code",
   "execution_count": 18,
   "source": [
    "test_data = scaled_data[training_data_len - window:, :]\r\n",
    "\r\n",
    "X_test = []\r\n",
    "y_test = dataset[training_data_len:, 0:1]\r\n",
    "\r\n",
    "for i in range(window, len(test_data)): \r\n",
    "    X_test.append(test_data[i-window:i,:])\r\n",
    "X_test = np.array(X_test)\r\n",
    "\r\n",
    "X_test = np.reshape(X_test, (X_test.shape[0], X_test.shape[1], -1))\r\n",
    "print(X_test.shape, X_train.shape)"
   ],
   "outputs": [
    {
     "output_type": "stream",
     "name": "stdout",
     "text": [
      "(370, 60, 1) (805, 60, 1)\n"
     ]
    }
   ],
   "metadata": {
    "colab": {
     "base_uri": "https://localhost:8080/"
    },
    "id": "vPJyp8suvC7_",
    "outputId": "16dd5766-93aa-4382-af1e-090e1dd4442c"
   }
  },
  {
   "cell_type": "code",
   "execution_count": 19,
   "source": [
    "predicted = regressor.predict(X_test)\r\n",
    "volume = dataset[training_data_len:, 1:]\r\n",
    "predicted = np.column_stack((predicted, volume))\r\n",
    "# print(dataset[:,1:])\r\n",
    "print(predicted.shape)\r\n",
    "predicted = sc.inverse_transform(predicted)\r\n",
    "print(predicted)"
   ],
   "outputs": [
    {
     "output_type": "stream",
     "name": "stdout",
     "text": [
      "(370, 1)\n",
      "[[25.59925696]\n",
      " [25.73149755]\n",
      " [25.89374416]\n",
      " [26.09907673]\n",
      " [26.3557392 ]\n",
      " [26.6413864 ]\n",
      " [26.94071498]\n",
      " [27.23570478]\n",
      " [27.51223923]\n",
      " [27.77793553]\n",
      " [28.05658765]\n",
      " [28.33988273]\n",
      " [28.63461203]\n",
      " [28.91302971]\n",
      " [29.17228104]\n",
      " [29.43788694]\n",
      " [29.68271907]\n",
      " [29.88827461]\n",
      " [30.08368307]\n",
      " [30.25254857]\n",
      " [30.39268293]\n",
      " [30.51973582]\n",
      " [30.58142271]\n",
      " [30.58086341]\n",
      " [30.53283875]\n",
      " [30.48295998]\n",
      " [30.4418645 ]\n",
      " [30.40632984]\n",
      " [30.34520531]\n",
      " [30.24590746]\n",
      " [30.06873675]\n",
      " [29.82802811]\n",
      " [29.57410927]\n",
      " [29.33196943]\n",
      " [29.11870323]\n",
      " [28.91460034]\n",
      " [28.70651647]\n",
      " [28.48329627]\n",
      " [28.27903556]\n",
      " [28.06821495]\n",
      " [27.85952887]\n",
      " [27.70142338]\n",
      " [27.60417118]\n",
      " [27.58570358]\n",
      " [27.59531586]\n",
      " [27.62293912]\n",
      " [27.64400555]\n",
      " [27.63984222]\n",
      " [27.6142876 ]\n",
      " [27.60226343]\n",
      " [27.6274457 ]\n",
      " [27.65335428]\n",
      " [27.66759419]\n",
      " [27.65994329]\n",
      " [27.64993872]\n",
      " [27.67329139]\n",
      " [27.73731354]\n",
      " [27.8439543 ]\n",
      " [27.97465413]\n",
      " [28.13194596]\n",
      " [28.27594332]\n",
      " [28.38965424]\n",
      " [28.47899044]\n",
      " [28.57907897]\n",
      " [28.68803967]\n",
      " [28.78564277]\n",
      " [28.90702758]\n",
      " [29.1127149 ]\n",
      " [29.40584905]\n",
      " [29.75638569]\n",
      " [30.20517515]\n",
      " [30.72428462]\n",
      " [31.22010578]\n",
      " [31.62178384]\n",
      " [31.91480919]\n",
      " [32.15310136]\n",
      " [32.34215833]\n",
      " [32.44417606]\n",
      " [32.45362439]\n",
      " [32.40212901]\n",
      " [32.31839807]\n",
      " [32.18687998]\n",
      " [32.03036197]\n",
      " [31.89210011]\n",
      " [31.76589306]\n",
      " [31.69173303]\n",
      " [31.67151092]\n",
      " [31.71682182]\n",
      " [31.83343957]\n",
      " [32.01509693]\n",
      " [32.24157792]\n",
      " [32.46752106]\n",
      " [32.68337996]\n",
      " [32.88135047]\n",
      " [33.04800176]\n",
      " [33.18924706]\n",
      " [33.3504831 ]\n",
      " [33.53789129]\n",
      " [33.7223145 ]\n",
      " [33.88137616]\n",
      " [34.00127156]\n",
      " [34.05332317]\n",
      " [34.0850454 ]\n",
      " [34.15321863]\n",
      " [34.28440114]\n",
      " [34.45815629]\n",
      " [34.63095067]\n",
      " [34.77585824]\n",
      " [34.88063569]\n",
      " [34.95613038]\n",
      " [34.99540085]\n",
      " [34.95993055]\n",
      " [34.86317176]\n",
      " [34.73426169]\n",
      " [34.62196051]\n",
      " [34.53570276]\n",
      " [34.43823757]\n",
      " [34.34482539]\n",
      " [34.24315243]\n",
      " [34.13427294]\n",
      " [34.01749277]\n",
      " [33.86734924]\n",
      " [33.71095382]\n",
      " [33.61688121]\n",
      " [33.6692209 ]\n",
      " [33.90032339]\n",
      " [34.25562098]\n",
      " [34.67988094]\n",
      " [35.14000808]\n",
      " [35.62053509]\n",
      " [36.07899506]\n",
      " [36.47327504]\n",
      " [36.79349154]\n",
      " [37.00842951]\n",
      " [37.11129921]\n",
      " [37.11431177]\n",
      " [37.06001529]\n",
      " [36.96258228]\n",
      " [36.83668937]\n",
      " [36.70819915]\n",
      " [36.58950511]\n",
      " [36.51706588]\n",
      " [36.48612207]\n",
      " [36.49921581]\n",
      " [36.57652783]\n",
      " [36.71124542]\n",
      " [36.92318156]\n",
      " [37.12147693]\n",
      " [37.19702984]\n",
      " [37.13285905]\n",
      " [36.98248874]\n",
      " [36.76972208]\n",
      " [36.56389686]\n",
      " [36.36171398]\n",
      " [36.21405742]\n",
      " [36.11892596]\n",
      " [36.04532217]\n",
      " [36.01751963]\n",
      " [36.01584327]\n",
      " [36.05871624]\n",
      " [36.08694783]\n",
      " [36.05682535]\n",
      " [35.96873034]\n",
      " [35.82298153]\n",
      " [35.60820139]\n",
      " [35.3260862 ]\n",
      " [35.02269159]\n",
      " [34.7504308 ]\n",
      " [34.58650247]\n",
      " [34.55291079]\n",
      " [34.65535605]\n",
      " [34.84222332]\n",
      " [35.0703347 ]\n",
      " [35.30766304]\n",
      " [35.49254901]\n",
      " [35.56866429]\n",
      " [35.50446132]\n",
      " [35.27268461]\n",
      " [34.906057  ]\n",
      " [34.47145689]\n",
      " [33.97750057]\n",
      " [33.5149738 ]\n",
      " [33.14604004]\n",
      " [32.88413778]\n",
      " [32.70498117]\n",
      " [32.57951577]\n",
      " [32.51290092]\n",
      " [32.53031276]\n",
      " [32.6182576 ]\n",
      " [32.74879347]\n",
      " [32.89607767]\n",
      " [33.00779043]\n",
      " [33.05114609]\n",
      " [33.02309532]\n",
      " [32.93550904]\n",
      " [32.78670783]\n",
      " [32.61248532]\n",
      " [32.4349346 ]\n",
      " [32.28903102]\n",
      " [32.19130074]\n",
      " [32.16566184]\n",
      " [32.21323906]\n",
      " [32.30845786]\n",
      " [32.44144086]\n",
      " [32.6043977 ]\n",
      " [32.76814063]\n",
      " [32.88308967]\n",
      " [32.91816157]\n",
      " [32.88915768]\n",
      " [32.7973192 ]\n",
      " [32.65261084]\n",
      " [32.45315856]\n",
      " [32.21020659]\n",
      " [31.94989948]\n",
      " [31.67931506]\n",
      " [31.41712319]\n",
      " [31.2138355 ]\n",
      " [31.13954063]\n",
      " [31.20485606]\n",
      " [31.38512667]\n",
      " [31.62178078]\n",
      " [31.87644279]\n",
      " [32.15872347]\n",
      " [32.48270489]\n",
      " [32.84904289]\n",
      " [33.23211391]\n",
      " [33.60615492]\n",
      " [33.94356412]\n",
      " [34.19592765]\n",
      " [34.36404537]\n",
      " [34.47056201]\n",
      " [34.51126828]\n",
      " [34.5018506 ]\n",
      " [34.4479985 ]\n",
      " [34.33507213]\n",
      " [34.17253208]\n",
      " [33.97670989]\n",
      " [33.80470006]\n",
      " [33.7041932 ]\n",
      " [33.71966357]\n",
      " [33.84381117]\n",
      " [34.03002107]\n",
      " [34.27706742]\n",
      " [34.55067973]\n",
      " [34.8216932 ]\n",
      " [35.05936631]\n",
      " [35.24180362]\n",
      " [35.38919815]\n",
      " [35.52679039]\n",
      " [35.67801727]\n",
      " [35.83845803]\n",
      " [35.99337169]\n",
      " [36.12836663]\n",
      " [36.20467651]\n",
      " [36.21003046]\n",
      " [36.1570855 ]\n",
      " [36.05831017]\n",
      " [35.97268068]\n",
      " [35.88124213]\n",
      " [35.80970698]\n",
      " [35.78139264]\n",
      " [35.79720013]\n",
      " [35.79916764]\n",
      " [35.79593749]\n",
      " [35.79656574]\n",
      " [35.75096829]\n",
      " [35.61067456]\n",
      " [35.38263213]\n",
      " [35.09645475]\n",
      " [34.76632257]\n",
      " [34.46481885]\n",
      " [34.28330553]\n",
      " [34.25356153]\n",
      " [34.35217596]\n",
      " [34.47817001]\n",
      " [34.61188699]\n",
      " [34.70285052]\n",
      " [34.73218998]\n",
      " [34.67488249]\n",
      " [34.53398809]\n",
      " [34.31601764]\n",
      " [34.05839364]\n",
      " [33.77118653]\n",
      " [33.46047966]\n",
      " [33.14583011]\n",
      " [32.86520128]\n",
      " [32.65549774]\n",
      " [32.53589502]\n",
      " [32.49767726]\n",
      " [32.50677162]\n",
      " [32.51444704]\n",
      " [32.51137932]\n",
      " [32.53542613]\n",
      " [32.64449103]\n",
      " [32.87980282]\n",
      " [33.19692402]\n",
      " [33.54454925]\n",
      " [33.89089345]\n",
      " [34.22875775]\n",
      " [34.51433753]\n",
      " [34.73388627]\n",
      " [34.87892561]\n",
      " [34.92773176]\n",
      " [34.89090841]\n",
      " [34.78373133]\n",
      " [34.61350666]\n",
      " [34.41821466]\n",
      " [34.26673801]\n",
      " [34.17740181]\n",
      " [34.1292561 ]\n",
      " [34.07391458]\n",
      " [33.95555918]\n",
      " [33.76855093]\n",
      " [33.53666389]\n",
      " [33.26109327]\n",
      " [32.95693557]\n",
      " [32.66993226]\n",
      " [32.43736487]\n",
      " [32.2931162 ]\n",
      " [32.26578868]\n",
      " [32.34467288]\n",
      " [32.52505228]\n",
      " [32.77065977]\n",
      " [33.02831289]\n",
      " [33.28809901]\n",
      " [33.58057272]\n",
      " [33.92166411]\n",
      " [34.30268793]\n",
      " [34.70751186]\n",
      " [35.12937986]\n",
      " [35.51466509]\n",
      " [35.84247886]\n",
      " [36.07133342]\n",
      " [36.19813195]\n",
      " [36.23826972]\n",
      " [36.23782381]\n",
      " [36.19887666]\n",
      " [36.14037395]\n",
      " [36.0502011 ]\n",
      " [35.93957629]\n",
      " [35.79286058]\n",
      " [35.60103316]\n",
      " [35.38589599]\n",
      " [35.16141469]\n",
      " [34.92775015]\n",
      " [34.71212263]\n",
      " [34.54087896]\n",
      " [34.40234588]\n",
      " [34.26233563]\n",
      " [34.12265484]\n",
      " [33.98533229]\n",
      " [33.86587208]\n",
      " [33.7933072 ]\n",
      " [33.77503574]\n",
      " [33.86048748]\n",
      " [34.04511756]\n",
      " [34.27475055]\n",
      " [34.54105978]\n",
      " [34.79895807]\n",
      " [35.00405237]\n",
      " [35.13941354]\n",
      " [35.23597772]\n",
      " [35.27243484]\n",
      " [35.2743717 ]\n",
      " [35.27653535]\n",
      " [35.29982672]\n",
      " [35.34066476]\n",
      " [35.4071984 ]\n",
      " [35.51827678]\n",
      " [35.66324717]]\n"
     ]
    }
   ],
   "metadata": {
    "colab": {
     "base_uri": "https://localhost:8080/"
    },
    "id": "L9MB4ux0vIPR",
    "outputId": "4c3968f2-6e13-40a4-db86-d80a455dfab3"
   }
  },
  {
   "cell_type": "code",
   "execution_count": 20,
   "source": [
    "allTargetData = np.vstack((dataset[:training_data_len, 0:1], dataset[training_data_len:, 0:1]))\r\n",
    "training_predicted = regressor.predict(X_train)\r\n",
    "volume = dataset[:len(X_train), 1:]\r\n",
    "training_predicted = np.column_stack((training_predicted, volume))\r\n",
    "training_predicted = sc.inverse_transform(training_predicted)\r\n",
    "allForecastedData = np.vstack((dataset[0:window, 0:1], training_predicted[:,0:1], predicted[:,0:1]))\r\n",
    "# date = df['DATA']\r\n",
    "date = df.index\r\n",
    "\r\n",
    "figure(figsize=(20, 6), dpi=80)\r\n",
    "plt.plot(date, allForecastedData, color = 'red', label = 'Previsto')\r\n",
    "plt.plot(date, allTargetData, color = 'blue', label = 'Real')\r\n",
    "plt.title('Previsão de série temporal')\r\n",
    "plt.xlabel('Tempo')\r\n",
    "plt.ylabel('Cotação (R$)')\r\n",
    "plt.legend()\r\n",
    "plt.show()"
   ],
   "outputs": [
    {
     "output_type": "display_data",
     "data": {
      "text/plain": [
       "<Figure size 1600x480 with 1 Axes>"
      ],
      "image/svg+xml": "<?xml version=\"1.0\" encoding=\"utf-8\" standalone=\"no\"?>\r\n<!DOCTYPE svg PUBLIC \"-//W3C//DTD SVG 1.1//EN\"\r\n  \"http://www.w3.org/Graphics/SVG/1.1/DTD/svg11.dtd\">\r\n<svg height=\"386.514375pt\" version=\"1.1\" viewBox=\"0 0 1163.821875 386.514375\" width=\"1163.821875pt\" xmlns=\"http://www.w3.org/2000/svg\" xmlns:xlink=\"http://www.w3.org/1999/xlink\">\r\n <metadata>\r\n  <rdf:RDF xmlns:cc=\"http://creativecommons.org/ns#\" xmlns:dc=\"http://purl.org/dc/elements/1.1/\" xmlns:rdf=\"http://www.w3.org/1999/02/22-rdf-syntax-ns#\">\r\n   <cc:Work>\r\n    <dc:type rdf:resource=\"http://purl.org/dc/dcmitype/StillImage\"/>\r\n    <dc:date>2021-08-18T20:30:21.769561</dc:date>\r\n    <dc:format>image/svg+xml</dc:format>\r\n    <dc:creator>\r\n     <cc:Agent>\r\n      <dc:title>Matplotlib v3.4.2, https://matplotlib.org/</dc:title>\r\n     </cc:Agent>\r\n    </dc:creator>\r\n   </cc:Work>\r\n  </rdf:RDF>\r\n </metadata>\r\n <defs>\r\n  <style type=\"text/css\">*{stroke-linecap:butt;stroke-linejoin:round;}</style>\r\n </defs>\r\n <g id=\"figure_1\">\r\n  <g id=\"patch_1\">\r\n   <path d=\"M 0 386.514375 \r\nL 1163.821875 386.514375 \r\nL 1163.821875 0 \r\nL 0 0 \r\nz\r\n\" style=\"fill:none;\"/>\r\n  </g>\r\n  <g id=\"axes_1\">\r\n   <g id=\"patch_2\">\r\n    <path d=\"M 40.621875 348.958125 \r\nL 1156.621875 348.958125 \r\nL 1156.621875 22.798125 \r\nL 40.621875 22.798125 \r\nz\r\n\" style=\"fill:#ffffff;\"/>\r\n   </g>\r\n   <g id=\"matplotlib.axis_1\">\r\n    <g id=\"xtick_1\">\r\n     <g id=\"line2d_1\">\r\n      <defs>\r\n       <path d=\"M 0 0 \r\nL 0 3.5 \r\n\" id=\"mc2a32f47d3\" style=\"stroke:#000000;stroke-width:0.8;\"/>\r\n      </defs>\r\n      <g>\r\n       <use style=\"stroke:#000000;stroke-width:0.8;\" x=\"90.792623\" xlink:href=\"#mc2a32f47d3\" y=\"348.958125\"/>\r\n      </g>\r\n     </g>\r\n     <g id=\"text_1\">\r\n      <!-- 2015 -->\r\n      <g transform=\"translate(78.067623 363.556562)scale(0.1 -0.1)\">\r\n       <defs>\r\n        <path d=\"M 1228 531 \r\nL 3431 531 \r\nL 3431 0 \r\nL 469 0 \r\nL 469 531 \r\nQ 828 903 1448 1529 \r\nQ 2069 2156 2228 2338 \r\nQ 2531 2678 2651 2914 \r\nQ 2772 3150 2772 3378 \r\nQ 2772 3750 2511 3984 \r\nQ 2250 4219 1831 4219 \r\nQ 1534 4219 1204 4116 \r\nQ 875 4013 500 3803 \r\nL 500 4441 \r\nQ 881 4594 1212 4672 \r\nQ 1544 4750 1819 4750 \r\nQ 2544 4750 2975 4387 \r\nQ 3406 4025 3406 3419 \r\nQ 3406 3131 3298 2873 \r\nQ 3191 2616 2906 2266 \r\nQ 2828 2175 2409 1742 \r\nQ 1991 1309 1228 531 \r\nz\r\n\" id=\"DejaVuSans-32\" transform=\"scale(0.015625)\"/>\r\n        <path d=\"M 2034 4250 \r\nQ 1547 4250 1301 3770 \r\nQ 1056 3291 1056 2328 \r\nQ 1056 1369 1301 889 \r\nQ 1547 409 2034 409 \r\nQ 2525 409 2770 889 \r\nQ 3016 1369 3016 2328 \r\nQ 3016 3291 2770 3770 \r\nQ 2525 4250 2034 4250 \r\nz\r\nM 2034 4750 \r\nQ 2819 4750 3233 4129 \r\nQ 3647 3509 3647 2328 \r\nQ 3647 1150 3233 529 \r\nQ 2819 -91 2034 -91 \r\nQ 1250 -91 836 529 \r\nQ 422 1150 422 2328 \r\nQ 422 3509 836 4129 \r\nQ 1250 4750 2034 4750 \r\nz\r\n\" id=\"DejaVuSans-30\" transform=\"scale(0.015625)\"/>\r\n        <path d=\"M 794 531 \r\nL 1825 531 \r\nL 1825 4091 \r\nL 703 3866 \r\nL 703 4441 \r\nL 1819 4666 \r\nL 2450 4666 \r\nL 2450 531 \r\nL 3481 531 \r\nL 3481 0 \r\nL 794 0 \r\nL 794 531 \r\nz\r\n\" id=\"DejaVuSans-31\" transform=\"scale(0.015625)\"/>\r\n        <path d=\"M 691 4666 \r\nL 3169 4666 \r\nL 3169 4134 \r\nL 1269 4134 \r\nL 1269 2991 \r\nQ 1406 3038 1543 3061 \r\nQ 1681 3084 1819 3084 \r\nQ 2600 3084 3056 2656 \r\nQ 3513 2228 3513 1497 \r\nQ 3513 744 3044 326 \r\nQ 2575 -91 1722 -91 \r\nQ 1428 -91 1123 -41 \r\nQ 819 9 494 109 \r\nL 494 744 \r\nQ 775 591 1075 516 \r\nQ 1375 441 1709 441 \r\nQ 2250 441 2565 725 \r\nQ 2881 1009 2881 1497 \r\nQ 2881 1984 2565 2268 \r\nQ 2250 2553 1709 2553 \r\nQ 1456 2553 1204 2497 \r\nQ 953 2441 691 2322 \r\nL 691 4666 \r\nz\r\n\" id=\"DejaVuSans-35\" transform=\"scale(0.015625)\"/>\r\n       </defs>\r\n       <use xlink:href=\"#DejaVuSans-32\"/>\r\n       <use x=\"63.623047\" xlink:href=\"#DejaVuSans-30\"/>\r\n       <use x=\"127.246094\" xlink:href=\"#DejaVuSans-31\"/>\r\n       <use x=\"190.869141\" xlink:href=\"#DejaVuSans-35\"/>\r\n      </g>\r\n     </g>\r\n    </g>\r\n    <g id=\"xtick_2\">\r\n     <g id=\"line2d_2\">\r\n      <g>\r\n       <use style=\"stroke:#000000;stroke-width:0.8;\" x=\"293.924324\" xlink:href=\"#mc2a32f47d3\" y=\"348.958125\"/>\r\n      </g>\r\n     </g>\r\n     <g id=\"text_2\">\r\n      <!-- 2016 -->\r\n      <g transform=\"translate(281.199324 363.556562)scale(0.1 -0.1)\">\r\n       <defs>\r\n        <path d=\"M 2113 2584 \r\nQ 1688 2584 1439 2293 \r\nQ 1191 2003 1191 1497 \r\nQ 1191 994 1439 701 \r\nQ 1688 409 2113 409 \r\nQ 2538 409 2786 701 \r\nQ 3034 994 3034 1497 \r\nQ 3034 2003 2786 2293 \r\nQ 2538 2584 2113 2584 \r\nz\r\nM 3366 4563 \r\nL 3366 3988 \r\nQ 3128 4100 2886 4159 \r\nQ 2644 4219 2406 4219 \r\nQ 1781 4219 1451 3797 \r\nQ 1122 3375 1075 2522 \r\nQ 1259 2794 1537 2939 \r\nQ 1816 3084 2150 3084 \r\nQ 2853 3084 3261 2657 \r\nQ 3669 2231 3669 1497 \r\nQ 3669 778 3244 343 \r\nQ 2819 -91 2113 -91 \r\nQ 1303 -91 875 529 \r\nQ 447 1150 447 2328 \r\nQ 447 3434 972 4092 \r\nQ 1497 4750 2381 4750 \r\nQ 2619 4750 2861 4703 \r\nQ 3103 4656 3366 4563 \r\nz\r\n\" id=\"DejaVuSans-36\" transform=\"scale(0.015625)\"/>\r\n       </defs>\r\n       <use xlink:href=\"#DejaVuSans-32\"/>\r\n       <use x=\"63.623047\" xlink:href=\"#DejaVuSans-30\"/>\r\n       <use x=\"127.246094\" xlink:href=\"#DejaVuSans-31\"/>\r\n       <use x=\"190.869141\" xlink:href=\"#DejaVuSans-36\"/>\r\n      </g>\r\n     </g>\r\n    </g>\r\n    <g id=\"xtick_3\">\r\n     <g id=\"line2d_3\">\r\n      <g>\r\n       <use style=\"stroke:#000000;stroke-width:0.8;\" x=\"497.61255\" xlink:href=\"#mc2a32f47d3\" y=\"348.958125\"/>\r\n      </g>\r\n     </g>\r\n     <g id=\"text_3\">\r\n      <!-- 2017 -->\r\n      <g transform=\"translate(484.88755 363.556562)scale(0.1 -0.1)\">\r\n       <defs>\r\n        <path d=\"M 525 4666 \r\nL 3525 4666 \r\nL 3525 4397 \r\nL 1831 0 \r\nL 1172 0 \r\nL 2766 4134 \r\nL 525 4134 \r\nL 525 4666 \r\nz\r\n\" id=\"DejaVuSans-37\" transform=\"scale(0.015625)\"/>\r\n       </defs>\r\n       <use xlink:href=\"#DejaVuSans-32\"/>\r\n       <use x=\"63.623047\" xlink:href=\"#DejaVuSans-30\"/>\r\n       <use x=\"127.246094\" xlink:href=\"#DejaVuSans-31\"/>\r\n       <use x=\"190.869141\" xlink:href=\"#DejaVuSans-37\"/>\r\n      </g>\r\n     </g>\r\n    </g>\r\n    <g id=\"xtick_4\">\r\n     <g id=\"line2d_4\">\r\n      <g>\r\n       <use style=\"stroke:#000000;stroke-width:0.8;\" x=\"700.744251\" xlink:href=\"#mc2a32f47d3\" y=\"348.958125\"/>\r\n      </g>\r\n     </g>\r\n     <g id=\"text_4\">\r\n      <!-- 2018 -->\r\n      <g transform=\"translate(688.019251 363.556562)scale(0.1 -0.1)\">\r\n       <defs>\r\n        <path d=\"M 2034 2216 \r\nQ 1584 2216 1326 1975 \r\nQ 1069 1734 1069 1313 \r\nQ 1069 891 1326 650 \r\nQ 1584 409 2034 409 \r\nQ 2484 409 2743 651 \r\nQ 3003 894 3003 1313 \r\nQ 3003 1734 2745 1975 \r\nQ 2488 2216 2034 2216 \r\nz\r\nM 1403 2484 \r\nQ 997 2584 770 2862 \r\nQ 544 3141 544 3541 \r\nQ 544 4100 942 4425 \r\nQ 1341 4750 2034 4750 \r\nQ 2731 4750 3128 4425 \r\nQ 3525 4100 3525 3541 \r\nQ 3525 3141 3298 2862 \r\nQ 3072 2584 2669 2484 \r\nQ 3125 2378 3379 2068 \r\nQ 3634 1759 3634 1313 \r\nQ 3634 634 3220 271 \r\nQ 2806 -91 2034 -91 \r\nQ 1263 -91 848 271 \r\nQ 434 634 434 1313 \r\nQ 434 1759 690 2068 \r\nQ 947 2378 1403 2484 \r\nz\r\nM 1172 3481 \r\nQ 1172 3119 1398 2916 \r\nQ 1625 2713 2034 2713 \r\nQ 2441 2713 2670 2916 \r\nQ 2900 3119 2900 3481 \r\nQ 2900 3844 2670 4047 \r\nQ 2441 4250 2034 4250 \r\nQ 1625 4250 1398 4047 \r\nQ 1172 3844 1172 3481 \r\nz\r\n\" id=\"DejaVuSans-38\" transform=\"scale(0.015625)\"/>\r\n       </defs>\r\n       <use xlink:href=\"#DejaVuSans-32\"/>\r\n       <use x=\"63.623047\" xlink:href=\"#DejaVuSans-30\"/>\r\n       <use x=\"127.246094\" xlink:href=\"#DejaVuSans-31\"/>\r\n       <use x=\"190.869141\" xlink:href=\"#DejaVuSans-38\"/>\r\n      </g>\r\n     </g>\r\n    </g>\r\n    <g id=\"xtick_5\">\r\n     <g id=\"line2d_5\">\r\n      <g>\r\n       <use style=\"stroke:#000000;stroke-width:0.8;\" x=\"903.875952\" xlink:href=\"#mc2a32f47d3\" y=\"348.958125\"/>\r\n      </g>\r\n     </g>\r\n     <g id=\"text_5\">\r\n      <!-- 2019 -->\r\n      <g transform=\"translate(891.150952 363.556562)scale(0.1 -0.1)\">\r\n       <defs>\r\n        <path d=\"M 703 97 \r\nL 703 672 \r\nQ 941 559 1184 500 \r\nQ 1428 441 1663 441 \r\nQ 2288 441 2617 861 \r\nQ 2947 1281 2994 2138 \r\nQ 2813 1869 2534 1725 \r\nQ 2256 1581 1919 1581 \r\nQ 1219 1581 811 2004 \r\nQ 403 2428 403 3163 \r\nQ 403 3881 828 4315 \r\nQ 1253 4750 1959 4750 \r\nQ 2769 4750 3195 4129 \r\nQ 3622 3509 3622 2328 \r\nQ 3622 1225 3098 567 \r\nQ 2575 -91 1691 -91 \r\nQ 1453 -91 1209 -44 \r\nQ 966 3 703 97 \r\nz\r\nM 1959 2075 \r\nQ 2384 2075 2632 2365 \r\nQ 2881 2656 2881 3163 \r\nQ 2881 3666 2632 3958 \r\nQ 2384 4250 1959 4250 \r\nQ 1534 4250 1286 3958 \r\nQ 1038 3666 1038 3163 \r\nQ 1038 2656 1286 2365 \r\nQ 1534 2075 1959 2075 \r\nz\r\n\" id=\"DejaVuSans-39\" transform=\"scale(0.015625)\"/>\r\n       </defs>\r\n       <use xlink:href=\"#DejaVuSans-32\"/>\r\n       <use x=\"63.623047\" xlink:href=\"#DejaVuSans-30\"/>\r\n       <use x=\"127.246094\" xlink:href=\"#DejaVuSans-31\"/>\r\n       <use x=\"190.869141\" xlink:href=\"#DejaVuSans-39\"/>\r\n      </g>\r\n     </g>\r\n    </g>\r\n    <g id=\"xtick_6\">\r\n     <g id=\"line2d_6\">\r\n      <g>\r\n       <use style=\"stroke:#000000;stroke-width:0.8;\" x=\"1107.007653\" xlink:href=\"#mc2a32f47d3\" y=\"348.958125\"/>\r\n      </g>\r\n     </g>\r\n     <g id=\"text_6\">\r\n      <!-- 2020 -->\r\n      <g transform=\"translate(1094.282653 363.556562)scale(0.1 -0.1)\">\r\n       <use xlink:href=\"#DejaVuSans-32\"/>\r\n       <use x=\"63.623047\" xlink:href=\"#DejaVuSans-30\"/>\r\n       <use x=\"127.246094\" xlink:href=\"#DejaVuSans-32\"/>\r\n       <use x=\"190.869141\" xlink:href=\"#DejaVuSans-30\"/>\r\n      </g>\r\n     </g>\r\n    </g>\r\n    <g id=\"text_7\">\r\n     <!-- Tempo -->\r\n     <g transform=\"translate(582.2375 377.234687)scale(0.1 -0.1)\">\r\n      <defs>\r\n       <path d=\"M -19 4666 \r\nL 3928 4666 \r\nL 3928 4134 \r\nL 2272 4134 \r\nL 2272 0 \r\nL 1638 0 \r\nL 1638 4134 \r\nL -19 4134 \r\nL -19 4666 \r\nz\r\n\" id=\"DejaVuSans-54\" transform=\"scale(0.015625)\"/>\r\n       <path d=\"M 3597 1894 \r\nL 3597 1613 \r\nL 953 1613 \r\nQ 991 1019 1311 708 \r\nQ 1631 397 2203 397 \r\nQ 2534 397 2845 478 \r\nQ 3156 559 3463 722 \r\nL 3463 178 \r\nQ 3153 47 2828 -22 \r\nQ 2503 -91 2169 -91 \r\nQ 1331 -91 842 396 \r\nQ 353 884 353 1716 \r\nQ 353 2575 817 3079 \r\nQ 1281 3584 2069 3584 \r\nQ 2775 3584 3186 3129 \r\nQ 3597 2675 3597 1894 \r\nz\r\nM 3022 2063 \r\nQ 3016 2534 2758 2815 \r\nQ 2500 3097 2075 3097 \r\nQ 1594 3097 1305 2825 \r\nQ 1016 2553 972 2059 \r\nL 3022 2063 \r\nz\r\n\" id=\"DejaVuSans-65\" transform=\"scale(0.015625)\"/>\r\n       <path d=\"M 3328 2828 \r\nQ 3544 3216 3844 3400 \r\nQ 4144 3584 4550 3584 \r\nQ 5097 3584 5394 3201 \r\nQ 5691 2819 5691 2113 \r\nL 5691 0 \r\nL 5113 0 \r\nL 5113 2094 \r\nQ 5113 2597 4934 2840 \r\nQ 4756 3084 4391 3084 \r\nQ 3944 3084 3684 2787 \r\nQ 3425 2491 3425 1978 \r\nL 3425 0 \r\nL 2847 0 \r\nL 2847 2094 \r\nQ 2847 2600 2669 2842 \r\nQ 2491 3084 2119 3084 \r\nQ 1678 3084 1418 2786 \r\nQ 1159 2488 1159 1978 \r\nL 1159 0 \r\nL 581 0 \r\nL 581 3500 \r\nL 1159 3500 \r\nL 1159 2956 \r\nQ 1356 3278 1631 3431 \r\nQ 1906 3584 2284 3584 \r\nQ 2666 3584 2933 3390 \r\nQ 3200 3197 3328 2828 \r\nz\r\n\" id=\"DejaVuSans-6d\" transform=\"scale(0.015625)\"/>\r\n       <path d=\"M 1159 525 \r\nL 1159 -1331 \r\nL 581 -1331 \r\nL 581 3500 \r\nL 1159 3500 \r\nL 1159 2969 \r\nQ 1341 3281 1617 3432 \r\nQ 1894 3584 2278 3584 \r\nQ 2916 3584 3314 3078 \r\nQ 3713 2572 3713 1747 \r\nQ 3713 922 3314 415 \r\nQ 2916 -91 2278 -91 \r\nQ 1894 -91 1617 61 \r\nQ 1341 213 1159 525 \r\nz\r\nM 3116 1747 \r\nQ 3116 2381 2855 2742 \r\nQ 2594 3103 2138 3103 \r\nQ 1681 3103 1420 2742 \r\nQ 1159 2381 1159 1747 \r\nQ 1159 1113 1420 752 \r\nQ 1681 391 2138 391 \r\nQ 2594 391 2855 752 \r\nQ 3116 1113 3116 1747 \r\nz\r\n\" id=\"DejaVuSans-70\" transform=\"scale(0.015625)\"/>\r\n       <path d=\"M 1959 3097 \r\nQ 1497 3097 1228 2736 \r\nQ 959 2375 959 1747 \r\nQ 959 1119 1226 758 \r\nQ 1494 397 1959 397 \r\nQ 2419 397 2687 759 \r\nQ 2956 1122 2956 1747 \r\nQ 2956 2369 2687 2733 \r\nQ 2419 3097 1959 3097 \r\nz\r\nM 1959 3584 \r\nQ 2709 3584 3137 3096 \r\nQ 3566 2609 3566 1747 \r\nQ 3566 888 3137 398 \r\nQ 2709 -91 1959 -91 \r\nQ 1206 -91 779 398 \r\nQ 353 888 353 1747 \r\nQ 353 2609 779 3096 \r\nQ 1206 3584 1959 3584 \r\nz\r\n\" id=\"DejaVuSans-6f\" transform=\"scale(0.015625)\"/>\r\n      </defs>\r\n      <use xlink:href=\"#DejaVuSans-54\"/>\r\n      <use x=\"44.083984\" xlink:href=\"#DejaVuSans-65\"/>\r\n      <use x=\"105.607422\" xlink:href=\"#DejaVuSans-6d\"/>\r\n      <use x=\"203.019531\" xlink:href=\"#DejaVuSans-70\"/>\r\n      <use x=\"266.496094\" xlink:href=\"#DejaVuSans-6f\"/>\r\n     </g>\r\n    </g>\r\n   </g>\r\n   <g id=\"matplotlib.axis_2\">\r\n    <g id=\"ytick_1\">\r\n     <g id=\"line2d_7\">\r\n      <defs>\r\n       <path d=\"M 0 0 \r\nL -3.5 0 \r\n\" id=\"m5a20f26a13\" style=\"stroke:#000000;stroke-width:0.8;\"/>\r\n      </defs>\r\n      <g>\r\n       <use style=\"stroke:#000000;stroke-width:0.8;\" x=\"40.621875\" xlink:href=\"#m5a20f26a13\" y=\"322.38932\"/>\r\n      </g>\r\n     </g>\r\n     <g id=\"text_8\">\r\n      <!-- 15 -->\r\n      <g transform=\"translate(20.896875 326.188539)scale(0.1 -0.1)\">\r\n       <use xlink:href=\"#DejaVuSans-31\"/>\r\n       <use x=\"63.623047\" xlink:href=\"#DejaVuSans-35\"/>\r\n      </g>\r\n     </g>\r\n    </g>\r\n    <g id=\"ytick_2\">\r\n     <g id=\"line2d_8\">\r\n      <g>\r\n       <use style=\"stroke:#000000;stroke-width:0.8;\" x=\"40.621875\" xlink:href=\"#m5a20f26a13\" y=\"264.721083\"/>\r\n      </g>\r\n     </g>\r\n     <g id=\"text_9\">\r\n      <!-- 20 -->\r\n      <g transform=\"translate(20.896875 268.520302)scale(0.1 -0.1)\">\r\n       <use xlink:href=\"#DejaVuSans-32\"/>\r\n       <use x=\"63.623047\" xlink:href=\"#DejaVuSans-30\"/>\r\n      </g>\r\n     </g>\r\n    </g>\r\n    <g id=\"ytick_3\">\r\n     <g id=\"line2d_9\">\r\n      <g>\r\n       <use style=\"stroke:#000000;stroke-width:0.8;\" x=\"40.621875\" xlink:href=\"#m5a20f26a13\" y=\"207.052845\"/>\r\n      </g>\r\n     </g>\r\n     <g id=\"text_10\">\r\n      <!-- 25 -->\r\n      <g transform=\"translate(20.896875 210.852064)scale(0.1 -0.1)\">\r\n       <use xlink:href=\"#DejaVuSans-32\"/>\r\n       <use x=\"63.623047\" xlink:href=\"#DejaVuSans-35\"/>\r\n      </g>\r\n     </g>\r\n    </g>\r\n    <g id=\"ytick_4\">\r\n     <g id=\"line2d_10\">\r\n      <g>\r\n       <use style=\"stroke:#000000;stroke-width:0.8;\" x=\"40.621875\" xlink:href=\"#m5a20f26a13\" y=\"149.384608\"/>\r\n      </g>\r\n     </g>\r\n     <g id=\"text_11\">\r\n      <!-- 30 -->\r\n      <g transform=\"translate(20.896875 153.183827)scale(0.1 -0.1)\">\r\n       <defs>\r\n        <path d=\"M 2597 2516 \r\nQ 3050 2419 3304 2112 \r\nQ 3559 1806 3559 1356 \r\nQ 3559 666 3084 287 \r\nQ 2609 -91 1734 -91 \r\nQ 1441 -91 1130 -33 \r\nQ 819 25 488 141 \r\nL 488 750 \r\nQ 750 597 1062 519 \r\nQ 1375 441 1716 441 \r\nQ 2309 441 2620 675 \r\nQ 2931 909 2931 1356 \r\nQ 2931 1769 2642 2001 \r\nQ 2353 2234 1838 2234 \r\nL 1294 2234 \r\nL 1294 2753 \r\nL 1863 2753 \r\nQ 2328 2753 2575 2939 \r\nQ 2822 3125 2822 3475 \r\nQ 2822 3834 2567 4026 \r\nQ 2313 4219 1838 4219 \r\nQ 1578 4219 1281 4162 \r\nQ 984 4106 628 3988 \r\nL 628 4550 \r\nQ 988 4650 1302 4700 \r\nQ 1616 4750 1894 4750 \r\nQ 2613 4750 3031 4423 \r\nQ 3450 4097 3450 3541 \r\nQ 3450 3153 3228 2886 \r\nQ 3006 2619 2597 2516 \r\nz\r\n\" id=\"DejaVuSans-33\" transform=\"scale(0.015625)\"/>\r\n       </defs>\r\n       <use xlink:href=\"#DejaVuSans-33\"/>\r\n       <use x=\"63.623047\" xlink:href=\"#DejaVuSans-30\"/>\r\n      </g>\r\n     </g>\r\n    </g>\r\n    <g id=\"ytick_5\">\r\n     <g id=\"line2d_11\">\r\n      <g>\r\n       <use style=\"stroke:#000000;stroke-width:0.8;\" x=\"40.621875\" xlink:href=\"#m5a20f26a13\" y=\"91.71637\"/>\r\n      </g>\r\n     </g>\r\n     <g id=\"text_12\">\r\n      <!-- 35 -->\r\n      <g transform=\"translate(20.896875 95.515589)scale(0.1 -0.1)\">\r\n       <use xlink:href=\"#DejaVuSans-33\"/>\r\n       <use x=\"63.623047\" xlink:href=\"#DejaVuSans-35\"/>\r\n      </g>\r\n     </g>\r\n    </g>\r\n    <g id=\"ytick_6\">\r\n     <g id=\"line2d_12\">\r\n      <g>\r\n       <use style=\"stroke:#000000;stroke-width:0.8;\" x=\"40.621875\" xlink:href=\"#m5a20f26a13\" y=\"34.048133\"/>\r\n      </g>\r\n     </g>\r\n     <g id=\"text_13\">\r\n      <!-- 40 -->\r\n      <g transform=\"translate(20.896875 37.847352)scale(0.1 -0.1)\">\r\n       <defs>\r\n        <path d=\"M 2419 4116 \r\nL 825 1625 \r\nL 2419 1625 \r\nL 2419 4116 \r\nz\r\nM 2253 4666 \r\nL 3047 4666 \r\nL 3047 1625 \r\nL 3713 1625 \r\nL 3713 1100 \r\nL 3047 1100 \r\nL 3047 0 \r\nL 2419 0 \r\nL 2419 1100 \r\nL 313 1100 \r\nL 313 1709 \r\nL 2253 4666 \r\nz\r\n\" id=\"DejaVuSans-34\" transform=\"scale(0.015625)\"/>\r\n       </defs>\r\n       <use xlink:href=\"#DejaVuSans-34\"/>\r\n       <use x=\"63.623047\" xlink:href=\"#DejaVuSans-30\"/>\r\n      </g>\r\n     </g>\r\n    </g>\r\n    <g id=\"text_14\">\r\n     <!-- Cotação (R$) -->\r\n     <g transform=\"translate(14.817188 218.471875)rotate(-90)scale(0.1 -0.1)\">\r\n      <defs>\r\n       <path d=\"M 4122 4306 \r\nL 4122 3641 \r\nQ 3803 3938 3442 4084 \r\nQ 3081 4231 2675 4231 \r\nQ 1875 4231 1450 3742 \r\nQ 1025 3253 1025 2328 \r\nQ 1025 1406 1450 917 \r\nQ 1875 428 2675 428 \r\nQ 3081 428 3442 575 \r\nQ 3803 722 4122 1019 \r\nL 4122 359 \r\nQ 3791 134 3420 21 \r\nQ 3050 -91 2638 -91 \r\nQ 1578 -91 968 557 \r\nQ 359 1206 359 2328 \r\nQ 359 3453 968 4101 \r\nQ 1578 4750 2638 4750 \r\nQ 3056 4750 3426 4639 \r\nQ 3797 4528 4122 4306 \r\nz\r\n\" id=\"DejaVuSans-43\" transform=\"scale(0.015625)\"/>\r\n       <path d=\"M 1172 4494 \r\nL 1172 3500 \r\nL 2356 3500 \r\nL 2356 3053 \r\nL 1172 3053 \r\nL 1172 1153 \r\nQ 1172 725 1289 603 \r\nQ 1406 481 1766 481 \r\nL 2356 481 \r\nL 2356 0 \r\nL 1766 0 \r\nQ 1100 0 847 248 \r\nQ 594 497 594 1153 \r\nL 594 3053 \r\nL 172 3053 \r\nL 172 3500 \r\nL 594 3500 \r\nL 594 4494 \r\nL 1172 4494 \r\nz\r\n\" id=\"DejaVuSans-74\" transform=\"scale(0.015625)\"/>\r\n       <path d=\"M 2194 1759 \r\nQ 1497 1759 1228 1600 \r\nQ 959 1441 959 1056 \r\nQ 959 750 1161 570 \r\nQ 1363 391 1709 391 \r\nQ 2188 391 2477 730 \r\nQ 2766 1069 2766 1631 \r\nL 2766 1759 \r\nL 2194 1759 \r\nz\r\nM 3341 1997 \r\nL 3341 0 \r\nL 2766 0 \r\nL 2766 531 \r\nQ 2569 213 2275 61 \r\nQ 1981 -91 1556 -91 \r\nQ 1019 -91 701 211 \r\nQ 384 513 384 1019 \r\nQ 384 1609 779 1909 \r\nQ 1175 2209 1959 2209 \r\nL 2766 2209 \r\nL 2766 2266 \r\nQ 2766 2663 2505 2880 \r\nQ 2244 3097 1772 3097 \r\nQ 1472 3097 1187 3025 \r\nQ 903 2953 641 2809 \r\nL 641 3341 \r\nQ 956 3463 1253 3523 \r\nQ 1550 3584 1831 3584 \r\nQ 2591 3584 2966 3190 \r\nQ 3341 2797 3341 1997 \r\nz\r\n\" id=\"DejaVuSans-61\" transform=\"scale(0.015625)\"/>\r\n       <path d=\"M 3122 3366 \r\nL 3122 2828 \r\nQ 2878 2963 2633 3030 \r\nQ 2388 3097 2138 3097 \r\nQ 1578 3097 1268 2742 \r\nQ 959 2388 959 1747 \r\nQ 959 1106 1268 751 \r\nQ 1578 397 2138 397 \r\nQ 2388 397 2633 464 \r\nQ 2878 531 3122 666 \r\nL 3122 134 \r\nQ 2881 22 2623 -34 \r\nQ 2366 -91 2075 -91 \r\nQ 1284 -91 818 406 \r\nQ 353 903 353 1747 \r\nQ 353 2603 823 3093 \r\nQ 1294 3584 2113 3584 \r\nQ 2378 3584 2631 3529 \r\nQ 2884 3475 3122 3366 \r\nz\r\nM 2311 0 \r\nQ 2482 -194 2566 -358 \r\nQ 2651 -522 2651 -672 \r\nQ 2651 -950 2463 -1092 \r\nQ 2276 -1234 1907 -1234 \r\nQ 1764 -1234 1628 -1215 \r\nQ 1492 -1197 1357 -1159 \r\nL 1357 -750 \r\nQ 1464 -803 1579 -826 \r\nQ 1695 -850 1842 -850 \r\nQ 2026 -850 2120 -775 \r\nQ 2214 -700 2214 -556 \r\nQ 2214 -463 2146 -327 \r\nQ 2079 -191 1939 0 \r\nL 2311 0 \r\nz\r\n\" id=\"DejaVuSans-e7\" transform=\"scale(0.015625)\"/>\r\n       <path d=\"M 2194 1759 \r\nQ 1497 1759 1228 1600 \r\nQ 959 1441 959 1056 \r\nQ 959 750 1161 570 \r\nQ 1363 391 1709 391 \r\nQ 2188 391 2477 730 \r\nQ 2766 1069 2766 1631 \r\nL 2766 1759 \r\nL 2194 1759 \r\nz\r\nM 3341 1997 \r\nL 3341 0 \r\nL 2766 0 \r\nL 2766 531 \r\nQ 2569 213 2275 61 \r\nQ 1981 -91 1556 -91 \r\nQ 1019 -91 701 211 \r\nQ 384 513 384 1019 \r\nQ 384 1609 779 1909 \r\nQ 1175 2209 1959 2209 \r\nL 2766 2209 \r\nL 2766 2266 \r\nQ 2766 2663 2505 2880 \r\nQ 2244 3097 1772 3097 \r\nQ 1472 3097 1187 3025 \r\nQ 903 2953 641 2809 \r\nL 641 3341 \r\nQ 956 3463 1253 3523 \r\nQ 1550 3584 1831 3584 \r\nQ 2591 3584 2966 3190 \r\nQ 3341 2797 3341 1997 \r\nz\r\nM 1844 4281 \r\nL 1665 4453 \r\nQ 1597 4516 1545 4545 \r\nQ 1494 4575 1453 4575 \r\nQ 1334 4575 1278 4461 \r\nQ 1222 4347 1215 4091 \r\nL 825 4091 \r\nQ 831 4513 990 4742 \r\nQ 1150 4972 1434 4972 \r\nQ 1553 4972 1653 4928 \r\nQ 1753 4884 1869 4781 \r\nL 2047 4609 \r\nQ 2115 4547 2167 4517 \r\nQ 2219 4488 2259 4488 \r\nQ 2378 4488 2434 4602 \r\nQ 2490 4716 2497 4972 \r\nL 2887 4972 \r\nQ 2881 4550 2721 4320 \r\nQ 2562 4091 2278 4091 \r\nQ 2159 4091 2059 4134 \r\nQ 1959 4178 1844 4281 \r\nz\r\n\" id=\"DejaVuSans-e3\" transform=\"scale(0.015625)\"/>\r\n       <path id=\"DejaVuSans-20\" transform=\"scale(0.015625)\"/>\r\n       <path d=\"M 1984 4856 \r\nQ 1566 4138 1362 3434 \r\nQ 1159 2731 1159 2009 \r\nQ 1159 1288 1364 580 \r\nQ 1569 -128 1984 -844 \r\nL 1484 -844 \r\nQ 1016 -109 783 600 \r\nQ 550 1309 550 2009 \r\nQ 550 2706 781 3412 \r\nQ 1013 4119 1484 4856 \r\nL 1984 4856 \r\nz\r\n\" id=\"DejaVuSans-28\" transform=\"scale(0.015625)\"/>\r\n       <path d=\"M 2841 2188 \r\nQ 3044 2119 3236 1894 \r\nQ 3428 1669 3622 1275 \r\nL 4263 0 \r\nL 3584 0 \r\nL 2988 1197 \r\nQ 2756 1666 2539 1819 \r\nQ 2322 1972 1947 1972 \r\nL 1259 1972 \r\nL 1259 0 \r\nL 628 0 \r\nL 628 4666 \r\nL 2053 4666 \r\nQ 2853 4666 3247 4331 \r\nQ 3641 3997 3641 3322 \r\nQ 3641 2881 3436 2590 \r\nQ 3231 2300 2841 2188 \r\nz\r\nM 1259 4147 \r\nL 1259 2491 \r\nL 2053 2491 \r\nQ 2509 2491 2742 2702 \r\nQ 2975 2913 2975 3322 \r\nQ 2975 3731 2742 3939 \r\nQ 2509 4147 2053 4147 \r\nL 1259 4147 \r\nz\r\n\" id=\"DejaVuSans-52\" transform=\"scale(0.015625)\"/>\r\n       <path d=\"M 2163 -941 \r\nL 1850 -941 \r\nL 1847 0 \r\nQ 1519 6 1191 76 \r\nQ 863 147 531 288 \r\nL 531 850 \r\nQ 850 650 1176 548 \r\nQ 1503 447 1850 444 \r\nL 1850 1869 \r\nQ 1159 1981 845 2250 \r\nQ 531 2519 531 2988 \r\nQ 531 3497 872 3790 \r\nQ 1213 4084 1850 4128 \r\nL 1850 4863 \r\nL 2163 4863 \r\nL 2163 4138 \r\nQ 2453 4125 2725 4076 \r\nQ 2997 4028 3256 3944 \r\nL 3256 3397 \r\nQ 2997 3528 2723 3600 \r\nQ 2450 3672 2163 3684 \r\nL 2163 2350 \r\nQ 2872 2241 3206 1959 \r\nQ 3541 1678 3541 1191 \r\nQ 3541 663 3186 358 \r\nQ 2831 53 2163 6 \r\nL 2163 -941 \r\nz\r\nM 1850 2406 \r\nL 1850 3688 \r\nQ 1488 3647 1297 3481 \r\nQ 1106 3316 1106 3041 \r\nQ 1106 2772 1282 2622 \r\nQ 1459 2472 1850 2406 \r\nz\r\nM 2163 1806 \r\nL 2163 453 \r\nQ 2559 506 2761 678 \r\nQ 2963 850 2963 1131 \r\nQ 2963 1406 2770 1568 \r\nQ 2578 1731 2163 1806 \r\nz\r\n\" id=\"DejaVuSans-24\" transform=\"scale(0.015625)\"/>\r\n       <path d=\"M 513 4856 \r\nL 1013 4856 \r\nQ 1481 4119 1714 3412 \r\nQ 1947 2706 1947 2009 \r\nQ 1947 1309 1714 600 \r\nQ 1481 -109 1013 -844 \r\nL 513 -844 \r\nQ 928 -128 1133 580 \r\nQ 1338 1288 1338 2009 \r\nQ 1338 2731 1133 3434 \r\nQ 928 4138 513 4856 \r\nz\r\n\" id=\"DejaVuSans-29\" transform=\"scale(0.015625)\"/>\r\n      </defs>\r\n      <use xlink:href=\"#DejaVuSans-43\"/>\r\n      <use x=\"69.824219\" xlink:href=\"#DejaVuSans-6f\"/>\r\n      <use x=\"131.005859\" xlink:href=\"#DejaVuSans-74\"/>\r\n      <use x=\"170.214844\" xlink:href=\"#DejaVuSans-61\"/>\r\n      <use x=\"231.494141\" xlink:href=\"#DejaVuSans-e7\"/>\r\n      <use x=\"286.474609\" xlink:href=\"#DejaVuSans-e3\"/>\r\n      <use x=\"347.753906\" xlink:href=\"#DejaVuSans-6f\"/>\r\n      <use x=\"408.935547\" xlink:href=\"#DejaVuSans-20\"/>\r\n      <use x=\"440.722656\" xlink:href=\"#DejaVuSans-28\"/>\r\n      <use x=\"479.736328\" xlink:href=\"#DejaVuSans-52\"/>\r\n      <use x=\"549.21875\" xlink:href=\"#DejaVuSans-24\"/>\r\n      <use x=\"612.841797\" xlink:href=\"#DejaVuSans-29\"/>\r\n     </g>\r\n    </g>\r\n   </g>\r\n   <g id=\"line2d_13\">\r\n    <path clip-path=\"url(#pd62d881006)\" d=\"M 91.349148 280.417014 \r\nL 93.018723 279.336724 \r\nL 93.575249 275.841683 \r\nL 94.131774 267.898397 \r\nL 94.688299 264.339824 \r\nL 95.244824 274.443667 \r\nL 96.9144 279.78156 \r\nL 97.470925 280.035733 \r\nL 98.02745 278.574162 \r\nL 98.583975 280.480568 \r\nL 99.140501 277.176145 \r\nL 100.810076 285.055899 \r\nL 101.366601 284.356891 \r\nL 101.923127 278.129349 \r\nL 102.479652 277.049059 \r\nL 103.036177 279.146084 \r\nL 104.705753 276.604246 \r\nL 105.262278 277.43034 \r\nL 105.818803 281.878585 \r\nL 106.375328 283.340156 \r\nL 106.931854 286.326829 \r\nL 108.601429 283.657883 \r\nL 109.157954 277.748067 \r\nL 109.71448 269.741249 \r\nL 110.271005 271.647633 \r\nL 110.82753 272.156001 \r\nL 112.497106 270.757985 \r\nL 113.053631 273.617572 \r\nL 113.610156 282.641147 \r\nL 114.166681 277.049059 \r\nL 114.723206 269.804782 \r\nL 117.505833 268.470319 \r\nL 118.062358 268.533873 \r\nL 118.618883 267.326497 \r\nL 120.288459 265.102364 \r\nL 120.844984 262.687612 \r\nL 121.401509 262.115691 \r\nL 121.958034 260.971869 \r\nL 122.514559 263.450175 \r\nL 124.184135 264.593997 \r\nL 124.74066 262.814699 \r\nL 125.853711 266.881662 \r\nL 126.410236 272.982096 \r\nL 128.079811 278.764803 \r\nL 128.636337 287.28001 \r\nL 129.192862 280.226373 \r\nL 129.749387 279.336724 \r\nL 130.305912 280.417014 \r\nL 131.975488 280.417014 \r\nL 133.088538 267.58067 \r\nL 133.645064 268.978687 \r\nL 134.201589 267.072303 \r\nL 135.871164 268.533873 \r\nL 136.42769 269.93189 \r\nL 136.984215 270.122531 \r\nL 137.54074 276.477137 \r\nL 138.097265 280.289928 \r\nL 140.323366 270.579853 \r\nL 140.879891 270.575571 \r\nL 141.436416 270.360438 \r\nL 143.662517 269.702315 \r\nL 144.219043 268.4919 \r\nL 145.332093 264.813124 \r\nL 145.888618 262.854443 \r\nL 147.558194 261.106905 \r\nL 148.114719 259.742436 \r\nL 148.671244 258.821886 \r\nL 149.227769 258.205945 \r\nL 149.784295 257.870717 \r\nL 151.45387 257.882496 \r\nL 152.566921 258.357644 \r\nL 153.123446 259.020605 \r\nL 153.679971 259.462358 \r\nL 155.349547 259.235248 \r\nL 155.906072 258.436325 \r\nL 157.019122 255.661747 \r\nL 159.245223 254.140242 \r\nL 160.358274 251.246625 \r\nL 160.914799 250.360396 \r\nL 161.471324 250.013089 \r\nL 163.1409 250.032574 \r\nL 163.697425 250.322407 \r\nL 164.25395 250.823835 \r\nL 165.367 252.260083 \r\nL 167.036576 252.777806 \r\nL 168.149626 253.774422 \r\nL 168.706152 254.64265 \r\nL 169.262677 255.93198 \r\nL 170.932252 257.747746 \r\nL 172.045303 262.444895 \r\nL 173.158353 267.148874 \r\nL 174.827929 269.307064 \r\nL 175.940979 273.207667 \r\nL 177.05403 274.807969 \r\nL 178.723605 276.398607 \r\nL 180.393181 281.199326 \r\nL 180.949706 282.320777 \r\nL 182.619282 283.149466 \r\nL 183.175807 283.684336 \r\nL 183.732332 283.682268 \r\nL 184.288857 283.25764 \r\nL 184.845383 282.352678 \r\nL 186.514958 281.140054 \r\nL 188.741059 275.474271 \r\nL 190.410635 274.397621 \r\nL 190.96716 273.678145 \r\nL 191.523685 273.332251 \r\nL 192.636736 273.318311 \r\nL 194.306311 273.44024 \r\nL 194.862836 273.753954 \r\nL 195.419362 274.2402 \r\nL 196.532412 274.936825 \r\nL 198.201988 275.568116 \r\nL 198.758513 275.9268 \r\nL 199.315038 275.948874 \r\nL 200.428089 275.580501 \r\nL 202.654189 275.331289 \r\nL 203.210715 275.493667 \r\nL 203.76724 275.994339 \r\nL 204.323765 277.127079 \r\nL 205.993341 278.90703 \r\nL 208.219441 287.636262 \r\nL 209.889017 288.921236 \r\nL 210.445542 289.598942 \r\nL 211.002067 289.915224 \r\nL 212.115118 290.114724 \r\nL 213.784694 290.401704 \r\nL 214.341219 290.885811 \r\nL 214.897744 291.517602 \r\nL 215.454269 292.426068 \r\nL 216.010794 293.830381 \r\nL 217.68037 295.702197 \r\nL 219.906471 304.768535 \r\nL 221.576046 306.662558 \r\nL 222.689097 309.799559 \r\nL 223.245622 310.670526 \r\nL 223.802147 310.594803 \r\nL 225.471723 309.763309 \r\nL 226.584773 307.744815 \r\nL 227.697824 306.404521 \r\nL 229.923925 305.909902 \r\nL 231.036975 305.346779 \r\nL 231.5935 305.266708 \r\nL 233.819601 305.310456 \r\nL 234.376126 304.865831 \r\nL 234.932651 303.857891 \r\nL 235.489177 302.283118 \r\nL 237.158752 300.575474 \r\nL 237.715277 299.17363 \r\nL 238.271803 298.2118 \r\nL 238.828328 297.977681 \r\nL 239.384853 298.41267 \r\nL 241.054429 299.520067 \r\nL 242.167479 303.13459 \r\nL 243.28053 306.761436 \r\nL 244.950105 307.684747 \r\nL 245.50663 307.637144 \r\nL 246.063156 306.609266 \r\nL 246.619681 304.594974 \r\nL 247.176206 301.797292 \r\nL 249.402307 298.587097 \r\nL 249.958832 295.709987 \r\nL 250.515357 293.61367 \r\nL 251.071882 292.551902 \r\nL 252.741458 292.597406 \r\nL 253.297983 293.431839 \r\nL 253.854509 294.884992 \r\nL 254.967559 298.751212 \r\nL 256.637135 300.614792 \r\nL 257.750185 303.90514 \r\nL 258.863235 306.508897 \r\nL 261.089336 307.599717 \r\nL 261.645861 308.063434 \r\nL 262.202387 307.754146 \r\nL 262.758912 306.659695 \r\nL 264.428487 305.048058 \r\nL 265.541538 301.832016 \r\nL 266.654588 299.0445 \r\nL 268.324164 297.985842 \r\nL 269.437214 296.33401 \r\nL 269.99374 295.623388 \r\nL 272.21984 294.797862 \r\nL 273.889416 291.983947 \r\nL 274.445941 291.624287 \r\nL 276.115517 291.827578 \r\nL 276.672042 292.512698 \r\nL 277.228567 293.488627 \r\nL 278.341618 295.964858 \r\nL 280.011193 296.880782 \r\nL 281.124244 298.170988 \r\nL 281.680769 298.329782 \r\nL 282.237294 298.061073 \r\nL 283.90687 297.448131 \r\nL 285.01992 296.165477 \r\nL 286.132971 295.366912 \r\nL 287.802546 295.461968 \r\nL 288.359071 296.219217 \r\nL 288.915597 297.552161 \r\nL 291.698223 299.299858 \r\nL 292.811273 303.303739 \r\nL 295.593899 305.223152 \r\nL 297.82 313.174705 \r\nL 299.489576 315.04595 \r\nL 300.602626 318.433879 \r\nL 301.715676 321.113925 \r\nL 303.385252 322.18677 \r\nL 305.054828 325.418389 \r\nL 305.611353 326.621998 \r\nL 307.837454 327.755715 \r\nL 308.393979 328.672005 \r\nL 308.950504 329.283435 \r\nL 309.507029 329.539989 \r\nL 311.176605 329.203474 \r\nL 312.289655 326.891871 \r\nL 313.402706 324.426035 \r\nL 316.185332 323.24516 \r\nL 317.298382 321.186614 \r\nL 320.081008 320.036595 \r\nL 321.194059 319.593854 \r\nL 323.42016 319.453416 \r\nL 324.53321 319.228067 \r\nL 325.089735 319.187605 \r\nL 327.315836 319.119413 \r\nL 327.872361 318.571006 \r\nL 328.428886 317.348542 \r\nL 328.985412 314.849297 \r\nL 330.654987 310.723197 \r\nL 331.768038 298.815467 \r\nL 332.881088 285.859966 \r\nL 334.550664 279.945439 \r\nL 335.107189 274.790759 \r\nL 335.663714 270.954611 \r\nL 336.220239 268.836101 \r\nL 336.776765 267.562664 \r\nL 338.44634 266.631554 \r\nL 339.002865 265.798164 \r\nL 339.559391 265.199012 \r\nL 340.115916 265.155827 \r\nL 342.342017 265.81551 \r\nL 343.455067 268.175583 \r\nL 344.568117 270.594415 \r\nL 346.237693 271.806085 \r\nL 347.350743 274.846254 \r\nL 348.463794 278.935126 \r\nL 350.13337 280.602348 \r\nL 350.689895 281.484754 \r\nL 351.24642 281.172476 \r\nL 351.802945 279.583225 \r\nL 352.35947 277.1992 \r\nL 354.029046 274.403382 \r\nL 355.142096 269.011089 \r\nL 356.255147 266.956124 \r\nL 358.481248 265.341119 \r\nL 359.594298 265.625637 \r\nL 362.376924 265.298323 \r\nL 362.933449 266.04183 \r\nL 363.489975 267.471094 \r\nL 364.0465 269.498648 \r\nL 365.716075 271.907636 \r\nL 366.272601 274.403237 \r\nL 366.829126 276.267688 \r\nL 367.385651 277.268475 \r\nL 367.942176 277.330773 \r\nL 369.611752 276.89137 \r\nL 370.168277 276.37117 \r\nL 370.724802 276.157751 \r\nL 371.281327 276.257124 \r\nL 371.837853 276.674819 \r\nL 373.507428 277.437021 \r\nL 374.620479 279.568339 \r\nL 375.733529 280.738808 \r\nL 377.403105 281.941689 \r\nL 379.629206 286.618094 \r\nL 381.298781 287.292083 \r\nL 381.855306 287.711568 \r\nL 382.411832 287.813398 \r\nL 382.968357 287.501486 \r\nL 383.524882 286.827721 \r\nL 385.750983 286.077542 \r\nL 386.307508 286.328993 \r\nL 386.864033 287.05132 \r\nL 387.420558 288.009991 \r\nL 389.090134 289.04035 \r\nL 389.646659 289.900007 \r\nL 390.203185 290.480602 \r\nL 390.75971 290.8881 \r\nL 391.316235 290.908831 \r\nL 392.985811 290.771116 \r\nL 394.655386 291.099636 \r\nL 396.881487 289.826349 \r\nL 397.438012 288.347909 \r\nL 399.107588 282.644853 \r\nL 400.777163 280.548515 \r\nL 403.003264 271.384347 \r\nL 404.67284 268.869464 \r\nL 406.342416 261.239901 \r\nL 406.898941 259.0729 \r\nL 408.568516 257.273279 \r\nL 409.125042 255.948461 \r\nL 409.681567 255.229652 \r\nL 410.238092 255.068427 \r\nL 410.794617 255.455313 \r\nL 412.464193 256.125008 \r\nL 413.577243 257.836661 \r\nL 414.133768 258.197364 \r\nL 416.359869 256.978497 \r\nL 418.58597 251.761837 \r\nL 420.255546 250.394514 \r\nL 422.481647 244.070868 \r\nL 424.151222 242.616115 \r\nL 424.707747 241.612236 \r\nL 425.264273 241.159772 \r\nL 425.820798 241.2719 \r\nL 426.377323 241.883459 \r\nL 428.046899 242.746562 \r\nL 428.603424 243.515051 \r\nL 429.159949 243.964254 \r\nL 429.716474 244.233171 \r\nL 430.273 244.317402 \r\nL 431.942575 244.108026 \r\nL 432.4991 243.613712 \r\nL 433.612151 242.812625 \r\nL 434.168676 241.893789 \r\nL 436.394777 241.265715 \r\nL 436.951302 241.746403 \r\nL 438.064352 243.879793 \r\nL 439.733928 245.166791 \r\nL 440.846978 247.607255 \r\nL 441.403504 248.466258 \r\nL 441.960029 248.826873 \r\nL 443.629605 248.694518 \r\nL 444.18613 248.232979 \r\nL 444.742655 247.479548 \r\nL 445.855705 245.507276 \r\nL 447.525281 244.811734 \r\nL 448.638331 243.57165 \r\nL 449.194857 242.650481 \r\nL 449.751382 241.351572 \r\nL 451.420957 239.649914 \r\nL 451.977483 237.654826 \r\nL 453.090533 235.575489 \r\nL 453.647058 233.482765 \r\nL 455.316634 231.295003 \r\nL 456.429684 226.048209 \r\nL 457.542735 220.561536 \r\nL 459.21231 218.278303 \r\nL 459.768836 216.566271 \r\nL 460.325361 215.539309 \r\nL 460.881886 215.105907 \r\nL 461.438411 214.916599 \r\nL 463.107987 214.699694 \r\nL 463.664512 213.96968 \r\nL 464.777562 212.986151 \r\nL 465.334088 212.184701 \r\nL 467.003663 211.669851 \r\nL 467.560188 211.069382 \r\nL 468.673239 209.554602 \r\nL 469.229764 209.728914 \r\nL 470.89934 211.045462 \r\nL 472.01239 213.442953 \r\nL 473.125441 218.890268 \r\nL 474.795016 221.46596 \r\nL 475.351541 223.568775 \r\nL 475.908067 225.047908 \r\nL 476.464592 225.986167 \r\nL 477.021117 226.584577 \r\nL 479.803743 227.339705 \r\nL 480.360268 227.323313 \r\nL 480.916793 227.613049 \r\nL 482.586369 228.292261 \r\nL 483.69942 230.499942 \r\nL 484.81247 232.849106 \r\nL 486.482046 233.912253 \r\nL 487.595096 236.779007 \r\nL 488.708146 240.349671 \r\nL 490.377722 242.305039 \r\nL 492.047298 248.861212 \r\nL 492.603823 250.498725 \r\nL 494.829924 251.813107 \r\nL 495.386449 251.458855 \r\nL 495.942974 250.382903 \r\nL 498.169075 248.605435 \r\nL 498.7256 246.408439 \r\nL 499.838651 240.422751 \r\nL 500.395176 236.8162 \r\nL 502.064751 233.035294 \r\nL 503.177802 225.843879 \r\nL 504.290852 220.209643 \r\nL 505.960428 218.0664 \r\nL 507.073478 215.264268 \r\nL 507.630003 214.278477 \r\nL 508.186529 213.600599 \r\nL 509.856104 213.197533 \r\nL 510.41263 212.664656 \r\nL 511.52568 211.907937 \r\nL 512.082205 210.805732 \r\nL 513.751781 209.476389 \r\nL 514.308306 208.311019 \r\nL 514.864831 207.498656 \r\nL 515.421356 206.982904 \r\nL 515.977882 206.745304 \r\nL 517.647457 206.505204 \r\nL 518.203982 206.240298 \r\nL 518.760508 205.732455 \r\nL 519.317033 204.65228 \r\nL 519.873558 202.947087 \r\nL 521.543134 200.729139 \r\nL 523.212709 193.037542 \r\nL 523.769234 190.203113 \r\nL 525.43881 187.56302 \r\nL 526.551861 183.36945 \r\nL 527.108386 181.987468 \r\nL 527.664911 181.264099 \r\nL 530.447537 181.286491 \r\nL 531.004062 181.989959 \r\nL 531.560587 183.33223 \r\nL 533.230163 184.915459 \r\nL 534.899739 190.051715 \r\nL 535.456264 191.952109 \r\nL 537.125839 193.78523 \r\nL 537.682365 195.22337 \r\nL 538.23889 196.258496 \r\nL 538.795415 196.796799 \r\nL 539.35194 197.01768 \r\nL 541.021516 197.381485 \r\nL 541.578041 197.913046 \r\nL 542.134566 198.823336 \r\nL 543.247617 201.360403 \r\nL 544.917192 202.658977 \r\nL 545.473718 203.661964 \r\nL 546.030243 204.316858 \r\nL 546.586768 204.460462 \r\nL 547.143293 204.243019 \r\nL 548.812869 203.988116 \r\nL 549.925919 203.212214 \r\nL 550.482444 202.868087 \r\nL 551.03897 202.805754 \r\nL 552.708545 202.965538 \r\nL 553.821596 203.756985 \r\nL 554.378121 204.297426 \r\nL 556.604222 205.071553 \r\nL 557.160747 205.57503 \r\nL 557.717272 205.66618 \r\nL 558.273797 205.449903 \r\nL 560.499898 205.201293 \r\nL 561.056423 204.834509 \r\nL 561.612949 204.275264 \r\nL 562.169474 203.523617 \r\nL 562.725999 202.57388 \r\nL 564.9521 201.418849 \r\nL 566.621676 197.094188 \r\nL 568.847776 196.186963 \r\nL 569.404302 196.250896 \r\nL 569.960827 196.452249 \r\nL 570.517352 196.487383 \r\nL 572.186928 196.142594 \r\nL 572.743453 195.356317 \r\nL 573.856503 193.156183 \r\nL 574.413028 193.788703 \r\nL 576.082604 196.210239 \r\nL 576.639129 200.273874 \r\nL 578.308705 215.721115 \r\nL 579.978281 220.138411 \r\nL 580.534806 223.526669 \r\nL 581.091331 225.823025 \r\nL 581.647856 227.210239 \r\nL 582.204381 227.990949 \r\nL 583.873957 228.263083 \r\nL 584.430482 228.150371 \r\nL 584.987007 227.59816 \r\nL 585.543533 226.494143 \r\nL 586.100058 225.027452 \r\nL 587.769633 223.557235 \r\nL 588.882684 221.19 \r\nL 589.995734 220.158647 \r\nL 591.66531 219.251369 \r\nL 592.221835 218.445713 \r\nL 592.77836 217.983503 \r\nL 593.334886 217.914674 \r\nL 593.891411 218.189804 \r\nL 595.560986 218.7552 \r\nL 596.117512 219.221917 \r\nL 596.674037 219.523132 \r\nL 597.230562 219.650327 \r\nL 599.456663 219.084833 \r\nL 600.013188 218.288809 \r\nL 601.682764 215.029947 \r\nL 604.46539 213.829937 \r\nL 605.021915 213.532265 \r\nL 605.57844 213.035212 \r\nL 607.248016 212.326008 \r\nL 608.361066 210.876584 \r\nL 608.917591 210.460501 \r\nL 609.474117 210.377781 \r\nL 611.143692 210.596002 \r\nL 613.369793 212.172321 \r\nL 615.595894 212.553225 \r\nL 616.152419 212.107177 \r\nL 616.708944 210.952915 \r\nL 617.265469 209.211307 \r\nL 618.935045 207.132704 \r\nL 620.048096 202.173234 \r\nL 621.161146 197.246399 \r\nL 622.830722 195.40347 \r\nL 623.943772 192.588119 \r\nL 624.500297 191.606313 \r\nL 625.056822 190.984106 \r\nL 627.839448 190.355059 \r\nL 628.395974 189.957534 \r\nL 628.952499 189.158549 \r\nL 630.622074 188.04065 \r\nL 632.29165 184.577475 \r\nL 632.848175 183.879856 \r\nL 634.517751 183.366252 \r\nL 635.630801 182.795633 \r\nL 638.413427 181.583756 \r\nL 638.969953 180.348497 \r\nL 640.083003 176.837568 \r\nL 640.639528 174.837497 \r\nL 642.309104 172.671013 \r\nL 643.978679 165.971782 \r\nL 644.535205 164.397673 \r\nL 646.20478 163.275152 \r\nL 646.761306 162.70927 \r\nL 647.317831 162.644621 \r\nL 647.874356 162.969403 \r\nL 648.430881 163.632276 \r\nL 650.100457 164.41425 \r\nL 650.656982 165.160771 \r\nL 651.213507 165.322447 \r\nL 651.770032 164.899948 \r\nL 652.326558 163.786352 \r\nL 653.996133 162.276698 \r\nL 655.109184 159.257564 \r\nL 656.222234 157.761695 \r\nL 657.89181 156.504238 \r\nL 658.448335 155.648178 \r\nL 659.00486 155.247753 \r\nL 659.561385 155.237786 \r\nL 660.117911 155.625379 \r\nL 661.787486 156.355659 \r\nL 664.013587 160.898161 \r\nL 665.683163 161.837551 \r\nL 666.239688 162.858963 \r\nL 666.796213 164.308246 \r\nL 667.909263 166.41616 \r\nL 669.578839 168.89912 \r\nL 671.248415 176.347929 \r\nL 671.80494 178.159957 \r\nL 673.474516 179.600863 \r\nL 674.587566 181.461439 \r\nL 675.144091 182.228691 \r\nL 675.700616 182.622293 \r\nL 677.926717 182.384216 \r\nL 678.483242 181.252717 \r\nL 679.596293 177.258635 \r\nL 681.265868 175.112776 \r\nL 682.378919 171.513304 \r\nL 682.935444 170.472169 \r\nL 683.491969 170.29685 \r\nL 685.161545 170.959546 \r\nL 685.71807 172.08972 \r\nL 687.387646 175.984831 \r\nL 689.613747 177.138315 \r\nL 690.170272 176.993783 \r\nL 690.726797 176.705672 \r\nL 691.283322 176.663504 \r\nL 692.952898 176.99069 \r\nL 693.509423 177.666447 \r\nL 695.178999 180.476434 \r\nL 697.405099 180.463745 \r\nL 697.961625 179.775298 \r\nL 698.51815 178.62321 \r\nL 699.074675 177.189214 \r\nL 701.300776 175.657574 \r\nL 701.857301 173.778458 \r\nL 702.413826 171.491336 \r\nL 702.970352 168.640029 \r\nL 704.639927 165.332238 \r\nL 705.752978 158.711176 \r\nL 706.866028 154.058675 \r\nL 708.535604 152.364387 \r\nL 710.761704 146.778505 \r\nL 712.43128 145.096305 \r\nL 713.54433 140.562215 \r\nL 714.100856 137.289435 \r\nL 714.657381 133.249597 \r\nL 716.326957 127.953875 \r\nL 717.996532 110.82599 \r\nL 718.553057 105.953968 \r\nL 720.222633 102.069514 \r\nL 720.779158 99.931856 \r\nL 721.335683 99.025126 \r\nL 721.892209 99.404784 \r\nL 722.448734 100.920713 \r\nL 725.787885 103.219517 \r\nL 726.34441 105.228302 \r\nL 728.013986 107.114169 \r\nL 728.570511 109.002545 \r\nL 729.127036 110.47855 \r\nL 729.683562 111.188558 \r\nL 730.240087 111.006434 \r\nL 731.909662 109.930465 \r\nL 733.022713 106.318993 \r\nL 733.579238 105.222328 \r\nL 734.135763 104.914017 \r\nL 735.805339 105.197886 \r\nL 737.474914 106.411849 \r\nL 738.03144 106.773091 \r\nL 739.701015 106.930013 \r\nL 740.25754 106.641195 \r\nL 740.814066 106.043113 \r\nL 741.370591 105.647584 \r\nL 741.927116 105.555665 \r\nL 743.596692 105.835257 \r\nL 744.153217 106.791259 \r\nL 744.709742 108.322971 \r\nL 745.822793 112.533445 \r\nL 747.492368 114.75468 \r\nL 748.048893 116.55059 \r\nL 748.605419 117.955036 \r\nL 749.161944 118.834 \r\nL 751.388045 118.972824 \r\nL 751.94457 118.493683 \r\nL 753.05762 116.763377 \r\nL 753.614145 115.699531 \r\nL 755.283721 114.541929 \r\nL 755.840246 113.727648 \r\nL 757.509822 112.512077 \r\nL 759.179398 112.190476 \r\nL 759.735923 112.376399 \r\nL 760.292448 112.846209 \r\nL 760.848973 113.140329 \r\nL 761.405498 113.251918 \r\nL 763.075074 113.233237 \r\nL 764.188124 112.978547 \r\nL 764.74465 113.010447 \r\nL 768.083801 111.971875 \r\nL 768.640326 112.302861 \r\nL 769.196851 113.915975 \r\nL 770.866427 116.893859 \r\nL 771.979477 125.343914 \r\nL 773.092528 133.286551 \r\nL 774.762103 135.890079 \r\nL 775.318629 137.801059 \r\nL 775.875154 139.215915 \r\nL 776.988204 140.920294 \r\nL 778.65778 142.368746 \r\nL 779.77083 146.86772 \r\nL 780.883881 151.649112 \r\nL 782.553456 153.633773 \r\nL 783.666507 158.385881 \r\nL 784.779557 161.134612 \r\nL 786.449133 163.617113 \r\nL 787.005658 165.284414 \r\nL 788.118708 167.465991 \r\nL 788.675234 169.014262 \r\nL 790.344809 171.092662 \r\nL 790.901334 173.905742 \r\nL 792.014385 181.1187 \r\nL 792.57091 185.449406 \r\nL 794.240486 189.968102 \r\nL 795.353536 198.462854 \r\nL 795.910061 201.107418 \r\nL 796.466587 202.669793 \r\nL 798.136162 203.251166 \r\nL 798.692687 203.014246 \r\nL 799.805738 201.282102 \r\nL 800.362263 200.141227 \r\nL 802.031839 198.616011 \r\nL 802.588364 196.744715 \r\nL 803.144889 194.376482 \r\nL 804.257939 188.121673 \r\nL 806.48404 184.669323 \r\nL 808.153616 175.013116 \r\nL 809.823192 171.799241 \r\nL 812.049292 158.931227 \r\nL 813.718868 155.867822 \r\nL 814.831918 150.673209 \r\nL 815.944969 146.471802 \r\nL 817.614544 144.855541 \r\nL 818.17107 143.390158 \r\nL 818.727595 142.678683 \r\nL 819.28412 142.685134 \r\nL 819.840645 143.239034 \r\nL 821.510221 143.814318 \r\nL 822.623271 144.698143 \r\nL 823.179797 145.403132 \r\nL 823.736322 146.548398 \r\nL 825.405897 148.591822 \r\nL 827.631998 159.549174 \r\nL 829.301574 161.903225 \r\nL 831.527675 171.665136 \r\nL 833.19725 174.072047 \r\nL 833.753775 175.89558 \r\nL 834.310301 177.017253 \r\nL 834.866826 177.230252 \r\nL 837.092927 176.80079 \r\nL 837.649452 176.557817 \r\nL 838.205977 176.605836 \r\nL 838.762502 176.900574 \r\nL 840.988603 177.039256 \r\nL 842.658179 176.285754 \r\nL 843.214704 176.373997 \r\nL 844.88428 176.489386 \r\nL 845.440805 176.220045 \r\nL 845.99733 175.481636 \r\nL 846.553855 174.251679 \r\nL 847.11038 172.744233 \r\nL 848.779956 170.930085 \r\nL 849.893007 167.957768 \r\nL 851.006057 165.77301 \r\nL 852.675633 164.516296 \r\nL 853.232158 163.390576 \r\nL 853.788683 161.990567 \r\nL 854.345208 159.618242 \r\nL 854.901733 156.237336 \r\nL 856.571309 152.19437 \r\nL 857.684359 141.030965 \r\nL 858.240885 135.312338 \r\nL 860.466985 130.679525 \r\nL 861.580036 124.551496 \r\nL 862.136561 122.370979 \r\nL 862.693086 121.194343 \r\nL 864.362662 121.085369 \r\nL 864.919187 121.679299 \r\nL 865.475712 122.645022 \r\nL 866.588763 125.967129 \r\nL 868.258338 127.561792 \r\nL 868.814864 129.01742 \r\nL 869.371389 129.872755 \r\nL 869.927914 130.10599 \r\nL 872.154015 129.58339 \r\nL 872.71054 128.238362 \r\nL 873.267065 126.14319 \r\nL 874.380116 120.92509 \r\nL 876.049691 118.435449 \r\nL 877.162742 114.23003 \r\nL 878.275792 112.600957 \r\nL 879.945368 110.741317 \r\nL 881.058418 108.579817 \r\nL 882.171469 104.618183 \r\nL 884.954095 102.269134 \r\nL 885.51062 101.482848 \r\nL 886.067145 99.969835 \r\nL 887.736721 97.965805 \r\nL 888.849771 94.301543 \r\nL 889.406296 93.093076 \r\nL 889.962821 92.222347 \r\nL 891.632397 91.769415 \r\nL 892.188922 92.178517 \r\nL 892.745448 93.294499 \r\nL 893.858498 96.076545 \r\nL 895.528074 97.071411 \r\nL 897.754174 101.701361 \r\nL 900.5368 103.048263 \r\nL 901.649851 106.583775 \r\nL 904.432477 107.668775 \r\nL 904.989002 107.065108 \r\nL 905.545527 104.399653 \r\nL 907.215103 100.301776 \r\nL 908.328153 90.101567 \r\nL 909.441204 79.271622 \r\nL 911.110779 74.724135 \r\nL 911.667305 71.030871 \r\nL 912.22383 68.551853 \r\nL 912.780355 67.36539 \r\nL 913.33688 67.330644 \r\nL 915.006456 67.95688 \r\nL 915.562981 69.080638 \r\nL 916.676031 72.014604 \r\nL 918.902132 73.383579 \r\nL 919.458658 74.219067 \r\nL 920.015183 74.575962 \r\nL 920.571708 74.424944 \r\nL 921.128233 73.533254 \r\nL 922.797809 71.979469 \r\nL 923.910859 67.248003 \r\nL 924.467384 66.376603 \r\nL 925.02391 67.116726 \r\nL 926.693485 68.851044 \r\nL 928.363061 76.010841 \r\nL 928.919586 77.71386 \r\nL 930.589162 78.811073 \r\nL 931.145687 79.659993 \r\nL 931.702212 79.980658 \r\nL 932.258737 79.999992 \r\nL 932.815263 79.505511 \r\nL 934.484838 79.179897 \r\nL 935.041363 79.527319 \r\nL 935.597889 80.543376 \r\nL 936.154414 82.224392 \r\nL 936.710939 84.70159 \r\nL 940.05009 87.955407 \r\nL 940.606615 91.454654 \r\nL 942.276191 94.594814 \r\nL 942.832716 96.485505 \r\nL 943.389241 96.87294 \r\nL 943.945767 95.691372 \r\nL 944.502292 93.536111 \r\nL 946.171868 90.905155 \r\nL 946.728393 88.167893 \r\nL 947.284918 86.035484 \r\nL 947.841443 85.157597 \r\nL 948.397968 85.898091 \r\nL 950.067544 88.571322 \r\nL 951.180594 97.8124 \r\nL 952.293645 108.844139 \r\nL 953.96322 113.099291 \r\nL 954.519746 116.11998 \r\nL 955.076271 118.186309 \r\nL 955.632796 119.633382 \r\nL 956.189321 120.401695 \r\nL 957.858897 120.200873 \r\nL 958.415422 119.186548 \r\nL 960.084998 114.693813 \r\nL 961.754573 114.193764 \r\nL 962.311099 114.517292 \r\nL 962.867624 115.527481 \r\nL 963.424149 117.243702 \r\nL 965.65025 119.253123 \r\nL 966.7633 122.983731 \r\nL 967.319825 124.110918 \r\nL 967.876351 124.406628 \r\nL 969.545926 123.857889 \r\nL 970.102451 122.759669 \r\nL 971.215502 121.22589 \r\nL 971.772027 119.346403 \r\nL 973.441603 117.45785 \r\nL 973.998128 116.132068 \r\nL 974.554653 115.727561 \r\nL 975.111178 116.062082 \r\nL 975.667704 117.121314 \r\nL 977.337279 118.79033 \r\nL 977.893804 121.090742 \r\nL 979.56338 130.01598 \r\nL 981.232956 133.040009 \r\nL 981.789481 135.384657 \r\nL 982.346006 136.241548 \r\nL 982.902531 135.488223 \r\nL 983.459056 133.409045 \r\nL 985.128632 130.67956 \r\nL 986.241683 124.486652 \r\nL 987.354733 116.524752 \r\nL 989.024309 112.106545 \r\nL 990.137359 103.90093 \r\nL 990.693884 100.990258 \r\nL 991.250409 99.051247 \r\nL 993.47651 97.35323 \r\nL 994.033035 97.46185 \r\nL 994.589561 98.082961 \r\nL 995.146086 99.385414 \r\nL 996.815661 101.260094 \r\nL 997.928712 105.502539 \r\nL 999.041762 106.661749 \r\nL 1000.711338 106.48332 \r\nL 1001.267863 105.051445 \r\nL 1001.824388 102.903765 \r\nL 1002.937439 96.898672 \r\nL 1004.607014 93.772898 \r\nL 1005.16354 91.03166 \r\nL 1006.27659 87.227496 \r\nL 1006.833115 85.640556 \r\nL 1008.502691 83.896358 \r\nL 1009.615741 82.045891 \r\nL 1010.728792 78.702188 \r\nL 1012.398367 77.822056 \r\nL 1012.954893 77.760306 \r\nL 1013.511418 78.370954 \r\nL 1014.624468 80.497814 \r\nL 1016.294044 81.552434 \r\nL 1016.850569 82.377496 \r\nL 1017.407094 82.704063 \r\nL 1017.963619 82.521745 \r\nL 1020.18972 82.536308 \r\nL 1020.746245 82.529062 \r\nL 1021.302771 83.054967 \r\nL 1021.859296 84.673065 \r\nL 1022.415821 87.303226 \r\nL 1024.085397 90.603895 \r\nL 1025.198447 97.888961 \r\nL 1025.754972 99.982472 \r\nL 1026.311498 100.325529 \r\nL 1027.981073 99.188145 \r\nL 1029.094124 96.192729 \r\nL 1029.650649 95.143588 \r\nL 1030.207174 94.805197 \r\nL 1031.87675 95.466161 \r\nL 1032.433275 97.091188 \r\nL 1033.546325 102.576526 \r\nL 1034.10285 105.889072 \r\nL 1035.772426 109.472655 \r\nL 1036.885476 116.338386 \r\nL 1037.442002 118.757033 \r\nL 1037.998527 120.136489 \r\nL 1039.668102 120.577279 \r\nL 1040.781153 120.383862 \r\nL 1041.337678 120.419244 \r\nL 1041.894203 120.141897 \r\nL 1043.563779 118.883981 \r\nL 1044.120304 116.169977 \r\nL 1045.78988 104.508414 \r\nL 1047.459455 100.611607 \r\nL 1048.015981 97.31783 \r\nL 1048.572506 94.785632 \r\nL 1049.129031 93.1128 \r\nL 1049.685556 92.549887 \r\nL 1051.355132 92.974594 \r\nL 1051.911657 94.210737 \r\nL 1053.581233 100.173556 \r\nL 1055.250808 101.203928 \r\nL 1056.363859 102.397513 \r\nL 1056.920384 103.762583 \r\nL 1057.476909 105.91947 \r\nL 1059.146485 108.593973 \r\nL 1061.372586 121.272901 \r\nL 1063.042161 122.936614 \r\nL 1063.598686 123.2518 \r\nL 1064.155212 122.341978 \r\nL 1064.711737 120.261545 \r\nL 1065.268262 117.428795 \r\nL 1066.937838 114.457115 \r\nL 1068.050888 108.087544 \r\nL 1069.163939 99.758922 \r\nL 1070.833514 95.089826 \r\nL 1071.946565 85.780405 \r\nL 1072.50309 81.999516 \r\nL 1073.059615 79.359988 \r\nL 1075.285716 77.434604 \r\nL 1075.842241 77.439747 \r\nL 1076.398766 77.88895 \r\nL 1076.955291 78.563699 \r\nL 1078.624867 79.603721 \r\nL 1079.181392 80.879629 \r\nL 1079.737917 82.571796 \r\nL 1080.294443 84.784266 \r\nL 1082.520544 87.265582 \r\nL 1083.077069 89.85467 \r\nL 1084.190119 92.549675 \r\nL 1084.746644 95.036647 \r\nL 1086.41622 97.011711 \r\nL 1088.642321 103.41919 \r\nL 1090.311896 104.797002 \r\nL 1090.868422 105.63394 \r\nL 1091.424947 105.844676 \r\nL 1091.981472 104.859106 \r\nL 1092.537997 102.729648 \r\nL 1094.207573 100.081142 \r\nL 1095.320623 94.035117 \r\nL 1095.877149 91.669632 \r\nL 1096.433674 90.108424 \r\nL 1098.659775 88.574203 \r\nL 1099.772825 88.526909 \r\nL 1100.32935 88.258275 \r\nL 1101.998926 87.787263 \r\nL 1103.668501 87.019888 \r\nL 1104.225027 85.738749 \r\nL 1105.894602 84.066711 \r\nL 1105.894602 84.066711 \r\n\" style=\"fill:none;stroke:#ff0000;stroke-linecap:square;stroke-width:1.5;\"/>\r\n   </g>\r\n   <g id=\"line2d_14\">\r\n    <path clip-path=\"url(#pd62d881006)\" d=\"M 91.349148 280.417014 \r\nL 93.018723 279.336724 \r\nL 93.575249 275.841683 \r\nL 94.131774 267.898397 \r\nL 94.688299 264.339824 \r\nL 95.244824 274.443667 \r\nL 96.9144 279.78156 \r\nL 97.470925 280.035733 \r\nL 98.02745 278.574162 \r\nL 98.583975 280.480568 \r\nL 99.140501 277.176145 \r\nL 100.810076 285.055899 \r\nL 101.366601 284.356891 \r\nL 101.923127 278.129349 \r\nL 102.479652 277.049059 \r\nL 103.036177 279.146084 \r\nL 104.705753 276.604246 \r\nL 105.262278 277.43034 \r\nL 105.818803 281.878585 \r\nL 106.375328 283.340156 \r\nL 106.931854 286.326829 \r\nL 108.601429 283.657883 \r\nL 109.157954 277.748067 \r\nL 109.71448 269.741249 \r\nL 110.271005 271.647633 \r\nL 110.82753 272.156001 \r\nL 112.497106 270.757985 \r\nL 113.053631 273.617572 \r\nL 113.610156 282.641147 \r\nL 114.166681 277.049059 \r\nL 114.723206 269.804782 \r\nL 117.505833 268.470319 \r\nL 118.062358 268.533873 \r\nL 118.618883 267.326497 \r\nL 120.288459 265.102364 \r\nL 120.844984 262.687612 \r\nL 121.401509 262.115691 \r\nL 121.958034 260.971869 \r\nL 122.514559 263.450175 \r\nL 124.184135 264.593997 \r\nL 124.74066 262.814699 \r\nL 125.853711 266.881662 \r\nL 126.410236 272.982096 \r\nL 128.079811 278.764803 \r\nL 128.636337 287.28001 \r\nL 129.192862 280.226373 \r\nL 129.749387 279.336724 \r\nL 130.305912 280.417014 \r\nL 131.975488 280.417014 \r\nL 133.088538 267.58067 \r\nL 133.645064 268.978687 \r\nL 134.201589 267.072303 \r\nL 135.871164 268.533873 \r\nL 136.42769 269.93189 \r\nL 136.984215 270.122531 \r\nL 137.54074 276.477137 \r\nL 138.097265 280.289928 \r\nL 140.323366 271.012179 \r\nL 140.879891 263.450175 \r\nL 141.436416 261.226042 \r\nL 143.662517 258.366454 \r\nL 144.219043 258.239368 \r\nL 144.775568 257.095524 \r\nL 145.332093 261.861518 \r\nL 145.888618 260.145752 \r\nL 147.558194 261.988604 \r\nL 148.114719 261.988604 \r\nL 148.671244 258.620649 \r\nL 149.227769 260.399947 \r\nL 149.784295 263.386621 \r\nL 151.45387 267.262943 \r\nL 152.566921 260.908315 \r\nL 153.123446 254.553686 \r\nL 153.679971 246.737487 \r\nL 155.349547 251.376372 \r\nL 155.906072 248.898066 \r\nL 156.462597 252.26602 \r\nL 157.019122 250.550277 \r\nL 159.245223 247.88133 \r\nL 159.801748 250.296082 \r\nL 160.358274 256.46007 \r\nL 160.914799 255.506867 \r\nL 161.471324 252.329553 \r\nL 163.1409 253.473396 \r\nL 163.697425 254.553686 \r\nL 164.25395 256.205875 \r\nL 164.810475 253.854678 \r\nL 165.367 249.342901 \r\nL 167.036576 255.888148 \r\nL 167.593101 259.256103 \r\nL 168.149626 263.450175 \r\nL 168.706152 266.246208 \r\nL 169.262677 271.075712 \r\nL 170.932252 270.249617 \r\nL 171.488778 273.554018 \r\nL 172.045303 269.042241 \r\nL 172.601828 271.711188 \r\nL 173.158353 277.2397 \r\nL 174.827929 278.828357 \r\nL 175.384454 273.998831 \r\nL 175.940979 279.590919 \r\nL 177.05403 284.738172 \r\nL 178.723605 285.627821 \r\nL 179.280131 286.962283 \r\nL 179.836656 280.861849 \r\nL 180.393181 282.196312 \r\nL 180.949706 284.420423 \r\nL 182.619282 283.340156 \r\nL 183.175807 275.841683 \r\nL 183.732332 279.718006 \r\nL 184.288857 274.380112 \r\nL 184.845383 276.858418 \r\nL 186.514958 276.222964 \r\nL 187.071484 274.062385 \r\nL 187.628009 273.299823 \r\nL 188.184534 277.112613 \r\nL 188.741059 275.206229 \r\nL 190.410635 278.002262 \r\nL 190.96716 277.938708 \r\nL 191.523685 276.794864 \r\nL 192.08021 273.871745 \r\nL 192.636736 276.095856 \r\nL 194.306311 279.845092 \r\nL 194.862836 279.018997 \r\nL 195.419362 281.497304 \r\nL 196.532412 275.015588 \r\nL 198.201988 272.982096 \r\nL 198.758513 272.829601 \r\nL 199.315038 276.674135 \r\nL 199.871563 276.045039 \r\nL 200.428089 277.373144 \r\nL 202.097664 278.70127 \r\nL 202.654189 280.518692 \r\nL 203.210715 283.873932 \r\nL 203.76724 292.681458 \r\nL 204.323765 293.590158 \r\nL 205.993341 294.009563 \r\nL 206.549866 290.304808 \r\nL 207.106391 288.277695 \r\nL 207.662916 290.864014 \r\nL 208.219441 285.132147 \r\nL 209.889017 286.25056 \r\nL 210.445542 291.283441 \r\nL 211.002067 291.632934 \r\nL 211.558593 292.401833 \r\nL 212.115118 298.343414 \r\nL 213.784694 295.757094 \r\nL 214.341219 296.176499 \r\nL 215.454269 308.758648 \r\nL 216.010794 308.968362 \r\nL 217.68037 310.925574 \r\nL 218.236895 307.849926 \r\nL 218.79342 311.694494 \r\nL 219.906471 310.855673 \r\nL 221.576046 314.630329 \r\nL 222.132572 314.979833 \r\nL 222.689097 304.075304 \r\nL 223.245622 297.294912 \r\nL 223.802147 302.956868 \r\nL 225.471723 309.807172 \r\nL 226.028248 314.210924 \r\nL 226.584773 309.946973 \r\nL 227.141299 302.886979 \r\nL 227.697824 310.715871 \r\nL 229.923925 308.688758 \r\nL 230.48045 306.591734 \r\nL 231.036975 310.366378 \r\nL 231.5935 310.016863 \r\nL 233.263076 302.537464 \r\nL 233.819601 297.784207 \r\nL 234.376126 294.498879 \r\nL 234.932651 292.751348 \r\nL 235.489177 300.720064 \r\nL 237.158752 305.053893 \r\nL 237.715277 303.236472 \r\nL 238.271803 310.855673 \r\nL 238.828328 308.758648 \r\nL 239.384853 313.302213 \r\nL 241.054429 313.442015 \r\nL 241.610954 314.210924 \r\nL 242.167479 310.086775 \r\nL 242.724004 307.500433 \r\nL 243.28053 299.881232 \r\nL 244.950105 295.757094 \r\nL 245.50663 293.939673 \r\nL 246.063156 288.207783 \r\nL 246.619681 287.438885 \r\nL 247.176206 288.836901 \r\nL 249.402307 299.881232 \r\nL 249.958832 301.698654 \r\nL 251.071882 307.780037 \r\nL 252.741458 303.306384 \r\nL 253.297983 307.22083 \r\nL 253.854509 308.618847 \r\nL 254.411034 304.7044 \r\nL 254.967559 305.962615 \r\nL 257.19366 309.807172 \r\nL 257.750185 308.548935 \r\nL 258.30671 313.651717 \r\nL 258.863235 310.366378 \r\nL 261.089336 298.553127 \r\nL 261.645861 298.063811 \r\nL 262.202387 295.687182 \r\nL 262.758912 298.692929 \r\nL 264.428487 303.725789 \r\nL 264.985013 302.537464 \r\nL 265.541538 297.294912 \r\nL 266.098063 296.735706 \r\nL 266.654588 302.25786 \r\nL 268.324164 296.805596 \r\nL 268.880689 295.407579 \r\nL 269.437214 295.896896 \r\nL 269.99374 290.444631 \r\nL 272.21984 290.514521 \r\nL 272.776366 290.234918 \r\nL 273.332891 300.300637 \r\nL 273.889416 297.434714 \r\nL 274.445941 302.677287 \r\nL 276.115517 301.139447 \r\nL 276.672042 299.74143 \r\nL 277.228567 305.962615 \r\nL 277.785092 293.939673 \r\nL 278.341618 298.413326 \r\nL 280.011193 299.881232 \r\nL 280.567719 302.118081 \r\nL 281.124244 291.632934 \r\nL 281.680769 294.079474 \r\nL 282.237294 294.079474 \r\nL 283.90687 298.832731 \r\nL 284.463395 297.574516 \r\nL 285.01992 298.902621 \r\nL 285.576445 295.547381 \r\nL 286.132971 307.150918 \r\nL 287.802546 310.645981 \r\nL 288.359071 309.457656 \r\nL 288.915597 310.156665 \r\nL 291.698223 310.855673 \r\nL 292.254748 310.715871 \r\nL 292.811273 311.34499 \r\nL 295.593899 319.733089 \r\nL 296.150424 318.265172 \r\nL 296.70695 318.96418 \r\nL 297.263475 322.319431 \r\nL 297.82 322.249519 \r\nL 299.489576 324.276654 \r\nL 300.046101 323.507734 \r\nL 300.602626 326.163976 \r\nL 301.159151 323.717447 \r\nL 301.715676 328.1911 \r\nL 303.385252 330.148323 \r\nL 303.941777 331.825943 \r\nL 304.498302 334.13267 \r\nL 305.054828 333.783166 \r\nL 305.611353 332.245348 \r\nL 307.837454 330.497827 \r\nL 308.393979 329.86872 \r\nL 308.950504 328.750307 \r\nL 309.507029 320.991304 \r\nL 311.176605 317.356461 \r\nL 311.73313 330.148323 \r\nL 312.289655 326.163976 \r\nL 312.846181 323.717447 \r\nL 313.402706 322.039816 \r\nL 316.185332 321.201006 \r\nL 316.741857 326.373679 \r\nL 317.298382 325.045563 \r\nL 318.967958 325.604759 \r\nL 319.524483 321.480621 \r\nL 320.081008 319.593287 \r\nL 320.637534 323.15823 \r\nL 321.194059 325.744571 \r\nL 322.863634 318.894279 \r\nL 323.42016 321.410709 \r\nL 323.976685 322.878637 \r\nL 324.53321 322.738836 \r\nL 325.089735 322.738836 \r\nL 326.759311 317.845767 \r\nL 327.315836 309.597458 \r\nL 327.872361 305.263607 \r\nL 328.428886 286.460273 \r\nL 328.985412 276.25473 \r\nL 330.654987 277.233342 \r\nL 331.211512 272.340284 \r\nL 331.768038 279.749794 \r\nL 332.324563 271.291761 \r\nL 332.881088 269.404449 \r\nL 334.550664 270.452951 \r\nL 335.107189 280.448802 \r\nL 335.663714 286.809766 \r\nL 336.220239 264.022075 \r\nL 336.776765 263.392978 \r\nL 338.44634 263.323066 \r\nL 339.002865 269.264648 \r\nL 339.559391 276.464444 \r\nL 340.115916 278.77116 \r\nL 343.455067 270.802466 \r\nL 344.011592 277.233342 \r\nL 344.568117 275.835326 \r\nL 346.237693 283.524439 \r\nL 346.794218 283.105034 \r\nL 347.350743 289.186417 \r\nL 347.907269 286.949568 \r\nL 348.463794 273.808213 \r\nL 350.13337 272.689799 \r\nL 350.689895 262.624058 \r\nL 351.24642 259.758113 \r\nL 351.802945 266.608416 \r\nL 352.35947 265.140488 \r\nL 354.029046 266.81813 \r\nL 354.585571 265.559893 \r\nL 355.142096 269.823854 \r\nL 356.255147 273.947992 \r\nL 357.924722 275.905237 \r\nL 359.037773 260.527033 \r\nL 359.594298 262.134763 \r\nL 360.150823 265.629805 \r\nL 361.820399 272.060681 \r\nL 362.376924 284.922455 \r\nL 362.933449 279.749794 \r\nL 363.489975 282.965232 \r\nL 364.0465 282.89532 \r\nL 365.716075 281.567215 \r\nL 366.272601 268.146235 \r\nL 366.829126 269.544251 \r\nL 367.385651 267.307425 \r\nL 367.942176 275.905237 \r\nL 369.611752 279.260477 \r\nL 370.168277 283.873932 \r\nL 370.724802 280.588582 \r\nL 371.281327 282.406025 \r\nL 371.837853 285.132147 \r\nL 373.507428 284.433138 \r\nL 374.063953 284.642852 \r\nL 375.733529 287.718488 \r\nL 377.403105 287.788378 \r\nL 377.95963 292.331943 \r\nL 379.07268 286.320472 \r\nL 379.629206 286.530163 \r\nL 381.298781 288.557298 \r\nL 382.411832 281.986598 \r\nL 382.968357 282.475915 \r\nL 383.524882 293.380466 \r\nL 385.194458 292.471744 \r\nL 385.750983 295.407579 \r\nL 386.307508 296.386191 \r\nL 386.864033 292.751348 \r\nL 387.420558 293.240665 \r\nL 389.090134 289.885425 \r\nL 389.646659 289.955315 \r\nL 390.203185 293.520246 \r\nL 390.75971 285.691353 \r\nL 391.316235 293.030951 \r\nL 392.985811 299.811342 \r\nL 393.542336 292.961039 \r\nL 395.211911 279.330367 \r\nL 396.881487 279.470169 \r\nL 397.438012 281.008009 \r\nL 397.994537 280.169177 \r\nL 398.551063 278.002262 \r\nL 399.107588 272.130593 \r\nL 400.777163 269.963656 \r\nL 401.333689 271.850967 \r\nL 401.890214 267.237513 \r\nL 402.446739 260.736747 \r\nL 403.003264 261.505645 \r\nL 404.67284 257.521287 \r\nL 405.229365 258.919303 \r\nL 405.78589 255.21457 \r\nL 406.342416 258.430009 \r\nL 406.898941 256.96208 \r\nL 408.568516 258.779524 \r\nL 409.125042 261.785248 \r\nL 409.681567 260.876548 \r\nL 410.238092 263.462868 \r\nL 410.794617 259.198929 \r\nL 412.464193 261.715336 \r\nL 413.020718 258.919303 \r\nL 413.577243 249.063298 \r\nL 414.133768 247.665281 \r\nL 414.690294 249.133187 \r\nL 416.359869 250.740918 \r\nL 416.916395 250.251601 \r\nL 417.47292 252.278736 \r\nL 418.029445 246.057551 \r\nL 418.58597 244.170218 \r\nL 420.255546 241.513986 \r\nL 420.812071 242.56251 \r\nL 421.368596 239.20727 \r\nL 421.925121 239.696565 \r\nL 424.151222 246.267243 \r\nL 424.707747 246.686648 \r\nL 425.264273 247.874973 \r\nL 425.820798 248.643893 \r\nL 426.377323 245.638146 \r\nL 428.603424 239.556763 \r\nL 429.159949 244.799336 \r\nL 429.716474 242.422708 \r\nL 430.273 238.717953 \r\nL 431.942575 238.648041 \r\nL 432.4991 236.201523 \r\nL 433.612151 239.27716 \r\nL 434.168676 248.993386 \r\nL 435.838252 245.777948 \r\nL 436.394777 250.740918 \r\nL 436.951302 250.531204 \r\nL 437.507827 245.218741 \r\nL 438.064352 250.880697 \r\nL 440.290453 248.573981 \r\nL 440.846978 246.197353 \r\nL 441.403504 242.212995 \r\nL 443.629605 244.799336 \r\nL 444.18613 241.933391 \r\nL 444.742655 240.11597 \r\nL 445.29918 246.616758 \r\nL 445.855705 247.106075 \r\nL 448.081806 239.067468 \r\nL 448.638331 234.034587 \r\nL 449.751382 229.421132 \r\nL 451.420957 229.071639 \r\nL 451.977483 229.980339 \r\nL 453.090533 226.974614 \r\nL 453.647058 221.871843 \r\nL 455.316634 215.860372 \r\nL 455.873159 211.973864 \r\nL 456.429684 216.58734 \r\nL 456.98621 215.741535 \r\nL 457.542735 216.202869 \r\nL 459.21231 218.586493 \r\nL 459.768836 220.047426 \r\nL 460.325361 218.355815 \r\nL 460.881886 212.43522 \r\nL 461.438411 210.051596 \r\nL 463.107987 200.132653 \r\nL 463.664512 208.975135 \r\nL 464.777562 215.126408 \r\nL 465.334088 212.819669 \r\nL 467.003663 202.670069 \r\nL 467.560188 201.978034 \r\nL 468.116714 211.358758 \r\nL 468.673239 225.506686 \r\nL 469.229764 228.966771 \r\nL 470.89934 230.581497 \r\nL 472.01239 217.510031 \r\nL 472.568915 225.81425 \r\nL 473.125441 223.276855 \r\nL 475.351541 220.124311 \r\nL 477.021117 227.352068 \r\nL 478.690693 221.662129 \r\nL 479.247218 228.274759 \r\nL 479.803743 223.046177 \r\nL 480.360268 235.502515 \r\nL 480.916793 234.426053 \r\nL 482.586369 235.348744 \r\nL 483.142894 231.888637 \r\nL 483.69942 233.964697 \r\nL 484.255945 235.502515 \r\nL 484.81247 234.733595 \r\nL 486.482046 245.498344 \r\nL 487.038571 244.344975 \r\nL 487.595096 244.883217 \r\nL 488.151621 245.882794 \r\nL 488.708146 250.342477 \r\nL 490.377722 256.955107 \r\nL 490.934247 250.880697 \r\nL 491.490772 250.957605 \r\nL 492.047298 248.95843 \r\nL 492.603823 245.729023 \r\nL 494.273398 243.729848 \r\nL 494.829924 243.883641 \r\nL 495.386449 237.963024 \r\nL 495.942974 235.118066 \r\nL 498.169075 237.578575 \r\nL 498.7256 226.660055 \r\nL 499.282125 225.506686 \r\nL 499.838651 221.815922 \r\nL 500.395176 220.893231 \r\nL 502.064751 219.586069 \r\nL 502.621277 220.508782 \r\nL 503.177802 219.97054 \r\nL 503.734327 212.973462 \r\nL 504.290852 218.740286 \r\nL 505.960428 218.509608 \r\nL 506.516953 211.051173 \r\nL 507.073478 213.281026 \r\nL 507.630003 214.818844 \r\nL 508.186529 213.973038 \r\nL 509.856104 204.515451 \r\nL 510.41263 205.207464 \r\nL 511.52568 201.286022 \r\nL 512.082205 202.82384 \r\nL 513.751781 209.05202 \r\nL 514.308306 209.05202 \r\nL 514.864831 206.130155 \r\nL 515.421356 206.97596 \r\nL 515.977882 200.978458 \r\nL 517.647457 203.131404 \r\nL 518.203982 197.441487 \r\nL 518.760508 189.752374 \r\nL 519.317033 188.368327 \r\nL 519.873558 187.368751 \r\nL 521.543134 188.829683 \r\nL 522.099659 187.830107 \r\nL 522.656184 174.912412 \r\nL 523.212709 181.140592 \r\nL 523.769234 181.294363 \r\nL 525.43881 179.83343 \r\nL 525.995335 181.294363 \r\nL 526.551861 180.371672 \r\nL 527.108386 185.13892 \r\nL 527.664911 187.599429 \r\nL 530.447537 188.214556 \r\nL 531.004062 191.367078 \r\nL 531.560587 185.830932 \r\nL 533.230163 187.061187 \r\nL 533.786688 192.212883 \r\nL 534.343213 195.672991 \r\nL 534.899739 194.7503 \r\nL 535.456264 194.596507 \r\nL 537.125839 189.137247 \r\nL 537.682365 192.135998 \r\nL 538.23889 189.214154 \r\nL 538.795415 193.135574 \r\nL 539.35194 201.824264 \r\nL 541.021516 198.594834 \r\nL 541.578041 204.976785 \r\nL 542.134566 202.593184 \r\nL 542.691092 204.207887 \r\nL 543.247617 201.055343 \r\nL 544.917192 198.902398 \r\nL 545.473718 199.901974 \r\nL 546.030243 195.519198 \r\nL 546.586768 199.056191 \r\nL 547.143293 203.977209 \r\nL 549.369394 197.672143 \r\nL 549.925919 203.131404 \r\nL 550.482444 205.438142 \r\nL 551.03897 203.208311 \r\nL 552.708545 203.746531 \r\nL 553.821596 204.669222 \r\nL 554.378121 209.974711 \r\nL 556.604222 197.210809 \r\nL 557.160747 198.287271 \r\nL 557.717272 200.901573 \r\nL 558.273797 205.207464 \r\nL 560.499898 199.594433 \r\nL 561.056423 197.672143 \r\nL 561.612949 197.133902 \r\nL 562.725999 193.520045 \r\nL 564.9521 187.445636 \r\nL 565.508625 192.520447 \r\nL 566.06515 202.439391 \r\nL 566.621676 197.825936 \r\nL 568.291251 197.133902 \r\nL 568.847776 196.365003 \r\nL 569.404302 194.904071 \r\nL 569.960827 189.752374 \r\nL 570.517352 186.830531 \r\nL 572.186928 185.523369 \r\nL 572.743453 185.90784 \r\nL 573.299978 192.212883 \r\nL 573.856503 228.736093 \r\nL 574.413028 221.815922 \r\nL 576.082604 227.198297 \r\nL 576.639129 222.969269 \r\nL 577.195654 220.739438 \r\nL 577.75218 225.891135 \r\nL 578.308705 218.586493 \r\nL 579.978281 218.586493 \r\nL 580.534806 219.124735 \r\nL 581.647856 225.276008 \r\nL 582.204381 222.58482 \r\nL 583.873957 222.892406 \r\nL 584.987007 213.973038 \r\nL 585.543533 216.894904 \r\nL 586.100058 221.27768 \r\nL 587.769633 221.27768 \r\nL 588.326159 217.89448 \r\nL 588.882684 215.433971 \r\nL 589.995734 217.433124 \r\nL 591.66531 215.972213 \r\nL 592.221835 222.123486 \r\nL 593.334886 221.585244 \r\nL 593.891411 222.507935 \r\nL 595.560986 214.818844 \r\nL 596.117512 217.356238 \r\nL 596.674037 217.433124 \r\nL 597.230562 214.665051 \r\nL 597.787087 212.819669 \r\nL 599.456663 210.282275 \r\nL 600.013188 211.435622 \r\nL 600.569713 210.666724 \r\nL 601.126238 214.665051 \r\nL 601.682764 217.356238 \r\nL 603.352339 215.126408 \r\nL 603.908864 210.897402 \r\nL 604.46539 207.821766 \r\nL 605.57844 206.437718 \r\nL 607.248016 209.205791 \r\nL 607.804541 208.898227 \r\nL 608.361066 213.050347 \r\nL 608.917591 212.742784 \r\nL 609.474117 212.665898 \r\nL 611.700217 210.205389 \r\nL 612.256743 211.512529 \r\nL 612.813268 211.204966 \r\nL 613.369793 210.128482 \r\nL 615.039369 208.436893 \r\nL 615.595894 199.363754 \r\nL 616.152419 196.288118 \r\nL 617.265469 197.749051 \r\nL 618.935045 193.058689 \r\nL 619.49157 189.367925 \r\nL 620.048096 191.290192 \r\nL 620.604621 195.134749 \r\nL 621.161146 193.596931 \r\nL 622.830722 188.137671 \r\nL 623.387247 189.906167 \r\nL 623.943772 189.291018 \r\nL 624.500297 191.751549 \r\nL 625.056822 188.829683 \r\nL 626.726398 191.059536 \r\nL 627.282923 184.600678 \r\nL 627.839448 181.217478 \r\nL 628.395974 178.603198 \r\nL 630.622074 182.293961 \r\nL 631.1786 179.448981 \r\nL 631.735125 181.140592 \r\nL 632.29165 185.13892 \r\nL 632.848175 178.756969 \r\nL 634.517751 180.371672 \r\nL 635.074276 180.217901 \r\nL 635.630801 171.75989 \r\nL 636.743852 172.144339 \r\nL 638.413427 166.685079 \r\nL 638.969953 167.60777 \r\nL 639.526478 165.301032 \r\nL 640.083003 166.069952 \r\nL 640.639528 159.918679 \r\nL 642.309104 157.535055 \r\nL 642.865629 158.76531 \r\nL 643.422154 162.302303 \r\nL 643.978679 161.840946 \r\nL 644.535205 160.687577 \r\nL 646.20478 163.993892 \r\nL 646.761306 163.378765 \r\nL 647.317831 163.148108 \r\nL 647.874356 164.916583 \r\nL 648.430881 162.071625 \r\nL 650.100457 161.610268 \r\nL 650.656982 150.153528 \r\nL 651.213507 153.229164 \r\nL 651.770032 147.769904 \r\nL 652.326558 151.845117 \r\nL 653.996133 155.920352 \r\nL 654.552658 148.538802 \r\nL 655.109184 149.384608 \r\nL 656.222234 152.229588 \r\nL 658.448335 154.536304 \r\nL 659.00486 153.921177 \r\nL 659.561385 156.381686 \r\nL 660.117911 157.073721 \r\nL 661.787486 160.226243 \r\nL 662.900537 155.458995 \r\nL 664.013587 159.611116 \r\nL 665.683163 163.917006 \r\nL 666.239688 172.067454 \r\nL 666.796213 177.603599 \r\nL 667.909263 173.143916 \r\nL 669.578839 173.143916 \r\nL 670.135364 179.372096 \r\nL 670.691889 167.838448 \r\nL 671.248415 176.680909 \r\nL 671.80494 176.219574 \r\nL 673.474516 174.604848 \r\nL 674.031041 180.756121 \r\nL 674.587566 180.756121 \r\nL 675.144091 172.836374 \r\nL 675.700616 168.37669 \r\nL 677.926717 161.840946 \r\nL 678.483242 165.070376 \r\nL 679.039768 166.069952 \r\nL 679.596293 169.145588 \r\nL 681.822394 166.608194 \r\nL 682.378919 173.374594 \r\nL 682.935444 178.064956 \r\nL 683.491969 178.37252 \r\nL 685.161545 173.682158 \r\nL 685.71807 175.604447 \r\nL 686.274595 172.221225 \r\nL 686.83112 173.297708 \r\nL 687.387646 170.529636 \r\nL 689.057221 169.68383 \r\nL 689.613747 167.06955 \r\nL 690.170272 174.374192 \r\nL 690.726797 179.448981 \r\nL 692.952898 179.525889 \r\nL 693.509423 181.294363 \r\nL 694.065948 180.141016 \r\nL 694.622473 166.838872 \r\nL 695.178999 168.37669 \r\nL 697.405099 167.06955 \r\nL 697.961625 168.838025 \r\nL 698.51815 167.992241 \r\nL 699.074675 167.992241 \r\nL 701.857301 155.689674 \r\nL 702.413826 148.61571 \r\nL 702.970352 147.616112 \r\nL 704.639927 148.769481 \r\nL 705.196452 152.537152 \r\nL 705.752978 153.690521 \r\nL 706.309503 146.53965 \r\nL 706.866028 146.847213 \r\nL 708.535604 144.694268 \r\nL 709.092129 141.464839 \r\nL 709.648654 135.62113 \r\nL 710.205179 136.466913 \r\nL 712.43128 124.548839 \r\nL 712.987805 125.932864 \r\nL 713.54433 108.094129 \r\nL 714.100856 108.094129 \r\nL 714.657381 88.640734 \r\nL 716.326957 97.944551 \r\nL 716.883482 99.482347 \r\nL 717.440007 93.561752 \r\nL 717.996532 91.639507 \r\nL 718.553057 96.714296 \r\nL 720.222633 110.708453 \r\nL 720.779158 96.868067 \r\nL 721.335683 106.325654 \r\nL 721.892209 108.247944 \r\nL 722.448734 107.248367 \r\nL 725.787885 90.409209 \r\nL 726.34441 104.55718 \r\nL 728.013986 107.632816 \r\nL 728.570511 98.098322 \r\nL 729.127036 92.869718 \r\nL 729.683562 90.639887 \r\nL 730.240087 87.871836 \r\nL 731.909662 88.333192 \r\nL 732.466188 94.407558 \r\nL 733.022713 108.017265 \r\nL 733.579238 102.404212 \r\nL 734.135763 100.328152 \r\nL 735.805339 94.715099 \r\nL 736.361864 96.176032 \r\nL 736.918389 96.714296 \r\nL 737.474914 99.482347 \r\nL 738.03144 94.023109 \r\nL 739.701015 89.48654 \r\nL 740.25754 92.792854 \r\nL 740.814066 101.789085 \r\nL 741.370591 99.943703 \r\nL 741.927116 101.558407 \r\nL 743.596692 110.016418 \r\nL 744.153217 108.786163 \r\nL 745.266267 111.554258 \r\nL 745.822793 109.708876 \r\nL 747.492368 104.941629 \r\nL 748.048893 109.631969 \r\nL 748.605419 106.094976 \r\nL 749.161944 100.866416 \r\nL 751.388045 102.865569 \r\nL 751.94457 106.556333 \r\nL 752.501095 104.018916 \r\nL 753.05762 103.250018 \r\nL 753.614145 101.327773 \r\nL 755.283721 110.093325 \r\nL 755.840246 108.171036 \r\nL 756.396772 101.789085 \r\nL 756.953297 98.329 \r\nL 757.509822 107.555909 \r\nL 759.179398 113.245869 \r\nL 760.292448 99.559254 \r\nL 760.848973 103.250018 \r\nL 761.405498 104.095823 \r\nL 763.075074 103.403789 \r\nL 764.188124 107.632816 \r\nL 764.74465 98.636541 \r\nL 765.301175 99.405483 \r\nL 766.97075 103.173155 \r\nL 768.640326 128.316488 \r\nL 769.196851 132.622379 \r\nL 770.866427 132.084137 \r\nL 771.979477 129.777398 \r\nL 772.536003 119.781591 \r\nL 773.092528 125.779093 \r\nL 774.762103 131.315239 \r\nL 775.318629 132.699264 \r\nL 775.875154 126.394198 \r\nL 776.431679 145.693844 \r\nL 776.988204 148.154353 \r\nL 778.65778 152.921601 \r\nL 779.214305 144.617361 \r\nL 779.77083 151.22999 \r\nL 780.327355 146.693421 \r\nL 780.883881 149.769079 \r\nL 782.553456 164.378341 \r\nL 783.109982 165.53171 \r\nL 783.666507 164.916583 \r\nL 784.779557 158.457746 \r\nL 786.449133 151.153104 \r\nL 787.005658 161.840946 \r\nL 788.118708 179.756545 \r\nL 788.675234 178.987647 \r\nL 790.344809 188.137671 \r\nL 790.901334 188.752798 \r\nL 791.45786 191.751549 \r\nL 792.014385 202.516276 \r\nL 792.57091 199.671318 \r\nL 794.240486 205.668798 \r\nL 794.797011 192.597354 \r\nL 795.353536 186.984301 \r\nL 795.910061 195.211634 \r\nL 796.466587 192.904918 \r\nL 798.136162 192.289769 \r\nL 798.692687 193.289367 \r\nL 799.249213 198.748627 \r\nL 799.805738 190.521294 \r\nL 800.362263 185.215805 \r\nL 802.031839 185.13892 \r\nL 802.588364 177.834278 \r\nL 803.144889 172.682581 \r\nL 803.701414 174.758641 \r\nL 804.257939 171.836776 \r\nL 806.48404 170.990992 \r\nL 807.040565 169.68383 \r\nL 807.597091 163.532557 \r\nL 808.153616 155.074546 \r\nL 809.823192 156.304801 \r\nL 810.379717 149.92285 \r\nL 810.936242 154.305626 \r\nL 811.492767 149.384608 \r\nL 812.049292 139.542571 \r\nL 813.718868 146.385857 \r\nL 814.275393 146.616535 \r\nL 814.831918 135.62113 \r\nL 815.388444 141.311046 \r\nL 815.944969 139.388779 \r\nL 817.614544 134.237082 \r\nL 818.17107 149.384608 \r\nL 818.727595 145.155602 \r\nL 819.28412 143.925348 \r\nL 819.840645 135.544222 \r\nL 821.510221 138.158524 \r\nL 822.066746 140.31147 \r\nL 822.623271 148.61571 \r\nL 823.179797 150.461092 \r\nL 823.736322 162.994316 \r\nL 825.405897 160.380036 \r\nL 825.962423 153.459843 \r\nL 826.518948 155.766559 \r\nL 827.075473 156.227915 \r\nL 827.631998 164.916583 \r\nL 829.301574 168.37669 \r\nL 829.858099 172.605696 \r\nL 830.414624 164.916583 \r\nL 830.971149 177.75737 \r\nL 831.527675 175.373769 \r\nL 833.19725 164.762812 \r\nL 833.753775 167.06955 \r\nL 834.310301 161.610268 \r\nL 834.866826 174.758641 \r\nL 835.423351 170.375843 \r\nL 837.092927 174.989298 \r\nL 837.649452 177.75737 \r\nL 838.205977 175.911988 \r\nL 838.762502 167.838448 \r\nL 840.988603 164.839697 \r\nL 841.545128 176.219574 \r\nL 842.101654 175.296883 \r\nL 842.658179 177.065358 \r\nL 843.214704 171.452327 \r\nL 844.88428 163.763236 \r\nL 845.440805 164.070799 \r\nL 845.99733 161.764061 \r\nL 846.553855 163.917006 \r\nL 847.11038 158.303976 \r\nL 848.779956 166.685079 \r\nL 849.336481 165.916181 \r\nL 849.893007 162.302303 \r\nL 850.449532 153.152279 \r\nL 851.006057 156.074123 \r\nL 852.675633 159.995565 \r\nL 853.232158 147.07787 \r\nL 853.788683 131.315239 \r\nL 854.345208 130.930768 \r\nL 854.901733 132.161022 \r\nL 856.571309 110.554682 \r\nL 857.127834 112.553835 \r\nL 857.684359 125.779093 \r\nL 858.240885 130.161869 \r\nL 860.466985 125.932864 \r\nL 861.023511 111.169809 \r\nL 861.580036 115.168115 \r\nL 862.136561 126.471106 \r\nL 862.693086 126.855555 \r\nL 864.362662 121.473202 \r\nL 864.919187 120.16604 \r\nL 865.475712 129.931191 \r\nL 866.032238 125.702186 \r\nL 866.588763 118.782015 \r\nL 868.258338 125.702186 \r\nL 868.814864 114.860573 \r\nL 869.371389 116.705955 \r\nL 869.927914 111.400487 \r\nL 872.154015 107.248367 \r\nL 872.71054 104.787858 \r\nL 873.267065 104.403365 \r\nL 873.82359 109.78574 \r\nL 874.380116 104.941629 \r\nL 876.049691 103.865145 \r\nL 876.606216 105.326078 \r\nL 877.162742 101.942856 \r\nL 878.275792 89.794125 \r\nL 879.945368 90.024759 \r\nL 881.058418 95.291817 \r\nL 881.614943 96.214486 \r\nL 882.171469 96.675842 \r\nL 883.841044 103.250018 \r\nL 884.397569 89.986306 \r\nL 884.954095 79.836728 \r\nL 885.51062 76.145964 \r\nL 886.067145 79.952045 \r\nL 887.736721 85.372873 \r\nL 888.293246 85.83423 \r\nL 888.849771 85.603551 \r\nL 889.406296 81.912788 \r\nL 889.962821 85.257512 \r\nL 891.632397 96.214486 \r\nL 892.188922 92.639083 \r\nL 892.745448 89.870989 \r\nL 893.301973 82.72014 \r\nL 893.858498 85.718869 \r\nL 895.528074 96.675842 \r\nL 896.084599 90.332345 \r\nL 896.641124 95.75313 \r\nL 897.197649 95.868491 \r\nL 897.754174 97.713872 \r\nL 900.5368 106.364108 \r\nL 901.093326 99.789933 \r\nL 901.649851 85.949547 \r\nL 904.432477 68.649075 \r\nL 904.989002 61.613543 \r\nL 905.545527 68.879754 \r\nL 907.215103 68.072402 \r\nL 907.771628 62.651574 \r\nL 908.328153 56.077398 \r\nL 909.441204 61.728905 \r\nL 911.110779 58.499453 \r\nL 911.667305 65.304307 \r\nL 912.22383 66.573015 \r\nL 912.780355 66.573015 \r\nL 913.33688 61.03687 \r\nL 915.006456 64.612316 \r\nL 915.562981 65.304307 \r\nL 916.119506 62.420895 \r\nL 916.676031 62.997569 \r\nL 918.902132 55.270046 \r\nL 919.458658 58.499453 \r\nL 920.015183 55.731403 \r\nL 920.571708 48.119197 \r\nL 921.128233 47.773158 \r\nL 922.797809 37.62358 \r\nL 923.910859 75.569246 \r\nL 924.467384 74.069904 \r\nL 925.02391 65.073629 \r\nL 926.693485 69.917784 \r\nL 927.25001 59.768162 \r\nL 927.806536 69.687106 \r\nL 928.363061 58.384136 \r\nL 928.919586 62.882252 \r\nL 930.589162 69.802423 \r\nL 931.145687 59.99884 \r\nL 931.702212 65.534985 \r\nL 932.258737 57.692102 \r\nL 932.815263 72.570517 \r\nL 934.484838 79.029376 \r\nL 935.041363 77.529989 \r\nL 935.597889 81.220753 \r\nL 936.154414 89.063637 \r\nL 936.710939 93.561752 \r\nL 940.05009 87.910246 \r\nL 940.606615 83.066135 \r\nL 942.276191 69.571788 \r\nL 942.832716 68.649075 \r\nL 943.389241 64.035599 \r\nL 943.945767 70.840453 \r\nL 944.502292 70.955814 \r\nL 946.171868 70.263779 \r\nL 947.284918 89.524993 \r\nL 947.841443 96.675842 \r\nL 948.397968 108.440168 \r\nL 950.067544 107.863495 \r\nL 950.624069 103.826692 \r\nL 951.180594 117.090404 \r\nL 951.73712 102.096671 \r\nL 952.293645 98.290546 \r\nL 953.96322 101.404636 \r\nL 954.519746 107.632816 \r\nL 955.076271 111.092902 \r\nL 955.632796 105.326078 \r\nL 956.189321 96.906521 \r\nL 957.858897 99.328576 \r\nL 958.415422 101.519953 \r\nL 958.971947 102.211988 \r\nL 959.528473 111.32358 \r\nL 960.084998 115.360339 \r\nL 961.754573 115.591017 \r\nL 962.311099 115.937013 \r\nL 962.867624 121.819197 \r\nL 963.424149 116.744364 \r\nL 965.65025 117.782394 \r\nL 966.206775 112.938284 \r\nL 966.7633 112.36161 \r\nL 967.319825 106.479425 \r\nL 967.876351 105.556756 \r\nL 969.545926 108.670846 \r\nL 970.102451 105.210717 \r\nL 971.215502 102.788662 \r\nL 971.772027 106.594786 \r\nL 973.441603 115.129661 \r\nL 973.998128 119.397142 \r\nL 974.554653 115.129661 \r\nL 975.111178 119.858455 \r\nL 975.667704 121.588519 \r\nL 977.893804 129.200725 \r\nL 978.45033 128.047356 \r\nL 979.006855 132.776149 \r\nL 979.56338 132.084137 \r\nL 981.232956 122.626549 \r\nL 981.789481 108.20949 \r\nL 982.346006 107.863495 \r\nL 982.902531 108.670846 \r\nL 983.459056 114.43767 \r\nL 985.128632 113.053601 \r\nL 985.685157 102.327305 \r\nL 986.241683 94.945778 \r\nL 986.798208 90.793658 \r\nL 987.354733 91.71637 \r\nL 989.024309 90.793658 \r\nL 989.580834 91.485692 \r\nL 990.137359 99.328576 \r\nL 991.250409 90.909019 \r\nL 992.919985 95.983808 \r\nL 993.47651 94.023109 \r\nL 994.033035 96.329847 \r\nL 994.589561 103.480696 \r\nL 995.146086 103.365335 \r\nL 996.815661 103.826692 \r\nL 997.372187 93.677069 \r\nL 997.928712 87.333572 \r\nL 999.041762 78.106663 \r\nL 1000.711338 79.029376 \r\nL 1001.267863 84.219482 \r\nL 1001.824388 74.415899 \r\nL 1002.380914 77.299311 \r\nL 1002.937439 77.183994 \r\nL 1004.607014 79.26001 \r\nL 1005.16354 80.759397 \r\nL 1005.720065 73.608547 \r\nL 1006.833115 64.035599 \r\nL 1008.502691 65.18899 \r\nL 1010.172266 66.919011 \r\nL 1010.728792 74.877256 \r\nL 1012.398367 76.030603 \r\nL 1012.954893 74.415899 \r\nL 1013.511418 75.569246 \r\nL 1014.067943 64.381638 \r\nL 1014.624468 75.569246 \r\nL 1016.294044 68.418397 \r\nL 1016.850569 64.266277 \r\nL 1017.407094 64.612316 \r\nL 1017.963619 77.875985 \r\nL 1018.520145 70.37914 \r\nL 1020.18972 68.649075 \r\nL 1020.746245 82.835457 \r\nL 1021.302771 93.792431 \r\nL 1022.415821 92.523722 \r\nL 1024.085397 98.059868 \r\nL 1024.641922 86.064864 \r\nL 1025.198447 70.955814 \r\nL 1025.754972 68.649075 \r\nL 1026.311498 71.878483 \r\nL 1027.981073 89.409632 \r\nL 1028.537598 81.451431 \r\nL 1029.094124 90.563023 \r\nL 1029.650649 91.71637 \r\nL 1030.207174 99.213259 \r\nL 1031.87675 100.94328 \r\nL 1032.433275 105.326078 \r\nL 1032.9898 102.327305 \r\nL 1033.546325 108.555485 \r\nL 1034.10285 113.053601 \r\nL 1035.772426 113.168962 \r\nL 1036.885476 104.288048 \r\nL 1037.442002 102.211988 \r\nL 1039.668102 109.016842 \r\nL 1040.224628 116.398369 \r\nL 1040.781153 113.745635 \r\nL 1041.337678 102.904023 \r\nL 1041.894203 89.755672 \r\nL 1043.563779 79.836728 \r\nL 1044.120304 87.910246 \r\nL 1044.676829 89.755672 \r\nL 1045.233355 87.218255 \r\nL 1045.78988 81.682109 \r\nL 1047.459455 89.063637 \r\nL 1048.015981 87.56425 \r\nL 1048.572506 88.832959 \r\nL 1049.129031 95.637812 \r\nL 1049.685556 94.599782 \r\nL 1051.355132 95.868491 \r\nL 1051.911657 100.020611 \r\nL 1052.468182 95.407134 \r\nL 1053.024707 83.873487 \r\nL 1053.581233 85.603551 \r\nL 1055.250808 91.370375 \r\nL 1056.363859 111.554258 \r\nL 1056.920384 111.438897 \r\nL 1057.476909 109.593515 \r\nL 1059.146485 116.744364 \r\nL 1059.70301 118.359112 \r\nL 1060.259535 112.36161 \r\nL 1060.81606 109.593515 \r\nL 1061.372586 104.634043 \r\nL 1063.042161 98.059868 \r\nL 1063.598686 98.982581 \r\nL 1064.155212 93.331074 \r\nL 1064.711737 95.75313 \r\nL 1065.268262 100.481923 \r\nL 1066.937838 94.023109 \r\nL 1067.494363 81.566748 \r\nL 1068.050888 75.684607 \r\nL 1068.607413 73.723865 \r\nL 1069.163939 70.955814 \r\nL 1070.833514 65.18899 \r\nL 1071.390039 72.801196 \r\nL 1071.946565 70.148462 \r\nL 1072.50309 77.529989 \r\nL 1073.059615 76.145964 \r\nL 1074.729191 74.761895 \r\nL 1075.285716 67.495728 \r\nL 1075.842241 73.262552 \r\nL 1076.398766 70.725136 \r\nL 1076.955291 77.068633 \r\nL 1078.624867 75.223251 \r\nL 1079.181392 82.3741 \r\nL 1079.737917 86.52622 \r\nL 1080.294443 83.873487 \r\nL 1082.520544 85.718869 \r\nL 1083.077069 90.216984 \r\nL 1084.190119 86.064864 \r\nL 1084.746644 83.296813 \r\nL 1086.41622 89.178954 \r\nL 1086.972745 97.483194 \r\nL 1087.52927 95.176456 \r\nL 1088.085796 96.329847 \r\nL 1088.642321 94.023109 \r\nL 1090.311896 88.486963 \r\nL 1090.868422 88.371602 \r\nL 1091.424947 73.723865 \r\nL 1091.981472 74.300582 \r\nL 1092.537997 81.912788 \r\nL 1094.207573 73.839226 \r\nL 1094.764098 79.952045 \r\nL 1095.320623 84.7962 \r\nL 1095.877149 84.911517 \r\nL 1096.433674 76.607276 \r\nL 1098.103249 86.180225 \r\nL 1099.2163 74.646577 \r\nL 1099.772825 72.570517 \r\nL 1100.32935 74.415899 \r\nL 1101.998926 70.494457 \r\nL 1103.668501 64.035599 \r\nL 1104.225027 65.18899 \r\nL 1105.894602 67.495728 \r\nL 1105.894602 67.495728 \r\n\" style=\"fill:none;stroke:#0000ff;stroke-linecap:square;stroke-width:1.5;\"/>\r\n   </g>\r\n   <g id=\"patch_3\">\r\n    <path d=\"M 40.621875 348.958125 \r\nL 40.621875 22.798125 \r\n\" style=\"fill:none;stroke:#000000;stroke-linecap:square;stroke-linejoin:miter;stroke-width:0.8;\"/>\r\n   </g>\r\n   <g id=\"patch_4\">\r\n    <path d=\"M 1156.621875 348.958125 \r\nL 1156.621875 22.798125 \r\n\" style=\"fill:none;stroke:#000000;stroke-linecap:square;stroke-linejoin:miter;stroke-width:0.8;\"/>\r\n   </g>\r\n   <g id=\"patch_5\">\r\n    <path d=\"M 40.621875 348.958125 \r\nL 1156.621875 348.958125 \r\n\" style=\"fill:none;stroke:#000000;stroke-linecap:square;stroke-linejoin:miter;stroke-width:0.8;\"/>\r\n   </g>\r\n   <g id=\"patch_6\">\r\n    <path d=\"M 40.621875 22.798125 \r\nL 1156.621875 22.798125 \r\n\" style=\"fill:none;stroke:#000000;stroke-linecap:square;stroke-linejoin:miter;stroke-width:0.8;\"/>\r\n   </g>\r\n   <g id=\"text_15\">\r\n    <!-- Previsão de série temporal -->\r\n    <g transform=\"translate(518.350313 16.798125)scale(0.12 -0.12)\">\r\n     <defs>\r\n      <path d=\"M 1259 4147 \r\nL 1259 2394 \r\nL 2053 2394 \r\nQ 2494 2394 2734 2622 \r\nQ 2975 2850 2975 3272 \r\nQ 2975 3691 2734 3919 \r\nQ 2494 4147 2053 4147 \r\nL 1259 4147 \r\nz\r\nM 628 4666 \r\nL 2053 4666 \r\nQ 2838 4666 3239 4311 \r\nQ 3641 3956 3641 3272 \r\nQ 3641 2581 3239 2228 \r\nQ 2838 1875 2053 1875 \r\nL 1259 1875 \r\nL 1259 0 \r\nL 628 0 \r\nL 628 4666 \r\nz\r\n\" id=\"DejaVuSans-50\" transform=\"scale(0.015625)\"/>\r\n      <path d=\"M 2631 2963 \r\nQ 2534 3019 2420 3045 \r\nQ 2306 3072 2169 3072 \r\nQ 1681 3072 1420 2755 \r\nQ 1159 2438 1159 1844 \r\nL 1159 0 \r\nL 581 0 \r\nL 581 3500 \r\nL 1159 3500 \r\nL 1159 2956 \r\nQ 1341 3275 1631 3429 \r\nQ 1922 3584 2338 3584 \r\nQ 2397 3584 2469 3576 \r\nQ 2541 3569 2628 3553 \r\nL 2631 2963 \r\nz\r\n\" id=\"DejaVuSans-72\" transform=\"scale(0.015625)\"/>\r\n      <path d=\"M 191 3500 \r\nL 800 3500 \r\nL 1894 563 \r\nL 2988 3500 \r\nL 3597 3500 \r\nL 2284 0 \r\nL 1503 0 \r\nL 191 3500 \r\nz\r\n\" id=\"DejaVuSans-76\" transform=\"scale(0.015625)\"/>\r\n      <path d=\"M 603 3500 \r\nL 1178 3500 \r\nL 1178 0 \r\nL 603 0 \r\nL 603 3500 \r\nz\r\nM 603 4863 \r\nL 1178 4863 \r\nL 1178 4134 \r\nL 603 4134 \r\nL 603 4863 \r\nz\r\n\" id=\"DejaVuSans-69\" transform=\"scale(0.015625)\"/>\r\n      <path d=\"M 2834 3397 \r\nL 2834 2853 \r\nQ 2591 2978 2328 3040 \r\nQ 2066 3103 1784 3103 \r\nQ 1356 3103 1142 2972 \r\nQ 928 2841 928 2578 \r\nQ 928 2378 1081 2264 \r\nQ 1234 2150 1697 2047 \r\nL 1894 2003 \r\nQ 2506 1872 2764 1633 \r\nQ 3022 1394 3022 966 \r\nQ 3022 478 2636 193 \r\nQ 2250 -91 1575 -91 \r\nQ 1294 -91 989 -36 \r\nQ 684 19 347 128 \r\nL 347 722 \r\nQ 666 556 975 473 \r\nQ 1284 391 1588 391 \r\nQ 1994 391 2212 530 \r\nQ 2431 669 2431 922 \r\nQ 2431 1156 2273 1281 \r\nQ 2116 1406 1581 1522 \r\nL 1381 1569 \r\nQ 847 1681 609 1914 \r\nQ 372 2147 372 2553 \r\nQ 372 3047 722 3315 \r\nQ 1072 3584 1716 3584 \r\nQ 2034 3584 2315 3537 \r\nQ 2597 3491 2834 3397 \r\nz\r\n\" id=\"DejaVuSans-73\" transform=\"scale(0.015625)\"/>\r\n      <path d=\"M 2906 2969 \r\nL 2906 4863 \r\nL 3481 4863 \r\nL 3481 0 \r\nL 2906 0 \r\nL 2906 525 \r\nQ 2725 213 2448 61 \r\nQ 2172 -91 1784 -91 \r\nQ 1150 -91 751 415 \r\nQ 353 922 353 1747 \r\nQ 353 2572 751 3078 \r\nQ 1150 3584 1784 3584 \r\nQ 2172 3584 2448 3432 \r\nQ 2725 3281 2906 2969 \r\nz\r\nM 947 1747 \r\nQ 947 1113 1208 752 \r\nQ 1469 391 1925 391 \r\nQ 2381 391 2643 752 \r\nQ 2906 1113 2906 1747 \r\nQ 2906 2381 2643 2742 \r\nQ 2381 3103 1925 3103 \r\nQ 1469 3103 1208 2742 \r\nQ 947 2381 947 1747 \r\nz\r\n\" id=\"DejaVuSans-64\" transform=\"scale(0.015625)\"/>\r\n      <path d=\"M 3597 1894 \r\nL 3597 1613 \r\nL 953 1613 \r\nQ 991 1019 1311 708 \r\nQ 1631 397 2203 397 \r\nQ 2534 397 2845 478 \r\nQ 3156 559 3463 722 \r\nL 3463 178 \r\nQ 3153 47 2828 -22 \r\nQ 2503 -91 2169 -91 \r\nQ 1331 -91 842 396 \r\nQ 353 884 353 1716 \r\nQ 353 2575 817 3079 \r\nQ 1281 3584 2069 3584 \r\nQ 2775 3584 3186 3129 \r\nQ 3597 2675 3597 1894 \r\nz\r\nM 3022 2063 \r\nQ 3016 2534 2758 2815 \r\nQ 2500 3097 2075 3097 \r\nQ 1594 3097 1305 2825 \r\nQ 1016 2553 972 2059 \r\nL 3022 2063 \r\nz\r\nM 2466 5119 \r\nL 3088 5119 \r\nL 2070 3944 \r\nL 1591 3944 \r\nL 2466 5119 \r\nz\r\n\" id=\"DejaVuSans-e9\" transform=\"scale(0.015625)\"/>\r\n      <path d=\"M 603 4863 \r\nL 1178 4863 \r\nL 1178 0 \r\nL 603 0 \r\nL 603 4863 \r\nz\r\n\" id=\"DejaVuSans-6c\" transform=\"scale(0.015625)\"/>\r\n     </defs>\r\n     <use xlink:href=\"#DejaVuSans-50\"/>\r\n     <use x=\"58.552734\" xlink:href=\"#DejaVuSans-72\"/>\r\n     <use x=\"97.416016\" xlink:href=\"#DejaVuSans-65\"/>\r\n     <use x=\"158.939453\" xlink:href=\"#DejaVuSans-76\"/>\r\n     <use x=\"218.119141\" xlink:href=\"#DejaVuSans-69\"/>\r\n     <use x=\"245.902344\" xlink:href=\"#DejaVuSans-73\"/>\r\n     <use x=\"298.001953\" xlink:href=\"#DejaVuSans-e3\"/>\r\n     <use x=\"359.28125\" xlink:href=\"#DejaVuSans-6f\"/>\r\n     <use x=\"420.462891\" xlink:href=\"#DejaVuSans-20\"/>\r\n     <use x=\"452.25\" xlink:href=\"#DejaVuSans-64\"/>\r\n     <use x=\"515.726562\" xlink:href=\"#DejaVuSans-65\"/>\r\n     <use x=\"577.25\" xlink:href=\"#DejaVuSans-20\"/>\r\n     <use x=\"609.037109\" xlink:href=\"#DejaVuSans-73\"/>\r\n     <use x=\"661.136719\" xlink:href=\"#DejaVuSans-e9\"/>\r\n     <use x=\"722.660156\" xlink:href=\"#DejaVuSans-72\"/>\r\n     <use x=\"763.773438\" xlink:href=\"#DejaVuSans-69\"/>\r\n     <use x=\"791.556641\" xlink:href=\"#DejaVuSans-65\"/>\r\n     <use x=\"853.080078\" xlink:href=\"#DejaVuSans-20\"/>\r\n     <use x=\"884.867188\" xlink:href=\"#DejaVuSans-74\"/>\r\n     <use x=\"924.076172\" xlink:href=\"#DejaVuSans-65\"/>\r\n     <use x=\"985.599609\" xlink:href=\"#DejaVuSans-6d\"/>\r\n     <use x=\"1083.011719\" xlink:href=\"#DejaVuSans-70\"/>\r\n     <use x=\"1146.488281\" xlink:href=\"#DejaVuSans-6f\"/>\r\n     <use x=\"1207.669922\" xlink:href=\"#DejaVuSans-72\"/>\r\n     <use x=\"1248.783203\" xlink:href=\"#DejaVuSans-61\"/>\r\n     <use x=\"1310.0625\" xlink:href=\"#DejaVuSans-6c\"/>\r\n    </g>\r\n   </g>\r\n   <g id=\"legend_1\">\r\n    <g id=\"patch_7\">\r\n     <path d=\"M 1077.782813 60.154375 \r\nL 1149.621875 60.154375 \r\nQ 1151.621875 60.154375 1151.621875 58.154375 \r\nL 1151.621875 29.798125 \r\nQ 1151.621875 27.798125 1149.621875 27.798125 \r\nL 1077.782813 27.798125 \r\nQ 1075.782813 27.798125 1075.782813 29.798125 \r\nL 1075.782813 58.154375 \r\nQ 1075.782813 60.154375 1077.782813 60.154375 \r\nz\r\n\" style=\"fill:#ffffff;opacity:0.8;stroke:#cccccc;stroke-linejoin:miter;\"/>\r\n    </g>\r\n    <g id=\"line2d_15\">\r\n     <path d=\"M 1079.782813 35.896562 \r\nL 1099.782813 35.896562 \r\n\" style=\"fill:none;stroke:#ff0000;stroke-linecap:square;stroke-width:1.5;\"/>\r\n    </g>\r\n    <g id=\"line2d_16\"/>\r\n    <g id=\"text_16\">\r\n     <!-- Previsto -->\r\n     <g transform=\"translate(1107.782813 39.396562)scale(0.1 -0.1)\">\r\n      <use xlink:href=\"#DejaVuSans-50\"/>\r\n      <use x=\"58.552734\" xlink:href=\"#DejaVuSans-72\"/>\r\n      <use x=\"97.416016\" xlink:href=\"#DejaVuSans-65\"/>\r\n      <use x=\"158.939453\" xlink:href=\"#DejaVuSans-76\"/>\r\n      <use x=\"218.119141\" xlink:href=\"#DejaVuSans-69\"/>\r\n      <use x=\"245.902344\" xlink:href=\"#DejaVuSans-73\"/>\r\n      <use x=\"298.001953\" xlink:href=\"#DejaVuSans-74\"/>\r\n      <use x=\"337.210938\" xlink:href=\"#DejaVuSans-6f\"/>\r\n     </g>\r\n    </g>\r\n    <g id=\"line2d_17\">\r\n     <path d=\"M 1079.782813 50.574687 \r\nL 1099.782813 50.574687 \r\n\" style=\"fill:none;stroke:#0000ff;stroke-linecap:square;stroke-width:1.5;\"/>\r\n    </g>\r\n    <g id=\"line2d_18\"/>\r\n    <g id=\"text_17\">\r\n     <!-- Real -->\r\n     <g transform=\"translate(1107.782813 54.074687)scale(0.1 -0.1)\">\r\n      <use xlink:href=\"#DejaVuSans-52\"/>\r\n      <use x=\"64.982422\" xlink:href=\"#DejaVuSans-65\"/>\r\n      <use x=\"126.505859\" xlink:href=\"#DejaVuSans-61\"/>\r\n      <use x=\"187.785156\" xlink:href=\"#DejaVuSans-6c\"/>\r\n     </g>\r\n    </g>\r\n   </g>\r\n  </g>\r\n </g>\r\n <defs>\r\n  <clipPath id=\"pd62d881006\">\r\n   <rect height=\"326.16\" width=\"1116\" x=\"40.621875\" y=\"22.798125\"/>\r\n  </clipPath>\r\n </defs>\r\n</svg>\r\n",
      "image/png": "[encoded data removed]"
     },
     "metadata": {
      "needs_background": "light"
     }
    }
   ],
   "metadata": {
    "colab": {
     "base_uri": "https://localhost:8080/",
     "height": 426
    },
    "id": "3G7e6HV4vMej",
    "outputId": "d905cc53-0c34-4e95-bc96-7195b641a497"
   }
  },
  {
   "cell_type": "code",
   "execution_count": 21,
   "source": [
    "rmse = math.sqrt(mean_squared_error(dataset[training_data_len:, 0:1], predicted[:,0:1]))\r\n",
    "print('RMSE: ', rmse)"
   ],
   "outputs": [
    {
     "output_type": "stream",
     "name": "stdout",
     "text": [
      "RMSE:  1.3353363593280987\n"
     ]
    }
   ],
   "metadata": {
    "colab": {
     "base_uri": "https://localhost:8080/"
    },
    "id": "4CCLiPM8vO5U",
    "outputId": "50f90759-af2d-454e-d5d2-631db094c9da"
   }
  },
  {
   "cell_type": "code",
   "execution_count": 22,
   "source": [
    "mse = mean_squared_error(dataset[training_data_len:, 0:1], predicted[:,0:1])\r\n",
    "print('MSE: ',mse)"
   ],
   "outputs": [
    {
     "output_type": "stream",
     "name": "stdout",
     "text": [
      "MSE:  1.7831231925436213\n"
     ]
    }
   ],
   "metadata": {
    "colab": {
     "base_uri": "https://localhost:8080/"
    },
    "id": "dWEFnqylvQiy",
    "outputId": "ebdcd19b-ecfb-4c00-9488-f2b82f53b4b9"
   }
  },
  {
   "cell_type": "code",
   "execution_count": 23,
   "source": [
    "mape = np.mean(np.abs((dataset[training_data_len:, 0:1]-predicted[:,0:1]) /dataset[training_data_len:, 0:1])) * 100\r\n",
    "print('MAPE: ',mape, '%')"
   ],
   "outputs": [
    {
     "output_type": "stream",
     "name": "stdout",
     "text": [
      "MAPE:  3.1071350217449027 %\n"
     ]
    }
   ],
   "metadata": {
    "colab": {
     "base_uri": "https://localhost:8080/"
    },
    "id": "-PC8KlwwvRum",
    "outputId": "634c896f-3156-4cf0-f111-a18ea5500aff"
   }
  },
  {
   "cell_type": "code",
   "execution_count": 24,
   "source": [
    "print('R2: ', r2_score(predicted[:,0:1], dataset[training_data_len:, 0:1]))"
   ],
   "outputs": [
    {
     "output_type": "stream",
     "name": "stdout",
     "text": [
      "R2:  0.7511405459032601\n"
     ]
    }
   ],
   "metadata": {
    "colab": {
     "base_uri": "https://localhost:8080/"
    },
    "id": "Hi7q3c9OvTI_",
    "outputId": "c676c006-4a99-4ac9-8ff8-3ae63f9ade56"
   }
  },
  {
   "cell_type": "code",
   "execution_count": 25,
   "source": [
    "scaled_data = scaled_data\r\n",
    "window = 60\r\n",
    "X_data = []\r\n",
    "y_data = []\r\n",
    "for i in range(window, len(scaled_data)):\r\n",
    "    X_data.append(scaled_data[i-window:i,:])\r\n",
    "    y_data.append(scaled_data[i, 0:1])\r\n",
    "X_data, y_data = np.array(X_data), np.array(y_data)\r\n",
    "history = regressor.fit(X_data, y_data, epochs = 50, batch_size = 64)"
   ],
   "outputs": [
    {
     "output_type": "stream",
     "name": "stdout",
     "text": [
      "Epoch 1/50\n",
      "19/19 [==============================] - 3s 141ms/step - loss: 0.0033\n",
      "Epoch 2/50\n",
      "19/19 [==============================] - 3s 155ms/step - loss: 0.0032\n",
      "Epoch 3/50\n",
      "19/19 [==============================] - 3s 155ms/step - loss: 0.0028\n",
      "Epoch 4/50\n",
      "19/19 [==============================] - 3s 149ms/step - loss: 0.0035\n",
      "Epoch 5/50\n",
      "19/19 [==============================] - 3s 149ms/step - loss: 0.0029\n",
      "Epoch 6/50\n",
      "19/19 [==============================] - 4s 197ms/step - loss: 0.0031\n",
      "Epoch 7/50\n",
      "19/19 [==============================] - 4s 196ms/step - loss: 0.0028\n",
      "Epoch 8/50\n",
      "19/19 [==============================] - 4s 195ms/step - loss: 0.0031\n",
      "Epoch 9/50\n",
      "19/19 [==============================] - 3s 158ms/step - loss: 0.0031\n",
      "Epoch 10/50\n",
      "19/19 [==============================] - 3s 158ms/step - loss: 0.0027\n",
      "Epoch 11/50\n",
      "19/19 [==============================] - 3s 172ms/step - loss: 0.0024\n",
      "Epoch 12/50\n"
     ]
    },
    {
     "output_type": "error",
     "ename": "KeyboardInterrupt",
     "evalue": "",
     "traceback": [
      "\u001b[1;31m---------------------------------------------------------------------------\u001b[0m",
      "\u001b[1;31mKeyboardInterrupt\u001b[0m                         Traceback (most recent call last)",
      "\u001b[1;32m~\\AppData\\Local\\Temp/ipykernel_9868/423993557.py\u001b[0m in \u001b[0;36m<module>\u001b[1;34m\u001b[0m\n\u001b[0;32m      7\u001b[0m     \u001b[0my_data\u001b[0m\u001b[1;33m.\u001b[0m\u001b[0mappend\u001b[0m\u001b[1;33m(\u001b[0m\u001b[0mscaled_data\u001b[0m\u001b[1;33m[\u001b[0m\u001b[0mi\u001b[0m\u001b[1;33m,\u001b[0m \u001b[1;36m0\u001b[0m\u001b[1;33m:\u001b[0m\u001b[1;36m1\u001b[0m\u001b[1;33m]\u001b[0m\u001b[1;33m)\u001b[0m\u001b[1;33m\u001b[0m\u001b[1;33m\u001b[0m\u001b[0m\n\u001b[0;32m      8\u001b[0m \u001b[0mX_data\u001b[0m\u001b[1;33m,\u001b[0m \u001b[0my_data\u001b[0m \u001b[1;33m=\u001b[0m \u001b[0mnp\u001b[0m\u001b[1;33m.\u001b[0m\u001b[0marray\u001b[0m\u001b[1;33m(\u001b[0m\u001b[0mX_data\u001b[0m\u001b[1;33m)\u001b[0m\u001b[1;33m,\u001b[0m \u001b[0mnp\u001b[0m\u001b[1;33m.\u001b[0m\u001b[0marray\u001b[0m\u001b[1;33m(\u001b[0m\u001b[0my_data\u001b[0m\u001b[1;33m)\u001b[0m\u001b[1;33m\u001b[0m\u001b[1;33m\u001b[0m\u001b[0m\n\u001b[1;32m----> 9\u001b[1;33m \u001b[0mhistory\u001b[0m \u001b[1;33m=\u001b[0m \u001b[0mregressor\u001b[0m\u001b[1;33m.\u001b[0m\u001b[0mfit\u001b[0m\u001b[1;33m(\u001b[0m\u001b[0mX_data\u001b[0m\u001b[1;33m,\u001b[0m \u001b[0my_data\u001b[0m\u001b[1;33m,\u001b[0m \u001b[0mepochs\u001b[0m \u001b[1;33m=\u001b[0m \u001b[1;36m50\u001b[0m\u001b[1;33m,\u001b[0m \u001b[0mbatch_size\u001b[0m \u001b[1;33m=\u001b[0m \u001b[1;36m64\u001b[0m\u001b[1;33m)\u001b[0m\u001b[1;33m\u001b[0m\u001b[1;33m\u001b[0m\u001b[0m\n\u001b[0m",
      "\u001b[1;32m~\\AppData\\Roaming\\Python\\Python38\\site-packages\\tensorflow\\python\\keras\\engine\\training.py\u001b[0m in \u001b[0;36m_method_wrapper\u001b[1;34m(self, *args, **kwargs)\u001b[0m\n\u001b[0;32m    106\u001b[0m   \u001b[1;32mdef\u001b[0m \u001b[0m_method_wrapper\u001b[0m\u001b[1;33m(\u001b[0m\u001b[0mself\u001b[0m\u001b[1;33m,\u001b[0m \u001b[1;33m*\u001b[0m\u001b[0margs\u001b[0m\u001b[1;33m,\u001b[0m \u001b[1;33m**\u001b[0m\u001b[0mkwargs\u001b[0m\u001b[1;33m)\u001b[0m\u001b[1;33m:\u001b[0m\u001b[1;33m\u001b[0m\u001b[1;33m\u001b[0m\u001b[0m\n\u001b[0;32m    107\u001b[0m     \u001b[1;32mif\u001b[0m \u001b[1;32mnot\u001b[0m \u001b[0mself\u001b[0m\u001b[1;33m.\u001b[0m\u001b[0m_in_multi_worker_mode\u001b[0m\u001b[1;33m(\u001b[0m\u001b[1;33m)\u001b[0m\u001b[1;33m:\u001b[0m  \u001b[1;31m# pylint: disable=protected-access\u001b[0m\u001b[1;33m\u001b[0m\u001b[1;33m\u001b[0m\u001b[0m\n\u001b[1;32m--> 108\u001b[1;33m       \u001b[1;32mreturn\u001b[0m \u001b[0mmethod\u001b[0m\u001b[1;33m(\u001b[0m\u001b[0mself\u001b[0m\u001b[1;33m,\u001b[0m \u001b[1;33m*\u001b[0m\u001b[0margs\u001b[0m\u001b[1;33m,\u001b[0m \u001b[1;33m**\u001b[0m\u001b[0mkwargs\u001b[0m\u001b[1;33m)\u001b[0m\u001b[1;33m\u001b[0m\u001b[1;33m\u001b[0m\u001b[0m\n\u001b[0m\u001b[0;32m    109\u001b[0m \u001b[1;33m\u001b[0m\u001b[0m\n\u001b[0;32m    110\u001b[0m     \u001b[1;31m# Running inside `run_distribute_coordinator` already.\u001b[0m\u001b[1;33m\u001b[0m\u001b[1;33m\u001b[0m\u001b[1;33m\u001b[0m\u001b[0m\n",
      "\u001b[1;32m~\\AppData\\Roaming\\Python\\Python38\\site-packages\\tensorflow\\python\\keras\\engine\\training.py\u001b[0m in \u001b[0;36mfit\u001b[1;34m(self, x, y, batch_size, epochs, verbose, callbacks, validation_split, validation_data, shuffle, class_weight, sample_weight, initial_epoch, steps_per_epoch, validation_steps, validation_batch_size, validation_freq, max_queue_size, workers, use_multiprocessing)\u001b[0m\n\u001b[0;32m   1096\u001b[0m                 batch_size=batch_size):\n\u001b[0;32m   1097\u001b[0m               \u001b[0mcallbacks\u001b[0m\u001b[1;33m.\u001b[0m\u001b[0mon_train_batch_begin\u001b[0m\u001b[1;33m(\u001b[0m\u001b[0mstep\u001b[0m\u001b[1;33m)\u001b[0m\u001b[1;33m\u001b[0m\u001b[1;33m\u001b[0m\u001b[0m\n\u001b[1;32m-> 1098\u001b[1;33m               \u001b[0mtmp_logs\u001b[0m \u001b[1;33m=\u001b[0m \u001b[0mtrain_function\u001b[0m\u001b[1;33m(\u001b[0m\u001b[0miterator\u001b[0m\u001b[1;33m)\u001b[0m\u001b[1;33m\u001b[0m\u001b[1;33m\u001b[0m\u001b[0m\n\u001b[0m\u001b[0;32m   1099\u001b[0m               \u001b[1;32mif\u001b[0m \u001b[0mdata_handler\u001b[0m\u001b[1;33m.\u001b[0m\u001b[0mshould_sync\u001b[0m\u001b[1;33m:\u001b[0m\u001b[1;33m\u001b[0m\u001b[1;33m\u001b[0m\u001b[0m\n\u001b[0;32m   1100\u001b[0m                 \u001b[0mcontext\u001b[0m\u001b[1;33m.\u001b[0m\u001b[0masync_wait\u001b[0m\u001b[1;33m(\u001b[0m\u001b[1;33m)\u001b[0m\u001b[1;33m\u001b[0m\u001b[1;33m\u001b[0m\u001b[0m\n",
      "\u001b[1;32m~\\AppData\\Roaming\\Python\\Python38\\site-packages\\tensorflow\\python\\eager\\def_function.py\u001b[0m in \u001b[0;36m__call__\u001b[1;34m(self, *args, **kwds)\u001b[0m\n\u001b[0;32m    778\u001b[0m       \u001b[1;32melse\u001b[0m\u001b[1;33m:\u001b[0m\u001b[1;33m\u001b[0m\u001b[1;33m\u001b[0m\u001b[0m\n\u001b[0;32m    779\u001b[0m         \u001b[0mcompiler\u001b[0m \u001b[1;33m=\u001b[0m \u001b[1;34m\"nonXla\"\u001b[0m\u001b[1;33m\u001b[0m\u001b[1;33m\u001b[0m\u001b[0m\n\u001b[1;32m--> 780\u001b[1;33m         \u001b[0mresult\u001b[0m \u001b[1;33m=\u001b[0m \u001b[0mself\u001b[0m\u001b[1;33m.\u001b[0m\u001b[0m_call\u001b[0m\u001b[1;33m(\u001b[0m\u001b[1;33m*\u001b[0m\u001b[0margs\u001b[0m\u001b[1;33m,\u001b[0m \u001b[1;33m**\u001b[0m\u001b[0mkwds\u001b[0m\u001b[1;33m)\u001b[0m\u001b[1;33m\u001b[0m\u001b[1;33m\u001b[0m\u001b[0m\n\u001b[0m\u001b[0;32m    781\u001b[0m \u001b[1;33m\u001b[0m\u001b[0m\n\u001b[0;32m    782\u001b[0m       \u001b[0mnew_tracing_count\u001b[0m \u001b[1;33m=\u001b[0m \u001b[0mself\u001b[0m\u001b[1;33m.\u001b[0m\u001b[0m_get_tracing_count\u001b[0m\u001b[1;33m(\u001b[0m\u001b[1;33m)\u001b[0m\u001b[1;33m\u001b[0m\u001b[1;33m\u001b[0m\u001b[0m\n",
      "\u001b[1;32m~\\AppData\\Roaming\\Python\\Python38\\site-packages\\tensorflow\\python\\eager\\def_function.py\u001b[0m in \u001b[0;36m_call\u001b[1;34m(self, *args, **kwds)\u001b[0m\n\u001b[0;32m    805\u001b[0m       \u001b[1;31m# In this case we have created variables on the first call, so we run the\u001b[0m\u001b[1;33m\u001b[0m\u001b[1;33m\u001b[0m\u001b[1;33m\u001b[0m\u001b[0m\n\u001b[0;32m    806\u001b[0m       \u001b[1;31m# defunned version which is guaranteed to never create variables.\u001b[0m\u001b[1;33m\u001b[0m\u001b[1;33m\u001b[0m\u001b[1;33m\u001b[0m\u001b[0m\n\u001b[1;32m--> 807\u001b[1;33m       \u001b[1;32mreturn\u001b[0m \u001b[0mself\u001b[0m\u001b[1;33m.\u001b[0m\u001b[0m_stateless_fn\u001b[0m\u001b[1;33m(\u001b[0m\u001b[1;33m*\u001b[0m\u001b[0margs\u001b[0m\u001b[1;33m,\u001b[0m \u001b[1;33m**\u001b[0m\u001b[0mkwds\u001b[0m\u001b[1;33m)\u001b[0m  \u001b[1;31m# pylint: disable=not-callable\u001b[0m\u001b[1;33m\u001b[0m\u001b[1;33m\u001b[0m\u001b[0m\n\u001b[0m\u001b[0;32m    808\u001b[0m     \u001b[1;32melif\u001b[0m \u001b[0mself\u001b[0m\u001b[1;33m.\u001b[0m\u001b[0m_stateful_fn\u001b[0m \u001b[1;32mis\u001b[0m \u001b[1;32mnot\u001b[0m \u001b[1;32mNone\u001b[0m\u001b[1;33m:\u001b[0m\u001b[1;33m\u001b[0m\u001b[1;33m\u001b[0m\u001b[0m\n\u001b[0;32m    809\u001b[0m       \u001b[1;31m# Release the lock early so that multiple threads can perform the call\u001b[0m\u001b[1;33m\u001b[0m\u001b[1;33m\u001b[0m\u001b[1;33m\u001b[0m\u001b[0m\n",
      "\u001b[1;32m~\\AppData\\Roaming\\Python\\Python38\\site-packages\\tensorflow\\python\\eager\\function.py\u001b[0m in \u001b[0;36m__call__\u001b[1;34m(self, *args, **kwargs)\u001b[0m\n\u001b[0;32m   2827\u001b[0m     \u001b[1;32mwith\u001b[0m \u001b[0mself\u001b[0m\u001b[1;33m.\u001b[0m\u001b[0m_lock\u001b[0m\u001b[1;33m:\u001b[0m\u001b[1;33m\u001b[0m\u001b[1;33m\u001b[0m\u001b[0m\n\u001b[0;32m   2828\u001b[0m       \u001b[0mgraph_function\u001b[0m\u001b[1;33m,\u001b[0m \u001b[0margs\u001b[0m\u001b[1;33m,\u001b[0m \u001b[0mkwargs\u001b[0m \u001b[1;33m=\u001b[0m \u001b[0mself\u001b[0m\u001b[1;33m.\u001b[0m\u001b[0m_maybe_define_function\u001b[0m\u001b[1;33m(\u001b[0m\u001b[0margs\u001b[0m\u001b[1;33m,\u001b[0m \u001b[0mkwargs\u001b[0m\u001b[1;33m)\u001b[0m\u001b[1;33m\u001b[0m\u001b[1;33m\u001b[0m\u001b[0m\n\u001b[1;32m-> 2829\u001b[1;33m     \u001b[1;32mreturn\u001b[0m \u001b[0mgraph_function\u001b[0m\u001b[1;33m.\u001b[0m\u001b[0m_filtered_call\u001b[0m\u001b[1;33m(\u001b[0m\u001b[0margs\u001b[0m\u001b[1;33m,\u001b[0m \u001b[0mkwargs\u001b[0m\u001b[1;33m)\u001b[0m  \u001b[1;31m# pylint: disable=protected-access\u001b[0m\u001b[1;33m\u001b[0m\u001b[1;33m\u001b[0m\u001b[0m\n\u001b[0m\u001b[0;32m   2830\u001b[0m \u001b[1;33m\u001b[0m\u001b[0m\n\u001b[0;32m   2831\u001b[0m   \u001b[1;33m@\u001b[0m\u001b[0mproperty\u001b[0m\u001b[1;33m\u001b[0m\u001b[1;33m\u001b[0m\u001b[0m\n",
      "\u001b[1;32m~\\AppData\\Roaming\\Python\\Python38\\site-packages\\tensorflow\\python\\eager\\function.py\u001b[0m in \u001b[0;36m_filtered_call\u001b[1;34m(self, args, kwargs, cancellation_manager)\u001b[0m\n\u001b[0;32m   1841\u001b[0m       \u001b[0;31m`\u001b[0m\u001b[0margs\u001b[0m\u001b[0;31m`\u001b[0m \u001b[1;32mand\u001b[0m\u001b[0;31m \u001b[0m\u001b[0;31m`\u001b[0m\u001b[0mkwargs\u001b[0m\u001b[0;31m`\u001b[0m\u001b[1;33m.\u001b[0m\u001b[1;33m\u001b[0m\u001b[1;33m\u001b[0m\u001b[0m\n\u001b[0;32m   1842\u001b[0m     \"\"\"\n\u001b[1;32m-> 1843\u001b[1;33m     return self._call_flat(\n\u001b[0m\u001b[0;32m   1844\u001b[0m         [t for t in nest.flatten((args, kwargs), expand_composites=True)\n\u001b[0;32m   1845\u001b[0m          if isinstance(t, (ops.Tensor,\n",
      "\u001b[1;32m~\\AppData\\Roaming\\Python\\Python38\\site-packages\\tensorflow\\python\\eager\\function.py\u001b[0m in \u001b[0;36m_call_flat\u001b[1;34m(self, args, captured_inputs, cancellation_manager)\u001b[0m\n\u001b[0;32m   1921\u001b[0m         and executing_eagerly):\n\u001b[0;32m   1922\u001b[0m       \u001b[1;31m# No tape is watching; skip to running the function.\u001b[0m\u001b[1;33m\u001b[0m\u001b[1;33m\u001b[0m\u001b[1;33m\u001b[0m\u001b[0m\n\u001b[1;32m-> 1923\u001b[1;33m       return self._build_call_outputs(self._inference_function.call(\n\u001b[0m\u001b[0;32m   1924\u001b[0m           ctx, args, cancellation_manager=cancellation_manager))\n\u001b[0;32m   1925\u001b[0m     forward_backward = self._select_forward_and_backward_functions(\n",
      "\u001b[1;32m~\\AppData\\Roaming\\Python\\Python38\\site-packages\\tensorflow\\python\\eager\\function.py\u001b[0m in \u001b[0;36mcall\u001b[1;34m(self, ctx, args, cancellation_manager)\u001b[0m\n\u001b[0;32m    543\u001b[0m       \u001b[1;32mwith\u001b[0m \u001b[0m_InterpolateFunctionError\u001b[0m\u001b[1;33m(\u001b[0m\u001b[0mself\u001b[0m\u001b[1;33m)\u001b[0m\u001b[1;33m:\u001b[0m\u001b[1;33m\u001b[0m\u001b[1;33m\u001b[0m\u001b[0m\n\u001b[0;32m    544\u001b[0m         \u001b[1;32mif\u001b[0m \u001b[0mcancellation_manager\u001b[0m \u001b[1;32mis\u001b[0m \u001b[1;32mNone\u001b[0m\u001b[1;33m:\u001b[0m\u001b[1;33m\u001b[0m\u001b[1;33m\u001b[0m\u001b[0m\n\u001b[1;32m--> 545\u001b[1;33m           outputs = execute.execute(\n\u001b[0m\u001b[0;32m    546\u001b[0m               \u001b[0mstr\u001b[0m\u001b[1;33m(\u001b[0m\u001b[0mself\u001b[0m\u001b[1;33m.\u001b[0m\u001b[0msignature\u001b[0m\u001b[1;33m.\u001b[0m\u001b[0mname\u001b[0m\u001b[1;33m)\u001b[0m\u001b[1;33m,\u001b[0m\u001b[1;33m\u001b[0m\u001b[1;33m\u001b[0m\u001b[0m\n\u001b[0;32m    547\u001b[0m               \u001b[0mnum_outputs\u001b[0m\u001b[1;33m=\u001b[0m\u001b[0mself\u001b[0m\u001b[1;33m.\u001b[0m\u001b[0m_num_outputs\u001b[0m\u001b[1;33m,\u001b[0m\u001b[1;33m\u001b[0m\u001b[1;33m\u001b[0m\u001b[0m\n",
      "\u001b[1;32m~\\AppData\\Roaming\\Python\\Python38\\site-packages\\tensorflow\\python\\eager\\execute.py\u001b[0m in \u001b[0;36mquick_execute\u001b[1;34m(op_name, num_outputs, inputs, attrs, ctx, name)\u001b[0m\n\u001b[0;32m     57\u001b[0m   \u001b[1;32mtry\u001b[0m\u001b[1;33m:\u001b[0m\u001b[1;33m\u001b[0m\u001b[1;33m\u001b[0m\u001b[0m\n\u001b[0;32m     58\u001b[0m     \u001b[0mctx\u001b[0m\u001b[1;33m.\u001b[0m\u001b[0mensure_initialized\u001b[0m\u001b[1;33m(\u001b[0m\u001b[1;33m)\u001b[0m\u001b[1;33m\u001b[0m\u001b[1;33m\u001b[0m\u001b[0m\n\u001b[1;32m---> 59\u001b[1;33m     tensors = pywrap_tfe.TFE_Py_Execute(ctx._handle, device_name, op_name,\n\u001b[0m\u001b[0;32m     60\u001b[0m                                         inputs, attrs, num_outputs)\n\u001b[0;32m     61\u001b[0m   \u001b[1;32mexcept\u001b[0m \u001b[0mcore\u001b[0m\u001b[1;33m.\u001b[0m\u001b[0m_NotOkStatusException\u001b[0m \u001b[1;32mas\u001b[0m \u001b[0me\u001b[0m\u001b[1;33m:\u001b[0m\u001b[1;33m\u001b[0m\u001b[1;33m\u001b[0m\u001b[0m\n",
      "\u001b[1;31mKeyboardInterrupt\u001b[0m: "
     ]
    }
   ],
   "metadata": {
    "id": "-5B0mpI-t-yK"
   }
  },
  {
   "cell_type": "code",
   "execution_count": null,
   "source": [
    "predicted = regressor.predict(X_data)\n",
    "print(predicted)\n",
    "volume = dataset[:len(X_data), 1:]\n",
    "predicted = np.column_stack((predicted, volume))\n",
    "predicted = sc.inverse_transform(predicted)\n",
    "allForecastedData = predicted[:,0:1]\n",
    "# date = df['DATA']\n",
    "date = df.index\n",
    "print(dataset.shape)\n",
    "print(predicted.shape)\n",
    "figure(figsize=(20, 6), dpi=80)\n",
    "plt.plot(dataset[window:, 0:1], color = 'red', label = 'Previsto')\n",
    "plt.plot(predicted[:,0:1], color = 'blue', label = 'Real')\n",
    "plt.title('Previsão de série temporal')\n",
    "plt.xlabel('Tempo')\n",
    "plt.ylabel('Cotação (R$)')\n",
    "plt.legend()\n",
    "plt.show()"
   ],
   "outputs": [
    {
     "output_type": "stream",
     "name": "stdout",
     "text": [
      "[[0.19847703]\n",
      " [0.19286484]\n",
      " [0.19161472]\n",
      " ...\n",
      " [0.85642874]\n",
      " [0.8664247 ]\n",
      " [0.87531585]]\n",
      "(1235, 4)\n",
      "(1175, 4)\n"
     ]
    },
    {
     "output_type": "display_data",
     "data": {
      "text/plain": [
       "<Figure size 1600x480 with 1 Axes>"
      ],
      "image/png": "[encoded data removed]"
     },
     "metadata": {
      "needs_background": "light"
     }
    }
   ],
   "metadata": {
    "id": "E1LL5KM8vlrC"
   }
  },
  {
   "cell_type": "code",
   "execution_count": null,
   "source": [
    "from datetime import date, datetime, timedelta\n",
    "today = datetime.today()\n",
    "today_minus_100 = today - timedelta(days=100)\n",
    "df_new = web.DataReader(\"PETR4.SA\", data_source=\"yahoo\", start=today_minus_100, end=today)\n",
    "df_bovespa_new = web.DataReader(\"^BVSP\", data_source=\"yahoo\", start=today_minus_100, end=today)\n",
    "df_dolar_new = web.DataReader(\"USDBRL=X\", data_source=\"yahoo\", start=today_minus_100, end=today)\n",
    "df_new = df_new.merge(df_bovespa_new, left_on='Date', right_on='Date', suffixes=('', '_bovespa'))\n",
    "df_new = df_new.merge(df_dolar_new, left_on='Date', right_on='Date', suffixes=('', '_dolar'))\n",
    "df_new = df_new.filter([\"Close\", \"Volume\", \"Close_bovespa\", \"Volume_bovespa\"])\n",
    "\n",
    "print(df_new.tail())\n",
    "last_days = df_new.values\n",
    "scaled = sc.transform(last_days)\n",
    "x = []\n",
    "x.append(scaled)\n",
    "x = np.array(x)\n",
    "x = np.reshape(x, (x.shape[0], x.shape[1], -1))\n",
    "pred_price = regressor.predict(x)\n",
    "volume_new = last_days[0:1, 1:]\n",
    "pred_price = np.column_stack((pred_price, volume_new))\n",
    "pred_price = sc.inverse_transform(pred_price)\n",
    "print(pred_price[0][0])"
   ],
   "outputs": [
    {
     "output_type": "stream",
     "name": "stdout",
     "text": [
      "                Close     Volume  Close_bovespa  Volume_bovespa\n",
      "Date                                                           \n",
      "2021-07-29  27.809999   43916600         125675         7488400\n",
      "2021-08-02  26.410000   70528800         122516         8565400\n",
      "2021-08-03  26.850000   71850400         123577         9391300\n",
      "2021-08-04  26.280001   87970600         121801         9164200\n",
      "2021-08-05  28.350000  223915900         121633        10913000\n",
      "WARNING:tensorflow:Model was constructed with shape (None, 60, 4) for input Tensor(\"lstm_input:0\", shape=(None, 60, 4), dtype=float32), but it was called on an input with incompatible shape (None, 55, 4).\n",
      "28.16294646735855\n"
     ]
    }
   ],
   "metadata": {
    "id": "CtRI0NBrzz4D"
   }
  }
 ],
 "metadata": {
  "colab": {
   "collapsed_sections": [],
   "name": "V1 LSTM.ipynb",
   "provenance": []
  },
  "interpreter": {
   "hash": "e9d26aef1b45c2698ea6efe547ad5d4a29e612063653693e2b8c59ffe1c6a0ee"
  },
  "kernelspec": {
   "name": "python3",
   "display_name": "Python 3.8.7 64-bit"
  },
  "language_info": {
   "codemirror_mode": {
    "name": "ipython",
    "version": 3
   },
   "file_extension": ".py",
   "mimetype": "text/x-python",
   "name": "python",
   "nbconvert_exporter": "python",
   "pygments_lexer": "ipython3",
   "version": "3.8.7"
  }
 },
 "nbformat": 4,
 "nbformat_minor": 1
}