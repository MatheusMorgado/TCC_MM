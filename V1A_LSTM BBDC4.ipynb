{
  "nbformat": 4,
  "nbformat_minor": 2,
  "metadata": {
    "colab": {
      "name": "Tentativa com mais features LSTM.ipynb",
      "provenance": [],
      "collapsed_sections": []
    },
    "kernelspec": {
      "name": "python3",
      "display_name": "Python 3.8.7 64-bit"
    },
    "language_info": {
      "name": "python",
      "version": "3.8.7",
      "mimetype": "text/x-python",
      "codemirror_mode": {
        "name": "ipython",
        "version": 3
      },
      "pygments_lexer": "ipython3",
      "nbconvert_exporter": "python",
      "file_extension": ".py"
    },
    "interpreter": {
      "hash": "e9d26aef1b45c2698ea6efe547ad5d4a29e612063653693e2b8c59ffe1c6a0ee"
    }
  },
  "cells": [
    {
      "cell_type": "code",
      "execution_count": 131,
      "source": [
        "import numpy as np\r\n",
        "import pandas_datareader as web\r\n",
        "import pandas as pd\r\n",
        "import seaborn as sns\r\n",
        "import matplotlib.pyplot as plt\r\n",
        "import math\r\n",
        "from matplotlib.pyplot import figure\r\n",
        "from sklearn.preprocessing import MinMaxScaler, StandardScaler\r\n",
        "from sklearn.metrics import mean_squared_error\r\n",
        "from sklearn.metrics import r2_score\r\n",
        "from tensorflow import keras\r\n",
        "'''from keras.models import Sequential\r\n",
        "from keras.layers import Dense\r\n",
        "from keras.layers import LSTM\r\n",
        "from keras.layers import Dropout'''"
      ],
      "outputs": [
        {
          "output_type": "execute_result",
          "data": {
            "text/plain": [
              "'from keras.models import Sequential\\nfrom keras.layers import Dense\\nfrom keras.layers import LSTM\\nfrom keras.layers import Dropout'"
            ]
          },
          "metadata": {},
          "execution_count": 131
        }
      ],
      "metadata": {
        "id": "WXZs1haGNdYv"
      }
    },
    {
      "cell_type": "code",
      "execution_count": 132,
      "source": [
        "Sequential = keras.models.Sequential\r\n",
        "Dense = keras.layers.Dense\r\n",
        "LSTM = keras.layers.LSTM\r\n",
        "Dropout = keras.layers.Dropout"
      ],
      "outputs": [],
      "metadata": {}
    },
    {
      "cell_type": "code",
      "execution_count": 133,
      "source": [
        "df = web.DataReader(\"BBDC4.SA\", data_source=\"yahoo\", start=\"2015-01-01\", end=\"2019-12-31\")\r\n",
        "df"
      ],
      "outputs": [
        {
          "output_type": "execute_result",
          "data": {
            "text/plain": [
              "                 High        Low       Open      Close      Volume  Adj Close\n",
              "Date                                                                         \n",
              "2015-01-02  16.833435  16.188368  16.482443  16.269001  16646325.0  12.181644\n",
              "2015-01-05  16.491928  15.799429  15.989155  16.292715  16428748.0  12.206099\n",
              "2015-01-06  16.828691  16.193110  16.321175  16.828691  21831909.0  12.607638\n",
              "2015-01-07  17.691944  16.895096  17.046877  17.497477  23002650.0  13.108670\n",
              "2015-01-08  17.744120  17.217630  17.549650  17.587597  12495706.0  13.176188\n",
              "...               ...        ...        ...        ...         ...        ...\n",
              "2019-12-20  32.663635  32.236362  32.572727  32.445454  24617120.0  30.705662\n",
              "2019-12-23  32.654545  32.254543  32.445454  32.645454  11294690.0  30.894934\n",
              "2019-12-26  33.172726  32.563637  32.663635  33.054546  11498850.0  31.282085\n",
              "2019-12-27  33.318180  32.818180  33.181816  32.927273  11444400.0  31.161634\n",
              "2019-12-30  33.172726  32.690910  33.054546  32.881817   8201050.0  31.118622\n",
              "\n",
              "[1241 rows x 6 columns]"
            ],
            "text/html": [
              "<div>\n",
              "<style scoped>\n",
              "    .dataframe tbody tr th:only-of-type {\n",
              "        vertical-align: middle;\n",
              "    }\n",
              "\n",
              "    .dataframe tbody tr th {\n",
              "        vertical-align: top;\n",
              "    }\n",
              "\n",
              "    .dataframe thead th {\n",
              "        text-align: right;\n",
              "    }\n",
              "</style>\n",
              "<table border=\"1\" class=\"dataframe\">\n",
              "  <thead>\n",
              "    <tr style=\"text-align: right;\">\n",
              "      <th></th>\n",
              "      <th>High</th>\n",
              "      <th>Low</th>\n",
              "      <th>Open</th>\n",
              "      <th>Close</th>\n",
              "      <th>Volume</th>\n",
              "      <th>Adj Close</th>\n",
              "    </tr>\n",
              "    <tr>\n",
              "      <th>Date</th>\n",
              "      <th></th>\n",
              "      <th></th>\n",
              "      <th></th>\n",
              "      <th></th>\n",
              "      <th></th>\n",
              "      <th></th>\n",
              "    </tr>\n",
              "  </thead>\n",
              "  <tbody>\n",
              "    <tr>\n",
              "      <th>2015-01-02</th>\n",
              "      <td>16.833435</td>\n",
              "      <td>16.188368</td>\n",
              "      <td>16.482443</td>\n",
              "      <td>16.269001</td>\n",
              "      <td>16646325.0</td>\n",
              "      <td>12.181644</td>\n",
              "    </tr>\n",
              "    <tr>\n",
              "      <th>2015-01-05</th>\n",
              "      <td>16.491928</td>\n",
              "      <td>15.799429</td>\n",
              "      <td>15.989155</td>\n",
              "      <td>16.292715</td>\n",
              "      <td>16428748.0</td>\n",
              "      <td>12.206099</td>\n",
              "    </tr>\n",
              "    <tr>\n",
              "      <th>2015-01-06</th>\n",
              "      <td>16.828691</td>\n",
              "      <td>16.193110</td>\n",
              "      <td>16.321175</td>\n",
              "      <td>16.828691</td>\n",
              "      <td>21831909.0</td>\n",
              "      <td>12.607638</td>\n",
              "    </tr>\n",
              "    <tr>\n",
              "      <th>2015-01-07</th>\n",
              "      <td>17.691944</td>\n",
              "      <td>16.895096</td>\n",
              "      <td>17.046877</td>\n",
              "      <td>17.497477</td>\n",
              "      <td>23002650.0</td>\n",
              "      <td>13.108670</td>\n",
              "    </tr>\n",
              "    <tr>\n",
              "      <th>2015-01-08</th>\n",
              "      <td>17.744120</td>\n",
              "      <td>17.217630</td>\n",
              "      <td>17.549650</td>\n",
              "      <td>17.587597</td>\n",
              "      <td>12495706.0</td>\n",
              "      <td>13.176188</td>\n",
              "    </tr>\n",
              "    <tr>\n",
              "      <th>...</th>\n",
              "      <td>...</td>\n",
              "      <td>...</td>\n",
              "      <td>...</td>\n",
              "      <td>...</td>\n",
              "      <td>...</td>\n",
              "      <td>...</td>\n",
              "    </tr>\n",
              "    <tr>\n",
              "      <th>2019-12-20</th>\n",
              "      <td>32.663635</td>\n",
              "      <td>32.236362</td>\n",
              "      <td>32.572727</td>\n",
              "      <td>32.445454</td>\n",
              "      <td>24617120.0</td>\n",
              "      <td>30.705662</td>\n",
              "    </tr>\n",
              "    <tr>\n",
              "      <th>2019-12-23</th>\n",
              "      <td>32.654545</td>\n",
              "      <td>32.254543</td>\n",
              "      <td>32.445454</td>\n",
              "      <td>32.645454</td>\n",
              "      <td>11294690.0</td>\n",
              "      <td>30.894934</td>\n",
              "    </tr>\n",
              "    <tr>\n",
              "      <th>2019-12-26</th>\n",
              "      <td>33.172726</td>\n",
              "      <td>32.563637</td>\n",
              "      <td>32.663635</td>\n",
              "      <td>33.054546</td>\n",
              "      <td>11498850.0</td>\n",
              "      <td>31.282085</td>\n",
              "    </tr>\n",
              "    <tr>\n",
              "      <th>2019-12-27</th>\n",
              "      <td>33.318180</td>\n",
              "      <td>32.818180</td>\n",
              "      <td>33.181816</td>\n",
              "      <td>32.927273</td>\n",
              "      <td>11444400.0</td>\n",
              "      <td>31.161634</td>\n",
              "    </tr>\n",
              "    <tr>\n",
              "      <th>2019-12-30</th>\n",
              "      <td>33.172726</td>\n",
              "      <td>32.690910</td>\n",
              "      <td>33.054546</td>\n",
              "      <td>32.881817</td>\n",
              "      <td>8201050.0</td>\n",
              "      <td>31.118622</td>\n",
              "    </tr>\n",
              "  </tbody>\n",
              "</table>\n",
              "<p>1241 rows × 6 columns</p>\n",
              "</div>"
            ]
          },
          "metadata": {},
          "execution_count": 133
        }
      ],
      "metadata": {
        "colab": {
          "base_uri": "https://localhost:8080/",
          "height": 455
        },
        "id": "ZLE4oRySNhEC",
        "outputId": "39a7ff70-1a4f-44ec-9f41-516718e8ab6c"
      }
    },
    {
      "cell_type": "code",
      "execution_count": 134,
      "source": [
        "df.shape"
      ],
      "outputs": [
        {
          "output_type": "execute_result",
          "data": {
            "text/plain": [
              "(1241, 6)"
            ]
          },
          "metadata": {},
          "execution_count": 134
        }
      ],
      "metadata": {
        "colab": {
          "base_uri": "https://localhost:8080/"
        },
        "id": "U0BBIen7Njpc",
        "outputId": "b06095f3-ccaa-49e9-8035-c634d0c743e6"
      }
    },
    {
      "cell_type": "code",
      "execution_count": 135,
      "source": [
        "df_bovespa = web.DataReader(\"^BVSP\", data_source=\"yahoo\", start=\"2015-01-01\", end=\"2019-12-31\")\r\n",
        "# df_bovespa.reset_index(inplace=True,drop=False)\r\n",
        "df_bovespa"
      ],
      "outputs": [
        {
          "output_type": "execute_result",
          "data": {
            "text/plain": [
              "                High       Low      Open     Close     Volume  Adj Close\n",
              "Date                                                                    \n",
              "2015-01-02   50005.0   48345.0   50005.0   48512.0  2882100.0    48512.0\n",
              "2015-01-05   48512.0   47264.0   48512.0   47517.0  3866100.0    47517.0\n",
              "2015-01-06   48061.0   47338.0   47517.0   48001.0  4559300.0    48001.0\n",
              "2015-01-07   49882.0   48006.0   48006.0   49463.0  4408800.0    49463.0\n",
              "2015-01-08   50261.0   49017.0   49463.0   49943.0  3621900.0    49943.0\n",
              "...              ...       ...       ...       ...        ...        ...\n",
              "2019-12-20  115171.0  114526.0  115133.0  115121.0  6887400.0   115121.0\n",
              "2019-12-23  115863.0  114964.0  115119.0  115863.0  3995200.0   115863.0\n",
              "2019-12-26  117220.0  115673.0  115864.0  117203.0  3788900.0   117203.0\n",
              "2019-12-27  117803.0  115995.0  117205.0  116534.0  3905900.0   116534.0\n",
              "2019-12-30  117086.0  115790.0  116530.0  115964.0  3667900.0   115964.0\n",
              "\n",
              "[1235 rows x 6 columns]"
            ],
            "text/html": [
              "<div>\n",
              "<style scoped>\n",
              "    .dataframe tbody tr th:only-of-type {\n",
              "        vertical-align: middle;\n",
              "    }\n",
              "\n",
              "    .dataframe tbody tr th {\n",
              "        vertical-align: top;\n",
              "    }\n",
              "\n",
              "    .dataframe thead th {\n",
              "        text-align: right;\n",
              "    }\n",
              "</style>\n",
              "<table border=\"1\" class=\"dataframe\">\n",
              "  <thead>\n",
              "    <tr style=\"text-align: right;\">\n",
              "      <th></th>\n",
              "      <th>High</th>\n",
              "      <th>Low</th>\n",
              "      <th>Open</th>\n",
              "      <th>Close</th>\n",
              "      <th>Volume</th>\n",
              "      <th>Adj Close</th>\n",
              "    </tr>\n",
              "    <tr>\n",
              "      <th>Date</th>\n",
              "      <th></th>\n",
              "      <th></th>\n",
              "      <th></th>\n",
              "      <th></th>\n",
              "      <th></th>\n",
              "      <th></th>\n",
              "    </tr>\n",
              "  </thead>\n",
              "  <tbody>\n",
              "    <tr>\n",
              "      <th>2015-01-02</th>\n",
              "      <td>50005.0</td>\n",
              "      <td>48345.0</td>\n",
              "      <td>50005.0</td>\n",
              "      <td>48512.0</td>\n",
              "      <td>2882100.0</td>\n",
              "      <td>48512.0</td>\n",
              "    </tr>\n",
              "    <tr>\n",
              "      <th>2015-01-05</th>\n",
              "      <td>48512.0</td>\n",
              "      <td>47264.0</td>\n",
              "      <td>48512.0</td>\n",
              "      <td>47517.0</td>\n",
              "      <td>3866100.0</td>\n",
              "      <td>47517.0</td>\n",
              "    </tr>\n",
              "    <tr>\n",
              "      <th>2015-01-06</th>\n",
              "      <td>48061.0</td>\n",
              "      <td>47338.0</td>\n",
              "      <td>47517.0</td>\n",
              "      <td>48001.0</td>\n",
              "      <td>4559300.0</td>\n",
              "      <td>48001.0</td>\n",
              "    </tr>\n",
              "    <tr>\n",
              "      <th>2015-01-07</th>\n",
              "      <td>49882.0</td>\n",
              "      <td>48006.0</td>\n",
              "      <td>48006.0</td>\n",
              "      <td>49463.0</td>\n",
              "      <td>4408800.0</td>\n",
              "      <td>49463.0</td>\n",
              "    </tr>\n",
              "    <tr>\n",
              "      <th>2015-01-08</th>\n",
              "      <td>50261.0</td>\n",
              "      <td>49017.0</td>\n",
              "      <td>49463.0</td>\n",
              "      <td>49943.0</td>\n",
              "      <td>3621900.0</td>\n",
              "      <td>49943.0</td>\n",
              "    </tr>\n",
              "    <tr>\n",
              "      <th>...</th>\n",
              "      <td>...</td>\n",
              "      <td>...</td>\n",
              "      <td>...</td>\n",
              "      <td>...</td>\n",
              "      <td>...</td>\n",
              "      <td>...</td>\n",
              "    </tr>\n",
              "    <tr>\n",
              "      <th>2019-12-20</th>\n",
              "      <td>115171.0</td>\n",
              "      <td>114526.0</td>\n",
              "      <td>115133.0</td>\n",
              "      <td>115121.0</td>\n",
              "      <td>6887400.0</td>\n",
              "      <td>115121.0</td>\n",
              "    </tr>\n",
              "    <tr>\n",
              "      <th>2019-12-23</th>\n",
              "      <td>115863.0</td>\n",
              "      <td>114964.0</td>\n",
              "      <td>115119.0</td>\n",
              "      <td>115863.0</td>\n",
              "      <td>3995200.0</td>\n",
              "      <td>115863.0</td>\n",
              "    </tr>\n",
              "    <tr>\n",
              "      <th>2019-12-26</th>\n",
              "      <td>117220.0</td>\n",
              "      <td>115673.0</td>\n",
              "      <td>115864.0</td>\n",
              "      <td>117203.0</td>\n",
              "      <td>3788900.0</td>\n",
              "      <td>117203.0</td>\n",
              "    </tr>\n",
              "    <tr>\n",
              "      <th>2019-12-27</th>\n",
              "      <td>117803.0</td>\n",
              "      <td>115995.0</td>\n",
              "      <td>117205.0</td>\n",
              "      <td>116534.0</td>\n",
              "      <td>3905900.0</td>\n",
              "      <td>116534.0</td>\n",
              "    </tr>\n",
              "    <tr>\n",
              "      <th>2019-12-30</th>\n",
              "      <td>117086.0</td>\n",
              "      <td>115790.0</td>\n",
              "      <td>116530.0</td>\n",
              "      <td>115964.0</td>\n",
              "      <td>3667900.0</td>\n",
              "      <td>115964.0</td>\n",
              "    </tr>\n",
              "  </tbody>\n",
              "</table>\n",
              "<p>1235 rows × 6 columns</p>\n",
              "</div>"
            ]
          },
          "metadata": {},
          "execution_count": 135
        }
      ],
      "metadata": {
        "colab": {
          "base_uri": "https://localhost:8080/",
          "height": 455
        },
        "id": "K8wtyI6KNbcU",
        "outputId": "6fb60733-4d0c-402b-8992-76ab51576137"
      }
    },
    {
      "cell_type": "code",
      "execution_count": 136,
      "source": [
        "df_bovespa.shape"
      ],
      "outputs": [
        {
          "output_type": "execute_result",
          "data": {
            "text/plain": [
              "(1235, 6)"
            ]
          },
          "metadata": {},
          "execution_count": 136
        }
      ],
      "metadata": {
        "colab": {
          "base_uri": "https://localhost:8080/"
        },
        "id": "EZid73x9Nl_w",
        "outputId": "f47708ec-01ac-4c6b-dea1-87776dfe3732"
      }
    },
    {
      "cell_type": "code",
      "execution_count": 137,
      "source": [
        "df = df.merge(df_bovespa, left_on='Date', right_on='Date', suffixes=('', '_bovespa'))\r\n",
        "df.describe()"
      ],
      "outputs": [
        {
          "output_type": "execute_result",
          "data": {
            "text/plain": [
              "              High          Low         Open        Close        Volume  \\\n",
              "count  1235.000000  1235.000000  1235.000000  1235.000000  1.235000e+03   \n",
              "mean     22.158142    21.585978    21.885802    21.888026  1.827563e+07   \n",
              "std       6.636685     6.516990     6.588668     6.586653  8.797424e+06   \n",
              "min       9.858160     9.636181     9.687407     9.681715  0.000000e+00   \n",
              "25%      17.130830    16.574933    16.846336    16.821578  1.252091e+07   \n",
              "50%      20.711245    20.247932    20.510895    20.488979  1.676645e+07   \n",
              "75%      27.056474    26.388085    26.825068    26.773416  2.210809e+07   \n",
              "max      36.309090    35.472729    36.000000    35.827271  8.762744e+07   \n",
              "\n",
              "         Adj Close   High_bovespa    Low_bovespa   Open_bovespa  \\\n",
              "count  1235.000000    1235.000000    1235.000000    1235.000000   \n",
              "mean     18.436567   71258.726316   69996.229960   70605.106883   \n",
              "std       6.482696   19634.810008   19447.130086   19532.433000   \n",
              "min       7.666900   38031.000000   37046.000000   37501.000000   \n",
              "25%      12.956546   53498.500000   52677.000000   53087.500000   \n",
              "50%      17.113239   66758.000000   65842.000000   66195.000000   \n",
              "75%      23.004204   86157.000000   84582.500000   85515.000000   \n",
              "max      31.879570  117803.000000  115995.000000  117205.000000   \n",
              "\n",
              "       Close_bovespa  Volume_bovespa  Adj Close_bovespa  \n",
              "count    1235.000000    1.235000e+03        1235.000000  \n",
              "mean    70656.285020    3.794215e+06       70656.285020  \n",
              "std     19564.626768    1.203582e+06       19564.626768  \n",
              "min     37497.000000    0.000000e+00       37497.000000  \n",
              "25%     53094.500000    3.078600e+06       53094.500000  \n",
              "50%     66235.000000    3.658900e+06       66235.000000  \n",
              "75%     85539.000000    4.389100e+06       85539.000000  \n",
              "max    117203.000000    1.104670e+07      117203.000000  "
            ],
            "text/html": [
              "<div>\n",
              "<style scoped>\n",
              "    .dataframe tbody tr th:only-of-type {\n",
              "        vertical-align: middle;\n",
              "    }\n",
              "\n",
              "    .dataframe tbody tr th {\n",
              "        vertical-align: top;\n",
              "    }\n",
              "\n",
              "    .dataframe thead th {\n",
              "        text-align: right;\n",
              "    }\n",
              "</style>\n",
              "<table border=\"1\" class=\"dataframe\">\n",
              "  <thead>\n",
              "    <tr style=\"text-align: right;\">\n",
              "      <th></th>\n",
              "      <th>High</th>\n",
              "      <th>Low</th>\n",
              "      <th>Open</th>\n",
              "      <th>Close</th>\n",
              "      <th>Volume</th>\n",
              "      <th>Adj Close</th>\n",
              "      <th>High_bovespa</th>\n",
              "      <th>Low_bovespa</th>\n",
              "      <th>Open_bovespa</th>\n",
              "      <th>Close_bovespa</th>\n",
              "      <th>Volume_bovespa</th>\n",
              "      <th>Adj Close_bovespa</th>\n",
              "    </tr>\n",
              "  </thead>\n",
              "  <tbody>\n",
              "    <tr>\n",
              "      <th>count</th>\n",
              "      <td>1235.000000</td>\n",
              "      <td>1235.000000</td>\n",
              "      <td>1235.000000</td>\n",
              "      <td>1235.000000</td>\n",
              "      <td>1.235000e+03</td>\n",
              "      <td>1235.000000</td>\n",
              "      <td>1235.000000</td>\n",
              "      <td>1235.000000</td>\n",
              "      <td>1235.000000</td>\n",
              "      <td>1235.000000</td>\n",
              "      <td>1.235000e+03</td>\n",
              "      <td>1235.000000</td>\n",
              "    </tr>\n",
              "    <tr>\n",
              "      <th>mean</th>\n",
              "      <td>22.158142</td>\n",
              "      <td>21.585978</td>\n",
              "      <td>21.885802</td>\n",
              "      <td>21.888026</td>\n",
              "      <td>1.827563e+07</td>\n",
              "      <td>18.436567</td>\n",
              "      <td>71258.726316</td>\n",
              "      <td>69996.229960</td>\n",
              "      <td>70605.106883</td>\n",
              "      <td>70656.285020</td>\n",
              "      <td>3.794215e+06</td>\n",
              "      <td>70656.285020</td>\n",
              "    </tr>\n",
              "    <tr>\n",
              "      <th>std</th>\n",
              "      <td>6.636685</td>\n",
              "      <td>6.516990</td>\n",
              "      <td>6.588668</td>\n",
              "      <td>6.586653</td>\n",
              "      <td>8.797424e+06</td>\n",
              "      <td>6.482696</td>\n",
              "      <td>19634.810008</td>\n",
              "      <td>19447.130086</td>\n",
              "      <td>19532.433000</td>\n",
              "      <td>19564.626768</td>\n",
              "      <td>1.203582e+06</td>\n",
              "      <td>19564.626768</td>\n",
              "    </tr>\n",
              "    <tr>\n",
              "      <th>min</th>\n",
              "      <td>9.858160</td>\n",
              "      <td>9.636181</td>\n",
              "      <td>9.687407</td>\n",
              "      <td>9.681715</td>\n",
              "      <td>0.000000e+00</td>\n",
              "      <td>7.666900</td>\n",
              "      <td>38031.000000</td>\n",
              "      <td>37046.000000</td>\n",
              "      <td>37501.000000</td>\n",
              "      <td>37497.000000</td>\n",
              "      <td>0.000000e+00</td>\n",
              "      <td>37497.000000</td>\n",
              "    </tr>\n",
              "    <tr>\n",
              "      <th>25%</th>\n",
              "      <td>17.130830</td>\n",
              "      <td>16.574933</td>\n",
              "      <td>16.846336</td>\n",
              "      <td>16.821578</td>\n",
              "      <td>1.252091e+07</td>\n",
              "      <td>12.956546</td>\n",
              "      <td>53498.500000</td>\n",
              "      <td>52677.000000</td>\n",
              "      <td>53087.500000</td>\n",
              "      <td>53094.500000</td>\n",
              "      <td>3.078600e+06</td>\n",
              "      <td>53094.500000</td>\n",
              "    </tr>\n",
              "    <tr>\n",
              "      <th>50%</th>\n",
              "      <td>20.711245</td>\n",
              "      <td>20.247932</td>\n",
              "      <td>20.510895</td>\n",
              "      <td>20.488979</td>\n",
              "      <td>1.676645e+07</td>\n",
              "      <td>17.113239</td>\n",
              "      <td>66758.000000</td>\n",
              "      <td>65842.000000</td>\n",
              "      <td>66195.000000</td>\n",
              "      <td>66235.000000</td>\n",
              "      <td>3.658900e+06</td>\n",
              "      <td>66235.000000</td>\n",
              "    </tr>\n",
              "    <tr>\n",
              "      <th>75%</th>\n",
              "      <td>27.056474</td>\n",
              "      <td>26.388085</td>\n",
              "      <td>26.825068</td>\n",
              "      <td>26.773416</td>\n",
              "      <td>2.210809e+07</td>\n",
              "      <td>23.004204</td>\n",
              "      <td>86157.000000</td>\n",
              "      <td>84582.500000</td>\n",
              "      <td>85515.000000</td>\n",
              "      <td>85539.000000</td>\n",
              "      <td>4.389100e+06</td>\n",
              "      <td>85539.000000</td>\n",
              "    </tr>\n",
              "    <tr>\n",
              "      <th>max</th>\n",
              "      <td>36.309090</td>\n",
              "      <td>35.472729</td>\n",
              "      <td>36.000000</td>\n",
              "      <td>35.827271</td>\n",
              "      <td>8.762744e+07</td>\n",
              "      <td>31.879570</td>\n",
              "      <td>117803.000000</td>\n",
              "      <td>115995.000000</td>\n",
              "      <td>117205.000000</td>\n",
              "      <td>117203.000000</td>\n",
              "      <td>1.104670e+07</td>\n",
              "      <td>117203.000000</td>\n",
              "    </tr>\n",
              "  </tbody>\n",
              "</table>\n",
              "</div>"
            ]
          },
          "metadata": {},
          "execution_count": 137
        }
      ],
      "metadata": {
        "colab": {
          "base_uri": "https://localhost:8080/",
          "height": 338
        },
        "id": "n8LZIcI-QKBh",
        "outputId": "716bcca0-821b-412f-a09b-921de31567ed"
      }
    },
    {
      "cell_type": "code",
      "execution_count": 138,
      "source": [
        "df['MA3'] = df['Close'].rolling(window=3, min_periods=0).mean()\r\n",
        "df['MA7'] = df['Close'].rolling(window=7, min_periods=0).mean()\r\n",
        "df['MA20'] = df['Close'].rolling(window=20, min_periods=0).mean()\r\n",
        "df['MA30'] = df['Close'].rolling(window=30, min_periods=0).mean()\r\n",
        "df['MA60'] = df['Close'].rolling(window=60, min_periods=0).mean()\r\n",
        "\r\n",
        "cma3 = df['Close'].expanding(min_periods=3).mean()\r\n",
        "df['CMA3'] = cma3.fillna(df['MA3'])\r\n",
        "\r\n",
        "df['ST3'] = df['Close'].rolling(window=3, min_periods=0).std(ddof=0)\r\n",
        "df['ST7'] = df['Close'].rolling(window=7, min_periods=0).std(ddof=0)\r\n",
        "df['ST20'] = df['Close'].rolling(window=20, min_periods=0).std(ddof=0)\r\n",
        "df['ST30'] = df['Close'].rolling(window=30, min_periods=0).std(ddof=0)\r\n",
        "df['ST60'] = df['Close'].rolling(window=60, min_periods=0).std(ddof=0)\r\n",
        "\r\n",
        "df['UPPER3'] = df['MA3'] + (df['ST3'] * 2) \r\n",
        "df['LOWER3'] = df['MA3'] - (df['ST3'] * 2)\r\n",
        "\r\n",
        "df['UPPER7'] = df['MA7'] + (df['ST7'] * 2)\r\n",
        "df['LOWER7'] = df['MA7'] - (df['ST7'] * 2)\r\n",
        "\r\n",
        "df['UPPER20'] = df['MA20'] + (df['ST20'] * 2)\r\n",
        "df['LOWER20'] = df['MA20'] - (df['ST20'] * 2)\r\n",
        "\r\n",
        "df['UPPER30'] = df['MA30'] + (df['ST30'] * 2)\r\n",
        "df['LOWER30'] = df['MA30'] - (df['ST30'] * 2)\r\n",
        "\r\n",
        "df['UPPER60'] = df['MA60'] + (df['ST60'] * 2)\r\n",
        "df['LOWER60'] = df['MA60'] - (df['ST60'] * 2)"
      ],
      "outputs": [],
      "metadata": {
        "id": "HM5JH9tqZckR"
      }
    },
    {
      "cell_type": "code",
      "execution_count": 139,
      "source": [
        "data = df.filter([\"Close\", \"Volume\", \"Close_bovespa\", \"Volume_bovespa\", 'MA3', 'MA7', 'MA20', 'MA30', 'MA60', 'CMA3', 'ST3', 'ST7', 'ST20', 'ST30', 'ST60', 'UPPER3', 'LOWER3', 'UPPER7', 'LOWER7', 'UPPER20', 'LOWER20', 'UPPER30', 'LOWER30', 'UPPER60', 'LOWER60'])\r\n",
        "dataset = data.values\r\n",
        "training_data_len = math.ceil(len(dataset) * .7)\r\n",
        "training_data_len\r\n",
        "dataset.shape\r\n",
        "data"
      ],
      "outputs": [
        {
          "output_type": "execute_result",
          "data": {
            "text/plain": [
              "                Close      Volume  Close_bovespa  Volume_bovespa        MA3  \\\n",
              "Date                                                                          \n",
              "2015-01-02  16.269001  16646325.0        48512.0       2882100.0  16.269001   \n",
              "2015-01-05  16.292715  16428748.0        47517.0       3866100.0  16.280858   \n",
              "2015-01-06  16.828691  21831909.0        48001.0       4559300.0  16.463469   \n",
              "2015-01-07  17.497477  23002650.0        49463.0       4408800.0  16.872961   \n",
              "2015-01-08  17.587597  12495706.0        49943.0       3621900.0  17.304588   \n",
              "...               ...         ...            ...             ...        ...   \n",
              "2019-12-20  32.445454  24617120.0       115121.0       6887400.0  32.706060   \n",
              "2019-12-23  32.645454  11294690.0       115863.0       3995200.0  32.742424   \n",
              "2019-12-26  33.054546  11498850.0       117203.0       3788900.0  32.715151   \n",
              "2019-12-27  32.927273  11444400.0       116534.0       3905900.0  32.875758   \n",
              "2019-12-30  32.881817   8201050.0       115964.0       3667900.0  32.954545   \n",
              "\n",
              "                  MA7       MA20       MA30       MA60       CMA3  ...  \\\n",
              "Date                                                               ...   \n",
              "2015-01-02  16.269001  16.269001  16.269001  16.269001  16.269001  ...   \n",
              "2015-01-05  16.280858  16.280858  16.280858  16.280858  16.280858  ...   \n",
              "2015-01-06  16.463469  16.463469  16.463469  16.463469  16.463469  ...   \n",
              "2015-01-07  16.721971  16.721971  16.721971  16.721971  16.721971  ...   \n",
              "2015-01-08  16.895096  16.895096  16.895096  16.895096  16.895096  ...   \n",
              "...               ...        ...        ...        ...        ...  ...   \n",
              "2019-12-20  32.010389  31.240908  31.057878  31.188636  21.852318  ...   \n",
              "2019-12-23  32.162337  31.344090  31.077575  31.209696  21.861078  ...   \n",
              "2019-12-26  32.364935  31.500454  31.141817  31.237878  21.870157  ...   \n",
              "2019-12-27  32.628571  31.625454  31.204242  31.272727  21.879117  ...   \n",
              "2019-12-30  32.803896  31.759999  31.274848  31.313787  21.888026  ...   \n",
              "\n",
              "               UPPER3     LOWER3     UPPER7     LOWER7    UPPER20    LOWER20  \\\n",
              "Date                                                                           \n",
              "2015-01-02  16.269001  16.269001  16.269001  16.269001  16.269001  16.269001   \n",
              "2015-01-05  16.304572  16.257144  16.304572  16.257144  16.304572  16.257144   \n",
              "2015-01-06  16.980334  15.946604  16.980334  15.946604  16.980334  15.946604   \n",
              "2015-01-07  17.858635  15.887287  17.723091  15.720851  17.723091  15.720851   \n",
              "2015-01-08  17.981619  16.627558  18.027063  15.763129  18.027063  15.763129   \n",
              "...               ...        ...        ...        ...        ...        ...   \n",
              "2019-12-20  33.319112  32.093008  33.329737  30.691041  32.853098  29.628718   \n",
              "2019-12-23  33.322979  32.161869  33.494190  30.830484  33.036497  29.651684   \n",
              "2019-12-26  33.222147  32.208156  33.745674  30.984195  33.218039  29.782869   \n",
              "2019-12-27  33.217633  32.533883  33.560414  31.696729  33.376002  29.874906   \n",
              "2019-12-30  33.100757  32.808334  33.293685  32.314107  33.461797  30.058202   \n",
              "\n",
              "              UPPER30    LOWER30    UPPER60    LOWER60  \n",
              "Date                                                    \n",
              "2015-01-02  16.269001  16.269001  16.269001  16.269001  \n",
              "2015-01-05  16.304572  16.257144  16.304572  16.257144  \n",
              "2015-01-06  16.980334  15.946604  16.980334  15.946604  \n",
              "2015-01-07  17.723091  15.720851  17.723091  15.720851  \n",
              "2015-01-08  18.027063  15.763129  18.027063  15.763129  \n",
              "...               ...        ...        ...        ...  \n",
              "2019-12-20  32.620890  29.494866  33.195667  29.181605  \n",
              "2019-12-23  32.703940  29.451210  33.250627  29.168765  \n",
              "2019-12-26  32.916457  29.367177  33.332524  29.143233  \n",
              "2019-12-27  33.090453  29.318031  33.408659  29.136795  \n",
              "2019-12-30  33.246446  29.303249  33.476977  29.150598  \n",
              "\n",
              "[1235 rows x 25 columns]"
            ],
            "text/html": [
              "<div>\n",
              "<style scoped>\n",
              "    .dataframe tbody tr th:only-of-type {\n",
              "        vertical-align: middle;\n",
              "    }\n",
              "\n",
              "    .dataframe tbody tr th {\n",
              "        vertical-align: top;\n",
              "    }\n",
              "\n",
              "    .dataframe thead th {\n",
              "        text-align: right;\n",
              "    }\n",
              "</style>\n",
              "<table border=\"1\" class=\"dataframe\">\n",
              "  <thead>\n",
              "    <tr style=\"text-align: right;\">\n",
              "      <th></th>\n",
              "      <th>Close</th>\n",
              "      <th>Volume</th>\n",
              "      <th>Close_bovespa</th>\n",
              "      <th>Volume_bovespa</th>\n",
              "      <th>MA3</th>\n",
              "      <th>MA7</th>\n",
              "      <th>MA20</th>\n",
              "      <th>MA30</th>\n",
              "      <th>MA60</th>\n",
              "      <th>CMA3</th>\n",
              "      <th>...</th>\n",
              "      <th>UPPER3</th>\n",
              "      <th>LOWER3</th>\n",
              "      <th>UPPER7</th>\n",
              "      <th>LOWER7</th>\n",
              "      <th>UPPER20</th>\n",
              "      <th>LOWER20</th>\n",
              "      <th>UPPER30</th>\n",
              "      <th>LOWER30</th>\n",
              "      <th>UPPER60</th>\n",
              "      <th>LOWER60</th>\n",
              "    </tr>\n",
              "    <tr>\n",
              "      <th>Date</th>\n",
              "      <th></th>\n",
              "      <th></th>\n",
              "      <th></th>\n",
              "      <th></th>\n",
              "      <th></th>\n",
              "      <th></th>\n",
              "      <th></th>\n",
              "      <th></th>\n",
              "      <th></th>\n",
              "      <th></th>\n",
              "      <th></th>\n",
              "      <th></th>\n",
              "      <th></th>\n",
              "      <th></th>\n",
              "      <th></th>\n",
              "      <th></th>\n",
              "      <th></th>\n",
              "      <th></th>\n",
              "      <th></th>\n",
              "      <th></th>\n",
              "      <th></th>\n",
              "    </tr>\n",
              "  </thead>\n",
              "  <tbody>\n",
              "    <tr>\n",
              "      <th>2015-01-02</th>\n",
              "      <td>16.269001</td>\n",
              "      <td>16646325.0</td>\n",
              "      <td>48512.0</td>\n",
              "      <td>2882100.0</td>\n",
              "      <td>16.269001</td>\n",
              "      <td>16.269001</td>\n",
              "      <td>16.269001</td>\n",
              "      <td>16.269001</td>\n",
              "      <td>16.269001</td>\n",
              "      <td>16.269001</td>\n",
              "      <td>...</td>\n",
              "      <td>16.269001</td>\n",
              "      <td>16.269001</td>\n",
              "      <td>16.269001</td>\n",
              "      <td>16.269001</td>\n",
              "      <td>16.269001</td>\n",
              "      <td>16.269001</td>\n",
              "      <td>16.269001</td>\n",
              "      <td>16.269001</td>\n",
              "      <td>16.269001</td>\n",
              "      <td>16.269001</td>\n",
              "    </tr>\n",
              "    <tr>\n",
              "      <th>2015-01-05</th>\n",
              "      <td>16.292715</td>\n",
              "      <td>16428748.0</td>\n",
              "      <td>47517.0</td>\n",
              "      <td>3866100.0</td>\n",
              "      <td>16.280858</td>\n",
              "      <td>16.280858</td>\n",
              "      <td>16.280858</td>\n",
              "      <td>16.280858</td>\n",
              "      <td>16.280858</td>\n",
              "      <td>16.280858</td>\n",
              "      <td>...</td>\n",
              "      <td>16.304572</td>\n",
              "      <td>16.257144</td>\n",
              "      <td>16.304572</td>\n",
              "      <td>16.257144</td>\n",
              "      <td>16.304572</td>\n",
              "      <td>16.257144</td>\n",
              "      <td>16.304572</td>\n",
              "      <td>16.257144</td>\n",
              "      <td>16.304572</td>\n",
              "      <td>16.257144</td>\n",
              "    </tr>\n",
              "    <tr>\n",
              "      <th>2015-01-06</th>\n",
              "      <td>16.828691</td>\n",
              "      <td>21831909.0</td>\n",
              "      <td>48001.0</td>\n",
              "      <td>4559300.0</td>\n",
              "      <td>16.463469</td>\n",
              "      <td>16.463469</td>\n",
              "      <td>16.463469</td>\n",
              "      <td>16.463469</td>\n",
              "      <td>16.463469</td>\n",
              "      <td>16.463469</td>\n",
              "      <td>...</td>\n",
              "      <td>16.980334</td>\n",
              "      <td>15.946604</td>\n",
              "      <td>16.980334</td>\n",
              "      <td>15.946604</td>\n",
              "      <td>16.980334</td>\n",
              "      <td>15.946604</td>\n",
              "      <td>16.980334</td>\n",
              "      <td>15.946604</td>\n",
              "      <td>16.980334</td>\n",
              "      <td>15.946604</td>\n",
              "    </tr>\n",
              "    <tr>\n",
              "      <th>2015-01-07</th>\n",
              "      <td>17.497477</td>\n",
              "      <td>23002650.0</td>\n",
              "      <td>49463.0</td>\n",
              "      <td>4408800.0</td>\n",
              "      <td>16.872961</td>\n",
              "      <td>16.721971</td>\n",
              "      <td>16.721971</td>\n",
              "      <td>16.721971</td>\n",
              "      <td>16.721971</td>\n",
              "      <td>16.721971</td>\n",
              "      <td>...</td>\n",
              "      <td>17.858635</td>\n",
              "      <td>15.887287</td>\n",
              "      <td>17.723091</td>\n",
              "      <td>15.720851</td>\n",
              "      <td>17.723091</td>\n",
              "      <td>15.720851</td>\n",
              "      <td>17.723091</td>\n",
              "      <td>15.720851</td>\n",
              "      <td>17.723091</td>\n",
              "      <td>15.720851</td>\n",
              "    </tr>\n",
              "    <tr>\n",
              "      <th>2015-01-08</th>\n",
              "      <td>17.587597</td>\n",
              "      <td>12495706.0</td>\n",
              "      <td>49943.0</td>\n",
              "      <td>3621900.0</td>\n",
              "      <td>17.304588</td>\n",
              "      <td>16.895096</td>\n",
              "      <td>16.895096</td>\n",
              "      <td>16.895096</td>\n",
              "      <td>16.895096</td>\n",
              "      <td>16.895096</td>\n",
              "      <td>...</td>\n",
              "      <td>17.981619</td>\n",
              "      <td>16.627558</td>\n",
              "      <td>18.027063</td>\n",
              "      <td>15.763129</td>\n",
              "      <td>18.027063</td>\n",
              "      <td>15.763129</td>\n",
              "      <td>18.027063</td>\n",
              "      <td>15.763129</td>\n",
              "      <td>18.027063</td>\n",
              "      <td>15.763129</td>\n",
              "    </tr>\n",
              "    <tr>\n",
              "      <th>...</th>\n",
              "      <td>...</td>\n",
              "      <td>...</td>\n",
              "      <td>...</td>\n",
              "      <td>...</td>\n",
              "      <td>...</td>\n",
              "      <td>...</td>\n",
              "      <td>...</td>\n",
              "      <td>...</td>\n",
              "      <td>...</td>\n",
              "      <td>...</td>\n",
              "      <td>...</td>\n",
              "      <td>...</td>\n",
              "      <td>...</td>\n",
              "      <td>...</td>\n",
              "      <td>...</td>\n",
              "      <td>...</td>\n",
              "      <td>...</td>\n",
              "      <td>...</td>\n",
              "      <td>...</td>\n",
              "      <td>...</td>\n",
              "      <td>...</td>\n",
              "    </tr>\n",
              "    <tr>\n",
              "      <th>2019-12-20</th>\n",
              "      <td>32.445454</td>\n",
              "      <td>24617120.0</td>\n",
              "      <td>115121.0</td>\n",
              "      <td>6887400.0</td>\n",
              "      <td>32.706060</td>\n",
              "      <td>32.010389</td>\n",
              "      <td>31.240908</td>\n",
              "      <td>31.057878</td>\n",
              "      <td>31.188636</td>\n",
              "      <td>21.852318</td>\n",
              "      <td>...</td>\n",
              "      <td>33.319112</td>\n",
              "      <td>32.093008</td>\n",
              "      <td>33.329737</td>\n",
              "      <td>30.691041</td>\n",
              "      <td>32.853098</td>\n",
              "      <td>29.628718</td>\n",
              "      <td>32.620890</td>\n",
              "      <td>29.494866</td>\n",
              "      <td>33.195667</td>\n",
              "      <td>29.181605</td>\n",
              "    </tr>\n",
              "    <tr>\n",
              "      <th>2019-12-23</th>\n",
              "      <td>32.645454</td>\n",
              "      <td>11294690.0</td>\n",
              "      <td>115863.0</td>\n",
              "      <td>3995200.0</td>\n",
              "      <td>32.742424</td>\n",
              "      <td>32.162337</td>\n",
              "      <td>31.344090</td>\n",
              "      <td>31.077575</td>\n",
              "      <td>31.209696</td>\n",
              "      <td>21.861078</td>\n",
              "      <td>...</td>\n",
              "      <td>33.322979</td>\n",
              "      <td>32.161869</td>\n",
              "      <td>33.494190</td>\n",
              "      <td>30.830484</td>\n",
              "      <td>33.036497</td>\n",
              "      <td>29.651684</td>\n",
              "      <td>32.703940</td>\n",
              "      <td>29.451210</td>\n",
              "      <td>33.250627</td>\n",
              "      <td>29.168765</td>\n",
              "    </tr>\n",
              "    <tr>\n",
              "      <th>2019-12-26</th>\n",
              "      <td>33.054546</td>\n",
              "      <td>11498850.0</td>\n",
              "      <td>117203.0</td>\n",
              "      <td>3788900.0</td>\n",
              "      <td>32.715151</td>\n",
              "      <td>32.364935</td>\n",
              "      <td>31.500454</td>\n",
              "      <td>31.141817</td>\n",
              "      <td>31.237878</td>\n",
              "      <td>21.870157</td>\n",
              "      <td>...</td>\n",
              "      <td>33.222147</td>\n",
              "      <td>32.208156</td>\n",
              "      <td>33.745674</td>\n",
              "      <td>30.984195</td>\n",
              "      <td>33.218039</td>\n",
              "      <td>29.782869</td>\n",
              "      <td>32.916457</td>\n",
              "      <td>29.367177</td>\n",
              "      <td>33.332524</td>\n",
              "      <td>29.143233</td>\n",
              "    </tr>\n",
              "    <tr>\n",
              "      <th>2019-12-27</th>\n",
              "      <td>32.927273</td>\n",
              "      <td>11444400.0</td>\n",
              "      <td>116534.0</td>\n",
              "      <td>3905900.0</td>\n",
              "      <td>32.875758</td>\n",
              "      <td>32.628571</td>\n",
              "      <td>31.625454</td>\n",
              "      <td>31.204242</td>\n",
              "      <td>31.272727</td>\n",
              "      <td>21.879117</td>\n",
              "      <td>...</td>\n",
              "      <td>33.217633</td>\n",
              "      <td>32.533883</td>\n",
              "      <td>33.560414</td>\n",
              "      <td>31.696729</td>\n",
              "      <td>33.376002</td>\n",
              "      <td>29.874906</td>\n",
              "      <td>33.090453</td>\n",
              "      <td>29.318031</td>\n",
              "      <td>33.408659</td>\n",
              "      <td>29.136795</td>\n",
              "    </tr>\n",
              "    <tr>\n",
              "      <th>2019-12-30</th>\n",
              "      <td>32.881817</td>\n",
              "      <td>8201050.0</td>\n",
              "      <td>115964.0</td>\n",
              "      <td>3667900.0</td>\n",
              "      <td>32.954545</td>\n",
              "      <td>32.803896</td>\n",
              "      <td>31.759999</td>\n",
              "      <td>31.274848</td>\n",
              "      <td>31.313787</td>\n",
              "      <td>21.888026</td>\n",
              "      <td>...</td>\n",
              "      <td>33.100757</td>\n",
              "      <td>32.808334</td>\n",
              "      <td>33.293685</td>\n",
              "      <td>32.314107</td>\n",
              "      <td>33.461797</td>\n",
              "      <td>30.058202</td>\n",
              "      <td>33.246446</td>\n",
              "      <td>29.303249</td>\n",
              "      <td>33.476977</td>\n",
              "      <td>29.150598</td>\n",
              "    </tr>\n",
              "  </tbody>\n",
              "</table>\n",
              "<p>1235 rows × 25 columns</p>\n",
              "</div>"
            ]
          },
          "metadata": {},
          "execution_count": 139
        }
      ],
      "metadata": {
        "colab": {
          "base_uri": "https://localhost:8080/",
          "height": 475
        },
        "id": "0zLbypzWtzci",
        "outputId": "2aea5367-f61b-47d3-c965-a28c78dfb868"
      }
    },
    {
      "cell_type": "code",
      "execution_count": 140,
      "source": [
        "sc = MinMaxScaler(feature_range = (0, 1))\r\n",
        "scaled_data = sc.fit_transform(dataset)"
      ],
      "outputs": [],
      "metadata": {
        "id": "TAqmEmtyuB16"
      }
    },
    {
      "cell_type": "code",
      "execution_count": 141,
      "source": [
        "scaled_data"
      ],
      "outputs": [
        {
          "output_type": "execute_result",
          "data": {
            "text/plain": [
              "array([[0.25194668, 0.18996704, 0.13819537, ..., 0.31508875, 0.14708467,\n",
              "        0.36495497],\n",
              "       [0.25285369, 0.18748406, 0.12571199, ..., 0.31459451, 0.14856078,\n",
              "        0.3644426 ],\n",
              "       [0.2733534 , 0.24914467, 0.13178431, ..., 0.30165012, 0.1766032 ,\n",
              "        0.35102326],\n",
              "       ...,\n",
              "       [0.89395046, 0.13122431, 1.        , ..., 0.86106623, 0.85517761,\n",
              "        0.92128794],\n",
              "       [0.88908257, 0.13060293, 0.99160665, ..., 0.85901763, 0.85833702,\n",
              "        0.92100975],\n",
              "       [0.887344  , 0.09358998, 0.98445537, ..., 0.85840149, 0.86117205,\n",
              "        0.92160621]])"
            ]
          },
          "metadata": {},
          "execution_count": 141
        }
      ],
      "metadata": {
        "colab": {
          "base_uri": "https://localhost:8080/"
        },
        "id": "1xCbxaHWuJFU",
        "outputId": "0be80077-a861-4a97-84fa-1880b67dd579"
      }
    },
    {
      "cell_type": "code",
      "execution_count": 142,
      "source": [
        "train_data = scaled_data[0:training_data_len,:]\r\n",
        "# print(train_data)\r\n",
        "window = 60\r\n",
        "X_train = []\r\n",
        "y_train = []\r\n",
        "for i in range(window, len(train_data)):\r\n",
        "    X_train.append(train_data[i-window:i,:])\r\n",
        "    y_train.append(train_data[i, 0:1])\r\n",
        "    # if i <= (window + 1):\r\n",
        "    #   print(X_train)\r\n",
        "    #   print(y_train)\r\n",
        "    #   print()\r\n",
        "X_train, y_train = np.array(X_train), np.array(y_train)"
      ],
      "outputs": [],
      "metadata": {
        "id": "dv_rZkU1uqlc"
      }
    },
    {
      "cell_type": "code",
      "execution_count": 143,
      "source": [
        "X_train.shape"
      ],
      "outputs": [
        {
          "output_type": "execute_result",
          "data": {
            "text/plain": [
              "(805, 60, 25)"
            ]
          },
          "metadata": {},
          "execution_count": 143
        }
      ],
      "metadata": {
        "colab": {
          "base_uri": "https://localhost:8080/"
        },
        "id": "AqkMLK-4uxzK",
        "outputId": "5be5f6ac-674c-42c4-d34c-a53585aa5e83"
      }
    },
    {
      "cell_type": "code",
      "execution_count": 144,
      "source": [
        "X_train = np.reshape(X_train, (X_train.shape[0], X_train.shape[1], -1))"
      ],
      "outputs": [],
      "metadata": {
        "id": "jJ0aXnzAuy1C"
      }
    },
    {
      "cell_type": "code",
      "execution_count": 145,
      "source": [
        "X_train.shape"
      ],
      "outputs": [
        {
          "output_type": "execute_result",
          "data": {
            "text/plain": [
              "(805, 60, 25)"
            ]
          },
          "metadata": {},
          "execution_count": 145
        }
      ],
      "metadata": {
        "colab": {
          "base_uri": "https://localhost:8080/"
        },
        "id": "q03yzNLlu2on",
        "outputId": "57a02082-30eb-4932-eafe-9e36b5f2e9dc"
      }
    },
    {
      "cell_type": "code",
      "execution_count": 146,
      "source": [
        "# Inicializar a RNN\r\n",
        "regressor = Sequential()\r\n",
        "\r\n",
        "# Adicionar a primeira camada LSTM e Dropout \r\n",
        "regressor.add(LSTM(units = 100, return_sequences = True, input_shape = (X_train.shape[1], X_train.shape[2])))\r\n",
        "regressor.add(Dropout(0.2))\r\n",
        " \r\n",
        "# Adicionar a segunda camada LSTM e Dropout\r\n",
        "regressor.add(LSTM(units = 80, return_sequences = True))\r\n",
        "regressor.add(Dropout(0.2))\r\n",
        " \r\n",
        "# Adicionar a terceira camada LSTM e Dropout\r\n",
        "regressor.add(LSTM(units = 50))\r\n",
        "regressor.add(Dropout(0.2))\r\n",
        " \r\n",
        "# camada de saída\r\n",
        "regressor.add(Dense(units = 1))\r\n",
        " \r\n",
        "# Compilar a rede\r\n",
        "regressor.compile(optimizer = 'adam', loss = 'mean_squared_error')\r\n",
        "# regressor.compile(loss = 'mean_squared_error')\r\n",
        "\r\n",
        "# Visualizar a rede\r\n",
        "regressor.summary()"
      ],
      "outputs": [
        {
          "output_type": "stream",
          "name": "stdout",
          "text": [
            "Model: \"sequential_5\"\n",
            "_________________________________________________________________\n",
            "Layer (type)                 Output Shape              Param #   \n",
            "=================================================================\n",
            "lstm_15 (LSTM)               (None, 60, 100)           50400     \n",
            "_________________________________________________________________\n",
            "dropout_15 (Dropout)         (None, 60, 100)           0         \n",
            "_________________________________________________________________\n",
            "lstm_16 (LSTM)               (None, 60, 80)            57920     \n",
            "_________________________________________________________________\n",
            "dropout_16 (Dropout)         (None, 60, 80)            0         \n",
            "_________________________________________________________________\n",
            "lstm_17 (LSTM)               (None, 50)                26200     \n",
            "_________________________________________________________________\n",
            "dropout_17 (Dropout)         (None, 50)                0         \n",
            "_________________________________________________________________\n",
            "dense_5 (Dense)              (None, 1)                 51        \n",
            "=================================================================\n",
            "Total params: 134,571\n",
            "Trainable params: 134,571\n",
            "Non-trainable params: 0\n",
            "_________________________________________________________________\n"
          ]
        }
      ],
      "metadata": {
        "colab": {
          "base_uri": "https://localhost:8080/"
        },
        "id": "RkUoLngeu6aj",
        "outputId": "2928eeb4-e219-45df-9765-5f18865c5fbc"
      }
    },
    {
      "cell_type": "code",
      "execution_count": 174,
      "source": [
        "history = regressor.fit(X_train, y_train, epochs = 20, batch_size = 1)"
      ],
      "outputs": [
        {
          "output_type": "stream",
          "name": "stdout",
          "text": [
            "Epoch 1/20\n",
            "805/805 [==============================] - 20s 24ms/step - loss: 6.4942e-04\n",
            "Epoch 2/20\n",
            "805/805 [==============================] - 23s 29ms/step - loss: 6.3877e-04\n",
            "Epoch 3/20\n",
            "805/805 [==============================] - 23s 29ms/step - loss: 6.9222e-04\n",
            "Epoch 4/20\n",
            "805/805 [==============================] - 23s 29ms/step - loss: 6.7382e-04\n",
            "Epoch 5/20\n",
            "805/805 [==============================] - 23s 29ms/step - loss: 5.9929e-04\n",
            "Epoch 6/20\n",
            "805/805 [==============================] - 24s 29ms/step - loss: 5.9477e-04\n",
            "Epoch 7/20\n",
            "805/805 [==============================] - 24s 30ms/step - loss: 6.3606e-04\n",
            "Epoch 8/20\n",
            "805/805 [==============================] - 24s 30ms/step - loss: 6.1510e-04\n",
            "Epoch 9/20\n",
            "805/805 [==============================] - 24s 30ms/step - loss: 6.7179e-04\n",
            "Epoch 10/20\n",
            "805/805 [==============================] - 24s 30ms/step - loss: 6.7920e-04\n",
            "Epoch 11/20\n",
            "805/805 [==============================] - 24s 30ms/step - loss: 6.6049e-04\n",
            "Epoch 12/20\n",
            "805/805 [==============================] - 25s 31ms/step - loss: 5.6436e-04\n",
            "Epoch 13/20\n",
            "805/805 [==============================] - 25s 32ms/step - loss: 5.6545e-04\n",
            "Epoch 14/20\n",
            "805/805 [==============================] - 25s 32ms/step - loss: 6.2977e-04\n",
            "Epoch 15/20\n",
            "805/805 [==============================] - 23s 29ms/step - loss: 5.8955e-04\n",
            "Epoch 16/20\n",
            "805/805 [==============================] - 23s 29ms/step - loss: 6.3651e-04\n",
            "Epoch 17/20\n",
            "805/805 [==============================] - 23s 29ms/step - loss: 6.3218e-04\n",
            "Epoch 18/20\n",
            "805/805 [==============================] - 23s 29ms/step - loss: 5.3373e-04\n",
            "Epoch 19/20\n",
            "805/805 [==============================] - 23s 29ms/step - loss: 6.6832e-04\n",
            "Epoch 20/20\n",
            "805/805 [==============================] - 23s 29ms/step - loss: 5.7626e-04\n"
          ]
        }
      ],
      "metadata": {
        "colab": {
          "base_uri": "https://localhost:8080/"
        },
        "id": "90uaYsDwu9FU",
        "outputId": "3b38ba75-e6b2-409e-cecb-a65846f77a7a"
      }
    },
    {
      "cell_type": "code",
      "execution_count": 175,
      "source": [
        "plt.plot(history.history['loss'], label='treino')\r\n",
        "plt.legend()"
      ],
      "outputs": [
        {
          "output_type": "execute_result",
          "data": {
            "text/plain": [
              "<matplotlib.legend.Legend at 0x200a55af610>"
            ]
          },
          "metadata": {},
          "execution_count": 175
        },
        {
          "output_type": "display_data",
          "data": {
            "text/plain": [
              "<Figure size 432x288 with 1 Axes>"
            ],
            "image/svg+xml": "<?xml version=\"1.0\" encoding=\"utf-8\" standalone=\"no\"?>\r\n<!DOCTYPE svg PUBLIC \"-//W3C//DTD SVG 1.1//EN\"\r\n  \"http://www.w3.org/Graphics/SVG/1.1/DTD/svg11.dtd\">\r\n<svg height=\"252.138195pt\" version=\"1.1\" viewBox=\"0 0 397.553125 252.138195\" width=\"397.553125pt\" xmlns=\"http://www.w3.org/2000/svg\" xmlns:xlink=\"http://www.w3.org/1999/xlink\">\r\n <metadata>\r\n  <rdf:RDF xmlns:cc=\"http://creativecommons.org/ns#\" xmlns:dc=\"http://purl.org/dc/elements/1.1/\" xmlns:rdf=\"http://www.w3.org/1999/02/22-rdf-syntax-ns#\">\r\n   <cc:Work>\r\n    <dc:type rdf:resource=\"http://purl.org/dc/dcmitype/StillImage\"/>\r\n    <dc:date>2021-08-10T21:44:26.973644</dc:date>\r\n    <dc:format>image/svg+xml</dc:format>\r\n    <dc:creator>\r\n     <cc:Agent>\r\n      <dc:title>Matplotlib v3.4.2, https://matplotlib.org/</dc:title>\r\n     </cc:Agent>\r\n    </dc:creator>\r\n   </cc:Work>\r\n  </rdf:RDF>\r\n </metadata>\r\n <defs>\r\n  <style type=\"text/css\">*{stroke-linecap:butt;stroke-linejoin:round;}</style>\r\n </defs>\r\n <g id=\"figure_1\">\r\n  <g id=\"patch_1\">\r\n   <path d=\"M 0 252.138195 \r\nL 397.553125 252.138195 \r\nL 397.553125 0 \r\nL 0 0 \r\nz\r\n\" style=\"fill:none;\"/>\r\n  </g>\r\n  <g id=\"axes_1\">\r\n   <g id=\"patch_2\">\r\n    <path d=\"M 55.553125 228.26007 \r\nL 390.353125 228.26007 \r\nL 390.353125 10.82007 \r\nL 55.553125 10.82007 \r\nz\r\n\" style=\"fill:#ffffff;\"/>\r\n   </g>\r\n   <g id=\"matplotlib.axis_1\">\r\n    <g id=\"xtick_1\">\r\n     <g id=\"line2d_1\">\r\n      <defs>\r\n       <path d=\"M 0 0 \r\nL 0 3.5 \r\n\" id=\"m39d740d27a\" style=\"stroke:#000000;stroke-width:0.8;\"/>\r\n      </defs>\r\n      <g>\r\n       <use style=\"stroke:#000000;stroke-width:0.8;\" x=\"70.771307\" xlink:href=\"#m39d740d27a\" y=\"228.26007\"/>\r\n      </g>\r\n     </g>\r\n     <g id=\"text_1\">\r\n      <!-- 0.0 -->\r\n      <g transform=\"translate(62.819744 242.858507)scale(0.1 -0.1)\">\r\n       <defs>\r\n        <path d=\"M 2034 4250 \r\nQ 1547 4250 1301 3770 \r\nQ 1056 3291 1056 2328 \r\nQ 1056 1369 1301 889 \r\nQ 1547 409 2034 409 \r\nQ 2525 409 2770 889 \r\nQ 3016 1369 3016 2328 \r\nQ 3016 3291 2770 3770 \r\nQ 2525 4250 2034 4250 \r\nz\r\nM 2034 4750 \r\nQ 2819 4750 3233 4129 \r\nQ 3647 3509 3647 2328 \r\nQ 3647 1150 3233 529 \r\nQ 2819 -91 2034 -91 \r\nQ 1250 -91 836 529 \r\nQ 422 1150 422 2328 \r\nQ 422 3509 836 4129 \r\nQ 1250 4750 2034 4750 \r\nz\r\n\" id=\"DejaVuSans-30\" transform=\"scale(0.015625)\"/>\r\n        <path d=\"M 684 794 \r\nL 1344 794 \r\nL 1344 0 \r\nL 684 0 \r\nL 684 794 \r\nz\r\n\" id=\"DejaVuSans-2e\" transform=\"scale(0.015625)\"/>\r\n       </defs>\r\n       <use xlink:href=\"#DejaVuSans-30\"/>\r\n       <use x=\"63.623047\" xlink:href=\"#DejaVuSans-2e\"/>\r\n       <use x=\"95.410156\" xlink:href=\"#DejaVuSans-30\"/>\r\n      </g>\r\n     </g>\r\n    </g>\r\n    <g id=\"xtick_2\">\r\n     <g id=\"line2d_2\">\r\n      <g>\r\n       <use style=\"stroke:#000000;stroke-width:0.8;\" x=\"110.819154\" xlink:href=\"#m39d740d27a\" y=\"228.26007\"/>\r\n      </g>\r\n     </g>\r\n     <g id=\"text_2\">\r\n      <!-- 2.5 -->\r\n      <g transform=\"translate(102.867591 242.858507)scale(0.1 -0.1)\">\r\n       <defs>\r\n        <path d=\"M 1228 531 \r\nL 3431 531 \r\nL 3431 0 \r\nL 469 0 \r\nL 469 531 \r\nQ 828 903 1448 1529 \r\nQ 2069 2156 2228 2338 \r\nQ 2531 2678 2651 2914 \r\nQ 2772 3150 2772 3378 \r\nQ 2772 3750 2511 3984 \r\nQ 2250 4219 1831 4219 \r\nQ 1534 4219 1204 4116 \r\nQ 875 4013 500 3803 \r\nL 500 4441 \r\nQ 881 4594 1212 4672 \r\nQ 1544 4750 1819 4750 \r\nQ 2544 4750 2975 4387 \r\nQ 3406 4025 3406 3419 \r\nQ 3406 3131 3298 2873 \r\nQ 3191 2616 2906 2266 \r\nQ 2828 2175 2409 1742 \r\nQ 1991 1309 1228 531 \r\nz\r\n\" id=\"DejaVuSans-32\" transform=\"scale(0.015625)\"/>\r\n        <path d=\"M 691 4666 \r\nL 3169 4666 \r\nL 3169 4134 \r\nL 1269 4134 \r\nL 1269 2991 \r\nQ 1406 3038 1543 3061 \r\nQ 1681 3084 1819 3084 \r\nQ 2600 3084 3056 2656 \r\nQ 3513 2228 3513 1497 \r\nQ 3513 744 3044 326 \r\nQ 2575 -91 1722 -91 \r\nQ 1428 -91 1123 -41 \r\nQ 819 9 494 109 \r\nL 494 744 \r\nQ 775 591 1075 516 \r\nQ 1375 441 1709 441 \r\nQ 2250 441 2565 725 \r\nQ 2881 1009 2881 1497 \r\nQ 2881 1984 2565 2268 \r\nQ 2250 2553 1709 2553 \r\nQ 1456 2553 1204 2497 \r\nQ 953 2441 691 2322 \r\nL 691 4666 \r\nz\r\n\" id=\"DejaVuSans-35\" transform=\"scale(0.015625)\"/>\r\n       </defs>\r\n       <use xlink:href=\"#DejaVuSans-32\"/>\r\n       <use x=\"63.623047\" xlink:href=\"#DejaVuSans-2e\"/>\r\n       <use x=\"95.410156\" xlink:href=\"#DejaVuSans-35\"/>\r\n      </g>\r\n     </g>\r\n    </g>\r\n    <g id=\"xtick_3\">\r\n     <g id=\"line2d_3\">\r\n      <g>\r\n       <use style=\"stroke:#000000;stroke-width:0.8;\" x=\"150.867001\" xlink:href=\"#m39d740d27a\" y=\"228.26007\"/>\r\n      </g>\r\n     </g>\r\n     <g id=\"text_3\">\r\n      <!-- 5.0 -->\r\n      <g transform=\"translate(142.915438 242.858507)scale(0.1 -0.1)\">\r\n       <use xlink:href=\"#DejaVuSans-35\"/>\r\n       <use x=\"63.623047\" xlink:href=\"#DejaVuSans-2e\"/>\r\n       <use x=\"95.410156\" xlink:href=\"#DejaVuSans-30\"/>\r\n      </g>\r\n     </g>\r\n    </g>\r\n    <g id=\"xtick_4\">\r\n     <g id=\"line2d_4\">\r\n      <g>\r\n       <use style=\"stroke:#000000;stroke-width:0.8;\" x=\"190.914847\" xlink:href=\"#m39d740d27a\" y=\"228.26007\"/>\r\n      </g>\r\n     </g>\r\n     <g id=\"text_4\">\r\n      <!-- 7.5 -->\r\n      <g transform=\"translate(182.963285 242.858507)scale(0.1 -0.1)\">\r\n       <defs>\r\n        <path d=\"M 525 4666 \r\nL 3525 4666 \r\nL 3525 4397 \r\nL 1831 0 \r\nL 1172 0 \r\nL 2766 4134 \r\nL 525 4134 \r\nL 525 4666 \r\nz\r\n\" id=\"DejaVuSans-37\" transform=\"scale(0.015625)\"/>\r\n       </defs>\r\n       <use xlink:href=\"#DejaVuSans-37\"/>\r\n       <use x=\"63.623047\" xlink:href=\"#DejaVuSans-2e\"/>\r\n       <use x=\"95.410156\" xlink:href=\"#DejaVuSans-35\"/>\r\n      </g>\r\n     </g>\r\n    </g>\r\n    <g id=\"xtick_5\">\r\n     <g id=\"line2d_5\">\r\n      <g>\r\n       <use style=\"stroke:#000000;stroke-width:0.8;\" x=\"230.962694\" xlink:href=\"#m39d740d27a\" y=\"228.26007\"/>\r\n      </g>\r\n     </g>\r\n     <g id=\"text_5\">\r\n      <!-- 10.0 -->\r\n      <g transform=\"translate(219.829882 242.858507)scale(0.1 -0.1)\">\r\n       <defs>\r\n        <path d=\"M 794 531 \r\nL 1825 531 \r\nL 1825 4091 \r\nL 703 3866 \r\nL 703 4441 \r\nL 1819 4666 \r\nL 2450 4666 \r\nL 2450 531 \r\nL 3481 531 \r\nL 3481 0 \r\nL 794 0 \r\nL 794 531 \r\nz\r\n\" id=\"DejaVuSans-31\" transform=\"scale(0.015625)\"/>\r\n       </defs>\r\n       <use xlink:href=\"#DejaVuSans-31\"/>\r\n       <use x=\"63.623047\" xlink:href=\"#DejaVuSans-30\"/>\r\n       <use x=\"127.246094\" xlink:href=\"#DejaVuSans-2e\"/>\r\n       <use x=\"159.033203\" xlink:href=\"#DejaVuSans-30\"/>\r\n      </g>\r\n     </g>\r\n    </g>\r\n    <g id=\"xtick_6\">\r\n     <g id=\"line2d_6\">\r\n      <g>\r\n       <use style=\"stroke:#000000;stroke-width:0.8;\" x=\"271.010541\" xlink:href=\"#m39d740d27a\" y=\"228.26007\"/>\r\n      </g>\r\n     </g>\r\n     <g id=\"text_6\">\r\n      <!-- 12.5 -->\r\n      <g transform=\"translate(259.877729 242.858507)scale(0.1 -0.1)\">\r\n       <use xlink:href=\"#DejaVuSans-31\"/>\r\n       <use x=\"63.623047\" xlink:href=\"#DejaVuSans-32\"/>\r\n       <use x=\"127.246094\" xlink:href=\"#DejaVuSans-2e\"/>\r\n       <use x=\"159.033203\" xlink:href=\"#DejaVuSans-35\"/>\r\n      </g>\r\n     </g>\r\n    </g>\r\n    <g id=\"xtick_7\">\r\n     <g id=\"line2d_7\">\r\n      <g>\r\n       <use style=\"stroke:#000000;stroke-width:0.8;\" x=\"311.058388\" xlink:href=\"#m39d740d27a\" y=\"228.26007\"/>\r\n      </g>\r\n     </g>\r\n     <g id=\"text_7\">\r\n      <!-- 15.0 -->\r\n      <g transform=\"translate(299.925576 242.858507)scale(0.1 -0.1)\">\r\n       <use xlink:href=\"#DejaVuSans-31\"/>\r\n       <use x=\"63.623047\" xlink:href=\"#DejaVuSans-35\"/>\r\n       <use x=\"127.246094\" xlink:href=\"#DejaVuSans-2e\"/>\r\n       <use x=\"159.033203\" xlink:href=\"#DejaVuSans-30\"/>\r\n      </g>\r\n     </g>\r\n    </g>\r\n    <g id=\"xtick_8\">\r\n     <g id=\"line2d_8\">\r\n      <g>\r\n       <use style=\"stroke:#000000;stroke-width:0.8;\" x=\"351.106235\" xlink:href=\"#m39d740d27a\" y=\"228.26007\"/>\r\n      </g>\r\n     </g>\r\n     <g id=\"text_8\">\r\n      <!-- 17.5 -->\r\n      <g transform=\"translate(339.973423 242.858507)scale(0.1 -0.1)\">\r\n       <use xlink:href=\"#DejaVuSans-31\"/>\r\n       <use x=\"63.623047\" xlink:href=\"#DejaVuSans-37\"/>\r\n       <use x=\"127.246094\" xlink:href=\"#DejaVuSans-2e\"/>\r\n       <use x=\"159.033203\" xlink:href=\"#DejaVuSans-35\"/>\r\n      </g>\r\n     </g>\r\n    </g>\r\n   </g>\r\n   <g id=\"matplotlib.axis_2\">\r\n    <g id=\"ytick_1\">\r\n     <g id=\"line2d_9\">\r\n      <defs>\r\n       <path d=\"M 0 0 \r\nL -3.5 0 \r\n\" id=\"mfde4650bcc\" style=\"stroke:#000000;stroke-width:0.8;\"/>\r\n      </defs>\r\n      <g>\r\n       <use style=\"stroke:#000000;stroke-width:0.8;\" x=\"55.553125\" xlink:href=\"#mfde4650bcc\" y=\"210.55639\"/>\r\n      </g>\r\n     </g>\r\n     <g id=\"text_9\">\r\n      <!-- 0.00054 -->\r\n      <g transform=\"translate(7.2 214.355608)scale(0.1 -0.1)\">\r\n       <defs>\r\n        <path d=\"M 2419 4116 \r\nL 825 1625 \r\nL 2419 1625 \r\nL 2419 4116 \r\nz\r\nM 2253 4666 \r\nL 3047 4666 \r\nL 3047 1625 \r\nL 3713 1625 \r\nL 3713 1100 \r\nL 3047 1100 \r\nL 3047 0 \r\nL 2419 0 \r\nL 2419 1100 \r\nL 313 1100 \r\nL 313 1709 \r\nL 2253 4666 \r\nz\r\n\" id=\"DejaVuSans-34\" transform=\"scale(0.015625)\"/>\r\n       </defs>\r\n       <use xlink:href=\"#DejaVuSans-30\"/>\r\n       <use x=\"63.623047\" xlink:href=\"#DejaVuSans-2e\"/>\r\n       <use x=\"95.410156\" xlink:href=\"#DejaVuSans-30\"/>\r\n       <use x=\"159.033203\" xlink:href=\"#DejaVuSans-30\"/>\r\n       <use x=\"222.65625\" xlink:href=\"#DejaVuSans-30\"/>\r\n       <use x=\"286.279297\" xlink:href=\"#DejaVuSans-35\"/>\r\n       <use x=\"349.902344\" xlink:href=\"#DejaVuSans-34\"/>\r\n      </g>\r\n     </g>\r\n    </g>\r\n    <g id=\"ytick_2\">\r\n     <g id=\"line2d_10\">\r\n      <g>\r\n       <use style=\"stroke:#000000;stroke-width:0.8;\" x=\"55.553125\" xlink:href=\"#mfde4650bcc\" y=\"185.611743\"/>\r\n      </g>\r\n     </g>\r\n     <g id=\"text_10\">\r\n      <!-- 0.00056 -->\r\n      <g transform=\"translate(7.2 189.410962)scale(0.1 -0.1)\">\r\n       <defs>\r\n        <path d=\"M 2113 2584 \r\nQ 1688 2584 1439 2293 \r\nQ 1191 2003 1191 1497 \r\nQ 1191 994 1439 701 \r\nQ 1688 409 2113 409 \r\nQ 2538 409 2786 701 \r\nQ 3034 994 3034 1497 \r\nQ 3034 2003 2786 2293 \r\nQ 2538 2584 2113 2584 \r\nz\r\nM 3366 4563 \r\nL 3366 3988 \r\nQ 3128 4100 2886 4159 \r\nQ 2644 4219 2406 4219 \r\nQ 1781 4219 1451 3797 \r\nQ 1122 3375 1075 2522 \r\nQ 1259 2794 1537 2939 \r\nQ 1816 3084 2150 3084 \r\nQ 2853 3084 3261 2657 \r\nQ 3669 2231 3669 1497 \r\nQ 3669 778 3244 343 \r\nQ 2819 -91 2113 -91 \r\nQ 1303 -91 875 529 \r\nQ 447 1150 447 2328 \r\nQ 447 3434 972 4092 \r\nQ 1497 4750 2381 4750 \r\nQ 2619 4750 2861 4703 \r\nQ 3103 4656 3366 4563 \r\nz\r\n\" id=\"DejaVuSans-36\" transform=\"scale(0.015625)\"/>\r\n       </defs>\r\n       <use xlink:href=\"#DejaVuSans-30\"/>\r\n       <use x=\"63.623047\" xlink:href=\"#DejaVuSans-2e\"/>\r\n       <use x=\"95.410156\" xlink:href=\"#DejaVuSans-30\"/>\r\n       <use x=\"159.033203\" xlink:href=\"#DejaVuSans-30\"/>\r\n       <use x=\"222.65625\" xlink:href=\"#DejaVuSans-30\"/>\r\n       <use x=\"286.279297\" xlink:href=\"#DejaVuSans-35\"/>\r\n       <use x=\"349.902344\" xlink:href=\"#DejaVuSans-36\"/>\r\n      </g>\r\n     </g>\r\n    </g>\r\n    <g id=\"ytick_3\">\r\n     <g id=\"line2d_11\">\r\n      <g>\r\n       <use style=\"stroke:#000000;stroke-width:0.8;\" x=\"55.553125\" xlink:href=\"#mfde4650bcc\" y=\"160.667097\"/>\r\n      </g>\r\n     </g>\r\n     <g id=\"text_11\">\r\n      <!-- 0.00058 -->\r\n      <g transform=\"translate(7.2 164.466316)scale(0.1 -0.1)\">\r\n       <defs>\r\n        <path d=\"M 2034 2216 \r\nQ 1584 2216 1326 1975 \r\nQ 1069 1734 1069 1313 \r\nQ 1069 891 1326 650 \r\nQ 1584 409 2034 409 \r\nQ 2484 409 2743 651 \r\nQ 3003 894 3003 1313 \r\nQ 3003 1734 2745 1975 \r\nQ 2488 2216 2034 2216 \r\nz\r\nM 1403 2484 \r\nQ 997 2584 770 2862 \r\nQ 544 3141 544 3541 \r\nQ 544 4100 942 4425 \r\nQ 1341 4750 2034 4750 \r\nQ 2731 4750 3128 4425 \r\nQ 3525 4100 3525 3541 \r\nQ 3525 3141 3298 2862 \r\nQ 3072 2584 2669 2484 \r\nQ 3125 2378 3379 2068 \r\nQ 3634 1759 3634 1313 \r\nQ 3634 634 3220 271 \r\nQ 2806 -91 2034 -91 \r\nQ 1263 -91 848 271 \r\nQ 434 634 434 1313 \r\nQ 434 1759 690 2068 \r\nQ 947 2378 1403 2484 \r\nz\r\nM 1172 3481 \r\nQ 1172 3119 1398 2916 \r\nQ 1625 2713 2034 2713 \r\nQ 2441 2713 2670 2916 \r\nQ 2900 3119 2900 3481 \r\nQ 2900 3844 2670 4047 \r\nQ 2441 4250 2034 4250 \r\nQ 1625 4250 1398 4047 \r\nQ 1172 3844 1172 3481 \r\nz\r\n\" id=\"DejaVuSans-38\" transform=\"scale(0.015625)\"/>\r\n       </defs>\r\n       <use xlink:href=\"#DejaVuSans-30\"/>\r\n       <use x=\"63.623047\" xlink:href=\"#DejaVuSans-2e\"/>\r\n       <use x=\"95.410156\" xlink:href=\"#DejaVuSans-30\"/>\r\n       <use x=\"159.033203\" xlink:href=\"#DejaVuSans-30\"/>\r\n       <use x=\"222.65625\" xlink:href=\"#DejaVuSans-30\"/>\r\n       <use x=\"286.279297\" xlink:href=\"#DejaVuSans-35\"/>\r\n       <use x=\"349.902344\" xlink:href=\"#DejaVuSans-38\"/>\r\n      </g>\r\n     </g>\r\n    </g>\r\n    <g id=\"ytick_4\">\r\n     <g id=\"line2d_12\">\r\n      <g>\r\n       <use style=\"stroke:#000000;stroke-width:0.8;\" x=\"55.553125\" xlink:href=\"#mfde4650bcc\" y=\"135.722451\"/>\r\n      </g>\r\n     </g>\r\n     <g id=\"text_12\">\r\n      <!-- 0.00060 -->\r\n      <g transform=\"translate(7.2 139.521669)scale(0.1 -0.1)\">\r\n       <use xlink:href=\"#DejaVuSans-30\"/>\r\n       <use x=\"63.623047\" xlink:href=\"#DejaVuSans-2e\"/>\r\n       <use x=\"95.410156\" xlink:href=\"#DejaVuSans-30\"/>\r\n       <use x=\"159.033203\" xlink:href=\"#DejaVuSans-30\"/>\r\n       <use x=\"222.65625\" xlink:href=\"#DejaVuSans-30\"/>\r\n       <use x=\"286.279297\" xlink:href=\"#DejaVuSans-36\"/>\r\n       <use x=\"349.902344\" xlink:href=\"#DejaVuSans-30\"/>\r\n      </g>\r\n     </g>\r\n    </g>\r\n    <g id=\"ytick_5\">\r\n     <g id=\"line2d_13\">\r\n      <g>\r\n       <use style=\"stroke:#000000;stroke-width:0.8;\" x=\"55.553125\" xlink:href=\"#mfde4650bcc\" y=\"110.777804\"/>\r\n      </g>\r\n     </g>\r\n     <g id=\"text_13\">\r\n      <!-- 0.00062 -->\r\n      <g transform=\"translate(7.2 114.577023)scale(0.1 -0.1)\">\r\n       <use xlink:href=\"#DejaVuSans-30\"/>\r\n       <use x=\"63.623047\" xlink:href=\"#DejaVuSans-2e\"/>\r\n       <use x=\"95.410156\" xlink:href=\"#DejaVuSans-30\"/>\r\n       <use x=\"159.033203\" xlink:href=\"#DejaVuSans-30\"/>\r\n       <use x=\"222.65625\" xlink:href=\"#DejaVuSans-30\"/>\r\n       <use x=\"286.279297\" xlink:href=\"#DejaVuSans-36\"/>\r\n       <use x=\"349.902344\" xlink:href=\"#DejaVuSans-32\"/>\r\n      </g>\r\n     </g>\r\n    </g>\r\n    <g id=\"ytick_6\">\r\n     <g id=\"line2d_14\">\r\n      <g>\r\n       <use style=\"stroke:#000000;stroke-width:0.8;\" x=\"55.553125\" xlink:href=\"#mfde4650bcc\" y=\"85.833158\"/>\r\n      </g>\r\n     </g>\r\n     <g id=\"text_14\">\r\n      <!-- 0.00064 -->\r\n      <g transform=\"translate(7.2 89.632377)scale(0.1 -0.1)\">\r\n       <use xlink:href=\"#DejaVuSans-30\"/>\r\n       <use x=\"63.623047\" xlink:href=\"#DejaVuSans-2e\"/>\r\n       <use x=\"95.410156\" xlink:href=\"#DejaVuSans-30\"/>\r\n       <use x=\"159.033203\" xlink:href=\"#DejaVuSans-30\"/>\r\n       <use x=\"222.65625\" xlink:href=\"#DejaVuSans-30\"/>\r\n       <use x=\"286.279297\" xlink:href=\"#DejaVuSans-36\"/>\r\n       <use x=\"349.902344\" xlink:href=\"#DejaVuSans-34\"/>\r\n      </g>\r\n     </g>\r\n    </g>\r\n    <g id=\"ytick_7\">\r\n     <g id=\"line2d_15\">\r\n      <g>\r\n       <use style=\"stroke:#000000;stroke-width:0.8;\" x=\"55.553125\" xlink:href=\"#mfde4650bcc\" y=\"60.888511\"/>\r\n      </g>\r\n     </g>\r\n     <g id=\"text_15\">\r\n      <!-- 0.00066 -->\r\n      <g transform=\"translate(7.2 64.68773)scale(0.1 -0.1)\">\r\n       <use xlink:href=\"#DejaVuSans-30\"/>\r\n       <use x=\"63.623047\" xlink:href=\"#DejaVuSans-2e\"/>\r\n       <use x=\"95.410156\" xlink:href=\"#DejaVuSans-30\"/>\r\n       <use x=\"159.033203\" xlink:href=\"#DejaVuSans-30\"/>\r\n       <use x=\"222.65625\" xlink:href=\"#DejaVuSans-30\"/>\r\n       <use x=\"286.279297\" xlink:href=\"#DejaVuSans-36\"/>\r\n       <use x=\"349.902344\" xlink:href=\"#DejaVuSans-36\"/>\r\n      </g>\r\n     </g>\r\n    </g>\r\n    <g id=\"ytick_8\">\r\n     <g id=\"line2d_16\">\r\n      <g>\r\n       <use style=\"stroke:#000000;stroke-width:0.8;\" x=\"55.553125\" xlink:href=\"#mfde4650bcc\" y=\"35.943865\"/>\r\n      </g>\r\n     </g>\r\n     <g id=\"text_16\">\r\n      <!-- 0.00068 -->\r\n      <g transform=\"translate(7.2 39.743084)scale(0.1 -0.1)\">\r\n       <use xlink:href=\"#DejaVuSans-30\"/>\r\n       <use x=\"63.623047\" xlink:href=\"#DejaVuSans-2e\"/>\r\n       <use x=\"95.410156\" xlink:href=\"#DejaVuSans-30\"/>\r\n       <use x=\"159.033203\" xlink:href=\"#DejaVuSans-30\"/>\r\n       <use x=\"222.65625\" xlink:href=\"#DejaVuSans-30\"/>\r\n       <use x=\"286.279297\" xlink:href=\"#DejaVuSans-36\"/>\r\n       <use x=\"349.902344\" xlink:href=\"#DejaVuSans-38\"/>\r\n      </g>\r\n     </g>\r\n    </g>\r\n    <g id=\"ytick_9\">\r\n     <g id=\"line2d_17\">\r\n      <g>\r\n       <use style=\"stroke:#000000;stroke-width:0.8;\" x=\"55.553125\" xlink:href=\"#mfde4650bcc\" y=\"10.999219\"/>\r\n      </g>\r\n     </g>\r\n     <g id=\"text_17\">\r\n      <!-- 0.00070 -->\r\n      <g transform=\"translate(7.2 14.798438)scale(0.1 -0.1)\">\r\n       <use xlink:href=\"#DejaVuSans-30\"/>\r\n       <use x=\"63.623047\" xlink:href=\"#DejaVuSans-2e\"/>\r\n       <use x=\"95.410156\" xlink:href=\"#DejaVuSans-30\"/>\r\n       <use x=\"159.033203\" xlink:href=\"#DejaVuSans-30\"/>\r\n       <use x=\"222.65625\" xlink:href=\"#DejaVuSans-30\"/>\r\n       <use x=\"286.279297\" xlink:href=\"#DejaVuSans-37\"/>\r\n       <use x=\"349.902344\" xlink:href=\"#DejaVuSans-30\"/>\r\n      </g>\r\n     </g>\r\n    </g>\r\n   </g>\r\n   <g id=\"line2d_18\">\r\n    <path clip-path=\"url(#p0a5c09a998)\" d=\"M 70.771307 74.080792 \r\nL 86.790446 87.365587 \r\nL 102.809584 20.703706 \r\nL 118.828723 43.65673 \r\nL 134.847862 136.60318 \r\nL 150.867001 142.247348 \r\nL 166.886139 90.748676 \r\nL 182.905278 116.886377 \r\nL 198.924417 46.180834 \r\nL 214.943556 36.941444 \r\nL 230.962694 60.271545 \r\nL 246.981833 180.167928 \r\nL 263.000972 178.808884 \r\nL 279.020111 98.597878 \r\nL 295.039249 148.755293 \r\nL 311.058388 90.191192 \r\nL 327.077527 95.588598 \r\nL 343.096666 218.376433 \r\nL 359.115804 50.514455 \r\nL 375.134943 165.331486 \r\n\" style=\"fill:none;stroke:#1f77b4;stroke-linecap:square;stroke-width:1.5;\"/>\r\n   </g>\r\n   <g id=\"patch_3\">\r\n    <path d=\"M 55.553125 228.26007 \r\nL 55.553125 10.82007 \r\n\" style=\"fill:none;stroke:#000000;stroke-linecap:square;stroke-linejoin:miter;stroke-width:0.8;\"/>\r\n   </g>\r\n   <g id=\"patch_4\">\r\n    <path d=\"M 390.353125 228.26007 \r\nL 390.353125 10.82007 \r\n\" style=\"fill:none;stroke:#000000;stroke-linecap:square;stroke-linejoin:miter;stroke-width:0.8;\"/>\r\n   </g>\r\n   <g id=\"patch_5\">\r\n    <path d=\"M 55.553125 228.26007 \r\nL 390.353125 228.26007 \r\n\" style=\"fill:none;stroke:#000000;stroke-linecap:square;stroke-linejoin:miter;stroke-width:0.8;\"/>\r\n   </g>\r\n   <g id=\"patch_6\">\r\n    <path d=\"M 55.553125 10.82007 \r\nL 390.353125 10.82007 \r\n\" style=\"fill:none;stroke:#000000;stroke-linecap:square;stroke-linejoin:miter;stroke-width:0.8;\"/>\r\n   </g>\r\n   <g id=\"legend_1\">\r\n    <g id=\"patch_7\">\r\n     <path d=\"M 322.159375 33.498195 \r\nL 383.353125 33.498195 \r\nQ 385.353125 33.498195 385.353125 31.498195 \r\nL 385.353125 17.82007 \r\nQ 385.353125 15.82007 383.353125 15.82007 \r\nL 322.159375 15.82007 \r\nQ 320.159375 15.82007 320.159375 17.82007 \r\nL 320.159375 31.498195 \r\nQ 320.159375 33.498195 322.159375 33.498195 \r\nz\r\n\" style=\"fill:#ffffff;opacity:0.8;stroke:#cccccc;stroke-linejoin:miter;\"/>\r\n    </g>\r\n    <g id=\"line2d_19\">\r\n     <path d=\"M 324.159375 23.918507 \r\nL 344.159375 23.918507 \r\n\" style=\"fill:none;stroke:#1f77b4;stroke-linecap:square;stroke-width:1.5;\"/>\r\n    </g>\r\n    <g id=\"line2d_20\"/>\r\n    <g id=\"text_18\">\r\n     <!-- treino -->\r\n     <g transform=\"translate(352.159375 27.418507)scale(0.1 -0.1)\">\r\n      <defs>\r\n       <path d=\"M 1172 4494 \r\nL 1172 3500 \r\nL 2356 3500 \r\nL 2356 3053 \r\nL 1172 3053 \r\nL 1172 1153 \r\nQ 1172 725 1289 603 \r\nQ 1406 481 1766 481 \r\nL 2356 481 \r\nL 2356 0 \r\nL 1766 0 \r\nQ 1100 0 847 248 \r\nQ 594 497 594 1153 \r\nL 594 3053 \r\nL 172 3053 \r\nL 172 3500 \r\nL 594 3500 \r\nL 594 4494 \r\nL 1172 4494 \r\nz\r\n\" id=\"DejaVuSans-74\" transform=\"scale(0.015625)\"/>\r\n       <path d=\"M 2631 2963 \r\nQ 2534 3019 2420 3045 \r\nQ 2306 3072 2169 3072 \r\nQ 1681 3072 1420 2755 \r\nQ 1159 2438 1159 1844 \r\nL 1159 0 \r\nL 581 0 \r\nL 581 3500 \r\nL 1159 3500 \r\nL 1159 2956 \r\nQ 1341 3275 1631 3429 \r\nQ 1922 3584 2338 3584 \r\nQ 2397 3584 2469 3576 \r\nQ 2541 3569 2628 3553 \r\nL 2631 2963 \r\nz\r\n\" id=\"DejaVuSans-72\" transform=\"scale(0.015625)\"/>\r\n       <path d=\"M 3597 1894 \r\nL 3597 1613 \r\nL 953 1613 \r\nQ 991 1019 1311 708 \r\nQ 1631 397 2203 397 \r\nQ 2534 397 2845 478 \r\nQ 3156 559 3463 722 \r\nL 3463 178 \r\nQ 3153 47 2828 -22 \r\nQ 2503 -91 2169 -91 \r\nQ 1331 -91 842 396 \r\nQ 353 884 353 1716 \r\nQ 353 2575 817 3079 \r\nQ 1281 3584 2069 3584 \r\nQ 2775 3584 3186 3129 \r\nQ 3597 2675 3597 1894 \r\nz\r\nM 3022 2063 \r\nQ 3016 2534 2758 2815 \r\nQ 2500 3097 2075 3097 \r\nQ 1594 3097 1305 2825 \r\nQ 1016 2553 972 2059 \r\nL 3022 2063 \r\nz\r\n\" id=\"DejaVuSans-65\" transform=\"scale(0.015625)\"/>\r\n       <path d=\"M 603 3500 \r\nL 1178 3500 \r\nL 1178 0 \r\nL 603 0 \r\nL 603 3500 \r\nz\r\nM 603 4863 \r\nL 1178 4863 \r\nL 1178 4134 \r\nL 603 4134 \r\nL 603 4863 \r\nz\r\n\" id=\"DejaVuSans-69\" transform=\"scale(0.015625)\"/>\r\n       <path d=\"M 3513 2113 \r\nL 3513 0 \r\nL 2938 0 \r\nL 2938 2094 \r\nQ 2938 2591 2744 2837 \r\nQ 2550 3084 2163 3084 \r\nQ 1697 3084 1428 2787 \r\nQ 1159 2491 1159 1978 \r\nL 1159 0 \r\nL 581 0 \r\nL 581 3500 \r\nL 1159 3500 \r\nL 1159 2956 \r\nQ 1366 3272 1645 3428 \r\nQ 1925 3584 2291 3584 \r\nQ 2894 3584 3203 3211 \r\nQ 3513 2838 3513 2113 \r\nz\r\n\" id=\"DejaVuSans-6e\" transform=\"scale(0.015625)\"/>\r\n       <path d=\"M 1959 3097 \r\nQ 1497 3097 1228 2736 \r\nQ 959 2375 959 1747 \r\nQ 959 1119 1226 758 \r\nQ 1494 397 1959 397 \r\nQ 2419 397 2687 759 \r\nQ 2956 1122 2956 1747 \r\nQ 2956 2369 2687 2733 \r\nQ 2419 3097 1959 3097 \r\nz\r\nM 1959 3584 \r\nQ 2709 3584 3137 3096 \r\nQ 3566 2609 3566 1747 \r\nQ 3566 888 3137 398 \r\nQ 2709 -91 1959 -91 \r\nQ 1206 -91 779 398 \r\nQ 353 888 353 1747 \r\nQ 353 2609 779 3096 \r\nQ 1206 3584 1959 3584 \r\nz\r\n\" id=\"DejaVuSans-6f\" transform=\"scale(0.015625)\"/>\r\n      </defs>\r\n      <use xlink:href=\"#DejaVuSans-74\"/>\r\n      <use x=\"39.208984\" xlink:href=\"#DejaVuSans-72\"/>\r\n      <use x=\"78.072266\" xlink:href=\"#DejaVuSans-65\"/>\r\n      <use x=\"139.595703\" xlink:href=\"#DejaVuSans-69\"/>\r\n      <use x=\"167.378906\" xlink:href=\"#DejaVuSans-6e\"/>\r\n      <use x=\"230.757812\" xlink:href=\"#DejaVuSans-6f\"/>\r\n     </g>\r\n    </g>\r\n   </g>\r\n  </g>\r\n </g>\r\n <defs>\r\n  <clipPath id=\"p0a5c09a998\">\r\n   <rect height=\"217.44\" width=\"334.8\" x=\"55.553125\" y=\"10.82007\"/>\r\n  </clipPath>\r\n </defs>\r\n</svg>\r\n",
            "image/png": "[encoded data removed]"
          },
          "metadata": {
            "needs_background": "light"
          }
        }
      ],
      "metadata": {
        "colab": {
          "base_uri": "https://localhost:8080/",
          "height": 265
        },
        "id": "amW1km16u_lf",
        "outputId": "49b488cd-1b38-4dca-e974-24a147373d1c"
      }
    },
    {
      "cell_type": "code",
      "execution_count": 176,
      "source": [
        "test_data = scaled_data[training_data_len - window:, :]\r\n",
        "\r\n",
        "X_test = []\r\n",
        "y_test = dataset[training_data_len:, 0:1]\r\n",
        "\r\n",
        "for i in range(window, len(test_data)): \r\n",
        "    X_test.append(test_data[i-window:i,:])\r\n",
        "X_test = np.array(X_test)\r\n",
        "\r\n",
        "X_test = np.reshape(X_test, (X_test.shape[0], X_test.shape[1], -1))\r\n",
        "print(X_test.shape, X_train.shape)"
      ],
      "outputs": [
        {
          "output_type": "stream",
          "name": "stdout",
          "text": [
            "(370, 60, 25) (805, 60, 25)\n"
          ]
        }
      ],
      "metadata": {
        "colab": {
          "base_uri": "https://localhost:8080/"
        },
        "id": "vPJyp8suvC7_",
        "outputId": "844c40e6-9662-4f92-cac2-8a7abcc12539"
      }
    },
    {
      "cell_type": "code",
      "execution_count": 177,
      "source": [
        "predicted = regressor.predict(X_test)\r\n",
        "volume = dataset[training_data_len:, 1:]\r\n",
        "predicted = np.column_stack((predicted, volume))\r\n",
        "# print(dataset[:,1:])\r\n",
        "print(predicted.shape)\r\n",
        "predicted = sc.inverse_transform(predicted)\r\n",
        "print(predicted)"
      ],
      "outputs": [
        {
          "output_type": "stream",
          "name": "stdout",
          "text": [
            "(370, 25)\n",
            "[[2.00883365e+01 1.72070357e+15 5.79968518e+09 ... 4.40011036e+02\n",
            "  7.00843910e+02 4.30790133e+02]\n",
            " [2.04241897e+01 1.14063901e+15 5.80582254e+09 ... 4.40290395e+02\n",
            "  6.97508234e+02 4.28611301e+02]\n",
            " [2.04327850e+01 1.51833045e+15 5.87181911e+09 ... 4.41611021e+02\n",
            "  6.93656534e+02 4.27699384e+02]\n",
            " ...\n",
            " [2.75187915e+01 1.00761478e+15 9.34181982e+09 ... 7.13238012e+02\n",
            "  8.15966983e+02 6.82233863e+02]\n",
            " [2.66878046e+01 1.00284346e+15 9.28849650e+09 ... 7.12058971e+02\n",
            "  8.17801669e+02 6.82084884e+02]\n",
            " [2.64256387e+01 7.18637009e+14 9.24306408e+09 ... 7.11704356e+02\n",
            "  8.19447994e+02 6.82404300e+02]]\n"
          ]
        }
      ],
      "metadata": {
        "colab": {
          "base_uri": "https://localhost:8080/"
        },
        "id": "L9MB4ux0vIPR",
        "outputId": "527c857f-0de7-4fe3-f690-4582dff2e9bb"
      }
    },
    {
      "cell_type": "code",
      "execution_count": 178,
      "source": [
        "allTargetData = np.vstack((dataset[:training_data_len, 0:1], dataset[training_data_len:, 0:1]))\r\n",
        "training_predicted = regressor.predict(X_train)\r\n",
        "volume = dataset[:len(X_train), 1:]\r\n",
        "training_predicted = np.column_stack((training_predicted, volume))\r\n",
        "training_predicted = sc.inverse_transform(training_predicted)\r\n",
        "allForecastedData = np.vstack((dataset[0:window, 0:1], training_predicted[:,0:1], predicted[:,0:1]))\r\n",
        "# date = df['DATA']\r\n",
        "date = df.index\r\n",
        "\r\n",
        "figure(figsize=(20, 6), dpi=80)\r\n",
        "plt.plot(date, allForecastedData, color = 'red', label = 'Previsto')\r\n",
        "plt.plot(date, allTargetData, color = 'blue', label = 'Real')\r\n",
        "plt.title('Previsão de série temporal')\r\n",
        "plt.xlabel('Tempo')\r\n",
        "plt.ylabel('Cotação (R$)')\r\n",
        "plt.legend()\r\n",
        "plt.show()"
      ],
      "outputs": [
        {
          "output_type": "display_data",
          "data": {
            "text/plain": [
              "<Figure size 1600x480 with 1 Axes>"
            ],
            "image/svg+xml": "<?xml version=\"1.0\" encoding=\"utf-8\" standalone=\"no\"?>\r\n<!DOCTYPE svg PUBLIC \"-//W3C//DTD SVG 1.1//EN\"\r\n  \"http://www.w3.org/Graphics/SVG/1.1/DTD/svg11.dtd\">\r\n<svg height=\"386.514375pt\" version=\"1.1\" viewBox=\"0 0 1163.821875 386.514375\" width=\"1163.821875pt\" xmlns=\"http://www.w3.org/2000/svg\" xmlns:xlink=\"http://www.w3.org/1999/xlink\">\r\n <metadata>\r\n  <rdf:RDF xmlns:cc=\"http://creativecommons.org/ns#\" xmlns:dc=\"http://purl.org/dc/elements/1.1/\" xmlns:rdf=\"http://www.w3.org/1999/02/22-rdf-syntax-ns#\">\r\n   <cc:Work>\r\n    <dc:type rdf:resource=\"http://purl.org/dc/dcmitype/StillImage\"/>\r\n    <dc:date>2021-08-10T21:44:28.343722</dc:date>\r\n    <dc:format>image/svg+xml</dc:format>\r\n    <dc:creator>\r\n     <cc:Agent>\r\n      <dc:title>Matplotlib v3.4.2, https://matplotlib.org/</dc:title>\r\n     </cc:Agent>\r\n    </dc:creator>\r\n   </cc:Work>\r\n  </rdf:RDF>\r\n </metadata>\r\n <defs>\r\n  <style type=\"text/css\">*{stroke-linecap:butt;stroke-linejoin:round;}</style>\r\n </defs>\r\n <g id=\"figure_1\">\r\n  <g id=\"patch_1\">\r\n   <path d=\"M 0 386.514375 \r\nL 1163.821875 386.514375 \r\nL 1163.821875 0 \r\nL 0 0 \r\nz\r\n\" style=\"fill:none;\"/>\r\n  </g>\r\n  <g id=\"axes_1\">\r\n   <g id=\"patch_2\">\r\n    <path d=\"M 40.621875 348.958125 \r\nL 1156.621875 348.958125 \r\nL 1156.621875 22.798125 \r\nL 40.621875 22.798125 \r\nz\r\n\" style=\"fill:#ffffff;\"/>\r\n   </g>\r\n   <g id=\"matplotlib.axis_1\">\r\n    <g id=\"xtick_1\">\r\n     <g id=\"line2d_1\">\r\n      <defs>\r\n       <path d=\"M 0 0 \r\nL 0 3.5 \r\n\" id=\"meb603cb05f\" style=\"stroke:#000000;stroke-width:0.8;\"/>\r\n      </defs>\r\n      <g>\r\n       <use style=\"stroke:#000000;stroke-width:0.8;\" x=\"90.792623\" xlink:href=\"#meb603cb05f\" y=\"348.958125\"/>\r\n      </g>\r\n     </g>\r\n     <g id=\"text_1\">\r\n      <!-- 2015 -->\r\n      <g transform=\"translate(78.067623 363.556562)scale(0.1 -0.1)\">\r\n       <defs>\r\n        <path d=\"M 1228 531 \r\nL 3431 531 \r\nL 3431 0 \r\nL 469 0 \r\nL 469 531 \r\nQ 828 903 1448 1529 \r\nQ 2069 2156 2228 2338 \r\nQ 2531 2678 2651 2914 \r\nQ 2772 3150 2772 3378 \r\nQ 2772 3750 2511 3984 \r\nQ 2250 4219 1831 4219 \r\nQ 1534 4219 1204 4116 \r\nQ 875 4013 500 3803 \r\nL 500 4441 \r\nQ 881 4594 1212 4672 \r\nQ 1544 4750 1819 4750 \r\nQ 2544 4750 2975 4387 \r\nQ 3406 4025 3406 3419 \r\nQ 3406 3131 3298 2873 \r\nQ 3191 2616 2906 2266 \r\nQ 2828 2175 2409 1742 \r\nQ 1991 1309 1228 531 \r\nz\r\n\" id=\"DejaVuSans-32\" transform=\"scale(0.015625)\"/>\r\n        <path d=\"M 2034 4250 \r\nQ 1547 4250 1301 3770 \r\nQ 1056 3291 1056 2328 \r\nQ 1056 1369 1301 889 \r\nQ 1547 409 2034 409 \r\nQ 2525 409 2770 889 \r\nQ 3016 1369 3016 2328 \r\nQ 3016 3291 2770 3770 \r\nQ 2525 4250 2034 4250 \r\nz\r\nM 2034 4750 \r\nQ 2819 4750 3233 4129 \r\nQ 3647 3509 3647 2328 \r\nQ 3647 1150 3233 529 \r\nQ 2819 -91 2034 -91 \r\nQ 1250 -91 836 529 \r\nQ 422 1150 422 2328 \r\nQ 422 3509 836 4129 \r\nQ 1250 4750 2034 4750 \r\nz\r\n\" id=\"DejaVuSans-30\" transform=\"scale(0.015625)\"/>\r\n        <path d=\"M 794 531 \r\nL 1825 531 \r\nL 1825 4091 \r\nL 703 3866 \r\nL 703 4441 \r\nL 1819 4666 \r\nL 2450 4666 \r\nL 2450 531 \r\nL 3481 531 \r\nL 3481 0 \r\nL 794 0 \r\nL 794 531 \r\nz\r\n\" id=\"DejaVuSans-31\" transform=\"scale(0.015625)\"/>\r\n        <path d=\"M 691 4666 \r\nL 3169 4666 \r\nL 3169 4134 \r\nL 1269 4134 \r\nL 1269 2991 \r\nQ 1406 3038 1543 3061 \r\nQ 1681 3084 1819 3084 \r\nQ 2600 3084 3056 2656 \r\nQ 3513 2228 3513 1497 \r\nQ 3513 744 3044 326 \r\nQ 2575 -91 1722 -91 \r\nQ 1428 -91 1123 -41 \r\nQ 819 9 494 109 \r\nL 494 744 \r\nQ 775 591 1075 516 \r\nQ 1375 441 1709 441 \r\nQ 2250 441 2565 725 \r\nQ 2881 1009 2881 1497 \r\nQ 2881 1984 2565 2268 \r\nQ 2250 2553 1709 2553 \r\nQ 1456 2553 1204 2497 \r\nQ 953 2441 691 2322 \r\nL 691 4666 \r\nz\r\n\" id=\"DejaVuSans-35\" transform=\"scale(0.015625)\"/>\r\n       </defs>\r\n       <use xlink:href=\"#DejaVuSans-32\"/>\r\n       <use x=\"63.623047\" xlink:href=\"#DejaVuSans-30\"/>\r\n       <use x=\"127.246094\" xlink:href=\"#DejaVuSans-31\"/>\r\n       <use x=\"190.869141\" xlink:href=\"#DejaVuSans-35\"/>\r\n      </g>\r\n     </g>\r\n    </g>\r\n    <g id=\"xtick_2\">\r\n     <g id=\"line2d_2\">\r\n      <g>\r\n       <use style=\"stroke:#000000;stroke-width:0.8;\" x=\"293.924324\" xlink:href=\"#meb603cb05f\" y=\"348.958125\"/>\r\n      </g>\r\n     </g>\r\n     <g id=\"text_2\">\r\n      <!-- 2016 -->\r\n      <g transform=\"translate(281.199324 363.556562)scale(0.1 -0.1)\">\r\n       <defs>\r\n        <path d=\"M 2113 2584 \r\nQ 1688 2584 1439 2293 \r\nQ 1191 2003 1191 1497 \r\nQ 1191 994 1439 701 \r\nQ 1688 409 2113 409 \r\nQ 2538 409 2786 701 \r\nQ 3034 994 3034 1497 \r\nQ 3034 2003 2786 2293 \r\nQ 2538 2584 2113 2584 \r\nz\r\nM 3366 4563 \r\nL 3366 3988 \r\nQ 3128 4100 2886 4159 \r\nQ 2644 4219 2406 4219 \r\nQ 1781 4219 1451 3797 \r\nQ 1122 3375 1075 2522 \r\nQ 1259 2794 1537 2939 \r\nQ 1816 3084 2150 3084 \r\nQ 2853 3084 3261 2657 \r\nQ 3669 2231 3669 1497 \r\nQ 3669 778 3244 343 \r\nQ 2819 -91 2113 -91 \r\nQ 1303 -91 875 529 \r\nQ 447 1150 447 2328 \r\nQ 447 3434 972 4092 \r\nQ 1497 4750 2381 4750 \r\nQ 2619 4750 2861 4703 \r\nQ 3103 4656 3366 4563 \r\nz\r\n\" id=\"DejaVuSans-36\" transform=\"scale(0.015625)\"/>\r\n       </defs>\r\n       <use xlink:href=\"#DejaVuSans-32\"/>\r\n       <use x=\"63.623047\" xlink:href=\"#DejaVuSans-30\"/>\r\n       <use x=\"127.246094\" xlink:href=\"#DejaVuSans-31\"/>\r\n       <use x=\"190.869141\" xlink:href=\"#DejaVuSans-36\"/>\r\n      </g>\r\n     </g>\r\n    </g>\r\n    <g id=\"xtick_3\">\r\n     <g id=\"line2d_3\">\r\n      <g>\r\n       <use style=\"stroke:#000000;stroke-width:0.8;\" x=\"497.61255\" xlink:href=\"#meb603cb05f\" y=\"348.958125\"/>\r\n      </g>\r\n     </g>\r\n     <g id=\"text_3\">\r\n      <!-- 2017 -->\r\n      <g transform=\"translate(484.88755 363.556562)scale(0.1 -0.1)\">\r\n       <defs>\r\n        <path d=\"M 525 4666 \r\nL 3525 4666 \r\nL 3525 4397 \r\nL 1831 0 \r\nL 1172 0 \r\nL 2766 4134 \r\nL 525 4134 \r\nL 525 4666 \r\nz\r\n\" id=\"DejaVuSans-37\" transform=\"scale(0.015625)\"/>\r\n       </defs>\r\n       <use xlink:href=\"#DejaVuSans-32\"/>\r\n       <use x=\"63.623047\" xlink:href=\"#DejaVuSans-30\"/>\r\n       <use x=\"127.246094\" xlink:href=\"#DejaVuSans-31\"/>\r\n       <use x=\"190.869141\" xlink:href=\"#DejaVuSans-37\"/>\r\n      </g>\r\n     </g>\r\n    </g>\r\n    <g id=\"xtick_4\">\r\n     <g id=\"line2d_4\">\r\n      <g>\r\n       <use style=\"stroke:#000000;stroke-width:0.8;\" x=\"700.744251\" xlink:href=\"#meb603cb05f\" y=\"348.958125\"/>\r\n      </g>\r\n     </g>\r\n     <g id=\"text_4\">\r\n      <!-- 2018 -->\r\n      <g transform=\"translate(688.019251 363.556562)scale(0.1 -0.1)\">\r\n       <defs>\r\n        <path d=\"M 2034 2216 \r\nQ 1584 2216 1326 1975 \r\nQ 1069 1734 1069 1313 \r\nQ 1069 891 1326 650 \r\nQ 1584 409 2034 409 \r\nQ 2484 409 2743 651 \r\nQ 3003 894 3003 1313 \r\nQ 3003 1734 2745 1975 \r\nQ 2488 2216 2034 2216 \r\nz\r\nM 1403 2484 \r\nQ 997 2584 770 2862 \r\nQ 544 3141 544 3541 \r\nQ 544 4100 942 4425 \r\nQ 1341 4750 2034 4750 \r\nQ 2731 4750 3128 4425 \r\nQ 3525 4100 3525 3541 \r\nQ 3525 3141 3298 2862 \r\nQ 3072 2584 2669 2484 \r\nQ 3125 2378 3379 2068 \r\nQ 3634 1759 3634 1313 \r\nQ 3634 634 3220 271 \r\nQ 2806 -91 2034 -91 \r\nQ 1263 -91 848 271 \r\nQ 434 634 434 1313 \r\nQ 434 1759 690 2068 \r\nQ 947 2378 1403 2484 \r\nz\r\nM 1172 3481 \r\nQ 1172 3119 1398 2916 \r\nQ 1625 2713 2034 2713 \r\nQ 2441 2713 2670 2916 \r\nQ 2900 3119 2900 3481 \r\nQ 2900 3844 2670 4047 \r\nQ 2441 4250 2034 4250 \r\nQ 1625 4250 1398 4047 \r\nQ 1172 3844 1172 3481 \r\nz\r\n\" id=\"DejaVuSans-38\" transform=\"scale(0.015625)\"/>\r\n       </defs>\r\n       <use xlink:href=\"#DejaVuSans-32\"/>\r\n       <use x=\"63.623047\" xlink:href=\"#DejaVuSans-30\"/>\r\n       <use x=\"127.246094\" xlink:href=\"#DejaVuSans-31\"/>\r\n       <use x=\"190.869141\" xlink:href=\"#DejaVuSans-38\"/>\r\n      </g>\r\n     </g>\r\n    </g>\r\n    <g id=\"xtick_5\">\r\n     <g id=\"line2d_5\">\r\n      <g>\r\n       <use style=\"stroke:#000000;stroke-width:0.8;\" x=\"903.875952\" xlink:href=\"#meb603cb05f\" y=\"348.958125\"/>\r\n      </g>\r\n     </g>\r\n     <g id=\"text_5\">\r\n      <!-- 2019 -->\r\n      <g transform=\"translate(891.150952 363.556562)scale(0.1 -0.1)\">\r\n       <defs>\r\n        <path d=\"M 703 97 \r\nL 703 672 \r\nQ 941 559 1184 500 \r\nQ 1428 441 1663 441 \r\nQ 2288 441 2617 861 \r\nQ 2947 1281 2994 2138 \r\nQ 2813 1869 2534 1725 \r\nQ 2256 1581 1919 1581 \r\nQ 1219 1581 811 2004 \r\nQ 403 2428 403 3163 \r\nQ 403 3881 828 4315 \r\nQ 1253 4750 1959 4750 \r\nQ 2769 4750 3195 4129 \r\nQ 3622 3509 3622 2328 \r\nQ 3622 1225 3098 567 \r\nQ 2575 -91 1691 -91 \r\nQ 1453 -91 1209 -44 \r\nQ 966 3 703 97 \r\nz\r\nM 1959 2075 \r\nQ 2384 2075 2632 2365 \r\nQ 2881 2656 2881 3163 \r\nQ 2881 3666 2632 3958 \r\nQ 2384 4250 1959 4250 \r\nQ 1534 4250 1286 3958 \r\nQ 1038 3666 1038 3163 \r\nQ 1038 2656 1286 2365 \r\nQ 1534 2075 1959 2075 \r\nz\r\n\" id=\"DejaVuSans-39\" transform=\"scale(0.015625)\"/>\r\n       </defs>\r\n       <use xlink:href=\"#DejaVuSans-32\"/>\r\n       <use x=\"63.623047\" xlink:href=\"#DejaVuSans-30\"/>\r\n       <use x=\"127.246094\" xlink:href=\"#DejaVuSans-31\"/>\r\n       <use x=\"190.869141\" xlink:href=\"#DejaVuSans-39\"/>\r\n      </g>\r\n     </g>\r\n    </g>\r\n    <g id=\"xtick_6\">\r\n     <g id=\"line2d_6\">\r\n      <g>\r\n       <use style=\"stroke:#000000;stroke-width:0.8;\" x=\"1107.007653\" xlink:href=\"#meb603cb05f\" y=\"348.958125\"/>\r\n      </g>\r\n     </g>\r\n     <g id=\"text_6\">\r\n      <!-- 2020 -->\r\n      <g transform=\"translate(1094.282653 363.556562)scale(0.1 -0.1)\">\r\n       <use xlink:href=\"#DejaVuSans-32\"/>\r\n       <use x=\"63.623047\" xlink:href=\"#DejaVuSans-30\"/>\r\n       <use x=\"127.246094\" xlink:href=\"#DejaVuSans-32\"/>\r\n       <use x=\"190.869141\" xlink:href=\"#DejaVuSans-30\"/>\r\n      </g>\r\n     </g>\r\n    </g>\r\n    <g id=\"text_7\">\r\n     <!-- Tempo -->\r\n     <g transform=\"translate(582.2375 377.234687)scale(0.1 -0.1)\">\r\n      <defs>\r\n       <path d=\"M -19 4666 \r\nL 3928 4666 \r\nL 3928 4134 \r\nL 2272 4134 \r\nL 2272 0 \r\nL 1638 0 \r\nL 1638 4134 \r\nL -19 4134 \r\nL -19 4666 \r\nz\r\n\" id=\"DejaVuSans-54\" transform=\"scale(0.015625)\"/>\r\n       <path d=\"M 3597 1894 \r\nL 3597 1613 \r\nL 953 1613 \r\nQ 991 1019 1311 708 \r\nQ 1631 397 2203 397 \r\nQ 2534 397 2845 478 \r\nQ 3156 559 3463 722 \r\nL 3463 178 \r\nQ 3153 47 2828 -22 \r\nQ 2503 -91 2169 -91 \r\nQ 1331 -91 842 396 \r\nQ 353 884 353 1716 \r\nQ 353 2575 817 3079 \r\nQ 1281 3584 2069 3584 \r\nQ 2775 3584 3186 3129 \r\nQ 3597 2675 3597 1894 \r\nz\r\nM 3022 2063 \r\nQ 3016 2534 2758 2815 \r\nQ 2500 3097 2075 3097 \r\nQ 1594 3097 1305 2825 \r\nQ 1016 2553 972 2059 \r\nL 3022 2063 \r\nz\r\n\" id=\"DejaVuSans-65\" transform=\"scale(0.015625)\"/>\r\n       <path d=\"M 3328 2828 \r\nQ 3544 3216 3844 3400 \r\nQ 4144 3584 4550 3584 \r\nQ 5097 3584 5394 3201 \r\nQ 5691 2819 5691 2113 \r\nL 5691 0 \r\nL 5113 0 \r\nL 5113 2094 \r\nQ 5113 2597 4934 2840 \r\nQ 4756 3084 4391 3084 \r\nQ 3944 3084 3684 2787 \r\nQ 3425 2491 3425 1978 \r\nL 3425 0 \r\nL 2847 0 \r\nL 2847 2094 \r\nQ 2847 2600 2669 2842 \r\nQ 2491 3084 2119 3084 \r\nQ 1678 3084 1418 2786 \r\nQ 1159 2488 1159 1978 \r\nL 1159 0 \r\nL 581 0 \r\nL 581 3500 \r\nL 1159 3500 \r\nL 1159 2956 \r\nQ 1356 3278 1631 3431 \r\nQ 1906 3584 2284 3584 \r\nQ 2666 3584 2933 3390 \r\nQ 3200 3197 3328 2828 \r\nz\r\n\" id=\"DejaVuSans-6d\" transform=\"scale(0.015625)\"/>\r\n       <path d=\"M 1159 525 \r\nL 1159 -1331 \r\nL 581 -1331 \r\nL 581 3500 \r\nL 1159 3500 \r\nL 1159 2969 \r\nQ 1341 3281 1617 3432 \r\nQ 1894 3584 2278 3584 \r\nQ 2916 3584 3314 3078 \r\nQ 3713 2572 3713 1747 \r\nQ 3713 922 3314 415 \r\nQ 2916 -91 2278 -91 \r\nQ 1894 -91 1617 61 \r\nQ 1341 213 1159 525 \r\nz\r\nM 3116 1747 \r\nQ 3116 2381 2855 2742 \r\nQ 2594 3103 2138 3103 \r\nQ 1681 3103 1420 2742 \r\nQ 1159 2381 1159 1747 \r\nQ 1159 1113 1420 752 \r\nQ 1681 391 2138 391 \r\nQ 2594 391 2855 752 \r\nQ 3116 1113 3116 1747 \r\nz\r\n\" id=\"DejaVuSans-70\" transform=\"scale(0.015625)\"/>\r\n       <path d=\"M 1959 3097 \r\nQ 1497 3097 1228 2736 \r\nQ 959 2375 959 1747 \r\nQ 959 1119 1226 758 \r\nQ 1494 397 1959 397 \r\nQ 2419 397 2687 759 \r\nQ 2956 1122 2956 1747 \r\nQ 2956 2369 2687 2733 \r\nQ 2419 3097 1959 3097 \r\nz\r\nM 1959 3584 \r\nQ 2709 3584 3137 3096 \r\nQ 3566 2609 3566 1747 \r\nQ 3566 888 3137 398 \r\nQ 2709 -91 1959 -91 \r\nQ 1206 -91 779 398 \r\nQ 353 888 353 1747 \r\nQ 353 2609 779 3096 \r\nQ 1206 3584 1959 3584 \r\nz\r\n\" id=\"DejaVuSans-6f\" transform=\"scale(0.015625)\"/>\r\n      </defs>\r\n      <use xlink:href=\"#DejaVuSans-54\"/>\r\n      <use x=\"44.083984\" xlink:href=\"#DejaVuSans-65\"/>\r\n      <use x=\"105.607422\" xlink:href=\"#DejaVuSans-6d\"/>\r\n      <use x=\"203.019531\" xlink:href=\"#DejaVuSans-70\"/>\r\n      <use x=\"266.496094\" xlink:href=\"#DejaVuSans-6f\"/>\r\n     </g>\r\n    </g>\r\n   </g>\r\n   <g id=\"matplotlib.axis_2\">\r\n    <g id=\"ytick_1\">\r\n     <g id=\"line2d_7\">\r\n      <defs>\r\n       <path d=\"M 0 0 \r\nL -3.5 0 \r\n\" id=\"m97671bd7ee\" style=\"stroke:#000000;stroke-width:0.8;\"/>\r\n      </defs>\r\n      <g>\r\n       <use style=\"stroke:#000000;stroke-width:0.8;\" x=\"40.621875\" xlink:href=\"#m97671bd7ee\" y=\"330.523094\"/>\r\n      </g>\r\n     </g>\r\n     <g id=\"text_8\">\r\n      <!-- 10 -->\r\n      <g transform=\"translate(20.896875 334.322312)scale(0.1 -0.1)\">\r\n       <use xlink:href=\"#DejaVuSans-31\"/>\r\n       <use x=\"63.623047\" xlink:href=\"#DejaVuSans-30\"/>\r\n      </g>\r\n     </g>\r\n    </g>\r\n    <g id=\"ytick_2\">\r\n     <g id=\"line2d_8\">\r\n      <g>\r\n       <use style=\"stroke:#000000;stroke-width:0.8;\" x=\"40.621875\" xlink:href=\"#m97671bd7ee\" y=\"273.819557\"/>\r\n      </g>\r\n     </g>\r\n     <g id=\"text_9\">\r\n      <!-- 15 -->\r\n      <g transform=\"translate(20.896875 277.618776)scale(0.1 -0.1)\">\r\n       <use xlink:href=\"#DejaVuSans-31\"/>\r\n       <use x=\"63.623047\" xlink:href=\"#DejaVuSans-35\"/>\r\n      </g>\r\n     </g>\r\n    </g>\r\n    <g id=\"ytick_3\">\r\n     <g id=\"line2d_9\">\r\n      <g>\r\n       <use style=\"stroke:#000000;stroke-width:0.8;\" x=\"40.621875\" xlink:href=\"#m97671bd7ee\" y=\"217.116021\"/>\r\n      </g>\r\n     </g>\r\n     <g id=\"text_10\">\r\n      <!-- 20 -->\r\n      <g transform=\"translate(20.896875 220.91524)scale(0.1 -0.1)\">\r\n       <use xlink:href=\"#DejaVuSans-32\"/>\r\n       <use x=\"63.623047\" xlink:href=\"#DejaVuSans-30\"/>\r\n      </g>\r\n     </g>\r\n    </g>\r\n    <g id=\"ytick_4\">\r\n     <g id=\"line2d_10\">\r\n      <g>\r\n       <use style=\"stroke:#000000;stroke-width:0.8;\" x=\"40.621875\" xlink:href=\"#m97671bd7ee\" y=\"160.412485\"/>\r\n      </g>\r\n     </g>\r\n     <g id=\"text_11\">\r\n      <!-- 25 -->\r\n      <g transform=\"translate(20.896875 164.211703)scale(0.1 -0.1)\">\r\n       <use xlink:href=\"#DejaVuSans-32\"/>\r\n       <use x=\"63.623047\" xlink:href=\"#DejaVuSans-35\"/>\r\n      </g>\r\n     </g>\r\n    </g>\r\n    <g id=\"ytick_5\">\r\n     <g id=\"line2d_11\">\r\n      <g>\r\n       <use style=\"stroke:#000000;stroke-width:0.8;\" x=\"40.621875\" xlink:href=\"#m97671bd7ee\" y=\"103.708948\"/>\r\n      </g>\r\n     </g>\r\n     <g id=\"text_12\">\r\n      <!-- 30 -->\r\n      <g transform=\"translate(20.896875 107.508167)scale(0.1 -0.1)\">\r\n       <defs>\r\n        <path d=\"M 2597 2516 \r\nQ 3050 2419 3304 2112 \r\nQ 3559 1806 3559 1356 \r\nQ 3559 666 3084 287 \r\nQ 2609 -91 1734 -91 \r\nQ 1441 -91 1130 -33 \r\nQ 819 25 488 141 \r\nL 488 750 \r\nQ 750 597 1062 519 \r\nQ 1375 441 1716 441 \r\nQ 2309 441 2620 675 \r\nQ 2931 909 2931 1356 \r\nQ 2931 1769 2642 2001 \r\nQ 2353 2234 1838 2234 \r\nL 1294 2234 \r\nL 1294 2753 \r\nL 1863 2753 \r\nQ 2328 2753 2575 2939 \r\nQ 2822 3125 2822 3475 \r\nQ 2822 3834 2567 4026 \r\nQ 2313 4219 1838 4219 \r\nQ 1578 4219 1281 4162 \r\nQ 984 4106 628 3988 \r\nL 628 4550 \r\nQ 988 4650 1302 4700 \r\nQ 1616 4750 1894 4750 \r\nQ 2613 4750 3031 4423 \r\nQ 3450 4097 3450 3541 \r\nQ 3450 3153 3228 2886 \r\nQ 3006 2619 2597 2516 \r\nz\r\n\" id=\"DejaVuSans-33\" transform=\"scale(0.015625)\"/>\r\n       </defs>\r\n       <use xlink:href=\"#DejaVuSans-33\"/>\r\n       <use x=\"63.623047\" xlink:href=\"#DejaVuSans-30\"/>\r\n      </g>\r\n     </g>\r\n    </g>\r\n    <g id=\"ytick_6\">\r\n     <g id=\"line2d_12\">\r\n      <g>\r\n       <use style=\"stroke:#000000;stroke-width:0.8;\" x=\"40.621875\" xlink:href=\"#m97671bd7ee\" y=\"47.005412\"/>\r\n      </g>\r\n     </g>\r\n     <g id=\"text_13\">\r\n      <!-- 35 -->\r\n      <g transform=\"translate(20.896875 50.804631)scale(0.1 -0.1)\">\r\n       <use xlink:href=\"#DejaVuSans-33\"/>\r\n       <use x=\"63.623047\" xlink:href=\"#DejaVuSans-35\"/>\r\n      </g>\r\n     </g>\r\n    </g>\r\n    <g id=\"text_14\">\r\n     <!-- Cotação (R$) -->\r\n     <g transform=\"translate(14.817188 218.471875)rotate(-90)scale(0.1 -0.1)\">\r\n      <defs>\r\n       <path d=\"M 4122 4306 \r\nL 4122 3641 \r\nQ 3803 3938 3442 4084 \r\nQ 3081 4231 2675 4231 \r\nQ 1875 4231 1450 3742 \r\nQ 1025 3253 1025 2328 \r\nQ 1025 1406 1450 917 \r\nQ 1875 428 2675 428 \r\nQ 3081 428 3442 575 \r\nQ 3803 722 4122 1019 \r\nL 4122 359 \r\nQ 3791 134 3420 21 \r\nQ 3050 -91 2638 -91 \r\nQ 1578 -91 968 557 \r\nQ 359 1206 359 2328 \r\nQ 359 3453 968 4101 \r\nQ 1578 4750 2638 4750 \r\nQ 3056 4750 3426 4639 \r\nQ 3797 4528 4122 4306 \r\nz\r\n\" id=\"DejaVuSans-43\" transform=\"scale(0.015625)\"/>\r\n       <path d=\"M 1172 4494 \r\nL 1172 3500 \r\nL 2356 3500 \r\nL 2356 3053 \r\nL 1172 3053 \r\nL 1172 1153 \r\nQ 1172 725 1289 603 \r\nQ 1406 481 1766 481 \r\nL 2356 481 \r\nL 2356 0 \r\nL 1766 0 \r\nQ 1100 0 847 248 \r\nQ 594 497 594 1153 \r\nL 594 3053 \r\nL 172 3053 \r\nL 172 3500 \r\nL 594 3500 \r\nL 594 4494 \r\nL 1172 4494 \r\nz\r\n\" id=\"DejaVuSans-74\" transform=\"scale(0.015625)\"/>\r\n       <path d=\"M 2194 1759 \r\nQ 1497 1759 1228 1600 \r\nQ 959 1441 959 1056 \r\nQ 959 750 1161 570 \r\nQ 1363 391 1709 391 \r\nQ 2188 391 2477 730 \r\nQ 2766 1069 2766 1631 \r\nL 2766 1759 \r\nL 2194 1759 \r\nz\r\nM 3341 1997 \r\nL 3341 0 \r\nL 2766 0 \r\nL 2766 531 \r\nQ 2569 213 2275 61 \r\nQ 1981 -91 1556 -91 \r\nQ 1019 -91 701 211 \r\nQ 384 513 384 1019 \r\nQ 384 1609 779 1909 \r\nQ 1175 2209 1959 2209 \r\nL 2766 2209 \r\nL 2766 2266 \r\nQ 2766 2663 2505 2880 \r\nQ 2244 3097 1772 3097 \r\nQ 1472 3097 1187 3025 \r\nQ 903 2953 641 2809 \r\nL 641 3341 \r\nQ 956 3463 1253 3523 \r\nQ 1550 3584 1831 3584 \r\nQ 2591 3584 2966 3190 \r\nQ 3341 2797 3341 1997 \r\nz\r\n\" id=\"DejaVuSans-61\" transform=\"scale(0.015625)\"/>\r\n       <path d=\"M 3122 3366 \r\nL 3122 2828 \r\nQ 2878 2963 2633 3030 \r\nQ 2388 3097 2138 3097 \r\nQ 1578 3097 1268 2742 \r\nQ 959 2388 959 1747 \r\nQ 959 1106 1268 751 \r\nQ 1578 397 2138 397 \r\nQ 2388 397 2633 464 \r\nQ 2878 531 3122 666 \r\nL 3122 134 \r\nQ 2881 22 2623 -34 \r\nQ 2366 -91 2075 -91 \r\nQ 1284 -91 818 406 \r\nQ 353 903 353 1747 \r\nQ 353 2603 823 3093 \r\nQ 1294 3584 2113 3584 \r\nQ 2378 3584 2631 3529 \r\nQ 2884 3475 3122 3366 \r\nz\r\nM 2311 0 \r\nQ 2482 -194 2566 -358 \r\nQ 2651 -522 2651 -672 \r\nQ 2651 -950 2463 -1092 \r\nQ 2276 -1234 1907 -1234 \r\nQ 1764 -1234 1628 -1215 \r\nQ 1492 -1197 1357 -1159 \r\nL 1357 -750 \r\nQ 1464 -803 1579 -826 \r\nQ 1695 -850 1842 -850 \r\nQ 2026 -850 2120 -775 \r\nQ 2214 -700 2214 -556 \r\nQ 2214 -463 2146 -327 \r\nQ 2079 -191 1939 0 \r\nL 2311 0 \r\nz\r\n\" id=\"DejaVuSans-e7\" transform=\"scale(0.015625)\"/>\r\n       <path d=\"M 2194 1759 \r\nQ 1497 1759 1228 1600 \r\nQ 959 1441 959 1056 \r\nQ 959 750 1161 570 \r\nQ 1363 391 1709 391 \r\nQ 2188 391 2477 730 \r\nQ 2766 1069 2766 1631 \r\nL 2766 1759 \r\nL 2194 1759 \r\nz\r\nM 3341 1997 \r\nL 3341 0 \r\nL 2766 0 \r\nL 2766 531 \r\nQ 2569 213 2275 61 \r\nQ 1981 -91 1556 -91 \r\nQ 1019 -91 701 211 \r\nQ 384 513 384 1019 \r\nQ 384 1609 779 1909 \r\nQ 1175 2209 1959 2209 \r\nL 2766 2209 \r\nL 2766 2266 \r\nQ 2766 2663 2505 2880 \r\nQ 2244 3097 1772 3097 \r\nQ 1472 3097 1187 3025 \r\nQ 903 2953 641 2809 \r\nL 641 3341 \r\nQ 956 3463 1253 3523 \r\nQ 1550 3584 1831 3584 \r\nQ 2591 3584 2966 3190 \r\nQ 3341 2797 3341 1997 \r\nz\r\nM 1844 4281 \r\nL 1665 4453 \r\nQ 1597 4516 1545 4545 \r\nQ 1494 4575 1453 4575 \r\nQ 1334 4575 1278 4461 \r\nQ 1222 4347 1215 4091 \r\nL 825 4091 \r\nQ 831 4513 990 4742 \r\nQ 1150 4972 1434 4972 \r\nQ 1553 4972 1653 4928 \r\nQ 1753 4884 1869 4781 \r\nL 2047 4609 \r\nQ 2115 4547 2167 4517 \r\nQ 2219 4488 2259 4488 \r\nQ 2378 4488 2434 4602 \r\nQ 2490 4716 2497 4972 \r\nL 2887 4972 \r\nQ 2881 4550 2721 4320 \r\nQ 2562 4091 2278 4091 \r\nQ 2159 4091 2059 4134 \r\nQ 1959 4178 1844 4281 \r\nz\r\n\" id=\"DejaVuSans-e3\" transform=\"scale(0.015625)\"/>\r\n       <path id=\"DejaVuSans-20\" transform=\"scale(0.015625)\"/>\r\n       <path d=\"M 1984 4856 \r\nQ 1566 4138 1362 3434 \r\nQ 1159 2731 1159 2009 \r\nQ 1159 1288 1364 580 \r\nQ 1569 -128 1984 -844 \r\nL 1484 -844 \r\nQ 1016 -109 783 600 \r\nQ 550 1309 550 2009 \r\nQ 550 2706 781 3412 \r\nQ 1013 4119 1484 4856 \r\nL 1984 4856 \r\nz\r\n\" id=\"DejaVuSans-28\" transform=\"scale(0.015625)\"/>\r\n       <path d=\"M 2841 2188 \r\nQ 3044 2119 3236 1894 \r\nQ 3428 1669 3622 1275 \r\nL 4263 0 \r\nL 3584 0 \r\nL 2988 1197 \r\nQ 2756 1666 2539 1819 \r\nQ 2322 1972 1947 1972 \r\nL 1259 1972 \r\nL 1259 0 \r\nL 628 0 \r\nL 628 4666 \r\nL 2053 4666 \r\nQ 2853 4666 3247 4331 \r\nQ 3641 3997 3641 3322 \r\nQ 3641 2881 3436 2590 \r\nQ 3231 2300 2841 2188 \r\nz\r\nM 1259 4147 \r\nL 1259 2491 \r\nL 2053 2491 \r\nQ 2509 2491 2742 2702 \r\nQ 2975 2913 2975 3322 \r\nQ 2975 3731 2742 3939 \r\nQ 2509 4147 2053 4147 \r\nL 1259 4147 \r\nz\r\n\" id=\"DejaVuSans-52\" transform=\"scale(0.015625)\"/>\r\n       <path d=\"M 2163 -941 \r\nL 1850 -941 \r\nL 1847 0 \r\nQ 1519 6 1191 76 \r\nQ 863 147 531 288 \r\nL 531 850 \r\nQ 850 650 1176 548 \r\nQ 1503 447 1850 444 \r\nL 1850 1869 \r\nQ 1159 1981 845 2250 \r\nQ 531 2519 531 2988 \r\nQ 531 3497 872 3790 \r\nQ 1213 4084 1850 4128 \r\nL 1850 4863 \r\nL 2163 4863 \r\nL 2163 4138 \r\nQ 2453 4125 2725 4076 \r\nQ 2997 4028 3256 3944 \r\nL 3256 3397 \r\nQ 2997 3528 2723 3600 \r\nQ 2450 3672 2163 3684 \r\nL 2163 2350 \r\nQ 2872 2241 3206 1959 \r\nQ 3541 1678 3541 1191 \r\nQ 3541 663 3186 358 \r\nQ 2831 53 2163 6 \r\nL 2163 -941 \r\nz\r\nM 1850 2406 \r\nL 1850 3688 \r\nQ 1488 3647 1297 3481 \r\nQ 1106 3316 1106 3041 \r\nQ 1106 2772 1282 2622 \r\nQ 1459 2472 1850 2406 \r\nz\r\nM 2163 1806 \r\nL 2163 453 \r\nQ 2559 506 2761 678 \r\nQ 2963 850 2963 1131 \r\nQ 2963 1406 2770 1568 \r\nQ 2578 1731 2163 1806 \r\nz\r\n\" id=\"DejaVuSans-24\" transform=\"scale(0.015625)\"/>\r\n       <path d=\"M 513 4856 \r\nL 1013 4856 \r\nQ 1481 4119 1714 3412 \r\nQ 1947 2706 1947 2009 \r\nQ 1947 1309 1714 600 \r\nQ 1481 -109 1013 -844 \r\nL 513 -844 \r\nQ 928 -128 1133 580 \r\nQ 1338 1288 1338 2009 \r\nQ 1338 2731 1133 3434 \r\nQ 928 4138 513 4856 \r\nz\r\n\" id=\"DejaVuSans-29\" transform=\"scale(0.015625)\"/>\r\n      </defs>\r\n      <use xlink:href=\"#DejaVuSans-43\"/>\r\n      <use x=\"69.824219\" xlink:href=\"#DejaVuSans-6f\"/>\r\n      <use x=\"131.005859\" xlink:href=\"#DejaVuSans-74\"/>\r\n      <use x=\"170.214844\" xlink:href=\"#DejaVuSans-61\"/>\r\n      <use x=\"231.494141\" xlink:href=\"#DejaVuSans-e7\"/>\r\n      <use x=\"286.474609\" xlink:href=\"#DejaVuSans-e3\"/>\r\n      <use x=\"347.753906\" xlink:href=\"#DejaVuSans-6f\"/>\r\n      <use x=\"408.935547\" xlink:href=\"#DejaVuSans-20\"/>\r\n      <use x=\"440.722656\" xlink:href=\"#DejaVuSans-28\"/>\r\n      <use x=\"479.736328\" xlink:href=\"#DejaVuSans-52\"/>\r\n      <use x=\"549.21875\" xlink:href=\"#DejaVuSans-24\"/>\r\n      <use x=\"612.841797\" xlink:href=\"#DejaVuSans-29\"/>\r\n     </g>\r\n    </g>\r\n   </g>\r\n   <g id=\"line2d_13\">\r\n    <path clip-path=\"url(#p751e7aa2e9)\" d=\"M 91.349148 259.428188 \r\nL 93.018723 259.159254 \r\nL 93.575249 253.080903 \r\nL 94.131774 245.496407 \r\nL 94.688299 244.474378 \r\nL 95.244824 253.134676 \r\nL 96.9144 256.523491 \r\nL 97.470925 255.931805 \r\nL 98.02745 253.941544 \r\nL 98.583975 255.878009 \r\nL 99.140501 254.049135 \r\nL 100.810076 258.029635 \r\nL 101.366601 258.621321 \r\nL 101.923127 254.102931 \r\nL 102.479652 252.005079 \r\nL 103.036177 253.672588 \r\nL 104.705753 250.606526 \r\nL 105.262278 250.283774 \r\nL 105.818803 254.318069 \r\nL 106.375328 256.900037 \r\nL 106.931854 262.494262 \r\nL 108.601429 260.611581 \r\nL 109.157954 253.941544 \r\nL 109.71448 249.154177 \r\nL 110.271005 252.274035 \r\nL 110.82753 251.467167 \r\nL 112.497106 249.476928 \r\nL 113.610156 259.481984 \r\nL 114.166681 252.166444 \r\nL 114.723206 247.056346 \r\nL 117.505833 244.904721 \r\nL 118.062358 245.335042 \r\nL 118.618883 244.850925 \r\nL 120.288459 242.91446 \r\nL 120.844984 240.709039 \r\nL 121.401509 239.579442 \r\nL 121.958034 239.149121 \r\nL 122.514559 241.677272 \r\nL 124.184135 244.420605 \r\nL 124.74066 244.097853 \r\nL 125.297185 248.239739 \r\nL 125.853711 248.562469 \r\nL 126.410236 250.929277 \r\nL 128.079811 256.469695 \r\nL 128.636337 262.709433 \r\nL 129.192862 257.276563 \r\nL 129.749387 260.611581 \r\nL 130.305912 262.870798 \r\nL 131.975488 260.181261 \r\nL 133.088538 245.442633 \r\nL 133.645064 248.777651 \r\nL 134.201589 245.765362 \r\nL 135.871164 246.249479 \r\nL 136.42769 248.132148 \r\nL 136.984215 248.024579 \r\nL 138.097265 259.320619 \r\nL 140.879891 252.8867 \r\nL 141.436416 251.006444 \r\nL 143.662517 246.355039 \r\nL 144.219043 243.316297 \r\nL 144.775568 243.350901 \r\nL 145.332093 242.930241 \r\nL 145.888618 243.785921 \r\nL 147.558194 243.698014 \r\nL 148.671244 241.679703 \r\nL 149.227769 239.619065 \r\nL 149.784295 238.837692 \r\nL 151.45387 243.606599 \r\nL 152.566921 245.44101 \r\nL 153.123446 242.052027 \r\nL 153.679971 240.002329 \r\nL 155.349547 237.066437 \r\nL 155.906072 237.873162 \r\nL 156.462597 235.64552 \r\nL 157.019122 238.071421 \r\nL 159.245223 237.624932 \r\nL 159.801748 232.871383 \r\nL 160.358274 232.223656 \r\nL 160.914799 238.261401 \r\nL 161.471324 238.185724 \r\nL 163.1409 235.29709 \r\nL 163.697425 237.300061 \r\nL 164.25395 240.172735 \r\nL 164.810475 240.673243 \r\nL 165.367 238.427539 \r\nL 167.036576 235.986376 \r\nL 167.593101 239.913891 \r\nL 168.149626 242.077689 \r\nL 168.706152 244.751874 \r\nL 169.262677 248.245845 \r\nL 170.932252 252.73668 \r\nL 171.488778 250.6993 \r\nL 172.045303 257.010539 \r\nL 172.601828 255.262321 \r\nL 173.158353 254.557756 \r\nL 174.827929 260.361785 \r\nL 175.384454 260.154596 \r\nL 175.940979 256.098278 \r\nL 177.05403 260.971037 \r\nL 178.723605 263.10369 \r\nL 179.280131 262.564185 \r\nL 179.836656 264.309461 \r\nL 180.393181 261.040714 \r\nL 180.949706 260.530366 \r\nL 182.619282 262.826925 \r\nL 183.175807 262.962842 \r\nL 183.732332 260.311579 \r\nL 184.288857 262.628079 \r\nL 184.845383 258.835168 \r\nL 186.514958 259.804134 \r\nL 187.071484 259.538557 \r\nL 187.628009 257.480393 \r\nL 188.184534 256.815372 \r\nL 188.741059 257.74453 \r\nL 190.410635 254.974069 \r\nL 190.96716 257.738459 \r\nL 191.523685 259.367638 \r\nL 192.636736 256.3452 \r\nL 194.306311 257.909554 \r\nL 194.862836 261.222564 \r\nL 195.419362 262.242915 \r\nL 196.532412 263.607914 \r\nL 198.201988 260.398815 \r\nL 198.758513 257.798848 \r\nL 199.315038 256.054651 \r\nL 199.871563 255.165957 \r\nL 200.428089 255.700239 \r\nL 202.097664 256.793617 \r\nL 203.210715 261.162178 \r\nL 203.76724 263.239695 \r\nL 204.323765 269.955746 \r\nL 205.993341 270.653184 \r\nL 206.549866 268.698881 \r\nL 207.106391 268.255732 \r\nL 207.662916 266.428412 \r\nL 208.219441 268.686603 \r\nL 209.889017 267.192752 \r\nL 210.445542 271.232899 \r\nL 211.002067 274.194607 \r\nL 211.558593 273.124515 \r\nL 212.115118 273.591629 \r\nL 213.784694 278.357695 \r\nL 214.341219 277.123947 \r\nL 214.897744 276.192523 \r\nL 215.454269 281.184418 \r\nL 216.010794 283.529491 \r\nL 217.68037 285.162793 \r\nL 218.236895 287.165352 \r\nL 218.79342 287.004247 \r\nL 219.349946 289.268367 \r\nL 221.576046 291.670997 \r\nL 222.132572 292.86282 \r\nL 222.689097 293.687231 \r\nL 223.802147 286.258517 \r\nL 225.471723 287.275537 \r\nL 226.584773 294.098675 \r\nL 227.141299 292.885304 \r\nL 227.697824 291.33664 \r\nL 229.923925 294.242478 \r\nL 230.48045 293.500155 \r\nL 231.036975 293.352848 \r\nL 231.5935 293.938807 \r\nL 233.263076 294.012615 \r\nL 234.376126 289.748604 \r\nL 234.932651 284.579503 \r\nL 235.489177 283.257419 \r\nL 237.158752 289.328284 \r\nL 237.715277 293.203473 \r\nL 238.271803 293.608457 \r\nL 238.828328 296.297616 \r\nL 239.384853 297.348056 \r\nL 241.054429 299.498682 \r\nL 241.610954 302.171286 \r\nL 242.167479 303.664708 \r\nL 244.950105 296.499379 \r\nL 245.50663 293.509367 \r\nL 246.063156 292.337122 \r\nL 246.619681 287.563139 \r\nL 247.176206 285.930526 \r\nL 249.402307 286.915496 \r\nL 249.958832 292.32316 \r\nL 250.515357 294.211572 \r\nL 251.071882 293.476715 \r\nL 252.741458 295.130695 \r\nL 253.297983 297.990468 \r\nL 253.854509 299.905739 \r\nL 254.411034 300.750188 \r\nL 254.967559 299.590319 \r\nL 256.637135 300.301935 \r\nL 257.19366 301.397623 \r\nL 257.750185 301.981121 \r\nL 258.30671 299.209383 \r\nL 258.863235 302.305188 \r\nL 261.089336 303.784851 \r\nL 261.645861 299.268121 \r\nL 262.202387 299.148609 \r\nL 262.758912 297.812714 \r\nL 264.428487 299.20242 \r\nL 264.985013 302.223148 \r\nL 265.541538 303.207247 \r\nL 266.098063 300.803826 \r\nL 266.654588 299.801873 \r\nL 268.324164 300.552622 \r\nL 268.880689 299.864666 \r\nL 269.437214 296.227815 \r\nL 269.99374 294.696789 \r\nL 272.21984 290.004752 \r\nL 272.776366 289.800829 \r\nL 273.332891 292.747669 \r\nL 273.889416 297.427847 \r\nL 274.445941 296.956168 \r\nL 276.115517 298.695894 \r\nL 276.672042 302.366298 \r\nL 277.228567 303.909015 \r\nL 277.785092 302.638272 \r\nL 278.341618 299.971152 \r\nL 280.011193 301.941489 \r\nL 280.567719 302.403253 \r\nL 281.124244 304.088655 \r\nL 281.680769 300.904003 \r\nL 282.237294 303.183874 \r\nL 283.90687 304.153313 \r\nL 284.463395 306.530825 \r\nL 285.01992 306.85643 \r\nL 285.576445 306.282241 \r\nL 286.132971 307.749825 \r\nL 287.802546 310.439519 \r\nL 288.359071 313.46254 \r\nL 288.915597 313.6339 \r\nL 291.698223 313.520411 \r\nL 292.811273 314.678844 \r\nL 295.593899 316.181907 \r\nL 296.150424 317.674737 \r\nL 296.70695 317.779062 \r\nL 297.263475 318.105515 \r\nL 297.82 319.68991 \r\nL 299.489576 320.738963 \r\nL 300.046101 321.98639 \r\nL 301.159151 324.992383 \r\nL 301.715676 325.155181 \r\nL 303.385252 326.586207 \r\nL 304.498302 326.873894 \r\nL 305.054828 327.766432 \r\nL 305.611353 328.37123 \r\nL 307.837454 327.711141 \r\nL 308.393979 328.035225 \r\nL 308.950504 326.233262 \r\nL 309.507029 326.567253 \r\nL 311.73313 318.285695 \r\nL 312.289655 317.549928 \r\nL 312.846181 313.537846 \r\nL 313.402706 310.6506 \r\nL 316.185332 310.33354 \r\nL 316.741857 307.951875 \r\nL 317.298382 309.87999 \r\nL 318.967958 312.081361 \r\nL 319.524483 313.295067 \r\nL 320.081008 310.302082 \r\nL 321.194059 306.105473 \r\nL 322.863634 304.68255 \r\nL 323.42016 301.4098 \r\nL 323.976685 302.760881 \r\nL 325.089735 303.399511 \r\nL 326.759311 303.796144 \r\nL 327.315836 299.258878 \r\nL 328.428886 285.378226 \r\nL 328.985412 274.177327 \r\nL 330.654987 265.051643 \r\nL 331.211512 270.743843 \r\nL 331.768038 279.005855 \r\nL 332.324563 274.387534 \r\nL 332.881088 267.290791 \r\nL 334.550664 269.888198 \r\nL 335.107189 274.309723 \r\nL 335.663714 275.302888 \r\nL 336.220239 275.75973 \r\nL 336.776765 263.596183 \r\nL 338.44634 261.904926 \r\nL 339.559391 270.930725 \r\nL 340.115916 271.136014 \r\nL 342.342017 269.719869 \r\nL 342.898542 267.989669 \r\nL 344.011592 261.864631 \r\nL 344.568117 265.705414 \r\nL 346.237693 270.035612 \r\nL 346.794218 271.976235 \r\nL 347.350743 269.568135 \r\nL 347.907269 270.863673 \r\nL 348.463794 273.035883 \r\nL 350.13337 268.699182 \r\nL 350.689895 258.503413 \r\nL 351.24642 253.333711 \r\nL 351.802945 252.197643 \r\nL 352.35947 258.675056 \r\nL 354.029046 257.885943 \r\nL 354.585571 255.544007 \r\nL 355.142096 258.953835 \r\nL 356.255147 263.00547 \r\nL 357.924722 261.419705 \r\nL 358.481248 261.562232 \r\nL 359.037773 260.805133 \r\nL 359.594298 255.63681 \r\nL 360.150823 256.254828 \r\nL 361.820399 258.684229 \r\nL 362.376924 260.975972 \r\nL 362.933449 264.007989 \r\nL 363.489975 261.073458 \r\nL 364.0465 261.219307 \r\nL 365.716075 263.261866 \r\nL 366.272601 263.341882 \r\nL 366.829126 255.732263 \r\nL 367.385651 253.635403 \r\nL 367.942176 254.411315 \r\nL 369.611752 257.280817 \r\nL 370.168277 259.0644 \r\nL 370.724802 262.462139 \r\nL 371.837853 265.361005 \r\nL 373.507428 267.762558 \r\nL 374.063953 269.233632 \r\nL 374.620479 268.089753 \r\nL 375.733529 268.219506 \r\nL 377.95963 271.231384 \r\nL 378.516155 277.296187 \r\nL 379.07268 275.262668 \r\nL 379.629206 270.384973 \r\nL 381.298781 271.340861 \r\nL 381.855306 271.930019 \r\nL 382.411832 269.738916 \r\nL 382.968357 266.58137 \r\nL 383.524882 265.455469 \r\nL 385.194458 270.040295 \r\nL 385.750983 270.126581 \r\nL 386.307508 270.405205 \r\nL 386.864033 270.895639 \r\nL 387.420558 267.931152 \r\nL 389.090134 268.348897 \r\nL 389.646659 267.645746 \r\nL 390.203185 264.684612 \r\nL 390.75971 265.203174 \r\nL 391.316235 262.050099 \r\nL 392.985811 264.523317 \r\nL 393.542336 271.14064 \r\nL 394.098861 267.56212 \r\nL 394.655386 261.961878 \r\nL 395.211911 263.27475 \r\nL 396.881487 261.157212 \r\nL 397.438012 257.211052 \r\nL 397.994537 259.862606 \r\nL 398.551063 261.064065 \r\nL 399.107588 257.276054 \r\nL 400.777163 252.820186 \r\nL 401.333689 252.381287 \r\nL 401.890214 252.865138 \r\nL 402.446739 248.838591 \r\nL 403.003264 242.691519 \r\nL 404.67284 243.42019 \r\nL 405.229365 241.465565 \r\nL 405.78589 238.50053 \r\nL 406.342416 239.014107 \r\nL 406.898941 241.078333 \r\nL 409.125042 237.778999 \r\nL 409.681567 240.959251 \r\nL 410.238092 240.845222 \r\nL 410.794617 243.635778 \r\nL 412.464193 242.695619 \r\nL 413.020718 241.489901 \r\nL 413.577243 244.698775 \r\nL 414.133768 242.804663 \r\nL 414.690294 238.275212 \r\nL 416.359869 238.461754 \r\nL 416.916395 240.415266 \r\nL 417.47292 239.751774 \r\nL 418.029445 240.717497 \r\nL 418.58597 238.235235 \r\nL 420.255546 236.131085 \r\nL 420.812071 234.662963 \r\nL 421.368596 236.535981 \r\nL 421.925121 235.517583 \r\nL 422.481647 233.151346 \r\nL 424.151222 234.479505 \r\nL 424.707747 239.608576 \r\nL 425.264273 240.757625 \r\nL 425.820798 240.222379 \r\nL 426.377323 240.853034 \r\nL 428.046899 240.91581 \r\nL 428.603424 237.014716 \r\nL 429.159949 235.267532 \r\nL 429.716474 238.070856 \r\nL 430.273 238.740851 \r\nL 431.942575 232.885398 \r\nL 432.4991 232.006849 \r\nL 433.612151 232.561331 \r\nL 434.168676 229.153862 \r\nL 435.838252 236.742353 \r\nL 436.394777 240.525326 \r\nL 436.951302 242.18311 \r\nL 437.507827 244.256641 \r\nL 438.064352 240.714643 \r\nL 439.733928 242.148638 \r\nL 440.290453 243.03629 \r\nL 440.846978 239.722684 \r\nL 441.960029 235.281609 \r\nL 443.629605 232.596908 \r\nL 444.18613 233.513437 \r\nL 444.742655 231.771952 \r\nL 445.29918 228.706612 \r\nL 445.855705 231.11188 \r\nL 447.525281 232.8468 \r\nL 448.081806 228.771509 \r\nL 448.638331 227.780168 \r\nL 449.194857 228.626429 \r\nL 449.751382 225.415036 \r\nL 451.420957 223.515146 \r\nL 451.977483 224.050462 \r\nL 453.090533 224.569147 \r\nL 453.647058 224.016246 \r\nL 455.316634 222.782781 \r\nL 456.429684 215.505695 \r\nL 456.98621 215.62939 \r\nL 457.542735 213.57446 \r\nL 459.21231 212.946492 \r\nL 459.768836 215.77311 \r\nL 460.325361 217.592596 \r\nL 460.881886 217.092547 \r\nL 461.438411 215.709123 \r\nL 463.107987 215.531604 \r\nL 463.664512 210.818041 \r\nL 464.777562 214.312578 \r\nL 465.334088 221.703312 \r\nL 467.003663 219.487034 \r\nL 467.560188 211.467545 \r\nL 468.116714 213.467802 \r\nL 468.673239 220.330422 \r\nL 469.229764 234.030479 \r\nL 470.89934 239.555565 \r\nL 472.01239 234.278285 \r\nL 472.568915 232.28477 \r\nL 473.125441 239.294168 \r\nL 474.795016 236.035729 \r\nL 475.351541 233.142978 \r\nL 475.908067 233.351753 \r\nL 477.021117 231.871347 \r\nL 478.690693 231.797146 \r\nL 479.247218 229.772808 \r\nL 479.803743 234.235878 \r\nL 480.360268 232.941325 \r\nL 480.916793 240.196912 \r\nL 482.586369 241.416442 \r\nL 483.142894 239.06232 \r\nL 483.69942 237.236278 \r\nL 484.255945 238.840529 \r\nL 484.81247 239.45594 \r\nL 486.482046 238.143643 \r\nL 487.038571 243.743673 \r\nL 487.595096 244.693579 \r\nL 488.151621 244.894507 \r\nL 488.708146 245.498254 \r\nL 490.377722 246.402014 \r\nL 490.934247 249.697081 \r\nL 491.490772 247.942005 \r\nL 492.047298 247.611983 \r\nL 492.603823 250.376514 \r\nL 494.273398 247.982778 \r\nL 494.829924 244.090874 \r\nL 495.386449 245.541889 \r\nL 495.942974 241.50404 \r\nL 498.169075 237.05965 \r\nL 498.7256 237.287203 \r\nL 499.282125 231.909831 \r\nL 499.838651 230.273105 \r\nL 500.395176 229.09896 \r\nL 502.064751 227.980053 \r\nL 502.621277 226.664151 \r\nL 503.177802 226.514228 \r\nL 503.734327 225.751165 \r\nL 504.290852 222.246113 \r\nL 505.960428 222.48731 \r\nL 506.516953 222.182622 \r\nL 507.073478 217.396342 \r\nL 507.630003 218.189936 \r\nL 508.186529 219.662742 \r\nL 509.856104 218.538118 \r\nL 510.41263 214.864692 \r\nL 511.52568 215.954809 \r\nL 512.082205 213.655457 \r\nL 513.751781 210.435697 \r\nL 514.308306 213.662368 \r\nL 514.864831 213.822718 \r\nL 515.421356 211.650587 \r\nL 515.977882 218.165264 \r\nL 517.647457 218.092291 \r\nL 518.203982 216.195034 \r\nL 518.760508 219.473266 \r\nL 519.317033 218.726268 \r\nL 519.873558 214.544399 \r\nL 521.543134 213.35669 \r\nL 522.099659 212.680279 \r\nL 522.656184 211.753508 \r\nL 523.212709 208.87433 \r\nL 523.769234 209.222777 \r\nL 525.43881 209.321076 \r\nL 526.551861 203.151373 \r\nL 527.108386 203.006213 \r\nL 527.664911 204.77252 \r\nL 530.447537 206.078137 \r\nL 531.004062 205.65699 \r\nL 531.560587 208.02799 \r\nL 533.786688 205.394594 \r\nL 534.899739 213.418891 \r\nL 535.456264 213.557494 \r\nL 537.125839 214.544558 \r\nL 537.682365 213.182351 \r\nL 538.23889 213.850014 \r\nL 538.795415 212.575131 \r\nL 539.35194 212.712382 \r\nL 541.021516 219.370973 \r\nL 541.578041 218.095242 \r\nL 542.134566 219.715117 \r\nL 542.691092 222.651848 \r\nL 543.247617 220.381383 \r\nL 544.917192 217.795326 \r\nL 545.473718 217.640976 \r\nL 546.030243 215.925966 \r\nL 546.586768 211.447415 \r\nL 547.143293 210.998026 \r\nL 548.812869 212.710288 \r\nL 549.925919 208.618941 \r\nL 550.482444 213.803215 \r\nL 551.03897 216.849026 \r\nL 552.708545 213.341827 \r\nL 553.265071 213.031359 \r\nL 553.821596 216.194062 \r\nL 554.378121 215.908629 \r\nL 556.604222 220.991643 \r\nL 557.160747 214.140219 \r\nL 557.717272 214.047257 \r\nL 558.273797 217.940822 \r\nL 560.499898 218.363868 \r\nL 561.056423 215.211169 \r\nL 561.612949 215.001422 \r\nL 562.169474 212.742648 \r\nL 562.725999 207.31891 \r\nL 564.9521 205.475397 \r\nL 565.508625 200.508682 \r\nL 566.06515 198.900145 \r\nL 566.621676 203.91585 \r\nL 568.291251 202.457421 \r\nL 568.847776 199.421507 \r\nL 569.404302 201.457253 \r\nL 569.960827 199.938753 \r\nL 570.517352 195.655359 \r\nL 572.186928 194.405325 \r\nL 572.743453 194.810079 \r\nL 573.299978 192.583144 \r\nL 573.856503 196.022592 \r\nL 574.413028 224.276707 \r\nL 576.082604 228.314574 \r\nL 576.639129 221.304046 \r\nL 577.195654 230.965157 \r\nL 577.75218 229.442326 \r\nL 578.308705 226.313627 \r\nL 579.978281 227.478414 \r\nL 580.534806 227.258125 \r\nL 581.091331 222.662337 \r\nL 581.647856 228.006599 \r\nL 582.204381 229.397162 \r\nL 583.873957 229.641611 \r\nL 584.430482 230.451588 \r\nL 584.987007 229.428718 \r\nL 585.543533 227.624758 \r\nL 586.100058 229.087446 \r\nL 587.769633 232.434454 \r\nL 588.326159 235.105079 \r\nL 588.882684 236.300219 \r\nL 589.995734 233.464509 \r\nL 591.66531 235.249982 \r\nL 592.221835 232.17668 \r\nL 592.77836 235.655081 \r\nL 593.334886 237.941231 \r\nL 593.891411 234.451007 \r\nL 595.560986 234.97404 \r\nL 596.117512 230.962497 \r\nL 596.674037 230.507533 \r\nL 597.230562 227.497466 \r\nL 597.787087 225.395905 \r\nL 599.456663 223.994826 \r\nL 600.569713 219.587365 \r\nL 601.126238 220.759124 \r\nL 601.682764 224.191345 \r\nL 603.352339 223.695281 \r\nL 603.908864 221.077703 \r\nL 604.46539 219.500368 \r\nL 605.57844 212.440452 \r\nL 607.248016 210.366108 \r\nL 607.804541 210.715819 \r\nL 608.361066 208.8308 \r\nL 608.917591 210.094186 \r\nL 609.474117 212.162256 \r\nL 611.143692 211.90799 \r\nL 612.256743 209.0283 \r\nL 612.813268 210.732635 \r\nL 613.369793 209.977304 \r\nL 615.039369 208.698029 \r\nL 615.595894 207.608425 \r\nL 616.152419 205.443956 \r\nL 616.708944 201.944798 \r\nL 617.265469 201.21512 \r\nL 618.935045 200.02407 \r\nL 619.49157 197.491581 \r\nL 620.048096 195.607252 \r\nL 620.604621 196.162044 \r\nL 621.161146 196.55364 \r\nL 622.830722 195.366179 \r\nL 623.387247 191.737007 \r\nL 623.943772 190.867762 \r\nL 624.500297 190.314923 \r\nL 625.056822 191.761414 \r\nL 626.726398 187.954457 \r\nL 627.282923 187.144118 \r\nL 628.952499 176.944616 \r\nL 630.622074 177.108659 \r\nL 631.1786 178.277555 \r\nL 631.735125 176.897958 \r\nL 632.29165 176.959497 \r\nL 632.848175 181.007924 \r\nL 634.517751 177.625569 \r\nL 635.074276 173.560493 \r\nL 635.630801 177.185644 \r\nL 636.743852 178.939368 \r\nL 638.413427 174.609935 \r\nL 638.969953 168.340802 \r\nL 639.526478 169.136897 \r\nL 640.083003 167.720539 \r\nL 640.639528 164.906806 \r\nL 642.309104 163.569536 \r\nL 642.865629 163.535427 \r\nL 643.422154 159.549015 \r\nL 643.978679 159.954052 \r\nL 644.535205 162.385335 \r\nL 646.20478 161.044372 \r\nL 646.761306 162.360275 \r\nL 647.317831 166.428196 \r\nL 648.430881 167.652426 \r\nL 650.100457 167.631059 \r\nL 650.656982 166.586884 \r\nL 651.213507 158.412303 \r\nL 651.770032 157.862415 \r\nL 652.326558 158.749333 \r\nL 653.996133 158.371513 \r\nL 654.552658 156.125676 \r\nL 655.109184 156.319746 \r\nL 656.222234 157.748228 \r\nL 657.89181 157.128159 \r\nL 658.448335 156.74152 \r\nL 659.00486 159.00503 \r\nL 659.561385 158.997537 \r\nL 660.117911 159.186801 \r\nL 661.787486 160.289492 \r\nL 662.344011 162.849048 \r\nL 662.900537 161.654862 \r\nL 663.457062 160.890014 \r\nL 664.013587 162.69704 \r\nL 665.683163 164.733236 \r\nL 666.239688 166.841946 \r\nL 667.909263 175.543616 \r\nL 669.578839 175.089553 \r\nL 670.135364 175.767749 \r\nL 670.691889 183.684689 \r\nL 671.248415 180.96671 \r\nL 671.80494 183.755489 \r\nL 673.474516 188.698575 \r\nL 674.031041 185.500411 \r\nL 674.587566 191.140577 \r\nL 675.144091 191.060066 \r\nL 675.700616 185.177325 \r\nL 677.926717 184.557716 \r\nL 678.483242 178.68208 \r\nL 679.039768 176.886241 \r\nL 679.596293 176.851619 \r\nL 681.265868 177.770313 \r\nL 681.822394 178.802506 \r\nL 682.378919 179.222035 \r\nL 683.491969 187.749924 \r\nL 685.161545 187.292379 \r\nL 685.71807 183.567515 \r\nL 686.274595 186.590377 \r\nL 686.83112 185.22598 \r\nL 687.387646 184.46836 \r\nL 689.057221 185.740149 \r\nL 689.613747 184.209145 \r\nL 690.170272 180.568035 \r\nL 690.726797 184.516961 \r\nL 691.283322 187.616384 \r\nL 693.509423 184.683939 \r\nL 694.065948 185.68264 \r\nL 694.622473 183.315246 \r\nL 695.178999 177.989303 \r\nL 697.405099 176.209388 \r\nL 697.961625 177.999731 \r\nL 698.51815 176.785061 \r\nL 699.074675 174.106705 \r\nL 701.300776 173.806647 \r\nL 701.857301 171.082146 \r\nL 702.413826 170.538161 \r\nL 702.970352 166.178206 \r\nL 704.639927 163.772709 \r\nL 705.196452 162.459298 \r\nL 705.752978 165.344132 \r\nL 706.309503 166.472379 \r\nL 706.866028 164.216433 \r\nL 708.535604 164.052813 \r\nL 709.648654 160.267524 \r\nL 710.205179 156.542253 \r\nL 710.761704 154.262077 \r\nL 712.43128 153.291087 \r\nL 712.987805 150.293357 \r\nL 713.54433 148.112858 \r\nL 714.657381 137.004329 \r\nL 716.326957 133.672908 \r\nL 716.883482 139.159236 \r\nL 717.440007 137.209445 \r\nL 717.996532 132.870203 \r\nL 718.553057 137.81898 \r\nL 720.222633 150.359172 \r\nL 720.779158 141.142607 \r\nL 721.335683 137.83243 \r\nL 721.892209 151.364307 \r\nL 722.448734 151.426729 \r\nL 725.787885 143.612665 \r\nL 726.34441 146.234803 \r\nL 728.013986 148.883521 \r\nL 728.570511 142.566811 \r\nL 729.127036 138.751442 \r\nL 729.683562 141.401609 \r\nL 730.240087 140.39241 \r\nL 731.909662 135.383261 \r\nL 732.466188 136.214932 \r\nL 733.022713 140.993373 \r\nL 733.579238 141.319057 \r\nL 734.135763 139.877109 \r\nL 736.361864 141.568216 \r\nL 736.918389 139.688216 \r\nL 737.474914 141.516433 \r\nL 738.03144 145.434502 \r\nL 739.701015 142.130263 \r\nL 740.25754 139.577281 \r\nL 740.814066 142.029348 \r\nL 741.370591 143.59987 \r\nL 741.927116 142.974217 \r\nL 743.596692 144.811553 \r\nL 744.153217 147.755751 \r\nL 744.709742 145.557543 \r\nL 745.266267 144.749643 \r\nL 745.822793 147.341294 \r\nL 747.492368 146.339376 \r\nL 748.048893 143.59022 \r\nL 748.605419 145.758984 \r\nL 749.161944 147.080471 \r\nL 751.388045 141.741485 \r\nL 751.94457 142.070385 \r\nL 752.501095 142.730024 \r\nL 753.05762 142.618364 \r\nL 753.614145 140.382265 \r\nL 755.283721 143.734187 \r\nL 755.840246 147.479976 \r\nL 756.953297 143.252695 \r\nL 757.509822 146.014098 \r\nL 759.179398 151.610655 \r\nL 760.848973 148.866943 \r\nL 761.405498 149.783658 \r\nL 763.075074 147.951218 \r\nL 763.631599 148.052627 \r\nL 764.188124 149.154134 \r\nL 764.74465 148.271812 \r\nL 765.301175 146.498259 \r\nL 766.97075 144.887654 \r\nL 768.083801 146.446105 \r\nL 768.640326 152.379268 \r\nL 769.196851 154.123465 \r\nL 770.866427 153.418212 \r\nL 771.422952 155.459462 \r\nL 771.979477 159.231443 \r\nL 772.536003 158.538632 \r\nL 773.092528 156.647905 \r\nL 774.762103 160.136034 \r\nL 775.318629 162.675991 \r\nL 775.875154 161.866305 \r\nL 776.431679 160.318653 \r\nL 776.988204 168.395607 \r\nL 778.65778 170.763072 \r\nL 779.214305 170.30422 \r\nL 779.77083 169.662943 \r\nL 780.327355 173.629207 \r\nL 780.883881 175.52331 \r\nL 782.553456 178.513512 \r\nL 783.109982 189.136882 \r\nL 783.666507 188.799313 \r\nL 784.779557 190.541425 \r\nL 786.449133 192.012516 \r\nL 787.005658 186.315663 \r\nL 788.118708 199.965731 \r\nL 788.675234 203.645254 \r\nL 790.901334 209.565454 \r\nL 791.45786 209.368891 \r\nL 792.014385 214.650403 \r\nL 792.57091 222.091781 \r\nL 794.240486 221.900882 \r\nL 794.797011 228.138769 \r\nL 795.353536 219.703594 \r\nL 795.910061 220.649355 \r\nL 796.466587 221.999305 \r\nL 798.136162 219.545109 \r\nL 798.692687 217.599373 \r\nL 799.805738 219.662088 \r\nL 800.362263 216.114222 \r\nL 802.031839 212.30541 \r\nL 802.588364 212.207933 \r\nL 803.144889 203.965724 \r\nL 803.701414 198.613015 \r\nL 804.257939 196.763555 \r\nL 806.48404 192.824809 \r\nL 807.040565 194.94581 \r\nL 807.597091 199.438704 \r\nL 808.153616 192.829086 \r\nL 809.823192 185.562197 \r\nL 810.379717 186.336465 \r\nL 810.936242 181.176881 \r\nL 811.492767 180.553313 \r\nL 812.049292 182.905508 \r\nL 813.718868 174.866357 \r\nL 814.275393 175.355749 \r\nL 814.831918 172.891311 \r\nL 815.388444 165.493913 \r\nL 815.944969 171.215527 \r\nL 817.614544 172.955359 \r\nL 818.17107 165.670735 \r\nL 818.727595 170.139487 \r\nL 819.28412 173.306669 \r\nL 819.840645 168.859921 \r\nL 821.510221 160.095775 \r\nL 822.066746 163.891827 \r\nL 822.623271 166.632517 \r\nL 823.179797 167.611336 \r\nL 823.736322 170.694499 \r\nL 825.405897 177.974723 \r\nL 825.962423 177.366283 \r\nL 826.518948 173.95885 \r\nL 827.075473 180.394235 \r\nL 827.631998 184.307532 \r\nL 829.301574 183.967745 \r\nL 830.414624 192.92727 \r\nL 830.971149 189.311945 \r\nL 831.527675 192.597433 \r\nL 833.19725 194.652398 \r\nL 833.753775 186.690355 \r\nL 834.310301 187.714666 \r\nL 834.866826 186.37144 \r\nL 835.423351 192.486709 \r\nL 837.092927 192.914191 \r\nL 837.649452 191.31078 \r\nL 838.205977 197.034655 \r\nL 838.762502 198.17902 \r\nL 840.988603 191.884049 \r\nL 841.545128 192.49339 \r\nL 842.101654 197.355081 \r\nL 842.658179 196.506682 \r\nL 843.214704 197.609003 \r\nL 844.88428 197.803188 \r\nL 845.99733 190.190433 \r\nL 846.553855 189.668751 \r\nL 848.779956 184.757548 \r\nL 849.893007 189.6497 \r\nL 850.449532 189.068407 \r\nL 851.006057 185.965484 \r\nL 852.675633 190.040041 \r\nL 853.232158 191.947107 \r\nL 853.788683 181.733838 \r\nL 854.345208 174.843682 \r\nL 854.901733 174.662266 \r\nL 856.571309 169.225034 \r\nL 857.127834 156.885946 \r\nL 858.240885 159.223473 \r\nL 861.023511 158.853058 \r\nL 861.580036 153.160181 \r\nL 862.136561 150.338883 \r\nL 862.693086 156.499802 \r\nL 864.362662 155.862237 \r\nL 864.919187 149.233682 \r\nL 865.475712 151.671805 \r\nL 866.032238 160.142202 \r\nL 866.588763 148.943044 \r\nL 868.258338 146.10068 \r\nL 868.814864 158.600276 \r\nL 869.927914 141.533364 \r\nL 872.154015 139.305554 \r\nL 872.71054 140.34448 \r\nL 873.267065 131.797627 \r\nL 873.82359 134.839135 \r\nL 874.380116 152.31013 \r\nL 876.606216 135.788121 \r\nL 877.162742 146.996293 \r\nL 878.275792 150.123339 \r\nL 879.945368 134.706585 \r\nL 881.058418 135.748356 \r\nL 881.614943 148.572223 \r\nL 882.171469 136.977447 \r\nL 883.841044 134.7127 \r\nL 884.397569 143.022518 \r\nL 884.954095 144.616439 \r\nL 885.51062 132.976067 \r\nL 887.736721 144.380748 \r\nL 888.293246 135.004716 \r\nL 888.849771 134.520962 \r\nL 889.406296 138.212547 \r\nL 889.962821 146.01279 \r\nL 891.632397 133.366877 \r\nL 892.188922 135.951953 \r\nL 892.745448 143.731218 \r\nL 893.301973 136.789014 \r\nL 893.858498 135.087551 \r\nL 895.528074 136.004973 \r\nL 896.084599 144.835341 \r\nL 896.641124 133.222875 \r\nL 897.197649 135.716986 \r\nL 897.754174 139.653524 \r\nL 900.5368 136.496751 \r\nL 901.093326 134.776412 \r\nL 901.649851 136.540121 \r\nL 904.432477 135.721652 \r\nL 904.989002 131.26506 \r\nL 905.545527 135.083663 \r\nL 907.215103 134.585487 \r\nL 907.771628 128.525412 \r\nL 908.328153 131.625118 \r\nL 908.884679 133.646751 \r\nL 909.441204 137.304828 \r\nL 911.110779 128.89945 \r\nL 911.667305 132.933704 \r\nL 912.22383 135.842838 \r\nL 912.780355 134.532149 \r\nL 913.33688 128.643223 \r\nL 915.006456 132.079658 \r\nL 915.562981 132.851929 \r\nL 916.119506 133.302245 \r\nL 916.676031 128.370877 \r\nL 918.902132 135.852629 \r\nL 919.458658 134.240363 \r\nL 920.015183 133.042836 \r\nL 920.571708 136.521988 \r\nL 921.128233 136.674209 \r\nL 922.797809 135.048246 \r\nL 923.354334 133.58083 \r\nL 923.910859 148.23749 \r\nL 924.467384 139.869421 \r\nL 925.02391 135.931735 \r\nL 926.693485 143.232636 \r\nL 927.25001 146.733614 \r\nL 927.806536 141.652146 \r\nL 928.363061 138.358953 \r\nL 928.919586 150.020003 \r\nL 930.589162 151.756531 \r\nL 931.145687 145.424993 \r\nL 931.702212 149.027364 \r\nL 932.258737 147.217245 \r\nL 932.815263 147.771586 \r\nL 934.484838 146.932563 \r\nL 935.041363 142.557833 \r\nL 936.154414 147.151394 \r\nL 936.710939 142.821714 \r\nL 940.05009 136.599291 \r\nL 940.606615 139.980798 \r\nL 942.276191 142.530104 \r\nL 942.832716 138.840003 \r\nL 943.945767 146.162996 \r\nL 944.502292 147.427575 \r\nL 946.171868 138.087137 \r\nL 946.728393 142.407433 \r\nL 947.284918 144.757826 \r\nL 947.841443 134.785761 \r\nL 948.397968 132.666624 \r\nL 950.067544 134.681135 \r\nL 950.624069 136.369609 \r\nL 951.180594 131.228706 \r\nL 951.73712 131.59343 \r\nL 952.293645 132.594182 \r\nL 953.96322 132.222989 \r\nL 954.519746 132.888813 \r\nL 955.076271 132.554293 \r\nL 955.632796 131.071855 \r\nL 956.189321 130.738748 \r\nL 957.858897 133.691624 \r\nL 958.415422 133.695618 \r\nL 958.971947 130.855569 \r\nL 959.528473 130.658087 \r\nL 960.084998 131.097463 \r\nL 961.754573 130.701175 \r\nL 962.311099 129.937281 \r\nL 962.867624 130.994799 \r\nL 963.424149 131.552622 \r\nL 965.65025 130.627583 \r\nL 966.206775 131.367035 \r\nL 966.7633 133.196329 \r\nL 967.876351 130.577214 \r\nL 969.545926 132.892525 \r\nL 970.102451 133.304596 \r\nL 971.215502 131.178266 \r\nL 971.772027 131.149441 \r\nL 973.441603 133.637385 \r\nL 973.998128 132.597133 \r\nL 974.554653 130.507369 \r\nL 975.111178 131.028555 \r\nL 975.667704 133.458089 \r\nL 977.337279 131.921694 \r\nL 977.893804 130.883528 \r\nL 978.45033 131.173052 \r\nL 979.56338 133.949142 \r\nL 981.232956 132.789065 \r\nL 981.789481 132.579177 \r\nL 982.346006 131.765338 \r\nL 982.902531 131.517169 \r\nL 983.459056 130.79244 \r\nL 985.128632 130.68435 \r\nL 985.685157 131.248553 \r\nL 986.241683 131.611563 \r\nL 986.798208 130.790531 \r\nL 987.354733 132.967106 \r\nL 989.024309 135.81935 \r\nL 989.580834 132.463611 \r\nL 990.137359 130.538156 \r\nL 990.693884 133.230969 \r\nL 991.250409 134.346473 \r\nL 992.919985 132.285941 \r\nL 993.47651 132.90426 \r\nL 994.033035 134.064195 \r\nL 995.146086 130.401594 \r\nL 996.815661 130.468682 \r\nL 997.372187 131.356625 \r\nL 997.928712 134.338626 \r\nL 999.041762 133.350228 \r\nL 1000.711338 133.060068 \r\nL 1001.267863 139.448142 \r\nL 1001.824388 140.159758 \r\nL 1002.380914 133.026665 \r\nL 1002.937439 133.984913 \r\nL 1004.607014 144.165239 \r\nL 1005.16354 139.890982 \r\nL 1005.720065 132.119953 \r\nL 1006.27659 136.893481 \r\nL 1006.833115 149.879748 \r\nL 1008.502691 144.20253 \r\nL 1009.615741 132.672563 \r\nL 1010.172266 146.241872 \r\nL 1010.728792 150.3228 \r\nL 1012.398367 138.243882 \r\nL 1012.954893 132.470769 \r\nL 1013.511418 148.369474 \r\nL 1014.067943 148.717427 \r\nL 1014.624468 134.848148 \r\nL 1016.294044 143.231169 \r\nL 1016.850569 149.741702 \r\nL 1017.407094 146.787606 \r\nL 1017.963619 134.129198 \r\nL 1018.520145 146.333049 \r\nL 1020.18972 144.098929 \r\nL 1020.746245 136.35441 \r\nL 1021.302771 140.598481 \r\nL 1021.859296 139.292705 \r\nL 1022.415821 134.191584 \r\nL 1024.085397 129.92673 \r\nL 1024.641922 135.104076 \r\nL 1025.198447 133.060633 \r\nL 1025.754972 132.678572 \r\nL 1026.311498 131.860368 \r\nL 1027.981073 131.894459 \r\nL 1028.537598 131.204405 \r\nL 1029.094124 131.246043 \r\nL 1029.650649 131.916056 \r\nL 1030.207174 133.36283 \r\nL 1031.87675 133.130549 \r\nL 1032.433275 133.706735 \r\nL 1032.9898 135.095911 \r\nL 1033.546325 133.694823 \r\nL 1034.10285 134.708529 \r\nL 1035.772426 136.446488 \r\nL 1036.328951 136.856527 \r\nL 1036.885476 136.296512 \r\nL 1037.442002 136.763406 \r\nL 1037.998527 134.750167 \r\nL 1039.668102 133.558349 \r\nL 1040.224628 132.888566 \r\nL 1040.781153 132.557262 \r\nL 1041.337678 132.925503 \r\nL 1041.894203 131.893806 \r\nL 1043.563779 130.776286 \r\nL 1044.120304 132.690749 \r\nL 1044.676829 130.464529 \r\nL 1045.233355 129.205517 \r\nL 1045.78988 130.77823 \r\nL 1047.459455 131.459961 \r\nL 1048.015981 131.015424 \r\nL 1048.572506 129.839812 \r\nL 1049.129031 133.161018 \r\nL 1051.355132 129.701589 \r\nL 1051.911657 130.687973 \r\nL 1052.468182 132.375262 \r\nL 1053.024707 131.53304 \r\nL 1053.581233 130.196849 \r\nL 1055.250808 133.046035 \r\nL 1055.807334 132.472713 \r\nL 1056.363859 130.533932 \r\nL 1056.920384 129.937935 \r\nL 1057.476909 131.186802 \r\nL 1059.146485 131.516798 \r\nL 1059.70301 131.196788 \r\nL 1060.259535 131.885499 \r\nL 1061.372586 131.313361 \r\nL 1063.042161 131.677838 \r\nL 1063.598686 131.975456 \r\nL 1064.711737 131.888928 \r\nL 1065.268262 132.171948 \r\nL 1066.937838 130.379856 \r\nL 1067.494363 128.849082 \r\nL 1068.050888 133.843243 \r\nL 1068.607413 133.661173 \r\nL 1069.163939 129.789196 \r\nL 1070.833514 129.942742 \r\nL 1071.390039 142.553397 \r\nL 1072.50309 128.651618 \r\nL 1073.059615 132.064724 \r\nL 1074.729191 137.966924 \r\nL 1075.285716 133.731513 \r\nL 1075.842241 127.890569 \r\nL 1076.398766 141.856185 \r\nL 1076.955291 136.272936 \r\nL 1078.624867 134.546058 \r\nL 1079.181392 130.863575 \r\nL 1079.737917 138.185401 \r\nL 1080.294443 138.190862 \r\nL 1082.520544 130.508182 \r\nL 1083.077069 135.261492 \r\nL 1084.190119 136.005821 \r\nL 1084.746644 135.638252 \r\nL 1086.41622 130.28981 \r\nL 1086.972745 134.510694 \r\nL 1087.52927 135.954798 \r\nL 1088.085796 133.138184 \r\nL 1088.642321 131.922101 \r\nL 1090.311896 134.254572 \r\nL 1090.868422 133.810389 \r\nL 1091.424947 130.803839 \r\nL 1091.981472 133.086507 \r\nL 1092.537997 133.485535 \r\nL 1094.207573 131.65055 \r\nL 1094.764098 130.551217 \r\nL 1095.320623 133.436121 \r\nL 1095.877149 133.088451 \r\nL 1096.433674 131.738104 \r\nL 1098.103249 132.310224 \r\nL 1098.659775 134.000624 \r\nL 1099.2163 133.10008 \r\nL 1099.772825 131.662639 \r\nL 1100.32935 139.900738 \r\nL 1101.998926 136.352324 \r\nL 1103.668501 131.847608 \r\nL 1104.225027 141.271587 \r\nL 1105.894602 144.244734 \r\nL 1105.894602 144.244734 \r\n\" style=\"fill:none;stroke:#ff0000;stroke-linecap:square;stroke-width:1.5;\"/>\r\n   </g>\r\n   <g id=\"line2d_14\">\r\n    <path clip-path=\"url(#p751e7aa2e9)\" d=\"M 91.349148 259.428188 \r\nL 93.018723 259.159254 \r\nL 93.575249 253.080903 \r\nL 94.131774 245.496407 \r\nL 94.688299 244.474378 \r\nL 95.244824 253.134676 \r\nL 96.9144 256.523491 \r\nL 97.470925 255.931805 \r\nL 98.02745 253.941544 \r\nL 98.583975 255.878009 \r\nL 99.140501 254.049135 \r\nL 100.810076 258.029635 \r\nL 101.366601 258.621321 \r\nL 101.923127 254.102931 \r\nL 102.479652 252.005079 \r\nL 103.036177 253.672588 \r\nL 104.705753 250.606526 \r\nL 105.262278 250.283774 \r\nL 105.818803 254.318069 \r\nL 106.375328 256.900037 \r\nL 106.931854 262.494262 \r\nL 108.601429 260.611581 \r\nL 109.157954 253.941544 \r\nL 109.71448 249.154177 \r\nL 110.271005 252.274035 \r\nL 110.82753 251.467167 \r\nL 112.497106 249.476928 \r\nL 113.610156 259.481984 \r\nL 114.166681 252.166444 \r\nL 114.723206 247.056346 \r\nL 117.505833 244.904721 \r\nL 118.062358 245.335042 \r\nL 118.618883 244.850925 \r\nL 120.288459 242.91446 \r\nL 120.844984 240.709039 \r\nL 121.401509 239.579442 \r\nL 121.958034 239.149121 \r\nL 122.514559 241.677272 \r\nL 124.184135 244.420605 \r\nL 124.74066 244.097853 \r\nL 125.297185 248.239739 \r\nL 125.853711 248.562469 \r\nL 126.410236 250.929277 \r\nL 128.079811 256.469695 \r\nL 128.636337 262.709433 \r\nL 129.192862 257.276563 \r\nL 129.749387 260.611581 \r\nL 130.305912 262.870798 \r\nL 131.975488 260.181261 \r\nL 133.088538 245.442633 \r\nL 133.645064 248.777651 \r\nL 134.201589 245.765362 \r\nL 135.871164 246.249479 \r\nL 136.42769 248.132148 \r\nL 136.984215 248.024579 \r\nL 138.097265 259.320619 \r\nL 139.766841 255.447689 \r\nL 140.323366 253.188472 \r\nL 140.879891 246.991779 \r\nL 141.436416 245.055335 \r\nL 143.662517 243.11887 \r\nL 144.219043 242.021524 \r\nL 144.775568 242.086092 \r\nL 145.332093 245.700817 \r\nL 145.888618 244.926222 \r\nL 147.558194 244.409832 \r\nL 148.114719 241.634248 \r\nL 148.671244 239.439578 \r\nL 149.227769 239.375032 \r\nL 149.784295 245.442633 \r\nL 151.45387 246.539957 \r\nL 152.566921 244.926222 \r\nL 153.679971 234.146571 \r\nL 155.349547 238.084069 \r\nL 155.906072 234.146571 \r\nL 156.462597 240.40781 \r\nL 157.019122 236.212128 \r\nL 159.245223 235.179371 \r\nL 159.801748 234.469323 \r\nL 160.358274 239.633237 \r\nL 160.914799 240.40781 \r\nL 161.471324 239.633237 \r\nL 163.1409 240.278718 \r\nL 164.25395 244.345287 \r\nL 164.810475 239.762329 \r\nL 165.367 236.212128 \r\nL 167.593101 243.312508 \r\nL 168.149626 248.992812 \r\nL 168.706152 251.316574 \r\nL 169.262677 256.738651 \r\nL 170.932252 254.802207 \r\nL 171.488778 261.579814 \r\nL 172.045303 254.931299 \r\nL 172.601828 257.125948 \r\nL 173.158353 261.902565 \r\nL 174.827929 262.999901 \r\nL 175.384454 256.93231 \r\nL 175.940979 261.967111 \r\nL 177.05403 265.840042 \r\nL 178.723605 266.03369 \r\nL 179.280131 267.066469 \r\nL 179.836656 260.611581 \r\nL 180.393181 260.869787 \r\nL 180.949706 264.484512 \r\nL 182.619282 265.19455 \r\nL 183.175807 261.192538 \r\nL 183.732332 265.065447 \r\nL 184.288857 258.352365 \r\nL 184.845383 262.096225 \r\nL 186.514958 260.353398 \r\nL 187.628009 258.029635 \r\nL 188.184534 258.675116 \r\nL 188.741059 255.964078 \r\nL 190.410635 260.998879 \r\nL 190.96716 260.417944 \r\nL 191.523685 260.998879 \r\nL 192.08021 257.384154 \r\nL 192.636736 259.514257 \r\nL 194.306311 263.128993 \r\nL 194.862836 264.742717 \r\nL 195.419362 267.518312 \r\nL 196.532412 259.9661 \r\nL 198.758513 255.57678 \r\nL 199.871563 257.384154 \r\nL 200.428089 257.900543 \r\nL 202.097664 261.515268 \r\nL 203.210715 266.098236 \r\nL 203.76724 272.9404 \r\nL 204.323765 271.391243 \r\nL 205.993341 269.002934 \r\nL 207.106391 265.710939 \r\nL 207.662916 270.293907 \r\nL 208.219441 266.550069 \r\nL 209.889017 274.102281 \r\nL 210.445542 275.780563 \r\nL 211.002067 276.49059 \r\nL 211.558593 275.780563 \r\nL 212.115118 280.492623 \r\nL 213.784694 278.362509 \r\nL 214.341219 275.586903 \r\nL 214.897744 283.268218 \r\nL 215.454269 287.076592 \r\nL 217.68037 290.562225 \r\nL 218.236895 287.463889 \r\nL 218.79342 292.17596 \r\nL 219.349946 293.01509 \r\nL 219.906471 294.69335 \r\nL 221.576046 295.338842 \r\nL 222.132572 297.985345 \r\nL 222.689097 288.496668 \r\nL 223.245622 284.107348 \r\nL 223.802147 289.206706 \r\nL 225.471723 295.145193 \r\nL 226.028248 299.405421 \r\nL 226.584773 296.88801 \r\nL 227.141299 293.208728 \r\nL 227.697824 299.599059 \r\nL 229.923925 296.242528 \r\nL 230.48045 294.499712 \r\nL 231.036975 297.72715 \r\nL 231.5935 299.340864 \r\nL 233.263076 292.885987 \r\nL 233.819601 289.981289 \r\nL 234.376126 284.236451 \r\nL 234.932651 284.688283 \r\nL 235.489177 293.337831 \r\nL 237.158752 297.985345 \r\nL 237.715277 297.40441 \r\nL 238.271803 302.374665 \r\nL 238.828328 300.696383 \r\nL 239.384853 303.988378 \r\nL 241.054429 307.474012 \r\nL 241.610954 308.313141 \r\nL 242.167479 305.666649 \r\nL 242.724004 303.794741 \r\nL 243.28053 298.630826 \r\nL 245.50663 292.950533 \r\nL 246.063156 287.528435 \r\nL 246.619681 287.399343 \r\nL 247.176206 289.077603 \r\nL 249.402307 297.533502 \r\nL 249.958832 298.308086 \r\nL 250.515357 298.824475 \r\nL 251.071882 301.60007 \r\nL 252.741458 301.793729 \r\nL 253.297983 305.15026 \r\nL 253.854509 304.956611 \r\nL 254.411034 302.891054 \r\nL 254.967559 304.827508 \r\nL 256.637135 305.860298 \r\nL 257.19366 305.279362 \r\nL 257.750185 299.211761 \r\nL 258.30671 308.119504 \r\nL 258.863235 308.377698 \r\nL 261.089336 301.212783 \r\nL 261.645861 304.182016 \r\nL 262.202387 300.373643 \r\nL 262.758912 302.4392 \r\nL 264.428487 305.602103 \r\nL 264.985013 306.31213 \r\nL 265.541538 302.9556 \r\nL 266.098063 303.020146 \r\nL 266.654588 305.085703 \r\nL 268.324164 303.923833 \r\nL 268.880689 298.695372 \r\nL 269.437214 297.533502 \r\nL 269.99374 292.885987 \r\nL 272.21984 294.370609 \r\nL 272.776366 295.403388 \r\nL 273.332891 302.632859 \r\nL 273.889416 299.534513 \r\nL 274.445941 304.827508 \r\nL 276.672042 308.377698 \r\nL 277.228567 308.571336 \r\nL 277.785092 302.632859 \r\nL 278.341618 304.569314 \r\nL 280.011193 305.98939 \r\nL 280.567719 309.02319 \r\nL 281.124244 302.245562 \r\nL 281.680769 308.377698 \r\nL 282.237294 309.539579 \r\nL 283.90687 311.927888 \r\nL 284.463395 309.86232 \r\nL 285.01992 308.700439 \r\nL 285.576445 311.346942 \r\nL 286.132971 317.091781 \r\nL 287.802546 320.771073 \r\nL 288.915597 318.705505 \r\nL 291.698223 317.479078 \r\nL 292.254748 316.833586 \r\nL 292.811273 319.480089 \r\nL 295.593899 321.287463 \r\nL 296.150424 320.964711 \r\nL 296.70695 322.707528 \r\nL 297.82 327.484145 \r\nL 299.489576 330.776129 \r\nL 300.046101 331.421621 \r\nL 300.602626 333.035346 \r\nL 301.159151 329.678805 \r\nL 301.715676 332.583492 \r\nL 303.385252 333.551735 \r\nL 303.941777 332.77714 \r\nL 304.498302 332.518946 \r\nL 305.054828 334.13267 \r\nL 305.611353 331.873465 \r\nL 307.837454 333.164438 \r\nL 308.393979 331.808919 \r\nL 308.950504 331.615259 \r\nL 309.507029 326.774107 \r\nL 311.176605 323.740306 \r\nL 311.73313 328.710561 \r\nL 312.846181 316.575392 \r\nL 313.402706 317.866376 \r\nL 316.185332 316.446289 \r\nL 316.741857 319.738284 \r\nL 317.298382 319.350987 \r\nL 318.967958 319.350987 \r\nL 319.524483 314.897132 \r\nL 320.081008 313.477056 \r\nL 320.637534 316.123548 \r\nL 321.194059 315.607159 \r\nL 322.863634 308.894087 \r\nL 323.42016 310.185071 \r\nL 323.976685 310.443255 \r\nL 324.53321 310.830553 \r\nL 325.089735 310.443255 \r\nL 326.759311 306.183049 \r\nL 327.315836 302.310108 \r\nL 327.872361 299.340864 \r\nL 328.428886 286.4311 \r\nL 328.985412 270.164816 \r\nL 330.654987 275.070514 \r\nL 331.211512 274.231384 \r\nL 331.768038 281.912699 \r\nL 332.324563 277.071525 \r\nL 332.881088 271.133048 \r\nL 334.550664 272.230373 \r\nL 335.107189 281.267207 \r\nL 335.663714 284.881943 \r\nL 336.220239 264.161782 \r\nL 336.776765 266.550069 \r\nL 338.44634 263.580836 \r\nL 339.002865 265.452744 \r\nL 339.559391 271.26214 \r\nL 340.115916 274.425022 \r\nL 342.342017 266.162793 \r\nL 342.898542 263.064436 \r\nL 343.455067 262.806241 \r\nL 344.011592 269.261129 \r\nL 344.568117 265.775496 \r\nL 346.237693 273.134059 \r\nL 346.794218 272.359465 \r\nL 347.350743 276.877887 \r\nL 347.907269 275.586903 \r\nL 348.463794 267.001923 \r\nL 350.13337 264.032679 \r\nL 350.689895 255.57678 \r\nL 351.24642 236.741453 \r\nL 351.802945 258.675116 \r\nL 352.35947 257.835997 \r\nL 354.029046 258.894581 \r\nL 354.585571 258.468565 \r\nL 355.142096 258.61057 \r\nL 356.255147 262.515774 \r\nL 357.924722 266.704999 \r\nL 359.037773 253.853334 \r\nL 359.594298 257.758538 \r\nL 360.150823 260.030646 \r\nL 361.820399 263.651839 \r\nL 362.376924 267.557042 \r\nL 362.933449 260.030646 \r\nL 363.489975 264.645888 \r\nL 364.0465 263.793844 \r\nL 365.716075 262.657779 \r\nL 366.272601 254.847372 \r\nL 366.829126 253.00128 \r\nL 367.385651 248.883079 \r\nL 367.942176 256.764478 \r\nL 369.611752 260.030646 \r\nL 370.168277 265.994961 \r\nL 370.724802 265.21392 \r\nL 371.281327 268.906105 \r\nL 371.837853 270.82321 \r\nL 373.507428 270.32618 \r\nL 374.063953 269.829161 \r\nL 374.620479 270.539189 \r\nL 375.733529 273.024327 \r\nL 377.403105 273.521346 \r\nL 377.95963 282.041791 \r\nL 378.516155 279.059633 \r\nL 379.07268 273.876359 \r\nL 379.629206 273.024327 \r\nL 381.298781 274.018376 \r\nL 381.855306 271.81727 \r\nL 382.411832 266.420977 \r\nL 382.968357 266.136966 \r\nL 383.524882 273.237335 \r\nL 385.194458 270.397183 \r\nL 385.750983 273.805357 \r\nL 386.307508 273.521346 \r\nL 386.864033 270.965216 \r\nL 387.420558 272.030267 \r\nL 389.090134 269.190126 \r\nL 389.646659 267.131015 \r\nL 390.203185 267.486029 \r\nL 390.75971 263.083806 \r\nL 391.316235 267.557042 \r\nL 392.985811 274.515406 \r\nL 394.098861 266.136966 \r\nL 394.655386 265.142917 \r\nL 395.211911 262.018765 \r\nL 396.881487 261.37973 \r\nL 397.994537 261.450722 \r\nL 398.551063 260.740673 \r\nL 399.107588 255.699426 \r\nL 400.777163 253.569323 \r\nL 401.333689 255.131405 \r\nL 401.890214 250.942169 \r\nL 402.446739 242.989757 \r\nL 403.003264 242.989757 \r\nL 404.67284 238.800564 \r\nL 405.229365 239.581583 \r\nL 405.78589 237.806504 \r\nL 406.342416 239.368586 \r\nL 406.898941 238.019502 \r\nL 408.568516 238.658537 \r\nL 409.125042 240.291632 \r\nL 409.681567 239.581583 \r\nL 410.238092 248.67006 \r\nL 410.794617 242.56374 \r\nL 412.464193 242.279729 \r\nL 413.020718 244.906862 \r\nL 413.577243 240.291632 \r\nL 414.133768 238.090515 \r\nL 414.690294 236.812445 \r\nL 416.359869 238.871556 \r\nL 416.916395 239.936607 \r\nL 417.47292 242.847751 \r\nL 418.029445 236.883458 \r\nL 418.58597 236.599426 \r\nL 420.255546 233.546276 \r\nL 420.812071 236.741453 \r\nL 421.368596 234.398309 \r\nL 421.925121 233.830287 \r\nL 422.481647 235.037366 \r\nL 425.264273 244.267827 \r\nL 425.820798 243.344781 \r\nL 426.377323 240.575643 \r\nL 428.046899 236.883458 \r\nL 428.603424 236.244423 \r\nL 429.159949 237.593485 \r\nL 429.716474 239.652596 \r\nL 430.273 233.830287 \r\nL 431.942575 233.12026 \r\nL 432.4991 230.919144 \r\nL 433.612151 228.078992 \r\nL 434.168676 240.007621 \r\nL 435.838252 239.297572 \r\nL 436.394777 247.818006 \r\nL 436.951302 246.184933 \r\nL 437.507827 240.78864 \r\nL 438.064352 244.480846 \r\nL 439.733928 243.415794 \r\nL 440.290453 241.214678 \r\nL 441.403504 233.262266 \r\nL 441.960029 232.836228 \r\nL 443.629605 235.463382 \r\nL 444.18613 231.132141 \r\nL 444.742655 229.854092 \r\nL 445.29918 233.404271 \r\nL 445.855705 233.262266 \r\nL 447.525281 232.410233 \r\nL 448.081806 229.499068 \r\nL 448.638331 227.794981 \r\nL 449.194857 227.794981 \r\nL 449.751382 224.74181 \r\nL 451.420957 224.812824 \r\nL 451.977483 225.593864 \r\nL 453.090533 225.309853 \r\nL 453.647058 223.534753 \r\nL 455.316634 219.132541 \r\nL 455.873159 213.665257 \r\nL 456.429684 215.29833 \r\nL 456.98621 211.96117 \r\nL 457.542735 214.162286 \r\nL 459.21231 216.363381 \r\nL 460.325361 218.351479 \r\nL 460.881886 214.588281 \r\nL 461.438411 213.736249 \r\nL 463.107987 206.493863 \r\nL 463.664512 213.452238 \r\nL 464.777562 219.061528 \r\nL 465.334088 219.061528 \r\nL 467.003663 211.251121 \r\nL 467.560188 211.393126 \r\nL 468.116714 217.783457 \r\nL 468.673239 237.94851 \r\nL 469.229764 237.593485 \r\nL 470.89934 236.102396 \r\nL 472.01239 232.978255 \r\nL 472.568915 239.581583 \r\nL 473.125441 236.031404 \r\nL 474.795016 234.824347 \r\nL 475.351541 233.404271 \r\nL 475.908067 232.481225 \r\nL 476.464592 234.469323 \r\nL 477.021117 233.475285 \r\nL 478.690693 230.848152 \r\nL 479.247218 237.593485 \r\nL 479.803743 232.694222 \r\nL 480.360268 244.480846 \r\nL 480.916793 241.427675 \r\nL 482.586369 242.492727 \r\nL 483.142894 238.161507 \r\nL 483.69942 239.439578 \r\nL 484.255945 241.569702 \r\nL 484.81247 238.871556 \r\nL 486.482046 247.39199 \r\nL 487.038571 246.610949 \r\nL 487.595096 248.954071 \r\nL 488.151621 248.315036 \r\nL 488.708146 249.380087 \r\nL 490.377722 253.640315 \r\nL 490.934247 249.522093 \r\nL 491.490772 251.155188 \r\nL 492.047298 253.99534 \r\nL 492.603823 250.019123 \r\nL 494.273398 246.468944 \r\nL 494.829924 248.386049 \r\nL 495.386449 241.356683 \r\nL 495.942974 238.019502 \r\nL 498.169075 239.439578 \r\nL 498.7256 230.919144 \r\nL 499.282125 232.268206 \r\nL 499.838651 229.925084 \r\nL 500.395176 228.576021 \r\nL 502.621277 228.292011 \r\nL 503.177802 226.658916 \r\nL 503.734327 221.546655 \r\nL 504.290852 223.321756 \r\nL 505.960428 222.895718 \r\nL 506.516953 216.5764 \r\nL 507.073478 218.848509 \r\nL 507.630003 219.061528 \r\nL 508.186529 220.126579 \r\nL 509.856104 215.014319 \r\nL 510.41263 215.866373 \r\nL 511.52568 210.754091 \r\nL 512.082205 210.044064 \r\nL 513.751781 214.162286 \r\nL 514.308306 211.748151 \r\nL 514.864831 213.665257 \r\nL 515.421356 222.39871 \r\nL 515.977882 217.002417 \r\nL 517.647457 221.688661 \r\nL 518.203982 222.043685 \r\nL 518.760508 217.925463 \r\nL 519.317033 216.5764 \r\nL 519.873558 213.168227 \r\nL 521.543134 212.529192 \r\nL 522.099659 213.949267 \r\nL 522.656184 208.979013 \r\nL 523.212709 209.760032 \r\nL 523.769234 210.257061 \r\nL 525.43881 209.334037 \r\nL 525.995335 202.730687 \r\nL 526.551861 201.168606 \r\nL 527.108386 204.86079 \r\nL 527.664911 206.63589 \r\nL 530.447537 208.765994 \r\nL 531.004062 209.618026 \r\nL 531.560587 204.079749 \r\nL 533.230163 206.422872 \r\nL 533.786688 209.618026 \r\nL 534.343213 213.594243 \r\nL 534.899739 215.653354 \r\nL 535.456264 216.931425 \r\nL 537.125839 214.091273 \r\nL 537.682365 216.008379 \r\nL 538.23889 211.96117 \r\nL 538.795415 213.0262 \r\nL 539.35194 220.126579 \r\nL 541.021516 216.150362 \r\nL 541.578041 222.895718 \r\nL 542.134566 222.043685 \r\nL 542.691092 221.830666 \r\nL 543.247617 218.635512 \r\nL 544.917192 216.718406 \r\nL 545.473718 215.440335 \r\nL 546.030243 210.683099 \r\nL 546.586768 212.174167 \r\nL 547.143293 214.020259 \r\nL 548.812869 212.884194 \r\nL 549.369394 211.251121 \r\nL 549.925919 216.008379 \r\nL 550.482444 218.422493 \r\nL 553.265071 215.937365 \r\nL 553.821596 218.209474 \r\nL 554.378121 225.096834 \r\nL 556.604222 215.29833 \r\nL 557.160747 216.647392 \r\nL 557.717272 218.919522 \r\nL 558.273797 222.824726 \r\nL 560.499898 218.777517 \r\nL 561.056423 216.718406 \r\nL 561.612949 212.884194 \r\nL 562.169474 206.138861 \r\nL 562.725999 206.706882 \r\nL 564.9521 200.323646 \r\nL 565.508625 200.636058 \r\nL 566.06515 204.228871 \r\nL 566.621676 203.916438 \r\nL 568.291251 204.072655 \r\nL 568.847776 201.963836 \r\nL 569.404302 198.371066 \r\nL 569.960827 196.887072 \r\nL 570.517352 194.387754 \r\nL 572.186928 193.997234 \r\nL 572.743453 193.606714 \r\nL 573.299978 198.527261 \r\nL 573.856503 230.706125 \r\nL 574.413028 227.191442 \r\nL 576.082604 233.361659 \r\nL 576.639129 231.955794 \r\nL 577.195654 229.534564 \r\nL 577.75218 231.018558 \r\nL 578.308705 226.097989 \r\nL 579.978281 226.097989 \r\nL 580.534806 224.848341 \r\nL 581.091331 228.987826 \r\nL 581.647856 230.159409 \r\nL 582.204381 233.28355 \r\nL 583.873957 233.439767 \r\nL 584.430482 230.628038 \r\nL 584.987007 227.191442 \r\nL 585.543533 230.471821 \r\nL 586.100058 234.845632 \r\nL 587.769633 238.204119 \r\nL 588.326159 239.844309 \r\nL 588.882684 231.955794 \r\nL 589.995734 232.971138 \r\nL 591.66531 232.424423 \r\nL 592.221835 237.34497 \r\nL 592.77836 238.516531 \r\nL 593.334886 235.939106 \r\nL 593.891411 237.657382 \r\nL 595.560986 228.363003 \r\nL 596.117512 230.784233 \r\nL 596.674037 228.987826 \r\nL 597.230562 227.972482 \r\nL 597.787087 224.067279 \r\nL 600.569713 223.442455 \r\nL 601.126238 226.644726 \r\nL 601.682764 226.410401 \r\nL 603.352339 223.989192 \r\nL 603.908864 220.162097 \r\nL 604.46539 214.226183 \r\nL 605.021915 212.195473 \r\nL 605.57844 211.96117 \r\nL 607.248016 213.52323 \r\nL 607.804541 210.633392 \r\nL 608.361066 213.52323 \r\nL 609.474117 215.241528 \r\nL 611.143692 213.288926 \r\nL 611.700217 209.539939 \r\nL 612.256743 211.570649 \r\nL 612.813268 211.883061 \r\nL 613.369793 211.570649 \r\nL 615.039369 208.134053 \r\nL 616.152419 202.120053 \r\nL 616.708944 202.198161 \r\nL 617.265469 201.963836 \r\nL 618.935045 199.152085 \r\nL 619.49157 196.57466 \r\nL 620.048096 196.418465 \r\nL 620.604621 198.761565 \r\nL 621.161146 196.57466 \r\nL 622.830722 191.654112 \r\nL 623.387247 191.029267 \r\nL 623.943772 191.029267 \r\nL 624.500297 193.138085 \r\nL 625.056822 187.983212 \r\nL 626.726398 188.061321 \r\nL 627.282923 182.281624 \r\nL 627.839448 179.938502 \r\nL 628.395974 179.079353 \r\nL 628.952499 178.845049 \r\nL 630.622074 182.906469 \r\nL 631.1786 178.454529 \r\nL 631.735125 181.110063 \r\nL 632.29165 181.6568 \r\nL 632.848175 176.189515 \r\nL 634.517751 176.423819 \r\nL 635.074276 180.250914 \r\nL 635.630801 176.267602 \r\nL 636.743852 178.37642 \r\nL 638.413427 168.144805 \r\nL 638.969953 168.535304 \r\nL 639.526478 167.363743 \r\nL 640.083003 169.472561 \r\nL 640.639528 163.614756 \r\nL 642.865629 160.334376 \r\nL 643.422154 161.974566 \r\nL 643.978679 161.896458 \r\nL 644.535205 162.599412 \r\nL 646.20478 167.363743 \r\nL 646.761306 167.676154 \r\nL 647.874356 174.002588 \r\nL 648.430881 170.175493 \r\nL 650.100457 167.441851 \r\nL 650.656982 155.726241 \r\nL 651.213507 157.600756 \r\nL 651.770032 157.36643 \r\nL 652.326558 160.334376 \r\nL 653.996133 160.490593 \r\nL 654.552658 154.007964 \r\nL 655.109184 155.726241 \r\nL 656.222234 157.913168 \r\nL 657.89181 158.694208 \r\nL 658.448335 159.397141 \r\nL 660.117911 163.224236 \r\nL 661.787486 165.87977 \r\nL 662.344011 162.130783 \r\nL 662.900537 161.271634 \r\nL 663.457062 163.849081 \r\nL 664.013587 164.395797 \r\nL 665.683163 169.394453 \r\nL 666.239688 173.065352 \r\nL 666.796213 181.500583 \r\nL 667.909263 179.001244 \r\nL 669.578839 179.001244 \r\nL 670.135364 188.139429 \r\nL 670.691889 178.845049 \r\nL 671.248415 188.451841 \r\nL 671.80494 188.217537 \r\nL 673.474516 186.967868 \r\nL 674.031041 192.435153 \r\nL 674.587566 192.435153 \r\nL 675.144091 185.874415 \r\nL 675.700616 181.344388 \r\nL 677.926717 175.330366 \r\nL 678.483242 178.37642 \r\nL 679.596293 182.672144 \r\nL 681.265868 183.062665 \r\nL 681.822394 182.281624 \r\nL 682.378919 187.28028 \r\nL 682.935444 188.92047 \r\nL 683.491969 189.545294 \r\nL 685.161545 185.327678 \r\nL 685.71807 187.983212 \r\nL 686.274595 185.327678 \r\nL 686.83112 187.202172 \r\nL 687.387646 186.499239 \r\nL 689.057221 186.499239 \r\nL 689.613747 181.422475 \r\nL 690.170272 185.874415 \r\nL 690.726797 187.905125 \r\nL 691.283322 188.92047 \r\nL 692.952898 186.88976 \r\nL 693.509423 188.529949 \r\nL 694.065948 186.186827 \r\nL 694.622473 178.610746 \r\nL 695.178999 177.829683 \r\nL 697.405099 183.765597 \r\nL 697.961625 183.453185 \r\nL 698.51815 179.547981 \r\nL 699.074675 179.547981 \r\nL 701.300776 173.690176 \r\nL 701.857301 172.596724 \r\nL 702.413826 168.144805 \r\nL 702.970352 166.582723 \r\nL 704.639927 166.66081 \r\nL 705.752978 172.128095 \r\nL 706.309503 166.66081 \r\nL 706.866028 166.66081 \r\nL 708.535604 164.708209 \r\nL 709.092129 162.833715 \r\nL 709.648654 155.804349 \r\nL 710.205179 156.116783 \r\nL 710.761704 154.086051 \r\nL 712.987805 148.774983 \r\nL 713.54433 133.076082 \r\nL 714.100856 133.076082 \r\nL 714.657381 122.141513 \r\nL 716.326957 131.514001 \r\nL 717.440007 125.656196 \r\nL 718.553057 143.854435 \r\nL 720.222633 148.696896 \r\nL 720.779158 141.66753 \r\nL 721.892209 149.868436 \r\nL 722.448734 153.226923 \r\nL 725.787885 141.355096 \r\nL 726.34441 141.901834 \r\nL 728.013986 143.385807 \r\nL 728.570511 134.247644 \r\nL 729.683562 130.73296 \r\nL 730.240087 127.843101 \r\nL 731.909662 127.843101 \r\nL 732.466188 131.279676 \r\nL 733.022713 141.120793 \r\nL 734.135763 137.60611 \r\nL 736.361864 135.028663 \r\nL 736.918389 140.495947 \r\nL 737.474914 144.479259 \r\nL 738.03144 138.074739 \r\nL 739.701015 135.653508 \r\nL 740.25754 140.105449 \r\nL 740.814066 141.745617 \r\nL 741.370591 146.119449 \r\nL 741.927116 145.338408 \r\nL 743.596692 148.384463 \r\nL 744.153217 148.696896 \r\nL 745.266267 145.416517 \r\nL 745.822793 143.385807 \r\nL 747.492368 141.66753 \r\nL 748.048893 145.338408 \r\nL 748.605419 143.385807 \r\nL 749.161944 135.419205 \r\nL 751.388045 138.246573 \r\nL 751.94457 134.98181 \r\nL 752.501095 137.645175 \r\nL 753.05762 136.700109 \r\nL 753.614145 137.645175 \r\nL 755.283721 149.243612 \r\nL 755.840246 146.752103 \r\nL 756.396772 139.793037 \r\nL 757.509822 151.821059 \r\nL 759.179398 158.178727 \r\nL 759.735923 154.570319 \r\nL 760.292448 144.861971 \r\nL 760.848973 145.377473 \r\nL 761.405498 149.58728 \r\nL 763.075074 149.673197 \r\nL 763.631599 149.157695 \r\nL 764.188124 145.549286 \r\nL 764.74465 145.549286 \r\nL 765.301175 142.284545 \r\nL 766.97075 146.923937 \r\nL 768.083801 154.570319 \r\nL 768.640326 160.670236 \r\nL 769.196851 160.412485 \r\nL 770.866427 162.989932 \r\nL 771.422952 164.450479 \r\nL 771.979477 162.2167 \r\nL 772.536003 156.546346 \r\nL 773.092528 161.701219 \r\nL 775.318629 167.371573 \r\nL 775.875154 162.904015 \r\nL 776.431679 174.588369 \r\nL 776.988204 173.385573 \r\nL 778.65778 177.251733 \r\nL 779.214305 169.605352 \r\nL 779.77083 176.822148 \r\nL 780.327355 176.392584 \r\nL 780.883881 181.719269 \r\nL 782.553456 192.802247 \r\nL 783.109982 191.771264 \r\nL 783.666507 193.317728 \r\nL 784.779557 187.217811 \r\nL 786.449133 184.72628 \r\nL 787.005658 197.183888 \r\nL 788.118708 205.603501 \r\nL 788.675234 207.665446 \r\nL 790.344809 212.133004 \r\nL 790.901334 212.734402 \r\nL 791.45786 217.459689 \r\nL 792.014385 226.652535 \r\nL 792.57091 222.786375 \r\nL 794.240486 229.917275 \r\nL 794.797011 218.834319 \r\nL 795.353536 214.023115 \r\nL 795.910061 223.559607 \r\nL 796.466587 219.3498 \r\nL 798.136162 219.693468 \r\nL 798.692687 220.896264 \r\nL 799.249213 224.504673 \r\nL 799.805738 217.030126 \r\nL 800.362263 212.820319 \r\nL 802.031839 215.827308 \r\nL 802.588364 205.431667 \r\nL 803.144889 202.08101 \r\nL 803.701414 202.59649 \r\nL 804.257939 201.909175 \r\nL 807.040565 206.033065 \r\nL 807.597091 199.073999 \r\nL 808.153616 194.176877 \r\nL 809.823192 193.059977 \r\nL 810.379717 185.843181 \r\nL 810.936242 192.200849 \r\nL 811.492767 189.022004 \r\nL 812.049292 180.172827 \r\nL 813.718868 183.179816 \r\nL 814.275393 179.313678 \r\nL 814.831918 174.502473 \r\nL 815.388444 181.375623 \r\nL 815.944969 178.454529 \r\nL 817.614544 176.478501 \r\nL 818.17107 181.633374 \r\nL 818.727595 178.196778 \r\nL 819.28412 178.282695 \r\nL 819.840645 168.144805 \r\nL 821.510221 170.034915 \r\nL 822.066746 174.158805 \r\nL 822.623271 180.602391 \r\nL 823.179797 183.35165 \r\nL 823.736322 196.324739 \r\nL 825.405897 191.513534 \r\nL 825.962423 187.217811 \r\nL 826.518948 190.310717 \r\nL 827.075473 190.310717 \r\nL 827.631998 198.043015 \r\nL 829.301574 196.496573 \r\nL 829.858099 202.510573 \r\nL 830.414624 196.582468 \r\nL 830.971149 202.768324 \r\nL 833.19725 194.09096 \r\nL 833.753775 195.637424 \r\nL 834.310301 192.630413 \r\nL 834.866826 203.369722 \r\nL 835.423351 200.10496 \r\nL 837.092927 202.252822 \r\nL 837.649452 207.83728 \r\nL 838.205977 206.376733 \r\nL 838.762502 199.589479 \r\nL 840.988603 198.644435 \r\nL 841.545128 206.033065 \r\nL 842.101654 205.947148 \r\nL 842.658179 206.892214 \r\nL 843.214704 205.861231 \r\nL 845.440805 197.097971 \r\nL 845.99733 195.981071 \r\nL 846.553855 196.496573 \r\nL 847.11038 192.544496 \r\nL 848.779956 199.245833 \r\nL 849.336481 199.073999 \r\nL 849.893007 198.472601 \r\nL 850.449532 192.888164 \r\nL 851.006057 197.613452 \r\nL 852.675633 200.362711 \r\nL 853.232158 186.186827 \r\nL 853.788683 175.017954 \r\nL 854.345208 173.729241 \r\nL 854.901733 177.767214 \r\nL 856.571309 159.72517 \r\nL 857.127834 158.694208 \r\nL 857.684359 167.972971 \r\nL 858.240885 169.605352 \r\nL 860.466985 168.144805 \r\nL 861.023511 154.999882 \r\nL 861.580036 154.656236 \r\nL 862.136561 162.646264 \r\nL 862.693086 161.701219 \r\nL 864.919187 157.233661 \r\nL 865.475712 164.106811 \r\nL 866.032238 156.030866 \r\nL 866.588763 151.047827 \r\nL 868.258338 156.546346 \r\nL 868.814864 145.377473 \r\nL 869.371389 149.243612 \r\nL 869.927914 132.404385 \r\nL 872.154015 125.874882 \r\nL 872.71054 129.311457 \r\nL 873.82359 141.854981 \r\nL 874.380116 137.387424 \r\nL 876.049691 137.645175 \r\nL 876.606216 143.143694 \r\nL 877.162742 138.933888 \r\nL 878.275792 124.156606 \r\nL 879.945368 125.531236 \r\nL 881.058418 129.053727 \r\nL 881.614943 127.765014 \r\nL 882.171469 128.452329 \r\nL 883.841044 133.005783 \r\nL 884.397569 120.290446 \r\nL 884.954095 113.675026 \r\nL 885.51062 109.551136 \r\nL 886.067145 113.503213 \r\nL 887.736721 119.173567 \r\nL 888.293246 120.204529 \r\nL 888.849771 120.376363 \r\nL 889.406296 116.853871 \r\nL 889.962821 118.400335 \r\nL 891.632397 124.672086 \r\nL 892.188922 120.977761 \r\nL 892.745448 118.829899 \r\nL 893.301973 110.238451 \r\nL 893.858498 114.018694 \r\nL 895.528074 120.46228 \r\nL 896.084599 114.448258 \r\nL 896.641124 119.173567 \r\nL 897.197649 117.455269 \r\nL 897.754174 119.946799 \r\nL 900.5368 129.483291 \r\nL 901.093326 122.180556 \r\nL 901.649851 111.870832 \r\nL 904.989002 93.571059 \r\nL 905.545527 96.320318 \r\nL 907.215103 92.196429 \r\nL 907.771628 90.048567 \r\nL 908.328153 83.948628 \r\nL 908.884679 85.065528 \r\nL 909.441204 87.385224 \r\nL 911.110779 83.175396 \r\nL 911.667305 83.862711 \r\nL 912.22383 82.144434 \r\nL 912.780355 80.941617 \r\nL 913.33688 77.247313 \r\nL 915.562981 83.0895 \r\nL 916.119506 76.903644 \r\nL 916.676031 73.20934 \r\nL 918.902132 70.202329 \r\nL 919.458658 75.013512 \r\nL 920.015183 75.872683 \r\nL 920.571708 55.081401 \r\nL 921.128233 59.892583 \r\nL 922.797809 51.558887 \r\nL 923.354334 51.387053 \r\nL 923.910859 69.858661 \r\nL 924.467384 64.188307 \r\nL 925.02391 60.150335 \r\nL 926.693485 62.384092 \r\nL 927.25001 54.737732 \r\nL 927.806536 60.751754 \r\nL 928.363061 46.146285 \r\nL 928.919586 48.72371 \r\nL 930.589162 57.744743 \r\nL 931.145687 54.479981 \r\nL 931.702212 60.923545 \r\nL 932.258737 57.572909 \r\nL 932.815263 60.751754 \r\nL 934.484838 64.617893 \r\nL 935.041363 57.83066 \r\nL 935.597889 62.126384 \r\nL 936.154414 72.178335 \r\nL 936.710939 78.364191 \r\nL 940.05009 78.70786 \r\nL 942.276191 58.603871 \r\nL 942.832716 57.486992 \r\nL 943.389241 53.792644 \r\nL 943.945767 52.933517 \r\nL 944.502292 51.301136 \r\nL 946.171868 49.239213 \r\nL 946.728393 57.744743 \r\nL 947.284918 68.22628 \r\nL 947.841443 76.474059 \r\nL 948.397968 89.447169 \r\nL 950.067544 88.673937 \r\nL 950.624069 86.354241 \r\nL 951.180594 98.725931 \r\nL 951.73712 81.199368 \r\nL 952.293645 75.013512 \r\nL 953.96322 72.058069 \r\nL 955.076271 81.130626 \r\nL 955.632796 71.748793 \r\nL 956.189321 68.655865 \r\nL 957.858897 68.140363 \r\nL 958.415422 69.583735 \r\nL 959.528473 80.82135 \r\nL 960.084998 84.120462 \r\nL 961.754573 84.94524 \r\nL 962.311099 85.563813 \r\nL 962.867624 90.512502 \r\nL 963.424149 85.666926 \r\nL 965.65025 82.67709 \r\nL 966.206775 73.913808 \r\nL 966.7633 76.388185 \r\nL 967.319825 72.058069 \r\nL 967.876351 73.192122 \r\nL 969.545926 78.037698 \r\nL 970.102451 77.109828 \r\nL 971.215502 76.903644 \r\nL 971.772027 73.192122 \r\nL 973.441603 83.192592 \r\nL 973.998128 85.460721 \r\nL 974.554653 78.037698 \r\nL 975.111178 84.429737 \r\nL 975.667704 87.625779 \r\nL 977.337279 96.492152 \r\nL 977.893804 97.523114 \r\nL 979.006855 105.255412 \r\nL 979.56338 102.677987 \r\nL 981.232956 93.399224 \r\nL 981.789481 78.965611 \r\nL 982.346006 85.460721 \r\nL 982.902531 87.21339 \r\nL 983.459056 90.718685 \r\nL 985.128632 85.666926 \r\nL 985.685157 75.769591 \r\nL 986.798208 61.542139 \r\nL 987.354733 62.470009 \r\nL 989.024309 63.707198 \r\nL 989.580834 61.95455 \r\nL 990.137359 67.831087 \r\nL 990.693884 59.583308 \r\nL 991.250409 59.480173 \r\nL 992.919985 64.016473 \r\nL 993.47651 62.263825 \r\nL 994.589561 70.82088 \r\nL 995.146086 71.439474 \r\nL 996.815661 72.367344 \r\nL 997.372187 69.171368 \r\nL 999.041762 55.974878 \r\nL 1000.711338 52.881949 \r\nL 1001.267863 56.181061 \r\nL 1001.824388 51.335529 \r\nL 1002.937439 54.840824 \r\nL 1004.607014 55.974878 \r\nL 1005.16354 54.943916 \r\nL 1006.27659 41.128875 \r\nL 1006.833115 37.62358 \r\nL 1008.502691 39.479319 \r\nL 1009.615741 41.335059 \r\nL 1010.172266 44.737262 \r\nL 1010.728792 52.160307 \r\nL 1012.398367 53.809819 \r\nL 1012.954893 53.706771 \r\nL 1013.511418 55.768694 \r\nL 1014.067943 47.314688 \r\nL 1014.624468 56.284196 \r\nL 1016.294044 50.923118 \r\nL 1016.850569 49.582838 \r\nL 1017.407094 42.159836 \r\nL 1017.963619 65.562937 \r\nL 1018.520145 70.408513 \r\nL 1020.18972 71.233291 \r\nL 1021.302771 88.244352 \r\nL 1021.859296 91.33728 \r\nL 1022.415821 90.512502 \r\nL 1024.085397 96.90452 \r\nL 1024.641922 91.646555 \r\nL 1025.198447 84.223554 \r\nL 1025.754972 82.470906 \r\nL 1026.311498 88.450557 \r\nL 1027.981073 95.873558 \r\nL 1028.537598 92.368241 \r\nL 1029.094124 99.275762 \r\nL 1029.650649 101.647004 \r\nL 1030.207174 100.925318 \r\nL 1031.87675 105.874007 \r\nL 1032.433275 109.173118 \r\nL 1032.9898 102.574873 \r\nL 1033.546325 107.008082 \r\nL 1034.10285 114.32797 \r\nL 1035.772426 117.730195 \r\nL 1036.328951 113.606305 \r\nL 1036.885476 115.565158 \r\nL 1037.998527 104.224451 \r\nL 1039.668102 107.729746 \r\nL 1040.224628 113.4001 \r\nL 1040.781153 109.27621 \r\nL 1041.337678 101.543912 \r\nL 1041.894203 87.21339 \r\nL 1043.563779 82.67709 \r\nL 1044.120304 89.06913 \r\nL 1044.676829 90.615594 \r\nL 1045.78988 98.966486 \r\nL 1047.459455 103.502765 \r\nL 1048.015981 94.430208 \r\nL 1048.572506 93.399224 \r\nL 1049.129031 97.626206 \r\nL 1049.685556 91.543463 \r\nL 1051.355132 90.821799 \r\nL 1051.911657 95.358077 \r\nL 1052.468182 93.089927 \r\nL 1053.024707 88.038146 \r\nL 1053.581233 88.244352 \r\nL 1055.250808 94.224002 \r\nL 1055.807334 98.966486 \r\nL 1056.363859 112.47223 \r\nL 1056.920384 111.54436 \r\nL 1057.476909 108.142135 \r\nL 1059.146485 110.307193 \r\nL 1059.70301 110.616469 \r\nL 1060.259535 101.131523 \r\nL 1061.372586 93.296133 \r\nL 1063.042161 88.347443 \r\nL 1063.598686 85.460721 \r\nL 1064.155212 76.903644 \r\nL 1064.711737 83.0895 \r\nL 1065.268262 95.564261 \r\nL 1066.937838 93.089927 \r\nL 1067.494363 83.0895 \r\nL 1068.050888 79.996572 \r\nL 1068.607413 80.40894 \r\nL 1070.833514 62.366917 \r\nL 1071.390039 67.624904 \r\nL 1071.946565 65.872213 \r\nL 1072.50309 81.336831 \r\nL 1073.059615 84.429737 \r\nL 1074.729191 84.223554 \r\nL 1075.285716 79.377978 \r\nL 1075.842241 81.336831 \r\nL 1076.398766 80.40894 \r\nL 1076.955291 90.924891 \r\nL 1078.624867 91.749669 \r\nL 1079.737917 98.657189 \r\nL 1080.294443 100.100561 \r\nL 1083.077069 102.987262 \r\nL 1084.190119 101.028431 \r\nL 1084.746644 95.358077 \r\nL 1086.41622 97.110725 \r\nL 1086.972745 104.533726 \r\nL 1087.52927 98.863373 \r\nL 1088.085796 101.543912 \r\nL 1088.642321 99.894356 \r\nL 1090.311896 97.626206 \r\nL 1090.868422 96.595244 \r\nL 1091.424947 87.625779 \r\nL 1091.981472 86.182407 \r\nL 1092.537997 90.203205 \r\nL 1094.207573 87.21339 \r\nL 1094.764098 88.450557 \r\nL 1095.320623 90.512502 \r\nL 1095.877149 85.770018 \r\nL 1096.433674 85.151445 \r\nL 1098.103249 91.440371 \r\nL 1098.659775 84.94524 \r\nL 1099.2163 74.944813 \r\nL 1099.772825 68.140363 \r\nL 1100.32935 75.975775 \r\nL 1101.998926 73.707624 \r\nL 1103.668501 69.068232 \r\nL 1104.225027 70.511605 \r\nL 1105.894602 71.027107 \r\nL 1105.894602 71.027107 \r\n\" style=\"fill:none;stroke:#0000ff;stroke-linecap:square;stroke-width:1.5;\"/>\r\n   </g>\r\n   <g id=\"patch_3\">\r\n    <path d=\"M 40.621875 348.958125 \r\nL 40.621875 22.798125 \r\n\" style=\"fill:none;stroke:#000000;stroke-linecap:square;stroke-linejoin:miter;stroke-width:0.8;\"/>\r\n   </g>\r\n   <g id=\"patch_4\">\r\n    <path d=\"M 1156.621875 348.958125 \r\nL 1156.621875 22.798125 \r\n\" style=\"fill:none;stroke:#000000;stroke-linecap:square;stroke-linejoin:miter;stroke-width:0.8;\"/>\r\n   </g>\r\n   <g id=\"patch_5\">\r\n    <path d=\"M 40.621875 348.958125 \r\nL 1156.621875 348.958125 \r\n\" style=\"fill:none;stroke:#000000;stroke-linecap:square;stroke-linejoin:miter;stroke-width:0.8;\"/>\r\n   </g>\r\n   <g id=\"patch_6\">\r\n    <path d=\"M 40.621875 22.798125 \r\nL 1156.621875 22.798125 \r\n\" style=\"fill:none;stroke:#000000;stroke-linecap:square;stroke-linejoin:miter;stroke-width:0.8;\"/>\r\n   </g>\r\n   <g id=\"text_15\">\r\n    <!-- Previsão de série temporal -->\r\n    <g transform=\"translate(518.350313 16.798125)scale(0.12 -0.12)\">\r\n     <defs>\r\n      <path d=\"M 1259 4147 \r\nL 1259 2394 \r\nL 2053 2394 \r\nQ 2494 2394 2734 2622 \r\nQ 2975 2850 2975 3272 \r\nQ 2975 3691 2734 3919 \r\nQ 2494 4147 2053 4147 \r\nL 1259 4147 \r\nz\r\nM 628 4666 \r\nL 2053 4666 \r\nQ 2838 4666 3239 4311 \r\nQ 3641 3956 3641 3272 \r\nQ 3641 2581 3239 2228 \r\nQ 2838 1875 2053 1875 \r\nL 1259 1875 \r\nL 1259 0 \r\nL 628 0 \r\nL 628 4666 \r\nz\r\n\" id=\"DejaVuSans-50\" transform=\"scale(0.015625)\"/>\r\n      <path d=\"M 2631 2963 \r\nQ 2534 3019 2420 3045 \r\nQ 2306 3072 2169 3072 \r\nQ 1681 3072 1420 2755 \r\nQ 1159 2438 1159 1844 \r\nL 1159 0 \r\nL 581 0 \r\nL 581 3500 \r\nL 1159 3500 \r\nL 1159 2956 \r\nQ 1341 3275 1631 3429 \r\nQ 1922 3584 2338 3584 \r\nQ 2397 3584 2469 3576 \r\nQ 2541 3569 2628 3553 \r\nL 2631 2963 \r\nz\r\n\" id=\"DejaVuSans-72\" transform=\"scale(0.015625)\"/>\r\n      <path d=\"M 191 3500 \r\nL 800 3500 \r\nL 1894 563 \r\nL 2988 3500 \r\nL 3597 3500 \r\nL 2284 0 \r\nL 1503 0 \r\nL 191 3500 \r\nz\r\n\" id=\"DejaVuSans-76\" transform=\"scale(0.015625)\"/>\r\n      <path d=\"M 603 3500 \r\nL 1178 3500 \r\nL 1178 0 \r\nL 603 0 \r\nL 603 3500 \r\nz\r\nM 603 4863 \r\nL 1178 4863 \r\nL 1178 4134 \r\nL 603 4134 \r\nL 603 4863 \r\nz\r\n\" id=\"DejaVuSans-69\" transform=\"scale(0.015625)\"/>\r\n      <path d=\"M 2834 3397 \r\nL 2834 2853 \r\nQ 2591 2978 2328 3040 \r\nQ 2066 3103 1784 3103 \r\nQ 1356 3103 1142 2972 \r\nQ 928 2841 928 2578 \r\nQ 928 2378 1081 2264 \r\nQ 1234 2150 1697 2047 \r\nL 1894 2003 \r\nQ 2506 1872 2764 1633 \r\nQ 3022 1394 3022 966 \r\nQ 3022 478 2636 193 \r\nQ 2250 -91 1575 -91 \r\nQ 1294 -91 989 -36 \r\nQ 684 19 347 128 \r\nL 347 722 \r\nQ 666 556 975 473 \r\nQ 1284 391 1588 391 \r\nQ 1994 391 2212 530 \r\nQ 2431 669 2431 922 \r\nQ 2431 1156 2273 1281 \r\nQ 2116 1406 1581 1522 \r\nL 1381 1569 \r\nQ 847 1681 609 1914 \r\nQ 372 2147 372 2553 \r\nQ 372 3047 722 3315 \r\nQ 1072 3584 1716 3584 \r\nQ 2034 3584 2315 3537 \r\nQ 2597 3491 2834 3397 \r\nz\r\n\" id=\"DejaVuSans-73\" transform=\"scale(0.015625)\"/>\r\n      <path d=\"M 2906 2969 \r\nL 2906 4863 \r\nL 3481 4863 \r\nL 3481 0 \r\nL 2906 0 \r\nL 2906 525 \r\nQ 2725 213 2448 61 \r\nQ 2172 -91 1784 -91 \r\nQ 1150 -91 751 415 \r\nQ 353 922 353 1747 \r\nQ 353 2572 751 3078 \r\nQ 1150 3584 1784 3584 \r\nQ 2172 3584 2448 3432 \r\nQ 2725 3281 2906 2969 \r\nz\r\nM 947 1747 \r\nQ 947 1113 1208 752 \r\nQ 1469 391 1925 391 \r\nQ 2381 391 2643 752 \r\nQ 2906 1113 2906 1747 \r\nQ 2906 2381 2643 2742 \r\nQ 2381 3103 1925 3103 \r\nQ 1469 3103 1208 2742 \r\nQ 947 2381 947 1747 \r\nz\r\n\" id=\"DejaVuSans-64\" transform=\"scale(0.015625)\"/>\r\n      <path d=\"M 3597 1894 \r\nL 3597 1613 \r\nL 953 1613 \r\nQ 991 1019 1311 708 \r\nQ 1631 397 2203 397 \r\nQ 2534 397 2845 478 \r\nQ 3156 559 3463 722 \r\nL 3463 178 \r\nQ 3153 47 2828 -22 \r\nQ 2503 -91 2169 -91 \r\nQ 1331 -91 842 396 \r\nQ 353 884 353 1716 \r\nQ 353 2575 817 3079 \r\nQ 1281 3584 2069 3584 \r\nQ 2775 3584 3186 3129 \r\nQ 3597 2675 3597 1894 \r\nz\r\nM 3022 2063 \r\nQ 3016 2534 2758 2815 \r\nQ 2500 3097 2075 3097 \r\nQ 1594 3097 1305 2825 \r\nQ 1016 2553 972 2059 \r\nL 3022 2063 \r\nz\r\nM 2466 5119 \r\nL 3088 5119 \r\nL 2070 3944 \r\nL 1591 3944 \r\nL 2466 5119 \r\nz\r\n\" id=\"DejaVuSans-e9\" transform=\"scale(0.015625)\"/>\r\n      <path d=\"M 603 4863 \r\nL 1178 4863 \r\nL 1178 0 \r\nL 603 0 \r\nL 603 4863 \r\nz\r\n\" id=\"DejaVuSans-6c\" transform=\"scale(0.015625)\"/>\r\n     </defs>\r\n     <use xlink:href=\"#DejaVuSans-50\"/>\r\n     <use x=\"58.552734\" xlink:href=\"#DejaVuSans-72\"/>\r\n     <use x=\"97.416016\" xlink:href=\"#DejaVuSans-65\"/>\r\n     <use x=\"158.939453\" xlink:href=\"#DejaVuSans-76\"/>\r\n     <use x=\"218.119141\" xlink:href=\"#DejaVuSans-69\"/>\r\n     <use x=\"245.902344\" xlink:href=\"#DejaVuSans-73\"/>\r\n     <use x=\"298.001953\" xlink:href=\"#DejaVuSans-e3\"/>\r\n     <use x=\"359.28125\" xlink:href=\"#DejaVuSans-6f\"/>\r\n     <use x=\"420.462891\" xlink:href=\"#DejaVuSans-20\"/>\r\n     <use x=\"452.25\" xlink:href=\"#DejaVuSans-64\"/>\r\n     <use x=\"515.726562\" xlink:href=\"#DejaVuSans-65\"/>\r\n     <use x=\"577.25\" xlink:href=\"#DejaVuSans-20\"/>\r\n     <use x=\"609.037109\" xlink:href=\"#DejaVuSans-73\"/>\r\n     <use x=\"661.136719\" xlink:href=\"#DejaVuSans-e9\"/>\r\n     <use x=\"722.660156\" xlink:href=\"#DejaVuSans-72\"/>\r\n     <use x=\"763.773438\" xlink:href=\"#DejaVuSans-69\"/>\r\n     <use x=\"791.556641\" xlink:href=\"#DejaVuSans-65\"/>\r\n     <use x=\"853.080078\" xlink:href=\"#DejaVuSans-20\"/>\r\n     <use x=\"884.867188\" xlink:href=\"#DejaVuSans-74\"/>\r\n     <use x=\"924.076172\" xlink:href=\"#DejaVuSans-65\"/>\r\n     <use x=\"985.599609\" xlink:href=\"#DejaVuSans-6d\"/>\r\n     <use x=\"1083.011719\" xlink:href=\"#DejaVuSans-70\"/>\r\n     <use x=\"1146.488281\" xlink:href=\"#DejaVuSans-6f\"/>\r\n     <use x=\"1207.669922\" xlink:href=\"#DejaVuSans-72\"/>\r\n     <use x=\"1248.783203\" xlink:href=\"#DejaVuSans-61\"/>\r\n     <use x=\"1310.0625\" xlink:href=\"#DejaVuSans-6c\"/>\r\n    </g>\r\n   </g>\r\n   <g id=\"legend_1\">\r\n    <g id=\"patch_7\">\r\n     <path d=\"M 1077.782813 60.154375 \r\nL 1149.621875 60.154375 \r\nQ 1151.621875 60.154375 1151.621875 58.154375 \r\nL 1151.621875 29.798125 \r\nQ 1151.621875 27.798125 1149.621875 27.798125 \r\nL 1077.782813 27.798125 \r\nQ 1075.782813 27.798125 1075.782813 29.798125 \r\nL 1075.782813 58.154375 \r\nQ 1075.782813 60.154375 1077.782813 60.154375 \r\nz\r\n\" style=\"fill:#ffffff;opacity:0.8;stroke:#cccccc;stroke-linejoin:miter;\"/>\r\n    </g>\r\n    <g id=\"line2d_15\">\r\n     <path d=\"M 1079.782813 35.896562 \r\nL 1099.782813 35.896562 \r\n\" style=\"fill:none;stroke:#ff0000;stroke-linecap:square;stroke-width:1.5;\"/>\r\n    </g>\r\n    <g id=\"line2d_16\"/>\r\n    <g id=\"text_16\">\r\n     <!-- Previsto -->\r\n     <g transform=\"translate(1107.782813 39.396562)scale(0.1 -0.1)\">\r\n      <use xlink:href=\"#DejaVuSans-50\"/>\r\n      <use x=\"58.552734\" xlink:href=\"#DejaVuSans-72\"/>\r\n      <use x=\"97.416016\" xlink:href=\"#DejaVuSans-65\"/>\r\n      <use x=\"158.939453\" xlink:href=\"#DejaVuSans-76\"/>\r\n      <use x=\"218.119141\" xlink:href=\"#DejaVuSans-69\"/>\r\n      <use x=\"245.902344\" xlink:href=\"#DejaVuSans-73\"/>\r\n      <use x=\"298.001953\" xlink:href=\"#DejaVuSans-74\"/>\r\n      <use x=\"337.210938\" xlink:href=\"#DejaVuSans-6f\"/>\r\n     </g>\r\n    </g>\r\n    <g id=\"line2d_17\">\r\n     <path d=\"M 1079.782813 50.574687 \r\nL 1099.782813 50.574687 \r\n\" style=\"fill:none;stroke:#0000ff;stroke-linecap:square;stroke-width:1.5;\"/>\r\n    </g>\r\n    <g id=\"line2d_18\"/>\r\n    <g id=\"text_17\">\r\n     <!-- Real -->\r\n     <g transform=\"translate(1107.782813 54.074687)scale(0.1 -0.1)\">\r\n      <use xlink:href=\"#DejaVuSans-52\"/>\r\n      <use x=\"64.982422\" xlink:href=\"#DejaVuSans-65\"/>\r\n      <use x=\"126.505859\" xlink:href=\"#DejaVuSans-61\"/>\r\n      <use x=\"187.785156\" xlink:href=\"#DejaVuSans-6c\"/>\r\n     </g>\r\n    </g>\r\n   </g>\r\n  </g>\r\n </g>\r\n <defs>\r\n  <clipPath id=\"p751e7aa2e9\">\r\n   <rect height=\"326.16\" width=\"1116\" x=\"40.621875\" y=\"22.798125\"/>\r\n  </clipPath>\r\n </defs>\r\n</svg>\r\n",
            "image/png": "[encoded data removed]"
          },
          "metadata": {
            "needs_background": "light"
          }
        }
      ],
      "metadata": {
        "colab": {
          "base_uri": "https://localhost:8080/",
          "height": 426
        },
        "id": "3G7e6HV4vMej",
        "outputId": "5a168823-490a-4756-8d05-a6a8bfd39a58"
      }
    },
    {
      "cell_type": "code",
      "execution_count": 179,
      "source": [
        "rmse = math.sqrt(mean_squared_error(dataset[training_data_len:, 0:1], predicted[:,0:1]))\r\n",
        "print('RMSE: ', rmse)"
      ],
      "outputs": [
        {
          "output_type": "stream",
          "name": "stdout",
          "text": [
            "RMSE:  4.305916369214846\n"
          ]
        }
      ],
      "metadata": {
        "colab": {
          "base_uri": "https://localhost:8080/"
        },
        "id": "4CCLiPM8vO5U",
        "outputId": "33b31e2c-c684-4be8-8695-84d3f04885d7"
      }
    },
    {
      "cell_type": "code",
      "execution_count": 180,
      "source": [
        "mse = mean_squared_error(dataset[training_data_len:, 0:1], predicted[:,0:1])\r\n",
        "print('MSE: ',mse)"
      ],
      "outputs": [
        {
          "output_type": "stream",
          "name": "stdout",
          "text": [
            "MSE:  18.540915778672364\n"
          ]
        }
      ],
      "metadata": {
        "colab": {
          "base_uri": "https://localhost:8080/"
        },
        "id": "dWEFnqylvQiy",
        "outputId": "cb6fb140-32d0-43ce-e4e1-6b543c255227"
      }
    },
    {
      "cell_type": "code",
      "execution_count": 181,
      "source": [
        "mape = np.mean(np.abs((dataset[training_data_len:, 0:1]-predicted[:,0:1]) /dataset[training_data_len:, 0:1])) * 100\r\n",
        "print('MAPE: ',mape, '%')"
      ],
      "outputs": [
        {
          "output_type": "stream",
          "name": "stdout",
          "text": [
            "MAPE:  11.184007334147365 %\n"
          ]
        }
      ],
      "metadata": {
        "colab": {
          "base_uri": "https://localhost:8080/"
        },
        "id": "-PC8KlwwvRum",
        "outputId": "1c7e9778-e22a-4612-b636-ee75e61f730c"
      }
    },
    {
      "cell_type": "code",
      "execution_count": 182,
      "source": [
        "print('R2: ', r2_score(predicted[:,0:1], dataset[training_data_len:, 0:1]))"
      ],
      "outputs": [
        {
          "output_type": "stream",
          "name": "stdout",
          "text": [
            "R2:  -4.465713940864009\n"
          ]
        }
      ],
      "metadata": {
        "colab": {
          "base_uri": "https://localhost:8080/"
        },
        "id": "Hi7q3c9OvTI_",
        "outputId": "9e35aab4-eb3e-4e1a-c361-f7e855b5e8bf"
      }
    }
  ]
}