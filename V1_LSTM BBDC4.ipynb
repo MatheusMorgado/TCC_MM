{
 "cells": [
  {
   "cell_type": "code",
   "execution_count": 5,
   "metadata": {
    "id": "WXZs1haGNdYv"
   },
   "outputs": [],
   "source": [
    "import numpy as np\n",
    "import pandas_datareader as web\n",
    "import pandas as pd\n",
    "import seaborn as sns\n",
    "import matplotlib.pyplot as plt\n",
    "import math\n",
    "from matplotlib.pyplot import figure\n",
    "from sklearn.preprocessing import MinMaxScaler, StandardScaler\n",
    "from sklearn.metrics import mean_squared_error\n",
    "from sklearn.metrics import r2_score\n",
    "from tensorflow import keras \n",
    "# from keras.models import Sequential\n",
    "# from keras.layers import Dense\n",
    "# from keras.layers import LSTM\n",
    "# from keras.layers import Dropout\n"
   ]
  },
  {
   "cell_type": "code",
   "execution_count": 21,
   "metadata": {},
   "outputs": [],
   "source": [
    "Sequential = keras.models.Sequential\n",
    "Dense = keras.layers.Dense\n",
    "LSTM = keras.layers.LSTM\n",
    "Dropout = keras.layers.Dropout"
   ]
  },
  {
   "cell_type": "code",
   "execution_count": 33,
   "metadata": {
    "colab": {
     "base_uri": "https://localhost:8080/",
     "height": 455
    },
    "id": "ZLE4oRySNhEC",
    "outputId": "c43e9a74-043b-4b03-d1f6-e1f14cf45aac"
   },
   "outputs": [
    {
     "data": {
      "text/html": [
       "<div>\n",
       "<style scoped>\n",
       "    .dataframe tbody tr th:only-of-type {\n",
       "        vertical-align: middle;\n",
       "    }\n",
       "\n",
       "    .dataframe tbody tr th {\n",
       "        vertical-align: top;\n",
       "    }\n",
       "\n",
       "    .dataframe thead th {\n",
       "        text-align: right;\n",
       "    }\n",
       "</style>\n",
       "<table border=\"1\" class=\"dataframe\">\n",
       "  <thead>\n",
       "    <tr style=\"text-align: right;\">\n",
       "      <th></th>\n",
       "      <th>High</th>\n",
       "      <th>Low</th>\n",
       "      <th>Open</th>\n",
       "      <th>Close</th>\n",
       "      <th>Volume</th>\n",
       "      <th>Adj Close</th>\n",
       "    </tr>\n",
       "    <tr>\n",
       "      <th>Date</th>\n",
       "      <th></th>\n",
       "      <th></th>\n",
       "      <th></th>\n",
       "      <th></th>\n",
       "      <th></th>\n",
       "      <th></th>\n",
       "    </tr>\n",
       "  </thead>\n",
       "  <tbody>\n",
       "    <tr>\n",
       "      <th>2015-01-02</th>\n",
       "      <td>16.833435</td>\n",
       "      <td>16.188368</td>\n",
       "      <td>16.482443</td>\n",
       "      <td>16.269001</td>\n",
       "      <td>16646325.0</td>\n",
       "      <td>12.191124</td>\n",
       "    </tr>\n",
       "    <tr>\n",
       "      <th>2015-01-05</th>\n",
       "      <td>16.491928</td>\n",
       "      <td>15.799429</td>\n",
       "      <td>15.989155</td>\n",
       "      <td>16.292715</td>\n",
       "      <td>16428748.0</td>\n",
       "      <td>12.215598</td>\n",
       "    </tr>\n",
       "    <tr>\n",
       "      <th>2015-01-06</th>\n",
       "      <td>16.828691</td>\n",
       "      <td>16.193110</td>\n",
       "      <td>16.321175</td>\n",
       "      <td>16.828691</td>\n",
       "      <td>21831909.0</td>\n",
       "      <td>12.617448</td>\n",
       "    </tr>\n",
       "    <tr>\n",
       "      <th>2015-01-07</th>\n",
       "      <td>17.691944</td>\n",
       "      <td>16.895096</td>\n",
       "      <td>17.046877</td>\n",
       "      <td>17.497477</td>\n",
       "      <td>23002650.0</td>\n",
       "      <td>13.118873</td>\n",
       "    </tr>\n",
       "    <tr>\n",
       "      <th>2015-01-08</th>\n",
       "      <td>17.744120</td>\n",
       "      <td>17.217630</td>\n",
       "      <td>17.549650</td>\n",
       "      <td>17.587597</td>\n",
       "      <td>12495706.0</td>\n",
       "      <td>13.186441</td>\n",
       "    </tr>\n",
       "    <tr>\n",
       "      <th>...</th>\n",
       "      <td>...</td>\n",
       "      <td>...</td>\n",
       "      <td>...</td>\n",
       "      <td>...</td>\n",
       "      <td>...</td>\n",
       "      <td>...</td>\n",
       "    </tr>\n",
       "    <tr>\n",
       "      <th>2019-12-20</th>\n",
       "      <td>32.663635</td>\n",
       "      <td>32.236362</td>\n",
       "      <td>32.572727</td>\n",
       "      <td>32.445454</td>\n",
       "      <td>24617120.0</td>\n",
       "      <td>30.729557</td>\n",
       "    </tr>\n",
       "    <tr>\n",
       "      <th>2019-12-23</th>\n",
       "      <td>32.654545</td>\n",
       "      <td>32.254543</td>\n",
       "      <td>32.445454</td>\n",
       "      <td>32.645454</td>\n",
       "      <td>11294690.0</td>\n",
       "      <td>30.918976</td>\n",
       "    </tr>\n",
       "    <tr>\n",
       "      <th>2019-12-26</th>\n",
       "      <td>33.172726</td>\n",
       "      <td>32.563637</td>\n",
       "      <td>32.663635</td>\n",
       "      <td>33.054546</td>\n",
       "      <td>11498850.0</td>\n",
       "      <td>31.306429</td>\n",
       "    </tr>\n",
       "    <tr>\n",
       "      <th>2019-12-27</th>\n",
       "      <td>33.318180</td>\n",
       "      <td>32.818180</td>\n",
       "      <td>33.181816</td>\n",
       "      <td>32.927273</td>\n",
       "      <td>11444400.0</td>\n",
       "      <td>31.185886</td>\n",
       "    </tr>\n",
       "    <tr>\n",
       "      <th>2019-12-30</th>\n",
       "      <td>33.172726</td>\n",
       "      <td>32.690910</td>\n",
       "      <td>33.054546</td>\n",
       "      <td>32.881817</td>\n",
       "      <td>8201050.0</td>\n",
       "      <td>31.142839</td>\n",
       "    </tr>\n",
       "  </tbody>\n",
       "</table>\n",
       "<p>1241 rows × 6 columns</p>\n",
       "</div>"
      ],
      "text/plain": [
       "                 High        Low       Open      Close      Volume  Adj Close\n",
       "Date                                                                         \n",
       "2015-01-02  16.833435  16.188368  16.482443  16.269001  16646325.0  12.191124\n",
       "2015-01-05  16.491928  15.799429  15.989155  16.292715  16428748.0  12.215598\n",
       "2015-01-06  16.828691  16.193110  16.321175  16.828691  21831909.0  12.617448\n",
       "2015-01-07  17.691944  16.895096  17.046877  17.497477  23002650.0  13.118873\n",
       "2015-01-08  17.744120  17.217630  17.549650  17.587597  12495706.0  13.186441\n",
       "...               ...        ...        ...        ...         ...        ...\n",
       "2019-12-20  32.663635  32.236362  32.572727  32.445454  24617120.0  30.729557\n",
       "2019-12-23  32.654545  32.254543  32.445454  32.645454  11294690.0  30.918976\n",
       "2019-12-26  33.172726  32.563637  32.663635  33.054546  11498850.0  31.306429\n",
       "2019-12-27  33.318180  32.818180  33.181816  32.927273  11444400.0  31.185886\n",
       "2019-12-30  33.172726  32.690910  33.054546  32.881817   8201050.0  31.142839\n",
       "\n",
       "[1241 rows x 6 columns]"
      ]
     },
     "execution_count": 33,
     "metadata": {},
     "output_type": "execute_result"
    }
   ],
   "source": [
    "df = web.DataReader(\"BBDC4.SA\", data_source=\"yahoo\", start=\"2015-01-01\", end=\"2019-12-31\")\n",
    "df"
   ]
  },
  {
   "cell_type": "code",
   "execution_count": 34,
   "metadata": {
    "colab": {
     "base_uri": "https://localhost:8080/"
    },
    "id": "U0BBIen7Njpc",
    "outputId": "40f52750-b211-4ffa-dafc-5973e971e4a6"
   },
   "outputs": [
    {
     "data": {
      "text/plain": [
       "(1241, 6)"
      ]
     },
     "execution_count": 34,
     "metadata": {},
     "output_type": "execute_result"
    }
   ],
   "source": [
    "df.shape"
   ]
  },
  {
   "cell_type": "code",
   "execution_count": 35,
   "metadata": {
    "colab": {
     "base_uri": "https://localhost:8080/",
     "height": 455
    },
    "id": "K8wtyI6KNbcU",
    "outputId": "fbd0803c-1268-49a1-eb58-f65fc832a9f5"
   },
   "outputs": [
    {
     "data": {
      "text/html": [
       "<div>\n",
       "<style scoped>\n",
       "    .dataframe tbody tr th:only-of-type {\n",
       "        vertical-align: middle;\n",
       "    }\n",
       "\n",
       "    .dataframe tbody tr th {\n",
       "        vertical-align: top;\n",
       "    }\n",
       "\n",
       "    .dataframe thead th {\n",
       "        text-align: right;\n",
       "    }\n",
       "</style>\n",
       "<table border=\"1\" class=\"dataframe\">\n",
       "  <thead>\n",
       "    <tr style=\"text-align: right;\">\n",
       "      <th></th>\n",
       "      <th>High</th>\n",
       "      <th>Low</th>\n",
       "      <th>Open</th>\n",
       "      <th>Close</th>\n",
       "      <th>Volume</th>\n",
       "      <th>Adj Close</th>\n",
       "    </tr>\n",
       "    <tr>\n",
       "      <th>Date</th>\n",
       "      <th></th>\n",
       "      <th></th>\n",
       "      <th></th>\n",
       "      <th></th>\n",
       "      <th></th>\n",
       "      <th></th>\n",
       "    </tr>\n",
       "  </thead>\n",
       "  <tbody>\n",
       "    <tr>\n",
       "      <th>2015-01-02</th>\n",
       "      <td>50005.0</td>\n",
       "      <td>48345.0</td>\n",
       "      <td>50005.0</td>\n",
       "      <td>48512.0</td>\n",
       "      <td>2882100.0</td>\n",
       "      <td>48512.0</td>\n",
       "    </tr>\n",
       "    <tr>\n",
       "      <th>2015-01-05</th>\n",
       "      <td>48512.0</td>\n",
       "      <td>47264.0</td>\n",
       "      <td>48512.0</td>\n",
       "      <td>47517.0</td>\n",
       "      <td>3866100.0</td>\n",
       "      <td>47517.0</td>\n",
       "    </tr>\n",
       "    <tr>\n",
       "      <th>2015-01-06</th>\n",
       "      <td>48061.0</td>\n",
       "      <td>47338.0</td>\n",
       "      <td>47517.0</td>\n",
       "      <td>48001.0</td>\n",
       "      <td>4559300.0</td>\n",
       "      <td>48001.0</td>\n",
       "    </tr>\n",
       "    <tr>\n",
       "      <th>2015-01-07</th>\n",
       "      <td>49882.0</td>\n",
       "      <td>48006.0</td>\n",
       "      <td>48006.0</td>\n",
       "      <td>49463.0</td>\n",
       "      <td>4408800.0</td>\n",
       "      <td>49463.0</td>\n",
       "    </tr>\n",
       "    <tr>\n",
       "      <th>2015-01-08</th>\n",
       "      <td>50261.0</td>\n",
       "      <td>49017.0</td>\n",
       "      <td>49463.0</td>\n",
       "      <td>49943.0</td>\n",
       "      <td>3621900.0</td>\n",
       "      <td>49943.0</td>\n",
       "    </tr>\n",
       "    <tr>\n",
       "      <th>...</th>\n",
       "      <td>...</td>\n",
       "      <td>...</td>\n",
       "      <td>...</td>\n",
       "      <td>...</td>\n",
       "      <td>...</td>\n",
       "      <td>...</td>\n",
       "    </tr>\n",
       "    <tr>\n",
       "      <th>2019-12-20</th>\n",
       "      <td>115171.0</td>\n",
       "      <td>114526.0</td>\n",
       "      <td>115133.0</td>\n",
       "      <td>115121.0</td>\n",
       "      <td>6887400.0</td>\n",
       "      <td>115121.0</td>\n",
       "    </tr>\n",
       "    <tr>\n",
       "      <th>2019-12-23</th>\n",
       "      <td>115863.0</td>\n",
       "      <td>114964.0</td>\n",
       "      <td>115119.0</td>\n",
       "      <td>115863.0</td>\n",
       "      <td>3995200.0</td>\n",
       "      <td>115863.0</td>\n",
       "    </tr>\n",
       "    <tr>\n",
       "      <th>2019-12-26</th>\n",
       "      <td>117220.0</td>\n",
       "      <td>115673.0</td>\n",
       "      <td>115864.0</td>\n",
       "      <td>117203.0</td>\n",
       "      <td>3788900.0</td>\n",
       "      <td>117203.0</td>\n",
       "    </tr>\n",
       "    <tr>\n",
       "      <th>2019-12-27</th>\n",
       "      <td>117803.0</td>\n",
       "      <td>115995.0</td>\n",
       "      <td>117205.0</td>\n",
       "      <td>116534.0</td>\n",
       "      <td>3905900.0</td>\n",
       "      <td>116534.0</td>\n",
       "    </tr>\n",
       "    <tr>\n",
       "      <th>2019-12-30</th>\n",
       "      <td>117086.0</td>\n",
       "      <td>115790.0</td>\n",
       "      <td>116530.0</td>\n",
       "      <td>115964.0</td>\n",
       "      <td>3667900.0</td>\n",
       "      <td>115964.0</td>\n",
       "    </tr>\n",
       "  </tbody>\n",
       "</table>\n",
       "<p>1235 rows × 6 columns</p>\n",
       "</div>"
      ],
      "text/plain": [
       "                High       Low      Open     Close     Volume  Adj Close\n",
       "Date                                                                    \n",
       "2015-01-02   50005.0   48345.0   50005.0   48512.0  2882100.0    48512.0\n",
       "2015-01-05   48512.0   47264.0   48512.0   47517.0  3866100.0    47517.0\n",
       "2015-01-06   48061.0   47338.0   47517.0   48001.0  4559300.0    48001.0\n",
       "2015-01-07   49882.0   48006.0   48006.0   49463.0  4408800.0    49463.0\n",
       "2015-01-08   50261.0   49017.0   49463.0   49943.0  3621900.0    49943.0\n",
       "...              ...       ...       ...       ...        ...        ...\n",
       "2019-12-20  115171.0  114526.0  115133.0  115121.0  6887400.0   115121.0\n",
       "2019-12-23  115863.0  114964.0  115119.0  115863.0  3995200.0   115863.0\n",
       "2019-12-26  117220.0  115673.0  115864.0  117203.0  3788900.0   117203.0\n",
       "2019-12-27  117803.0  115995.0  117205.0  116534.0  3905900.0   116534.0\n",
       "2019-12-30  117086.0  115790.0  116530.0  115964.0  3667900.0   115964.0\n",
       "\n",
       "[1235 rows x 6 columns]"
      ]
     },
     "execution_count": 35,
     "metadata": {},
     "output_type": "execute_result"
    }
   ],
   "source": [
    "df_bovespa = web.DataReader(\"^BVSP\", data_source=\"yahoo\", start=\"2015-01-01\", end=\"2019-12-31\")\n",
    "# df_bovespa.reset_index(inplace=True,drop=False)\n",
    "df_bovespa"
   ]
  },
  {
   "cell_type": "code",
   "execution_count": 36,
   "metadata": {
    "colab": {
     "base_uri": "https://localhost:8080/"
    },
    "id": "EZid73x9Nl_w",
    "outputId": "a1781db4-3d1b-497c-8bde-53e67282d037"
   },
   "outputs": [
    {
     "data": {
      "text/plain": [
       "(1235, 6)"
      ]
     },
     "execution_count": 36,
     "metadata": {},
     "output_type": "execute_result"
    }
   ],
   "source": [
    "df_bovespa.shape"
   ]
  },
  {
   "cell_type": "code",
   "execution_count": 37,
   "metadata": {
    "colab": {
     "base_uri": "https://localhost:8080/",
     "height": 338
    },
    "id": "n8LZIcI-QKBh",
    "outputId": "01288265-2104-4026-be9d-3d53283db9cf"
   },
   "outputs": [
    {
     "data": {
      "text/html": [
       "<div>\n",
       "<style scoped>\n",
       "    .dataframe tbody tr th:only-of-type {\n",
       "        vertical-align: middle;\n",
       "    }\n",
       "\n",
       "    .dataframe tbody tr th {\n",
       "        vertical-align: top;\n",
       "    }\n",
       "\n",
       "    .dataframe thead th {\n",
       "        text-align: right;\n",
       "    }\n",
       "</style>\n",
       "<table border=\"1\" class=\"dataframe\">\n",
       "  <thead>\n",
       "    <tr style=\"text-align: right;\">\n",
       "      <th></th>\n",
       "      <th>High</th>\n",
       "      <th>Low</th>\n",
       "      <th>Open</th>\n",
       "      <th>Close</th>\n",
       "      <th>Volume</th>\n",
       "      <th>Adj Close</th>\n",
       "      <th>High_bovespa</th>\n",
       "      <th>Low_bovespa</th>\n",
       "      <th>Open_bovespa</th>\n",
       "      <th>Close_bovespa</th>\n",
       "      <th>Volume_bovespa</th>\n",
       "      <th>Adj Close_bovespa</th>\n",
       "    </tr>\n",
       "  </thead>\n",
       "  <tbody>\n",
       "    <tr>\n",
       "      <th>count</th>\n",
       "      <td>1235.000000</td>\n",
       "      <td>1235.000000</td>\n",
       "      <td>1235.000000</td>\n",
       "      <td>1235.000000</td>\n",
       "      <td>1.235000e+03</td>\n",
       "      <td>1235.000000</td>\n",
       "      <td>1235.000000</td>\n",
       "      <td>1235.000000</td>\n",
       "      <td>1235.000000</td>\n",
       "      <td>1235.000000</td>\n",
       "      <td>1.235000e+03</td>\n",
       "      <td>1235.000000</td>\n",
       "    </tr>\n",
       "    <tr>\n",
       "      <th>mean</th>\n",
       "      <td>22.158142</td>\n",
       "      <td>21.585978</td>\n",
       "      <td>21.885802</td>\n",
       "      <td>21.888026</td>\n",
       "      <td>1.827563e+07</td>\n",
       "      <td>18.450914</td>\n",
       "      <td>71258.726316</td>\n",
       "      <td>69996.229960</td>\n",
       "      <td>70605.106883</td>\n",
       "      <td>70656.285020</td>\n",
       "      <td>3.794215e+06</td>\n",
       "      <td>70656.285020</td>\n",
       "    </tr>\n",
       "    <tr>\n",
       "      <th>std</th>\n",
       "      <td>6.636685</td>\n",
       "      <td>6.516990</td>\n",
       "      <td>6.588668</td>\n",
       "      <td>6.586653</td>\n",
       "      <td>8.797424e+06</td>\n",
       "      <td>6.487741</td>\n",
       "      <td>19634.810008</td>\n",
       "      <td>19447.130086</td>\n",
       "      <td>19532.433000</td>\n",
       "      <td>19564.626768</td>\n",
       "      <td>1.203582e+06</td>\n",
       "      <td>19564.626768</td>\n",
       "    </tr>\n",
       "    <tr>\n",
       "      <th>min</th>\n",
       "      <td>9.858160</td>\n",
       "      <td>9.636181</td>\n",
       "      <td>9.687407</td>\n",
       "      <td>9.681715</td>\n",
       "      <td>0.000000e+00</td>\n",
       "      <td>7.672866</td>\n",
       "      <td>38031.000000</td>\n",
       "      <td>37046.000000</td>\n",
       "      <td>37501.000000</td>\n",
       "      <td>37497.000000</td>\n",
       "      <td>0.000000e+00</td>\n",
       "      <td>37497.000000</td>\n",
       "    </tr>\n",
       "    <tr>\n",
       "      <th>25%</th>\n",
       "      <td>17.130830</td>\n",
       "      <td>16.574933</td>\n",
       "      <td>16.846336</td>\n",
       "      <td>16.821578</td>\n",
       "      <td>1.252091e+07</td>\n",
       "      <td>12.966629</td>\n",
       "      <td>53498.500000</td>\n",
       "      <td>52677.000000</td>\n",
       "      <td>53087.500000</td>\n",
       "      <td>53094.500000</td>\n",
       "      <td>3.078600e+06</td>\n",
       "      <td>53094.500000</td>\n",
       "    </tr>\n",
       "    <tr>\n",
       "      <th>50%</th>\n",
       "      <td>20.711245</td>\n",
       "      <td>20.247932</td>\n",
       "      <td>20.510895</td>\n",
       "      <td>20.488979</td>\n",
       "      <td>1.676645e+07</td>\n",
       "      <td>17.126554</td>\n",
       "      <td>66758.000000</td>\n",
       "      <td>65842.000000</td>\n",
       "      <td>66195.000000</td>\n",
       "      <td>66235.000000</td>\n",
       "      <td>3.658900e+06</td>\n",
       "      <td>66235.000000</td>\n",
       "    </tr>\n",
       "    <tr>\n",
       "      <th>75%</th>\n",
       "      <td>27.056474</td>\n",
       "      <td>26.388085</td>\n",
       "      <td>26.825068</td>\n",
       "      <td>26.773416</td>\n",
       "      <td>2.210809e+07</td>\n",
       "      <td>23.022106</td>\n",
       "      <td>86157.000000</td>\n",
       "      <td>84582.500000</td>\n",
       "      <td>85515.000000</td>\n",
       "      <td>85539.000000</td>\n",
       "      <td>4.389100e+06</td>\n",
       "      <td>85539.000000</td>\n",
       "    </tr>\n",
       "    <tr>\n",
       "      <th>max</th>\n",
       "      <td>36.309090</td>\n",
       "      <td>35.472729</td>\n",
       "      <td>36.000000</td>\n",
       "      <td>35.827271</td>\n",
       "      <td>8.762744e+07</td>\n",
       "      <td>31.904379</td>\n",
       "      <td>117803.000000</td>\n",
       "      <td>115995.000000</td>\n",
       "      <td>117205.000000</td>\n",
       "      <td>117203.000000</td>\n",
       "      <td>1.104670e+07</td>\n",
       "      <td>117203.000000</td>\n",
       "    </tr>\n",
       "  </tbody>\n",
       "</table>\n",
       "</div>"
      ],
      "text/plain": [
       "              High          Low         Open        Close        Volume  \\\n",
       "count  1235.000000  1235.000000  1235.000000  1235.000000  1.235000e+03   \n",
       "mean     22.158142    21.585978    21.885802    21.888026  1.827563e+07   \n",
       "std       6.636685     6.516990     6.588668     6.586653  8.797424e+06   \n",
       "min       9.858160     9.636181     9.687407     9.681715  0.000000e+00   \n",
       "25%      17.130830    16.574933    16.846336    16.821578  1.252091e+07   \n",
       "50%      20.711245    20.247932    20.510895    20.488979  1.676645e+07   \n",
       "75%      27.056474    26.388085    26.825068    26.773416  2.210809e+07   \n",
       "max      36.309090    35.472729    36.000000    35.827271  8.762744e+07   \n",
       "\n",
       "         Adj Close   High_bovespa    Low_bovespa   Open_bovespa  \\\n",
       "count  1235.000000    1235.000000    1235.000000    1235.000000   \n",
       "mean     18.450914   71258.726316   69996.229960   70605.106883   \n",
       "std       6.487741   19634.810008   19447.130086   19532.433000   \n",
       "min       7.672866   38031.000000   37046.000000   37501.000000   \n",
       "25%      12.966629   53498.500000   52677.000000   53087.500000   \n",
       "50%      17.126554   66758.000000   65842.000000   66195.000000   \n",
       "75%      23.022106   86157.000000   84582.500000   85515.000000   \n",
       "max      31.904379  117803.000000  115995.000000  117205.000000   \n",
       "\n",
       "       Close_bovespa  Volume_bovespa  Adj Close_bovespa  \n",
       "count    1235.000000    1.235000e+03        1235.000000  \n",
       "mean    70656.285020    3.794215e+06       70656.285020  \n",
       "std     19564.626768    1.203582e+06       19564.626768  \n",
       "min     37497.000000    0.000000e+00       37497.000000  \n",
       "25%     53094.500000    3.078600e+06       53094.500000  \n",
       "50%     66235.000000    3.658900e+06       66235.000000  \n",
       "75%     85539.000000    4.389100e+06       85539.000000  \n",
       "max    117203.000000    1.104670e+07      117203.000000  "
      ]
     },
     "execution_count": 37,
     "metadata": {},
     "output_type": "execute_result"
    }
   ],
   "source": [
    "df = df.merge(df_bovespa, left_on='Date', right_on='Date', suffixes=('', '_bovespa'))\n",
    "df.describe()"
   ]
  },
  {
   "cell_type": "code",
   "execution_count": 38,
   "metadata": {
    "colab": {
     "base_uri": "https://localhost:8080/"
    },
    "id": "0zLbypzWtzci",
    "outputId": "73b04d20-c980-4d55-cf5c-412eb923c8c4"
   },
   "outputs": [
    {
     "data": {
      "text/plain": [
       "(1235, 4)"
      ]
     },
     "execution_count": 38,
     "metadata": {},
     "output_type": "execute_result"
    }
   ],
   "source": [
    "data = df.filter([\"Close\", \"Volume\", \"Close_bovespa\", \"Volume_bovespa\"])\n",
    "dataset = data.values\n",
    "training_data_len = math.ceil(len(dataset) * .7)\n",
    "training_data_len\n",
    "dataset.shape"
   ]
  },
  {
   "cell_type": "code",
   "execution_count": 39,
   "metadata": {
    "id": "TAqmEmtyuB16"
   },
   "outputs": [],
   "source": [
    "sc = MinMaxScaler(feature_range = (0, 1))\n",
    "scaled_data = sc.fit_transform(dataset)"
   ]
  },
  {
   "cell_type": "code",
   "execution_count": 40,
   "metadata": {
    "colab": {
     "base_uri": "https://localhost:8080/"
    },
    "id": "1xCbxaHWuJFU",
    "outputId": "b403b055-16d9-4cf5-df3c-2d7a17e579ab"
   },
   "outputs": [
    {
     "data": {
      "text/plain": [
       "array([[0.25194668, 0.18996704, 0.13819537, 0.26090145],\n",
       "       [0.25285369, 0.18748406, 0.12571199, 0.34997782],\n",
       "       [0.2733534 , 0.24914467, 0.13178431, 0.41272959],\n",
       "       ...,\n",
       "       [0.89395046, 0.13122431, 1.        , 0.34298931],\n",
       "       [0.88908257, 0.13060293, 0.99160665, 0.35358071],\n",
       "       [0.887344  , 0.09358998, 0.98445537, 0.33203581]])"
      ]
     },
     "execution_count": 40,
     "metadata": {},
     "output_type": "execute_result"
    }
   ],
   "source": [
    "scaled_data"
   ]
  },
  {
   "cell_type": "code",
   "execution_count": 41,
   "metadata": {
    "id": "dv_rZkU1uqlc"
   },
   "outputs": [],
   "source": [
    "train_data = scaled_data[0:training_data_len,:]\n",
    "# print(train_data)\n",
    "window = 60\n",
    "X_train = []\n",
    "y_train = []\n",
    "for i in range(window, len(train_data)):\n",
    "    X_train.append(train_data[i-window:i,:])\n",
    "    y_train.append(train_data[i, 0:1])\n",
    "    # if i <= (window + 1):\n",
    "    #   print(X_train)\n",
    "    #   print(y_train)\n",
    "    #   print()\n",
    "X_train, y_train = np.array(X_train), np.array(y_train)"
   ]
  },
  {
   "cell_type": "code",
   "execution_count": 42,
   "metadata": {
    "colab": {
     "base_uri": "https://localhost:8080/"
    },
    "id": "AqkMLK-4uxzK",
    "outputId": "4cf68abf-5589-4057-9bf5-8e49efc91cce"
   },
   "outputs": [
    {
     "data": {
      "text/plain": [
       "(805, 60, 4)"
      ]
     },
     "execution_count": 42,
     "metadata": {},
     "output_type": "execute_result"
    }
   ],
   "source": [
    "X_train.shape"
   ]
  },
  {
   "cell_type": "code",
   "execution_count": 43,
   "metadata": {
    "id": "jJ0aXnzAuy1C"
   },
   "outputs": [],
   "source": [
    "X_train = np.reshape(X_train, (X_train.shape[0], X_train.shape[1], -1))"
   ]
  },
  {
   "cell_type": "code",
   "execution_count": 44,
   "metadata": {
    "colab": {
     "base_uri": "https://localhost:8080/"
    },
    "id": "q03yzNLlu2on",
    "outputId": "d4d1d3cb-c876-4539-aee5-8b26dd6910bd"
   },
   "outputs": [
    {
     "data": {
      "text/plain": [
       "(805, 60, 4)"
      ]
     },
     "execution_count": 44,
     "metadata": {},
     "output_type": "execute_result"
    }
   ],
   "source": [
    "X_train.shape"
   ]
  },
  {
   "cell_type": "code",
   "execution_count": 45,
   "metadata": {
    "colab": {
     "base_uri": "https://localhost:8080/"
    },
    "id": "RkUoLngeu6aj",
    "outputId": "37c71118-6fa9-4a1a-d670-b194825f9fc8"
   },
   "outputs": [
    {
     "name": "stdout",
     "output_type": "stream",
     "text": [
      "Model: \"sequential_2\"\n",
      "_________________________________________________________________\n",
      "Layer (type)                 Output Shape              Param #   \n",
      "=================================================================\n",
      "lstm_3 (LSTM)                (None, 60, 100)           42000     \n",
      "_________________________________________________________________\n",
      "dropout_3 (Dropout)          (None, 60, 100)           0         \n",
      "_________________________________________________________________\n",
      "lstm_4 (LSTM)                (None, 60, 80)            57920     \n",
      "_________________________________________________________________\n",
      "dropout_4 (Dropout)          (None, 60, 80)            0         \n",
      "_________________________________________________________________\n",
      "lstm_5 (LSTM)                (None, 50)                26200     \n",
      "_________________________________________________________________\n",
      "dropout_5 (Dropout)          (None, 50)                0         \n",
      "_________________________________________________________________\n",
      "dense_1 (Dense)              (None, 1)                 51        \n",
      "=================================================================\n",
      "Total params: 126,171\n",
      "Trainable params: 126,171\n",
      "Non-trainable params: 0\n",
      "_________________________________________________________________\n"
     ]
    }
   ],
   "source": [
    "# Inicializar a RNN\n",
    "regressor = Sequential()\n",
    "\n",
    "# Adicionar a primeira camada LSTM e Dropout \n",
    "regressor.add(LSTM(units = 100, return_sequences = True, input_shape = (X_train.shape[1], X_train.shape[2])))\n",
    "regressor.add(Dropout(0.2))\n",
    " \n",
    "# Adicionar a segunda camada LSTM e Dropout\n",
    "regressor.add(LSTM(units = 80, return_sequences = True))\n",
    "regressor.add(Dropout(0.2))\n",
    " \n",
    "# Adicionar a terceira camada LSTM e Dropout\n",
    "regressor.add(LSTM(units = 50))\n",
    "regressor.add(Dropout(0.2))\n",
    " \n",
    "# camada de saída\n",
    "regressor.add(Dense(units = 1))\n",
    " \n",
    "# Compilar a rede\n",
    "regressor.compile(optimizer = 'adam', loss = 'mean_squared_error')\n",
    "\n",
    "# Visualizar a rede\n",
    "regressor.summary()"
   ]
  },
  {
   "cell_type": "code",
   "execution_count": 46,
   "metadata": {
    "colab": {
     "base_uri": "https://localhost:8080/"
    },
    "id": "90uaYsDwu9FU",
    "outputId": "c457caad-350b-44ca-a84f-8224a818c20f"
   },
   "outputs": [
    {
     "name": "stdout",
     "output_type": "stream",
     "text": [
      "Epoch 1/50\n",
      "13/13 [==============================] - 2s 181ms/step - loss: 0.0309\n",
      "Epoch 2/50\n",
      "13/13 [==============================] - 2s 184ms/step - loss: 0.0059\n",
      "Epoch 3/50\n",
      "13/13 [==============================] - 2s 175ms/step - loss: 0.0038\n",
      "Epoch 4/50\n",
      "13/13 [==============================] - 2s 191ms/step - loss: 0.0033\n",
      "Epoch 5/50\n",
      "13/13 [==============================] - 3s 213ms/step - loss: 0.0030\n",
      "Epoch 6/50\n",
      "13/13 [==============================] - 3s 209ms/step - loss: 0.0030\n",
      "Epoch 7/50\n",
      "13/13 [==============================] - 3s 204ms/step - loss: 0.0029\n",
      "Epoch 8/50\n",
      "13/13 [==============================] - 2s 178ms/step - loss: 0.0026\n",
      "Epoch 9/50\n",
      "13/13 [==============================] - 2s 188ms/step - loss: 0.0025\n",
      "Epoch 10/50\n",
      "13/13 [==============================] - 2s 184ms/step - loss: 0.0025\n",
      "Epoch 11/50\n",
      "13/13 [==============================] - 2s 177ms/step - loss: 0.0023\n",
      "Epoch 12/50\n",
      "13/13 [==============================] - 2s 178ms/step - loss: 0.0020\n",
      "Epoch 13/50\n",
      "13/13 [==============================] - 3s 196ms/step - loss: 0.0022\n",
      "Epoch 14/50\n",
      "13/13 [==============================] - 3s 209ms/step - loss: 0.0021\n",
      "Epoch 15/50\n",
      "13/13 [==============================] - 2s 182ms/step - loss: 0.0021\n",
      "Epoch 16/50\n",
      "13/13 [==============================] - 2s 175ms/step - loss: 0.0022\n",
      "Epoch 17/50\n",
      "13/13 [==============================] - 2s 186ms/step - loss: 0.0021\n",
      "Epoch 18/50\n",
      "13/13 [==============================] - 2s 186ms/step - loss: 0.0020\n",
      "Epoch 19/50\n",
      "13/13 [==============================] - 4s 297ms/step - loss: 0.0023\n",
      "Epoch 20/50\n",
      "13/13 [==============================] - 4s 303ms/step - loss: 0.0020\n",
      "Epoch 21/50\n",
      "13/13 [==============================] - 3s 234ms/step - loss: 0.0018\n",
      "Epoch 22/50\n",
      "13/13 [==============================] - 3s 236ms/step - loss: 0.0019\n",
      "Epoch 23/50\n",
      "13/13 [==============================] - 2s 178ms/step - loss: 0.0019\n",
      "Epoch 24/50\n",
      "13/13 [==============================] - 3s 213ms/step - loss: 0.0018\n",
      "Epoch 25/50\n",
      "13/13 [==============================] - 4s 298ms/step - loss: 0.0019\n",
      "Epoch 26/50\n",
      "13/13 [==============================] - 3s 218ms/step - loss: 0.0018\n",
      "Epoch 27/50\n",
      "13/13 [==============================] - 2s 180ms/step - loss: 0.0017\n",
      "Epoch 28/50\n",
      "13/13 [==============================] - 2s 183ms/step - loss: 0.0020\n",
      "Epoch 29/50\n",
      "13/13 [==============================] - 2s 177ms/step - loss: 0.0018\n",
      "Epoch 30/50\n",
      "13/13 [==============================] - 3s 202ms/step - loss: 0.0016\n",
      "Epoch 31/50\n",
      "13/13 [==============================] - 3s 214ms/step - loss: 0.0017\n",
      "Epoch 32/50\n",
      "13/13 [==============================] - 3s 211ms/step - loss: 0.0018\n",
      "Epoch 33/50\n",
      "13/13 [==============================] - 2s 176ms/step - loss: 0.0017\n",
      "Epoch 34/50\n",
      "13/13 [==============================] - 2s 177ms/step - loss: 0.0016\n",
      "Epoch 35/50\n",
      "13/13 [==============================] - 3s 204ms/step - loss: 0.0015\n",
      "Epoch 36/50\n",
      "13/13 [==============================] - 2s 179ms/step - loss: 0.0015\n",
      "Epoch 37/50\n",
      "13/13 [==============================] - 2s 178ms/step - loss: 0.0016\n",
      "Epoch 38/50\n",
      "13/13 [==============================] - 2s 186ms/step - loss: 0.0017\n",
      "Epoch 39/50\n",
      "13/13 [==============================] - 3s 195ms/step - loss: 0.0017\n",
      "Epoch 40/50\n",
      "13/13 [==============================] - 2s 183ms/step - loss: 0.0015\n",
      "Epoch 41/50\n",
      "13/13 [==============================] - 2s 177ms/step - loss: 0.0018\n",
      "Epoch 42/50\n",
      "13/13 [==============================] - 4s 277ms/step - loss: 0.0017\n",
      "Epoch 43/50\n",
      "13/13 [==============================] - 3s 252ms/step - loss: 0.0016\n",
      "Epoch 44/50\n",
      "13/13 [==============================] - 2s 178ms/step - loss: 0.0016\n",
      "Epoch 45/50\n",
      "13/13 [==============================] - 2s 177ms/step - loss: 0.0018\n",
      "Epoch 46/50\n",
      "13/13 [==============================] - 2s 191ms/step - loss: 0.0018\n",
      "Epoch 47/50\n",
      "13/13 [==============================] - 3s 199ms/step - loss: 0.0016\n",
      "Epoch 48/50\n",
      "13/13 [==============================] - 2s 177ms/step - loss: 0.0015\n",
      "Epoch 49/50\n",
      "13/13 [==============================] - 2s 183ms/step - loss: 0.0015\n",
      "Epoch 50/50\n",
      "13/13 [==============================] - 3s 199ms/step - loss: 0.0016\n"
     ]
    }
   ],
   "source": [
    "history = regressor.fit(X_train, y_train, epochs = 50, batch_size = 64)"
   ]
  },
  {
   "cell_type": "code",
   "execution_count": 47,
   "metadata": {
    "colab": {
     "base_uri": "https://localhost:8080/",
     "height": 265
    },
    "id": "amW1km16u_lf",
    "outputId": "d3deba25-c6cf-405f-8275-544a334004fb"
   },
   "outputs": [
    {
     "data": {
      "image/png": "[encoded data removed]",
      "text/plain": [
       "<Figure size 432x288 with 1 Axes>"
      ]
     },
     "metadata": {
      "needs_background": "light"
     },
     "output_type": "display_data"
    }
   ],
   "source": [
    "plt.plot(history.history['loss'], label='treino')\n",
    "plt.legend();"
   ]
  },
  {
   "cell_type": "code",
   "execution_count": 48,
   "metadata": {
    "colab": {
     "base_uri": "https://localhost:8080/"
    },
    "id": "vPJyp8suvC7_",
    "outputId": "16dd5766-93aa-4382-af1e-090e1dd4442c"
   },
   "outputs": [
    {
     "name": "stdout",
     "output_type": "stream",
     "text": [
      "(370, 60, 4) (805, 60, 4)\n"
     ]
    }
   ],
   "source": [
    "test_data = scaled_data[training_data_len - window:, :]\n",
    "\n",
    "X_test = []\n",
    "y_test = dataset[training_data_len:, 0:1]\n",
    "\n",
    "for i in range(window, len(test_data)): \n",
    "    X_test.append(test_data[i-window:i,:])\n",
    "X_test = np.array(X_test)\n",
    "\n",
    "X_test = np.reshape(X_test, (X_test.shape[0], X_test.shape[1], -1))\n",
    "print(X_test.shape, X_train.shape)"
   ]
  },
  {
   "cell_type": "code",
   "execution_count": 49,
   "metadata": {
    "colab": {
     "base_uri": "https://localhost:8080/"
    },
    "id": "L9MB4ux0vIPR",
    "outputId": "4c3968f2-6e13-40a4-db86-d80a455dfab3"
   },
   "outputs": [
    {
     "name": "stdout",
     "output_type": "stream",
     "text": [
      "(370, 4)\n",
      "[[1.93123579e+01 1.72070357e+15 5.79968518e+09 4.28545680e+13]\n",
      " [1.94226480e+01 1.14063901e+15 5.80582254e+09 3.04215071e+13]\n",
      " [1.95614372e+01 1.51833045e+15 5.87181911e+09 3.59437525e+13]\n",
      " ...\n",
      " [2.99779693e+01 1.00761478e+15 9.34181982e+09 4.18548416e+13]\n",
      " [3.02188273e+01 1.00284346e+15 9.28849650e+09 4.31473055e+13]\n",
      " [3.05033157e+01 7.18637009e+14 9.24306408e+09 4.05181909e+13]]\n"
     ]
    }
   ],
   "source": [
    "predicted = regressor.predict(X_test)\n",
    "volume = dataset[training_data_len:, 1:]\n",
    "predicted = np.column_stack((predicted, volume))\n",
    "# print(dataset[:,1:])\n",
    "print(predicted.shape)\n",
    "predicted = sc.inverse_transform(predicted)\n",
    "print(predicted)"
   ]
  },
  {
   "cell_type": "code",
   "execution_count": 50,
   "metadata": {
    "colab": {
     "base_uri": "https://localhost:8080/",
     "height": 426
    },
    "id": "3G7e6HV4vMej",
    "outputId": "d905cc53-0c34-4e95-bc96-7195b641a497"
   },
   "outputs": [
    {
     "data": {
      "image/png": "[encoded data removed]",
      "text/plain": [
       "<Figure size 1600x480 with 1 Axes>"
      ]
     },
     "metadata": {
      "needs_background": "light"
     },
     "output_type": "display_data"
    }
   ],
   "source": [
    "allTargetData = np.vstack((dataset[:training_data_len, 0:1], dataset[training_data_len:, 0:1]))\n",
    "training_predicted = regressor.predict(X_train)\n",
    "volume = dataset[:len(X_train), 1:]\n",
    "training_predicted = np.column_stack((training_predicted, volume))\n",
    "training_predicted = sc.inverse_transform(training_predicted)\n",
    "allForecastedData = np.vstack((dataset[0:window, 0:1], training_predicted[:,0:1], predicted[:,0:1]))\n",
    "# date = df['DATA']\n",
    "date = df.index\n",
    "\n",
    "figure(figsize=(20, 6), dpi=80)\n",
    "plt.plot(date, allForecastedData, color = 'red', label = 'Previsto')\n",
    "plt.plot(date, allTargetData, color = 'blue', label = 'Real')\n",
    "plt.title('Previsão de série temporal')\n",
    "plt.xlabel('Tempo')\n",
    "plt.ylabel('Cotação (R$)')\n",
    "plt.legend()\n",
    "plt.show()"
   ]
  },
  {
   "cell_type": "code",
   "execution_count": 51,
   "metadata": {
    "colab": {
     "base_uri": "https://localhost:8080/"
    },
    "id": "4CCLiPM8vO5U",
    "outputId": "50f90759-af2d-454e-d5d2-631db094c9da"
   },
   "outputs": [
    {
     "name": "stdout",
     "output_type": "stream",
     "text": [
      "RMSE:  1.7756695656523789\n"
     ]
    }
   ],
   "source": [
    "rmse = math.sqrt(mean_squared_error(dataset[training_data_len:, 0:1], predicted[:,0:1]))\n",
    "print('RMSE: ', rmse)"
   ]
  },
  {
   "cell_type": "code",
   "execution_count": 52,
   "metadata": {
    "colab": {
     "base_uri": "https://localhost:8080/"
    },
    "id": "dWEFnqylvQiy",
    "outputId": "ebdcd19b-ecfb-4c00-9488-f2b82f53b4b9"
   },
   "outputs": [
    {
     "name": "stdout",
     "output_type": "stream",
     "text": [
      "MSE:  3.1530024063841076\n"
     ]
    }
   ],
   "source": [
    "mse = mean_squared_error(dataset[training_data_len:, 0:1], predicted[:,0:1])\n",
    "print('MSE: ',mse)"
   ]
  },
  {
   "cell_type": "code",
   "execution_count": 53,
   "metadata": {
    "colab": {
     "base_uri": "https://localhost:8080/"
    },
    "id": "-PC8KlwwvRum",
    "outputId": "634c896f-3156-4cf0-f111-a18ea5500aff"
   },
   "outputs": [
    {
     "name": "stdout",
     "output_type": "stream",
     "text": [
      "MAPE:  4.9000154731239824 %\n"
     ]
    }
   ],
   "source": [
    "mape = np.mean(np.abs((dataset[training_data_len:, 0:1]-predicted[:,0:1]) /dataset[training_data_len:, 0:1])) * 100\n",
    "print('MAPE: ',mape, '%')"
   ]
  },
  {
   "cell_type": "code",
   "execution_count": 54,
   "metadata": {
    "colab": {
     "base_uri": "https://localhost:8080/"
    },
    "id": "Hi7q3c9OvTI_",
    "outputId": "c676c006-4a99-4ac9-8ff8-3ae63f9ade56"
   },
   "outputs": [
    {
     "name": "stdout",
     "output_type": "stream",
     "text": [
      "R2:  0.7574199595077691\n"
     ]
    }
   ],
   "source": [
    "print('R2: ', r2_score(predicted[:,0:1], dataset[training_data_len:, 0:1]))"
   ]
  },
  {
   "cell_type": "code",
   "execution_count": 55,
   "metadata": {
    "id": "-5B0mpI-t-yK"
   },
   "outputs": [
    {
     "name": "stdout",
     "output_type": "stream",
     "text": [
      "Epoch 1/50\n",
      "19/19 [==============================] - 6s 313ms/step - loss: 0.0036\n",
      "Epoch 2/50\n",
      "19/19 [==============================] - 6s 311ms/step - loss: 0.0028\n",
      "Epoch 3/50\n",
      "19/19 [==============================] - 6s 314ms/step - loss: 0.0028\n",
      "Epoch 4/50\n",
      "19/19 [==============================] - 6s 311ms/step - loss: 0.0030\n",
      "Epoch 5/50\n",
      "19/19 [==============================] - 6s 309ms/step - loss: 0.0025\n",
      "Epoch 6/50\n",
      "19/19 [==============================] - 4s 230ms/step - loss: 0.0027\n",
      "Epoch 7/50\n",
      "19/19 [==============================] - 5s 265ms/step - loss: 0.0024\n",
      "Epoch 8/50\n",
      " 4/19 [=====>........................] - ETA: 2s - loss: 0.0030"
     ]
    },
    {
     "ename": "KeyboardInterrupt",
     "evalue": "",
     "output_type": "error",
     "traceback": [
      "\u001b[1;31m---------------------------------------------------------------------------\u001b[0m",
      "\u001b[1;31mKeyboardInterrupt\u001b[0m                         Traceback (most recent call last)",
      "\u001b[1;32m~\\AppData\\Local\\Temp/ipykernel_11932/860314462.py\u001b[0m in \u001b[0;36m<module>\u001b[1;34m\u001b[0m\n\u001b[0;32m      7\u001b[0m     \u001b[0my_data\u001b[0m\u001b[1;33m.\u001b[0m\u001b[0mappend\u001b[0m\u001b[1;33m(\u001b[0m\u001b[0mscaled_data\u001b[0m\u001b[1;33m[\u001b[0m\u001b[0mi\u001b[0m\u001b[1;33m,\u001b[0m \u001b[1;36m0\u001b[0m\u001b[1;33m:\u001b[0m\u001b[1;36m1\u001b[0m\u001b[1;33m]\u001b[0m\u001b[1;33m)\u001b[0m\u001b[1;33m\u001b[0m\u001b[1;33m\u001b[0m\u001b[0m\n\u001b[0;32m      8\u001b[0m \u001b[0mX_data\u001b[0m\u001b[1;33m,\u001b[0m \u001b[0my_data\u001b[0m \u001b[1;33m=\u001b[0m \u001b[0mnp\u001b[0m\u001b[1;33m.\u001b[0m\u001b[0marray\u001b[0m\u001b[1;33m(\u001b[0m\u001b[0mX_data\u001b[0m\u001b[1;33m)\u001b[0m\u001b[1;33m,\u001b[0m \u001b[0mnp\u001b[0m\u001b[1;33m.\u001b[0m\u001b[0marray\u001b[0m\u001b[1;33m(\u001b[0m\u001b[0my_data\u001b[0m\u001b[1;33m)\u001b[0m\u001b[1;33m\u001b[0m\u001b[1;33m\u001b[0m\u001b[0m\n\u001b[1;32m----> 9\u001b[1;33m \u001b[0mhistory\u001b[0m \u001b[1;33m=\u001b[0m \u001b[0mregressor\u001b[0m\u001b[1;33m.\u001b[0m\u001b[0mfit\u001b[0m\u001b[1;33m(\u001b[0m\u001b[0mX_data\u001b[0m\u001b[1;33m,\u001b[0m \u001b[0my_data\u001b[0m\u001b[1;33m,\u001b[0m \u001b[0mepochs\u001b[0m \u001b[1;33m=\u001b[0m \u001b[1;36m50\u001b[0m\u001b[1;33m,\u001b[0m \u001b[0mbatch_size\u001b[0m \u001b[1;33m=\u001b[0m \u001b[1;36m64\u001b[0m\u001b[1;33m)\u001b[0m\u001b[1;33m\u001b[0m\u001b[1;33m\u001b[0m\u001b[0m\n\u001b[0m",
      "\u001b[1;32m~\\AppData\\Roaming\\Python\\Python38\\site-packages\\tensorflow\\python\\keras\\engine\\training.py\u001b[0m in \u001b[0;36m_method_wrapper\u001b[1;34m(self, *args, **kwargs)\u001b[0m\n\u001b[0;32m    106\u001b[0m   \u001b[1;32mdef\u001b[0m \u001b[0m_method_wrapper\u001b[0m\u001b[1;33m(\u001b[0m\u001b[0mself\u001b[0m\u001b[1;33m,\u001b[0m \u001b[1;33m*\u001b[0m\u001b[0margs\u001b[0m\u001b[1;33m,\u001b[0m \u001b[1;33m**\u001b[0m\u001b[0mkwargs\u001b[0m\u001b[1;33m)\u001b[0m\u001b[1;33m:\u001b[0m\u001b[1;33m\u001b[0m\u001b[1;33m\u001b[0m\u001b[0m\n\u001b[0;32m    107\u001b[0m     \u001b[1;32mif\u001b[0m \u001b[1;32mnot\u001b[0m \u001b[0mself\u001b[0m\u001b[1;33m.\u001b[0m\u001b[0m_in_multi_worker_mode\u001b[0m\u001b[1;33m(\u001b[0m\u001b[1;33m)\u001b[0m\u001b[1;33m:\u001b[0m  \u001b[1;31m# pylint: disable=protected-access\u001b[0m\u001b[1;33m\u001b[0m\u001b[1;33m\u001b[0m\u001b[0m\n\u001b[1;32m--> 108\u001b[1;33m       \u001b[1;32mreturn\u001b[0m \u001b[0mmethod\u001b[0m\u001b[1;33m(\u001b[0m\u001b[0mself\u001b[0m\u001b[1;33m,\u001b[0m \u001b[1;33m*\u001b[0m\u001b[0margs\u001b[0m\u001b[1;33m,\u001b[0m \u001b[1;33m**\u001b[0m\u001b[0mkwargs\u001b[0m\u001b[1;33m)\u001b[0m\u001b[1;33m\u001b[0m\u001b[1;33m\u001b[0m\u001b[0m\n\u001b[0m\u001b[0;32m    109\u001b[0m \u001b[1;33m\u001b[0m\u001b[0m\n\u001b[0;32m    110\u001b[0m     \u001b[1;31m# Running inside `run_distribute_coordinator` already.\u001b[0m\u001b[1;33m\u001b[0m\u001b[1;33m\u001b[0m\u001b[1;33m\u001b[0m\u001b[0m\n",
      "\u001b[1;32m~\\AppData\\Roaming\\Python\\Python38\\site-packages\\tensorflow\\python\\keras\\engine\\training.py\u001b[0m in \u001b[0;36mfit\u001b[1;34m(self, x, y, batch_size, epochs, verbose, callbacks, validation_split, validation_data, shuffle, class_weight, sample_weight, initial_epoch, steps_per_epoch, validation_steps, validation_batch_size, validation_freq, max_queue_size, workers, use_multiprocessing)\u001b[0m\n\u001b[0;32m   1096\u001b[0m                 batch_size=batch_size):\n\u001b[0;32m   1097\u001b[0m               \u001b[0mcallbacks\u001b[0m\u001b[1;33m.\u001b[0m\u001b[0mon_train_batch_begin\u001b[0m\u001b[1;33m(\u001b[0m\u001b[0mstep\u001b[0m\u001b[1;33m)\u001b[0m\u001b[1;33m\u001b[0m\u001b[1;33m\u001b[0m\u001b[0m\n\u001b[1;32m-> 1098\u001b[1;33m               \u001b[0mtmp_logs\u001b[0m \u001b[1;33m=\u001b[0m \u001b[0mtrain_function\u001b[0m\u001b[1;33m(\u001b[0m\u001b[0miterator\u001b[0m\u001b[1;33m)\u001b[0m\u001b[1;33m\u001b[0m\u001b[1;33m\u001b[0m\u001b[0m\n\u001b[0m\u001b[0;32m   1099\u001b[0m               \u001b[1;32mif\u001b[0m \u001b[0mdata_handler\u001b[0m\u001b[1;33m.\u001b[0m\u001b[0mshould_sync\u001b[0m\u001b[1;33m:\u001b[0m\u001b[1;33m\u001b[0m\u001b[1;33m\u001b[0m\u001b[0m\n\u001b[0;32m   1100\u001b[0m                 \u001b[0mcontext\u001b[0m\u001b[1;33m.\u001b[0m\u001b[0masync_wait\u001b[0m\u001b[1;33m(\u001b[0m\u001b[1;33m)\u001b[0m\u001b[1;33m\u001b[0m\u001b[1;33m\u001b[0m\u001b[0m\n",
      "\u001b[1;32m~\\AppData\\Roaming\\Python\\Python38\\site-packages\\tensorflow\\python\\eager\\def_function.py\u001b[0m in \u001b[0;36m__call__\u001b[1;34m(self, *args, **kwds)\u001b[0m\n\u001b[0;32m    778\u001b[0m       \u001b[1;32melse\u001b[0m\u001b[1;33m:\u001b[0m\u001b[1;33m\u001b[0m\u001b[1;33m\u001b[0m\u001b[0m\n\u001b[0;32m    779\u001b[0m         \u001b[0mcompiler\u001b[0m \u001b[1;33m=\u001b[0m \u001b[1;34m\"nonXla\"\u001b[0m\u001b[1;33m\u001b[0m\u001b[1;33m\u001b[0m\u001b[0m\n\u001b[1;32m--> 780\u001b[1;33m         \u001b[0mresult\u001b[0m \u001b[1;33m=\u001b[0m \u001b[0mself\u001b[0m\u001b[1;33m.\u001b[0m\u001b[0m_call\u001b[0m\u001b[1;33m(\u001b[0m\u001b[1;33m*\u001b[0m\u001b[0margs\u001b[0m\u001b[1;33m,\u001b[0m \u001b[1;33m**\u001b[0m\u001b[0mkwds\u001b[0m\u001b[1;33m)\u001b[0m\u001b[1;33m\u001b[0m\u001b[1;33m\u001b[0m\u001b[0m\n\u001b[0m\u001b[0;32m    781\u001b[0m \u001b[1;33m\u001b[0m\u001b[0m\n\u001b[0;32m    782\u001b[0m       \u001b[0mnew_tracing_count\u001b[0m \u001b[1;33m=\u001b[0m \u001b[0mself\u001b[0m\u001b[1;33m.\u001b[0m\u001b[0m_get_tracing_count\u001b[0m\u001b[1;33m(\u001b[0m\u001b[1;33m)\u001b[0m\u001b[1;33m\u001b[0m\u001b[1;33m\u001b[0m\u001b[0m\n",
      "\u001b[1;32m~\\AppData\\Roaming\\Python\\Python38\\site-packages\\tensorflow\\python\\eager\\def_function.py\u001b[0m in \u001b[0;36m_call\u001b[1;34m(self, *args, **kwds)\u001b[0m\n\u001b[0;32m    805\u001b[0m       \u001b[1;31m# In this case we have created variables on the first call, so we run the\u001b[0m\u001b[1;33m\u001b[0m\u001b[1;33m\u001b[0m\u001b[1;33m\u001b[0m\u001b[0m\n\u001b[0;32m    806\u001b[0m       \u001b[1;31m# defunned version which is guaranteed to never create variables.\u001b[0m\u001b[1;33m\u001b[0m\u001b[1;33m\u001b[0m\u001b[1;33m\u001b[0m\u001b[0m\n\u001b[1;32m--> 807\u001b[1;33m       \u001b[1;32mreturn\u001b[0m \u001b[0mself\u001b[0m\u001b[1;33m.\u001b[0m\u001b[0m_stateless_fn\u001b[0m\u001b[1;33m(\u001b[0m\u001b[1;33m*\u001b[0m\u001b[0margs\u001b[0m\u001b[1;33m,\u001b[0m \u001b[1;33m**\u001b[0m\u001b[0mkwds\u001b[0m\u001b[1;33m)\u001b[0m  \u001b[1;31m# pylint: disable=not-callable\u001b[0m\u001b[1;33m\u001b[0m\u001b[1;33m\u001b[0m\u001b[0m\n\u001b[0m\u001b[0;32m    808\u001b[0m     \u001b[1;32melif\u001b[0m \u001b[0mself\u001b[0m\u001b[1;33m.\u001b[0m\u001b[0m_stateful_fn\u001b[0m \u001b[1;32mis\u001b[0m \u001b[1;32mnot\u001b[0m \u001b[1;32mNone\u001b[0m\u001b[1;33m:\u001b[0m\u001b[1;33m\u001b[0m\u001b[1;33m\u001b[0m\u001b[0m\n\u001b[0;32m    809\u001b[0m       \u001b[1;31m# Release the lock early so that multiple threads can perform the call\u001b[0m\u001b[1;33m\u001b[0m\u001b[1;33m\u001b[0m\u001b[1;33m\u001b[0m\u001b[0m\n",
      "\u001b[1;32m~\\AppData\\Roaming\\Python\\Python38\\site-packages\\tensorflow\\python\\eager\\function.py\u001b[0m in \u001b[0;36m__call__\u001b[1;34m(self, *args, **kwargs)\u001b[0m\n\u001b[0;32m   2827\u001b[0m     \u001b[1;32mwith\u001b[0m \u001b[0mself\u001b[0m\u001b[1;33m.\u001b[0m\u001b[0m_lock\u001b[0m\u001b[1;33m:\u001b[0m\u001b[1;33m\u001b[0m\u001b[1;33m\u001b[0m\u001b[0m\n\u001b[0;32m   2828\u001b[0m       \u001b[0mgraph_function\u001b[0m\u001b[1;33m,\u001b[0m \u001b[0margs\u001b[0m\u001b[1;33m,\u001b[0m \u001b[0mkwargs\u001b[0m \u001b[1;33m=\u001b[0m \u001b[0mself\u001b[0m\u001b[1;33m.\u001b[0m\u001b[0m_maybe_define_function\u001b[0m\u001b[1;33m(\u001b[0m\u001b[0margs\u001b[0m\u001b[1;33m,\u001b[0m \u001b[0mkwargs\u001b[0m\u001b[1;33m)\u001b[0m\u001b[1;33m\u001b[0m\u001b[1;33m\u001b[0m\u001b[0m\n\u001b[1;32m-> 2829\u001b[1;33m     \u001b[1;32mreturn\u001b[0m \u001b[0mgraph_function\u001b[0m\u001b[1;33m.\u001b[0m\u001b[0m_filtered_call\u001b[0m\u001b[1;33m(\u001b[0m\u001b[0margs\u001b[0m\u001b[1;33m,\u001b[0m \u001b[0mkwargs\u001b[0m\u001b[1;33m)\u001b[0m  \u001b[1;31m# pylint: disable=protected-access\u001b[0m\u001b[1;33m\u001b[0m\u001b[1;33m\u001b[0m\u001b[0m\n\u001b[0m\u001b[0;32m   2830\u001b[0m \u001b[1;33m\u001b[0m\u001b[0m\n\u001b[0;32m   2831\u001b[0m   \u001b[1;33m@\u001b[0m\u001b[0mproperty\u001b[0m\u001b[1;33m\u001b[0m\u001b[1;33m\u001b[0m\u001b[0m\n",
      "\u001b[1;32m~\\AppData\\Roaming\\Python\\Python38\\site-packages\\tensorflow\\python\\eager\\function.py\u001b[0m in \u001b[0;36m_filtered_call\u001b[1;34m(self, args, kwargs, cancellation_manager)\u001b[0m\n\u001b[0;32m   1841\u001b[0m       \u001b[0;31m`\u001b[0m\u001b[0margs\u001b[0m\u001b[0;31m`\u001b[0m \u001b[1;32mand\u001b[0m\u001b[0;31m \u001b[0m\u001b[0;31m`\u001b[0m\u001b[0mkwargs\u001b[0m\u001b[0;31m`\u001b[0m\u001b[1;33m.\u001b[0m\u001b[1;33m\u001b[0m\u001b[1;33m\u001b[0m\u001b[0m\n\u001b[0;32m   1842\u001b[0m     \"\"\"\n\u001b[1;32m-> 1843\u001b[1;33m     return self._call_flat(\n\u001b[0m\u001b[0;32m   1844\u001b[0m         [t for t in nest.flatten((args, kwargs), expand_composites=True)\n\u001b[0;32m   1845\u001b[0m          if isinstance(t, (ops.Tensor,\n",
      "\u001b[1;32m~\\AppData\\Roaming\\Python\\Python38\\site-packages\\tensorflow\\python\\eager\\function.py\u001b[0m in \u001b[0;36m_call_flat\u001b[1;34m(self, args, captured_inputs, cancellation_manager)\u001b[0m\n\u001b[0;32m   1921\u001b[0m         and executing_eagerly):\n\u001b[0;32m   1922\u001b[0m       \u001b[1;31m# No tape is watching; skip to running the function.\u001b[0m\u001b[1;33m\u001b[0m\u001b[1;33m\u001b[0m\u001b[1;33m\u001b[0m\u001b[0m\n\u001b[1;32m-> 1923\u001b[1;33m       return self._build_call_outputs(self._inference_function.call(\n\u001b[0m\u001b[0;32m   1924\u001b[0m           ctx, args, cancellation_manager=cancellation_manager))\n\u001b[0;32m   1925\u001b[0m     forward_backward = self._select_forward_and_backward_functions(\n",
      "\u001b[1;32m~\\AppData\\Roaming\\Python\\Python38\\site-packages\\tensorflow\\python\\eager\\function.py\u001b[0m in \u001b[0;36mcall\u001b[1;34m(self, ctx, args, cancellation_manager)\u001b[0m\n\u001b[0;32m    543\u001b[0m       \u001b[1;32mwith\u001b[0m \u001b[0m_InterpolateFunctionError\u001b[0m\u001b[1;33m(\u001b[0m\u001b[0mself\u001b[0m\u001b[1;33m)\u001b[0m\u001b[1;33m:\u001b[0m\u001b[1;33m\u001b[0m\u001b[1;33m\u001b[0m\u001b[0m\n\u001b[0;32m    544\u001b[0m         \u001b[1;32mif\u001b[0m \u001b[0mcancellation_manager\u001b[0m \u001b[1;32mis\u001b[0m \u001b[1;32mNone\u001b[0m\u001b[1;33m:\u001b[0m\u001b[1;33m\u001b[0m\u001b[1;33m\u001b[0m\u001b[0m\n\u001b[1;32m--> 545\u001b[1;33m           outputs = execute.execute(\n\u001b[0m\u001b[0;32m    546\u001b[0m               \u001b[0mstr\u001b[0m\u001b[1;33m(\u001b[0m\u001b[0mself\u001b[0m\u001b[1;33m.\u001b[0m\u001b[0msignature\u001b[0m\u001b[1;33m.\u001b[0m\u001b[0mname\u001b[0m\u001b[1;33m)\u001b[0m\u001b[1;33m,\u001b[0m\u001b[1;33m\u001b[0m\u001b[1;33m\u001b[0m\u001b[0m\n\u001b[0;32m    547\u001b[0m               \u001b[0mnum_outputs\u001b[0m\u001b[1;33m=\u001b[0m\u001b[0mself\u001b[0m\u001b[1;33m.\u001b[0m\u001b[0m_num_outputs\u001b[0m\u001b[1;33m,\u001b[0m\u001b[1;33m\u001b[0m\u001b[1;33m\u001b[0m\u001b[0m\n",
      "\u001b[1;32m~\\AppData\\Roaming\\Python\\Python38\\site-packages\\tensorflow\\python\\eager\\execute.py\u001b[0m in \u001b[0;36mquick_execute\u001b[1;34m(op_name, num_outputs, inputs, attrs, ctx, name)\u001b[0m\n\u001b[0;32m     57\u001b[0m   \u001b[1;32mtry\u001b[0m\u001b[1;33m:\u001b[0m\u001b[1;33m\u001b[0m\u001b[1;33m\u001b[0m\u001b[0m\n\u001b[0;32m     58\u001b[0m     \u001b[0mctx\u001b[0m\u001b[1;33m.\u001b[0m\u001b[0mensure_initialized\u001b[0m\u001b[1;33m(\u001b[0m\u001b[1;33m)\u001b[0m\u001b[1;33m\u001b[0m\u001b[1;33m\u001b[0m\u001b[0m\n\u001b[1;32m---> 59\u001b[1;33m     tensors = pywrap_tfe.TFE_Py_Execute(ctx._handle, device_name, op_name,\n\u001b[0m\u001b[0;32m     60\u001b[0m                                         inputs, attrs, num_outputs)\n\u001b[0;32m     61\u001b[0m   \u001b[1;32mexcept\u001b[0m \u001b[0mcore\u001b[0m\u001b[1;33m.\u001b[0m\u001b[0m_NotOkStatusException\u001b[0m \u001b[1;32mas\u001b[0m \u001b[0me\u001b[0m\u001b[1;33m:\u001b[0m\u001b[1;33m\u001b[0m\u001b[1;33m\u001b[0m\u001b[0m\n",
      "\u001b[1;31mKeyboardInterrupt\u001b[0m: "
     ]
    }
   ],
   "source": [
    "scaled_data = scaled_data\n",
    "window = 60\n",
    "X_data = []\n",
    "y_data = []\n",
    "for i in range(window, len(scaled_data)):\n",
    "    X_data.append(scaled_data[i-window:i,:])\n",
    "    y_data.append(scaled_data[i, 0:1])\n",
    "X_data, y_data = np.array(X_data), np.array(y_data)\n",
    "history = regressor.fit(X_data, y_data, epochs = 50, batch_size = 64)"
   ]
  },
  {
   "cell_type": "code",
   "execution_count": null,
   "metadata": {
    "id": "E1LL5KM8vlrC"
   },
   "outputs": [],
   "source": [
    "predicted = regressor.predict(X_data)\n",
    "print(predicted)\n",
    "volume = dataset[:len(X_data), 1:]\n",
    "predicted = np.column_stack((predicted, volume))\n",
    "predicted = sc.inverse_transform(predicted)\n",
    "allForecastedData = predicted[:,0:1]\n",
    "# date = df['DATA']\n",
    "date = df.index\n",
    "print(dataset.shape)\n",
    "print(predicted.shape)\n",
    "figure(figsize=(20, 6), dpi=80)\n",
    "plt.plot(dataset[window:, 0:1], color = 'red', label = 'Previsto')\n",
    "plt.plot(predicted[:,0:1], color = 'blue', label = 'Real')\n",
    "plt.title('Previsão de série temporal')\n",
    "plt.xlabel('Tempo')\n",
    "plt.ylabel('Cotação (R$)')\n",
    "plt.legend()\n",
    "plt.show()"
   ]
  },
  {
   "cell_type": "code",
   "execution_count": null,
   "metadata": {
    "id": "CtRI0NBrzz4D"
   },
   "outputs": [],
   "source": [
    "from datetime import date, datetime, timedelta\n",
    "today = datetime.today()\n",
    "today_minus_100 = today - timedelta(days=100)\n",
    "df_new = web.DataReader(\"PETR4.SA\", data_source=\"yahoo\", start=today_minus_100, end=today)\n",
    "df_bovespa_new = web.DataReader(\"^BVSP\", data_source=\"yahoo\", start=today_minus_100, end=today)\n",
    "df_dolar_new = web.DataReader(\"USDBRL=X\", data_source=\"yahoo\", start=today_minus_100, end=today)\n",
    "df_new = df_new.merge(df_bovespa_new, left_on='Date', right_on='Date', suffixes=('', '_bovespa'))\n",
    "df_new = df_new.merge(df_dolar_new, left_on='Date', right_on='Date', suffixes=('', '_dolar'))\n",
    "df_new = df_new.filter([\"Close\", \"Volume\", \"Close_bovespa\", \"Volume_bovespa\"])\n",
    "\n",
    "print(df_new.tail())\n",
    "last_days = df_new.values\n",
    "scaled = sc.transform(last_days)\n",
    "x = []\n",
    "x.append(scaled)\n",
    "x = np.array(x)\n",
    "x = np.reshape(x, (x.shape[0], x.shape[1], -1))\n",
    "pred_price = regressor.predict(x)\n",
    "volume_new = last_days[0:1, 1:]\n",
    "pred_price = np.column_stack((pred_price, volume_new))\n",
    "pred_price = sc.inverse_transform(pred_price)\n",
    "print(pred_price[0][0])"
   ]
  }
 ],
 "metadata": {
  "colab": {
   "collapsed_sections": [],
   "name": "V1 LSTM.ipynb",
   "provenance": []
  },
  "interpreter": {
   "hash": "e9d26aef1b45c2698ea6efe547ad5d4a29e612063653693e2b8c59ffe1c6a0ee"
  },
  "kernelspec": {
   "display_name": "Python 3 (ipykernel)",
   "language": "python",
   "name": "python3"
  },
  "language_info": {
   "codemirror_mode": {
    "name": "ipython",
    "version": 3
   },
   "file_extension": ".py",
   "mimetype": "text/x-python",
   "name": "python",
   "nbconvert_exporter": "python",
   "pygments_lexer": "ipython3",
   "version": "3.8.7"
  }
 },
 "nbformat": 4,
 "nbformat_minor": 1
}
