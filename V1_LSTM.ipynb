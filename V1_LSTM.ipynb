{
  "nbformat": 4,
  "nbformat_minor": 0,
  "metadata": {
    "colab": {
      "name": "V1 LSTM.ipynb",
      "provenance": [],
      "collapsed_sections": []
    },
    "kernelspec": {
      "name": "python3",
      "display_name": "Python 3"
    },
    "language_info": {
      "name": "python"
    }
  },
  "cells": [
    {
      "cell_type": "code",
      "metadata": {
        "id": "WXZs1haGNdYv"
      },
      "source": [
        "import numpy as np\n",
        "import pandas_datareader as web\n",
        "import pandas as pd\n",
        "import seaborn as sns\n",
        "import matplotlib.pyplot as plt\n",
        "import math\n",
        "from matplotlib.pyplot import figure\n",
        "from sklearn.preprocessing import MinMaxScaler, StandardScaler\n",
        "from sklearn.metrics import mean_squared_error\n",
        "from sklearn.metrics import r2_score\n",
        "from keras.models import Sequential\n",
        "from keras.layers import Dense\n",
        "from keras.layers import LSTM\n",
        "from keras.layers import Dropout"
      ],
      "execution_count": null,
      "outputs": []
    },
    {
      "cell_type": "code",
      "metadata": {
        "colab": {
          "base_uri": "https://localhost:8080/",
          "height": 455
        },
        "id": "ZLE4oRySNhEC",
        "outputId": "c43e9a74-043b-4b03-d1f6-e1f14cf45aac"
      },
      "source": [
        "df = web.DataReader(\"PETR4.SA\", data_source=\"yahoo\", start=\"2015-01-01\", end=\"2019-12-31\")\n",
        "df"
      ],
      "execution_count": null,
      "outputs": [
        {
          "output_type": "execute_result",
          "data": {
            "text/html": [
              "<div>\n",
              "<style scoped>\n",
              "    .dataframe tbody tr th:only-of-type {\n",
              "        vertical-align: middle;\n",
              "    }\n",
              "\n",
              "    .dataframe tbody tr th {\n",
              "        vertical-align: top;\n",
              "    }\n",
              "\n",
              "    .dataframe thead th {\n",
              "        text-align: right;\n",
              "    }\n",
              "</style>\n",
              "<table border=\"1\" class=\"dataframe\">\n",
              "  <thead>\n",
              "    <tr style=\"text-align: right;\">\n",
              "      <th></th>\n",
              "      <th>High</th>\n",
              "      <th>Low</th>\n",
              "      <th>Open</th>\n",
              "      <th>Close</th>\n",
              "      <th>Volume</th>\n",
              "      <th>Adj Close</th>\n",
              "    </tr>\n",
              "    <tr>\n",
              "      <th>Date</th>\n",
              "      <th></th>\n",
              "      <th></th>\n",
              "      <th></th>\n",
              "      <th></th>\n",
              "      <th></th>\n",
              "      <th></th>\n",
              "    </tr>\n",
              "  </thead>\n",
              "  <tbody>\n",
              "    <tr>\n",
              "      <th>2015-01-02</th>\n",
              "      <td>9.990000</td>\n",
              "      <td>9.350000</td>\n",
              "      <td>9.990000</td>\n",
              "      <td>9.36</td>\n",
              "      <td>49559500.0</td>\n",
              "      <td>8.400862</td>\n",
              "    </tr>\n",
              "    <tr>\n",
              "      <th>2015-01-05</th>\n",
              "      <td>9.190000</td>\n",
              "      <td>8.530000</td>\n",
              "      <td>9.140000</td>\n",
              "      <td>8.56</td>\n",
              "      <td>78385100.0</td>\n",
              "      <td>7.682839</td>\n",
              "    </tr>\n",
              "    <tr>\n",
              "      <th>2015-01-06</th>\n",
              "      <td>8.830000</td>\n",
              "      <td>8.040000</td>\n",
              "      <td>8.710000</td>\n",
              "      <td>8.28</td>\n",
              "      <td>84723300.0</td>\n",
              "      <td>7.431530</td>\n",
              "    </tr>\n",
              "    <tr>\n",
              "      <th>2015-01-07</th>\n",
              "      <td>8.730000</td>\n",
              "      <td>8.360000</td>\n",
              "      <td>8.560000</td>\n",
              "      <td>8.67</td>\n",
              "      <td>85531000.0</td>\n",
              "      <td>7.781567</td>\n",
              "    </tr>\n",
              "    <tr>\n",
              "      <th>2015-01-08</th>\n",
              "      <td>9.390000</td>\n",
              "      <td>8.740000</td>\n",
              "      <td>8.790000</td>\n",
              "      <td>9.23</td>\n",
              "      <td>83306300.0</td>\n",
              "      <td>8.284181</td>\n",
              "    </tr>\n",
              "    <tr>\n",
              "      <th>...</th>\n",
              "      <td>...</td>\n",
              "      <td>...</td>\n",
              "      <td>...</td>\n",
              "      <td>...</td>\n",
              "      <td>...</td>\n",
              "      <td>...</td>\n",
              "    </tr>\n",
              "    <tr>\n",
              "      <th>2019-12-20</th>\n",
              "      <td>30.600000</td>\n",
              "      <td>30.020000</td>\n",
              "      <td>30.600000</td>\n",
              "      <td>30.26</td>\n",
              "      <td>93064900.0</td>\n",
              "      <td>28.873985</td>\n",
              "    </tr>\n",
              "    <tr>\n",
              "      <th>2019-12-23</th>\n",
              "      <td>30.500000</td>\n",
              "      <td>30.030001</td>\n",
              "      <td>30.190001</td>\n",
              "      <td>30.50</td>\n",
              "      <td>21970200.0</td>\n",
              "      <td>29.102993</td>\n",
              "    </tr>\n",
              "    <tr>\n",
              "      <th>2019-12-26</th>\n",
              "      <td>30.930000</td>\n",
              "      <td>30.500000</td>\n",
              "      <td>30.590000</td>\n",
              "      <td>30.91</td>\n",
              "      <td>24810500.0</td>\n",
              "      <td>29.494211</td>\n",
              "    </tr>\n",
              "    <tr>\n",
              "      <th>2019-12-27</th>\n",
              "      <td>30.920000</td>\n",
              "      <td>30.290001</td>\n",
              "      <td>30.690001</td>\n",
              "      <td>30.52</td>\n",
              "      <td>24995100.0</td>\n",
              "      <td>29.525114</td>\n",
              "    </tr>\n",
              "    <tr>\n",
              "      <th>2019-12-30</th>\n",
              "      <td>30.709999</td>\n",
              "      <td>30.150000</td>\n",
              "      <td>30.549999</td>\n",
              "      <td>30.18</td>\n",
              "      <td>22111600.0</td>\n",
              "      <td>29.196196</td>\n",
              "    </tr>\n",
              "  </tbody>\n",
              "</table>\n",
              "<p>1241 rows × 6 columns</p>\n",
              "</div>"
            ],
            "text/plain": [
              "                 High        Low       Open  Close      Volume  Adj Close\n",
              "Date                                                                     \n",
              "2015-01-02   9.990000   9.350000   9.990000   9.36  49559500.0   8.400862\n",
              "2015-01-05   9.190000   8.530000   9.140000   8.56  78385100.0   7.682839\n",
              "2015-01-06   8.830000   8.040000   8.710000   8.28  84723300.0   7.431530\n",
              "2015-01-07   8.730000   8.360000   8.560000   8.67  85531000.0   7.781567\n",
              "2015-01-08   9.390000   8.740000   8.790000   9.23  83306300.0   8.284181\n",
              "...               ...        ...        ...    ...         ...        ...\n",
              "2019-12-20  30.600000  30.020000  30.600000  30.26  93064900.0  28.873985\n",
              "2019-12-23  30.500000  30.030001  30.190001  30.50  21970200.0  29.102993\n",
              "2019-12-26  30.930000  30.500000  30.590000  30.91  24810500.0  29.494211\n",
              "2019-12-27  30.920000  30.290001  30.690001  30.52  24995100.0  29.525114\n",
              "2019-12-30  30.709999  30.150000  30.549999  30.18  22111600.0  29.196196\n",
              "\n",
              "[1241 rows x 6 columns]"
            ]
          },
          "metadata": {
            "tags": []
          },
          "execution_count": 44
        }
      ]
    },
    {
      "cell_type": "code",
      "metadata": {
        "colab": {
          "base_uri": "https://localhost:8080/"
        },
        "id": "U0BBIen7Njpc",
        "outputId": "40f52750-b211-4ffa-dafc-5973e971e4a6"
      },
      "source": [
        "df.shape"
      ],
      "execution_count": null,
      "outputs": [
        {
          "output_type": "execute_result",
          "data": {
            "text/plain": [
              "(1241, 6)"
            ]
          },
          "metadata": {
            "tags": []
          },
          "execution_count": 45
        }
      ]
    },
    {
      "cell_type": "code",
      "metadata": {
        "colab": {
          "base_uri": "https://localhost:8080/",
          "height": 455
        },
        "id": "K8wtyI6KNbcU",
        "outputId": "fbd0803c-1268-49a1-eb58-f65fc832a9f5"
      },
      "source": [
        "df_bovespa = web.DataReader(\"^BVSP\", data_source=\"yahoo\", start=\"2015-01-01\", end=\"2019-12-31\")\n",
        "# df_bovespa.reset_index(inplace=True,drop=False)\n",
        "df_bovespa"
      ],
      "execution_count": null,
      "outputs": [
        {
          "output_type": "execute_result",
          "data": {
            "text/html": [
              "<div>\n",
              "<style scoped>\n",
              "    .dataframe tbody tr th:only-of-type {\n",
              "        vertical-align: middle;\n",
              "    }\n",
              "\n",
              "    .dataframe tbody tr th {\n",
              "        vertical-align: top;\n",
              "    }\n",
              "\n",
              "    .dataframe thead th {\n",
              "        text-align: right;\n",
              "    }\n",
              "</style>\n",
              "<table border=\"1\" class=\"dataframe\">\n",
              "  <thead>\n",
              "    <tr style=\"text-align: right;\">\n",
              "      <th></th>\n",
              "      <th>High</th>\n",
              "      <th>Low</th>\n",
              "      <th>Open</th>\n",
              "      <th>Close</th>\n",
              "      <th>Volume</th>\n",
              "      <th>Adj Close</th>\n",
              "    </tr>\n",
              "    <tr>\n",
              "      <th>Date</th>\n",
              "      <th></th>\n",
              "      <th></th>\n",
              "      <th></th>\n",
              "      <th></th>\n",
              "      <th></th>\n",
              "      <th></th>\n",
              "    </tr>\n",
              "  </thead>\n",
              "  <tbody>\n",
              "    <tr>\n",
              "      <th>2015-01-02</th>\n",
              "      <td>50005.0</td>\n",
              "      <td>48345.0</td>\n",
              "      <td>50005.0</td>\n",
              "      <td>48512.0</td>\n",
              "      <td>2882100.0</td>\n",
              "      <td>48512.0</td>\n",
              "    </tr>\n",
              "    <tr>\n",
              "      <th>2015-01-05</th>\n",
              "      <td>48512.0</td>\n",
              "      <td>47264.0</td>\n",
              "      <td>48512.0</td>\n",
              "      <td>47517.0</td>\n",
              "      <td>3866100.0</td>\n",
              "      <td>47517.0</td>\n",
              "    </tr>\n",
              "    <tr>\n",
              "      <th>2015-01-06</th>\n",
              "      <td>48061.0</td>\n",
              "      <td>47338.0</td>\n",
              "      <td>47517.0</td>\n",
              "      <td>48001.0</td>\n",
              "      <td>4559300.0</td>\n",
              "      <td>48001.0</td>\n",
              "    </tr>\n",
              "    <tr>\n",
              "      <th>2015-01-07</th>\n",
              "      <td>49882.0</td>\n",
              "      <td>48006.0</td>\n",
              "      <td>48006.0</td>\n",
              "      <td>49463.0</td>\n",
              "      <td>4408800.0</td>\n",
              "      <td>49463.0</td>\n",
              "    </tr>\n",
              "    <tr>\n",
              "      <th>2015-01-08</th>\n",
              "      <td>50261.0</td>\n",
              "      <td>49017.0</td>\n",
              "      <td>49463.0</td>\n",
              "      <td>49943.0</td>\n",
              "      <td>3621900.0</td>\n",
              "      <td>49943.0</td>\n",
              "    </tr>\n",
              "    <tr>\n",
              "      <th>...</th>\n",
              "      <td>...</td>\n",
              "      <td>...</td>\n",
              "      <td>...</td>\n",
              "      <td>...</td>\n",
              "      <td>...</td>\n",
              "      <td>...</td>\n",
              "    </tr>\n",
              "    <tr>\n",
              "      <th>2019-12-20</th>\n",
              "      <td>115171.0</td>\n",
              "      <td>114526.0</td>\n",
              "      <td>115133.0</td>\n",
              "      <td>115121.0</td>\n",
              "      <td>6887400.0</td>\n",
              "      <td>115121.0</td>\n",
              "    </tr>\n",
              "    <tr>\n",
              "      <th>2019-12-23</th>\n",
              "      <td>115863.0</td>\n",
              "      <td>114964.0</td>\n",
              "      <td>115119.0</td>\n",
              "      <td>115863.0</td>\n",
              "      <td>3995200.0</td>\n",
              "      <td>115863.0</td>\n",
              "    </tr>\n",
              "    <tr>\n",
              "      <th>2019-12-26</th>\n",
              "      <td>117220.0</td>\n",
              "      <td>115673.0</td>\n",
              "      <td>115864.0</td>\n",
              "      <td>117203.0</td>\n",
              "      <td>3788900.0</td>\n",
              "      <td>117203.0</td>\n",
              "    </tr>\n",
              "    <tr>\n",
              "      <th>2019-12-27</th>\n",
              "      <td>117803.0</td>\n",
              "      <td>115995.0</td>\n",
              "      <td>117205.0</td>\n",
              "      <td>116534.0</td>\n",
              "      <td>3905900.0</td>\n",
              "      <td>116534.0</td>\n",
              "    </tr>\n",
              "    <tr>\n",
              "      <th>2019-12-30</th>\n",
              "      <td>117086.0</td>\n",
              "      <td>115790.0</td>\n",
              "      <td>116530.0</td>\n",
              "      <td>115964.0</td>\n",
              "      <td>3667900.0</td>\n",
              "      <td>115964.0</td>\n",
              "    </tr>\n",
              "  </tbody>\n",
              "</table>\n",
              "<p>1235 rows × 6 columns</p>\n",
              "</div>"
            ],
            "text/plain": [
              "                High       Low      Open     Close     Volume  Adj Close\n",
              "Date                                                                    \n",
              "2015-01-02   50005.0   48345.0   50005.0   48512.0  2882100.0    48512.0\n",
              "2015-01-05   48512.0   47264.0   48512.0   47517.0  3866100.0    47517.0\n",
              "2015-01-06   48061.0   47338.0   47517.0   48001.0  4559300.0    48001.0\n",
              "2015-01-07   49882.0   48006.0   48006.0   49463.0  4408800.0    49463.0\n",
              "2015-01-08   50261.0   49017.0   49463.0   49943.0  3621900.0    49943.0\n",
              "...              ...       ...       ...       ...        ...        ...\n",
              "2019-12-20  115171.0  114526.0  115133.0  115121.0  6887400.0   115121.0\n",
              "2019-12-23  115863.0  114964.0  115119.0  115863.0  3995200.0   115863.0\n",
              "2019-12-26  117220.0  115673.0  115864.0  117203.0  3788900.0   117203.0\n",
              "2019-12-27  117803.0  115995.0  117205.0  116534.0  3905900.0   116534.0\n",
              "2019-12-30  117086.0  115790.0  116530.0  115964.0  3667900.0   115964.0\n",
              "\n",
              "[1235 rows x 6 columns]"
            ]
          },
          "metadata": {
            "tags": []
          },
          "execution_count": 46
        }
      ]
    },
    {
      "cell_type": "code",
      "metadata": {
        "colab": {
          "base_uri": "https://localhost:8080/"
        },
        "id": "EZid73x9Nl_w",
        "outputId": "a1781db4-3d1b-497c-8bde-53e67282d037"
      },
      "source": [
        "df_bovespa.shape"
      ],
      "execution_count": null,
      "outputs": [
        {
          "output_type": "execute_result",
          "data": {
            "text/plain": [
              "(1235, 6)"
            ]
          },
          "metadata": {
            "tags": []
          },
          "execution_count": 47
        }
      ]
    },
    {
      "cell_type": "code",
      "metadata": {
        "colab": {
          "base_uri": "https://localhost:8080/",
          "height": 338
        },
        "id": "n8LZIcI-QKBh",
        "outputId": "01288265-2104-4026-be9d-3d53283db9cf"
      },
      "source": [
        "df = df.merge(df_bovespa, left_on='Date', right_on='Date', suffixes=('', '_bovespa'))\n",
        "df.describe()"
      ],
      "execution_count": null,
      "outputs": [
        {
          "output_type": "execute_result",
          "data": {
            "text/html": [
              "<div>\n",
              "<style scoped>\n",
              "    .dataframe tbody tr th:only-of-type {\n",
              "        vertical-align: middle;\n",
              "    }\n",
              "\n",
              "    .dataframe tbody tr th {\n",
              "        vertical-align: top;\n",
              "    }\n",
              "\n",
              "    .dataframe thead th {\n",
              "        text-align: right;\n",
              "    }\n",
              "</style>\n",
              "<table border=\"1\" class=\"dataframe\">\n",
              "  <thead>\n",
              "    <tr style=\"text-align: right;\">\n",
              "      <th></th>\n",
              "      <th>High</th>\n",
              "      <th>Low</th>\n",
              "      <th>Open</th>\n",
              "      <th>Close</th>\n",
              "      <th>Volume</th>\n",
              "      <th>Adj Close</th>\n",
              "      <th>High_bovespa</th>\n",
              "      <th>Low_bovespa</th>\n",
              "      <th>Open_bovespa</th>\n",
              "      <th>Close_bovespa</th>\n",
              "      <th>Volume_bovespa</th>\n",
              "      <th>Adj Close_bovespa</th>\n",
              "    </tr>\n",
              "  </thead>\n",
              "  <tbody>\n",
              "    <tr>\n",
              "      <th>count</th>\n",
              "      <td>1235.000000</td>\n",
              "      <td>1235.000000</td>\n",
              "      <td>1235.000000</td>\n",
              "      <td>1235.000000</td>\n",
              "      <td>1.235000e+03</td>\n",
              "      <td>1235.000000</td>\n",
              "      <td>1235.000000</td>\n",
              "      <td>1235.000000</td>\n",
              "      <td>1235.000000</td>\n",
              "      <td>1235.000000</td>\n",
              "      <td>1.235000e+03</td>\n",
              "      <td>1235.000000</td>\n",
              "    </tr>\n",
              "    <tr>\n",
              "      <th>mean</th>\n",
              "      <td>16.946024</td>\n",
              "      <td>16.417725</td>\n",
              "      <td>16.693765</td>\n",
              "      <td>16.669887</td>\n",
              "      <td>5.410856e+07</td>\n",
              "      <td>15.220927</td>\n",
              "      <td>71258.726316</td>\n",
              "      <td>69996.229960</td>\n",
              "      <td>70605.106883</td>\n",
              "      <td>70656.285020</td>\n",
              "      <td>3.794215e+06</td>\n",
              "      <td>70656.285020</td>\n",
              "    </tr>\n",
              "    <tr>\n",
              "      <th>std</th>\n",
              "      <td>7.135614</td>\n",
              "      <td>7.025846</td>\n",
              "      <td>7.087856</td>\n",
              "      <td>7.081970</td>\n",
              "      <td>2.619016e+07</td>\n",
              "      <td>6.751748</td>\n",
              "      <td>19634.810008</td>\n",
              "      <td>19447.130086</td>\n",
              "      <td>19532.433000</td>\n",
              "      <td>19564.626768</td>\n",
              "      <td>1.203582e+06</td>\n",
              "      <td>19564.626768</td>\n",
              "    </tr>\n",
              "    <tr>\n",
              "      <th>min</th>\n",
              "      <td>4.270000</td>\n",
              "      <td>4.120000</td>\n",
              "      <td>4.200000</td>\n",
              "      <td>4.200000</td>\n",
              "      <td>0.000000e+00</td>\n",
              "      <td>3.769617</td>\n",
              "      <td>38031.000000</td>\n",
              "      <td>37046.000000</td>\n",
              "      <td>37501.000000</td>\n",
              "      <td>37497.000000</td>\n",
              "      <td>0.000000e+00</td>\n",
              "      <td>37497.000000</td>\n",
              "    </tr>\n",
              "    <tr>\n",
              "      <th>25%</th>\n",
              "      <td>11.150000</td>\n",
              "      <td>10.630000</td>\n",
              "      <td>10.910000</td>\n",
              "      <td>10.855000</td>\n",
              "      <td>3.727595e+07</td>\n",
              "      <td>9.742666</td>\n",
              "      <td>53498.500000</td>\n",
              "      <td>52677.000000</td>\n",
              "      <td>53087.500000</td>\n",
              "      <td>53094.500000</td>\n",
              "      <td>3.078600e+06</td>\n",
              "      <td>53094.500000</td>\n",
              "    </tr>\n",
              "    <tr>\n",
              "      <th>50%</th>\n",
              "      <td>15.520000</td>\n",
              "      <td>15.060000</td>\n",
              "      <td>15.300000</td>\n",
              "      <td>15.310000</td>\n",
              "      <td>4.868110e+07</td>\n",
              "      <td>13.741150</td>\n",
              "      <td>66758.000000</td>\n",
              "      <td>65842.000000</td>\n",
              "      <td>66195.000000</td>\n",
              "      <td>66235.000000</td>\n",
              "      <td>3.658900e+06</td>\n",
              "      <td>66235.000000</td>\n",
              "    </tr>\n",
              "    <tr>\n",
              "      <th>75%</th>\n",
              "      <td>23.160000</td>\n",
              "      <td>22.575000</td>\n",
              "      <td>22.810000</td>\n",
              "      <td>22.890000</td>\n",
              "      <td>6.523980e+07</td>\n",
              "      <td>20.658709</td>\n",
              "      <td>86157.000000</td>\n",
              "      <td>84582.500000</td>\n",
              "      <td>85515.000000</td>\n",
              "      <td>85539.000000</td>\n",
              "      <td>4.389100e+06</td>\n",
              "      <td>85539.000000</td>\n",
              "    </tr>\n",
              "    <tr>\n",
              "      <th>max</th>\n",
              "      <td>31.230000</td>\n",
              "      <td>30.500000</td>\n",
              "      <td>30.889999</td>\n",
              "      <td>30.969999</td>\n",
              "      <td>2.403438e+08</td>\n",
              "      <td>29.551464</td>\n",
              "      <td>117803.000000</td>\n",
              "      <td>115995.000000</td>\n",
              "      <td>117205.000000</td>\n",
              "      <td>117203.000000</td>\n",
              "      <td>1.104670e+07</td>\n",
              "      <td>117203.000000</td>\n",
              "    </tr>\n",
              "  </tbody>\n",
              "</table>\n",
              "</div>"
            ],
            "text/plain": [
              "              High          Low  ...  Volume_bovespa  Adj Close_bovespa\n",
              "count  1235.000000  1235.000000  ...    1.235000e+03        1235.000000\n",
              "mean     16.946024    16.417725  ...    3.794215e+06       70656.285020\n",
              "std       7.135614     7.025846  ...    1.203582e+06       19564.626768\n",
              "min       4.270000     4.120000  ...    0.000000e+00       37497.000000\n",
              "25%      11.150000    10.630000  ...    3.078600e+06       53094.500000\n",
              "50%      15.520000    15.060000  ...    3.658900e+06       66235.000000\n",
              "75%      23.160000    22.575000  ...    4.389100e+06       85539.000000\n",
              "max      31.230000    30.500000  ...    1.104670e+07      117203.000000\n",
              "\n",
              "[8 rows x 12 columns]"
            ]
          },
          "metadata": {
            "tags": []
          },
          "execution_count": 48
        }
      ]
    },
    {
      "cell_type": "code",
      "metadata": {
        "colab": {
          "base_uri": "https://localhost:8080/"
        },
        "id": "0zLbypzWtzci",
        "outputId": "73b04d20-c980-4d55-cf5c-412eb923c8c4"
      },
      "source": [
        "data = df.filter([\"Close\", \"Volume\", \"Close_bovespa\", \"Volume_bovespa\"])\n",
        "dataset = data.values\n",
        "training_data_len = math.ceil(len(dataset) * .7)\n",
        "training_data_len\n",
        "dataset.shape"
      ],
      "execution_count": null,
      "outputs": [
        {
          "output_type": "execute_result",
          "data": {
            "text/plain": [
              "(1235, 4)"
            ]
          },
          "metadata": {
            "tags": []
          },
          "execution_count": 49
        }
      ]
    },
    {
      "cell_type": "code",
      "metadata": {
        "id": "TAqmEmtyuB16"
      },
      "source": [
        "sc = MinMaxScaler(feature_range = (0, 1))\n",
        "scaled_data = sc.fit_transform(dataset)"
      ],
      "execution_count": null,
      "outputs": []
    },
    {
      "cell_type": "code",
      "metadata": {
        "colab": {
          "base_uri": "https://localhost:8080/"
        },
        "id": "1xCbxaHWuJFU",
        "outputId": "b403b055-16d9-4cf5-df3c-2d7a17e579ab"
      },
      "source": [
        "scaled_data"
      ],
      "execution_count": null,
      "outputs": [
        {
          "output_type": "execute_result",
          "data": {
            "text/plain": [
              "array([[0.19275308, 0.20620253, 0.13819537, 0.26090145],\n",
              "       [0.16286891, 0.32613739, 0.12571199, 0.34997782],\n",
              "       [0.15240941, 0.35250878, 0.13178431, 0.41272959],\n",
              "       ...,\n",
              "       [0.99775871, 0.10322921, 1.        , 0.34298931],\n",
              "       [0.98319018, 0.10399727, 0.99160665, 0.35358071],\n",
              "       [0.97048939, 0.09199988, 0.98445537, 0.33203581]])"
            ]
          },
          "metadata": {
            "tags": []
          },
          "execution_count": 51
        }
      ]
    },
    {
      "cell_type": "code",
      "metadata": {
        "id": "dv_rZkU1uqlc"
      },
      "source": [
        "train_data = scaled_data[0:training_data_len,:]\n",
        "# print(train_data)\n",
        "window = 60\n",
        "X_train = []\n",
        "y_train = []\n",
        "for i in range(window, len(train_data)):\n",
        "    X_train.append(train_data[i-window:i,:])\n",
        "    y_train.append(train_data[i, 0:1])\n",
        "    # if i <= (window + 1):\n",
        "    #   print(X_train)\n",
        "    #   print(y_train)\n",
        "    #   print()\n",
        "X_train, y_train = np.array(X_train), np.array(y_train)"
      ],
      "execution_count": null,
      "outputs": []
    },
    {
      "cell_type": "code",
      "metadata": {
        "colab": {
          "base_uri": "https://localhost:8080/"
        },
        "id": "AqkMLK-4uxzK",
        "outputId": "4cf68abf-5589-4057-9bf5-8e49efc91cce"
      },
      "source": [
        "X_train.shape"
      ],
      "execution_count": null,
      "outputs": [
        {
          "output_type": "execute_result",
          "data": {
            "text/plain": [
              "(805, 60, 4)"
            ]
          },
          "metadata": {
            "tags": []
          },
          "execution_count": 53
        }
      ]
    },
    {
      "cell_type": "code",
      "metadata": {
        "id": "jJ0aXnzAuy1C"
      },
      "source": [
        "X_train = np.reshape(X_train, (X_train.shape[0], X_train.shape[1], -1))"
      ],
      "execution_count": null,
      "outputs": []
    },
    {
      "cell_type": "code",
      "metadata": {
        "colab": {
          "base_uri": "https://localhost:8080/"
        },
        "id": "q03yzNLlu2on",
        "outputId": "d4d1d3cb-c876-4539-aee5-8b26dd6910bd"
      },
      "source": [
        "X_train.shape"
      ],
      "execution_count": null,
      "outputs": [
        {
          "output_type": "execute_result",
          "data": {
            "text/plain": [
              "(805, 60, 4)"
            ]
          },
          "metadata": {
            "tags": []
          },
          "execution_count": 55
        }
      ]
    },
    {
      "cell_type": "code",
      "metadata": {
        "colab": {
          "base_uri": "https://localhost:8080/"
        },
        "id": "RkUoLngeu6aj",
        "outputId": "37c71118-6fa9-4a1a-d670-b194825f9fc8"
      },
      "source": [
        "# Inicializar a RNN\n",
        "regressor = Sequential()\n",
        "\n",
        "# Adicionar a primeira camada LSTM e Dropout \n",
        "regressor.add(LSTM(units = 100, return_sequences = True, input_shape = (X_train.shape[1], X_train.shape[2])))\n",
        "regressor.add(Dropout(0.2))\n",
        " \n",
        "# Adicionar a segunda camada LSTM e Dropout\n",
        "regressor.add(LSTM(units = 80, return_sequences = True))\n",
        "regressor.add(Dropout(0.2))\n",
        " \n",
        "# Adicionar a terceira camada LSTM e Dropout\n",
        "regressor.add(LSTM(units = 50))\n",
        "regressor.add(Dropout(0.2))\n",
        " \n",
        "# camada de saída\n",
        "regressor.add(Dense(units = 1))\n",
        " \n",
        "# Compilar a rede\n",
        "regressor.compile(optimizer = 'adam', loss = 'mean_squared_error')\n",
        "\n",
        "# Visualizar a rede\n",
        "regressor.summary()"
      ],
      "execution_count": null,
      "outputs": [
        {
          "output_type": "stream",
          "text": [
            "Model: \"sequential_1\"\n",
            "_________________________________________________________________\n",
            "Layer (type)                 Output Shape              Param #   \n",
            "=================================================================\n",
            "lstm_3 (LSTM)                (None, 60, 100)           42000     \n",
            "_________________________________________________________________\n",
            "dropout_3 (Dropout)          (None, 60, 100)           0         \n",
            "_________________________________________________________________\n",
            "lstm_4 (LSTM)                (None, 60, 80)            57920     \n",
            "_________________________________________________________________\n",
            "dropout_4 (Dropout)          (None, 60, 80)            0         \n",
            "_________________________________________________________________\n",
            "lstm_5 (LSTM)                (None, 50)                26200     \n",
            "_________________________________________________________________\n",
            "dropout_5 (Dropout)          (None, 50)                0         \n",
            "_________________________________________________________________\n",
            "dense_1 (Dense)              (None, 1)                 51        \n",
            "=================================================================\n",
            "Total params: 126,171\n",
            "Trainable params: 126,171\n",
            "Non-trainable params: 0\n",
            "_________________________________________________________________\n"
          ],
          "name": "stdout"
        }
      ]
    },
    {
      "cell_type": "code",
      "metadata": {
        "colab": {
          "base_uri": "https://localhost:8080/"
        },
        "id": "90uaYsDwu9FU",
        "outputId": "c457caad-350b-44ca-a84f-8224a818c20f"
      },
      "source": [
        "history = regressor.fit(X_train, y_train, epochs = 50, batch_size = 64)"
      ],
      "execution_count": null,
      "outputs": [
        {
          "output_type": "stream",
          "text": [
            "Epoch 1/50\n",
            "13/13 [==============================] - 7s 156ms/step - loss: 0.0580\n",
            "Epoch 2/50\n",
            "13/13 [==============================] - 2s 155ms/step - loss: 0.0064\n",
            "Epoch 3/50\n",
            "13/13 [==============================] - 2s 154ms/step - loss: 0.0041\n",
            "Epoch 4/50\n",
            "13/13 [==============================] - 2s 155ms/step - loss: 0.0034\n",
            "Epoch 5/50\n",
            "13/13 [==============================] - 2s 156ms/step - loss: 0.0038\n",
            "Epoch 6/50\n",
            "13/13 [==============================] - 2s 153ms/step - loss: 0.0033\n",
            "Epoch 7/50\n",
            "13/13 [==============================] - 2s 155ms/step - loss: 0.0031\n",
            "Epoch 8/50\n",
            "13/13 [==============================] - 2s 160ms/step - loss: 0.0031\n",
            "Epoch 9/50\n",
            "13/13 [==============================] - 2s 155ms/step - loss: 0.0029\n",
            "Epoch 10/50\n",
            "13/13 [==============================] - 2s 155ms/step - loss: 0.0026\n",
            "Epoch 11/50\n",
            "13/13 [==============================] - 2s 155ms/step - loss: 0.0034\n",
            "Epoch 12/50\n",
            "13/13 [==============================] - 2s 154ms/step - loss: 0.0028\n",
            "Epoch 13/50\n",
            "13/13 [==============================] - 2s 154ms/step - loss: 0.0029\n",
            "Epoch 14/50\n",
            "13/13 [==============================] - 2s 154ms/step - loss: 0.0039\n",
            "Epoch 15/50\n",
            "13/13 [==============================] - 2s 156ms/step - loss: 0.0033\n",
            "Epoch 16/50\n",
            "13/13 [==============================] - 2s 155ms/step - loss: 0.0029\n",
            "Epoch 17/50\n",
            "13/13 [==============================] - 2s 155ms/step - loss: 0.0024\n",
            "Epoch 18/50\n",
            "13/13 [==============================] - 2s 156ms/step - loss: 0.0024\n",
            "Epoch 19/50\n",
            "13/13 [==============================] - 2s 156ms/step - loss: 0.0025\n",
            "Epoch 20/50\n",
            "13/13 [==============================] - 2s 160ms/step - loss: 0.0022\n",
            "Epoch 21/50\n",
            "13/13 [==============================] - 2s 155ms/step - loss: 0.0022\n",
            "Epoch 22/50\n",
            "13/13 [==============================] - 2s 155ms/step - loss: 0.0028\n",
            "Epoch 23/50\n",
            "13/13 [==============================] - 2s 157ms/step - loss: 0.0027\n",
            "Epoch 24/50\n",
            "13/13 [==============================] - 2s 154ms/step - loss: 0.0024\n",
            "Epoch 25/50\n",
            "13/13 [==============================] - 2s 159ms/step - loss: 0.0028\n",
            "Epoch 26/50\n",
            "13/13 [==============================] - 2s 154ms/step - loss: 0.0022\n",
            "Epoch 27/50\n",
            "13/13 [==============================] - 2s 157ms/step - loss: 0.0019\n",
            "Epoch 28/50\n",
            "13/13 [==============================] - 2s 156ms/step - loss: 0.0020\n",
            "Epoch 29/50\n",
            "13/13 [==============================] - 2s 154ms/step - loss: 0.0023\n",
            "Epoch 30/50\n",
            "13/13 [==============================] - 2s 156ms/step - loss: 0.0020\n",
            "Epoch 31/50\n",
            "13/13 [==============================] - 2s 154ms/step - loss: 0.0021\n",
            "Epoch 32/50\n",
            "13/13 [==============================] - 2s 154ms/step - loss: 0.0026\n",
            "Epoch 33/50\n",
            "13/13 [==============================] - 2s 154ms/step - loss: 0.0021\n",
            "Epoch 34/50\n",
            "13/13 [==============================] - 2s 153ms/step - loss: 0.0023\n",
            "Epoch 35/50\n",
            "13/13 [==============================] - 2s 155ms/step - loss: 0.0018\n",
            "Epoch 36/50\n",
            "13/13 [==============================] - 2s 155ms/step - loss: 0.0019\n",
            "Epoch 37/50\n",
            "13/13 [==============================] - 2s 152ms/step - loss: 0.0018\n",
            "Epoch 38/50\n",
            "13/13 [==============================] - 2s 157ms/step - loss: 0.0016\n",
            "Epoch 39/50\n",
            "13/13 [==============================] - 2s 156ms/step - loss: 0.0019\n",
            "Epoch 40/50\n",
            "13/13 [==============================] - 2s 158ms/step - loss: 0.0018\n",
            "Epoch 41/50\n",
            "13/13 [==============================] - 2s 153ms/step - loss: 0.0018\n",
            "Epoch 42/50\n",
            "13/13 [==============================] - 2s 153ms/step - loss: 0.0018\n",
            "Epoch 43/50\n",
            "13/13 [==============================] - 2s 156ms/step - loss: 0.0018\n",
            "Epoch 44/50\n",
            "13/13 [==============================] - 2s 154ms/step - loss: 0.0018\n",
            "Epoch 45/50\n",
            "13/13 [==============================] - 2s 156ms/step - loss: 0.0016\n",
            "Epoch 46/50\n",
            "13/13 [==============================] - 2s 160ms/step - loss: 0.0017\n",
            "Epoch 47/50\n",
            "13/13 [==============================] - 2s 156ms/step - loss: 0.0018\n",
            "Epoch 48/50\n",
            "13/13 [==============================] - 2s 154ms/step - loss: 0.0017\n",
            "Epoch 49/50\n",
            "13/13 [==============================] - 2s 156ms/step - loss: 0.0016\n",
            "Epoch 50/50\n",
            "13/13 [==============================] - 2s 154ms/step - loss: 0.0017\n"
          ],
          "name": "stdout"
        }
      ]
    },
    {
      "cell_type": "code",
      "metadata": {
        "colab": {
          "base_uri": "https://localhost:8080/",
          "height": 265
        },
        "id": "amW1km16u_lf",
        "outputId": "d3deba25-c6cf-405f-8275-544a334004fb"
      },
      "source": [
        "plt.plot(history.history['loss'], label='treino')\n",
        "plt.legend();"
      ],
      "execution_count": null,
      "outputs": [
        {
          "output_type": "display_data",
          "data": {
            "image/png": "[encoded data removed]",
            "text/plain": [
              "<Figure size 432x288 with 1 Axes>"
            ]
          },
          "metadata": {
            "tags": [],
            "needs_background": "light"
          }
        }
      ]
    },
    {
      "cell_type": "code",
      "metadata": {
        "colab": {
          "base_uri": "https://localhost:8080/"
        },
        "id": "vPJyp8suvC7_",
        "outputId": "16dd5766-93aa-4382-af1e-090e1dd4442c"
      },
      "source": [
        "test_data = scaled_data[training_data_len - window:, :]\n",
        "\n",
        "X_test = []\n",
        "y_test = dataset[training_data_len:, 0:1]\n",
        "\n",
        "for i in range(window, len(test_data)): \n",
        "    X_test.append(test_data[i-window:i,:])\n",
        "X_test = np.array(X_test)\n",
        "\n",
        "X_test = np.reshape(X_test, (X_test.shape[0], X_test.shape[1], -1))\n",
        "print(X_test.shape, X_train.shape)"
      ],
      "execution_count": null,
      "outputs": [
        {
          "output_type": "stream",
          "text": [
            "(370, 60, 4) (805, 60, 4)\n"
          ],
          "name": "stdout"
        }
      ]
    },
    {
      "cell_type": "code",
      "metadata": {
        "colab": {
          "base_uri": "https://localhost:8080/"
        },
        "id": "L9MB4ux0vIPR",
        "outputId": "4c3968f2-6e13-40a4-db86-d80a455dfab3"
      },
      "source": [
        "predicted = regressor.predict(X_test)\n",
        "volume = dataset[training_data_len:, 1:]\n",
        "predicted = np.column_stack((predicted, volume))\n",
        "# print(dataset[:,1:])\n",
        "print(predicted.shape)\n",
        "predicted = sc.inverse_transform(predicted)\n",
        "print(predicted)"
      ],
      "execution_count": null,
      "outputs": [
        {
          "output_type": "stream",
          "text": [
            "(370, 4)\n",
            "[[1.67755769e+01 1.82024617e+16 5.79968518e+09 4.28545680e+13]\n",
            " [1.70321488e+01 1.31096968e+16 5.80582254e+09 3.04215071e+13]\n",
            " [1.73258268e+01 1.38093616e+16 5.87181911e+09 3.59437525e+13]\n",
            " ...\n",
            " [2.83960883e+01 5.96304985e+15 9.34181982e+09 4.18548416e+13]\n",
            " [2.84896393e+01 6.00741732e+15 9.28849650e+09 4.31473055e+13]\n",
            " [2.86822908e+01 5.31438597e+15 9.24306408e+09 4.05181909e+13]]\n"
          ],
          "name": "stdout"
        }
      ]
    },
    {
      "cell_type": "code",
      "metadata": {
        "colab": {
          "base_uri": "https://localhost:8080/",
          "height": 426
        },
        "id": "3G7e6HV4vMej",
        "outputId": "d905cc53-0c34-4e95-bc96-7195b641a497"
      },
      "source": [
        "allTargetData = np.vstack((dataset[:training_data_len, 0:1], dataset[training_data_len:, 0:1]))\n",
        "training_predicted = regressor.predict(X_train)\n",
        "volume = dataset[:len(X_train), 1:]\n",
        "training_predicted = np.column_stack((training_predicted, volume))\n",
        "training_predicted = sc.inverse_transform(training_predicted)\n",
        "allForecastedData = np.vstack((dataset[0:window, 0:1], training_predicted[:,0:1], predicted[:,0:1]))\n",
        "# date = df['DATA']\n",
        "date = df.index\n",
        "\n",
        "figure(figsize=(20, 6), dpi=80)\n",
        "plt.plot(date, allForecastedData, color = 'red', label = 'Previsto')\n",
        "plt.plot(date, allTargetData, color = 'blue', label = 'Real')\n",
        "plt.title('Previsão de série temporal')\n",
        "plt.xlabel('Tempo')\n",
        "plt.ylabel('Cotação (R$)')\n",
        "plt.legend()\n",
        "plt.show()"
      ],
      "execution_count": null,
      "outputs": [
        {
          "output_type": "display_data",
          "data": {
            "image/png": "[encoded data removed]",
            "text/plain": [
              "<Figure size 1600x480 with 1 Axes>"
            ]
          },
          "metadata": {
            "tags": [],
            "needs_background": "light"
          }
        }
      ]
    },
    {
      "cell_type": "code",
      "metadata": {
        "colab": {
          "base_uri": "https://localhost:8080/"
        },
        "id": "4CCLiPM8vO5U",
        "outputId": "50f90759-af2d-454e-d5d2-631db094c9da"
      },
      "source": [
        "rmse = math.sqrt(mean_squared_error(dataset[training_data_len:, 0:1], predicted[:,0:1]))\n",
        "print('RMSE: ', rmse)"
      ],
      "execution_count": null,
      "outputs": [
        {
          "output_type": "stream",
          "text": [
            "RMSE:  1.3884172406891426\n"
          ],
          "name": "stdout"
        }
      ]
    },
    {
      "cell_type": "code",
      "metadata": {
        "colab": {
          "base_uri": "https://localhost:8080/"
        },
        "id": "dWEFnqylvQiy",
        "outputId": "ebdcd19b-ecfb-4c00-9488-f2b82f53b4b9"
      },
      "source": [
        "mse = mean_squared_error(dataset[training_data_len:, 0:1], predicted[:,0:1])\n",
        "print('MSE: ',mse)"
      ],
      "execution_count": null,
      "outputs": [
        {
          "output_type": "stream",
          "text": [
            "MSE:  1.9277024342428526\n"
          ],
          "name": "stdout"
        }
      ]
    },
    {
      "cell_type": "code",
      "metadata": {
        "colab": {
          "base_uri": "https://localhost:8080/"
        },
        "id": "-PC8KlwwvRum",
        "outputId": "634c896f-3156-4cf0-f111-a18ea5500aff"
      },
      "source": [
        "mape = np.mean(np.abs((dataset[training_data_len:, 0:1]-predicted[:,0:1]) /dataset[training_data_len:, 0:1])) * 100\n",
        "print('MAPE: ',mape, '%')"
      ],
      "execution_count": null,
      "outputs": [
        {
          "output_type": "stream",
          "text": [
            "MAPE:  4.181302215289487 %\n"
          ],
          "name": "stdout"
        }
      ]
    },
    {
      "cell_type": "code",
      "metadata": {
        "colab": {
          "base_uri": "https://localhost:8080/"
        },
        "id": "Hi7q3c9OvTI_",
        "outputId": "c676c006-4a99-4ac9-8ff8-3ae63f9ade56"
      },
      "source": [
        "print('R2: ', r2_score(predicted[:,0:1], dataset[training_data_len:, 0:1]))"
      ],
      "execution_count": null,
      "outputs": [
        {
          "output_type": "stream",
          "text": [
            "R2:  0.7786037816945297\n"
          ],
          "name": "stdout"
        }
      ]
    },
    {
      "cell_type": "code",
      "metadata": {
        "id": "-5B0mpI-t-yK"
      },
      "source": [
        "scaled_data = scaled_data\n",
        "window = 60\n",
        "X_data = []\n",
        "y_data = []\n",
        "for i in range(window, len(scaled_data)):\n",
        "    X_data.append(scaled_data[i-window:i,:])\n",
        "    y_data.append(scaled_data[i, 0:1])\n",
        "X_data, y_data = np.array(X_data), np.array(y_data)\n",
        "history = regressor.fit(X_data, y_data, epochs = 50, batch_size = 64)"
      ],
      "execution_count": null,
      "outputs": []
    },
    {
      "cell_type": "code",
      "metadata": {
        "id": "E1LL5KM8vlrC"
      },
      "source": [
        "predicted = regressor.predict(X_data)\n",
        "print(predicted)\n",
        "volume = dataset[:len(X_data), 1:]\n",
        "predicted = np.column_stack((predicted, volume))\n",
        "predicted = sc.inverse_transform(predicted)\n",
        "allForecastedData = predicted[:,0:1]\n",
        "# date = df['DATA']\n",
        "date = df.index\n",
        "print(dataset.shape)\n",
        "print(predicted.shape)\n",
        "figure(figsize=(20, 6), dpi=80)\n",
        "plt.plot(dataset[window:, 0:1], color = 'red', label = 'Previsto')\n",
        "plt.plot(predicted[:,0:1], color = 'blue', label = 'Real')\n",
        "plt.title('Previsão de série temporal')\n",
        "plt.xlabel('Tempo')\n",
        "plt.ylabel('Cotação (R$)')\n",
        "plt.legend()\n",
        "plt.show()"
      ],
      "execution_count": null,
      "outputs": []
    },
    {
      "cell_type": "code",
      "metadata": {
        "id": "CtRI0NBrzz4D"
      },
      "source": [
        "from datetime import date, datetime, timedelta\n",
        "today = datetime.today()\n",
        "today_minus_100 = today - timedelta(days=100)\n",
        "df_new = web.DataReader(\"PETR4.SA\", data_source=\"yahoo\", start=today_minus_100, end=today)\n",
        "df_bovespa_new = web.DataReader(\"^BVSP\", data_source=\"yahoo\", start=today_minus_100, end=today)\n",
        "df_dolar_new = web.DataReader(\"USDBRL=X\", data_source=\"yahoo\", start=today_minus_100, end=today)\n",
        "df_new = df_new.merge(df_bovespa_new, left_on='Date', right_on='Date', suffixes=('', '_bovespa'))\n",
        "df_new = df_new.merge(df_dolar_new, left_on='Date', right_on='Date', suffixes=('', '_dolar'))\n",
        "df_new = df_new.filter([\"Close\", \"Volume\", \"Close_bovespa\", \"Volume_bovespa\"])\n",
        "\n",
        "print(df_new.tail())\n",
        "last_days = df_new.values\n",
        "scaled = sc.transform(last_days)\n",
        "x = []\n",
        "x.append(scaled)\n",
        "x = np.array(x)\n",
        "x = np.reshape(x, (x.shape[0], x.shape[1], -1))\n",
        "pred_price = regressor.predict(x)\n",
        "volume_new = last_days[0:1, 1:]\n",
        "pred_price = np.column_stack((pred_price, volume_new))\n",
        "pred_price = sc.inverse_transform(pred_price)\n",
        "print(pred_price[0][0])"
      ],
      "execution_count": null,
      "outputs": []
    }
  ]
}